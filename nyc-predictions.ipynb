{
 "cells": [
  {
   "cell_type": "markdown",
   "metadata": {},
   "source": [
    "# Fitting CHIME to NYC Data"
   ]
  },
  {
   "cell_type": "code",
   "execution_count": 1,
   "metadata": {},
   "outputs": [],
   "source": [
    "from os import environ\n",
    "from datetime import date, timedelta\n",
    "\n",
    "from pandas import DataFrame, date_range\n",
    "from numpy import array, linspace, log, sqrt, exp, arange\n",
    "\n",
    "import plotly.graph_objects as go\n",
    "from plotly.subplots import make_subplots\n",
    "\n",
    "from gvar import gvar, mean, sdev, fmt_values, fmt_errorbudget\n",
    "from lsqfit import nonlinear_fit\n",
    "\n",
    "from models import sir_step, sihr_step, one_minus_logistic_fcn, FitFcn\n",
    "from prepare_df import prepare_case_hosp_death, COMMIT_HASH_LAST\n",
    "import plotting\n",
    "from importlib import reload"
   ]
  },
  {
   "cell_type": "code",
   "execution_count": 2,
   "metadata": {},
   "outputs": [
    {
     "name": "stdout",
     "output_type": "stream",
     "text": [
      "e19db289166f73282d39dfcef0d47a324d654c07\n"
     ]
    }
   ],
   "source": [
    "print(COMMIT_HASH_LAST)\n",
    "#!pip show penn_chime"
   ]
  },
  {
   "cell_type": "code",
   "execution_count": 271,
   "metadata": {
    "scrolled": false
   },
   "outputs": [
    {
     "data": {
      "text/html": [
       "<div>\n",
       "<style scoped>\n",
       "    .dataframe tbody tr th:only-of-type {\n",
       "        vertical-align: middle;\n",
       "    }\n",
       "\n",
       "    .dataframe tbody tr th {\n",
       "        vertical-align: top;\n",
       "    }\n",
       "\n",
       "    .dataframe thead th {\n",
       "        text-align: right;\n",
       "    }\n",
       "</style>\n",
       "<table border=\"1\" class=\"dataframe\">\n",
       "  <thead>\n",
       "    <tr style=\"text-align: right;\">\n",
       "      <th></th>\n",
       "      <th>death_cummulative</th>\n",
       "      <th>death_new</th>\n",
       "      <th>hospitalized_cummulative</th>\n",
       "      <th>hospitalized_new</th>\n",
       "      <th>infected_cummulative</th>\n",
       "      <th>infected_new</th>\n",
       "    </tr>\n",
       "    <tr>\n",
       "      <th>date</th>\n",
       "      <th></th>\n",
       "      <th></th>\n",
       "      <th></th>\n",
       "      <th></th>\n",
       "      <th></th>\n",
       "      <th></th>\n",
       "    </tr>\n",
       "  </thead>\n",
       "  <tbody>\n",
       "    <tr>\n",
       "      <th>2020-03-28</th>\n",
       "      <td>1052</td>\n",
       "      <td>230</td>\n",
       "      <td>10800</td>\n",
       "      <td>1098</td>\n",
       "      <td>44582</td>\n",
       "      <td>2851</td>\n",
       "    </tr>\n",
       "    <tr>\n",
       "      <th>2020-03-29</th>\n",
       "      <td>1299</td>\n",
       "      <td>247</td>\n",
       "      <td>11984</td>\n",
       "      <td>1184</td>\n",
       "      <td>47538</td>\n",
       "      <td>2956</td>\n",
       "    </tr>\n",
       "    <tr>\n",
       "      <th>2020-03-30</th>\n",
       "      <td>1565</td>\n",
       "      <td>266</td>\n",
       "      <td>13368</td>\n",
       "      <td>1384</td>\n",
       "      <td>52437</td>\n",
       "      <td>4899</td>\n",
       "    </tr>\n",
       "    <tr>\n",
       "      <th>2020-03-31</th>\n",
       "      <td>1884</td>\n",
       "      <td>319</td>\n",
       "      <td>14594</td>\n",
       "      <td>1226</td>\n",
       "      <td>56423</td>\n",
       "      <td>3986</td>\n",
       "    </tr>\n",
       "    <tr>\n",
       "      <th>2020-04-01</th>\n",
       "      <td>2221</td>\n",
       "      <td>337</td>\n",
       "      <td>15751</td>\n",
       "      <td>1157</td>\n",
       "      <td>60512</td>\n",
       "      <td>4089</td>\n",
       "    </tr>\n",
       "  </tbody>\n",
       "</table>\n",
       "</div>"
      ],
      "text/plain": [
       "            death_cummulative  death_new  hospitalized_cummulative  \\\n",
       "date                                                                 \n",
       "2020-03-28               1052        230                     10800   \n",
       "2020-03-29               1299        247                     11984   \n",
       "2020-03-30               1565        266                     13368   \n",
       "2020-03-31               1884        319                     14594   \n",
       "2020-04-01               2221        337                     15751   \n",
       "\n",
       "            hospitalized_new  infected_cummulative  infected_new  \n",
       "date                                                              \n",
       "2020-03-28              1098                 44582          2851  \n",
       "2020-03-29              1184                 47538          2956  \n",
       "2020-03-30              1384                 52437          4899  \n",
       "2020-03-31              1226                 56423          3986  \n",
       "2020-04-01              1157                 60512          4089  "
      ]
     },
     "execution_count": 271,
     "metadata": {},
     "output_type": "execute_result"
    }
   ],
   "source": [
    "BIN_SIZE = 1\n",
    "\n",
    "chd_df = prepare_case_hosp_death(\n",
    "    COMMIT_HASH_LAST, bin_day_range=BIN_SIZE, drop_days_end=8\n",
    ").loc[\"2020-03-08\":\"2020-04-01\"]\n",
    "chd_df.tail()"
   ]
  },
  {
   "cell_type": "code",
   "execution_count": 272,
   "metadata": {},
   "outputs": [
    {
     "name": "stdout",
     "output_type": "stream",
     "text": [
      "{'initial_susceptible': 1800000, 'initial_hospitalized': 73, 'initial_recovered': 0, 'n_iter': 26}\n"
     ]
    }
   ],
   "source": [
    "X = {\n",
    "    \"initial_susceptible\": int(1.8e6),\n",
    "    \"initial_hospitalized\": chd_df.hospitalized_cummulative.iloc[0],\n",
    "    \"initial_recovered\": 0,\n",
    "    \"n_iter\": chd_df.shape[0] + 1,\n",
    "}\n",
    "print(X)\n",
    "\n",
    "\n",
    "infected_new = chd_df[\"infected_new\"].values\n",
    "hospitalized_new = chd_df[\"hospitalized_new\"].values\n",
    "\n",
    "infected_new *= 1\n",
    "\n",
    "delta_infected_new = [max(100, infected * 0.5) for infected in infected_new]\n",
    "delta_hospitalized_new = [\n",
    "    max(10, hospitalized * 0.05) for hospitalized in hospitalized_new\n",
    "]\n",
    "\n",
    "Y = gvar(\n",
    "    [infected_new, hospitalized_new], [delta_infected_new, delta_hospitalized_new],\n",
    ").T"
   ]
  },
  {
   "cell_type": "markdown",
   "metadata": {},
   "source": [
    "# Fits"
   ]
  },
  {
   "cell_type": "markdown",
   "metadata": {
    "heading_collapsed": true
   },
   "source": [
    "## Regular SIR, constant beta"
   ]
  },
  {
   "cell_type": "code",
   "execution_count": 99,
   "metadata": {
    "hidden": true
   },
   "outputs": [
    {
     "data": {
      "text/plain": [
       "1.925408834888737e-07"
      ]
     },
     "execution_count": 99,
     "metadata": {},
     "output_type": "execute_result"
    }
   ],
   "source": [
    "beta0 = log(2) / 2 / X[\"initial_susceptible\"]\n",
    "beta0"
   ]
  },
  {
   "cell_type": "code",
   "execution_count": 100,
   "metadata": {
    "hidden": true
   },
   "outputs": [],
   "source": [
    "fcn = FitFcn(\n",
    "    sir_step, columns=[\"infected_new\", \"hospitalized_new\"], as_array=True, drop_rows=[0]\n",
    ")\n",
    "prior = {\n",
    "    \"beta_i\": gvar(beta0, beta0 * 0.8),\n",
    "    \"gamma_i\": 1 / (gvar(14, 5) / BIN_SIZE),\n",
    "    \"initial_infected\": gvar(1.0e4, 2.0e4),\n",
    "    \"hospitalization_rate\": gvar(0.05, 0.1),\n",
    "}"
   ]
  },
  {
   "cell_type": "code",
   "execution_count": 101,
   "metadata": {
    "hidden": true
   },
   "outputs": [
    {
     "name": "stdout",
     "output_type": "stream",
     "text": [
      "Least Square Fit:\n",
      "  chi2/dof [dof] = 17 [50]    Q = 4e-147    logGBF = -735.48\n",
      "\n",
      "Parameters:\n",
      "              beta_i   1.31(14)e-07      [  1.9(1.5)e-07 ]  \n",
      "             gamma_i     0.095 (25)      [    0.071 (26) ]  \n",
      "    initial_infected     1075 (159)      [ 10000 (20000) ]  \n",
      "hospitalization_rate     0.321 (32)      [     0.05 (10) ]  **\n",
      "\n",
      "Settings:\n",
      "  svdcut/n = 1e-12/0    tol = (1e-08,1e-10,1e-10*)    (itns/time = 17/0.1)\n",
      "  fitter = scipy_least_squares    method = trf\n",
      "\n",
      "Values:\n",
      "                 bi: 1.31(14)e-07        \n",
      "                 gi: 0.095(25)           \n",
      "                 ii: 1075(159)           \n",
      "                 hr: 0.321(32)           \n",
      "                 dt: 2.95(32)            \n",
      "                  r: 10.5(2.8)           \n",
      "\n",
      "Partial % Errors:\n",
      "                             bi        gi        ii        hr        dt         r\n",
      "---------------------------------------------------------------------------------\n",
      "                   y:      0.87      0.88      9.44      9.37      0.87      0.88\n",
      "              beta_i:      1.01      2.46      1.02      0.01      1.01      2.46\n",
      "             gamma_i:     10.81     26.58     10.89      0.01     10.81     26.58\n",
      "    initial_infected:      0.06      0.16      0.12      0.05      0.06      0.16\n",
      "hospitalization_rate:      0.06      0.01      2.93      3.13      0.06      0.01\n",
      "---------------------------------------------------------------------------------\n",
      "               total:     10.89     26.71     14.75      9.88     10.89     26.71\n",
      "\n"
     ]
    }
   ],
   "source": [
    "fit = nonlinear_fit(data=(X, Y), fcn=fcn, prior=prior)\n",
    "print(fit)\n",
    "\n",
    "fit_res = FitFcn(sir_step, drop_rows=[0])(X, fit.p)\n",
    "\n",
    "outputs = dict(**fit.p)\n",
    "outputs.update(\n",
    "    {\n",
    "        \"doubling_time\": log(2) / (fit.p[\"beta_i\"] * X[\"initial_susceptible\"]),\n",
    "        \"recovery in days\": 1 / fit.p[\"gamma_i\"] * BIN_SIZE,\n",
    "    }\n",
    ")\n",
    "inputs = dict(y=Y, **prior)\n",
    "\n",
    "outputs = {\n",
    "    \"\".join([kk[0] for kk in key.split(\"_\")]): val for key, val in outputs.items()\n",
    "}\n",
    "\n",
    "print(fmt_values(outputs))\n",
    "print(fmt_errorbudget(outputs, inputs))"
   ]
  },
  {
   "cell_type": "code",
   "execution_count": 102,
   "metadata": {
    "hidden": true
   },
   "outputs": [
    {
     "data": {
      "text/plain": [
       "<module 'plotting' from '/Users/christopherkorber/gdrive/git/bochum/covid-19-analysis/plotting.py'>"
      ]
     },
     "execution_count": 102,
     "metadata": {},
     "output_type": "execute_result"
    }
   ],
   "source": [
    "reload(plotting)"
   ]
  },
  {
   "cell_type": "code",
   "execution_count": 103,
   "metadata": {
    "hidden": true,
    "scrolled": false
   },
   "outputs": [
    {
     "data": {
      "application/vnd.plotly.v1+json": {
       "config": {
        "plotlyServerURL": "https://plot.ly"
       },
       "data": [
        {
         "error_y": {
          "array": [
           100,
           100,
           100,
           100,
           179,
           309.5,
           320.5,
           513.5,
           1052.5,
           1193.5,
           1446.5,
           1786.5,
           1902,
           1119.5,
           1095.5,
           1621,
           1928.5,
           2037.5,
           2073,
           2117.5,
           1425.5,
           1478,
           2449.5,
           1993,
           2044.5
          ]
         },
         "line": {
          "color": "#1f77b4"
         },
         "mode": "markers+lines",
         "name": "Data",
         "type": "scatter",
         "x": [
          "2020-03-08T00:00:00",
          "2020-03-09T00:00:00",
          "2020-03-10T00:00:00",
          "2020-03-11T00:00:00",
          "2020-03-12T00:00:00",
          "2020-03-13T00:00:00",
          "2020-03-14T00:00:00",
          "2020-03-15T00:00:00",
          "2020-03-16T00:00:00",
          "2020-03-17T00:00:00",
          "2020-03-18T00:00:00",
          "2020-03-19T00:00:00",
          "2020-03-20T00:00:00",
          "2020-03-21T00:00:00",
          "2020-03-22T00:00:00",
          "2020-03-23T00:00:00",
          "2020-03-24T00:00:00",
          "2020-03-25T00:00:00",
          "2020-03-26T00:00:00",
          "2020-03-27T00:00:00",
          "2020-03-28T00:00:00",
          "2020-03-29T00:00:00",
          "2020-03-30T00:00:00",
          "2020-03-31T00:00:00",
          "2020-04-01T00:00:00"
         ],
         "y": [
          20,
          53,
          73,
          156,
          358,
          619,
          641,
          1027,
          2105,
          2387,
          2893,
          3573,
          3804,
          2239,
          2191,
          3242,
          3857,
          4075,
          4146,
          4235,
          2851,
          2956,
          4899,
          3986,
          4089
         ]
        },
        {
         "line": {
          "color": "#bcbd22",
          "shape": "spline"
         },
         "mode": "lines",
         "showlegend": false,
         "type": "scatter",
         "x": [
          "2020-03-08T00:00:00",
          "2020-03-09T00:00:00",
          "2020-03-10T00:00:00",
          "2020-03-11T00:00:00",
          "2020-03-12T00:00:00",
          "2020-03-13T00:00:00",
          "2020-03-14T00:00:00",
          "2020-03-15T00:00:00",
          "2020-03-16T00:00:00",
          "2020-03-17T00:00:00",
          "2020-03-18T00:00:00",
          "2020-03-19T00:00:00",
          "2020-03-20T00:00:00",
          "2020-03-21T00:00:00",
          "2020-03-22T00:00:00",
          "2020-03-23T00:00:00",
          "2020-03-24T00:00:00",
          "2020-03-25T00:00:00",
          "2020-03-26T00:00:00",
          "2020-03-27T00:00:00",
          "2020-03-28T00:00:00",
          "2020-03-29T00:00:00",
          "2020-03-30T00:00:00",
          "2020-03-31T00:00:00",
          "2020-04-01T00:00:00"
         ],
         "y": [
          228.1122618909166,
          260.06938917453135,
          296.4814064288767,
          337.9641715134195,
          385.217349030289,
          439.0354457895801,
          500.3201920680416,
          570.0944002740715,
          649.5174349609804,
          739.9024263078726,
          842.7353514346083,
          959.6960919107822,
          1092.6815485534275,
          1243.8308522350594,
          1415.552647061586,
          1610.5543338045222,
          1831.873039290734,
          2082.9079122771573,
          2367.4531269849936,
          2689.7306887350096,
          3054.4217668067045,
          3466.6948107964977,
          3932.2281203627963,
          4457.223816525761,
          5048.40929025213
         ]
        },
        {
         "fill": "tonexty",
         "fillcolor": "rgba(188,189,34,0.5)",
         "line": {
          "color": "#bcbd22",
          "shape": "spline"
         },
         "mode": "lines",
         "name": "Fit",
         "showlegend": true,
         "type": "scatter",
         "x": [
          "2020-03-08T00:00:00",
          "2020-03-09T00:00:00",
          "2020-03-10T00:00:00",
          "2020-03-11T00:00:00",
          "2020-03-12T00:00:00",
          "2020-03-13T00:00:00",
          "2020-03-14T00:00:00",
          "2020-03-15T00:00:00",
          "2020-03-16T00:00:00",
          "2020-03-17T00:00:00",
          "2020-03-18T00:00:00",
          "2020-03-19T00:00:00",
          "2020-03-20T00:00:00",
          "2020-03-21T00:00:00",
          "2020-03-22T00:00:00",
          "2020-03-23T00:00:00",
          "2020-03-24T00:00:00",
          "2020-03-25T00:00:00",
          "2020-03-26T00:00:00",
          "2020-03-27T00:00:00",
          "2020-03-28T00:00:00",
          "2020-03-29T00:00:00",
          "2020-03-30T00:00:00",
          "2020-03-31T00:00:00",
          "2020-04-01T00:00:00"
         ],
         "y": [
          277.7830396428817,
          316.65387163676724,
          360.954081698823,
          411.43759376934656,
          468.96147310046507,
          534.4995401585687,
          609.1576267258293,
          694.1906236188032,
          791.0214666675188,
          901.2621977335549,
          1026.737217812231,
          1169.5088160702703,
          1331.9050074212378,
          1516.5496361231608,
          1726.394596628787,
          1964.7538765666377,
          2235.338929401745,
          2542.2946230650723,
          2890.2346705949735,
          3284.2750126571336,
          3730.0630714679132,
          4233.800112833872,
          4802.253121483059,
          5442.751603827602,
          6163.1635816855505
         ]
        },
        {
         "error_y": {
          "array": [
           10,
           10,
           10,
           10,
           10,
           10,
           10,
           10,
           15.200000000000001,
           17.1,
           21.1,
           25.3,
           28.5,
           31.3,
           33.2,
           46.95,
           49.050000000000004,
           57.75,
           61.95,
           60.45,
           54.900000000000006,
           59.2,
           69.2,
           61.300000000000004,
           57.85
          ]
         },
         "line": {
          "color": "#1f77b4"
         },
         "mode": "markers+lines",
         "name": "Data",
         "showlegend": false,
         "type": "scatter",
         "x": [
          "2020-03-08T00:00:00",
          "2020-03-09T00:00:00",
          "2020-03-10T00:00:00",
          "2020-03-11T00:00:00",
          "2020-03-12T00:00:00",
          "2020-03-13T00:00:00",
          "2020-03-14T00:00:00",
          "2020-03-15T00:00:00",
          "2020-03-16T00:00:00",
          "2020-03-17T00:00:00",
          "2020-03-18T00:00:00",
          "2020-03-19T00:00:00",
          "2020-03-20T00:00:00",
          "2020-03-21T00:00:00",
          "2020-03-22T00:00:00",
          "2020-03-23T00:00:00",
          "2020-03-24T00:00:00",
          "2020-03-25T00:00:00",
          "2020-03-26T00:00:00",
          "2020-03-27T00:00:00",
          "2020-03-28T00:00:00",
          "2020-03-29T00:00:00",
          "2020-03-30T00:00:00",
          "2020-03-31T00:00:00",
          "2020-04-01T00:00:00"
         ],
         "xaxis": "x2",
         "y": [
          14,
          29,
          43,
          66,
          69,
          129,
          151,
          185,
          304,
          342,
          422,
          506,
          570,
          626,
          664,
          939,
          981,
          1155,
          1239,
          1209,
          1098,
          1184,
          1384,
          1226,
          1157
         ],
         "yaxis": "y2"
        },
        {
         "line": {
          "color": "#bcbd22",
          "shape": "spline"
         },
         "mode": "lines",
         "showlegend": false,
         "type": "scatter",
         "x": [
          "2020-03-08T00:00:00",
          "2020-03-09T00:00:00",
          "2020-03-10T00:00:00",
          "2020-03-11T00:00:00",
          "2020-03-12T00:00:00",
          "2020-03-13T00:00:00",
          "2020-03-14T00:00:00",
          "2020-03-15T00:00:00",
          "2020-03-16T00:00:00",
          "2020-03-17T00:00:00",
          "2020-03-18T00:00:00",
          "2020-03-19T00:00:00",
          "2020-03-20T00:00:00",
          "2020-03-21T00:00:00",
          "2020-03-22T00:00:00",
          "2020-03-23T00:00:00",
          "2020-03-24T00:00:00",
          "2020-03-25T00:00:00",
          "2020-03-26T00:00:00",
          "2020-03-27T00:00:00",
          "2020-03-28T00:00:00",
          "2020-03-29T00:00:00",
          "2020-03-30T00:00:00",
          "2020-03-31T00:00:00",
          "2020-04-01T00:00:00"
         ],
         "xaxis": "x2",
         "y": [
          78.85148422776376,
          90.02764421356329,
          102.7801877892287,
          117.32906478078324,
          133.92412488956077,
          152.84890672985918,
          174.42480552164136,
          199.01561948978707,
          227.03246251546875,
          258.93902151898845,
          295.25714341175194,
          336.5727796937757,
          383.54242265819653,
          436.90033830952456,
          497.4670596032024,
          566.1595538088603,
          644.0030256404505,
          732.1435775080611,
          831.8604420659068,
          944.5766444057008,
          1071.8674912752738,
          1215.46660825939,
          1377.2690766373275,
          1559.3307295943005,
          1763.8621023025603
         ],
         "yaxis": "y2"
        },
        {
         "fill": "tonexty",
         "fillcolor": "rgba(188,189,34,0.5)",
         "line": {
          "color": "#bcbd22",
          "shape": "spline"
         },
         "mode": "lines",
         "name": "Fit",
         "showlegend": false,
         "type": "scatter",
         "x": [
          "2020-03-08T00:00:00",
          "2020-03-09T00:00:00",
          "2020-03-10T00:00:00",
          "2020-03-11T00:00:00",
          "2020-03-12T00:00:00",
          "2020-03-13T00:00:00",
          "2020-03-14T00:00:00",
          "2020-03-15T00:00:00",
          "2020-03-16T00:00:00",
          "2020-03-17T00:00:00",
          "2020-03-18T00:00:00",
          "2020-03-19T00:00:00",
          "2020-03-20T00:00:00",
          "2020-03-21T00:00:00",
          "2020-03-22T00:00:00",
          "2020-03-23T00:00:00",
          "2020-03-24T00:00:00",
          "2020-03-25T00:00:00",
          "2020-03-26T00:00:00",
          "2020-03-27T00:00:00",
          "2020-03-28T00:00:00",
          "2020-03-29T00:00:00",
          "2020-03-30T00:00:00",
          "2020-03-31T00:00:00",
          "2020-04-01T00:00:00"
         ],
         "xaxis": "x2",
         "y": [
          83.33827040371716,
          94.86951509520503,
          107.99326707816292,
          122.92872781603172,
          139.92513434009575,
          159.2658727855294,
          181.27317122113453,
          206.31346181962277,
          234.80351477838252,
          267.2174517198968,
          304.0947311305579,
          346.0491393843172,
          393.7786898409007,
          448.07612369550264,
          509.839493697835,
          580.0822863780594,
          659.942888141444,
          750.6938041669341,
          853.7513658181309,
          970.6862883359806,
          1103.2346057092107,
          1253.307816839978,
          1423.0007917587673,
          1614.595929571422,
          1830.5619763939976
         ],
         "yaxis": "y2"
        }
       ],
       "layout": {
        "annotations": [
         {
          "font": {
           "size": 16
          },
          "showarrow": false,
          "text": "New infections",
          "x": 0.225,
          "xanchor": "center",
          "xref": "paper",
          "y": 1,
          "yanchor": "bottom",
          "yref": "paper"
         },
         {
          "font": {
           "size": 16
          },
          "showarrow": false,
          "text": "New hospitalizations",
          "x": 0.775,
          "xanchor": "center",
          "xref": "paper",
          "y": 1,
          "yanchor": "bottom",
          "yref": "paper"
         }
        ],
        "template": {
         "data": {
          "bar": [
           {
            "error_x": {
             "color": "#2a3f5f"
            },
            "error_y": {
             "color": "#2a3f5f"
            },
            "marker": {
             "line": {
              "color": "#E5ECF6",
              "width": 0.5
             }
            },
            "type": "bar"
           }
          ],
          "barpolar": [
           {
            "marker": {
             "line": {
              "color": "#E5ECF6",
              "width": 0.5
             }
            },
            "type": "barpolar"
           }
          ],
          "carpet": [
           {
            "aaxis": {
             "endlinecolor": "#2a3f5f",
             "gridcolor": "white",
             "linecolor": "white",
             "minorgridcolor": "white",
             "startlinecolor": "#2a3f5f"
            },
            "baxis": {
             "endlinecolor": "#2a3f5f",
             "gridcolor": "white",
             "linecolor": "white",
             "minorgridcolor": "white",
             "startlinecolor": "#2a3f5f"
            },
            "type": "carpet"
           }
          ],
          "choropleth": [
           {
            "colorbar": {
             "outlinewidth": 0,
             "ticks": ""
            },
            "type": "choropleth"
           }
          ],
          "contour": [
           {
            "colorbar": {
             "outlinewidth": 0,
             "ticks": ""
            },
            "colorscale": [
             [
              0,
              "#0d0887"
             ],
             [
              0.1111111111111111,
              "#46039f"
             ],
             [
              0.2222222222222222,
              "#7201a8"
             ],
             [
              0.3333333333333333,
              "#9c179e"
             ],
             [
              0.4444444444444444,
              "#bd3786"
             ],
             [
              0.5555555555555556,
              "#d8576b"
             ],
             [
              0.6666666666666666,
              "#ed7953"
             ],
             [
              0.7777777777777778,
              "#fb9f3a"
             ],
             [
              0.8888888888888888,
              "#fdca26"
             ],
             [
              1,
              "#f0f921"
             ]
            ],
            "type": "contour"
           }
          ],
          "contourcarpet": [
           {
            "colorbar": {
             "outlinewidth": 0,
             "ticks": ""
            },
            "type": "contourcarpet"
           }
          ],
          "heatmap": [
           {
            "colorbar": {
             "outlinewidth": 0,
             "ticks": ""
            },
            "colorscale": [
             [
              0,
              "#0d0887"
             ],
             [
              0.1111111111111111,
              "#46039f"
             ],
             [
              0.2222222222222222,
              "#7201a8"
             ],
             [
              0.3333333333333333,
              "#9c179e"
             ],
             [
              0.4444444444444444,
              "#bd3786"
             ],
             [
              0.5555555555555556,
              "#d8576b"
             ],
             [
              0.6666666666666666,
              "#ed7953"
             ],
             [
              0.7777777777777778,
              "#fb9f3a"
             ],
             [
              0.8888888888888888,
              "#fdca26"
             ],
             [
              1,
              "#f0f921"
             ]
            ],
            "type": "heatmap"
           }
          ],
          "heatmapgl": [
           {
            "colorbar": {
             "outlinewidth": 0,
             "ticks": ""
            },
            "colorscale": [
             [
              0,
              "#0d0887"
             ],
             [
              0.1111111111111111,
              "#46039f"
             ],
             [
              0.2222222222222222,
              "#7201a8"
             ],
             [
              0.3333333333333333,
              "#9c179e"
             ],
             [
              0.4444444444444444,
              "#bd3786"
             ],
             [
              0.5555555555555556,
              "#d8576b"
             ],
             [
              0.6666666666666666,
              "#ed7953"
             ],
             [
              0.7777777777777778,
              "#fb9f3a"
             ],
             [
              0.8888888888888888,
              "#fdca26"
             ],
             [
              1,
              "#f0f921"
             ]
            ],
            "type": "heatmapgl"
           }
          ],
          "histogram": [
           {
            "marker": {
             "colorbar": {
              "outlinewidth": 0,
              "ticks": ""
             }
            },
            "type": "histogram"
           }
          ],
          "histogram2d": [
           {
            "colorbar": {
             "outlinewidth": 0,
             "ticks": ""
            },
            "colorscale": [
             [
              0,
              "#0d0887"
             ],
             [
              0.1111111111111111,
              "#46039f"
             ],
             [
              0.2222222222222222,
              "#7201a8"
             ],
             [
              0.3333333333333333,
              "#9c179e"
             ],
             [
              0.4444444444444444,
              "#bd3786"
             ],
             [
              0.5555555555555556,
              "#d8576b"
             ],
             [
              0.6666666666666666,
              "#ed7953"
             ],
             [
              0.7777777777777778,
              "#fb9f3a"
             ],
             [
              0.8888888888888888,
              "#fdca26"
             ],
             [
              1,
              "#f0f921"
             ]
            ],
            "type": "histogram2d"
           }
          ],
          "histogram2dcontour": [
           {
            "colorbar": {
             "outlinewidth": 0,
             "ticks": ""
            },
            "colorscale": [
             [
              0,
              "#0d0887"
             ],
             [
              0.1111111111111111,
              "#46039f"
             ],
             [
              0.2222222222222222,
              "#7201a8"
             ],
             [
              0.3333333333333333,
              "#9c179e"
             ],
             [
              0.4444444444444444,
              "#bd3786"
             ],
             [
              0.5555555555555556,
              "#d8576b"
             ],
             [
              0.6666666666666666,
              "#ed7953"
             ],
             [
              0.7777777777777778,
              "#fb9f3a"
             ],
             [
              0.8888888888888888,
              "#fdca26"
             ],
             [
              1,
              "#f0f921"
             ]
            ],
            "type": "histogram2dcontour"
           }
          ],
          "mesh3d": [
           {
            "colorbar": {
             "outlinewidth": 0,
             "ticks": ""
            },
            "type": "mesh3d"
           }
          ],
          "parcoords": [
           {
            "line": {
             "colorbar": {
              "outlinewidth": 0,
              "ticks": ""
             }
            },
            "type": "parcoords"
           }
          ],
          "pie": [
           {
            "automargin": true,
            "type": "pie"
           }
          ],
          "scatter": [
           {
            "marker": {
             "colorbar": {
              "outlinewidth": 0,
              "ticks": ""
             }
            },
            "type": "scatter"
           }
          ],
          "scatter3d": [
           {
            "line": {
             "colorbar": {
              "outlinewidth": 0,
              "ticks": ""
             }
            },
            "marker": {
             "colorbar": {
              "outlinewidth": 0,
              "ticks": ""
             }
            },
            "type": "scatter3d"
           }
          ],
          "scattercarpet": [
           {
            "marker": {
             "colorbar": {
              "outlinewidth": 0,
              "ticks": ""
             }
            },
            "type": "scattercarpet"
           }
          ],
          "scattergeo": [
           {
            "marker": {
             "colorbar": {
              "outlinewidth": 0,
              "ticks": ""
             }
            },
            "type": "scattergeo"
           }
          ],
          "scattergl": [
           {
            "marker": {
             "colorbar": {
              "outlinewidth": 0,
              "ticks": ""
             }
            },
            "type": "scattergl"
           }
          ],
          "scattermapbox": [
           {
            "marker": {
             "colorbar": {
              "outlinewidth": 0,
              "ticks": ""
             }
            },
            "type": "scattermapbox"
           }
          ],
          "scatterpolar": [
           {
            "marker": {
             "colorbar": {
              "outlinewidth": 0,
              "ticks": ""
             }
            },
            "type": "scatterpolar"
           }
          ],
          "scatterpolargl": [
           {
            "marker": {
             "colorbar": {
              "outlinewidth": 0,
              "ticks": ""
             }
            },
            "type": "scatterpolargl"
           }
          ],
          "scatterternary": [
           {
            "marker": {
             "colorbar": {
              "outlinewidth": 0,
              "ticks": ""
             }
            },
            "type": "scatterternary"
           }
          ],
          "surface": [
           {
            "colorbar": {
             "outlinewidth": 0,
             "ticks": ""
            },
            "colorscale": [
             [
              0,
              "#0d0887"
             ],
             [
              0.1111111111111111,
              "#46039f"
             ],
             [
              0.2222222222222222,
              "#7201a8"
             ],
             [
              0.3333333333333333,
              "#9c179e"
             ],
             [
              0.4444444444444444,
              "#bd3786"
             ],
             [
              0.5555555555555556,
              "#d8576b"
             ],
             [
              0.6666666666666666,
              "#ed7953"
             ],
             [
              0.7777777777777778,
              "#fb9f3a"
             ],
             [
              0.8888888888888888,
              "#fdca26"
             ],
             [
              1,
              "#f0f921"
             ]
            ],
            "type": "surface"
           }
          ],
          "table": [
           {
            "cells": {
             "fill": {
              "color": "#EBF0F8"
             },
             "line": {
              "color": "white"
             }
            },
            "header": {
             "fill": {
              "color": "#C8D4E3"
             },
             "line": {
              "color": "white"
             }
            },
            "type": "table"
           }
          ]
         },
         "layout": {
          "annotationdefaults": {
           "arrowcolor": "#2a3f5f",
           "arrowhead": 0,
           "arrowwidth": 1
          },
          "coloraxis": {
           "colorbar": {
            "outlinewidth": 0,
            "ticks": ""
           }
          },
          "colorscale": {
           "diverging": [
            [
             0,
             "#8e0152"
            ],
            [
             0.1,
             "#c51b7d"
            ],
            [
             0.2,
             "#de77ae"
            ],
            [
             0.3,
             "#f1b6da"
            ],
            [
             0.4,
             "#fde0ef"
            ],
            [
             0.5,
             "#f7f7f7"
            ],
            [
             0.6,
             "#e6f5d0"
            ],
            [
             0.7,
             "#b8e186"
            ],
            [
             0.8,
             "#7fbc41"
            ],
            [
             0.9,
             "#4d9221"
            ],
            [
             1,
             "#276419"
            ]
           ],
           "sequential": [
            [
             0,
             "#0d0887"
            ],
            [
             0.1111111111111111,
             "#46039f"
            ],
            [
             0.2222222222222222,
             "#7201a8"
            ],
            [
             0.3333333333333333,
             "#9c179e"
            ],
            [
             0.4444444444444444,
             "#bd3786"
            ],
            [
             0.5555555555555556,
             "#d8576b"
            ],
            [
             0.6666666666666666,
             "#ed7953"
            ],
            [
             0.7777777777777778,
             "#fb9f3a"
            ],
            [
             0.8888888888888888,
             "#fdca26"
            ],
            [
             1,
             "#f0f921"
            ]
           ],
           "sequentialminus": [
            [
             0,
             "#0d0887"
            ],
            [
             0.1111111111111111,
             "#46039f"
            ],
            [
             0.2222222222222222,
             "#7201a8"
            ],
            [
             0.3333333333333333,
             "#9c179e"
            ],
            [
             0.4444444444444444,
             "#bd3786"
            ],
            [
             0.5555555555555556,
             "#d8576b"
            ],
            [
             0.6666666666666666,
             "#ed7953"
            ],
            [
             0.7777777777777778,
             "#fb9f3a"
            ],
            [
             0.8888888888888888,
             "#fdca26"
            ],
            [
             1,
             "#f0f921"
            ]
           ]
          },
          "colorway": [
           "#636efa",
           "#EF553B",
           "#00cc96",
           "#ab63fa",
           "#FFA15A",
           "#19d3f3",
           "#FF6692",
           "#B6E880",
           "#FF97FF",
           "#FECB52"
          ],
          "font": {
           "color": "#2a3f5f"
          },
          "geo": {
           "bgcolor": "white",
           "lakecolor": "white",
           "landcolor": "#E5ECF6",
           "showlakes": true,
           "showland": true,
           "subunitcolor": "white"
          },
          "hoverlabel": {
           "align": "left"
          },
          "hovermode": "closest",
          "mapbox": {
           "style": "light"
          },
          "paper_bgcolor": "white",
          "plot_bgcolor": "#E5ECF6",
          "polar": {
           "angularaxis": {
            "gridcolor": "white",
            "linecolor": "white",
            "ticks": ""
           },
           "bgcolor": "#E5ECF6",
           "radialaxis": {
            "gridcolor": "white",
            "linecolor": "white",
            "ticks": ""
           }
          },
          "scene": {
           "xaxis": {
            "backgroundcolor": "#E5ECF6",
            "gridcolor": "white",
            "gridwidth": 2,
            "linecolor": "white",
            "showbackground": true,
            "ticks": "",
            "zerolinecolor": "white"
           },
           "yaxis": {
            "backgroundcolor": "#E5ECF6",
            "gridcolor": "white",
            "gridwidth": 2,
            "linecolor": "white",
            "showbackground": true,
            "ticks": "",
            "zerolinecolor": "white"
           },
           "zaxis": {
            "backgroundcolor": "#E5ECF6",
            "gridcolor": "white",
            "gridwidth": 2,
            "linecolor": "white",
            "showbackground": true,
            "ticks": "",
            "zerolinecolor": "white"
           }
          },
          "shapedefaults": {
           "line": {
            "color": "#2a3f5f"
           }
          },
          "ternary": {
           "aaxis": {
            "gridcolor": "white",
            "linecolor": "white",
            "ticks": ""
           },
           "baxis": {
            "gridcolor": "white",
            "linecolor": "white",
            "ticks": ""
           },
           "bgcolor": "#E5ECF6",
           "caxis": {
            "gridcolor": "white",
            "linecolor": "white",
            "ticks": ""
           }
          },
          "title": {
           "x": 0.05
          },
          "xaxis": {
           "automargin": true,
           "gridcolor": "white",
           "linecolor": "white",
           "ticks": "",
           "title": {
            "standoff": 15
           },
           "zerolinecolor": "white",
           "zerolinewidth": 2
          },
          "yaxis": {
           "automargin": true,
           "gridcolor": "white",
           "linecolor": "white",
           "ticks": "",
           "title": {
            "standoff": 15
           },
           "zerolinecolor": "white",
           "zerolinewidth": 2
          }
         }
        },
        "xaxis": {
         "anchor": "y",
         "domain": [
          0,
          0.45
         ]
        },
        "xaxis2": {
         "anchor": "y2",
         "domain": [
          0.55,
          1
         ]
        },
        "yaxis": {
         "anchor": "x",
         "domain": [
          0,
          1
         ]
        },
        "yaxis2": {
         "anchor": "x2",
         "domain": [
          0,
          1
         ]
        }
       }
      },
      "text/html": [
       "<div>\n",
       "        \n",
       "        \n",
       "            <div id=\"88adf226-33c5-45b4-b36e-417cc57dc962\" class=\"plotly-graph-div\" style=\"height:525px; width:100%;\"></div>\n",
       "            <script type=\"text/javascript\">\n",
       "                require([\"plotly\"], function(Plotly) {\n",
       "                    window.PLOTLYENV=window.PLOTLYENV || {};\n",
       "                    \n",
       "                if (document.getElementById(\"88adf226-33c5-45b4-b36e-417cc57dc962\")) {\n",
       "                    Plotly.newPlot(\n",
       "                        '88adf226-33c5-45b4-b36e-417cc57dc962',\n",
       "                        [{\"error_y\": {\"array\": [100.0, 100.0, 100.0, 100.0, 179.0, 309.5, 320.5, 513.5, 1052.5, 1193.5, 1446.5, 1786.5, 1902.0, 1119.5, 1095.5, 1621.0, 1928.5, 2037.5, 2073.0, 2117.5, 1425.5, 1478.0, 2449.5, 1993.0, 2044.5]}, \"line\": {\"color\": \"#1f77b4\"}, \"mode\": \"markers+lines\", \"name\": \"Data\", \"type\": \"scatter\", \"x\": [\"2020-03-08T00:00:00\", \"2020-03-09T00:00:00\", \"2020-03-10T00:00:00\", \"2020-03-11T00:00:00\", \"2020-03-12T00:00:00\", \"2020-03-13T00:00:00\", \"2020-03-14T00:00:00\", \"2020-03-15T00:00:00\", \"2020-03-16T00:00:00\", \"2020-03-17T00:00:00\", \"2020-03-18T00:00:00\", \"2020-03-19T00:00:00\", \"2020-03-20T00:00:00\", \"2020-03-21T00:00:00\", \"2020-03-22T00:00:00\", \"2020-03-23T00:00:00\", \"2020-03-24T00:00:00\", \"2020-03-25T00:00:00\", \"2020-03-26T00:00:00\", \"2020-03-27T00:00:00\", \"2020-03-28T00:00:00\", \"2020-03-29T00:00:00\", \"2020-03-30T00:00:00\", \"2020-03-31T00:00:00\", \"2020-04-01T00:00:00\"], \"y\": [20, 53, 73, 156, 358, 619, 641, 1027, 2105, 2387, 2893, 3573, 3804, 2239, 2191, 3242, 3857, 4075, 4146, 4235, 2851, 2956, 4899, 3986, 4089]}, {\"line\": {\"color\": \"#bcbd22\", \"shape\": \"spline\"}, \"mode\": \"lines\", \"showlegend\": false, \"type\": \"scatter\", \"x\": [\"2020-03-08T00:00:00\", \"2020-03-09T00:00:00\", \"2020-03-10T00:00:00\", \"2020-03-11T00:00:00\", \"2020-03-12T00:00:00\", \"2020-03-13T00:00:00\", \"2020-03-14T00:00:00\", \"2020-03-15T00:00:00\", \"2020-03-16T00:00:00\", \"2020-03-17T00:00:00\", \"2020-03-18T00:00:00\", \"2020-03-19T00:00:00\", \"2020-03-20T00:00:00\", \"2020-03-21T00:00:00\", \"2020-03-22T00:00:00\", \"2020-03-23T00:00:00\", \"2020-03-24T00:00:00\", \"2020-03-25T00:00:00\", \"2020-03-26T00:00:00\", \"2020-03-27T00:00:00\", \"2020-03-28T00:00:00\", \"2020-03-29T00:00:00\", \"2020-03-30T00:00:00\", \"2020-03-31T00:00:00\", \"2020-04-01T00:00:00\"], \"y\": [228.1122618909166, 260.06938917453135, 296.4814064288767, 337.9641715134195, 385.217349030289, 439.0354457895801, 500.3201920680416, 570.0944002740715, 649.5174349609804, 739.9024263078726, 842.7353514346083, 959.6960919107822, 1092.6815485534275, 1243.8308522350594, 1415.552647061586, 1610.5543338045222, 1831.873039290734, 2082.9079122771573, 2367.4531269849936, 2689.7306887350096, 3054.4217668067045, 3466.6948107964977, 3932.2281203627963, 4457.223816525761, 5048.40929025213]}, {\"fill\": \"tonexty\", \"fillcolor\": \"rgba(188,189,34,0.5)\", \"line\": {\"color\": \"#bcbd22\", \"shape\": \"spline\"}, \"mode\": \"lines\", \"name\": \"Fit\", \"showlegend\": true, \"type\": \"scatter\", \"x\": [\"2020-03-08T00:00:00\", \"2020-03-09T00:00:00\", \"2020-03-10T00:00:00\", \"2020-03-11T00:00:00\", \"2020-03-12T00:00:00\", \"2020-03-13T00:00:00\", \"2020-03-14T00:00:00\", \"2020-03-15T00:00:00\", \"2020-03-16T00:00:00\", \"2020-03-17T00:00:00\", \"2020-03-18T00:00:00\", \"2020-03-19T00:00:00\", \"2020-03-20T00:00:00\", \"2020-03-21T00:00:00\", \"2020-03-22T00:00:00\", \"2020-03-23T00:00:00\", \"2020-03-24T00:00:00\", \"2020-03-25T00:00:00\", \"2020-03-26T00:00:00\", \"2020-03-27T00:00:00\", \"2020-03-28T00:00:00\", \"2020-03-29T00:00:00\", \"2020-03-30T00:00:00\", \"2020-03-31T00:00:00\", \"2020-04-01T00:00:00\"], \"y\": [277.7830396428817, 316.65387163676724, 360.954081698823, 411.43759376934656, 468.96147310046507, 534.4995401585687, 609.1576267258293, 694.1906236188032, 791.0214666675188, 901.2621977335549, 1026.737217812231, 1169.5088160702703, 1331.9050074212378, 1516.5496361231608, 1726.394596628787, 1964.7538765666377, 2235.338929401745, 2542.2946230650723, 2890.2346705949735, 3284.2750126571336, 3730.0630714679132, 4233.800112833872, 4802.253121483059, 5442.751603827602, 6163.1635816855505]}, {\"error_y\": {\"array\": [10.0, 10.0, 10.0, 10.0, 10.0, 10.0, 10.0, 10.0, 15.200000000000001, 17.1, 21.1, 25.3, 28.5, 31.3, 33.2, 46.95, 49.050000000000004, 57.75, 61.95, 60.45, 54.900000000000006, 59.2, 69.2, 61.300000000000004, 57.85]}, \"line\": {\"color\": \"#1f77b4\"}, \"mode\": \"markers+lines\", \"name\": \"Data\", \"showlegend\": false, \"type\": \"scatter\", \"x\": [\"2020-03-08T00:00:00\", \"2020-03-09T00:00:00\", \"2020-03-10T00:00:00\", \"2020-03-11T00:00:00\", \"2020-03-12T00:00:00\", \"2020-03-13T00:00:00\", \"2020-03-14T00:00:00\", \"2020-03-15T00:00:00\", \"2020-03-16T00:00:00\", \"2020-03-17T00:00:00\", \"2020-03-18T00:00:00\", \"2020-03-19T00:00:00\", \"2020-03-20T00:00:00\", \"2020-03-21T00:00:00\", \"2020-03-22T00:00:00\", \"2020-03-23T00:00:00\", \"2020-03-24T00:00:00\", \"2020-03-25T00:00:00\", \"2020-03-26T00:00:00\", \"2020-03-27T00:00:00\", \"2020-03-28T00:00:00\", \"2020-03-29T00:00:00\", \"2020-03-30T00:00:00\", \"2020-03-31T00:00:00\", \"2020-04-01T00:00:00\"], \"xaxis\": \"x2\", \"y\": [14, 29, 43, 66, 69, 129, 151, 185, 304, 342, 422, 506, 570, 626, 664, 939, 981, 1155, 1239, 1209, 1098, 1184, 1384, 1226, 1157], \"yaxis\": \"y2\"}, {\"line\": {\"color\": \"#bcbd22\", \"shape\": \"spline\"}, \"mode\": \"lines\", \"showlegend\": false, \"type\": \"scatter\", \"x\": [\"2020-03-08T00:00:00\", \"2020-03-09T00:00:00\", \"2020-03-10T00:00:00\", \"2020-03-11T00:00:00\", \"2020-03-12T00:00:00\", \"2020-03-13T00:00:00\", \"2020-03-14T00:00:00\", \"2020-03-15T00:00:00\", \"2020-03-16T00:00:00\", \"2020-03-17T00:00:00\", \"2020-03-18T00:00:00\", \"2020-03-19T00:00:00\", \"2020-03-20T00:00:00\", \"2020-03-21T00:00:00\", \"2020-03-22T00:00:00\", \"2020-03-23T00:00:00\", \"2020-03-24T00:00:00\", \"2020-03-25T00:00:00\", \"2020-03-26T00:00:00\", \"2020-03-27T00:00:00\", \"2020-03-28T00:00:00\", \"2020-03-29T00:00:00\", \"2020-03-30T00:00:00\", \"2020-03-31T00:00:00\", \"2020-04-01T00:00:00\"], \"xaxis\": \"x2\", \"y\": [78.85148422776376, 90.02764421356329, 102.7801877892287, 117.32906478078324, 133.92412488956077, 152.84890672985918, 174.42480552164136, 199.01561948978707, 227.03246251546875, 258.93902151898845, 295.25714341175194, 336.5727796937757, 383.54242265819653, 436.90033830952456, 497.4670596032024, 566.1595538088603, 644.0030256404505, 732.1435775080611, 831.8604420659068, 944.5766444057008, 1071.8674912752738, 1215.46660825939, 1377.2690766373275, 1559.3307295943005, 1763.8621023025603], \"yaxis\": \"y2\"}, {\"fill\": \"tonexty\", \"fillcolor\": \"rgba(188,189,34,0.5)\", \"line\": {\"color\": \"#bcbd22\", \"shape\": \"spline\"}, \"mode\": \"lines\", \"name\": \"Fit\", \"showlegend\": false, \"type\": \"scatter\", \"x\": [\"2020-03-08T00:00:00\", \"2020-03-09T00:00:00\", \"2020-03-10T00:00:00\", \"2020-03-11T00:00:00\", \"2020-03-12T00:00:00\", \"2020-03-13T00:00:00\", \"2020-03-14T00:00:00\", \"2020-03-15T00:00:00\", \"2020-03-16T00:00:00\", \"2020-03-17T00:00:00\", \"2020-03-18T00:00:00\", \"2020-03-19T00:00:00\", \"2020-03-20T00:00:00\", \"2020-03-21T00:00:00\", \"2020-03-22T00:00:00\", \"2020-03-23T00:00:00\", \"2020-03-24T00:00:00\", \"2020-03-25T00:00:00\", \"2020-03-26T00:00:00\", \"2020-03-27T00:00:00\", \"2020-03-28T00:00:00\", \"2020-03-29T00:00:00\", \"2020-03-30T00:00:00\", \"2020-03-31T00:00:00\", \"2020-04-01T00:00:00\"], \"xaxis\": \"x2\", \"y\": [83.33827040371716, 94.86951509520503, 107.99326707816292, 122.92872781603172, 139.92513434009575, 159.2658727855294, 181.27317122113453, 206.31346181962277, 234.80351477838252, 267.2174517198968, 304.0947311305579, 346.0491393843172, 393.7786898409007, 448.07612369550264, 509.839493697835, 580.0822863780594, 659.942888141444, 750.6938041669341, 853.7513658181309, 970.6862883359806, 1103.2346057092107, 1253.307816839978, 1423.0007917587673, 1614.595929571422, 1830.5619763939976], \"yaxis\": \"y2\"}],\n",
       "                        {\"annotations\": [{\"font\": {\"size\": 16}, \"showarrow\": false, \"text\": \"New infections\", \"x\": 0.225, \"xanchor\": \"center\", \"xref\": \"paper\", \"y\": 1.0, \"yanchor\": \"bottom\", \"yref\": \"paper\"}, {\"font\": {\"size\": 16}, \"showarrow\": false, \"text\": \"New hospitalizations\", \"x\": 0.775, \"xanchor\": \"center\", \"xref\": \"paper\", \"y\": 1.0, \"yanchor\": \"bottom\", \"yref\": \"paper\"}], \"template\": {\"data\": {\"bar\": [{\"error_x\": {\"color\": \"#2a3f5f\"}, \"error_y\": {\"color\": \"#2a3f5f\"}, \"marker\": {\"line\": {\"color\": \"#E5ECF6\", \"width\": 0.5}}, \"type\": \"bar\"}], \"barpolar\": [{\"marker\": {\"line\": {\"color\": \"#E5ECF6\", \"width\": 0.5}}, \"type\": \"barpolar\"}], \"carpet\": [{\"aaxis\": {\"endlinecolor\": \"#2a3f5f\", \"gridcolor\": \"white\", \"linecolor\": \"white\", \"minorgridcolor\": \"white\", \"startlinecolor\": \"#2a3f5f\"}, \"baxis\": {\"endlinecolor\": \"#2a3f5f\", \"gridcolor\": \"white\", \"linecolor\": \"white\", \"minorgridcolor\": \"white\", \"startlinecolor\": \"#2a3f5f\"}, \"type\": \"carpet\"}], \"choropleth\": [{\"colorbar\": {\"outlinewidth\": 0, \"ticks\": \"\"}, \"type\": \"choropleth\"}], \"contour\": [{\"colorbar\": {\"outlinewidth\": 0, \"ticks\": \"\"}, \"colorscale\": [[0.0, \"#0d0887\"], [0.1111111111111111, \"#46039f\"], [0.2222222222222222, \"#7201a8\"], [0.3333333333333333, \"#9c179e\"], [0.4444444444444444, \"#bd3786\"], [0.5555555555555556, \"#d8576b\"], [0.6666666666666666, \"#ed7953\"], [0.7777777777777778, \"#fb9f3a\"], [0.8888888888888888, \"#fdca26\"], [1.0, \"#f0f921\"]], \"type\": \"contour\"}], \"contourcarpet\": [{\"colorbar\": {\"outlinewidth\": 0, \"ticks\": \"\"}, \"type\": \"contourcarpet\"}], \"heatmap\": [{\"colorbar\": {\"outlinewidth\": 0, \"ticks\": \"\"}, \"colorscale\": [[0.0, \"#0d0887\"], [0.1111111111111111, \"#46039f\"], [0.2222222222222222, \"#7201a8\"], [0.3333333333333333, \"#9c179e\"], [0.4444444444444444, \"#bd3786\"], [0.5555555555555556, \"#d8576b\"], [0.6666666666666666, \"#ed7953\"], [0.7777777777777778, \"#fb9f3a\"], [0.8888888888888888, \"#fdca26\"], [1.0, \"#f0f921\"]], \"type\": \"heatmap\"}], \"heatmapgl\": [{\"colorbar\": {\"outlinewidth\": 0, \"ticks\": \"\"}, \"colorscale\": [[0.0, \"#0d0887\"], [0.1111111111111111, \"#46039f\"], [0.2222222222222222, \"#7201a8\"], [0.3333333333333333, \"#9c179e\"], [0.4444444444444444, \"#bd3786\"], [0.5555555555555556, \"#d8576b\"], [0.6666666666666666, \"#ed7953\"], [0.7777777777777778, \"#fb9f3a\"], [0.8888888888888888, \"#fdca26\"], [1.0, \"#f0f921\"]], \"type\": \"heatmapgl\"}], \"histogram\": [{\"marker\": {\"colorbar\": {\"outlinewidth\": 0, \"ticks\": \"\"}}, \"type\": \"histogram\"}], \"histogram2d\": [{\"colorbar\": {\"outlinewidth\": 0, \"ticks\": \"\"}, \"colorscale\": [[0.0, \"#0d0887\"], [0.1111111111111111, \"#46039f\"], [0.2222222222222222, \"#7201a8\"], [0.3333333333333333, \"#9c179e\"], [0.4444444444444444, \"#bd3786\"], [0.5555555555555556, \"#d8576b\"], [0.6666666666666666, \"#ed7953\"], [0.7777777777777778, \"#fb9f3a\"], [0.8888888888888888, \"#fdca26\"], [1.0, \"#f0f921\"]], \"type\": \"histogram2d\"}], \"histogram2dcontour\": [{\"colorbar\": {\"outlinewidth\": 0, \"ticks\": \"\"}, \"colorscale\": [[0.0, \"#0d0887\"], [0.1111111111111111, \"#46039f\"], [0.2222222222222222, \"#7201a8\"], [0.3333333333333333, \"#9c179e\"], [0.4444444444444444, \"#bd3786\"], [0.5555555555555556, \"#d8576b\"], [0.6666666666666666, \"#ed7953\"], [0.7777777777777778, \"#fb9f3a\"], [0.8888888888888888, \"#fdca26\"], [1.0, \"#f0f921\"]], \"type\": \"histogram2dcontour\"}], \"mesh3d\": [{\"colorbar\": {\"outlinewidth\": 0, \"ticks\": \"\"}, \"type\": \"mesh3d\"}], \"parcoords\": [{\"line\": {\"colorbar\": {\"outlinewidth\": 0, \"ticks\": \"\"}}, \"type\": \"parcoords\"}], \"pie\": [{\"automargin\": true, \"type\": \"pie\"}], \"scatter\": [{\"marker\": {\"colorbar\": {\"outlinewidth\": 0, \"ticks\": \"\"}}, \"type\": \"scatter\"}], \"scatter3d\": [{\"line\": {\"colorbar\": {\"outlinewidth\": 0, \"ticks\": \"\"}}, \"marker\": {\"colorbar\": {\"outlinewidth\": 0, \"ticks\": \"\"}}, \"type\": \"scatter3d\"}], \"scattercarpet\": [{\"marker\": {\"colorbar\": {\"outlinewidth\": 0, \"ticks\": \"\"}}, \"type\": \"scattercarpet\"}], \"scattergeo\": [{\"marker\": {\"colorbar\": {\"outlinewidth\": 0, \"ticks\": \"\"}}, \"type\": \"scattergeo\"}], \"scattergl\": [{\"marker\": {\"colorbar\": {\"outlinewidth\": 0, \"ticks\": \"\"}}, \"type\": \"scattergl\"}], \"scattermapbox\": [{\"marker\": {\"colorbar\": {\"outlinewidth\": 0, \"ticks\": \"\"}}, \"type\": \"scattermapbox\"}], \"scatterpolar\": [{\"marker\": {\"colorbar\": {\"outlinewidth\": 0, \"ticks\": \"\"}}, \"type\": \"scatterpolar\"}], \"scatterpolargl\": [{\"marker\": {\"colorbar\": {\"outlinewidth\": 0, \"ticks\": \"\"}}, \"type\": \"scatterpolargl\"}], \"scatterternary\": [{\"marker\": {\"colorbar\": {\"outlinewidth\": 0, \"ticks\": \"\"}}, \"type\": \"scatterternary\"}], \"surface\": [{\"colorbar\": {\"outlinewidth\": 0, \"ticks\": \"\"}, \"colorscale\": [[0.0, \"#0d0887\"], [0.1111111111111111, \"#46039f\"], [0.2222222222222222, \"#7201a8\"], [0.3333333333333333, \"#9c179e\"], [0.4444444444444444, \"#bd3786\"], [0.5555555555555556, \"#d8576b\"], [0.6666666666666666, \"#ed7953\"], [0.7777777777777778, \"#fb9f3a\"], [0.8888888888888888, \"#fdca26\"], [1.0, \"#f0f921\"]], \"type\": \"surface\"}], \"table\": [{\"cells\": {\"fill\": {\"color\": \"#EBF0F8\"}, \"line\": {\"color\": \"white\"}}, \"header\": {\"fill\": {\"color\": \"#C8D4E3\"}, \"line\": {\"color\": \"white\"}}, \"type\": \"table\"}]}, \"layout\": {\"annotationdefaults\": {\"arrowcolor\": \"#2a3f5f\", \"arrowhead\": 0, \"arrowwidth\": 1}, \"coloraxis\": {\"colorbar\": {\"outlinewidth\": 0, \"ticks\": \"\"}}, \"colorscale\": {\"diverging\": [[0, \"#8e0152\"], [0.1, \"#c51b7d\"], [0.2, \"#de77ae\"], [0.3, \"#f1b6da\"], [0.4, \"#fde0ef\"], [0.5, \"#f7f7f7\"], [0.6, \"#e6f5d0\"], [0.7, \"#b8e186\"], [0.8, \"#7fbc41\"], [0.9, \"#4d9221\"], [1, \"#276419\"]], \"sequential\": [[0.0, \"#0d0887\"], [0.1111111111111111, \"#46039f\"], [0.2222222222222222, \"#7201a8\"], [0.3333333333333333, \"#9c179e\"], [0.4444444444444444, \"#bd3786\"], [0.5555555555555556, \"#d8576b\"], [0.6666666666666666, \"#ed7953\"], [0.7777777777777778, \"#fb9f3a\"], [0.8888888888888888, \"#fdca26\"], [1.0, \"#f0f921\"]], \"sequentialminus\": [[0.0, \"#0d0887\"], [0.1111111111111111, \"#46039f\"], [0.2222222222222222, \"#7201a8\"], [0.3333333333333333, \"#9c179e\"], [0.4444444444444444, \"#bd3786\"], [0.5555555555555556, \"#d8576b\"], [0.6666666666666666, \"#ed7953\"], [0.7777777777777778, \"#fb9f3a\"], [0.8888888888888888, \"#fdca26\"], [1.0, \"#f0f921\"]]}, \"colorway\": [\"#636efa\", \"#EF553B\", \"#00cc96\", \"#ab63fa\", \"#FFA15A\", \"#19d3f3\", \"#FF6692\", \"#B6E880\", \"#FF97FF\", \"#FECB52\"], \"font\": {\"color\": \"#2a3f5f\"}, \"geo\": {\"bgcolor\": \"white\", \"lakecolor\": \"white\", \"landcolor\": \"#E5ECF6\", \"showlakes\": true, \"showland\": true, \"subunitcolor\": \"white\"}, \"hoverlabel\": {\"align\": \"left\"}, \"hovermode\": \"closest\", \"mapbox\": {\"style\": \"light\"}, \"paper_bgcolor\": \"white\", \"plot_bgcolor\": \"#E5ECF6\", \"polar\": {\"angularaxis\": {\"gridcolor\": \"white\", \"linecolor\": \"white\", \"ticks\": \"\"}, \"bgcolor\": \"#E5ECF6\", \"radialaxis\": {\"gridcolor\": \"white\", \"linecolor\": \"white\", \"ticks\": \"\"}}, \"scene\": {\"xaxis\": {\"backgroundcolor\": \"#E5ECF6\", \"gridcolor\": \"white\", \"gridwidth\": 2, \"linecolor\": \"white\", \"showbackground\": true, \"ticks\": \"\", \"zerolinecolor\": \"white\"}, \"yaxis\": {\"backgroundcolor\": \"#E5ECF6\", \"gridcolor\": \"white\", \"gridwidth\": 2, \"linecolor\": \"white\", \"showbackground\": true, \"ticks\": \"\", \"zerolinecolor\": \"white\"}, \"zaxis\": {\"backgroundcolor\": \"#E5ECF6\", \"gridcolor\": \"white\", \"gridwidth\": 2, \"linecolor\": \"white\", \"showbackground\": true, \"ticks\": \"\", \"zerolinecolor\": \"white\"}}, \"shapedefaults\": {\"line\": {\"color\": \"#2a3f5f\"}}, \"ternary\": {\"aaxis\": {\"gridcolor\": \"white\", \"linecolor\": \"white\", \"ticks\": \"\"}, \"baxis\": {\"gridcolor\": \"white\", \"linecolor\": \"white\", \"ticks\": \"\"}, \"bgcolor\": \"#E5ECF6\", \"caxis\": {\"gridcolor\": \"white\", \"linecolor\": \"white\", \"ticks\": \"\"}}, \"title\": {\"x\": 0.05}, \"xaxis\": {\"automargin\": true, \"gridcolor\": \"white\", \"linecolor\": \"white\", \"ticks\": \"\", \"title\": {\"standoff\": 15}, \"zerolinecolor\": \"white\", \"zerolinewidth\": 2}, \"yaxis\": {\"automargin\": true, \"gridcolor\": \"white\", \"linecolor\": \"white\", \"ticks\": \"\", \"title\": {\"standoff\": 15}, \"zerolinecolor\": \"white\", \"zerolinewidth\": 2}}}, \"xaxis\": {\"anchor\": \"y\", \"domain\": [0.0, 0.45]}, \"xaxis2\": {\"anchor\": \"y2\", \"domain\": [0.55, 1.0]}, \"yaxis\": {\"anchor\": \"x\", \"domain\": [0.0, 1.0]}, \"yaxis2\": {\"anchor\": \"x2\", \"domain\": [0.0, 1.0]}},\n",
       "                        {\"responsive\": true}\n",
       "                    ).then(function(){\n",
       "                            \n",
       "var gd = document.getElementById('88adf226-33c5-45b4-b36e-417cc57dc962');\n",
       "var x = new MutationObserver(function (mutations, observer) {{\n",
       "        var display = window.getComputedStyle(gd).display;\n",
       "        if (!display || display === 'none') {{\n",
       "            console.log([gd, 'removed!']);\n",
       "            Plotly.purge(gd);\n",
       "            observer.disconnect();\n",
       "        }}\n",
       "}});\n",
       "\n",
       "// Listen for the removal of the full notebook cells\n",
       "var notebookContainer = gd.closest('#notebook-container');\n",
       "if (notebookContainer) {{\n",
       "    x.observe(notebookContainer, {childList: true});\n",
       "}}\n",
       "\n",
       "// Listen for the clearing of the current output cell\n",
       "var outputEl = gd.closest('.output');\n",
       "if (outputEl) {{\n",
       "    x.observe(outputEl, {childList: true});\n",
       "}}\n",
       "\n",
       "                        })\n",
       "                };\n",
       "                });\n",
       "            </script>\n",
       "        </div>"
      ]
     },
     "metadata": {},
     "output_type": "display_data"
    }
   ],
   "source": [
    "fig = make_subplots(\n",
    "    rows=1,\n",
    "    cols=2,\n",
    "    subplot_titles=(\"New infections\", \"New hospitalizations\", \"Plot 3\", \"Plot 4\"),\n",
    ")\n",
    "plotting.add_gvar_scatter(\n",
    "    fig, x=chd_df.index, y=Y.T[0], name=\"Data\", mode=\"markers+lines\", color=\"#1f77b4\",\n",
    ")\n",
    "plotting.add_gvar_scatter(\n",
    "    fig,\n",
    "    x=chd_df.index,\n",
    "    y=fit_res.infected_new.values,\n",
    "    name=\"Fit\",\n",
    "    mode=\"markers+lines\",\n",
    "    gv_mode=\"band\",\n",
    "    color=\"#bcbd22\",\n",
    ")\n",
    "plotting.add_gvar_scatter(\n",
    "    fig,\n",
    "    x=chd_df.index,\n",
    "    y=Y.T[1],\n",
    "    name=\"Data\",\n",
    "    mode=\"markers+lines\",\n",
    "    row=1,\n",
    "    col=2,\n",
    "    color=\"#1f77b4\",\n",
    "    showlegend=False,\n",
    ")\n",
    "plotting.add_gvar_scatter(\n",
    "    fig,\n",
    "    x=chd_df.index,\n",
    "    y=fit_res.hospitalized_new.values,\n",
    "    name=\"Fit\",\n",
    "    mode=\"markers+lines\",\n",
    "    gv_mode=\"band\",\n",
    "    color=\"#bcbd22\",\n",
    "    row=1,\n",
    "    col=2,\n",
    "    showlegend=False,\n",
    ")\n",
    "fig.update_layout(\n",
    "    # yaxis1={\"type\":\"log\"},\n",
    "    # yaxis2={\"type\": \"log\"}\n",
    ")\n",
    "fig.show()"
   ]
  },
  {
   "cell_type": "markdown",
   "metadata": {
    "heading_collapsed": true
   },
   "source": [
    "## Now with social distancing"
   ]
  },
  {
   "cell_type": "code",
   "execution_count": 157,
   "metadata": {
    "hidden": true
   },
   "outputs": [],
   "source": [
    "fcn = FitFcn(\n",
    "    sir_step,\n",
    "    columns=[\"infected_new\", \"hospitalized_new\"],\n",
    "    beta_i_fcn=one_minus_logistic_fcn,\n",
    "    as_array=True,\n",
    "    drop_rows=[0],\n",
    ")\n",
    "prior = {\n",
    "    \"beta_i\": gvar(beta0, beta0 * 0.8),\n",
    "    \"gamma_i\": 1 / (gvar(14, 5) / BIN_SIZE),\n",
    "    \"initial_infected\": gvar(1.0e3, 2.0e3),\n",
    "    \"beta_h\": gvar(0.05, 0.1),\n",
    "    \"gamma_h\": 1 / (gvar(14, 5) / BIN_SIZE),\n",
    "    \"ratio\": gvar(0.7, 0.3),\n",
    "    \"decay_width\": 1 / gvar(4, 1),\n",
    "    \"x0\": gvar(9, 2),\n",
    "    \"hospitalization_rate\": gvar(0.1, 0.2),\n",
    "}"
   ]
  },
  {
   "cell_type": "code",
   "execution_count": 158,
   "metadata": {
    "hidden": true
   },
   "outputs": [
    {
     "name": "stdout",
     "output_type": "stream",
     "text": [
      "Least Square Fit:\n",
      "  chi2/dof [dof] = 1.4 [50]    Q = 0.025    logGBF = -347.33\n",
      "\n",
      "Parameters:\n",
      "              beta_i   3.72(52)e-07      [ 1.9(1.5)e-07 ]  *\n",
      "             gamma_i     0.069 (25)      [   0.071 (26) ]  \n",
      "    initial_infected       136 (26)      [  1000 (2000) ]  \n",
      "              beta_h      0.05 (10)      [    0.05 (10) ]  \n",
      "             gamma_h     0.071 (26)      [   0.071 (26) ]  \n",
      "               ratio     0.914 (56)      [    0.70 (30) ]  \n",
      "         decay_width     0.142 (26)      [   0.250 (62) ]  *\n",
      "                  x0      9.9 (1.7)      [    9.0 (2.0) ]  \n",
      "hospitalization_rate     0.285 (32)      [    0.10 (20) ]  \n",
      "\n",
      "Settings:\n",
      "  svdcut/n = 1e-12/0    tol = (1e-08,1e-10,1e-10*)    (itns/time = 55/0.3)\n",
      "  fitter = scipy_least_squares    method = trf\n",
      "\n",
      "Values:\n",
      "                 bi: 3.72(52)e-07        \n",
      "                 gi: 0.069(25)           \n",
      "                 ii: 136(26)             \n",
      "                 bh: 0.05(10)            \n",
      "                 gh: 0.071(26)           \n",
      "              ratio: 0.914(56)           \n",
      "                 dw: 0.142(26)           \n",
      "                 x0: 9.9(1.7)            \n",
      "                 hr: 0.285(32)           \n",
      "                 dt: 1.04(15)            \n",
      "                rid: 14.4(5.3)           \n",
      "\n",
      "Partial % Errors:\n",
      "                             bi        gi        ii        bh        gh     ratio        dw        x0        hr        dt       rid\n",
      "-----------------------------------------------------------------------------------------------------------------------------------\n",
      "                   y:      4.09      0.19     16.21      0.00      0.00      4.36     13.07      4.96     11.00      4.09      0.19\n",
      "              beta_i:      4.81      3.35      3.61      0.00      0.00      1.06      4.37      5.47      0.06      4.81      3.35\n",
      "             gamma_i:      3.78     36.27      4.30      0.00      0.00      2.14      0.22      0.57      0.00      3.78     36.27\n",
      "    initial_infected:      0.10      0.11      0.25      0.00      0.00      0.01      0.00      0.12      0.08      0.10      0.11\n",
      "              beta_h:      0.00      0.00      0.00    200.00      0.00      0.00      0.00      0.00      0.00      0.00      0.00\n",
      "             gamma_h:      0.00      0.00      0.00      0.00     35.71      0.00      0.00      0.00      0.00      0.00      0.00\n",
      "               ratio:      1.33      2.40      0.29      0.00      0.00      1.15      3.17      1.50      0.09      1.33      2.40\n",
      "         decay_width:      4.11      0.18      0.16      0.00      0.00      2.36      7.88      4.22      0.17      4.11      0.18\n",
      "                  x0:     11.24      1.04      8.63      0.00      0.00      2.45      9.22     15.23      0.22     11.24      1.04\n",
      "hospitalization_rate:      0.03      0.00      1.58      0.00      0.00      0.04      0.11      0.06      1.77      0.03      0.00\n",
      "-----------------------------------------------------------------------------------------------------------------------------------\n",
      "               total:     14.11     36.52     19.27    200.00     35.71      6.14     18.64     17.51     11.14     14.11     36.52\n",
      "\n"
     ]
    }
   ],
   "source": [
    "fit = nonlinear_fit(data=(X, Y), fcn=fcn, prior=prior)\n",
    "print(fit)\n",
    "\n",
    "\n",
    "n_days = 100\n",
    "X_extra = X.copy()\n",
    "X_extra[\"n_iter\"] = n_days\n",
    "days_extra = date_range(chd_df.index.min(), periods=n_days - 1, freq=\"D\") + timedelta(\n",
    "    days=1\n",
    ")\n",
    "\n",
    "fit_res = FitFcn(sir_step, drop_rows=[0], beta_i_fcn=one_minus_logistic_fcn)(\n",
    "    X_extra, fit.p\n",
    ")\n",
    "fit_res.index = days_extra\n",
    "\n",
    "\n",
    "outputs = dict(fit.p)\n",
    "outputs.update(\n",
    "    {\n",
    "        \"doubling_time\": log(2) / (fit.p[\"beta_i\"] * X[\"initial_susceptible\"]),\n",
    "        \"recovery_in_days\": 1 / fit.p[\"gamma_i\"] * BIN_SIZE,\n",
    "    }\n",
    ")\n",
    "inputs = dict(y=Y, **prior)\n",
    "\n",
    "outputs = {\n",
    "    \"\".join([kk[0] if len(key.split(\"_\")) > 1 else kk for kk in key.split(\"_\")]): val\n",
    "    for key, val in outputs.items()\n",
    "}\n",
    "\n",
    "\n",
    "print(fmt_values(outputs))\n",
    "print(fmt_errorbudget(outputs, inputs))"
   ]
  },
  {
   "cell_type": "code",
   "execution_count": 159,
   "metadata": {
    "hidden": true
   },
   "outputs": [
    {
     "data": {
      "application/vnd.plotly.v1+json": {
       "config": {
        "plotlyServerURL": "https://plot.ly"
       },
       "data": [
        {
         "error_y": {
          "array": [
           100,
           100,
           100,
           100,
           179,
           309.5,
           320.5,
           513.5,
           1052.5,
           1193.5,
           1446.5,
           1786.5,
           1902,
           1119.5,
           1095.5,
           1621,
           1928.5,
           2037.5,
           2073,
           2117.5,
           1425.5,
           1478,
           2449.5,
           1993,
           2044.5
          ]
         },
         "line": {
          "color": "#1f77b4"
         },
         "mode": "markers+lines",
         "name": "Data",
         "type": "scatter",
         "x": [
          "2020-03-08T00:00:00",
          "2020-03-09T00:00:00",
          "2020-03-10T00:00:00",
          "2020-03-11T00:00:00",
          "2020-03-12T00:00:00",
          "2020-03-13T00:00:00",
          "2020-03-14T00:00:00",
          "2020-03-15T00:00:00",
          "2020-03-16T00:00:00",
          "2020-03-17T00:00:00",
          "2020-03-18T00:00:00",
          "2020-03-19T00:00:00",
          "2020-03-20T00:00:00",
          "2020-03-21T00:00:00",
          "2020-03-22T00:00:00",
          "2020-03-23T00:00:00",
          "2020-03-24T00:00:00",
          "2020-03-25T00:00:00",
          "2020-03-26T00:00:00",
          "2020-03-27T00:00:00",
          "2020-03-28T00:00:00",
          "2020-03-29T00:00:00",
          "2020-03-30T00:00:00",
          "2020-03-31T00:00:00",
          "2020-04-01T00:00:00"
         ],
         "y": [
          20,
          53,
          73,
          156,
          358,
          619,
          641,
          1027,
          2105,
          2387,
          2893,
          3573,
          3804,
          2239,
          2191,
          3242,
          3857,
          4075,
          4146,
          4235,
          2851,
          2956,
          4899,
          3986,
          4089
         ]
        },
        {
         "line": {
          "color": "#bcbd22",
          "shape": "spline"
         },
         "mode": "lines",
         "showlegend": false,
         "type": "scatter",
         "x": [
          "2020-03-09T00:00:00",
          "2020-03-10T00:00:00",
          "2020-03-11T00:00:00",
          "2020-03-12T00:00:00",
          "2020-03-13T00:00:00",
          "2020-03-14T00:00:00",
          "2020-03-15T00:00:00",
          "2020-03-16T00:00:00",
          "2020-03-17T00:00:00",
          "2020-03-18T00:00:00",
          "2020-03-19T00:00:00",
          "2020-03-20T00:00:00",
          "2020-03-21T00:00:00",
          "2020-03-22T00:00:00",
          "2020-03-23T00:00:00",
          "2020-03-24T00:00:00",
          "2020-03-25T00:00:00",
          "2020-03-26T00:00:00",
          "2020-03-27T00:00:00",
          "2020-03-28T00:00:00",
          "2020-03-29T00:00:00",
          "2020-03-30T00:00:00",
          "2020-03-31T00:00:00",
          "2020-04-01T00:00:00",
          "2020-04-02T00:00:00",
          "2020-04-03T00:00:00",
          "2020-04-04T00:00:00",
          "2020-04-05T00:00:00",
          "2020-04-06T00:00:00",
          "2020-04-07T00:00:00",
          "2020-04-08T00:00:00",
          "2020-04-09T00:00:00",
          "2020-04-10T00:00:00",
          "2020-04-11T00:00:00",
          "2020-04-12T00:00:00",
          "2020-04-13T00:00:00",
          "2020-04-14T00:00:00",
          "2020-04-15T00:00:00",
          "2020-04-16T00:00:00",
          "2020-04-17T00:00:00",
          "2020-04-18T00:00:00",
          "2020-04-19T00:00:00",
          "2020-04-20T00:00:00",
          "2020-04-21T00:00:00",
          "2020-04-22T00:00:00",
          "2020-04-23T00:00:00",
          "2020-04-24T00:00:00",
          "2020-04-25T00:00:00",
          "2020-04-26T00:00:00",
          "2020-04-27T00:00:00",
          "2020-04-28T00:00:00",
          "2020-04-29T00:00:00",
          "2020-04-30T00:00:00",
          "2020-05-01T00:00:00",
          "2020-05-02T00:00:00",
          "2020-05-03T00:00:00",
          "2020-05-04T00:00:00",
          "2020-05-05T00:00:00",
          "2020-05-06T00:00:00",
          "2020-05-07T00:00:00",
          "2020-05-08T00:00:00",
          "2020-05-09T00:00:00",
          "2020-05-10T00:00:00",
          "2020-05-11T00:00:00",
          "2020-05-12T00:00:00",
          "2020-05-13T00:00:00",
          "2020-05-14T00:00:00",
          "2020-05-15T00:00:00",
          "2020-05-16T00:00:00",
          "2020-05-17T00:00:00",
          "2020-05-18T00:00:00",
          "2020-05-19T00:00:00",
          "2020-05-20T00:00:00",
          "2020-05-21T00:00:00",
          "2020-05-22T00:00:00",
          "2020-05-23T00:00:00",
          "2020-05-24T00:00:00",
          "2020-05-25T00:00:00",
          "2020-05-26T00:00:00",
          "2020-05-27T00:00:00",
          "2020-05-28T00:00:00",
          "2020-05-29T00:00:00",
          "2020-05-30T00:00:00",
          "2020-05-31T00:00:00",
          "2020-06-01T00:00:00",
          "2020-06-02T00:00:00",
          "2020-06-03T00:00:00",
          "2020-06-04T00:00:00",
          "2020-06-05T00:00:00",
          "2020-06-06T00:00:00",
          "2020-06-07T00:00:00",
          "2020-06-08T00:00:00",
          "2020-06-09T00:00:00",
          "2020-06-10T00:00:00",
          "2020-06-11T00:00:00",
          "2020-06-12T00:00:00",
          "2020-06-13T00:00:00",
          "2020-06-14T00:00:00",
          "2020-06-15T00:00:00"
         ],
         "y": [
          63.702432454707036,
          92.98300766992632,
          133.5986845009761,
          188.80459202612772,
          262.2556392793014,
          357.81690486336004,
          479.260821164242,
          629.8484127154697,
          811.8159150286632,
          1025.8186717920557,
          1270.4148366713243,
          1541.6940764766994,
          1833.1625222081066,
          2135.975997509665,
          2439.562342913734,
          2732.590310926089,
          3004.140985433898,
          3244.8512504702107,
          3447.77182898541,
          3608.74311034958,
          3726.225273755734,
          3800.6719133611405,
          3833.658835912669,
          3827.0605987531408,
          3782.6091732453806,
          3702.098153058,
          3588.1517788759093,
          3444.954128797936,
          3278.2550553459528,
          3094.6232482482287,
          2900.506300426586,
          2701.569886407794,
          2502.4116967430814,
          2306.5384243591348,
          2116.4762532982813,
          1933.930372363348,
          1759.9497498995374,
          1595.0775859868982,
          1439.480212143812,
          1293.0531377129512,
          1155.5056704779422,
          1026.4266877501238,
          905.3344866410002,
          791.7135879100415,
          685.0411120384117,
          584.8050036148334,
          490.51601635922907,
          401.71502306109187,
          317.97690153377175,
          238.9119774478413,
          164.16577890066242,
          93.41767321267889,
          26.37880914232619,
          0,
          0,
          0,
          0,
          0,
          0,
          0,
          0,
          0,
          0,
          0,
          0,
          0,
          0,
          0,
          0,
          0,
          0,
          0,
          0,
          0,
          0,
          0,
          0,
          0,
          0,
          0,
          0,
          0,
          0,
          0,
          0,
          0,
          0,
          0,
          0,
          0,
          0,
          0,
          0,
          0,
          0,
          0,
          0,
          0,
          0
         ]
        },
        {
         "fill": "tonexty",
         "fillcolor": "rgba(188,189,34,0.5)",
         "line": {
          "color": "#bcbd22",
          "shape": "spline"
         },
         "mode": "lines",
         "name": "Fit",
         "showlegend": true,
         "type": "scatter",
         "x": [
          "2020-03-09T00:00:00",
          "2020-03-10T00:00:00",
          "2020-03-11T00:00:00",
          "2020-03-12T00:00:00",
          "2020-03-13T00:00:00",
          "2020-03-14T00:00:00",
          "2020-03-15T00:00:00",
          "2020-03-16T00:00:00",
          "2020-03-17T00:00:00",
          "2020-03-18T00:00:00",
          "2020-03-19T00:00:00",
          "2020-03-20T00:00:00",
          "2020-03-21T00:00:00",
          "2020-03-22T00:00:00",
          "2020-03-23T00:00:00",
          "2020-03-24T00:00:00",
          "2020-03-25T00:00:00",
          "2020-03-26T00:00:00",
          "2020-03-27T00:00:00",
          "2020-03-28T00:00:00",
          "2020-03-29T00:00:00",
          "2020-03-30T00:00:00",
          "2020-03-31T00:00:00",
          "2020-04-01T00:00:00",
          "2020-04-02T00:00:00",
          "2020-04-03T00:00:00",
          "2020-04-04T00:00:00",
          "2020-04-05T00:00:00",
          "2020-04-06T00:00:00",
          "2020-04-07T00:00:00",
          "2020-04-08T00:00:00",
          "2020-04-09T00:00:00",
          "2020-04-10T00:00:00",
          "2020-04-11T00:00:00",
          "2020-04-12T00:00:00",
          "2020-04-13T00:00:00",
          "2020-04-14T00:00:00",
          "2020-04-15T00:00:00",
          "2020-04-16T00:00:00",
          "2020-04-17T00:00:00",
          "2020-04-18T00:00:00",
          "2020-04-19T00:00:00",
          "2020-04-20T00:00:00",
          "2020-04-21T00:00:00",
          "2020-04-22T00:00:00",
          "2020-04-23T00:00:00",
          "2020-04-24T00:00:00",
          "2020-04-25T00:00:00",
          "2020-04-26T00:00:00",
          "2020-04-27T00:00:00",
          "2020-04-28T00:00:00",
          "2020-04-29T00:00:00",
          "2020-04-30T00:00:00",
          "2020-05-01T00:00:00",
          "2020-05-02T00:00:00",
          "2020-05-03T00:00:00",
          "2020-05-04T00:00:00",
          "2020-05-05T00:00:00",
          "2020-05-06T00:00:00",
          "2020-05-07T00:00:00",
          "2020-05-08T00:00:00",
          "2020-05-09T00:00:00",
          "2020-05-10T00:00:00",
          "2020-05-11T00:00:00",
          "2020-05-12T00:00:00",
          "2020-05-13T00:00:00",
          "2020-05-14T00:00:00",
          "2020-05-15T00:00:00",
          "2020-05-16T00:00:00",
          "2020-05-17T00:00:00",
          "2020-05-18T00:00:00",
          "2020-05-19T00:00:00",
          "2020-05-20T00:00:00",
          "2020-05-21T00:00:00",
          "2020-05-22T00:00:00",
          "2020-05-23T00:00:00",
          "2020-05-24T00:00:00",
          "2020-05-25T00:00:00",
          "2020-05-26T00:00:00",
          "2020-05-27T00:00:00",
          "2020-05-28T00:00:00",
          "2020-05-29T00:00:00",
          "2020-05-30T00:00:00",
          "2020-05-31T00:00:00",
          "2020-06-01T00:00:00",
          "2020-06-02T00:00:00",
          "2020-06-03T00:00:00",
          "2020-06-04T00:00:00",
          "2020-06-05T00:00:00",
          "2020-06-06T00:00:00",
          "2020-06-07T00:00:00",
          "2020-06-08T00:00:00",
          "2020-06-09T00:00:00",
          "2020-06-10T00:00:00",
          "2020-06-11T00:00:00",
          "2020-06-12T00:00:00",
          "2020-06-13T00:00:00",
          "2020-06-14T00:00:00",
          "2020-06-15T00:00:00"
         ],
         "y": [
          85.29821195430279,
          121.79752288242959,
          172.08817182606492,
          240.28137054611582,
          331.0908942912751,
          449.58721351138195,
          600.7722502970565,
          788.9747961245703,
          1017.1120577925009,
          1285.9165312804603,
          1593.274038594026,
          1933.8367780119886,
          2299.0460532965426,
          2677.619970323136,
          3056.452868570169,
          3421.7764425943915,
          3760.3880663569107,
          4060.7737764546214,
          4314.017518249193,
          4514.451301046249,
          4660.035456400623,
          4752.466171912181,
          4796.998145618201,
          4801.936987073043,
          4777.701302870852,
          4735.371723264066,
          4684.91790552546,
          4633.751391269581,
          4586.279202485407,
          4544.446891367926,
          4508.6556537944325,
          4478.52453063937,
          4453.351960157471,
          4432.348812575092,
          4414.744052825769,
          4399.829101542655,
          4386.974255823739,
          4375.632214350921,
          4365.335339860088,
          4355.689763557929,
          4346.367971013269,
          4337.100845490825,
          4327.669785819129,
          4317.899283713841,
          4307.6501803527435,
          4296.813703188224,
          4285.306301631371,
          4273.06524692677,
          4260.044930474288,
          4246.2137799366565,
          4231.551708555755,
          4216.048016136386,
          4199.699667146511,
          4182.509880233142,
          4164.486972788992,
          4145.643413186028,
          4125.995041460297,
          4105.5604263800815,
          4084.3603329153552,
          4062.417279199013,
          4039.7551662326036,
          4016.398966959933,
          3992.3744640365194,
          3967.7080277753453,
          3942.4264274538145,
          3916.5566705109622,
          3890.1258652212873,
          3863.161103263925,
          3835.68935926026,
          3807.7374048699635,
          3779.3317354448955,
          3750.498507566113,
          3721.2634860508556,
          3691.6519992273315,
          3661.6889014473654,
          3631.3985419483797,
          3600.804739293711,
          3569.930760718716,
          3538.799305793418,
          3507.432493883518,
          3475.851854952678,
          3444.078323302029,
          3412.132233888694,
          3380.033320905928,
          3347.8007183425484,
          3315.4529622711207,
          3283.0079946418073,
          3250.4831683836615,
          3217.8952536368615,
          3185.2604449591345,
          3152.594369366543,
          3119.9120950848537,
          3087.2281409009947,
          3054.556486016679,
          3021.910580317259,
          2989.3033549784727,
          2956.7472333428273,
          2924.254142004699,
          2891.8355220506382
         ]
        },
        {
         "error_y": {
          "array": [
           10,
           10,
           10,
           10,
           10,
           10,
           10,
           10,
           15.200000000000001,
           17.1,
           21.1,
           25.3,
           28.5,
           31.3,
           33.2,
           46.95,
           49.050000000000004,
           57.75,
           61.95,
           60.45,
           54.900000000000006,
           59.2,
           69.2,
           61.300000000000004,
           57.85
          ]
         },
         "line": {
          "color": "#1f77b4"
         },
         "mode": "markers+lines",
         "name": "Data",
         "showlegend": false,
         "type": "scatter",
         "x": [
          "2020-03-08T00:00:00",
          "2020-03-09T00:00:00",
          "2020-03-10T00:00:00",
          "2020-03-11T00:00:00",
          "2020-03-12T00:00:00",
          "2020-03-13T00:00:00",
          "2020-03-14T00:00:00",
          "2020-03-15T00:00:00",
          "2020-03-16T00:00:00",
          "2020-03-17T00:00:00",
          "2020-03-18T00:00:00",
          "2020-03-19T00:00:00",
          "2020-03-20T00:00:00",
          "2020-03-21T00:00:00",
          "2020-03-22T00:00:00",
          "2020-03-23T00:00:00",
          "2020-03-24T00:00:00",
          "2020-03-25T00:00:00",
          "2020-03-26T00:00:00",
          "2020-03-27T00:00:00",
          "2020-03-28T00:00:00",
          "2020-03-29T00:00:00",
          "2020-03-30T00:00:00",
          "2020-03-31T00:00:00",
          "2020-04-01T00:00:00"
         ],
         "xaxis": "x2",
         "y": [
          14,
          29,
          43,
          66,
          69,
          129,
          151,
          185,
          304,
          342,
          422,
          506,
          570,
          626,
          664,
          939,
          981,
          1155,
          1239,
          1209,
          1098,
          1184,
          1384,
          1226,
          1157
         ],
         "yaxis": "y2"
        },
        {
         "line": {
          "color": "#bcbd22",
          "shape": "spline"
         },
         "mode": "lines",
         "showlegend": false,
         "type": "scatter",
         "x": [
          "2020-03-09T00:00:00",
          "2020-03-10T00:00:00",
          "2020-03-11T00:00:00",
          "2020-03-12T00:00:00",
          "2020-03-13T00:00:00",
          "2020-03-14T00:00:00",
          "2020-03-15T00:00:00",
          "2020-03-16T00:00:00",
          "2020-03-17T00:00:00",
          "2020-03-18T00:00:00",
          "2020-03-19T00:00:00",
          "2020-03-20T00:00:00",
          "2020-03-21T00:00:00",
          "2020-03-22T00:00:00",
          "2020-03-23T00:00:00",
          "2020-03-24T00:00:00",
          "2020-03-25T00:00:00",
          "2020-03-26T00:00:00",
          "2020-03-27T00:00:00",
          "2020-03-28T00:00:00",
          "2020-03-29T00:00:00",
          "2020-03-30T00:00:00",
          "2020-03-31T00:00:00",
          "2020-04-01T00:00:00",
          "2020-04-02T00:00:00",
          "2020-04-03T00:00:00",
          "2020-04-04T00:00:00",
          "2020-04-05T00:00:00",
          "2020-04-06T00:00:00",
          "2020-04-07T00:00:00",
          "2020-04-08T00:00:00",
          "2020-04-09T00:00:00",
          "2020-04-10T00:00:00",
          "2020-04-11T00:00:00",
          "2020-04-12T00:00:00",
          "2020-04-13T00:00:00",
          "2020-04-14T00:00:00",
          "2020-04-15T00:00:00",
          "2020-04-16T00:00:00",
          "2020-04-17T00:00:00",
          "2020-04-18T00:00:00",
          "2020-04-19T00:00:00",
          "2020-04-20T00:00:00",
          "2020-04-21T00:00:00",
          "2020-04-22T00:00:00",
          "2020-04-23T00:00:00",
          "2020-04-24T00:00:00",
          "2020-04-25T00:00:00",
          "2020-04-26T00:00:00",
          "2020-04-27T00:00:00",
          "2020-04-28T00:00:00",
          "2020-04-29T00:00:00",
          "2020-04-30T00:00:00",
          "2020-05-01T00:00:00",
          "2020-05-02T00:00:00",
          "2020-05-03T00:00:00",
          "2020-05-04T00:00:00",
          "2020-05-05T00:00:00",
          "2020-05-06T00:00:00",
          "2020-05-07T00:00:00",
          "2020-05-08T00:00:00",
          "2020-05-09T00:00:00",
          "2020-05-10T00:00:00",
          "2020-05-11T00:00:00",
          "2020-05-12T00:00:00",
          "2020-05-13T00:00:00",
          "2020-05-14T00:00:00",
          "2020-05-15T00:00:00",
          "2020-05-16T00:00:00",
          "2020-05-17T00:00:00",
          "2020-05-18T00:00:00",
          "2020-05-19T00:00:00",
          "2020-05-20T00:00:00",
          "2020-05-21T00:00:00",
          "2020-05-22T00:00:00",
          "2020-05-23T00:00:00",
          "2020-05-24T00:00:00",
          "2020-05-25T00:00:00",
          "2020-05-26T00:00:00",
          "2020-05-27T00:00:00",
          "2020-05-28T00:00:00",
          "2020-05-29T00:00:00",
          "2020-05-30T00:00:00",
          "2020-05-31T00:00:00",
          "2020-06-01T00:00:00",
          "2020-06-02T00:00:00",
          "2020-06-03T00:00:00",
          "2020-06-04T00:00:00",
          "2020-06-05T00:00:00",
          "2020-06-06T00:00:00",
          "2020-06-07T00:00:00",
          "2020-06-08T00:00:00",
          "2020-06-09T00:00:00",
          "2020-06-10T00:00:00",
          "2020-06-11T00:00:00",
          "2020-06-12T00:00:00",
          "2020-06-13T00:00:00",
          "2020-06-14T00:00:00",
          "2020-06-15T00:00:00"
         ],
         "xaxis": "x2",
         "y": [
          19.043028969238772,
          27.98655056516541,
          40.51236007717184,
          57.703600181780956,
          80.78232968691418,
          111.0249940508364,
          149.6226739733596,
          197.50676154323705,
          255.21722498414135,
          322.8601985397615,
          400.02764267098934,
          485.61668210911375,
          577.6852245913549,
          673.4309354060341,
          769.3237029596669,
          861.4623448939155,
          946.1843731393079,
          1020.6770689889192,
          1083.2243283960265,
          1133.0741780076344,
          1170.0709127776333,
          1194.0054616246641,
          1203.6995079406101,
          1197.3216745814684,
          1175.1660180260396,
          1139.923727785008,
          1094.6549086154128,
          1042.071643346123,
          984.5117439210399,
          923.9635814749334,
          862.0772609225617,
          800.1785872814069,
          739.292992597606,
          680.1784565042739,
          623.363704666697,
          569.1878448490061,
          517.8384367388819,
          469.3860281550562,
          423.81411238588106,
          381.0441654538868,
          340.9559015626533,
          303.4031739043098,
          268.2260923592946,
          235.25997352428402,
          204.34171854402302,
          175.31415805923382,
          148.02883064428,
          122.34758410389202,
          98.14331557675496,
          75.30010063033478,
          53.712905124790154,
          33.28702679336493,
          13.93737560656075,
          0,
          0,
          0,
          0,
          0,
          0,
          0,
          0,
          0,
          0,
          0,
          0,
          0,
          0,
          0,
          0,
          0,
          0,
          0,
          0,
          0,
          0,
          0,
          0,
          0,
          0,
          0,
          0,
          0,
          0,
          0,
          0,
          0,
          0,
          0,
          0,
          0,
          0,
          0,
          0,
          0,
          0,
          0,
          0,
          0,
          0
         ],
         "yaxis": "y2"
        },
        {
         "fill": "tonexty",
         "fillcolor": "rgba(188,189,34,0.5)",
         "line": {
          "color": "#bcbd22",
          "shape": "spline"
         },
         "mode": "lines",
         "name": "Fit",
         "showlegend": false,
         "type": "scatter",
         "x": [
          "2020-03-09T00:00:00",
          "2020-03-10T00:00:00",
          "2020-03-11T00:00:00",
          "2020-03-12T00:00:00",
          "2020-03-13T00:00:00",
          "2020-03-14T00:00:00",
          "2020-03-15T00:00:00",
          "2020-03-16T00:00:00",
          "2020-03-17T00:00:00",
          "2020-03-18T00:00:00",
          "2020-03-19T00:00:00",
          "2020-03-20T00:00:00",
          "2020-03-21T00:00:00",
          "2020-03-22T00:00:00",
          "2020-03-23T00:00:00",
          "2020-03-24T00:00:00",
          "2020-03-25T00:00:00",
          "2020-03-26T00:00:00",
          "2020-03-27T00:00:00",
          "2020-03-28T00:00:00",
          "2020-03-29T00:00:00",
          "2020-03-30T00:00:00",
          "2020-03-31T00:00:00",
          "2020-04-01T00:00:00",
          "2020-04-02T00:00:00",
          "2020-04-03T00:00:00",
          "2020-04-04T00:00:00",
          "2020-04-05T00:00:00",
          "2020-04-06T00:00:00",
          "2020-04-07T00:00:00",
          "2020-04-08T00:00:00",
          "2020-04-09T00:00:00",
          "2020-04-10T00:00:00",
          "2020-04-11T00:00:00",
          "2020-04-12T00:00:00",
          "2020-04-13T00:00:00",
          "2020-04-14T00:00:00",
          "2020-04-15T00:00:00",
          "2020-04-16T00:00:00",
          "2020-04-17T00:00:00",
          "2020-04-18T00:00:00",
          "2020-04-19T00:00:00",
          "2020-04-20T00:00:00",
          "2020-04-21T00:00:00",
          "2020-04-22T00:00:00",
          "2020-04-23T00:00:00",
          "2020-04-24T00:00:00",
          "2020-04-25T00:00:00",
          "2020-04-26T00:00:00",
          "2020-04-27T00:00:00",
          "2020-04-28T00:00:00",
          "2020-04-29T00:00:00",
          "2020-04-30T00:00:00",
          "2020-05-01T00:00:00",
          "2020-05-02T00:00:00",
          "2020-05-03T00:00:00",
          "2020-05-04T00:00:00",
          "2020-05-05T00:00:00",
          "2020-05-06T00:00:00",
          "2020-05-07T00:00:00",
          "2020-05-08T00:00:00",
          "2020-05-09T00:00:00",
          "2020-05-10T00:00:00",
          "2020-05-11T00:00:00",
          "2020-05-12T00:00:00",
          "2020-05-13T00:00:00",
          "2020-05-14T00:00:00",
          "2020-05-15T00:00:00",
          "2020-05-16T00:00:00",
          "2020-05-17T00:00:00",
          "2020-05-18T00:00:00",
          "2020-05-19T00:00:00",
          "2020-05-20T00:00:00",
          "2020-05-21T00:00:00",
          "2020-05-22T00:00:00",
          "2020-05-23T00:00:00",
          "2020-05-24T00:00:00",
          "2020-05-25T00:00:00",
          "2020-05-26T00:00:00",
          "2020-05-27T00:00:00",
          "2020-05-28T00:00:00",
          "2020-05-29T00:00:00",
          "2020-05-30T00:00:00",
          "2020-05-31T00:00:00",
          "2020-06-01T00:00:00",
          "2020-06-02T00:00:00",
          "2020-06-03T00:00:00",
          "2020-06-04T00:00:00",
          "2020-06-05T00:00:00",
          "2020-06-06T00:00:00",
          "2020-06-07T00:00:00",
          "2020-06-08T00:00:00",
          "2020-06-09T00:00:00",
          "2020-06-10T00:00:00",
          "2020-06-11T00:00:00",
          "2020-06-12T00:00:00",
          "2020-06-13T00:00:00",
          "2020-06-14T00:00:00",
          "2020-06-15T00:00:00"
         ],
         "xaxis": "x2",
         "y": [
          23.385983038199985,
          33.17376015640978,
          46.53418491637421,
          64.48173351534143,
          88.17739056994571,
          118.88917289290029,
          157.92456073303907,
          206.51341704779392,
          265.5832536135034,
          335.42313357750305,
          415.42849281170544,
          504.0658856557244,
          598.9910774658094,
          697.2753587057172,
          795.7064103397352,
          891.0381353490586,
          980.0642380763987,
          1059.6525377634082,
          1127.0013704205717,
          1180.0642287886255,
          1217.9775324396967,
          1241.562518371263,
          1253.9425388699974,
          1259.8478472910192,
          1262.4443521783523,
          1262.70689247038,
          1261.1615670119759,
          1258.3982296202762,
          1254.9713118868913,
          1251.3169346933698,
          1247.735235309119,
          1244.4052696795284,
          1241.411056637324,
          1238.7684623277678,
          1236.4485524607535,
          1234.3960110228068,
          1232.5426671959667,
          1230.8168053042805,
          1229.1491330673566,
          1227.476263001818,
          1225.742442086428,
          1223.9001140293085,
          1221.9097522999334,
          1219.739276602342,
          1217.363265582139,
          1214.7621033435676,
          1211.9211432577408,
          1208.82993525628,
          1205.4815382016714,
          1201.871923488996,
          1197.9994669682742,
          1193.8645214718879,
          1189.4690601577872,
          1184.816380466842,
          1179.9108590200794,
          1174.757748778541,
          1169.3630109630162,
          1163.7331754100353,
          1157.8752241318798,
          1151.7964938084374,
          1145.504593755662,
          1139.007336593278,
          1132.3126793872752,
          1125.4286734872674,
          1118.3634216328696,
          1111.125041183087,
          1103.7216325427617,
          1096.1612520330032,
          1088.4518885879274,
          1080.601443766557,
          1072.6177146527905,
          1064.508379282962,
          1056.2809842939391,
          1047.94293452772,
          1039.5014843637207,
          1030.963730578957,
          1022.3366065606315,
          1013.6268777161704,
          1004.8411379433346,
          995.9858070382157,
          987.0671289321673,
          978.0911706603956,
          969.0638219751434,
          959.9907955256721,
          950.8776275352792,
          941.7296789129978,
          932.5521367440983,
          923.3500161094429,
          914.1281621889741,
          904.8912526094468,
          895.6438000006528,
          886.3901547283803,
          877.1345077756678,
          867.8808937470617,
          858.633193973385,
          849.395139696949,
          840.1703153194821,
          830.9621616969173,
          821.7739794671024
         ],
         "yaxis": "y2"
        }
       ],
       "layout": {
        "annotations": [
         {
          "font": {
           "size": 16
          },
          "showarrow": false,
          "text": "New infections",
          "x": 0.225,
          "xanchor": "center",
          "xref": "paper",
          "y": 1,
          "yanchor": "bottom",
          "yref": "paper"
         },
         {
          "font": {
           "size": 16
          },
          "showarrow": false,
          "text": "New hospitalizations",
          "x": 0.775,
          "xanchor": "center",
          "xref": "paper",
          "y": 1,
          "yanchor": "bottom",
          "yref": "paper"
         }
        ],
        "template": {
         "data": {
          "bar": [
           {
            "error_x": {
             "color": "#2a3f5f"
            },
            "error_y": {
             "color": "#2a3f5f"
            },
            "marker": {
             "line": {
              "color": "#E5ECF6",
              "width": 0.5
             }
            },
            "type": "bar"
           }
          ],
          "barpolar": [
           {
            "marker": {
             "line": {
              "color": "#E5ECF6",
              "width": 0.5
             }
            },
            "type": "barpolar"
           }
          ],
          "carpet": [
           {
            "aaxis": {
             "endlinecolor": "#2a3f5f",
             "gridcolor": "white",
             "linecolor": "white",
             "minorgridcolor": "white",
             "startlinecolor": "#2a3f5f"
            },
            "baxis": {
             "endlinecolor": "#2a3f5f",
             "gridcolor": "white",
             "linecolor": "white",
             "minorgridcolor": "white",
             "startlinecolor": "#2a3f5f"
            },
            "type": "carpet"
           }
          ],
          "choropleth": [
           {
            "colorbar": {
             "outlinewidth": 0,
             "ticks": ""
            },
            "type": "choropleth"
           }
          ],
          "contour": [
           {
            "colorbar": {
             "outlinewidth": 0,
             "ticks": ""
            },
            "colorscale": [
             [
              0,
              "#0d0887"
             ],
             [
              0.1111111111111111,
              "#46039f"
             ],
             [
              0.2222222222222222,
              "#7201a8"
             ],
             [
              0.3333333333333333,
              "#9c179e"
             ],
             [
              0.4444444444444444,
              "#bd3786"
             ],
             [
              0.5555555555555556,
              "#d8576b"
             ],
             [
              0.6666666666666666,
              "#ed7953"
             ],
             [
              0.7777777777777778,
              "#fb9f3a"
             ],
             [
              0.8888888888888888,
              "#fdca26"
             ],
             [
              1,
              "#f0f921"
             ]
            ],
            "type": "contour"
           }
          ],
          "contourcarpet": [
           {
            "colorbar": {
             "outlinewidth": 0,
             "ticks": ""
            },
            "type": "contourcarpet"
           }
          ],
          "heatmap": [
           {
            "colorbar": {
             "outlinewidth": 0,
             "ticks": ""
            },
            "colorscale": [
             [
              0,
              "#0d0887"
             ],
             [
              0.1111111111111111,
              "#46039f"
             ],
             [
              0.2222222222222222,
              "#7201a8"
             ],
             [
              0.3333333333333333,
              "#9c179e"
             ],
             [
              0.4444444444444444,
              "#bd3786"
             ],
             [
              0.5555555555555556,
              "#d8576b"
             ],
             [
              0.6666666666666666,
              "#ed7953"
             ],
             [
              0.7777777777777778,
              "#fb9f3a"
             ],
             [
              0.8888888888888888,
              "#fdca26"
             ],
             [
              1,
              "#f0f921"
             ]
            ],
            "type": "heatmap"
           }
          ],
          "heatmapgl": [
           {
            "colorbar": {
             "outlinewidth": 0,
             "ticks": ""
            },
            "colorscale": [
             [
              0,
              "#0d0887"
             ],
             [
              0.1111111111111111,
              "#46039f"
             ],
             [
              0.2222222222222222,
              "#7201a8"
             ],
             [
              0.3333333333333333,
              "#9c179e"
             ],
             [
              0.4444444444444444,
              "#bd3786"
             ],
             [
              0.5555555555555556,
              "#d8576b"
             ],
             [
              0.6666666666666666,
              "#ed7953"
             ],
             [
              0.7777777777777778,
              "#fb9f3a"
             ],
             [
              0.8888888888888888,
              "#fdca26"
             ],
             [
              1,
              "#f0f921"
             ]
            ],
            "type": "heatmapgl"
           }
          ],
          "histogram": [
           {
            "marker": {
             "colorbar": {
              "outlinewidth": 0,
              "ticks": ""
             }
            },
            "type": "histogram"
           }
          ],
          "histogram2d": [
           {
            "colorbar": {
             "outlinewidth": 0,
             "ticks": ""
            },
            "colorscale": [
             [
              0,
              "#0d0887"
             ],
             [
              0.1111111111111111,
              "#46039f"
             ],
             [
              0.2222222222222222,
              "#7201a8"
             ],
             [
              0.3333333333333333,
              "#9c179e"
             ],
             [
              0.4444444444444444,
              "#bd3786"
             ],
             [
              0.5555555555555556,
              "#d8576b"
             ],
             [
              0.6666666666666666,
              "#ed7953"
             ],
             [
              0.7777777777777778,
              "#fb9f3a"
             ],
             [
              0.8888888888888888,
              "#fdca26"
             ],
             [
              1,
              "#f0f921"
             ]
            ],
            "type": "histogram2d"
           }
          ],
          "histogram2dcontour": [
           {
            "colorbar": {
             "outlinewidth": 0,
             "ticks": ""
            },
            "colorscale": [
             [
              0,
              "#0d0887"
             ],
             [
              0.1111111111111111,
              "#46039f"
             ],
             [
              0.2222222222222222,
              "#7201a8"
             ],
             [
              0.3333333333333333,
              "#9c179e"
             ],
             [
              0.4444444444444444,
              "#bd3786"
             ],
             [
              0.5555555555555556,
              "#d8576b"
             ],
             [
              0.6666666666666666,
              "#ed7953"
             ],
             [
              0.7777777777777778,
              "#fb9f3a"
             ],
             [
              0.8888888888888888,
              "#fdca26"
             ],
             [
              1,
              "#f0f921"
             ]
            ],
            "type": "histogram2dcontour"
           }
          ],
          "mesh3d": [
           {
            "colorbar": {
             "outlinewidth": 0,
             "ticks": ""
            },
            "type": "mesh3d"
           }
          ],
          "parcoords": [
           {
            "line": {
             "colorbar": {
              "outlinewidth": 0,
              "ticks": ""
             }
            },
            "type": "parcoords"
           }
          ],
          "pie": [
           {
            "automargin": true,
            "type": "pie"
           }
          ],
          "scatter": [
           {
            "marker": {
             "colorbar": {
              "outlinewidth": 0,
              "ticks": ""
             }
            },
            "type": "scatter"
           }
          ],
          "scatter3d": [
           {
            "line": {
             "colorbar": {
              "outlinewidth": 0,
              "ticks": ""
             }
            },
            "marker": {
             "colorbar": {
              "outlinewidth": 0,
              "ticks": ""
             }
            },
            "type": "scatter3d"
           }
          ],
          "scattercarpet": [
           {
            "marker": {
             "colorbar": {
              "outlinewidth": 0,
              "ticks": ""
             }
            },
            "type": "scattercarpet"
           }
          ],
          "scattergeo": [
           {
            "marker": {
             "colorbar": {
              "outlinewidth": 0,
              "ticks": ""
             }
            },
            "type": "scattergeo"
           }
          ],
          "scattergl": [
           {
            "marker": {
             "colorbar": {
              "outlinewidth": 0,
              "ticks": ""
             }
            },
            "type": "scattergl"
           }
          ],
          "scattermapbox": [
           {
            "marker": {
             "colorbar": {
              "outlinewidth": 0,
              "ticks": ""
             }
            },
            "type": "scattermapbox"
           }
          ],
          "scatterpolar": [
           {
            "marker": {
             "colorbar": {
              "outlinewidth": 0,
              "ticks": ""
             }
            },
            "type": "scatterpolar"
           }
          ],
          "scatterpolargl": [
           {
            "marker": {
             "colorbar": {
              "outlinewidth": 0,
              "ticks": ""
             }
            },
            "type": "scatterpolargl"
           }
          ],
          "scatterternary": [
           {
            "marker": {
             "colorbar": {
              "outlinewidth": 0,
              "ticks": ""
             }
            },
            "type": "scatterternary"
           }
          ],
          "surface": [
           {
            "colorbar": {
             "outlinewidth": 0,
             "ticks": ""
            },
            "colorscale": [
             [
              0,
              "#0d0887"
             ],
             [
              0.1111111111111111,
              "#46039f"
             ],
             [
              0.2222222222222222,
              "#7201a8"
             ],
             [
              0.3333333333333333,
              "#9c179e"
             ],
             [
              0.4444444444444444,
              "#bd3786"
             ],
             [
              0.5555555555555556,
              "#d8576b"
             ],
             [
              0.6666666666666666,
              "#ed7953"
             ],
             [
              0.7777777777777778,
              "#fb9f3a"
             ],
             [
              0.8888888888888888,
              "#fdca26"
             ],
             [
              1,
              "#f0f921"
             ]
            ],
            "type": "surface"
           }
          ],
          "table": [
           {
            "cells": {
             "fill": {
              "color": "#EBF0F8"
             },
             "line": {
              "color": "white"
             }
            },
            "header": {
             "fill": {
              "color": "#C8D4E3"
             },
             "line": {
              "color": "white"
             }
            },
            "type": "table"
           }
          ]
         },
         "layout": {
          "annotationdefaults": {
           "arrowcolor": "#2a3f5f",
           "arrowhead": 0,
           "arrowwidth": 1
          },
          "coloraxis": {
           "colorbar": {
            "outlinewidth": 0,
            "ticks": ""
           }
          },
          "colorscale": {
           "diverging": [
            [
             0,
             "#8e0152"
            ],
            [
             0.1,
             "#c51b7d"
            ],
            [
             0.2,
             "#de77ae"
            ],
            [
             0.3,
             "#f1b6da"
            ],
            [
             0.4,
             "#fde0ef"
            ],
            [
             0.5,
             "#f7f7f7"
            ],
            [
             0.6,
             "#e6f5d0"
            ],
            [
             0.7,
             "#b8e186"
            ],
            [
             0.8,
             "#7fbc41"
            ],
            [
             0.9,
             "#4d9221"
            ],
            [
             1,
             "#276419"
            ]
           ],
           "sequential": [
            [
             0,
             "#0d0887"
            ],
            [
             0.1111111111111111,
             "#46039f"
            ],
            [
             0.2222222222222222,
             "#7201a8"
            ],
            [
             0.3333333333333333,
             "#9c179e"
            ],
            [
             0.4444444444444444,
             "#bd3786"
            ],
            [
             0.5555555555555556,
             "#d8576b"
            ],
            [
             0.6666666666666666,
             "#ed7953"
            ],
            [
             0.7777777777777778,
             "#fb9f3a"
            ],
            [
             0.8888888888888888,
             "#fdca26"
            ],
            [
             1,
             "#f0f921"
            ]
           ],
           "sequentialminus": [
            [
             0,
             "#0d0887"
            ],
            [
             0.1111111111111111,
             "#46039f"
            ],
            [
             0.2222222222222222,
             "#7201a8"
            ],
            [
             0.3333333333333333,
             "#9c179e"
            ],
            [
             0.4444444444444444,
             "#bd3786"
            ],
            [
             0.5555555555555556,
             "#d8576b"
            ],
            [
             0.6666666666666666,
             "#ed7953"
            ],
            [
             0.7777777777777778,
             "#fb9f3a"
            ],
            [
             0.8888888888888888,
             "#fdca26"
            ],
            [
             1,
             "#f0f921"
            ]
           ]
          },
          "colorway": [
           "#636efa",
           "#EF553B",
           "#00cc96",
           "#ab63fa",
           "#FFA15A",
           "#19d3f3",
           "#FF6692",
           "#B6E880",
           "#FF97FF",
           "#FECB52"
          ],
          "font": {
           "color": "#2a3f5f"
          },
          "geo": {
           "bgcolor": "white",
           "lakecolor": "white",
           "landcolor": "#E5ECF6",
           "showlakes": true,
           "showland": true,
           "subunitcolor": "white"
          },
          "hoverlabel": {
           "align": "left"
          },
          "hovermode": "closest",
          "mapbox": {
           "style": "light"
          },
          "paper_bgcolor": "white",
          "plot_bgcolor": "#E5ECF6",
          "polar": {
           "angularaxis": {
            "gridcolor": "white",
            "linecolor": "white",
            "ticks": ""
           },
           "bgcolor": "#E5ECF6",
           "radialaxis": {
            "gridcolor": "white",
            "linecolor": "white",
            "ticks": ""
           }
          },
          "scene": {
           "xaxis": {
            "backgroundcolor": "#E5ECF6",
            "gridcolor": "white",
            "gridwidth": 2,
            "linecolor": "white",
            "showbackground": true,
            "ticks": "",
            "zerolinecolor": "white"
           },
           "yaxis": {
            "backgroundcolor": "#E5ECF6",
            "gridcolor": "white",
            "gridwidth": 2,
            "linecolor": "white",
            "showbackground": true,
            "ticks": "",
            "zerolinecolor": "white"
           },
           "zaxis": {
            "backgroundcolor": "#E5ECF6",
            "gridcolor": "white",
            "gridwidth": 2,
            "linecolor": "white",
            "showbackground": true,
            "ticks": "",
            "zerolinecolor": "white"
           }
          },
          "shapedefaults": {
           "line": {
            "color": "#2a3f5f"
           }
          },
          "ternary": {
           "aaxis": {
            "gridcolor": "white",
            "linecolor": "white",
            "ticks": ""
           },
           "baxis": {
            "gridcolor": "white",
            "linecolor": "white",
            "ticks": ""
           },
           "bgcolor": "#E5ECF6",
           "caxis": {
            "gridcolor": "white",
            "linecolor": "white",
            "ticks": ""
           }
          },
          "title": {
           "x": 0.05
          },
          "xaxis": {
           "automargin": true,
           "gridcolor": "white",
           "linecolor": "white",
           "ticks": "",
           "title": {
            "standoff": 15
           },
           "zerolinecolor": "white",
           "zerolinewidth": 2
          },
          "yaxis": {
           "automargin": true,
           "gridcolor": "white",
           "linecolor": "white",
           "ticks": "",
           "title": {
            "standoff": 15
           },
           "zerolinecolor": "white",
           "zerolinewidth": 2
          }
         }
        },
        "xaxis": {
         "anchor": "y",
         "domain": [
          0,
          0.45
         ]
        },
        "xaxis2": {
         "anchor": "y2",
         "domain": [
          0.55,
          1
         ]
        },
        "yaxis": {
         "anchor": "x",
         "domain": [
          0,
          1
         ]
        },
        "yaxis2": {
         "anchor": "x2",
         "domain": [
          0,
          1
         ]
        }
       }
      },
      "text/html": [
       "<div>\n",
       "        \n",
       "        \n",
       "            <div id=\"47c8b2e4-0736-4319-9a6f-0a8e6f16b662\" class=\"plotly-graph-div\" style=\"height:525px; width:100%;\"></div>\n",
       "            <script type=\"text/javascript\">\n",
       "                require([\"plotly\"], function(Plotly) {\n",
       "                    window.PLOTLYENV=window.PLOTLYENV || {};\n",
       "                    \n",
       "                if (document.getElementById(\"47c8b2e4-0736-4319-9a6f-0a8e6f16b662\")) {\n",
       "                    Plotly.newPlot(\n",
       "                        '47c8b2e4-0736-4319-9a6f-0a8e6f16b662',\n",
       "                        [{\"error_y\": {\"array\": [100.0, 100.0, 100.0, 100.0, 179.0, 309.5, 320.5, 513.5, 1052.5, 1193.5, 1446.5, 1786.5, 1902.0, 1119.5, 1095.5, 1621.0, 1928.5, 2037.5, 2073.0, 2117.5, 1425.5, 1478.0, 2449.5, 1993.0, 2044.5]}, \"line\": {\"color\": \"#1f77b4\"}, \"mode\": \"markers+lines\", \"name\": \"Data\", \"type\": \"scatter\", \"x\": [\"2020-03-08T00:00:00\", \"2020-03-09T00:00:00\", \"2020-03-10T00:00:00\", \"2020-03-11T00:00:00\", \"2020-03-12T00:00:00\", \"2020-03-13T00:00:00\", \"2020-03-14T00:00:00\", \"2020-03-15T00:00:00\", \"2020-03-16T00:00:00\", \"2020-03-17T00:00:00\", \"2020-03-18T00:00:00\", \"2020-03-19T00:00:00\", \"2020-03-20T00:00:00\", \"2020-03-21T00:00:00\", \"2020-03-22T00:00:00\", \"2020-03-23T00:00:00\", \"2020-03-24T00:00:00\", \"2020-03-25T00:00:00\", \"2020-03-26T00:00:00\", \"2020-03-27T00:00:00\", \"2020-03-28T00:00:00\", \"2020-03-29T00:00:00\", \"2020-03-30T00:00:00\", \"2020-03-31T00:00:00\", \"2020-04-01T00:00:00\"], \"y\": [20, 53, 73, 156, 358, 619, 641, 1027, 2105, 2387, 2893, 3573, 3804, 2239, 2191, 3242, 3857, 4075, 4146, 4235, 2851, 2956, 4899, 3986, 4089]}, {\"line\": {\"color\": \"#bcbd22\", \"shape\": \"spline\"}, \"mode\": \"lines\", \"showlegend\": false, \"type\": \"scatter\", \"x\": [\"2020-03-09T00:00:00\", \"2020-03-10T00:00:00\", \"2020-03-11T00:00:00\", \"2020-03-12T00:00:00\", \"2020-03-13T00:00:00\", \"2020-03-14T00:00:00\", \"2020-03-15T00:00:00\", \"2020-03-16T00:00:00\", \"2020-03-17T00:00:00\", \"2020-03-18T00:00:00\", \"2020-03-19T00:00:00\", \"2020-03-20T00:00:00\", \"2020-03-21T00:00:00\", \"2020-03-22T00:00:00\", \"2020-03-23T00:00:00\", \"2020-03-24T00:00:00\", \"2020-03-25T00:00:00\", \"2020-03-26T00:00:00\", \"2020-03-27T00:00:00\", \"2020-03-28T00:00:00\", \"2020-03-29T00:00:00\", \"2020-03-30T00:00:00\", \"2020-03-31T00:00:00\", \"2020-04-01T00:00:00\", \"2020-04-02T00:00:00\", \"2020-04-03T00:00:00\", \"2020-04-04T00:00:00\", \"2020-04-05T00:00:00\", \"2020-04-06T00:00:00\", \"2020-04-07T00:00:00\", \"2020-04-08T00:00:00\", \"2020-04-09T00:00:00\", \"2020-04-10T00:00:00\", \"2020-04-11T00:00:00\", \"2020-04-12T00:00:00\", \"2020-04-13T00:00:00\", \"2020-04-14T00:00:00\", \"2020-04-15T00:00:00\", \"2020-04-16T00:00:00\", \"2020-04-17T00:00:00\", \"2020-04-18T00:00:00\", \"2020-04-19T00:00:00\", \"2020-04-20T00:00:00\", \"2020-04-21T00:00:00\", \"2020-04-22T00:00:00\", \"2020-04-23T00:00:00\", \"2020-04-24T00:00:00\", \"2020-04-25T00:00:00\", \"2020-04-26T00:00:00\", \"2020-04-27T00:00:00\", \"2020-04-28T00:00:00\", \"2020-04-29T00:00:00\", \"2020-04-30T00:00:00\", \"2020-05-01T00:00:00\", \"2020-05-02T00:00:00\", \"2020-05-03T00:00:00\", \"2020-05-04T00:00:00\", \"2020-05-05T00:00:00\", \"2020-05-06T00:00:00\", \"2020-05-07T00:00:00\", \"2020-05-08T00:00:00\", \"2020-05-09T00:00:00\", \"2020-05-10T00:00:00\", \"2020-05-11T00:00:00\", \"2020-05-12T00:00:00\", \"2020-05-13T00:00:00\", \"2020-05-14T00:00:00\", \"2020-05-15T00:00:00\", \"2020-05-16T00:00:00\", \"2020-05-17T00:00:00\", \"2020-05-18T00:00:00\", \"2020-05-19T00:00:00\", \"2020-05-20T00:00:00\", \"2020-05-21T00:00:00\", \"2020-05-22T00:00:00\", \"2020-05-23T00:00:00\", \"2020-05-24T00:00:00\", \"2020-05-25T00:00:00\", \"2020-05-26T00:00:00\", \"2020-05-27T00:00:00\", \"2020-05-28T00:00:00\", \"2020-05-29T00:00:00\", \"2020-05-30T00:00:00\", \"2020-05-31T00:00:00\", \"2020-06-01T00:00:00\", \"2020-06-02T00:00:00\", \"2020-06-03T00:00:00\", \"2020-06-04T00:00:00\", \"2020-06-05T00:00:00\", \"2020-06-06T00:00:00\", \"2020-06-07T00:00:00\", \"2020-06-08T00:00:00\", \"2020-06-09T00:00:00\", \"2020-06-10T00:00:00\", \"2020-06-11T00:00:00\", \"2020-06-12T00:00:00\", \"2020-06-13T00:00:00\", \"2020-06-14T00:00:00\", \"2020-06-15T00:00:00\"], \"y\": [63.702432454707036, 92.98300766992632, 133.5986845009761, 188.80459202612772, 262.2556392793014, 357.81690486336004, 479.260821164242, 629.8484127154697, 811.8159150286632, 1025.8186717920557, 1270.4148366713243, 1541.6940764766994, 1833.1625222081066, 2135.975997509665, 2439.562342913734, 2732.590310926089, 3004.140985433898, 3244.8512504702107, 3447.77182898541, 3608.74311034958, 3726.225273755734, 3800.6719133611405, 3833.658835912669, 3827.0605987531408, 3782.6091732453806, 3702.098153058, 3588.1517788759093, 3444.954128797936, 3278.2550553459528, 3094.6232482482287, 2900.506300426586, 2701.569886407794, 2502.4116967430814, 2306.5384243591348, 2116.4762532982813, 1933.930372363348, 1759.9497498995374, 1595.0775859868982, 1439.480212143812, 1293.0531377129512, 1155.5056704779422, 1026.4266877501238, 905.3344866410002, 791.7135879100415, 685.0411120384117, 584.8050036148334, 490.51601635922907, 401.71502306109187, 317.97690153377175, 238.9119774478413, 164.16577890066242, 93.41767321267889, 26.37880914232619, 0, 0, 0, 0, 0, 0, 0, 0, 0, 0, 0, 0, 0, 0, 0, 0, 0, 0, 0, 0, 0, 0, 0, 0, 0, 0, 0, 0, 0, 0, 0, 0, 0, 0, 0, 0, 0, 0, 0, 0, 0, 0, 0, 0, 0, 0]}, {\"fill\": \"tonexty\", \"fillcolor\": \"rgba(188,189,34,0.5)\", \"line\": {\"color\": \"#bcbd22\", \"shape\": \"spline\"}, \"mode\": \"lines\", \"name\": \"Fit\", \"showlegend\": true, \"type\": \"scatter\", \"x\": [\"2020-03-09T00:00:00\", \"2020-03-10T00:00:00\", \"2020-03-11T00:00:00\", \"2020-03-12T00:00:00\", \"2020-03-13T00:00:00\", \"2020-03-14T00:00:00\", \"2020-03-15T00:00:00\", \"2020-03-16T00:00:00\", \"2020-03-17T00:00:00\", \"2020-03-18T00:00:00\", \"2020-03-19T00:00:00\", \"2020-03-20T00:00:00\", \"2020-03-21T00:00:00\", \"2020-03-22T00:00:00\", \"2020-03-23T00:00:00\", \"2020-03-24T00:00:00\", \"2020-03-25T00:00:00\", \"2020-03-26T00:00:00\", \"2020-03-27T00:00:00\", \"2020-03-28T00:00:00\", \"2020-03-29T00:00:00\", \"2020-03-30T00:00:00\", \"2020-03-31T00:00:00\", \"2020-04-01T00:00:00\", \"2020-04-02T00:00:00\", \"2020-04-03T00:00:00\", \"2020-04-04T00:00:00\", \"2020-04-05T00:00:00\", \"2020-04-06T00:00:00\", \"2020-04-07T00:00:00\", \"2020-04-08T00:00:00\", \"2020-04-09T00:00:00\", \"2020-04-10T00:00:00\", \"2020-04-11T00:00:00\", \"2020-04-12T00:00:00\", \"2020-04-13T00:00:00\", \"2020-04-14T00:00:00\", \"2020-04-15T00:00:00\", \"2020-04-16T00:00:00\", \"2020-04-17T00:00:00\", \"2020-04-18T00:00:00\", \"2020-04-19T00:00:00\", \"2020-04-20T00:00:00\", \"2020-04-21T00:00:00\", \"2020-04-22T00:00:00\", \"2020-04-23T00:00:00\", \"2020-04-24T00:00:00\", \"2020-04-25T00:00:00\", \"2020-04-26T00:00:00\", \"2020-04-27T00:00:00\", \"2020-04-28T00:00:00\", \"2020-04-29T00:00:00\", \"2020-04-30T00:00:00\", \"2020-05-01T00:00:00\", \"2020-05-02T00:00:00\", \"2020-05-03T00:00:00\", \"2020-05-04T00:00:00\", \"2020-05-05T00:00:00\", \"2020-05-06T00:00:00\", \"2020-05-07T00:00:00\", \"2020-05-08T00:00:00\", \"2020-05-09T00:00:00\", \"2020-05-10T00:00:00\", \"2020-05-11T00:00:00\", \"2020-05-12T00:00:00\", \"2020-05-13T00:00:00\", \"2020-05-14T00:00:00\", \"2020-05-15T00:00:00\", \"2020-05-16T00:00:00\", \"2020-05-17T00:00:00\", \"2020-05-18T00:00:00\", \"2020-05-19T00:00:00\", \"2020-05-20T00:00:00\", \"2020-05-21T00:00:00\", \"2020-05-22T00:00:00\", \"2020-05-23T00:00:00\", \"2020-05-24T00:00:00\", \"2020-05-25T00:00:00\", \"2020-05-26T00:00:00\", \"2020-05-27T00:00:00\", \"2020-05-28T00:00:00\", \"2020-05-29T00:00:00\", \"2020-05-30T00:00:00\", \"2020-05-31T00:00:00\", \"2020-06-01T00:00:00\", \"2020-06-02T00:00:00\", \"2020-06-03T00:00:00\", \"2020-06-04T00:00:00\", \"2020-06-05T00:00:00\", \"2020-06-06T00:00:00\", \"2020-06-07T00:00:00\", \"2020-06-08T00:00:00\", \"2020-06-09T00:00:00\", \"2020-06-10T00:00:00\", \"2020-06-11T00:00:00\", \"2020-06-12T00:00:00\", \"2020-06-13T00:00:00\", \"2020-06-14T00:00:00\", \"2020-06-15T00:00:00\"], \"y\": [85.29821195430279, 121.79752288242959, 172.08817182606492, 240.28137054611582, 331.0908942912751, 449.58721351138195, 600.7722502970565, 788.9747961245703, 1017.1120577925009, 1285.9165312804603, 1593.274038594026, 1933.8367780119886, 2299.0460532965426, 2677.619970323136, 3056.452868570169, 3421.7764425943915, 3760.3880663569107, 4060.7737764546214, 4314.017518249193, 4514.451301046249, 4660.035456400623, 4752.466171912181, 4796.998145618201, 4801.936987073043, 4777.701302870852, 4735.371723264066, 4684.91790552546, 4633.751391269581, 4586.279202485407, 4544.446891367926, 4508.6556537944325, 4478.52453063937, 4453.351960157471, 4432.348812575092, 4414.744052825769, 4399.829101542655, 4386.974255823739, 4375.632214350921, 4365.335339860088, 4355.689763557929, 4346.367971013269, 4337.100845490825, 4327.669785819129, 4317.899283713841, 4307.6501803527435, 4296.813703188224, 4285.306301631371, 4273.06524692677, 4260.044930474288, 4246.2137799366565, 4231.551708555755, 4216.048016136386, 4199.699667146511, 4182.509880233142, 4164.486972788992, 4145.643413186028, 4125.995041460297, 4105.5604263800815, 4084.3603329153552, 4062.417279199013, 4039.7551662326036, 4016.398966959933, 3992.3744640365194, 3967.7080277753453, 3942.4264274538145, 3916.5566705109622, 3890.1258652212873, 3863.161103263925, 3835.68935926026, 3807.7374048699635, 3779.3317354448955, 3750.498507566113, 3721.2634860508556, 3691.6519992273315, 3661.6889014473654, 3631.3985419483797, 3600.804739293711, 3569.930760718716, 3538.799305793418, 3507.432493883518, 3475.851854952678, 3444.078323302029, 3412.132233888694, 3380.033320905928, 3347.8007183425484, 3315.4529622711207, 3283.0079946418073, 3250.4831683836615, 3217.8952536368615, 3185.2604449591345, 3152.594369366543, 3119.9120950848537, 3087.2281409009947, 3054.556486016679, 3021.910580317259, 2989.3033549784727, 2956.7472333428273, 2924.254142004699, 2891.8355220506382]}, {\"error_y\": {\"array\": [10.0, 10.0, 10.0, 10.0, 10.0, 10.0, 10.0, 10.0, 15.200000000000001, 17.1, 21.1, 25.3, 28.5, 31.3, 33.2, 46.95, 49.050000000000004, 57.75, 61.95, 60.45, 54.900000000000006, 59.2, 69.2, 61.300000000000004, 57.85]}, \"line\": {\"color\": \"#1f77b4\"}, \"mode\": \"markers+lines\", \"name\": \"Data\", \"showlegend\": false, \"type\": \"scatter\", \"x\": [\"2020-03-08T00:00:00\", \"2020-03-09T00:00:00\", \"2020-03-10T00:00:00\", \"2020-03-11T00:00:00\", \"2020-03-12T00:00:00\", \"2020-03-13T00:00:00\", \"2020-03-14T00:00:00\", \"2020-03-15T00:00:00\", \"2020-03-16T00:00:00\", \"2020-03-17T00:00:00\", \"2020-03-18T00:00:00\", \"2020-03-19T00:00:00\", \"2020-03-20T00:00:00\", \"2020-03-21T00:00:00\", \"2020-03-22T00:00:00\", \"2020-03-23T00:00:00\", \"2020-03-24T00:00:00\", \"2020-03-25T00:00:00\", \"2020-03-26T00:00:00\", \"2020-03-27T00:00:00\", \"2020-03-28T00:00:00\", \"2020-03-29T00:00:00\", \"2020-03-30T00:00:00\", \"2020-03-31T00:00:00\", \"2020-04-01T00:00:00\"], \"xaxis\": \"x2\", \"y\": [14, 29, 43, 66, 69, 129, 151, 185, 304, 342, 422, 506, 570, 626, 664, 939, 981, 1155, 1239, 1209, 1098, 1184, 1384, 1226, 1157], \"yaxis\": \"y2\"}, {\"line\": {\"color\": \"#bcbd22\", \"shape\": \"spline\"}, \"mode\": \"lines\", \"showlegend\": false, \"type\": \"scatter\", \"x\": [\"2020-03-09T00:00:00\", \"2020-03-10T00:00:00\", \"2020-03-11T00:00:00\", \"2020-03-12T00:00:00\", \"2020-03-13T00:00:00\", \"2020-03-14T00:00:00\", \"2020-03-15T00:00:00\", \"2020-03-16T00:00:00\", \"2020-03-17T00:00:00\", \"2020-03-18T00:00:00\", \"2020-03-19T00:00:00\", \"2020-03-20T00:00:00\", \"2020-03-21T00:00:00\", \"2020-03-22T00:00:00\", \"2020-03-23T00:00:00\", \"2020-03-24T00:00:00\", \"2020-03-25T00:00:00\", \"2020-03-26T00:00:00\", \"2020-03-27T00:00:00\", \"2020-03-28T00:00:00\", \"2020-03-29T00:00:00\", \"2020-03-30T00:00:00\", \"2020-03-31T00:00:00\", \"2020-04-01T00:00:00\", \"2020-04-02T00:00:00\", \"2020-04-03T00:00:00\", \"2020-04-04T00:00:00\", \"2020-04-05T00:00:00\", \"2020-04-06T00:00:00\", \"2020-04-07T00:00:00\", \"2020-04-08T00:00:00\", \"2020-04-09T00:00:00\", \"2020-04-10T00:00:00\", \"2020-04-11T00:00:00\", \"2020-04-12T00:00:00\", \"2020-04-13T00:00:00\", \"2020-04-14T00:00:00\", \"2020-04-15T00:00:00\", \"2020-04-16T00:00:00\", \"2020-04-17T00:00:00\", \"2020-04-18T00:00:00\", \"2020-04-19T00:00:00\", \"2020-04-20T00:00:00\", \"2020-04-21T00:00:00\", \"2020-04-22T00:00:00\", \"2020-04-23T00:00:00\", \"2020-04-24T00:00:00\", \"2020-04-25T00:00:00\", \"2020-04-26T00:00:00\", \"2020-04-27T00:00:00\", \"2020-04-28T00:00:00\", \"2020-04-29T00:00:00\", \"2020-04-30T00:00:00\", \"2020-05-01T00:00:00\", \"2020-05-02T00:00:00\", \"2020-05-03T00:00:00\", \"2020-05-04T00:00:00\", \"2020-05-05T00:00:00\", \"2020-05-06T00:00:00\", \"2020-05-07T00:00:00\", \"2020-05-08T00:00:00\", \"2020-05-09T00:00:00\", \"2020-05-10T00:00:00\", \"2020-05-11T00:00:00\", \"2020-05-12T00:00:00\", \"2020-05-13T00:00:00\", \"2020-05-14T00:00:00\", \"2020-05-15T00:00:00\", \"2020-05-16T00:00:00\", \"2020-05-17T00:00:00\", \"2020-05-18T00:00:00\", \"2020-05-19T00:00:00\", \"2020-05-20T00:00:00\", \"2020-05-21T00:00:00\", \"2020-05-22T00:00:00\", \"2020-05-23T00:00:00\", \"2020-05-24T00:00:00\", \"2020-05-25T00:00:00\", \"2020-05-26T00:00:00\", \"2020-05-27T00:00:00\", \"2020-05-28T00:00:00\", \"2020-05-29T00:00:00\", \"2020-05-30T00:00:00\", \"2020-05-31T00:00:00\", \"2020-06-01T00:00:00\", \"2020-06-02T00:00:00\", \"2020-06-03T00:00:00\", \"2020-06-04T00:00:00\", \"2020-06-05T00:00:00\", \"2020-06-06T00:00:00\", \"2020-06-07T00:00:00\", \"2020-06-08T00:00:00\", \"2020-06-09T00:00:00\", \"2020-06-10T00:00:00\", \"2020-06-11T00:00:00\", \"2020-06-12T00:00:00\", \"2020-06-13T00:00:00\", \"2020-06-14T00:00:00\", \"2020-06-15T00:00:00\"], \"xaxis\": \"x2\", \"y\": [19.043028969238772, 27.98655056516541, 40.51236007717184, 57.703600181780956, 80.78232968691418, 111.0249940508364, 149.6226739733596, 197.50676154323705, 255.21722498414135, 322.8601985397615, 400.02764267098934, 485.61668210911375, 577.6852245913549, 673.4309354060341, 769.3237029596669, 861.4623448939155, 946.1843731393079, 1020.6770689889192, 1083.2243283960265, 1133.0741780076344, 1170.0709127776333, 1194.0054616246641, 1203.6995079406101, 1197.3216745814684, 1175.1660180260396, 1139.923727785008, 1094.6549086154128, 1042.071643346123, 984.5117439210399, 923.9635814749334, 862.0772609225617, 800.1785872814069, 739.292992597606, 680.1784565042739, 623.363704666697, 569.1878448490061, 517.8384367388819, 469.3860281550562, 423.81411238588106, 381.0441654538868, 340.9559015626533, 303.4031739043098, 268.2260923592946, 235.25997352428402, 204.34171854402302, 175.31415805923382, 148.02883064428, 122.34758410389202, 98.14331557675496, 75.30010063033478, 53.712905124790154, 33.28702679336493, 13.93737560656075, 0, 0, 0, 0, 0, 0, 0, 0, 0, 0, 0, 0, 0, 0, 0, 0, 0, 0, 0, 0, 0, 0, 0, 0, 0, 0, 0, 0, 0, 0, 0, 0, 0, 0, 0, 0, 0, 0, 0, 0, 0, 0, 0, 0, 0, 0], \"yaxis\": \"y2\"}, {\"fill\": \"tonexty\", \"fillcolor\": \"rgba(188,189,34,0.5)\", \"line\": {\"color\": \"#bcbd22\", \"shape\": \"spline\"}, \"mode\": \"lines\", \"name\": \"Fit\", \"showlegend\": false, \"type\": \"scatter\", \"x\": [\"2020-03-09T00:00:00\", \"2020-03-10T00:00:00\", \"2020-03-11T00:00:00\", \"2020-03-12T00:00:00\", \"2020-03-13T00:00:00\", \"2020-03-14T00:00:00\", \"2020-03-15T00:00:00\", \"2020-03-16T00:00:00\", \"2020-03-17T00:00:00\", \"2020-03-18T00:00:00\", \"2020-03-19T00:00:00\", \"2020-03-20T00:00:00\", \"2020-03-21T00:00:00\", \"2020-03-22T00:00:00\", \"2020-03-23T00:00:00\", \"2020-03-24T00:00:00\", \"2020-03-25T00:00:00\", \"2020-03-26T00:00:00\", \"2020-03-27T00:00:00\", \"2020-03-28T00:00:00\", \"2020-03-29T00:00:00\", \"2020-03-30T00:00:00\", \"2020-03-31T00:00:00\", \"2020-04-01T00:00:00\", \"2020-04-02T00:00:00\", \"2020-04-03T00:00:00\", \"2020-04-04T00:00:00\", \"2020-04-05T00:00:00\", \"2020-04-06T00:00:00\", \"2020-04-07T00:00:00\", \"2020-04-08T00:00:00\", \"2020-04-09T00:00:00\", \"2020-04-10T00:00:00\", \"2020-04-11T00:00:00\", \"2020-04-12T00:00:00\", \"2020-04-13T00:00:00\", \"2020-04-14T00:00:00\", \"2020-04-15T00:00:00\", \"2020-04-16T00:00:00\", \"2020-04-17T00:00:00\", \"2020-04-18T00:00:00\", \"2020-04-19T00:00:00\", \"2020-04-20T00:00:00\", \"2020-04-21T00:00:00\", \"2020-04-22T00:00:00\", \"2020-04-23T00:00:00\", \"2020-04-24T00:00:00\", \"2020-04-25T00:00:00\", \"2020-04-26T00:00:00\", \"2020-04-27T00:00:00\", \"2020-04-28T00:00:00\", \"2020-04-29T00:00:00\", \"2020-04-30T00:00:00\", \"2020-05-01T00:00:00\", \"2020-05-02T00:00:00\", \"2020-05-03T00:00:00\", \"2020-05-04T00:00:00\", \"2020-05-05T00:00:00\", \"2020-05-06T00:00:00\", \"2020-05-07T00:00:00\", \"2020-05-08T00:00:00\", \"2020-05-09T00:00:00\", \"2020-05-10T00:00:00\", \"2020-05-11T00:00:00\", \"2020-05-12T00:00:00\", \"2020-05-13T00:00:00\", \"2020-05-14T00:00:00\", \"2020-05-15T00:00:00\", \"2020-05-16T00:00:00\", \"2020-05-17T00:00:00\", \"2020-05-18T00:00:00\", \"2020-05-19T00:00:00\", \"2020-05-20T00:00:00\", \"2020-05-21T00:00:00\", \"2020-05-22T00:00:00\", \"2020-05-23T00:00:00\", \"2020-05-24T00:00:00\", \"2020-05-25T00:00:00\", \"2020-05-26T00:00:00\", \"2020-05-27T00:00:00\", \"2020-05-28T00:00:00\", \"2020-05-29T00:00:00\", \"2020-05-30T00:00:00\", \"2020-05-31T00:00:00\", \"2020-06-01T00:00:00\", \"2020-06-02T00:00:00\", \"2020-06-03T00:00:00\", \"2020-06-04T00:00:00\", \"2020-06-05T00:00:00\", \"2020-06-06T00:00:00\", \"2020-06-07T00:00:00\", \"2020-06-08T00:00:00\", \"2020-06-09T00:00:00\", \"2020-06-10T00:00:00\", \"2020-06-11T00:00:00\", \"2020-06-12T00:00:00\", \"2020-06-13T00:00:00\", \"2020-06-14T00:00:00\", \"2020-06-15T00:00:00\"], \"xaxis\": \"x2\", \"y\": [23.385983038199985, 33.17376015640978, 46.53418491637421, 64.48173351534143, 88.17739056994571, 118.88917289290029, 157.92456073303907, 206.51341704779392, 265.5832536135034, 335.42313357750305, 415.42849281170544, 504.0658856557244, 598.9910774658094, 697.2753587057172, 795.7064103397352, 891.0381353490586, 980.0642380763987, 1059.6525377634082, 1127.0013704205717, 1180.0642287886255, 1217.9775324396967, 1241.562518371263, 1253.9425388699974, 1259.8478472910192, 1262.4443521783523, 1262.70689247038, 1261.1615670119759, 1258.3982296202762, 1254.9713118868913, 1251.3169346933698, 1247.735235309119, 1244.4052696795284, 1241.411056637324, 1238.7684623277678, 1236.4485524607535, 1234.3960110228068, 1232.5426671959667, 1230.8168053042805, 1229.1491330673566, 1227.476263001818, 1225.742442086428, 1223.9001140293085, 1221.9097522999334, 1219.739276602342, 1217.363265582139, 1214.7621033435676, 1211.9211432577408, 1208.82993525628, 1205.4815382016714, 1201.871923488996, 1197.9994669682742, 1193.8645214718879, 1189.4690601577872, 1184.816380466842, 1179.9108590200794, 1174.757748778541, 1169.3630109630162, 1163.7331754100353, 1157.8752241318798, 1151.7964938084374, 1145.504593755662, 1139.007336593278, 1132.3126793872752, 1125.4286734872674, 1118.3634216328696, 1111.125041183087, 1103.7216325427617, 1096.1612520330032, 1088.4518885879274, 1080.601443766557, 1072.6177146527905, 1064.508379282962, 1056.2809842939391, 1047.94293452772, 1039.5014843637207, 1030.963730578957, 1022.3366065606315, 1013.6268777161704, 1004.8411379433346, 995.9858070382157, 987.0671289321673, 978.0911706603956, 969.0638219751434, 959.9907955256721, 950.8776275352792, 941.7296789129978, 932.5521367440983, 923.3500161094429, 914.1281621889741, 904.8912526094468, 895.6438000006528, 886.3901547283803, 877.1345077756678, 867.8808937470617, 858.633193973385, 849.395139696949, 840.1703153194821, 830.9621616969173, 821.7739794671024], \"yaxis\": \"y2\"}],\n",
       "                        {\"annotations\": [{\"font\": {\"size\": 16}, \"showarrow\": false, \"text\": \"New infections\", \"x\": 0.225, \"xanchor\": \"center\", \"xref\": \"paper\", \"y\": 1.0, \"yanchor\": \"bottom\", \"yref\": \"paper\"}, {\"font\": {\"size\": 16}, \"showarrow\": false, \"text\": \"New hospitalizations\", \"x\": 0.775, \"xanchor\": \"center\", \"xref\": \"paper\", \"y\": 1.0, \"yanchor\": \"bottom\", \"yref\": \"paper\"}], \"template\": {\"data\": {\"bar\": [{\"error_x\": {\"color\": \"#2a3f5f\"}, \"error_y\": {\"color\": \"#2a3f5f\"}, \"marker\": {\"line\": {\"color\": \"#E5ECF6\", \"width\": 0.5}}, \"type\": \"bar\"}], \"barpolar\": [{\"marker\": {\"line\": {\"color\": \"#E5ECF6\", \"width\": 0.5}}, \"type\": \"barpolar\"}], \"carpet\": [{\"aaxis\": {\"endlinecolor\": \"#2a3f5f\", \"gridcolor\": \"white\", \"linecolor\": \"white\", \"minorgridcolor\": \"white\", \"startlinecolor\": \"#2a3f5f\"}, \"baxis\": {\"endlinecolor\": \"#2a3f5f\", \"gridcolor\": \"white\", \"linecolor\": \"white\", \"minorgridcolor\": \"white\", \"startlinecolor\": \"#2a3f5f\"}, \"type\": \"carpet\"}], \"choropleth\": [{\"colorbar\": {\"outlinewidth\": 0, \"ticks\": \"\"}, \"type\": \"choropleth\"}], \"contour\": [{\"colorbar\": {\"outlinewidth\": 0, \"ticks\": \"\"}, \"colorscale\": [[0.0, \"#0d0887\"], [0.1111111111111111, \"#46039f\"], [0.2222222222222222, \"#7201a8\"], [0.3333333333333333, \"#9c179e\"], [0.4444444444444444, \"#bd3786\"], [0.5555555555555556, \"#d8576b\"], [0.6666666666666666, \"#ed7953\"], [0.7777777777777778, \"#fb9f3a\"], [0.8888888888888888, \"#fdca26\"], [1.0, \"#f0f921\"]], \"type\": \"contour\"}], \"contourcarpet\": [{\"colorbar\": {\"outlinewidth\": 0, \"ticks\": \"\"}, \"type\": \"contourcarpet\"}], \"heatmap\": [{\"colorbar\": {\"outlinewidth\": 0, \"ticks\": \"\"}, \"colorscale\": [[0.0, \"#0d0887\"], [0.1111111111111111, \"#46039f\"], [0.2222222222222222, \"#7201a8\"], [0.3333333333333333, \"#9c179e\"], [0.4444444444444444, \"#bd3786\"], [0.5555555555555556, \"#d8576b\"], [0.6666666666666666, \"#ed7953\"], [0.7777777777777778, \"#fb9f3a\"], [0.8888888888888888, \"#fdca26\"], [1.0, \"#f0f921\"]], \"type\": \"heatmap\"}], \"heatmapgl\": [{\"colorbar\": {\"outlinewidth\": 0, \"ticks\": \"\"}, \"colorscale\": [[0.0, \"#0d0887\"], [0.1111111111111111, \"#46039f\"], [0.2222222222222222, \"#7201a8\"], [0.3333333333333333, \"#9c179e\"], [0.4444444444444444, \"#bd3786\"], [0.5555555555555556, \"#d8576b\"], [0.6666666666666666, \"#ed7953\"], [0.7777777777777778, \"#fb9f3a\"], [0.8888888888888888, \"#fdca26\"], [1.0, \"#f0f921\"]], \"type\": \"heatmapgl\"}], \"histogram\": [{\"marker\": {\"colorbar\": {\"outlinewidth\": 0, \"ticks\": \"\"}}, \"type\": \"histogram\"}], \"histogram2d\": [{\"colorbar\": {\"outlinewidth\": 0, \"ticks\": \"\"}, \"colorscale\": [[0.0, \"#0d0887\"], [0.1111111111111111, \"#46039f\"], [0.2222222222222222, \"#7201a8\"], [0.3333333333333333, \"#9c179e\"], [0.4444444444444444, \"#bd3786\"], [0.5555555555555556, \"#d8576b\"], [0.6666666666666666, \"#ed7953\"], [0.7777777777777778, \"#fb9f3a\"], [0.8888888888888888, \"#fdca26\"], [1.0, \"#f0f921\"]], \"type\": \"histogram2d\"}], \"histogram2dcontour\": [{\"colorbar\": {\"outlinewidth\": 0, \"ticks\": \"\"}, \"colorscale\": [[0.0, \"#0d0887\"], [0.1111111111111111, \"#46039f\"], [0.2222222222222222, \"#7201a8\"], [0.3333333333333333, \"#9c179e\"], [0.4444444444444444, \"#bd3786\"], [0.5555555555555556, \"#d8576b\"], [0.6666666666666666, \"#ed7953\"], [0.7777777777777778, \"#fb9f3a\"], [0.8888888888888888, \"#fdca26\"], [1.0, \"#f0f921\"]], \"type\": \"histogram2dcontour\"}], \"mesh3d\": [{\"colorbar\": {\"outlinewidth\": 0, \"ticks\": \"\"}, \"type\": \"mesh3d\"}], \"parcoords\": [{\"line\": {\"colorbar\": {\"outlinewidth\": 0, \"ticks\": \"\"}}, \"type\": \"parcoords\"}], \"pie\": [{\"automargin\": true, \"type\": \"pie\"}], \"scatter\": [{\"marker\": {\"colorbar\": {\"outlinewidth\": 0, \"ticks\": \"\"}}, \"type\": \"scatter\"}], \"scatter3d\": [{\"line\": {\"colorbar\": {\"outlinewidth\": 0, \"ticks\": \"\"}}, \"marker\": {\"colorbar\": {\"outlinewidth\": 0, \"ticks\": \"\"}}, \"type\": \"scatter3d\"}], \"scattercarpet\": [{\"marker\": {\"colorbar\": {\"outlinewidth\": 0, \"ticks\": \"\"}}, \"type\": \"scattercarpet\"}], \"scattergeo\": [{\"marker\": {\"colorbar\": {\"outlinewidth\": 0, \"ticks\": \"\"}}, \"type\": \"scattergeo\"}], \"scattergl\": [{\"marker\": {\"colorbar\": {\"outlinewidth\": 0, \"ticks\": \"\"}}, \"type\": \"scattergl\"}], \"scattermapbox\": [{\"marker\": {\"colorbar\": {\"outlinewidth\": 0, \"ticks\": \"\"}}, \"type\": \"scattermapbox\"}], \"scatterpolar\": [{\"marker\": {\"colorbar\": {\"outlinewidth\": 0, \"ticks\": \"\"}}, \"type\": \"scatterpolar\"}], \"scatterpolargl\": [{\"marker\": {\"colorbar\": {\"outlinewidth\": 0, \"ticks\": \"\"}}, \"type\": \"scatterpolargl\"}], \"scatterternary\": [{\"marker\": {\"colorbar\": {\"outlinewidth\": 0, \"ticks\": \"\"}}, \"type\": \"scatterternary\"}], \"surface\": [{\"colorbar\": {\"outlinewidth\": 0, \"ticks\": \"\"}, \"colorscale\": [[0.0, \"#0d0887\"], [0.1111111111111111, \"#46039f\"], [0.2222222222222222, \"#7201a8\"], [0.3333333333333333, \"#9c179e\"], [0.4444444444444444, \"#bd3786\"], [0.5555555555555556, \"#d8576b\"], [0.6666666666666666, \"#ed7953\"], [0.7777777777777778, \"#fb9f3a\"], [0.8888888888888888, \"#fdca26\"], [1.0, \"#f0f921\"]], \"type\": \"surface\"}], \"table\": [{\"cells\": {\"fill\": {\"color\": \"#EBF0F8\"}, \"line\": {\"color\": \"white\"}}, \"header\": {\"fill\": {\"color\": \"#C8D4E3\"}, \"line\": {\"color\": \"white\"}}, \"type\": \"table\"}]}, \"layout\": {\"annotationdefaults\": {\"arrowcolor\": \"#2a3f5f\", \"arrowhead\": 0, \"arrowwidth\": 1}, \"coloraxis\": {\"colorbar\": {\"outlinewidth\": 0, \"ticks\": \"\"}}, \"colorscale\": {\"diverging\": [[0, \"#8e0152\"], [0.1, \"#c51b7d\"], [0.2, \"#de77ae\"], [0.3, \"#f1b6da\"], [0.4, \"#fde0ef\"], [0.5, \"#f7f7f7\"], [0.6, \"#e6f5d0\"], [0.7, \"#b8e186\"], [0.8, \"#7fbc41\"], [0.9, \"#4d9221\"], [1, \"#276419\"]], \"sequential\": [[0.0, \"#0d0887\"], [0.1111111111111111, \"#46039f\"], [0.2222222222222222, \"#7201a8\"], [0.3333333333333333, \"#9c179e\"], [0.4444444444444444, \"#bd3786\"], [0.5555555555555556, \"#d8576b\"], [0.6666666666666666, \"#ed7953\"], [0.7777777777777778, \"#fb9f3a\"], [0.8888888888888888, \"#fdca26\"], [1.0, \"#f0f921\"]], \"sequentialminus\": [[0.0, \"#0d0887\"], [0.1111111111111111, \"#46039f\"], [0.2222222222222222, \"#7201a8\"], [0.3333333333333333, \"#9c179e\"], [0.4444444444444444, \"#bd3786\"], [0.5555555555555556, \"#d8576b\"], [0.6666666666666666, \"#ed7953\"], [0.7777777777777778, \"#fb9f3a\"], [0.8888888888888888, \"#fdca26\"], [1.0, \"#f0f921\"]]}, \"colorway\": [\"#636efa\", \"#EF553B\", \"#00cc96\", \"#ab63fa\", \"#FFA15A\", \"#19d3f3\", \"#FF6692\", \"#B6E880\", \"#FF97FF\", \"#FECB52\"], \"font\": {\"color\": \"#2a3f5f\"}, \"geo\": {\"bgcolor\": \"white\", \"lakecolor\": \"white\", \"landcolor\": \"#E5ECF6\", \"showlakes\": true, \"showland\": true, \"subunitcolor\": \"white\"}, \"hoverlabel\": {\"align\": \"left\"}, \"hovermode\": \"closest\", \"mapbox\": {\"style\": \"light\"}, \"paper_bgcolor\": \"white\", \"plot_bgcolor\": \"#E5ECF6\", \"polar\": {\"angularaxis\": {\"gridcolor\": \"white\", \"linecolor\": \"white\", \"ticks\": \"\"}, \"bgcolor\": \"#E5ECF6\", \"radialaxis\": {\"gridcolor\": \"white\", \"linecolor\": \"white\", \"ticks\": \"\"}}, \"scene\": {\"xaxis\": {\"backgroundcolor\": \"#E5ECF6\", \"gridcolor\": \"white\", \"gridwidth\": 2, \"linecolor\": \"white\", \"showbackground\": true, \"ticks\": \"\", \"zerolinecolor\": \"white\"}, \"yaxis\": {\"backgroundcolor\": \"#E5ECF6\", \"gridcolor\": \"white\", \"gridwidth\": 2, \"linecolor\": \"white\", \"showbackground\": true, \"ticks\": \"\", \"zerolinecolor\": \"white\"}, \"zaxis\": {\"backgroundcolor\": \"#E5ECF6\", \"gridcolor\": \"white\", \"gridwidth\": 2, \"linecolor\": \"white\", \"showbackground\": true, \"ticks\": \"\", \"zerolinecolor\": \"white\"}}, \"shapedefaults\": {\"line\": {\"color\": \"#2a3f5f\"}}, \"ternary\": {\"aaxis\": {\"gridcolor\": \"white\", \"linecolor\": \"white\", \"ticks\": \"\"}, \"baxis\": {\"gridcolor\": \"white\", \"linecolor\": \"white\", \"ticks\": \"\"}, \"bgcolor\": \"#E5ECF6\", \"caxis\": {\"gridcolor\": \"white\", \"linecolor\": \"white\", \"ticks\": \"\"}}, \"title\": {\"x\": 0.05}, \"xaxis\": {\"automargin\": true, \"gridcolor\": \"white\", \"linecolor\": \"white\", \"ticks\": \"\", \"title\": {\"standoff\": 15}, \"zerolinecolor\": \"white\", \"zerolinewidth\": 2}, \"yaxis\": {\"automargin\": true, \"gridcolor\": \"white\", \"linecolor\": \"white\", \"ticks\": \"\", \"title\": {\"standoff\": 15}, \"zerolinecolor\": \"white\", \"zerolinewidth\": 2}}}, \"xaxis\": {\"anchor\": \"y\", \"domain\": [0.0, 0.45]}, \"xaxis2\": {\"anchor\": \"y2\", \"domain\": [0.55, 1.0]}, \"yaxis\": {\"anchor\": \"x\", \"domain\": [0.0, 1.0]}, \"yaxis2\": {\"anchor\": \"x2\", \"domain\": [0.0, 1.0]}},\n",
       "                        {\"responsive\": true}\n",
       "                    ).then(function(){\n",
       "                            \n",
       "var gd = document.getElementById('47c8b2e4-0736-4319-9a6f-0a8e6f16b662');\n",
       "var x = new MutationObserver(function (mutations, observer) {{\n",
       "        var display = window.getComputedStyle(gd).display;\n",
       "        if (!display || display === 'none') {{\n",
       "            console.log([gd, 'removed!']);\n",
       "            Plotly.purge(gd);\n",
       "            observer.disconnect();\n",
       "        }}\n",
       "}});\n",
       "\n",
       "// Listen for the removal of the full notebook cells\n",
       "var notebookContainer = gd.closest('#notebook-container');\n",
       "if (notebookContainer) {{\n",
       "    x.observe(notebookContainer, {childList: true});\n",
       "}}\n",
       "\n",
       "// Listen for the clearing of the current output cell\n",
       "var outputEl = gd.closest('.output');\n",
       "if (outputEl) {{\n",
       "    x.observe(outputEl, {childList: true});\n",
       "}}\n",
       "\n",
       "                        })\n",
       "                };\n",
       "                });\n",
       "            </script>\n",
       "        </div>"
      ]
     },
     "metadata": {},
     "output_type": "display_data"
    }
   ],
   "source": [
    "fig = make_subplots(\n",
    "    rows=1,\n",
    "    cols=2,\n",
    "    subplot_titles=(\"New infections\", \"New hospitalizations\", \"Plot 3\", \"Plot 4\"),\n",
    ")\n",
    "plotting.add_gvar_scatter(\n",
    "    fig, x=chd_df.index, y=Y.T[0], name=\"Data\", mode=\"markers+lines\", color=\"#1f77b4\",\n",
    ")\n",
    "plotting.add_gvar_scatter(\n",
    "    fig,\n",
    "    x=fit_res.index,\n",
    "    y=fit_res.infected_new.values,\n",
    "    name=\"Fit\",\n",
    "    mode=\"markers+lines\",\n",
    "    gv_mode=\"band\",\n",
    "    color=\"#bcbd22\",\n",
    ")\n",
    "plotting.add_gvar_scatter(\n",
    "    fig,\n",
    "    x=chd_df.index,\n",
    "    y=Y.T[1],\n",
    "    name=\"Data\",\n",
    "    mode=\"markers+lines\",\n",
    "    row=1,\n",
    "    col=2,\n",
    "    color=\"#1f77b4\",\n",
    "    showlegend=False,\n",
    ")\n",
    "plotting.add_gvar_scatter(\n",
    "    fig,\n",
    "    x=fit_res.index,\n",
    "    y=fit_res.hospitalized_new.values,\n",
    "    name=\"Fit\",\n",
    "    mode=\"markers+lines\",\n",
    "    gv_mode=\"band\",\n",
    "    color=\"#bcbd22\",\n",
    "    row=1,\n",
    "    col=2,\n",
    "    showlegend=False,\n",
    ")\n",
    "fig.update_layout(\n",
    "    # yaxis1={\"type\":\"log\"},\n",
    "    # yaxis2={\"type\": \"log\"}\n",
    ")\n",
    "fig.show()"
   ]
  },
  {
   "cell_type": "code",
   "execution_count": 160,
   "metadata": {
    "hidden": true
   },
   "outputs": [
    {
     "data": {
      "text/plain": [
       "<module 'plotting' from '/Users/christopherkorber/gdrive/git/bochum/covid-19-analysis/plotting.py'>"
      ]
     },
     "execution_count": 160,
     "metadata": {},
     "output_type": "execute_result"
    }
   ],
   "source": [
    "reload(plotting)"
   ]
  },
  {
   "cell_type": "code",
   "execution_count": 161,
   "metadata": {
    "hidden": true,
    "scrolled": false
   },
   "outputs": [
    {
     "data": {
      "application/vnd.plotly.v1+json": {
       "config": {
        "plotlyServerURL": "https://plot.ly"
       },
       "data": [
        {
         "line": {
          "color": "#bcbd22",
          "shape": "spline"
         },
         "mode": "lines",
         "showlegend": false,
         "type": "scatter",
         "x": [
          "2020-03-08T00:00:00",
          "2020-03-09T00:00:00",
          "2020-03-10T00:00:00",
          "2020-03-11T00:00:00",
          "2020-03-12T00:00:00",
          "2020-03-13T00:00:00",
          "2020-03-14T00:00:00",
          "2020-03-15T00:00:00",
          "2020-03-16T00:00:00",
          "2020-03-17T00:00:00",
          "2020-03-18T00:00:00",
          "2020-03-19T00:00:00",
          "2020-03-20T00:00:00",
          "2020-03-21T00:00:00",
          "2020-03-22T00:00:00",
          "2020-03-23T00:00:00",
          "2020-03-24T00:00:00",
          "2020-03-25T00:00:00",
          "2020-03-26T00:00:00",
          "2020-03-27T00:00:00",
          "2020-03-28T00:00:00",
          "2020-03-29T00:00:00",
          "2020-03-30T00:00:00",
          "2020-03-31T00:00:00",
          "2020-04-01T00:00:00"
         ],
         "y": [
          1.1995720410094264,
          1.2392340070099097,
          1.2838187928448908,
          1.3339557334640468,
          1.3903565364884887,
          1.4538139206198144,
          1.525192345525797,
          1.6054111416274464,
          1.6954229905396092,
          1.7961928806054155,
          1.9086829214411551,
          2.033845532388049,
          2.172621664400362,
          2.3259342317344176,
          2.4946632827847797,
          2.679590330950937,
          2.881303326727239,
          3.100058735381637,
          3.3356029609468525,
          3.58696428943632,
          3.8522411054546013,
          4.128431439986681,
          4.411365286498854,
          4.6958002495996105,
          4.975710182777965,
          5.244739435286019,
          5.496739242264388,
          5.726280031965867,
          5.929053136840043,
          6.102118021964139,
          6.243990719286799,
          6.3545935855995195,
          6.435097624062714,
          6.487692203264331,
          6.515316627583022,
          6.521384760212974,
          6.509528185126497,
          6.483375991090704,
          6.446381352562958,
          6.4016978654833485,
          6.352102925460591,
          6.299961683365889,
          6.247223218128071,
          6.195440185371892,
          6.145803872045306,
          6.099187859177455,
          6.056194998789416,
          6.017203888665048,
          5.9824123275214705,
          5.951876284386005,
          5.925543708902839,
          5.903283067439796,
          5.88490685311631,
          5.870190530243781,
          5.858887476197905,
          5.850740511080042,
          5.845490584920188,
          5.84288314385476,
          5.842672634909252,
          5.84462554320636,
          5.848522291509161,
          5.854158273349056,
          5.86134423918837,
          5.86990621060675,
          5.879685060168506,
          5.890535863832816,
          5.902327107741003,
          5.914939811133145,
          5.928266611219289,
          5.942210843333696,
          5.956685639997073,
          5.971613065057438,
          5.986923293417577,
          6.002553842608934,
          6.018448859331291,
          6.034558461796365,
          6.050838137094341,
          6.0672481916880985,
          6.083753252407423,
          6.10032181486834,
          6.116925836006408,
          6.133540367328995,
          6.150143225517546,
          6.166714697110841,
          6.183237274151612,
          6.199695417860374,
          6.216075347599653,
          6.2323648525978035,
          6.248553124108059,
          6.2646306058787475,
          6.280588861003726,
          6.296420453403112,
          6.312118842354588,
          6.327678288652705,
          6.343093771118326,
          6.35836091231298,
          6.373475912433222,
          6.388435490469798,
          6.403236831815057
         ]
        },
        {
         "fill": "tonexty",
         "fillcolor": "rgba(188,189,34,0.5)",
         "line": {
          "color": "#bcbd22",
          "shape": "spline"
         },
         "mode": "lines",
         "name": "Fit",
         "showlegend": true,
         "type": "scatter",
         "x": [
          "2020-03-08T00:00:00",
          "2020-03-09T00:00:00",
          "2020-03-10T00:00:00",
          "2020-03-11T00:00:00",
          "2020-03-12T00:00:00",
          "2020-03-13T00:00:00",
          "2020-03-14T00:00:00",
          "2020-03-15T00:00:00",
          "2020-03-16T00:00:00",
          "2020-03-17T00:00:00",
          "2020-03-18T00:00:00",
          "2020-03-19T00:00:00",
          "2020-03-20T00:00:00",
          "2020-03-21T00:00:00",
          "2020-03-22T00:00:00",
          "2020-03-23T00:00:00",
          "2020-03-24T00:00:00",
          "2020-03-25T00:00:00",
          "2020-03-26T00:00:00",
          "2020-03-27T00:00:00",
          "2020-03-28T00:00:00",
          "2020-03-29T00:00:00",
          "2020-03-30T00:00:00",
          "2020-03-31T00:00:00",
          "2020-04-01T00:00:00"
         ],
         "y": [
          1.391190370996703,
          1.4288347121202851,
          1.4727092051479742,
          1.5236938957285329,
          1.5827601615358142,
          1.6509820972080207,
          1.7295525932311047,
          1.8198020699031368,
          1.923214743848464,
          2.041434705154396,
          2.1762534873168233,
          2.3295735308254435,
          2.503347944030797,
          2.699504006768202,
          2.91986257699034,
          3.166066309195063,
          3.4395277534364244,
          3.7414061503252753,
          4.072619024143346,
          4.433888832708696,
          4.825813013796122,
          5.248928125168382,
          5.7037224321177495,
          6.1905500482074665,
          6.709426104840908,
          7.259732697164343,
          7.839913184123954,
          8.447246664624647,
          9.077767463499049,
          9.726347215504617,
          10.38691654732018,
          11.05278172945442,
          11.716986571713008,
          12.372674266595865,
          13.013412782564078,
          13.63345825942298,
          14.227942239089513,
          14.792979233524157,
          15.325699957899158,
          15.824221778790278,
          16.287571315903094,
          16.715574964724503,
          17.10873197989615,
          17.468082400266006,
          17.795079183296252,
          18.091470976753225,
          18.359199335258488,
          18.60031206634545,
          18.816892813844575,
          19.011005919687115,
          19.184654967229793,
          19.33975310270354,
          19.478103162104233,
          19.60138571759602,
          19.71115333608647,
          19.808829565720202,
          19.895711401085023,
          19.97297420417639,
          20.04167826377356,
          20.10277635519821,
          20.157121813989015,
          20.205476761885002,
          20.248520224155065,
          20.28685595685149,
          20.321019864268777,
          20.351486933874178,
          20.378677651041244,
          20.402963881518023,
          20.424674227740272,
          20.444098877558233,
          20.461493972061422,
          20.477085524045812,
          20.491072921144017,
          20.503632048392824,
          20.51491806456378,
          20.525067865318498,
          20.53420226446303,
          20.542427922481554,
          20.549839049284664,
          20.55651890582259,
          20.56254112696601,
          20.567970885901296,
          20.572865918246197,
          20.577277422200925,
          20.58125084929712,
          20.584826598713846,
          20.588040626677746,
          20.590924981157826,
          20.59350827088611,
          20.595816076687857,
          20.59787131215891,
          20.599694539897666,
          20.601304248753564,
          20.60271709689668,
          20.60394812493303,
          20.60501094277265,
          20.60591789350949,
          20.606680197167194,
          20.607308076817407
         ]
        }
       ],
       "layout": {
        "template": {
         "data": {
          "bar": [
           {
            "error_x": {
             "color": "#2a3f5f"
            },
            "error_y": {
             "color": "#2a3f5f"
            },
            "marker": {
             "line": {
              "color": "#E5ECF6",
              "width": 0.5
             }
            },
            "type": "bar"
           }
          ],
          "barpolar": [
           {
            "marker": {
             "line": {
              "color": "#E5ECF6",
              "width": 0.5
             }
            },
            "type": "barpolar"
           }
          ],
          "carpet": [
           {
            "aaxis": {
             "endlinecolor": "#2a3f5f",
             "gridcolor": "white",
             "linecolor": "white",
             "minorgridcolor": "white",
             "startlinecolor": "#2a3f5f"
            },
            "baxis": {
             "endlinecolor": "#2a3f5f",
             "gridcolor": "white",
             "linecolor": "white",
             "minorgridcolor": "white",
             "startlinecolor": "#2a3f5f"
            },
            "type": "carpet"
           }
          ],
          "choropleth": [
           {
            "colorbar": {
             "outlinewidth": 0,
             "ticks": ""
            },
            "type": "choropleth"
           }
          ],
          "contour": [
           {
            "colorbar": {
             "outlinewidth": 0,
             "ticks": ""
            },
            "colorscale": [
             [
              0,
              "#0d0887"
             ],
             [
              0.1111111111111111,
              "#46039f"
             ],
             [
              0.2222222222222222,
              "#7201a8"
             ],
             [
              0.3333333333333333,
              "#9c179e"
             ],
             [
              0.4444444444444444,
              "#bd3786"
             ],
             [
              0.5555555555555556,
              "#d8576b"
             ],
             [
              0.6666666666666666,
              "#ed7953"
             ],
             [
              0.7777777777777778,
              "#fb9f3a"
             ],
             [
              0.8888888888888888,
              "#fdca26"
             ],
             [
              1,
              "#f0f921"
             ]
            ],
            "type": "contour"
           }
          ],
          "contourcarpet": [
           {
            "colorbar": {
             "outlinewidth": 0,
             "ticks": ""
            },
            "type": "contourcarpet"
           }
          ],
          "heatmap": [
           {
            "colorbar": {
             "outlinewidth": 0,
             "ticks": ""
            },
            "colorscale": [
             [
              0,
              "#0d0887"
             ],
             [
              0.1111111111111111,
              "#46039f"
             ],
             [
              0.2222222222222222,
              "#7201a8"
             ],
             [
              0.3333333333333333,
              "#9c179e"
             ],
             [
              0.4444444444444444,
              "#bd3786"
             ],
             [
              0.5555555555555556,
              "#d8576b"
             ],
             [
              0.6666666666666666,
              "#ed7953"
             ],
             [
              0.7777777777777778,
              "#fb9f3a"
             ],
             [
              0.8888888888888888,
              "#fdca26"
             ],
             [
              1,
              "#f0f921"
             ]
            ],
            "type": "heatmap"
           }
          ],
          "heatmapgl": [
           {
            "colorbar": {
             "outlinewidth": 0,
             "ticks": ""
            },
            "colorscale": [
             [
              0,
              "#0d0887"
             ],
             [
              0.1111111111111111,
              "#46039f"
             ],
             [
              0.2222222222222222,
              "#7201a8"
             ],
             [
              0.3333333333333333,
              "#9c179e"
             ],
             [
              0.4444444444444444,
              "#bd3786"
             ],
             [
              0.5555555555555556,
              "#d8576b"
             ],
             [
              0.6666666666666666,
              "#ed7953"
             ],
             [
              0.7777777777777778,
              "#fb9f3a"
             ],
             [
              0.8888888888888888,
              "#fdca26"
             ],
             [
              1,
              "#f0f921"
             ]
            ],
            "type": "heatmapgl"
           }
          ],
          "histogram": [
           {
            "marker": {
             "colorbar": {
              "outlinewidth": 0,
              "ticks": ""
             }
            },
            "type": "histogram"
           }
          ],
          "histogram2d": [
           {
            "colorbar": {
             "outlinewidth": 0,
             "ticks": ""
            },
            "colorscale": [
             [
              0,
              "#0d0887"
             ],
             [
              0.1111111111111111,
              "#46039f"
             ],
             [
              0.2222222222222222,
              "#7201a8"
             ],
             [
              0.3333333333333333,
              "#9c179e"
             ],
             [
              0.4444444444444444,
              "#bd3786"
             ],
             [
              0.5555555555555556,
              "#d8576b"
             ],
             [
              0.6666666666666666,
              "#ed7953"
             ],
             [
              0.7777777777777778,
              "#fb9f3a"
             ],
             [
              0.8888888888888888,
              "#fdca26"
             ],
             [
              1,
              "#f0f921"
             ]
            ],
            "type": "histogram2d"
           }
          ],
          "histogram2dcontour": [
           {
            "colorbar": {
             "outlinewidth": 0,
             "ticks": ""
            },
            "colorscale": [
             [
              0,
              "#0d0887"
             ],
             [
              0.1111111111111111,
              "#46039f"
             ],
             [
              0.2222222222222222,
              "#7201a8"
             ],
             [
              0.3333333333333333,
              "#9c179e"
             ],
             [
              0.4444444444444444,
              "#bd3786"
             ],
             [
              0.5555555555555556,
              "#d8576b"
             ],
             [
              0.6666666666666666,
              "#ed7953"
             ],
             [
              0.7777777777777778,
              "#fb9f3a"
             ],
             [
              0.8888888888888888,
              "#fdca26"
             ],
             [
              1,
              "#f0f921"
             ]
            ],
            "type": "histogram2dcontour"
           }
          ],
          "mesh3d": [
           {
            "colorbar": {
             "outlinewidth": 0,
             "ticks": ""
            },
            "type": "mesh3d"
           }
          ],
          "parcoords": [
           {
            "line": {
             "colorbar": {
              "outlinewidth": 0,
              "ticks": ""
             }
            },
            "type": "parcoords"
           }
          ],
          "pie": [
           {
            "automargin": true,
            "type": "pie"
           }
          ],
          "scatter": [
           {
            "marker": {
             "colorbar": {
              "outlinewidth": 0,
              "ticks": ""
             }
            },
            "type": "scatter"
           }
          ],
          "scatter3d": [
           {
            "line": {
             "colorbar": {
              "outlinewidth": 0,
              "ticks": ""
             }
            },
            "marker": {
             "colorbar": {
              "outlinewidth": 0,
              "ticks": ""
             }
            },
            "type": "scatter3d"
           }
          ],
          "scattercarpet": [
           {
            "marker": {
             "colorbar": {
              "outlinewidth": 0,
              "ticks": ""
             }
            },
            "type": "scattercarpet"
           }
          ],
          "scattergeo": [
           {
            "marker": {
             "colorbar": {
              "outlinewidth": 0,
              "ticks": ""
             }
            },
            "type": "scattergeo"
           }
          ],
          "scattergl": [
           {
            "marker": {
             "colorbar": {
              "outlinewidth": 0,
              "ticks": ""
             }
            },
            "type": "scattergl"
           }
          ],
          "scattermapbox": [
           {
            "marker": {
             "colorbar": {
              "outlinewidth": 0,
              "ticks": ""
             }
            },
            "type": "scattermapbox"
           }
          ],
          "scatterpolar": [
           {
            "marker": {
             "colorbar": {
              "outlinewidth": 0,
              "ticks": ""
             }
            },
            "type": "scatterpolar"
           }
          ],
          "scatterpolargl": [
           {
            "marker": {
             "colorbar": {
              "outlinewidth": 0,
              "ticks": ""
             }
            },
            "type": "scatterpolargl"
           }
          ],
          "scatterternary": [
           {
            "marker": {
             "colorbar": {
              "outlinewidth": 0,
              "ticks": ""
             }
            },
            "type": "scatterternary"
           }
          ],
          "surface": [
           {
            "colorbar": {
             "outlinewidth": 0,
             "ticks": ""
            },
            "colorscale": [
             [
              0,
              "#0d0887"
             ],
             [
              0.1111111111111111,
              "#46039f"
             ],
             [
              0.2222222222222222,
              "#7201a8"
             ],
             [
              0.3333333333333333,
              "#9c179e"
             ],
             [
              0.4444444444444444,
              "#bd3786"
             ],
             [
              0.5555555555555556,
              "#d8576b"
             ],
             [
              0.6666666666666666,
              "#ed7953"
             ],
             [
              0.7777777777777778,
              "#fb9f3a"
             ],
             [
              0.8888888888888888,
              "#fdca26"
             ],
             [
              1,
              "#f0f921"
             ]
            ],
            "type": "surface"
           }
          ],
          "table": [
           {
            "cells": {
             "fill": {
              "color": "#EBF0F8"
             },
             "line": {
              "color": "white"
             }
            },
            "header": {
             "fill": {
              "color": "#C8D4E3"
             },
             "line": {
              "color": "white"
             }
            },
            "type": "table"
           }
          ]
         },
         "layout": {
          "annotationdefaults": {
           "arrowcolor": "#2a3f5f",
           "arrowhead": 0,
           "arrowwidth": 1
          },
          "coloraxis": {
           "colorbar": {
            "outlinewidth": 0,
            "ticks": ""
           }
          },
          "colorscale": {
           "diverging": [
            [
             0,
             "#8e0152"
            ],
            [
             0.1,
             "#c51b7d"
            ],
            [
             0.2,
             "#de77ae"
            ],
            [
             0.3,
             "#f1b6da"
            ],
            [
             0.4,
             "#fde0ef"
            ],
            [
             0.5,
             "#f7f7f7"
            ],
            [
             0.6,
             "#e6f5d0"
            ],
            [
             0.7,
             "#b8e186"
            ],
            [
             0.8,
             "#7fbc41"
            ],
            [
             0.9,
             "#4d9221"
            ],
            [
             1,
             "#276419"
            ]
           ],
           "sequential": [
            [
             0,
             "#0d0887"
            ],
            [
             0.1111111111111111,
             "#46039f"
            ],
            [
             0.2222222222222222,
             "#7201a8"
            ],
            [
             0.3333333333333333,
             "#9c179e"
            ],
            [
             0.4444444444444444,
             "#bd3786"
            ],
            [
             0.5555555555555556,
             "#d8576b"
            ],
            [
             0.6666666666666666,
             "#ed7953"
            ],
            [
             0.7777777777777778,
             "#fb9f3a"
            ],
            [
             0.8888888888888888,
             "#fdca26"
            ],
            [
             1,
             "#f0f921"
            ]
           ],
           "sequentialminus": [
            [
             0,
             "#0d0887"
            ],
            [
             0.1111111111111111,
             "#46039f"
            ],
            [
             0.2222222222222222,
             "#7201a8"
            ],
            [
             0.3333333333333333,
             "#9c179e"
            ],
            [
             0.4444444444444444,
             "#bd3786"
            ],
            [
             0.5555555555555556,
             "#d8576b"
            ],
            [
             0.6666666666666666,
             "#ed7953"
            ],
            [
             0.7777777777777778,
             "#fb9f3a"
            ],
            [
             0.8888888888888888,
             "#fdca26"
            ],
            [
             1,
             "#f0f921"
            ]
           ]
          },
          "colorway": [
           "#636efa",
           "#EF553B",
           "#00cc96",
           "#ab63fa",
           "#FFA15A",
           "#19d3f3",
           "#FF6692",
           "#B6E880",
           "#FF97FF",
           "#FECB52"
          ],
          "font": {
           "color": "#2a3f5f"
          },
          "geo": {
           "bgcolor": "white",
           "lakecolor": "white",
           "landcolor": "#E5ECF6",
           "showlakes": true,
           "showland": true,
           "subunitcolor": "white"
          },
          "hoverlabel": {
           "align": "left"
          },
          "hovermode": "closest",
          "mapbox": {
           "style": "light"
          },
          "paper_bgcolor": "white",
          "plot_bgcolor": "#E5ECF6",
          "polar": {
           "angularaxis": {
            "gridcolor": "white",
            "linecolor": "white",
            "ticks": ""
           },
           "bgcolor": "#E5ECF6",
           "radialaxis": {
            "gridcolor": "white",
            "linecolor": "white",
            "ticks": ""
           }
          },
          "scene": {
           "xaxis": {
            "backgroundcolor": "#E5ECF6",
            "gridcolor": "white",
            "gridwidth": 2,
            "linecolor": "white",
            "showbackground": true,
            "ticks": "",
            "zerolinecolor": "white"
           },
           "yaxis": {
            "backgroundcolor": "#E5ECF6",
            "gridcolor": "white",
            "gridwidth": 2,
            "linecolor": "white",
            "showbackground": true,
            "ticks": "",
            "zerolinecolor": "white"
           },
           "zaxis": {
            "backgroundcolor": "#E5ECF6",
            "gridcolor": "white",
            "gridwidth": 2,
            "linecolor": "white",
            "showbackground": true,
            "ticks": "",
            "zerolinecolor": "white"
           }
          },
          "shapedefaults": {
           "line": {
            "color": "#2a3f5f"
           }
          },
          "ternary": {
           "aaxis": {
            "gridcolor": "white",
            "linecolor": "white",
            "ticks": ""
           },
           "baxis": {
            "gridcolor": "white",
            "linecolor": "white",
            "ticks": ""
           },
           "bgcolor": "#E5ECF6",
           "caxis": {
            "gridcolor": "white",
            "linecolor": "white",
            "ticks": ""
           }
          },
          "title": {
           "x": 0.05
          },
          "xaxis": {
           "automargin": true,
           "gridcolor": "white",
           "linecolor": "white",
           "ticks": "",
           "title": {
            "standoff": 15
           },
           "zerolinecolor": "white",
           "zerolinewidth": 2
          },
          "yaxis": {
           "automargin": true,
           "gridcolor": "white",
           "linecolor": "white",
           "ticks": "",
           "title": {
            "standoff": 15
           },
           "zerolinecolor": "white",
           "zerolinewidth": 2
          }
         }
        },
        "title": {
         "text": "Effective Doubling Time R0"
        },
        "yaxis": {
         "title": {
          "text": "Days"
         }
        }
       }
      },
      "text/html": [
       "<div>\n",
       "        \n",
       "        \n",
       "            <div id=\"526bb436-b2d6-4e29-94fc-ecb4949e2aae\" class=\"plotly-graph-div\" style=\"height:525px; width:100%;\"></div>\n",
       "            <script type=\"text/javascript\">\n",
       "                require([\"plotly\"], function(Plotly) {\n",
       "                    window.PLOTLYENV=window.PLOTLYENV || {};\n",
       "                    \n",
       "                if (document.getElementById(\"526bb436-b2d6-4e29-94fc-ecb4949e2aae\")) {\n",
       "                    Plotly.newPlot(\n",
       "                        '526bb436-b2d6-4e29-94fc-ecb4949e2aae',\n",
       "                        [{\"line\": {\"color\": \"#bcbd22\", \"shape\": \"spline\"}, \"mode\": \"lines\", \"showlegend\": false, \"type\": \"scatter\", \"x\": [\"2020-03-08T00:00:00\", \"2020-03-09T00:00:00\", \"2020-03-10T00:00:00\", \"2020-03-11T00:00:00\", \"2020-03-12T00:00:00\", \"2020-03-13T00:00:00\", \"2020-03-14T00:00:00\", \"2020-03-15T00:00:00\", \"2020-03-16T00:00:00\", \"2020-03-17T00:00:00\", \"2020-03-18T00:00:00\", \"2020-03-19T00:00:00\", \"2020-03-20T00:00:00\", \"2020-03-21T00:00:00\", \"2020-03-22T00:00:00\", \"2020-03-23T00:00:00\", \"2020-03-24T00:00:00\", \"2020-03-25T00:00:00\", \"2020-03-26T00:00:00\", \"2020-03-27T00:00:00\", \"2020-03-28T00:00:00\", \"2020-03-29T00:00:00\", \"2020-03-30T00:00:00\", \"2020-03-31T00:00:00\", \"2020-04-01T00:00:00\"], \"y\": [1.1995720410094264, 1.2392340070099097, 1.2838187928448908, 1.3339557334640468, 1.3903565364884887, 1.4538139206198144, 1.525192345525797, 1.6054111416274464, 1.6954229905396092, 1.7961928806054155, 1.9086829214411551, 2.033845532388049, 2.172621664400362, 2.3259342317344176, 2.4946632827847797, 2.679590330950937, 2.881303326727239, 3.100058735381637, 3.3356029609468525, 3.58696428943632, 3.8522411054546013, 4.128431439986681, 4.411365286498854, 4.6958002495996105, 4.975710182777965, 5.244739435286019, 5.496739242264388, 5.726280031965867, 5.929053136840043, 6.102118021964139, 6.243990719286799, 6.3545935855995195, 6.435097624062714, 6.487692203264331, 6.515316627583022, 6.521384760212974, 6.509528185126497, 6.483375991090704, 6.446381352562958, 6.4016978654833485, 6.352102925460591, 6.299961683365889, 6.247223218128071, 6.195440185371892, 6.145803872045306, 6.099187859177455, 6.056194998789416, 6.017203888665048, 5.9824123275214705, 5.951876284386005, 5.925543708902839, 5.903283067439796, 5.88490685311631, 5.870190530243781, 5.858887476197905, 5.850740511080042, 5.845490584920188, 5.84288314385476, 5.842672634909252, 5.84462554320636, 5.848522291509161, 5.854158273349056, 5.86134423918837, 5.86990621060675, 5.879685060168506, 5.890535863832816, 5.902327107741003, 5.914939811133145, 5.928266611219289, 5.942210843333696, 5.956685639997073, 5.971613065057438, 5.986923293417577, 6.002553842608934, 6.018448859331291, 6.034558461796365, 6.050838137094341, 6.0672481916880985, 6.083753252407423, 6.10032181486834, 6.116925836006408, 6.133540367328995, 6.150143225517546, 6.166714697110841, 6.183237274151612, 6.199695417860374, 6.216075347599653, 6.2323648525978035, 6.248553124108059, 6.2646306058787475, 6.280588861003726, 6.296420453403112, 6.312118842354588, 6.327678288652705, 6.343093771118326, 6.35836091231298, 6.373475912433222, 6.388435490469798, 6.403236831815057]}, {\"fill\": \"tonexty\", \"fillcolor\": \"rgba(188,189,34,0.5)\", \"line\": {\"color\": \"#bcbd22\", \"shape\": \"spline\"}, \"mode\": \"lines\", \"name\": \"Fit\", \"showlegend\": true, \"type\": \"scatter\", \"x\": [\"2020-03-08T00:00:00\", \"2020-03-09T00:00:00\", \"2020-03-10T00:00:00\", \"2020-03-11T00:00:00\", \"2020-03-12T00:00:00\", \"2020-03-13T00:00:00\", \"2020-03-14T00:00:00\", \"2020-03-15T00:00:00\", \"2020-03-16T00:00:00\", \"2020-03-17T00:00:00\", \"2020-03-18T00:00:00\", \"2020-03-19T00:00:00\", \"2020-03-20T00:00:00\", \"2020-03-21T00:00:00\", \"2020-03-22T00:00:00\", \"2020-03-23T00:00:00\", \"2020-03-24T00:00:00\", \"2020-03-25T00:00:00\", \"2020-03-26T00:00:00\", \"2020-03-27T00:00:00\", \"2020-03-28T00:00:00\", \"2020-03-29T00:00:00\", \"2020-03-30T00:00:00\", \"2020-03-31T00:00:00\", \"2020-04-01T00:00:00\"], \"y\": [1.391190370996703, 1.4288347121202851, 1.4727092051479742, 1.5236938957285329, 1.5827601615358142, 1.6509820972080207, 1.7295525932311047, 1.8198020699031368, 1.923214743848464, 2.041434705154396, 2.1762534873168233, 2.3295735308254435, 2.503347944030797, 2.699504006768202, 2.91986257699034, 3.166066309195063, 3.4395277534364244, 3.7414061503252753, 4.072619024143346, 4.433888832708696, 4.825813013796122, 5.248928125168382, 5.7037224321177495, 6.1905500482074665, 6.709426104840908, 7.259732697164343, 7.839913184123954, 8.447246664624647, 9.077767463499049, 9.726347215504617, 10.38691654732018, 11.05278172945442, 11.716986571713008, 12.372674266595865, 13.013412782564078, 13.63345825942298, 14.227942239089513, 14.792979233524157, 15.325699957899158, 15.824221778790278, 16.287571315903094, 16.715574964724503, 17.10873197989615, 17.468082400266006, 17.795079183296252, 18.091470976753225, 18.359199335258488, 18.60031206634545, 18.816892813844575, 19.011005919687115, 19.184654967229793, 19.33975310270354, 19.478103162104233, 19.60138571759602, 19.71115333608647, 19.808829565720202, 19.895711401085023, 19.97297420417639, 20.04167826377356, 20.10277635519821, 20.157121813989015, 20.205476761885002, 20.248520224155065, 20.28685595685149, 20.321019864268777, 20.351486933874178, 20.378677651041244, 20.402963881518023, 20.424674227740272, 20.444098877558233, 20.461493972061422, 20.477085524045812, 20.491072921144017, 20.503632048392824, 20.51491806456378, 20.525067865318498, 20.53420226446303, 20.542427922481554, 20.549839049284664, 20.55651890582259, 20.56254112696601, 20.567970885901296, 20.572865918246197, 20.577277422200925, 20.58125084929712, 20.584826598713846, 20.588040626677746, 20.590924981157826, 20.59350827088611, 20.595816076687857, 20.59787131215891, 20.599694539897666, 20.601304248753564, 20.60271709689668, 20.60394812493303, 20.60501094277265, 20.60591789350949, 20.606680197167194, 20.607308076817407]}],\n",
       "                        {\"template\": {\"data\": {\"bar\": [{\"error_x\": {\"color\": \"#2a3f5f\"}, \"error_y\": {\"color\": \"#2a3f5f\"}, \"marker\": {\"line\": {\"color\": \"#E5ECF6\", \"width\": 0.5}}, \"type\": \"bar\"}], \"barpolar\": [{\"marker\": {\"line\": {\"color\": \"#E5ECF6\", \"width\": 0.5}}, \"type\": \"barpolar\"}], \"carpet\": [{\"aaxis\": {\"endlinecolor\": \"#2a3f5f\", \"gridcolor\": \"white\", \"linecolor\": \"white\", \"minorgridcolor\": \"white\", \"startlinecolor\": \"#2a3f5f\"}, \"baxis\": {\"endlinecolor\": \"#2a3f5f\", \"gridcolor\": \"white\", \"linecolor\": \"white\", \"minorgridcolor\": \"white\", \"startlinecolor\": \"#2a3f5f\"}, \"type\": \"carpet\"}], \"choropleth\": [{\"colorbar\": {\"outlinewidth\": 0, \"ticks\": \"\"}, \"type\": \"choropleth\"}], \"contour\": [{\"colorbar\": {\"outlinewidth\": 0, \"ticks\": \"\"}, \"colorscale\": [[0.0, \"#0d0887\"], [0.1111111111111111, \"#46039f\"], [0.2222222222222222, \"#7201a8\"], [0.3333333333333333, \"#9c179e\"], [0.4444444444444444, \"#bd3786\"], [0.5555555555555556, \"#d8576b\"], [0.6666666666666666, \"#ed7953\"], [0.7777777777777778, \"#fb9f3a\"], [0.8888888888888888, \"#fdca26\"], [1.0, \"#f0f921\"]], \"type\": \"contour\"}], \"contourcarpet\": [{\"colorbar\": {\"outlinewidth\": 0, \"ticks\": \"\"}, \"type\": \"contourcarpet\"}], \"heatmap\": [{\"colorbar\": {\"outlinewidth\": 0, \"ticks\": \"\"}, \"colorscale\": [[0.0, \"#0d0887\"], [0.1111111111111111, \"#46039f\"], [0.2222222222222222, \"#7201a8\"], [0.3333333333333333, \"#9c179e\"], [0.4444444444444444, \"#bd3786\"], [0.5555555555555556, \"#d8576b\"], [0.6666666666666666, \"#ed7953\"], [0.7777777777777778, \"#fb9f3a\"], [0.8888888888888888, \"#fdca26\"], [1.0, \"#f0f921\"]], \"type\": \"heatmap\"}], \"heatmapgl\": [{\"colorbar\": {\"outlinewidth\": 0, \"ticks\": \"\"}, \"colorscale\": [[0.0, \"#0d0887\"], [0.1111111111111111, \"#46039f\"], [0.2222222222222222, \"#7201a8\"], [0.3333333333333333, \"#9c179e\"], [0.4444444444444444, \"#bd3786\"], [0.5555555555555556, \"#d8576b\"], [0.6666666666666666, \"#ed7953\"], [0.7777777777777778, \"#fb9f3a\"], [0.8888888888888888, \"#fdca26\"], [1.0, \"#f0f921\"]], \"type\": \"heatmapgl\"}], \"histogram\": [{\"marker\": {\"colorbar\": {\"outlinewidth\": 0, \"ticks\": \"\"}}, \"type\": \"histogram\"}], \"histogram2d\": [{\"colorbar\": {\"outlinewidth\": 0, \"ticks\": \"\"}, \"colorscale\": [[0.0, \"#0d0887\"], [0.1111111111111111, \"#46039f\"], [0.2222222222222222, \"#7201a8\"], [0.3333333333333333, \"#9c179e\"], [0.4444444444444444, \"#bd3786\"], [0.5555555555555556, \"#d8576b\"], [0.6666666666666666, \"#ed7953\"], [0.7777777777777778, \"#fb9f3a\"], [0.8888888888888888, \"#fdca26\"], [1.0, \"#f0f921\"]], \"type\": \"histogram2d\"}], \"histogram2dcontour\": [{\"colorbar\": {\"outlinewidth\": 0, \"ticks\": \"\"}, \"colorscale\": [[0.0, \"#0d0887\"], [0.1111111111111111, \"#46039f\"], [0.2222222222222222, \"#7201a8\"], [0.3333333333333333, \"#9c179e\"], [0.4444444444444444, \"#bd3786\"], [0.5555555555555556, \"#d8576b\"], [0.6666666666666666, \"#ed7953\"], [0.7777777777777778, \"#fb9f3a\"], [0.8888888888888888, \"#fdca26\"], [1.0, \"#f0f921\"]], \"type\": \"histogram2dcontour\"}], \"mesh3d\": [{\"colorbar\": {\"outlinewidth\": 0, \"ticks\": \"\"}, \"type\": \"mesh3d\"}], \"parcoords\": [{\"line\": {\"colorbar\": {\"outlinewidth\": 0, \"ticks\": \"\"}}, \"type\": \"parcoords\"}], \"pie\": [{\"automargin\": true, \"type\": \"pie\"}], \"scatter\": [{\"marker\": {\"colorbar\": {\"outlinewidth\": 0, \"ticks\": \"\"}}, \"type\": \"scatter\"}], \"scatter3d\": [{\"line\": {\"colorbar\": {\"outlinewidth\": 0, \"ticks\": \"\"}}, \"marker\": {\"colorbar\": {\"outlinewidth\": 0, \"ticks\": \"\"}}, \"type\": \"scatter3d\"}], \"scattercarpet\": [{\"marker\": {\"colorbar\": {\"outlinewidth\": 0, \"ticks\": \"\"}}, \"type\": \"scattercarpet\"}], \"scattergeo\": [{\"marker\": {\"colorbar\": {\"outlinewidth\": 0, \"ticks\": \"\"}}, \"type\": \"scattergeo\"}], \"scattergl\": [{\"marker\": {\"colorbar\": {\"outlinewidth\": 0, \"ticks\": \"\"}}, \"type\": \"scattergl\"}], \"scattermapbox\": [{\"marker\": {\"colorbar\": {\"outlinewidth\": 0, \"ticks\": \"\"}}, \"type\": \"scattermapbox\"}], \"scatterpolar\": [{\"marker\": {\"colorbar\": {\"outlinewidth\": 0, \"ticks\": \"\"}}, \"type\": \"scatterpolar\"}], \"scatterpolargl\": [{\"marker\": {\"colorbar\": {\"outlinewidth\": 0, \"ticks\": \"\"}}, \"type\": \"scatterpolargl\"}], \"scatterternary\": [{\"marker\": {\"colorbar\": {\"outlinewidth\": 0, \"ticks\": \"\"}}, \"type\": \"scatterternary\"}], \"surface\": [{\"colorbar\": {\"outlinewidth\": 0, \"ticks\": \"\"}, \"colorscale\": [[0.0, \"#0d0887\"], [0.1111111111111111, \"#46039f\"], [0.2222222222222222, \"#7201a8\"], [0.3333333333333333, \"#9c179e\"], [0.4444444444444444, \"#bd3786\"], [0.5555555555555556, \"#d8576b\"], [0.6666666666666666, \"#ed7953\"], [0.7777777777777778, \"#fb9f3a\"], [0.8888888888888888, \"#fdca26\"], [1.0, \"#f0f921\"]], \"type\": \"surface\"}], \"table\": [{\"cells\": {\"fill\": {\"color\": \"#EBF0F8\"}, \"line\": {\"color\": \"white\"}}, \"header\": {\"fill\": {\"color\": \"#C8D4E3\"}, \"line\": {\"color\": \"white\"}}, \"type\": \"table\"}]}, \"layout\": {\"annotationdefaults\": {\"arrowcolor\": \"#2a3f5f\", \"arrowhead\": 0, \"arrowwidth\": 1}, \"coloraxis\": {\"colorbar\": {\"outlinewidth\": 0, \"ticks\": \"\"}}, \"colorscale\": {\"diverging\": [[0, \"#8e0152\"], [0.1, \"#c51b7d\"], [0.2, \"#de77ae\"], [0.3, \"#f1b6da\"], [0.4, \"#fde0ef\"], [0.5, \"#f7f7f7\"], [0.6, \"#e6f5d0\"], [0.7, \"#b8e186\"], [0.8, \"#7fbc41\"], [0.9, \"#4d9221\"], [1, \"#276419\"]], \"sequential\": [[0.0, \"#0d0887\"], [0.1111111111111111, \"#46039f\"], [0.2222222222222222, \"#7201a8\"], [0.3333333333333333, \"#9c179e\"], [0.4444444444444444, \"#bd3786\"], [0.5555555555555556, \"#d8576b\"], [0.6666666666666666, \"#ed7953\"], [0.7777777777777778, \"#fb9f3a\"], [0.8888888888888888, \"#fdca26\"], [1.0, \"#f0f921\"]], \"sequentialminus\": [[0.0, \"#0d0887\"], [0.1111111111111111, \"#46039f\"], [0.2222222222222222, \"#7201a8\"], [0.3333333333333333, \"#9c179e\"], [0.4444444444444444, \"#bd3786\"], [0.5555555555555556, \"#d8576b\"], [0.6666666666666666, \"#ed7953\"], [0.7777777777777778, \"#fb9f3a\"], [0.8888888888888888, \"#fdca26\"], [1.0, \"#f0f921\"]]}, \"colorway\": [\"#636efa\", \"#EF553B\", \"#00cc96\", \"#ab63fa\", \"#FFA15A\", \"#19d3f3\", \"#FF6692\", \"#B6E880\", \"#FF97FF\", \"#FECB52\"], \"font\": {\"color\": \"#2a3f5f\"}, \"geo\": {\"bgcolor\": \"white\", \"lakecolor\": \"white\", \"landcolor\": \"#E5ECF6\", \"showlakes\": true, \"showland\": true, \"subunitcolor\": \"white\"}, \"hoverlabel\": {\"align\": \"left\"}, \"hovermode\": \"closest\", \"mapbox\": {\"style\": \"light\"}, \"paper_bgcolor\": \"white\", \"plot_bgcolor\": \"#E5ECF6\", \"polar\": {\"angularaxis\": {\"gridcolor\": \"white\", \"linecolor\": \"white\", \"ticks\": \"\"}, \"bgcolor\": \"#E5ECF6\", \"radialaxis\": {\"gridcolor\": \"white\", \"linecolor\": \"white\", \"ticks\": \"\"}}, \"scene\": {\"xaxis\": {\"backgroundcolor\": \"#E5ECF6\", \"gridcolor\": \"white\", \"gridwidth\": 2, \"linecolor\": \"white\", \"showbackground\": true, \"ticks\": \"\", \"zerolinecolor\": \"white\"}, \"yaxis\": {\"backgroundcolor\": \"#E5ECF6\", \"gridcolor\": \"white\", \"gridwidth\": 2, \"linecolor\": \"white\", \"showbackground\": true, \"ticks\": \"\", \"zerolinecolor\": \"white\"}, \"zaxis\": {\"backgroundcolor\": \"#E5ECF6\", \"gridcolor\": \"white\", \"gridwidth\": 2, \"linecolor\": \"white\", \"showbackground\": true, \"ticks\": \"\", \"zerolinecolor\": \"white\"}}, \"shapedefaults\": {\"line\": {\"color\": \"#2a3f5f\"}}, \"ternary\": {\"aaxis\": {\"gridcolor\": \"white\", \"linecolor\": \"white\", \"ticks\": \"\"}, \"baxis\": {\"gridcolor\": \"white\", \"linecolor\": \"white\", \"ticks\": \"\"}, \"bgcolor\": \"#E5ECF6\", \"caxis\": {\"gridcolor\": \"white\", \"linecolor\": \"white\", \"ticks\": \"\"}}, \"title\": {\"x\": 0.05}, \"xaxis\": {\"automargin\": true, \"gridcolor\": \"white\", \"linecolor\": \"white\", \"ticks\": \"\", \"title\": {\"standoff\": 15}, \"zerolinecolor\": \"white\", \"zerolinewidth\": 2}, \"yaxis\": {\"automargin\": true, \"gridcolor\": \"white\", \"linecolor\": \"white\", \"ticks\": \"\", \"title\": {\"standoff\": 15}, \"zerolinecolor\": \"white\", \"zerolinewidth\": 2}}}, \"title\": {\"text\": \"Effective Doubling Time R0\"}, \"yaxis\": {\"title\": {\"text\": \"Days\"}}},\n",
       "                        {\"responsive\": true}\n",
       "                    ).then(function(){\n",
       "                            \n",
       "var gd = document.getElementById('526bb436-b2d6-4e29-94fc-ecb4949e2aae');\n",
       "var x = new MutationObserver(function (mutations, observer) {{\n",
       "        var display = window.getComputedStyle(gd).display;\n",
       "        if (!display || display === 'none') {{\n",
       "            console.log([gd, 'removed!']);\n",
       "            Plotly.purge(gd);\n",
       "            observer.disconnect();\n",
       "        }}\n",
       "}});\n",
       "\n",
       "// Listen for the removal of the full notebook cells\n",
       "var notebookContainer = gd.closest('#notebook-container');\n",
       "if (notebookContainer) {{\n",
       "    x.observe(notebookContainer, {childList: true});\n",
       "}}\n",
       "\n",
       "// Listen for the clearing of the current output cell\n",
       "var outputEl = gd.closest('.output');\n",
       "if (outputEl) {{\n",
       "    x.observe(outputEl, {childList: true});\n",
       "}}\n",
       "\n",
       "                        })\n",
       "                };\n",
       "                });\n",
       "            </script>\n",
       "        </div>"
      ]
     },
     "metadata": {},
     "output_type": "display_data"
    }
   ],
   "source": [
    "beta = fcn.beta_i_fcn(arange(X_extra[\"n_iter\"]), amplitude=fit.p[\"beta_i\"], **fit.p)\n",
    "dt = log(2) / (beta[1:] * fit_res.susceptible.values)\n",
    "\n",
    "fig = go.Figure()\n",
    "plotting.add_gvar_scatter(\n",
    "    fig,\n",
    "    x=chd_df.index,\n",
    "    y=dt,\n",
    "    name=\"Fit\",\n",
    "    mode=\"markers+lines\",\n",
    "    gv_mode=\"band\",\n",
    "    color=\"#bcbd22\",\n",
    ")\n",
    "fig.update_layout(title=\"Effective Doubling Time R0\", yaxis_title=\"Days\")\n",
    "fig.show()"
   ]
  },
  {
   "cell_type": "code",
   "execution_count": 165,
   "metadata": {
    "hidden": true
   },
   "outputs": [
    {
     "data": {
      "text/plain": [
       "array([201(35), 294(48), 427(64), 612(87), 866(117), 1209(158), 1666(213),\n",
       "       2259(286), 3017(381), 3964(503), 5121(656), 6503(844), 8118(1068),\n",
       "       9962(1332), 12019(1635), 14262(1978), 16655(2359), 19153(2776),\n",
       "       21705(3226), 24261(3705), 26771(4209), 29190(4733), 31481(5272),\n",
       "       33611(5823), 35560(6382), 37312(6948), 38860(7523), 40204(8106),\n",
       "       41347(8701), 42298(9312), 43069(9941), 43671(10590), 44119(11263),\n",
       "       44428(11959), 44612(12678), 44684(13418), 44658(14178),\n",
       "       44545(14954), 44357(15743), 44105(16541), 43796(17343),\n",
       "       43440(18147), 43043(18949), 42612(19744), 42152(20531),\n",
       "       41669(21306), 41166(22066), 40648(22810), 40117(23535),\n",
       "       39577(24241), 39029(24926), 38476(25588), 37920(26227),\n",
       "       37362(26842), 36804(27432), 36246(27998), 35690(28540),\n",
       "       35136(29056), 34586(29547), 34039(30013), 33496(30455),\n",
       "       32958(30872), 32425(31265), 31897(31634), 31375(31980),\n",
       "       30859(32303), 30348(32603), 29844(32882), 29345(33138),\n",
       "       28853(33374), 28368(33588), 27889(33783), 27416(33958),\n",
       "       26949(34114), 26489(34252), 26036(34372), 25588(34474),\n",
       "       25148(34559), 24713(34628), 24285(34681), 23864(34719),\n",
       "       23448(34741), 23039(34750), 22636(34744), 22239(34725),\n",
       "       21848(34693), 21463(34649), 21084(34593), 20712(34525),\n",
       "       20344(34446), 19983(34356), 19628(34256), 19278(34146),\n",
       "       18933(34027), 18595(33899), 18261(33762), 17933(33616),\n",
       "       17611(33463), 17293(33302)], dtype=object)"
      ]
     },
     "execution_count": 165,
     "metadata": {},
     "output_type": "execute_result"
    }
   ],
   "source": [
    "fit_res.infected.values"
   ]
  },
  {
   "cell_type": "code",
   "execution_count": 166,
   "metadata": {
    "hidden": true
   },
   "outputs": [
    {
     "data": {
      "application/vnd.plotly.v1+json": {
       "config": {
        "plotlyServerURL": "https://plot.ly"
       },
       "data": [
        {
         "line": {
          "color": "#bcbd22",
          "shape": "spline"
         },
         "mode": "lines",
         "showlegend": false,
         "type": "scatter",
         "x": [
          "2020-03-09T00:00:00",
          "2020-03-10T00:00:00",
          "2020-03-11T00:00:00",
          "2020-03-12T00:00:00",
          "2020-03-13T00:00:00",
          "2020-03-14T00:00:00",
          "2020-03-15T00:00:00",
          "2020-03-16T00:00:00",
          "2020-03-17T00:00:00",
          "2020-03-18T00:00:00",
          "2020-03-19T00:00:00",
          "2020-03-20T00:00:00",
          "2020-03-21T00:00:00",
          "2020-03-22T00:00:00",
          "2020-03-23T00:00:00",
          "2020-03-24T00:00:00",
          "2020-03-25T00:00:00",
          "2020-03-26T00:00:00",
          "2020-03-27T00:00:00",
          "2020-03-28T00:00:00",
          "2020-03-29T00:00:00",
          "2020-03-30T00:00:00",
          "2020-03-31T00:00:00",
          "2020-04-01T00:00:00",
          "2020-04-02T00:00:00",
          "2020-04-03T00:00:00",
          "2020-04-04T00:00:00",
          "2020-04-05T00:00:00",
          "2020-04-06T00:00:00",
          "2020-04-07T00:00:00",
          "2020-04-08T00:00:00",
          "2020-04-09T00:00:00",
          "2020-04-10T00:00:00",
          "2020-04-11T00:00:00",
          "2020-04-12T00:00:00",
          "2020-04-13T00:00:00",
          "2020-04-14T00:00:00",
          "2020-04-15T00:00:00",
          "2020-04-16T00:00:00",
          "2020-04-17T00:00:00",
          "2020-04-18T00:00:00",
          "2020-04-19T00:00:00",
          "2020-04-20T00:00:00",
          "2020-04-21T00:00:00",
          "2020-04-22T00:00:00",
          "2020-04-23T00:00:00",
          "2020-04-24T00:00:00",
          "2020-04-25T00:00:00",
          "2020-04-26T00:00:00",
          "2020-04-27T00:00:00",
          "2020-04-28T00:00:00",
          "2020-04-29T00:00:00",
          "2020-04-30T00:00:00",
          "2020-05-01T00:00:00",
          "2020-05-02T00:00:00",
          "2020-05-03T00:00:00",
          "2020-05-04T00:00:00",
          "2020-05-05T00:00:00",
          "2020-05-06T00:00:00",
          "2020-05-07T00:00:00",
          "2020-05-08T00:00:00",
          "2020-05-09T00:00:00",
          "2020-05-10T00:00:00",
          "2020-05-11T00:00:00",
          "2020-05-12T00:00:00",
          "2020-05-13T00:00:00",
          "2020-05-14T00:00:00",
          "2020-05-15T00:00:00",
          "2020-05-16T00:00:00",
          "2020-05-17T00:00:00",
          "2020-05-18T00:00:00",
          "2020-05-19T00:00:00",
          "2020-05-20T00:00:00",
          "2020-05-21T00:00:00",
          "2020-05-22T00:00:00",
          "2020-05-23T00:00:00",
          "2020-05-24T00:00:00",
          "2020-05-25T00:00:00",
          "2020-05-26T00:00:00",
          "2020-05-27T00:00:00",
          "2020-05-28T00:00:00",
          "2020-05-29T00:00:00",
          "2020-05-30T00:00:00",
          "2020-05-31T00:00:00",
          "2020-06-01T00:00:00",
          "2020-06-02T00:00:00",
          "2020-06-03T00:00:00",
          "2020-06-04T00:00:00",
          "2020-06-05T00:00:00",
          "2020-06-06T00:00:00",
          "2020-06-07T00:00:00",
          "2020-06-08T00:00:00",
          "2020-06-09T00:00:00",
          "2020-06-10T00:00:00",
          "2020-06-11T00:00:00",
          "2020-06-12T00:00:00",
          "2020-06-13T00:00:00",
          "2020-06-14T00:00:00",
          "2020-06-15T00:00:00"
         ],
         "y": [
          165.36986517291587,
          246.51202218017076,
          362.3604811493307,
          524.8972181070747,
          748.8071257068823,
          1051.4534444976455,
          1452.5492622489824,
          1973.4332054240558,
          2635.8829491844685,
          3460.4568959645057,
          4464.441081060008,
          5659.58245175768,
          7049.889557170086,
          8629.849966170392,
          10383.421326896732,
          12284.0772635607,
          14296.026643694988,
          16376.502353493612,
          18478.79258022874,
          20555.536232002014,
          22561.777490536326,
          24457.377823932176,
          26208.57205981341,
          27788.658334885593,
          29177.969132915292,
          30363.352061740803,
          31337.396167563194,
          32097.5941426911,
          32645.560712857692,
          32986.35747747185,
          33127.92132727094,
          33080.564882775405,
          32856.51225962068,
          32469.44473337549,
          31934.04878405473,
          31265.574941245883,
          30479.424879558082,
          29590.78549274131,
          28614.32422759972,
          27563.952839557314,
          26452.659588007697,
          25292.404317175533,
          24094.067422972978,
          22867.442237112275,
          21621.26038052773,
          20363.240599530414,
          19100.153032713944,
          17837.8924288089,
          16581.555336505517,
          15335.517606875674,
          14103.509645341852,
          12888.687722354956,
          11693.70032121754,
          10520.748998317667,
          9371.643587697425,
          8247.8518284089,
          7150.5436555078195,
          6080.630495267382,
          5038.799959390839,
          4025.5463549777596,
          3041.197426880539,
          2085.9377344275235,
          1159.8290408120192,
          262.828064717949,
          0,
          0,
          0,
          0,
          0,
          0,
          0,
          0,
          0,
          0,
          0,
          0,
          0,
          0,
          0,
          0,
          0,
          0,
          0,
          0,
          0,
          0,
          0,
          0,
          0,
          0,
          0,
          0,
          0,
          0,
          0,
          0,
          0,
          0,
          0
         ]
        },
        {
         "fill": "tonexty",
         "fillcolor": "rgba(188,189,34,0.5)",
         "line": {
          "color": "#bcbd22",
          "shape": "spline"
         },
         "mode": "lines",
         "name": "Fit",
         "showlegend": true,
         "type": "scatter",
         "x": [
          "2020-03-09T00:00:00",
          "2020-03-10T00:00:00",
          "2020-03-11T00:00:00",
          "2020-03-12T00:00:00",
          "2020-03-13T00:00:00",
          "2020-03-14T00:00:00",
          "2020-03-15T00:00:00",
          "2020-03-16T00:00:00",
          "2020-03-17T00:00:00",
          "2020-03-18T00:00:00",
          "2020-03-19T00:00:00",
          "2020-03-20T00:00:00",
          "2020-03-21T00:00:00",
          "2020-03-22T00:00:00",
          "2020-03-23T00:00:00",
          "2020-03-24T00:00:00",
          "2020-03-25T00:00:00",
          "2020-03-26T00:00:00",
          "2020-03-27T00:00:00",
          "2020-03-28T00:00:00",
          "2020-03-29T00:00:00",
          "2020-03-30T00:00:00",
          "2020-03-31T00:00:00",
          "2020-04-01T00:00:00",
          "2020-04-02T00:00:00",
          "2020-04-03T00:00:00",
          "2020-04-04T00:00:00",
          "2020-04-05T00:00:00",
          "2020-04-06T00:00:00",
          "2020-04-07T00:00:00",
          "2020-04-08T00:00:00",
          "2020-04-09T00:00:00",
          "2020-04-10T00:00:00",
          "2020-04-11T00:00:00",
          "2020-04-12T00:00:00",
          "2020-04-13T00:00:00",
          "2020-04-14T00:00:00",
          "2020-04-15T00:00:00",
          "2020-04-16T00:00:00",
          "2020-04-17T00:00:00",
          "2020-04-18T00:00:00",
          "2020-04-19T00:00:00",
          "2020-04-20T00:00:00",
          "2020-04-21T00:00:00",
          "2020-04-22T00:00:00",
          "2020-04-23T00:00:00",
          "2020-04-24T00:00:00",
          "2020-04-25T00:00:00",
          "2020-04-26T00:00:00",
          "2020-04-27T00:00:00",
          "2020-04-28T00:00:00",
          "2020-04-29T00:00:00",
          "2020-04-30T00:00:00",
          "2020-05-01T00:00:00",
          "2020-05-02T00:00:00",
          "2020-05-03T00:00:00",
          "2020-05-04T00:00:00",
          "2020-05-05T00:00:00",
          "2020-05-06T00:00:00",
          "2020-05-07T00:00:00",
          "2020-05-08T00:00:00",
          "2020-05-09T00:00:00",
          "2020-05-10T00:00:00",
          "2020-05-11T00:00:00",
          "2020-05-12T00:00:00",
          "2020-05-13T00:00:00",
          "2020-05-14T00:00:00",
          "2020-05-15T00:00:00",
          "2020-05-16T00:00:00",
          "2020-05-17T00:00:00",
          "2020-05-18T00:00:00",
          "2020-05-19T00:00:00",
          "2020-05-20T00:00:00",
          "2020-05-21T00:00:00",
          "2020-05-22T00:00:00",
          "2020-05-23T00:00:00",
          "2020-05-24T00:00:00",
          "2020-05-25T00:00:00",
          "2020-05-26T00:00:00",
          "2020-05-27T00:00:00",
          "2020-05-28T00:00:00",
          "2020-05-29T00:00:00",
          "2020-05-30T00:00:00",
          "2020-05-31T00:00:00",
          "2020-06-01T00:00:00",
          "2020-06-02T00:00:00",
          "2020-06-03T00:00:00",
          "2020-06-04T00:00:00",
          "2020-06-05T00:00:00",
          "2020-06-06T00:00:00",
          "2020-06-07T00:00:00",
          "2020-06-08T00:00:00",
          "2020-06-09T00:00:00",
          "2020-06-10T00:00:00",
          "2020-06-11T00:00:00",
          "2020-06-12T00:00:00",
          "2020-06-13T00:00:00",
          "2020-06-14T00:00:00",
          "2020-06-15T00:00:00"
         ],
         "y": [
          236.02059055703774,
          341.8143550234147,
          490.8403270979281,
          698.2026870753446,
          982.792405906544,
          1367.428485229402,
          1878.566976464173,
          2545.4254375442897,
          3398.42871821185,
          4466.987471531823,
          5776.762320931429,
          7346.71561683262,
          9186.365226893322,
          11293.685595837584,
          13654.026182128393,
          16240.250092944842,
          19014.086291413754,
          21928.500363578758,
          24930.76682896518,
          27965.879887917916,
          30979.9502082372,
          33923.27787890924,
          36752.85226124698,
          39434.10554168883,
          41941.836438432256,
          44260.315335165054,
          46382.6686311188,
          48309.70562413192,
          50048.388244720656,
          51610.15082573197,
          53009.25686836831,
          54261.33880979003,
          55382.213902296906,
          56387.0145610146,
          57289.624328880134,
          58102.377395299816,
          58835.962507619,
          59499.46919027741,
          60100.521044521534,
          60645.45266501815,
          61139.499438785424,
          61586.98074728098,
          61991.46582011755,
          62355.9175875464,
          62682.813745495805,
          62974.2464419702,
          63232.003050340136,
          63457.63084000298,
          63652.48829397228,
          63817.78555820086,
          63954.616162884995,
          64063.98180206321,
          64146.81163056548,
          64203.97725212209,
          64236.30433285296,
          64244.58157803545,
          64229.56765190535,
          64191.99649438256,
          64132.58138928936,
          64052.01806071574,
          63950.987013312886,
          63830.15528486074,
          63690.17774254241,
          63531.6980256482,
          63355.34921509764,
          63161.7542927756,
          62951.52644011764,
          62725.269214786145,
          62483.57663598517,
          62227.03320245289,
          61956.21386204865,
          61671.68394781031,
          61373.99909215942,
          61063.705128394155,
          60741.33798659082,
          60407.423589425314,
          60062.4777521385,
          59707.006089839546,
          59341.50393451654,
          58966.45626346045,
          58582.33764027989,
          58189.61216925776,
          57788.73346346307,
          57380.144626761205,
          56964.278249652656,
          56541.55641870297,
          56112.39073919729,
          55677.182370553484,
          55236.32207395377,
          54790.19027160187,
          54339.157116974864,
          53883.582575416905,
          53423.816514408725,
          52960.198802844476,
          52493.05941865086,
          52022.71856409362,
          51549.486788130394,
          51073.66511518645,
          50595.545179750756
         ]
        }
       ],
       "layout": {
        "template": {
         "data": {
          "bar": [
           {
            "error_x": {
             "color": "#2a3f5f"
            },
            "error_y": {
             "color": "#2a3f5f"
            },
            "marker": {
             "line": {
              "color": "#E5ECF6",
              "width": 0.5
             }
            },
            "type": "bar"
           }
          ],
          "barpolar": [
           {
            "marker": {
             "line": {
              "color": "#E5ECF6",
              "width": 0.5
             }
            },
            "type": "barpolar"
           }
          ],
          "carpet": [
           {
            "aaxis": {
             "endlinecolor": "#2a3f5f",
             "gridcolor": "white",
             "linecolor": "white",
             "minorgridcolor": "white",
             "startlinecolor": "#2a3f5f"
            },
            "baxis": {
             "endlinecolor": "#2a3f5f",
             "gridcolor": "white",
             "linecolor": "white",
             "minorgridcolor": "white",
             "startlinecolor": "#2a3f5f"
            },
            "type": "carpet"
           }
          ],
          "choropleth": [
           {
            "colorbar": {
             "outlinewidth": 0,
             "ticks": ""
            },
            "type": "choropleth"
           }
          ],
          "contour": [
           {
            "colorbar": {
             "outlinewidth": 0,
             "ticks": ""
            },
            "colorscale": [
             [
              0,
              "#0d0887"
             ],
             [
              0.1111111111111111,
              "#46039f"
             ],
             [
              0.2222222222222222,
              "#7201a8"
             ],
             [
              0.3333333333333333,
              "#9c179e"
             ],
             [
              0.4444444444444444,
              "#bd3786"
             ],
             [
              0.5555555555555556,
              "#d8576b"
             ],
             [
              0.6666666666666666,
              "#ed7953"
             ],
             [
              0.7777777777777778,
              "#fb9f3a"
             ],
             [
              0.8888888888888888,
              "#fdca26"
             ],
             [
              1,
              "#f0f921"
             ]
            ],
            "type": "contour"
           }
          ],
          "contourcarpet": [
           {
            "colorbar": {
             "outlinewidth": 0,
             "ticks": ""
            },
            "type": "contourcarpet"
           }
          ],
          "heatmap": [
           {
            "colorbar": {
             "outlinewidth": 0,
             "ticks": ""
            },
            "colorscale": [
             [
              0,
              "#0d0887"
             ],
             [
              0.1111111111111111,
              "#46039f"
             ],
             [
              0.2222222222222222,
              "#7201a8"
             ],
             [
              0.3333333333333333,
              "#9c179e"
             ],
             [
              0.4444444444444444,
              "#bd3786"
             ],
             [
              0.5555555555555556,
              "#d8576b"
             ],
             [
              0.6666666666666666,
              "#ed7953"
             ],
             [
              0.7777777777777778,
              "#fb9f3a"
             ],
             [
              0.8888888888888888,
              "#fdca26"
             ],
             [
              1,
              "#f0f921"
             ]
            ],
            "type": "heatmap"
           }
          ],
          "heatmapgl": [
           {
            "colorbar": {
             "outlinewidth": 0,
             "ticks": ""
            },
            "colorscale": [
             [
              0,
              "#0d0887"
             ],
             [
              0.1111111111111111,
              "#46039f"
             ],
             [
              0.2222222222222222,
              "#7201a8"
             ],
             [
              0.3333333333333333,
              "#9c179e"
             ],
             [
              0.4444444444444444,
              "#bd3786"
             ],
             [
              0.5555555555555556,
              "#d8576b"
             ],
             [
              0.6666666666666666,
              "#ed7953"
             ],
             [
              0.7777777777777778,
              "#fb9f3a"
             ],
             [
              0.8888888888888888,
              "#fdca26"
             ],
             [
              1,
              "#f0f921"
             ]
            ],
            "type": "heatmapgl"
           }
          ],
          "histogram": [
           {
            "marker": {
             "colorbar": {
              "outlinewidth": 0,
              "ticks": ""
             }
            },
            "type": "histogram"
           }
          ],
          "histogram2d": [
           {
            "colorbar": {
             "outlinewidth": 0,
             "ticks": ""
            },
            "colorscale": [
             [
              0,
              "#0d0887"
             ],
             [
              0.1111111111111111,
              "#46039f"
             ],
             [
              0.2222222222222222,
              "#7201a8"
             ],
             [
              0.3333333333333333,
              "#9c179e"
             ],
             [
              0.4444444444444444,
              "#bd3786"
             ],
             [
              0.5555555555555556,
              "#d8576b"
             ],
             [
              0.6666666666666666,
              "#ed7953"
             ],
             [
              0.7777777777777778,
              "#fb9f3a"
             ],
             [
              0.8888888888888888,
              "#fdca26"
             ],
             [
              1,
              "#f0f921"
             ]
            ],
            "type": "histogram2d"
           }
          ],
          "histogram2dcontour": [
           {
            "colorbar": {
             "outlinewidth": 0,
             "ticks": ""
            },
            "colorscale": [
             [
              0,
              "#0d0887"
             ],
             [
              0.1111111111111111,
              "#46039f"
             ],
             [
              0.2222222222222222,
              "#7201a8"
             ],
             [
              0.3333333333333333,
              "#9c179e"
             ],
             [
              0.4444444444444444,
              "#bd3786"
             ],
             [
              0.5555555555555556,
              "#d8576b"
             ],
             [
              0.6666666666666666,
              "#ed7953"
             ],
             [
              0.7777777777777778,
              "#fb9f3a"
             ],
             [
              0.8888888888888888,
              "#fdca26"
             ],
             [
              1,
              "#f0f921"
             ]
            ],
            "type": "histogram2dcontour"
           }
          ],
          "mesh3d": [
           {
            "colorbar": {
             "outlinewidth": 0,
             "ticks": ""
            },
            "type": "mesh3d"
           }
          ],
          "parcoords": [
           {
            "line": {
             "colorbar": {
              "outlinewidth": 0,
              "ticks": ""
             }
            },
            "type": "parcoords"
           }
          ],
          "pie": [
           {
            "automargin": true,
            "type": "pie"
           }
          ],
          "scatter": [
           {
            "marker": {
             "colorbar": {
              "outlinewidth": 0,
              "ticks": ""
             }
            },
            "type": "scatter"
           }
          ],
          "scatter3d": [
           {
            "line": {
             "colorbar": {
              "outlinewidth": 0,
              "ticks": ""
             }
            },
            "marker": {
             "colorbar": {
              "outlinewidth": 0,
              "ticks": ""
             }
            },
            "type": "scatter3d"
           }
          ],
          "scattercarpet": [
           {
            "marker": {
             "colorbar": {
              "outlinewidth": 0,
              "ticks": ""
             }
            },
            "type": "scattercarpet"
           }
          ],
          "scattergeo": [
           {
            "marker": {
             "colorbar": {
              "outlinewidth": 0,
              "ticks": ""
             }
            },
            "type": "scattergeo"
           }
          ],
          "scattergl": [
           {
            "marker": {
             "colorbar": {
              "outlinewidth": 0,
              "ticks": ""
             }
            },
            "type": "scattergl"
           }
          ],
          "scattermapbox": [
           {
            "marker": {
             "colorbar": {
              "outlinewidth": 0,
              "ticks": ""
             }
            },
            "type": "scattermapbox"
           }
          ],
          "scatterpolar": [
           {
            "marker": {
             "colorbar": {
              "outlinewidth": 0,
              "ticks": ""
             }
            },
            "type": "scatterpolar"
           }
          ],
          "scatterpolargl": [
           {
            "marker": {
             "colorbar": {
              "outlinewidth": 0,
              "ticks": ""
             }
            },
            "type": "scatterpolargl"
           }
          ],
          "scatterternary": [
           {
            "marker": {
             "colorbar": {
              "outlinewidth": 0,
              "ticks": ""
             }
            },
            "type": "scatterternary"
           }
          ],
          "surface": [
           {
            "colorbar": {
             "outlinewidth": 0,
             "ticks": ""
            },
            "colorscale": [
             [
              0,
              "#0d0887"
             ],
             [
              0.1111111111111111,
              "#46039f"
             ],
             [
              0.2222222222222222,
              "#7201a8"
             ],
             [
              0.3333333333333333,
              "#9c179e"
             ],
             [
              0.4444444444444444,
              "#bd3786"
             ],
             [
              0.5555555555555556,
              "#d8576b"
             ],
             [
              0.6666666666666666,
              "#ed7953"
             ],
             [
              0.7777777777777778,
              "#fb9f3a"
             ],
             [
              0.8888888888888888,
              "#fdca26"
             ],
             [
              1,
              "#f0f921"
             ]
            ],
            "type": "surface"
           }
          ],
          "table": [
           {
            "cells": {
             "fill": {
              "color": "#EBF0F8"
             },
             "line": {
              "color": "white"
             }
            },
            "header": {
             "fill": {
              "color": "#C8D4E3"
             },
             "line": {
              "color": "white"
             }
            },
            "type": "table"
           }
          ]
         },
         "layout": {
          "annotationdefaults": {
           "arrowcolor": "#2a3f5f",
           "arrowhead": 0,
           "arrowwidth": 1
          },
          "coloraxis": {
           "colorbar": {
            "outlinewidth": 0,
            "ticks": ""
           }
          },
          "colorscale": {
           "diverging": [
            [
             0,
             "#8e0152"
            ],
            [
             0.1,
             "#c51b7d"
            ],
            [
             0.2,
             "#de77ae"
            ],
            [
             0.3,
             "#f1b6da"
            ],
            [
             0.4,
             "#fde0ef"
            ],
            [
             0.5,
             "#f7f7f7"
            ],
            [
             0.6,
             "#e6f5d0"
            ],
            [
             0.7,
             "#b8e186"
            ],
            [
             0.8,
             "#7fbc41"
            ],
            [
             0.9,
             "#4d9221"
            ],
            [
             1,
             "#276419"
            ]
           ],
           "sequential": [
            [
             0,
             "#0d0887"
            ],
            [
             0.1111111111111111,
             "#46039f"
            ],
            [
             0.2222222222222222,
             "#7201a8"
            ],
            [
             0.3333333333333333,
             "#9c179e"
            ],
            [
             0.4444444444444444,
             "#bd3786"
            ],
            [
             0.5555555555555556,
             "#d8576b"
            ],
            [
             0.6666666666666666,
             "#ed7953"
            ],
            [
             0.7777777777777778,
             "#fb9f3a"
            ],
            [
             0.8888888888888888,
             "#fdca26"
            ],
            [
             1,
             "#f0f921"
            ]
           ],
           "sequentialminus": [
            [
             0,
             "#0d0887"
            ],
            [
             0.1111111111111111,
             "#46039f"
            ],
            [
             0.2222222222222222,
             "#7201a8"
            ],
            [
             0.3333333333333333,
             "#9c179e"
            ],
            [
             0.4444444444444444,
             "#bd3786"
            ],
            [
             0.5555555555555556,
             "#d8576b"
            ],
            [
             0.6666666666666666,
             "#ed7953"
            ],
            [
             0.7777777777777778,
             "#fb9f3a"
            ],
            [
             0.8888888888888888,
             "#fdca26"
            ],
            [
             1,
             "#f0f921"
            ]
           ]
          },
          "colorway": [
           "#636efa",
           "#EF553B",
           "#00cc96",
           "#ab63fa",
           "#FFA15A",
           "#19d3f3",
           "#FF6692",
           "#B6E880",
           "#FF97FF",
           "#FECB52"
          ],
          "font": {
           "color": "#2a3f5f"
          },
          "geo": {
           "bgcolor": "white",
           "lakecolor": "white",
           "landcolor": "#E5ECF6",
           "showlakes": true,
           "showland": true,
           "subunitcolor": "white"
          },
          "hoverlabel": {
           "align": "left"
          },
          "hovermode": "closest",
          "mapbox": {
           "style": "light"
          },
          "paper_bgcolor": "white",
          "plot_bgcolor": "#E5ECF6",
          "polar": {
           "angularaxis": {
            "gridcolor": "white",
            "linecolor": "white",
            "ticks": ""
           },
           "bgcolor": "#E5ECF6",
           "radialaxis": {
            "gridcolor": "white",
            "linecolor": "white",
            "ticks": ""
           }
          },
          "scene": {
           "xaxis": {
            "backgroundcolor": "#E5ECF6",
            "gridcolor": "white",
            "gridwidth": 2,
            "linecolor": "white",
            "showbackground": true,
            "ticks": "",
            "zerolinecolor": "white"
           },
           "yaxis": {
            "backgroundcolor": "#E5ECF6",
            "gridcolor": "white",
            "gridwidth": 2,
            "linecolor": "white",
            "showbackground": true,
            "ticks": "",
            "zerolinecolor": "white"
           },
           "zaxis": {
            "backgroundcolor": "#E5ECF6",
            "gridcolor": "white",
            "gridwidth": 2,
            "linecolor": "white",
            "showbackground": true,
            "ticks": "",
            "zerolinecolor": "white"
           }
          },
          "shapedefaults": {
           "line": {
            "color": "#2a3f5f"
           }
          },
          "ternary": {
           "aaxis": {
            "gridcolor": "white",
            "linecolor": "white",
            "ticks": ""
           },
           "baxis": {
            "gridcolor": "white",
            "linecolor": "white",
            "ticks": ""
           },
           "bgcolor": "#E5ECF6",
           "caxis": {
            "gridcolor": "white",
            "linecolor": "white",
            "ticks": ""
           }
          },
          "title": {
           "x": 0.05
          },
          "xaxis": {
           "automargin": true,
           "gridcolor": "white",
           "linecolor": "white",
           "ticks": "",
           "title": {
            "standoff": 15
           },
           "zerolinecolor": "white",
           "zerolinewidth": 2
          },
          "yaxis": {
           "automargin": true,
           "gridcolor": "white",
           "linecolor": "white",
           "ticks": "",
           "title": {
            "standoff": 15
           },
           "zerolinecolor": "white",
           "zerolinewidth": 2
          }
         }
        },
        "title": {
         "text": "Effective Doubling Time R0"
        },
        "yaxis": {
         "title": {
          "text": "Days"
         }
        }
       }
      },
      "text/html": [
       "<div>\n",
       "        \n",
       "        \n",
       "            <div id=\"6bb458ef-48fe-401c-9dfe-ed986ad7c5c7\" class=\"plotly-graph-div\" style=\"height:525px; width:100%;\"></div>\n",
       "            <script type=\"text/javascript\">\n",
       "                require([\"plotly\"], function(Plotly) {\n",
       "                    window.PLOTLYENV=window.PLOTLYENV || {};\n",
       "                    \n",
       "                if (document.getElementById(\"6bb458ef-48fe-401c-9dfe-ed986ad7c5c7\")) {\n",
       "                    Plotly.newPlot(\n",
       "                        '6bb458ef-48fe-401c-9dfe-ed986ad7c5c7',\n",
       "                        [{\"line\": {\"color\": \"#bcbd22\", \"shape\": \"spline\"}, \"mode\": \"lines\", \"showlegend\": false, \"type\": \"scatter\", \"x\": [\"2020-03-09T00:00:00\", \"2020-03-10T00:00:00\", \"2020-03-11T00:00:00\", \"2020-03-12T00:00:00\", \"2020-03-13T00:00:00\", \"2020-03-14T00:00:00\", \"2020-03-15T00:00:00\", \"2020-03-16T00:00:00\", \"2020-03-17T00:00:00\", \"2020-03-18T00:00:00\", \"2020-03-19T00:00:00\", \"2020-03-20T00:00:00\", \"2020-03-21T00:00:00\", \"2020-03-22T00:00:00\", \"2020-03-23T00:00:00\", \"2020-03-24T00:00:00\", \"2020-03-25T00:00:00\", \"2020-03-26T00:00:00\", \"2020-03-27T00:00:00\", \"2020-03-28T00:00:00\", \"2020-03-29T00:00:00\", \"2020-03-30T00:00:00\", \"2020-03-31T00:00:00\", \"2020-04-01T00:00:00\", \"2020-04-02T00:00:00\", \"2020-04-03T00:00:00\", \"2020-04-04T00:00:00\", \"2020-04-05T00:00:00\", \"2020-04-06T00:00:00\", \"2020-04-07T00:00:00\", \"2020-04-08T00:00:00\", \"2020-04-09T00:00:00\", \"2020-04-10T00:00:00\", \"2020-04-11T00:00:00\", \"2020-04-12T00:00:00\", \"2020-04-13T00:00:00\", \"2020-04-14T00:00:00\", \"2020-04-15T00:00:00\", \"2020-04-16T00:00:00\", \"2020-04-17T00:00:00\", \"2020-04-18T00:00:00\", \"2020-04-19T00:00:00\", \"2020-04-20T00:00:00\", \"2020-04-21T00:00:00\", \"2020-04-22T00:00:00\", \"2020-04-23T00:00:00\", \"2020-04-24T00:00:00\", \"2020-04-25T00:00:00\", \"2020-04-26T00:00:00\", \"2020-04-27T00:00:00\", \"2020-04-28T00:00:00\", \"2020-04-29T00:00:00\", \"2020-04-30T00:00:00\", \"2020-05-01T00:00:00\", \"2020-05-02T00:00:00\", \"2020-05-03T00:00:00\", \"2020-05-04T00:00:00\", \"2020-05-05T00:00:00\", \"2020-05-06T00:00:00\", \"2020-05-07T00:00:00\", \"2020-05-08T00:00:00\", \"2020-05-09T00:00:00\", \"2020-05-10T00:00:00\", \"2020-05-11T00:00:00\", \"2020-05-12T00:00:00\", \"2020-05-13T00:00:00\", \"2020-05-14T00:00:00\", \"2020-05-15T00:00:00\", \"2020-05-16T00:00:00\", \"2020-05-17T00:00:00\", \"2020-05-18T00:00:00\", \"2020-05-19T00:00:00\", \"2020-05-20T00:00:00\", \"2020-05-21T00:00:00\", \"2020-05-22T00:00:00\", \"2020-05-23T00:00:00\", \"2020-05-24T00:00:00\", \"2020-05-25T00:00:00\", \"2020-05-26T00:00:00\", \"2020-05-27T00:00:00\", \"2020-05-28T00:00:00\", \"2020-05-29T00:00:00\", \"2020-05-30T00:00:00\", \"2020-05-31T00:00:00\", \"2020-06-01T00:00:00\", \"2020-06-02T00:00:00\", \"2020-06-03T00:00:00\", \"2020-06-04T00:00:00\", \"2020-06-05T00:00:00\", \"2020-06-06T00:00:00\", \"2020-06-07T00:00:00\", \"2020-06-08T00:00:00\", \"2020-06-09T00:00:00\", \"2020-06-10T00:00:00\", \"2020-06-11T00:00:00\", \"2020-06-12T00:00:00\", \"2020-06-13T00:00:00\", \"2020-06-14T00:00:00\", \"2020-06-15T00:00:00\"], \"y\": [165.36986517291587, 246.51202218017076, 362.3604811493307, 524.8972181070747, 748.8071257068823, 1051.4534444976455, 1452.5492622489824, 1973.4332054240558, 2635.8829491844685, 3460.4568959645057, 4464.441081060008, 5659.58245175768, 7049.889557170086, 8629.849966170392, 10383.421326896732, 12284.0772635607, 14296.026643694988, 16376.502353493612, 18478.79258022874, 20555.536232002014, 22561.777490536326, 24457.377823932176, 26208.57205981341, 27788.658334885593, 29177.969132915292, 30363.352061740803, 31337.396167563194, 32097.5941426911, 32645.560712857692, 32986.35747747185, 33127.92132727094, 33080.564882775405, 32856.51225962068, 32469.44473337549, 31934.04878405473, 31265.574941245883, 30479.424879558082, 29590.78549274131, 28614.32422759972, 27563.952839557314, 26452.659588007697, 25292.404317175533, 24094.067422972978, 22867.442237112275, 21621.26038052773, 20363.240599530414, 19100.153032713944, 17837.8924288089, 16581.555336505517, 15335.517606875674, 14103.509645341852, 12888.687722354956, 11693.70032121754, 10520.748998317667, 9371.643587697425, 8247.8518284089, 7150.5436555078195, 6080.630495267382, 5038.799959390839, 4025.5463549777596, 3041.197426880539, 2085.9377344275235, 1159.8290408120192, 262.828064717949, 0, 0, 0, 0, 0, 0, 0, 0, 0, 0, 0, 0, 0, 0, 0, 0, 0, 0, 0, 0, 0, 0, 0, 0, 0, 0, 0, 0, 0, 0, 0, 0, 0, 0, 0]}, {\"fill\": \"tonexty\", \"fillcolor\": \"rgba(188,189,34,0.5)\", \"line\": {\"color\": \"#bcbd22\", \"shape\": \"spline\"}, \"mode\": \"lines\", \"name\": \"Fit\", \"showlegend\": true, \"type\": \"scatter\", \"x\": [\"2020-03-09T00:00:00\", \"2020-03-10T00:00:00\", \"2020-03-11T00:00:00\", \"2020-03-12T00:00:00\", \"2020-03-13T00:00:00\", \"2020-03-14T00:00:00\", \"2020-03-15T00:00:00\", \"2020-03-16T00:00:00\", \"2020-03-17T00:00:00\", \"2020-03-18T00:00:00\", \"2020-03-19T00:00:00\", \"2020-03-20T00:00:00\", \"2020-03-21T00:00:00\", \"2020-03-22T00:00:00\", \"2020-03-23T00:00:00\", \"2020-03-24T00:00:00\", \"2020-03-25T00:00:00\", \"2020-03-26T00:00:00\", \"2020-03-27T00:00:00\", \"2020-03-28T00:00:00\", \"2020-03-29T00:00:00\", \"2020-03-30T00:00:00\", \"2020-03-31T00:00:00\", \"2020-04-01T00:00:00\", \"2020-04-02T00:00:00\", \"2020-04-03T00:00:00\", \"2020-04-04T00:00:00\", \"2020-04-05T00:00:00\", \"2020-04-06T00:00:00\", \"2020-04-07T00:00:00\", \"2020-04-08T00:00:00\", \"2020-04-09T00:00:00\", \"2020-04-10T00:00:00\", \"2020-04-11T00:00:00\", \"2020-04-12T00:00:00\", \"2020-04-13T00:00:00\", \"2020-04-14T00:00:00\", \"2020-04-15T00:00:00\", \"2020-04-16T00:00:00\", \"2020-04-17T00:00:00\", \"2020-04-18T00:00:00\", \"2020-04-19T00:00:00\", \"2020-04-20T00:00:00\", \"2020-04-21T00:00:00\", \"2020-04-22T00:00:00\", \"2020-04-23T00:00:00\", \"2020-04-24T00:00:00\", \"2020-04-25T00:00:00\", \"2020-04-26T00:00:00\", \"2020-04-27T00:00:00\", \"2020-04-28T00:00:00\", \"2020-04-29T00:00:00\", \"2020-04-30T00:00:00\", \"2020-05-01T00:00:00\", \"2020-05-02T00:00:00\", \"2020-05-03T00:00:00\", \"2020-05-04T00:00:00\", \"2020-05-05T00:00:00\", \"2020-05-06T00:00:00\", \"2020-05-07T00:00:00\", \"2020-05-08T00:00:00\", \"2020-05-09T00:00:00\", \"2020-05-10T00:00:00\", \"2020-05-11T00:00:00\", \"2020-05-12T00:00:00\", \"2020-05-13T00:00:00\", \"2020-05-14T00:00:00\", \"2020-05-15T00:00:00\", \"2020-05-16T00:00:00\", \"2020-05-17T00:00:00\", \"2020-05-18T00:00:00\", \"2020-05-19T00:00:00\", \"2020-05-20T00:00:00\", \"2020-05-21T00:00:00\", \"2020-05-22T00:00:00\", \"2020-05-23T00:00:00\", \"2020-05-24T00:00:00\", \"2020-05-25T00:00:00\", \"2020-05-26T00:00:00\", \"2020-05-27T00:00:00\", \"2020-05-28T00:00:00\", \"2020-05-29T00:00:00\", \"2020-05-30T00:00:00\", \"2020-05-31T00:00:00\", \"2020-06-01T00:00:00\", \"2020-06-02T00:00:00\", \"2020-06-03T00:00:00\", \"2020-06-04T00:00:00\", \"2020-06-05T00:00:00\", \"2020-06-06T00:00:00\", \"2020-06-07T00:00:00\", \"2020-06-08T00:00:00\", \"2020-06-09T00:00:00\", \"2020-06-10T00:00:00\", \"2020-06-11T00:00:00\", \"2020-06-12T00:00:00\", \"2020-06-13T00:00:00\", \"2020-06-14T00:00:00\", \"2020-06-15T00:00:00\"], \"y\": [236.02059055703774, 341.8143550234147, 490.8403270979281, 698.2026870753446, 982.792405906544, 1367.428485229402, 1878.566976464173, 2545.4254375442897, 3398.42871821185, 4466.987471531823, 5776.762320931429, 7346.71561683262, 9186.365226893322, 11293.685595837584, 13654.026182128393, 16240.250092944842, 19014.086291413754, 21928.500363578758, 24930.76682896518, 27965.879887917916, 30979.9502082372, 33923.27787890924, 36752.85226124698, 39434.10554168883, 41941.836438432256, 44260.315335165054, 46382.6686311188, 48309.70562413192, 50048.388244720656, 51610.15082573197, 53009.25686836831, 54261.33880979003, 55382.213902296906, 56387.0145610146, 57289.624328880134, 58102.377395299816, 58835.962507619, 59499.46919027741, 60100.521044521534, 60645.45266501815, 61139.499438785424, 61586.98074728098, 61991.46582011755, 62355.9175875464, 62682.813745495805, 62974.2464419702, 63232.003050340136, 63457.63084000298, 63652.48829397228, 63817.78555820086, 63954.616162884995, 64063.98180206321, 64146.81163056548, 64203.97725212209, 64236.30433285296, 64244.58157803545, 64229.56765190535, 64191.99649438256, 64132.58138928936, 64052.01806071574, 63950.987013312886, 63830.15528486074, 63690.17774254241, 63531.6980256482, 63355.34921509764, 63161.7542927756, 62951.52644011764, 62725.269214786145, 62483.57663598517, 62227.03320245289, 61956.21386204865, 61671.68394781031, 61373.99909215942, 61063.705128394155, 60741.33798659082, 60407.423589425314, 60062.4777521385, 59707.006089839546, 59341.50393451654, 58966.45626346045, 58582.33764027989, 58189.61216925776, 57788.73346346307, 57380.144626761205, 56964.278249652656, 56541.55641870297, 56112.39073919729, 55677.182370553484, 55236.32207395377, 54790.19027160187, 54339.157116974864, 53883.582575416905, 53423.816514408725, 52960.198802844476, 52493.05941865086, 52022.71856409362, 51549.486788130394, 51073.66511518645, 50595.545179750756]}],\n",
       "                        {\"template\": {\"data\": {\"bar\": [{\"error_x\": {\"color\": \"#2a3f5f\"}, \"error_y\": {\"color\": \"#2a3f5f\"}, \"marker\": {\"line\": {\"color\": \"#E5ECF6\", \"width\": 0.5}}, \"type\": \"bar\"}], \"barpolar\": [{\"marker\": {\"line\": {\"color\": \"#E5ECF6\", \"width\": 0.5}}, \"type\": \"barpolar\"}], \"carpet\": [{\"aaxis\": {\"endlinecolor\": \"#2a3f5f\", \"gridcolor\": \"white\", \"linecolor\": \"white\", \"minorgridcolor\": \"white\", \"startlinecolor\": \"#2a3f5f\"}, \"baxis\": {\"endlinecolor\": \"#2a3f5f\", \"gridcolor\": \"white\", \"linecolor\": \"white\", \"minorgridcolor\": \"white\", \"startlinecolor\": \"#2a3f5f\"}, \"type\": \"carpet\"}], \"choropleth\": [{\"colorbar\": {\"outlinewidth\": 0, \"ticks\": \"\"}, \"type\": \"choropleth\"}], \"contour\": [{\"colorbar\": {\"outlinewidth\": 0, \"ticks\": \"\"}, \"colorscale\": [[0.0, \"#0d0887\"], [0.1111111111111111, \"#46039f\"], [0.2222222222222222, \"#7201a8\"], [0.3333333333333333, \"#9c179e\"], [0.4444444444444444, \"#bd3786\"], [0.5555555555555556, \"#d8576b\"], [0.6666666666666666, \"#ed7953\"], [0.7777777777777778, \"#fb9f3a\"], [0.8888888888888888, \"#fdca26\"], [1.0, \"#f0f921\"]], \"type\": \"contour\"}], \"contourcarpet\": [{\"colorbar\": {\"outlinewidth\": 0, \"ticks\": \"\"}, \"type\": \"contourcarpet\"}], \"heatmap\": [{\"colorbar\": {\"outlinewidth\": 0, \"ticks\": \"\"}, \"colorscale\": [[0.0, \"#0d0887\"], [0.1111111111111111, \"#46039f\"], [0.2222222222222222, \"#7201a8\"], [0.3333333333333333, \"#9c179e\"], [0.4444444444444444, \"#bd3786\"], [0.5555555555555556, \"#d8576b\"], [0.6666666666666666, \"#ed7953\"], [0.7777777777777778, \"#fb9f3a\"], [0.8888888888888888, \"#fdca26\"], [1.0, \"#f0f921\"]], \"type\": \"heatmap\"}], \"heatmapgl\": [{\"colorbar\": {\"outlinewidth\": 0, \"ticks\": \"\"}, \"colorscale\": [[0.0, \"#0d0887\"], [0.1111111111111111, \"#46039f\"], [0.2222222222222222, \"#7201a8\"], [0.3333333333333333, \"#9c179e\"], [0.4444444444444444, \"#bd3786\"], [0.5555555555555556, \"#d8576b\"], [0.6666666666666666, \"#ed7953\"], [0.7777777777777778, \"#fb9f3a\"], [0.8888888888888888, \"#fdca26\"], [1.0, \"#f0f921\"]], \"type\": \"heatmapgl\"}], \"histogram\": [{\"marker\": {\"colorbar\": {\"outlinewidth\": 0, \"ticks\": \"\"}}, \"type\": \"histogram\"}], \"histogram2d\": [{\"colorbar\": {\"outlinewidth\": 0, \"ticks\": \"\"}, \"colorscale\": [[0.0, \"#0d0887\"], [0.1111111111111111, \"#46039f\"], [0.2222222222222222, \"#7201a8\"], [0.3333333333333333, \"#9c179e\"], [0.4444444444444444, \"#bd3786\"], [0.5555555555555556, \"#d8576b\"], [0.6666666666666666, \"#ed7953\"], [0.7777777777777778, \"#fb9f3a\"], [0.8888888888888888, \"#fdca26\"], [1.0, \"#f0f921\"]], \"type\": \"histogram2d\"}], \"histogram2dcontour\": [{\"colorbar\": {\"outlinewidth\": 0, \"ticks\": \"\"}, \"colorscale\": [[0.0, \"#0d0887\"], [0.1111111111111111, \"#46039f\"], [0.2222222222222222, \"#7201a8\"], [0.3333333333333333, \"#9c179e\"], [0.4444444444444444, \"#bd3786\"], [0.5555555555555556, \"#d8576b\"], [0.6666666666666666, \"#ed7953\"], [0.7777777777777778, \"#fb9f3a\"], [0.8888888888888888, \"#fdca26\"], [1.0, \"#f0f921\"]], \"type\": \"histogram2dcontour\"}], \"mesh3d\": [{\"colorbar\": {\"outlinewidth\": 0, \"ticks\": \"\"}, \"type\": \"mesh3d\"}], \"parcoords\": [{\"line\": {\"colorbar\": {\"outlinewidth\": 0, \"ticks\": \"\"}}, \"type\": \"parcoords\"}], \"pie\": [{\"automargin\": true, \"type\": \"pie\"}], \"scatter\": [{\"marker\": {\"colorbar\": {\"outlinewidth\": 0, \"ticks\": \"\"}}, \"type\": \"scatter\"}], \"scatter3d\": [{\"line\": {\"colorbar\": {\"outlinewidth\": 0, \"ticks\": \"\"}}, \"marker\": {\"colorbar\": {\"outlinewidth\": 0, \"ticks\": \"\"}}, \"type\": \"scatter3d\"}], \"scattercarpet\": [{\"marker\": {\"colorbar\": {\"outlinewidth\": 0, \"ticks\": \"\"}}, \"type\": \"scattercarpet\"}], \"scattergeo\": [{\"marker\": {\"colorbar\": {\"outlinewidth\": 0, \"ticks\": \"\"}}, \"type\": \"scattergeo\"}], \"scattergl\": [{\"marker\": {\"colorbar\": {\"outlinewidth\": 0, \"ticks\": \"\"}}, \"type\": \"scattergl\"}], \"scattermapbox\": [{\"marker\": {\"colorbar\": {\"outlinewidth\": 0, \"ticks\": \"\"}}, \"type\": \"scattermapbox\"}], \"scatterpolar\": [{\"marker\": {\"colorbar\": {\"outlinewidth\": 0, \"ticks\": \"\"}}, \"type\": \"scatterpolar\"}], \"scatterpolargl\": [{\"marker\": {\"colorbar\": {\"outlinewidth\": 0, \"ticks\": \"\"}}, \"type\": \"scatterpolargl\"}], \"scatterternary\": [{\"marker\": {\"colorbar\": {\"outlinewidth\": 0, \"ticks\": \"\"}}, \"type\": \"scatterternary\"}], \"surface\": [{\"colorbar\": {\"outlinewidth\": 0, \"ticks\": \"\"}, \"colorscale\": [[0.0, \"#0d0887\"], [0.1111111111111111, \"#46039f\"], [0.2222222222222222, \"#7201a8\"], [0.3333333333333333, \"#9c179e\"], [0.4444444444444444, \"#bd3786\"], [0.5555555555555556, \"#d8576b\"], [0.6666666666666666, \"#ed7953\"], [0.7777777777777778, \"#fb9f3a\"], [0.8888888888888888, \"#fdca26\"], [1.0, \"#f0f921\"]], \"type\": \"surface\"}], \"table\": [{\"cells\": {\"fill\": {\"color\": \"#EBF0F8\"}, \"line\": {\"color\": \"white\"}}, \"header\": {\"fill\": {\"color\": \"#C8D4E3\"}, \"line\": {\"color\": \"white\"}}, \"type\": \"table\"}]}, \"layout\": {\"annotationdefaults\": {\"arrowcolor\": \"#2a3f5f\", \"arrowhead\": 0, \"arrowwidth\": 1}, \"coloraxis\": {\"colorbar\": {\"outlinewidth\": 0, \"ticks\": \"\"}}, \"colorscale\": {\"diverging\": [[0, \"#8e0152\"], [0.1, \"#c51b7d\"], [0.2, \"#de77ae\"], [0.3, \"#f1b6da\"], [0.4, \"#fde0ef\"], [0.5, \"#f7f7f7\"], [0.6, \"#e6f5d0\"], [0.7, \"#b8e186\"], [0.8, \"#7fbc41\"], [0.9, \"#4d9221\"], [1, \"#276419\"]], \"sequential\": [[0.0, \"#0d0887\"], [0.1111111111111111, \"#46039f\"], [0.2222222222222222, \"#7201a8\"], [0.3333333333333333, \"#9c179e\"], [0.4444444444444444, \"#bd3786\"], [0.5555555555555556, \"#d8576b\"], [0.6666666666666666, \"#ed7953\"], [0.7777777777777778, \"#fb9f3a\"], [0.8888888888888888, \"#fdca26\"], [1.0, \"#f0f921\"]], \"sequentialminus\": [[0.0, \"#0d0887\"], [0.1111111111111111, \"#46039f\"], [0.2222222222222222, \"#7201a8\"], [0.3333333333333333, \"#9c179e\"], [0.4444444444444444, \"#bd3786\"], [0.5555555555555556, \"#d8576b\"], [0.6666666666666666, \"#ed7953\"], [0.7777777777777778, \"#fb9f3a\"], [0.8888888888888888, \"#fdca26\"], [1.0, \"#f0f921\"]]}, \"colorway\": [\"#636efa\", \"#EF553B\", \"#00cc96\", \"#ab63fa\", \"#FFA15A\", \"#19d3f3\", \"#FF6692\", \"#B6E880\", \"#FF97FF\", \"#FECB52\"], \"font\": {\"color\": \"#2a3f5f\"}, \"geo\": {\"bgcolor\": \"white\", \"lakecolor\": \"white\", \"landcolor\": \"#E5ECF6\", \"showlakes\": true, \"showland\": true, \"subunitcolor\": \"white\"}, \"hoverlabel\": {\"align\": \"left\"}, \"hovermode\": \"closest\", \"mapbox\": {\"style\": \"light\"}, \"paper_bgcolor\": \"white\", \"plot_bgcolor\": \"#E5ECF6\", \"polar\": {\"angularaxis\": {\"gridcolor\": \"white\", \"linecolor\": \"white\", \"ticks\": \"\"}, \"bgcolor\": \"#E5ECF6\", \"radialaxis\": {\"gridcolor\": \"white\", \"linecolor\": \"white\", \"ticks\": \"\"}}, \"scene\": {\"xaxis\": {\"backgroundcolor\": \"#E5ECF6\", \"gridcolor\": \"white\", \"gridwidth\": 2, \"linecolor\": \"white\", \"showbackground\": true, \"ticks\": \"\", \"zerolinecolor\": \"white\"}, \"yaxis\": {\"backgroundcolor\": \"#E5ECF6\", \"gridcolor\": \"white\", \"gridwidth\": 2, \"linecolor\": \"white\", \"showbackground\": true, \"ticks\": \"\", \"zerolinecolor\": \"white\"}, \"zaxis\": {\"backgroundcolor\": \"#E5ECF6\", \"gridcolor\": \"white\", \"gridwidth\": 2, \"linecolor\": \"white\", \"showbackground\": true, \"ticks\": \"\", \"zerolinecolor\": \"white\"}}, \"shapedefaults\": {\"line\": {\"color\": \"#2a3f5f\"}}, \"ternary\": {\"aaxis\": {\"gridcolor\": \"white\", \"linecolor\": \"white\", \"ticks\": \"\"}, \"baxis\": {\"gridcolor\": \"white\", \"linecolor\": \"white\", \"ticks\": \"\"}, \"bgcolor\": \"#E5ECF6\", \"caxis\": {\"gridcolor\": \"white\", \"linecolor\": \"white\", \"ticks\": \"\"}}, \"title\": {\"x\": 0.05}, \"xaxis\": {\"automargin\": true, \"gridcolor\": \"white\", \"linecolor\": \"white\", \"ticks\": \"\", \"title\": {\"standoff\": 15}, \"zerolinecolor\": \"white\", \"zerolinewidth\": 2}, \"yaxis\": {\"automargin\": true, \"gridcolor\": \"white\", \"linecolor\": \"white\", \"ticks\": \"\", \"title\": {\"standoff\": 15}, \"zerolinecolor\": \"white\", \"zerolinewidth\": 2}}}, \"title\": {\"text\": \"Effective Doubling Time R0\"}, \"yaxis\": {\"title\": {\"text\": \"Days\"}}},\n",
       "                        {\"responsive\": true}\n",
       "                    ).then(function(){\n",
       "                            \n",
       "var gd = document.getElementById('6bb458ef-48fe-401c-9dfe-ed986ad7c5c7');\n",
       "var x = new MutationObserver(function (mutations, observer) {{\n",
       "        var display = window.getComputedStyle(gd).display;\n",
       "        if (!display || display === 'none') {{\n",
       "            console.log([gd, 'removed!']);\n",
       "            Plotly.purge(gd);\n",
       "            observer.disconnect();\n",
       "        }}\n",
       "}});\n",
       "\n",
       "// Listen for the removal of the full notebook cells\n",
       "var notebookContainer = gd.closest('#notebook-container');\n",
       "if (notebookContainer) {{\n",
       "    x.observe(notebookContainer, {childList: true});\n",
       "}}\n",
       "\n",
       "// Listen for the clearing of the current output cell\n",
       "var outputEl = gd.closest('.output');\n",
       "if (outputEl) {{\n",
       "    x.observe(outputEl, {childList: true});\n",
       "}}\n",
       "\n",
       "                        })\n",
       "                };\n",
       "                });\n",
       "            </script>\n",
       "        </div>"
      ]
     },
     "metadata": {},
     "output_type": "display_data"
    }
   ],
   "source": [
    "fig = go.Figure()\n",
    "plotting.add_gvar_scatter(\n",
    "    fig,\n",
    "    x=fit_res.index,\n",
    "    y=fit_res.infected.values,\n",
    "    name=\"Fit\",\n",
    "    mode=\"markers+lines\",\n",
    "    gv_mode=\"band\",\n",
    "    color=\"#bcbd22\",\n",
    ")\n",
    "fig.update_layout(title=\"Effective Doubling Time R0\", yaxis_title=\"Days\")\n",
    "fig.show()"
   ]
  },
  {
   "cell_type": "markdown",
   "metadata": {
    "heading_collapsed": true
   },
   "source": [
    "## SIHR model without distancing"
   ]
  },
  {
   "cell_type": "code",
   "execution_count": 109,
   "metadata": {
    "hidden": true
   },
   "outputs": [
    {
     "data": {
      "text/plain": [
       "{'initial_susceptible': 1800000,\n",
       " 'initial_hospitalized': 73,\n",
       " 'initial_recovered': 0,\n",
       " 'n_iter': 26,\n",
       " 'capacity': 20000}"
      ]
     },
     "execution_count": 109,
     "metadata": {},
     "output_type": "execute_result"
    }
   ],
   "source": [
    "fcn = FitFcn(\n",
    "    sihr_step,\n",
    "    columns=[\"infected_new\", \"hospitalized_new\"],\n",
    "    as_array=True,\n",
    "    drop_rows=[0],\n",
    ")\n",
    "prior = {\n",
    "    \"beta_i\": gvar(beta0, beta0 * 0.8),\n",
    "    \"gamma_i\": 1 / (gvar(14, 5) / BIN_SIZE),\n",
    "    \"initial_infected\": gvar(1.0e4, 2.0e4),\n",
    "    \"beta_h\": gvar(0.05, 0.1),\n",
    "    \"gamma_h\": 1 / (gvar(14, 5) / BIN_SIZE),\n",
    "}\n",
    "\n",
    "Y_SIHR = Y.copy()\n",
    "Y_SIHR.T[0] -= Y_SIHR.T[1]\n",
    "\n",
    "X_SIHR = X.copy()\n",
    "X_SIHR[\"capacity\"] = 20000\n",
    "X_SIHR"
   ]
  },
  {
   "cell_type": "code",
   "execution_count": 110,
   "metadata": {
    "hidden": true,
    "scrolled": false
   },
   "outputs": [
    {
     "name": "stdout",
     "output_type": "stream",
     "text": [
      "Least Square Fit:\n",
      "  chi2/dof [dof] = 17 [50]    Q = 2.7e-147    logGBF = -736.39\n",
      "\n",
      "Parameters:\n",
      "          beta_i   2.61(42)e-07      [  1.9(1.5)e-07 ]  \n",
      "         gamma_i     0.084 (25)      [    0.071 (26) ]  \n",
      "initial_infected       332 (88)      [ 10000 (20000) ]  \n",
      "          beta_h     0.246 (66)      [     0.05 (10) ]  *\n",
      "         gamma_h     0.071 (26)      [    0.071 (26) ]  \n",
      "\n",
      "Settings:\n",
      "  svdcut/n = 1e-12/0    tol = (1e-08,1e-10,1e-10*)    (itns/time = 30/0.3)\n",
      "  fitter = scipy_least_squares    method = trf\n",
      "\n",
      "Values:\n",
      "                 bi: 2.61(42)e-07        \n",
      "                 gi: 0.084(25)           \n",
      "                 ii: 332(88)             \n",
      "                 bh: 0.246(66)           \n",
      "                 gh: 0.071(26)           \n",
      "                 dt: 1.48(23)            \n",
      "                  r: 11.9(3.5)           \n",
      "\n",
      "Partial % Errors:\n",
      "                         bi        gi        ii        bh        gh        dt         r\n",
      "---------------------------------------------------------------------------------------\n",
      "               y:      8.71      4.82     18.26     18.21      0.00      8.71      4.82\n",
      "          beta_i:      4.29      4.02      6.79      6.80      0.00      4.29      4.02\n",
      "         gamma_i:      7.83     28.40      5.29      5.14      0.00      7.83     28.40\n",
      "initial_infected:      0.07      0.03      0.12      0.12      0.00      0.07      0.03\n",
      "          beta_h:      9.88      3.84     17.44     17.53      0.00      9.88      3.84\n",
      "         gamma_h:      0.00      0.00      0.00      0.00     35.71      0.00      0.00\n",
      "---------------------------------------------------------------------------------------\n",
      "           total:     15.92     29.34     26.68     26.68     35.71     15.92     29.34\n",
      "\n"
     ]
    }
   ],
   "source": [
    "fit = nonlinear_fit(data=(X_SIHR, Y_SIHR), fcn=fcn, prior=prior)\n",
    "print(fit)\n",
    "\n",
    "X_SIHR_extra = X_SIHR.copy()\n",
    "X_SIHR_extra[\"n_iter\"] = 100\n",
    "days_extra = date_range(chd_df.index.min(), periods=100 - 1, freq=\"D\")\n",
    "\n",
    "fit_res = FitFcn(sihr_step, drop_rows=[0])(X_SIHR_extra, fit.p)\n",
    "fit_res.index = days_extra\n",
    "\n",
    "\n",
    "outputs = dict(**fit.p)\n",
    "outputs.update(\n",
    "    {\n",
    "        \"doubling_time\": log(2) / (fit.p[\"beta_i\"] * X[\"initial_susceptible\"]),\n",
    "        \"recovery in days\": 1 / fit.p[\"gamma_i\"] * BIN_SIZE,\n",
    "    }\n",
    ")\n",
    "inputs = dict(y=Y, **prior)\n",
    "\n",
    "outputs = {\n",
    "    \"\".join([kk[0] for kk in key.split(\"_\")]): val for key, val in outputs.items()\n",
    "}\n",
    "\n",
    "print(fmt_values(outputs))\n",
    "print(fmt_errorbudget(outputs, inputs))"
   ]
  },
  {
   "cell_type": "code",
   "execution_count": 111,
   "metadata": {
    "hidden": true
   },
   "outputs": [
    {
     "data": {
      "application/vnd.plotly.v1+json": {
       "config": {
        "plotlyServerURL": "https://plot.ly"
       },
       "data": [
        {
         "error_y": {
          "array": [
           100.4987562112089,
           100.4987562112089,
           100.4987562112089,
           100.4987562112089,
           179.27911200137063,
           309.6615087478584,
           320.6559682900039,
           513.5973617533485,
           1052.6097519973866,
           1193.6224947612204,
           1446.6538839681039,
           1786.6791373942888,
           1902.21351325239,
           1119.9374714688315,
           1096.0029607624242,
           1621.6797780388088,
           1929.123674754939,
           2038.318255940421,
           2073.925457315185,
           2118.362682002305,
           1426.5567847092523,
           1479.1851270209554,
           2450.4772780011654,
           1993.9424991709263,
           2045.3182814662368
          ]
         },
         "line": {
          "color": "#1f77b4"
         },
         "mode": "markers+lines",
         "name": "Data",
         "type": "scatter",
         "x": [
          "2020-03-08T00:00:00",
          "2020-03-09T00:00:00",
          "2020-03-10T00:00:00",
          "2020-03-11T00:00:00",
          "2020-03-12T00:00:00",
          "2020-03-13T00:00:00",
          "2020-03-14T00:00:00",
          "2020-03-15T00:00:00",
          "2020-03-16T00:00:00",
          "2020-03-17T00:00:00",
          "2020-03-18T00:00:00",
          "2020-03-19T00:00:00",
          "2020-03-20T00:00:00",
          "2020-03-21T00:00:00",
          "2020-03-22T00:00:00",
          "2020-03-23T00:00:00",
          "2020-03-24T00:00:00",
          "2020-03-25T00:00:00",
          "2020-03-26T00:00:00",
          "2020-03-27T00:00:00",
          "2020-03-28T00:00:00",
          "2020-03-29T00:00:00",
          "2020-03-30T00:00:00",
          "2020-03-31T00:00:00",
          "2020-04-01T00:00:00"
         ],
         "y": [
          6,
          24,
          30,
          90,
          289,
          490,
          490,
          842,
          1801,
          2045,
          2471,
          3067,
          3234,
          1613,
          1527,
          2303,
          2876,
          2920,
          2907,
          3026,
          1753,
          1772,
          3515,
          2760,
          2932
         ]
        },
        {
         "line": {
          "color": "#bcbd22",
          "shape": "spline"
         },
         "mode": "lines",
         "showlegend": false,
         "type": "scatter",
         "x": [
          "2020-03-08T00:00:00",
          "2020-03-09T00:00:00",
          "2020-03-10T00:00:00",
          "2020-03-11T00:00:00",
          "2020-03-12T00:00:00",
          "2020-03-13T00:00:00",
          "2020-03-14T00:00:00",
          "2020-03-15T00:00:00",
          "2020-03-16T00:00:00",
          "2020-03-17T00:00:00",
          "2020-03-18T00:00:00",
          "2020-03-19T00:00:00",
          "2020-03-20T00:00:00",
          "2020-03-21T00:00:00",
          "2020-03-22T00:00:00",
          "2020-03-23T00:00:00",
          "2020-03-24T00:00:00",
          "2020-03-25T00:00:00",
          "2020-03-26T00:00:00",
          "2020-03-27T00:00:00",
          "2020-03-28T00:00:00",
          "2020-03-29T00:00:00",
          "2020-03-30T00:00:00",
          "2020-03-31T00:00:00",
          "2020-04-01T00:00:00",
          "2020-04-02T00:00:00",
          "2020-04-03T00:00:00",
          "2020-04-04T00:00:00",
          "2020-04-05T00:00:00",
          "2020-04-06T00:00:00",
          "2020-04-07T00:00:00",
          "2020-04-08T00:00:00",
          "2020-04-09T00:00:00",
          "2020-04-10T00:00:00",
          "2020-04-11T00:00:00",
          "2020-04-12T00:00:00",
          "2020-04-13T00:00:00",
          "2020-04-14T00:00:00",
          "2020-04-15T00:00:00",
          "2020-04-16T00:00:00",
          "2020-04-17T00:00:00",
          "2020-04-18T00:00:00",
          "2020-04-19T00:00:00",
          "2020-04-20T00:00:00",
          "2020-04-21T00:00:00",
          "2020-04-22T00:00:00",
          "2020-04-23T00:00:00",
          "2020-04-24T00:00:00",
          "2020-04-25T00:00:00",
          "2020-04-26T00:00:00",
          "2020-04-27T00:00:00",
          "2020-04-28T00:00:00",
          "2020-04-29T00:00:00",
          "2020-04-30T00:00:00",
          "2020-05-01T00:00:00",
          "2020-05-02T00:00:00",
          "2020-05-03T00:00:00",
          "2020-05-04T00:00:00",
          "2020-05-05T00:00:00",
          "2020-05-06T00:00:00",
          "2020-05-07T00:00:00",
          "2020-05-08T00:00:00",
          "2020-05-09T00:00:00",
          "2020-05-10T00:00:00",
          "2020-05-11T00:00:00",
          "2020-05-12T00:00:00",
          "2020-05-13T00:00:00",
          "2020-05-14T00:00:00",
          "2020-05-15T00:00:00",
          "2020-05-16T00:00:00",
          "2020-05-17T00:00:00",
          "2020-05-18T00:00:00",
          "2020-05-19T00:00:00",
          "2020-05-20T00:00:00",
          "2020-05-21T00:00:00",
          "2020-05-22T00:00:00",
          "2020-05-23T00:00:00",
          "2020-05-24T00:00:00",
          "2020-05-25T00:00:00",
          "2020-05-26T00:00:00",
          "2020-05-27T00:00:00",
          "2020-05-28T00:00:00",
          "2020-05-29T00:00:00",
          "2020-05-30T00:00:00",
          "2020-05-31T00:00:00",
          "2020-06-01T00:00:00",
          "2020-06-02T00:00:00",
          "2020-06-03T00:00:00",
          "2020-06-04T00:00:00",
          "2020-06-05T00:00:00",
          "2020-06-06T00:00:00",
          "2020-06-07T00:00:00",
          "2020-06-08T00:00:00",
          "2020-06-09T00:00:00",
          "2020-06-10T00:00:00",
          "2020-06-11T00:00:00",
          "2020-06-12T00:00:00",
          "2020-06-13T00:00:00",
          "2020-06-14T00:00:00"
         ],
         "y": [
          135.83828650330653,
          154.7488727448675,
          176.2798964950137,
          200.79148400331442,
          228.69245823892797,
          260.44670016440625,
          296.58027582992634,
          337.68940179504494,
          384.449321866559,
          437.62416604013714,
          498.0778567917448,
          566.7861171081873,
          644.8496171069836,
          733.5082695238095,
          834.1566459045669,
          948.3604314938518,
          1077.8737632112425,
          1224.6571964733737,
          1390.8959166611403,
          1579.0176424071149,
          1791.7094522631505,
          2031.9324946164134,
          2302.933203587484,
          2608.249232279991,
          2951.7078223612893,
          3337.4137529047835,
          3769.723356435622,
          4253.20037274584,
          4792.5486656981775,
          5392.516114928775,
          6057.763408026143,
          7381.784229245041,
          9575.864354811054,
          12360.283610991155,
          15912.210091705592,
          20369.848101402986,
          25886.154564100427,
          32613.17810629926,
          40688.962228969205,
          50225.988129110854,
          61300.40646881469,
          73922.68475932136,
          87934.57798525463,
          102748.1196377593,
          116889.8876754314,
          127363.82829985583,
          126808.38587480175,
          103311.45710566055,
          73285.48733041438,
          47927.42036941559,
          29641.86607841957,
          17720.50841138186,
          10434.827349601539,
          6142.8991640044915,
          3653.887674326528,
          2211.1704277353783,
          1366.6131261995488,
          863.9230976009512,
          558.4705371606742,
          368.6131501757336,
          247.84483769518238,
          169.2824492089194,
          117.09975189461011,
          81.78719852647305,
          57.50538372364986,
          40.58794228239003,
          28.68119240368901,
          20.240986130153715,
          14.2329555086975,
          9.950479396239075,
          6.90196673925675,
          4.739684685465022,
          3.2139381933127424,
          2.1430009267905916,
          1.3930092567221664,
          0.8642698774837072,
          0.4817671551708713,
          0.18846587647294655,
          0,
          0,
          0,
          0,
          0,
          0,
          0,
          0,
          0,
          0,
          0,
          0,
          0,
          0,
          0,
          0,
          0,
          0,
          0,
          0,
          0
         ]
        },
        {
         "fill": "tonexty",
         "fillcolor": "rgba(188,189,34,0.5)",
         "line": {
          "color": "#bcbd22",
          "shape": "spline"
         },
         "mode": "lines",
         "name": "Fit",
         "showlegend": true,
         "type": "scatter",
         "x": [
          "2020-03-08T00:00:00",
          "2020-03-09T00:00:00",
          "2020-03-10T00:00:00",
          "2020-03-11T00:00:00",
          "2020-03-12T00:00:00",
          "2020-03-13T00:00:00",
          "2020-03-14T00:00:00",
          "2020-03-15T00:00:00",
          "2020-03-16T00:00:00",
          "2020-03-17T00:00:00",
          "2020-03-18T00:00:00",
          "2020-03-19T00:00:00",
          "2020-03-20T00:00:00",
          "2020-03-21T00:00:00",
          "2020-03-22T00:00:00",
          "2020-03-23T00:00:00",
          "2020-03-24T00:00:00",
          "2020-03-25T00:00:00",
          "2020-03-26T00:00:00",
          "2020-03-27T00:00:00",
          "2020-03-28T00:00:00",
          "2020-03-29T00:00:00",
          "2020-03-30T00:00:00",
          "2020-03-31T00:00:00",
          "2020-04-01T00:00:00",
          "2020-04-02T00:00:00",
          "2020-04-03T00:00:00",
          "2020-04-04T00:00:00",
          "2020-04-05T00:00:00",
          "2020-04-06T00:00:00",
          "2020-04-07T00:00:00",
          "2020-04-08T00:00:00",
          "2020-04-09T00:00:00",
          "2020-04-10T00:00:00",
          "2020-04-11T00:00:00",
          "2020-04-12T00:00:00",
          "2020-04-13T00:00:00",
          "2020-04-14T00:00:00",
          "2020-04-15T00:00:00",
          "2020-04-16T00:00:00",
          "2020-04-17T00:00:00",
          "2020-04-18T00:00:00",
          "2020-04-19T00:00:00",
          "2020-04-20T00:00:00",
          "2020-04-21T00:00:00",
          "2020-04-22T00:00:00",
          "2020-04-23T00:00:00",
          "2020-04-24T00:00:00",
          "2020-04-25T00:00:00",
          "2020-04-26T00:00:00",
          "2020-04-27T00:00:00",
          "2020-04-28T00:00:00",
          "2020-04-29T00:00:00",
          "2020-04-30T00:00:00",
          "2020-05-01T00:00:00",
          "2020-05-02T00:00:00",
          "2020-05-03T00:00:00",
          "2020-05-04T00:00:00",
          "2020-05-05T00:00:00",
          "2020-05-06T00:00:00",
          "2020-05-07T00:00:00",
          "2020-05-08T00:00:00",
          "2020-05-09T00:00:00",
          "2020-05-10T00:00:00",
          "2020-05-11T00:00:00",
          "2020-05-12T00:00:00",
          "2020-05-13T00:00:00",
          "2020-05-14T00:00:00",
          "2020-05-15T00:00:00",
          "2020-05-16T00:00:00",
          "2020-05-17T00:00:00",
          "2020-05-18T00:00:00",
          "2020-05-19T00:00:00",
          "2020-05-20T00:00:00",
          "2020-05-21T00:00:00",
          "2020-05-22T00:00:00",
          "2020-05-23T00:00:00",
          "2020-05-24T00:00:00",
          "2020-05-25T00:00:00",
          "2020-05-26T00:00:00",
          "2020-05-27T00:00:00",
          "2020-05-28T00:00:00",
          "2020-05-29T00:00:00",
          "2020-05-30T00:00:00",
          "2020-05-31T00:00:00",
          "2020-06-01T00:00:00",
          "2020-06-02T00:00:00",
          "2020-06-03T00:00:00",
          "2020-06-04T00:00:00",
          "2020-06-05T00:00:00",
          "2020-06-06T00:00:00",
          "2020-06-07T00:00:00",
          "2020-06-08T00:00:00",
          "2020-06-09T00:00:00",
          "2020-06-10T00:00:00",
          "2020-06-11T00:00:00",
          "2020-06-12T00:00:00",
          "2020-06-13T00:00:00",
          "2020-06-14T00:00:00"
         ],
         "y": [
          175.5955762676946,
          199.96562229647847,
          227.7107635479826,
          259.2956838598168,
          295.24813438990884,
          336.16720808799835,
          382.7326121506104,
          435.7150315888119,
          495.98767671892824,
          564.5391032994862,
          642.4873846707553,
          731.0956986480427,
          831.7893655664999,
          946.1743345913944,
          1076.0570592050005,
          1223.4656247239889,
          1390.6718847712623,
          1580.2142226132885,
          1794.9203687251138,
          2037.9294682246352,
          2312.712290353863,
          2623.08809601141,
          2973.2362180814,
          3367.6998547979256,
          3811.3789251943367,
          4309.508092782904,
          4867.615247526598,
          5491.454885886538,
          6186.910012409082,
          6959.855511577739,
          7815.975563602804,
          10159.066362616199,
          13144.404382516392,
          17313.638786151903,
          23050.810768095373,
          30877.300357991295,
          41386.12596328617,
          55178.14014595065,
          72709.99839202156,
          94016.05491740239,
          118288.85433404463,
          143395.8141821176,
          165595.19983219868,
          179930.84451597132,
          181782.52629523515,
          169604.03690552444,
          150019.64188963667,
          138855.1606856348,
          126757.95651781507,
          109777.30723051021,
          90551.07027108228,
          71981.51912636429,
          55849.14025628492,
          42765.3134833745,
          32596.056982597758,
          24881.73236462642,
          19098.269866197355,
          14777.190171043489,
          11542.069032403038,
          9106.491497490406,
          7258.6610889458025,
          5844.126282113115,
          4750.834705908232,
          3897.472719474128,
          3224.815853404487,
          2689.4766750386775,
          2259.4423897286415,
          1910.9053810319454,
          1626.0123231831299,
          1391.2609889868259,
          1196.3528416633847,
          1033.3668405303083,
          896.1604689827943,
          779.9323319106994,
          680.9003437970698,
          596.063168578505,
          523.0220430635754,
          459.84671415210596,
          404.973838890136,
          357.12944720458233,
          315.26936878445554,
          278.53316514391804,
          246.2082827907745,
          217.70198970953254,
          192.51926910044898,
          170.2452866023317,
          150.531365285278,
          133.08362851217657,
          117.65362870750911,
          104.03039264304884,
          92.03340791230289,
          81.50618672882545,
          72.3102134283597,
          64.31933527073704,
          57.414954991666434,
          51.48259464993344,
          46.41033971230371,
          42.08926216356683,
          38.41533395189928
         ]
        },
        {
         "error_y": {
          "array": [
           10,
           10,
           10,
           10,
           10,
           10,
           10,
           10,
           15.200000000000001,
           17.1,
           21.1,
           25.3,
           28.5,
           31.3,
           33.2,
           46.95,
           49.050000000000004,
           57.75,
           61.95,
           60.45,
           54.900000000000006,
           59.2,
           69.2,
           61.300000000000004,
           57.85
          ]
         },
         "line": {
          "color": "#1f77b4"
         },
         "mode": "markers+lines",
         "name": "Data",
         "showlegend": false,
         "type": "scatter",
         "x": [
          "2020-03-08T00:00:00",
          "2020-03-09T00:00:00",
          "2020-03-10T00:00:00",
          "2020-03-11T00:00:00",
          "2020-03-12T00:00:00",
          "2020-03-13T00:00:00",
          "2020-03-14T00:00:00",
          "2020-03-15T00:00:00",
          "2020-03-16T00:00:00",
          "2020-03-17T00:00:00",
          "2020-03-18T00:00:00",
          "2020-03-19T00:00:00",
          "2020-03-20T00:00:00",
          "2020-03-21T00:00:00",
          "2020-03-22T00:00:00",
          "2020-03-23T00:00:00",
          "2020-03-24T00:00:00",
          "2020-03-25T00:00:00",
          "2020-03-26T00:00:00",
          "2020-03-27T00:00:00",
          "2020-03-28T00:00:00",
          "2020-03-29T00:00:00",
          "2020-03-30T00:00:00",
          "2020-03-31T00:00:00",
          "2020-04-01T00:00:00"
         ],
         "xaxis": "x2",
         "y": [
          14,
          29,
          43,
          66,
          69,
          129,
          151,
          185,
          304,
          342,
          422,
          506,
          570,
          626,
          664,
          939,
          981,
          1155,
          1239,
          1209,
          1098,
          1184,
          1384,
          1226,
          1157
         ],
         "yaxis": "y2"
        },
        {
         "line": {
          "color": "#bcbd22",
          "shape": "spline"
         },
         "mode": "lines",
         "showlegend": false,
         "type": "scatter",
         "x": [
          "2020-03-08T00:00:00",
          "2020-03-09T00:00:00",
          "2020-03-10T00:00:00",
          "2020-03-11T00:00:00",
          "2020-03-12T00:00:00",
          "2020-03-13T00:00:00",
          "2020-03-14T00:00:00",
          "2020-03-15T00:00:00",
          "2020-03-16T00:00:00",
          "2020-03-17T00:00:00",
          "2020-03-18T00:00:00",
          "2020-03-19T00:00:00",
          "2020-03-20T00:00:00",
          "2020-03-21T00:00:00",
          "2020-03-22T00:00:00",
          "2020-03-23T00:00:00",
          "2020-03-24T00:00:00",
          "2020-03-25T00:00:00",
          "2020-03-26T00:00:00",
          "2020-03-27T00:00:00",
          "2020-03-28T00:00:00",
          "2020-03-29T00:00:00",
          "2020-03-30T00:00:00",
          "2020-03-31T00:00:00",
          "2020-04-01T00:00:00",
          "2020-04-02T00:00:00",
          "2020-04-03T00:00:00",
          "2020-04-04T00:00:00",
          "2020-04-05T00:00:00",
          "2020-04-06T00:00:00",
          "2020-04-07T00:00:00",
          "2020-04-08T00:00:00",
          "2020-04-09T00:00:00",
          "2020-04-10T00:00:00",
          "2020-04-11T00:00:00",
          "2020-04-12T00:00:00",
          "2020-04-13T00:00:00",
          "2020-04-14T00:00:00",
          "2020-04-15T00:00:00",
          "2020-04-16T00:00:00",
          "2020-04-17T00:00:00",
          "2020-04-18T00:00:00",
          "2020-04-19T00:00:00",
          "2020-04-20T00:00:00",
          "2020-04-21T00:00:00",
          "2020-04-22T00:00:00",
          "2020-04-23T00:00:00",
          "2020-04-24T00:00:00",
          "2020-04-25T00:00:00",
          "2020-04-26T00:00:00",
          "2020-04-27T00:00:00",
          "2020-04-28T00:00:00",
          "2020-04-29T00:00:00",
          "2020-04-30T00:00:00",
          "2020-05-01T00:00:00",
          "2020-05-02T00:00:00",
          "2020-05-03T00:00:00",
          "2020-05-04T00:00:00",
          "2020-05-05T00:00:00",
          "2020-05-06T00:00:00",
          "2020-05-07T00:00:00",
          "2020-05-08T00:00:00",
          "2020-05-09T00:00:00",
          "2020-05-10T00:00:00",
          "2020-05-11T00:00:00",
          "2020-05-12T00:00:00",
          "2020-05-13T00:00:00",
          "2020-05-14T00:00:00",
          "2020-05-15T00:00:00",
          "2020-05-16T00:00:00",
          "2020-05-17T00:00:00",
          "2020-05-18T00:00:00",
          "2020-05-19T00:00:00",
          "2020-05-20T00:00:00",
          "2020-05-21T00:00:00",
          "2020-05-22T00:00:00",
          "2020-05-23T00:00:00",
          "2020-05-24T00:00:00",
          "2020-05-25T00:00:00",
          "2020-05-26T00:00:00",
          "2020-05-27T00:00:00",
          "2020-05-28T00:00:00",
          "2020-05-29T00:00:00",
          "2020-05-30T00:00:00",
          "2020-05-31T00:00:00",
          "2020-06-01T00:00:00",
          "2020-06-02T00:00:00",
          "2020-06-03T00:00:00",
          "2020-06-04T00:00:00",
          "2020-06-05T00:00:00",
          "2020-06-06T00:00:00",
          "2020-06-07T00:00:00",
          "2020-06-08T00:00:00",
          "2020-06-09T00:00:00",
          "2020-06-10T00:00:00",
          "2020-06-11T00:00:00",
          "2020-06-12T00:00:00",
          "2020-06-13T00:00:00",
          "2020-06-14T00:00:00"
         ],
         "xaxis": "x2",
         "y": [
          79.45007149123032,
          90.63360317802075,
          103.38505552080088,
          117.92228810215194,
          134.4927793418013,
          153.37742165663673,
          174.89471610326362,
          199.40537619057733,
          227.31734102036387,
          259.0911919896091,
          295.24597618482835,
          336.3654835519948,
          383.1051290301742,
          436.1997608093639,
          496.47288531934026,
          564.8477902955699,
          642.3606667317754,
          730.1751535600466,
          829.5972277832382,
          942.0894681435379,
          1069.2842597308515,
          1212.9959039591376,
          1375.231540957403,
          1558.2004055190864,
          1764.3204625002545,
          1996.2210159085366,
          2256.739452709877,
          2548.909828228658,
          2875.940499465604,
          3241.177465875459,
          0,
          1006.6298431258803,
          879.9900611259274,
          889.5536462364619,
          888.8393046781985,
          888.8925806187603,
          888.8886144790155,
          888.8889092549387,
          888.8888873795004,
          888.8888890006149,
          888.8888888806232,
          888.8888888894908,
          888.8888888888496,
          888.8888888888873,
          888.8888888888705,
          888.8888888888973,
          888.8888888888996,
          888.8888888888682,
          888.8888888888996,
          888.8888888888699,
          888.888888888898,
          888.888888888899,
          888.8888888888694,
          888.8888888888985,
          888.8888888888985,
          888.8888888888694,
          888.8888888888985,
          888.8888888888985,
          888.8888888888694,
          888.8888888888985,
          888.8888888888996,
          888.8888888888839,
          888.8888888888839,
          888.8888888888839,
          888.8888888888839,
          888.888888888899,
          888.8888888888845,
          888.8888888888985,
          888.888888888877,
          888.8888888888912,
          888.8888888888843,
          888.8888888888915,
          888.8888888888839,
          888.8888888888843,
          888.8888888888988,
          888.8888888888843,
          888.8888888888875,
          888.8888888888878,
          888.8888888888879,
          888.8888888888875,
          888.8888888888878,
          888.8888888888878,
          888.8888888888878,
          888.8888888888878,
          888.8888888888878,
          888.8888888888878,
          888.8888888888875,
          888.8888888888912,
          888.8888888888915,
          888.8888888888914,
          888.8888888888878,
          888.8888888888878,
          888.8888888888878,
          888.8888888888879,
          888.8888888888871,
          888.8888888888879,
          888.8888888888915,
          888.8888888888914,
          0
         ],
         "yaxis": "y2"
        },
        {
         "fill": "tonexty",
         "fillcolor": "rgba(188,189,34,0.5)",
         "line": {
          "color": "#bcbd22",
          "shape": "spline"
         },
         "mode": "lines",
         "name": "Fit",
         "showlegend": false,
         "type": "scatter",
         "x": [
          "2020-03-08T00:00:00",
          "2020-03-09T00:00:00",
          "2020-03-10T00:00:00",
          "2020-03-11T00:00:00",
          "2020-03-12T00:00:00",
          "2020-03-13T00:00:00",
          "2020-03-14T00:00:00",
          "2020-03-15T00:00:00",
          "2020-03-16T00:00:00",
          "2020-03-17T00:00:00",
          "2020-03-18T00:00:00",
          "2020-03-19T00:00:00",
          "2020-03-20T00:00:00",
          "2020-03-21T00:00:00",
          "2020-03-22T00:00:00",
          "2020-03-23T00:00:00",
          "2020-03-24T00:00:00",
          "2020-03-25T00:00:00",
          "2020-03-26T00:00:00",
          "2020-03-27T00:00:00",
          "2020-03-28T00:00:00",
          "2020-03-29T00:00:00",
          "2020-03-30T00:00:00",
          "2020-03-31T00:00:00",
          "2020-04-01T00:00:00",
          "2020-04-02T00:00:00",
          "2020-04-03T00:00:00",
          "2020-04-04T00:00:00",
          "2020-04-05T00:00:00",
          "2020-04-06T00:00:00",
          "2020-04-07T00:00:00",
          "2020-04-08T00:00:00",
          "2020-04-09T00:00:00",
          "2020-04-10T00:00:00",
          "2020-04-11T00:00:00",
          "2020-04-12T00:00:00",
          "2020-04-13T00:00:00",
          "2020-04-14T00:00:00",
          "2020-04-15T00:00:00",
          "2020-04-16T00:00:00",
          "2020-04-17T00:00:00",
          "2020-04-18T00:00:00",
          "2020-04-19T00:00:00",
          "2020-04-20T00:00:00",
          "2020-04-21T00:00:00",
          "2020-04-22T00:00:00",
          "2020-04-23T00:00:00",
          "2020-04-24T00:00:00",
          "2020-04-25T00:00:00",
          "2020-04-26T00:00:00",
          "2020-04-27T00:00:00",
          "2020-04-28T00:00:00",
          "2020-04-29T00:00:00",
          "2020-04-30T00:00:00",
          "2020-05-01T00:00:00",
          "2020-05-02T00:00:00",
          "2020-05-03T00:00:00",
          "2020-05-04T00:00:00",
          "2020-05-05T00:00:00",
          "2020-05-06T00:00:00",
          "2020-05-07T00:00:00",
          "2020-05-08T00:00:00",
          "2020-05-09T00:00:00",
          "2020-05-10T00:00:00",
          "2020-05-11T00:00:00",
          "2020-05-12T00:00:00",
          "2020-05-13T00:00:00",
          "2020-05-14T00:00:00",
          "2020-05-15T00:00:00",
          "2020-05-16T00:00:00",
          "2020-05-17T00:00:00",
          "2020-05-18T00:00:00",
          "2020-05-19T00:00:00",
          "2020-05-20T00:00:00",
          "2020-05-21T00:00:00",
          "2020-05-22T00:00:00",
          "2020-05-23T00:00:00",
          "2020-05-24T00:00:00",
          "2020-05-25T00:00:00",
          "2020-05-26T00:00:00",
          "2020-05-27T00:00:00",
          "2020-05-28T00:00:00",
          "2020-05-29T00:00:00",
          "2020-05-30T00:00:00",
          "2020-05-31T00:00:00",
          "2020-06-01T00:00:00",
          "2020-06-02T00:00:00",
          "2020-06-03T00:00:00",
          "2020-06-04T00:00:00",
          "2020-06-05T00:00:00",
          "2020-06-06T00:00:00",
          "2020-06-07T00:00:00",
          "2020-06-08T00:00:00",
          "2020-06-09T00:00:00",
          "2020-06-10T00:00:00",
          "2020-06-11T00:00:00",
          "2020-06-12T00:00:00",
          "2020-06-13T00:00:00",
          "2020-06-14T00:00:00"
         ],
         "xaxis": "x2",
         "y": [
          83.92472674446918,
          95.4618403897383,
          108.5832491352954,
          123.50617538071334,
          140.47760486583516,
          159.7783967040673,
          181.7279865088312,
          206.68977935863188,
          235.0773445006164,
          267.36153342261696,
          304.0786350505912,
          345.83963483846077,
          393.3405316394254,
          447.37347958921924,
          508.8383253912671,
          578.7540789997354,
          658.2701758526923,
          748.6779811269702,
          851.4233718963537,
          968.1209727760386,
          1100.5698774876398,
          1250.770027916622,
          1420.938143384566,
          1613.5220569835724,
          1831.212270766654,
          2076.949363189446,
          2353.925568695633,
          2665.578441190312,
          3015.574050225005,
          3407.7766757716777,
          3839.29882064842,
          1627.765698659332,
          1788.981685889421,
          1776.9483718338668,
          1777.839122602485,
          1777.7732460040584,
          1777.7781121907833,
          1777.7777531257864,
          1777.7777795932998,
          1777.7777776441997,
          1777.7777777875908,
          1777.7777777770498,
          1777.7777777778365,
          1777.7777777777696,
          1777.7777777777574,
          1777.7777777777887,
          1777.7777777777865,
          1777.7777777777596,
          1777.7777777777865,
          1777.7777777777578,
          1777.777777777788,
          1777.777777777787,
          1777.7777777777585,
          1777.7777777777876,
          1777.7777777777876,
          1777.7777777777585,
          1777.7777777777876,
          1777.7777777777876,
          1777.7777777777585,
          1777.7777777777876,
          1777.7777777777865,
          1777.777777777773,
          1777.777777777773,
          1777.777777777773,
          1777.777777777773,
          1777.777777777787,
          1777.7777777777724,
          1777.7777777777876,
          1777.7777777777656,
          1777.7777777777803,
          1777.7777777777728,
          1777.77777777778,
          1777.777777777773,
          1777.7777777777728,
          1777.7777777777874,
          1777.7777777777728,
          1777.7777777777767,
          1777.7777777777765,
          1777.7777777777765,
          1777.7777777777767,
          1777.7777777777765,
          1777.7777777777765,
          1777.7777777777765,
          1777.7777777777765,
          1777.7777777777765,
          1777.7777777777765,
          1777.7777777777767,
          1777.7777777777803,
          1777.77777777778,
          1777.77777777778,
          1777.7777777777765,
          1777.7777777777765,
          1777.7777777777765,
          1777.7777777777765,
          1777.7777777777771,
          1777.7777777777765,
          1777.77777777778,
          1777.77777777778,
          6543.085158891253
         ],
         "yaxis": "y2"
        }
       ],
       "layout": {
        "annotations": [
         {
          "font": {
           "size": 16
          },
          "showarrow": false,
          "text": "New infections",
          "x": 0.225,
          "xanchor": "center",
          "xref": "paper",
          "y": 1,
          "yanchor": "bottom",
          "yref": "paper"
         },
         {
          "font": {
           "size": 16
          },
          "showarrow": false,
          "text": "New hospitalizations",
          "x": 0.775,
          "xanchor": "center",
          "xref": "paper",
          "y": 1,
          "yanchor": "bottom",
          "yref": "paper"
         }
        ],
        "template": {
         "data": {
          "bar": [
           {
            "error_x": {
             "color": "#2a3f5f"
            },
            "error_y": {
             "color": "#2a3f5f"
            },
            "marker": {
             "line": {
              "color": "#E5ECF6",
              "width": 0.5
             }
            },
            "type": "bar"
           }
          ],
          "barpolar": [
           {
            "marker": {
             "line": {
              "color": "#E5ECF6",
              "width": 0.5
             }
            },
            "type": "barpolar"
           }
          ],
          "carpet": [
           {
            "aaxis": {
             "endlinecolor": "#2a3f5f",
             "gridcolor": "white",
             "linecolor": "white",
             "minorgridcolor": "white",
             "startlinecolor": "#2a3f5f"
            },
            "baxis": {
             "endlinecolor": "#2a3f5f",
             "gridcolor": "white",
             "linecolor": "white",
             "minorgridcolor": "white",
             "startlinecolor": "#2a3f5f"
            },
            "type": "carpet"
           }
          ],
          "choropleth": [
           {
            "colorbar": {
             "outlinewidth": 0,
             "ticks": ""
            },
            "type": "choropleth"
           }
          ],
          "contour": [
           {
            "colorbar": {
             "outlinewidth": 0,
             "ticks": ""
            },
            "colorscale": [
             [
              0,
              "#0d0887"
             ],
             [
              0.1111111111111111,
              "#46039f"
             ],
             [
              0.2222222222222222,
              "#7201a8"
             ],
             [
              0.3333333333333333,
              "#9c179e"
             ],
             [
              0.4444444444444444,
              "#bd3786"
             ],
             [
              0.5555555555555556,
              "#d8576b"
             ],
             [
              0.6666666666666666,
              "#ed7953"
             ],
             [
              0.7777777777777778,
              "#fb9f3a"
             ],
             [
              0.8888888888888888,
              "#fdca26"
             ],
             [
              1,
              "#f0f921"
             ]
            ],
            "type": "contour"
           }
          ],
          "contourcarpet": [
           {
            "colorbar": {
             "outlinewidth": 0,
             "ticks": ""
            },
            "type": "contourcarpet"
           }
          ],
          "heatmap": [
           {
            "colorbar": {
             "outlinewidth": 0,
             "ticks": ""
            },
            "colorscale": [
             [
              0,
              "#0d0887"
             ],
             [
              0.1111111111111111,
              "#46039f"
             ],
             [
              0.2222222222222222,
              "#7201a8"
             ],
             [
              0.3333333333333333,
              "#9c179e"
             ],
             [
              0.4444444444444444,
              "#bd3786"
             ],
             [
              0.5555555555555556,
              "#d8576b"
             ],
             [
              0.6666666666666666,
              "#ed7953"
             ],
             [
              0.7777777777777778,
              "#fb9f3a"
             ],
             [
              0.8888888888888888,
              "#fdca26"
             ],
             [
              1,
              "#f0f921"
             ]
            ],
            "type": "heatmap"
           }
          ],
          "heatmapgl": [
           {
            "colorbar": {
             "outlinewidth": 0,
             "ticks": ""
            },
            "colorscale": [
             [
              0,
              "#0d0887"
             ],
             [
              0.1111111111111111,
              "#46039f"
             ],
             [
              0.2222222222222222,
              "#7201a8"
             ],
             [
              0.3333333333333333,
              "#9c179e"
             ],
             [
              0.4444444444444444,
              "#bd3786"
             ],
             [
              0.5555555555555556,
              "#d8576b"
             ],
             [
              0.6666666666666666,
              "#ed7953"
             ],
             [
              0.7777777777777778,
              "#fb9f3a"
             ],
             [
              0.8888888888888888,
              "#fdca26"
             ],
             [
              1,
              "#f0f921"
             ]
            ],
            "type": "heatmapgl"
           }
          ],
          "histogram": [
           {
            "marker": {
             "colorbar": {
              "outlinewidth": 0,
              "ticks": ""
             }
            },
            "type": "histogram"
           }
          ],
          "histogram2d": [
           {
            "colorbar": {
             "outlinewidth": 0,
             "ticks": ""
            },
            "colorscale": [
             [
              0,
              "#0d0887"
             ],
             [
              0.1111111111111111,
              "#46039f"
             ],
             [
              0.2222222222222222,
              "#7201a8"
             ],
             [
              0.3333333333333333,
              "#9c179e"
             ],
             [
              0.4444444444444444,
              "#bd3786"
             ],
             [
              0.5555555555555556,
              "#d8576b"
             ],
             [
              0.6666666666666666,
              "#ed7953"
             ],
             [
              0.7777777777777778,
              "#fb9f3a"
             ],
             [
              0.8888888888888888,
              "#fdca26"
             ],
             [
              1,
              "#f0f921"
             ]
            ],
            "type": "histogram2d"
           }
          ],
          "histogram2dcontour": [
           {
            "colorbar": {
             "outlinewidth": 0,
             "ticks": ""
            },
            "colorscale": [
             [
              0,
              "#0d0887"
             ],
             [
              0.1111111111111111,
              "#46039f"
             ],
             [
              0.2222222222222222,
              "#7201a8"
             ],
             [
              0.3333333333333333,
              "#9c179e"
             ],
             [
              0.4444444444444444,
              "#bd3786"
             ],
             [
              0.5555555555555556,
              "#d8576b"
             ],
             [
              0.6666666666666666,
              "#ed7953"
             ],
             [
              0.7777777777777778,
              "#fb9f3a"
             ],
             [
              0.8888888888888888,
              "#fdca26"
             ],
             [
              1,
              "#f0f921"
             ]
            ],
            "type": "histogram2dcontour"
           }
          ],
          "mesh3d": [
           {
            "colorbar": {
             "outlinewidth": 0,
             "ticks": ""
            },
            "type": "mesh3d"
           }
          ],
          "parcoords": [
           {
            "line": {
             "colorbar": {
              "outlinewidth": 0,
              "ticks": ""
             }
            },
            "type": "parcoords"
           }
          ],
          "pie": [
           {
            "automargin": true,
            "type": "pie"
           }
          ],
          "scatter": [
           {
            "marker": {
             "colorbar": {
              "outlinewidth": 0,
              "ticks": ""
             }
            },
            "type": "scatter"
           }
          ],
          "scatter3d": [
           {
            "line": {
             "colorbar": {
              "outlinewidth": 0,
              "ticks": ""
             }
            },
            "marker": {
             "colorbar": {
              "outlinewidth": 0,
              "ticks": ""
             }
            },
            "type": "scatter3d"
           }
          ],
          "scattercarpet": [
           {
            "marker": {
             "colorbar": {
              "outlinewidth": 0,
              "ticks": ""
             }
            },
            "type": "scattercarpet"
           }
          ],
          "scattergeo": [
           {
            "marker": {
             "colorbar": {
              "outlinewidth": 0,
              "ticks": ""
             }
            },
            "type": "scattergeo"
           }
          ],
          "scattergl": [
           {
            "marker": {
             "colorbar": {
              "outlinewidth": 0,
              "ticks": ""
             }
            },
            "type": "scattergl"
           }
          ],
          "scattermapbox": [
           {
            "marker": {
             "colorbar": {
              "outlinewidth": 0,
              "ticks": ""
             }
            },
            "type": "scattermapbox"
           }
          ],
          "scatterpolar": [
           {
            "marker": {
             "colorbar": {
              "outlinewidth": 0,
              "ticks": ""
             }
            },
            "type": "scatterpolar"
           }
          ],
          "scatterpolargl": [
           {
            "marker": {
             "colorbar": {
              "outlinewidth": 0,
              "ticks": ""
             }
            },
            "type": "scatterpolargl"
           }
          ],
          "scatterternary": [
           {
            "marker": {
             "colorbar": {
              "outlinewidth": 0,
              "ticks": ""
             }
            },
            "type": "scatterternary"
           }
          ],
          "surface": [
           {
            "colorbar": {
             "outlinewidth": 0,
             "ticks": ""
            },
            "colorscale": [
             [
              0,
              "#0d0887"
             ],
             [
              0.1111111111111111,
              "#46039f"
             ],
             [
              0.2222222222222222,
              "#7201a8"
             ],
             [
              0.3333333333333333,
              "#9c179e"
             ],
             [
              0.4444444444444444,
              "#bd3786"
             ],
             [
              0.5555555555555556,
              "#d8576b"
             ],
             [
              0.6666666666666666,
              "#ed7953"
             ],
             [
              0.7777777777777778,
              "#fb9f3a"
             ],
             [
              0.8888888888888888,
              "#fdca26"
             ],
             [
              1,
              "#f0f921"
             ]
            ],
            "type": "surface"
           }
          ],
          "table": [
           {
            "cells": {
             "fill": {
              "color": "#EBF0F8"
             },
             "line": {
              "color": "white"
             }
            },
            "header": {
             "fill": {
              "color": "#C8D4E3"
             },
             "line": {
              "color": "white"
             }
            },
            "type": "table"
           }
          ]
         },
         "layout": {
          "annotationdefaults": {
           "arrowcolor": "#2a3f5f",
           "arrowhead": 0,
           "arrowwidth": 1
          },
          "coloraxis": {
           "colorbar": {
            "outlinewidth": 0,
            "ticks": ""
           }
          },
          "colorscale": {
           "diverging": [
            [
             0,
             "#8e0152"
            ],
            [
             0.1,
             "#c51b7d"
            ],
            [
             0.2,
             "#de77ae"
            ],
            [
             0.3,
             "#f1b6da"
            ],
            [
             0.4,
             "#fde0ef"
            ],
            [
             0.5,
             "#f7f7f7"
            ],
            [
             0.6,
             "#e6f5d0"
            ],
            [
             0.7,
             "#b8e186"
            ],
            [
             0.8,
             "#7fbc41"
            ],
            [
             0.9,
             "#4d9221"
            ],
            [
             1,
             "#276419"
            ]
           ],
           "sequential": [
            [
             0,
             "#0d0887"
            ],
            [
             0.1111111111111111,
             "#46039f"
            ],
            [
             0.2222222222222222,
             "#7201a8"
            ],
            [
             0.3333333333333333,
             "#9c179e"
            ],
            [
             0.4444444444444444,
             "#bd3786"
            ],
            [
             0.5555555555555556,
             "#d8576b"
            ],
            [
             0.6666666666666666,
             "#ed7953"
            ],
            [
             0.7777777777777778,
             "#fb9f3a"
            ],
            [
             0.8888888888888888,
             "#fdca26"
            ],
            [
             1,
             "#f0f921"
            ]
           ],
           "sequentialminus": [
            [
             0,
             "#0d0887"
            ],
            [
             0.1111111111111111,
             "#46039f"
            ],
            [
             0.2222222222222222,
             "#7201a8"
            ],
            [
             0.3333333333333333,
             "#9c179e"
            ],
            [
             0.4444444444444444,
             "#bd3786"
            ],
            [
             0.5555555555555556,
             "#d8576b"
            ],
            [
             0.6666666666666666,
             "#ed7953"
            ],
            [
             0.7777777777777778,
             "#fb9f3a"
            ],
            [
             0.8888888888888888,
             "#fdca26"
            ],
            [
             1,
             "#f0f921"
            ]
           ]
          },
          "colorway": [
           "#636efa",
           "#EF553B",
           "#00cc96",
           "#ab63fa",
           "#FFA15A",
           "#19d3f3",
           "#FF6692",
           "#B6E880",
           "#FF97FF",
           "#FECB52"
          ],
          "font": {
           "color": "#2a3f5f"
          },
          "geo": {
           "bgcolor": "white",
           "lakecolor": "white",
           "landcolor": "#E5ECF6",
           "showlakes": true,
           "showland": true,
           "subunitcolor": "white"
          },
          "hoverlabel": {
           "align": "left"
          },
          "hovermode": "closest",
          "mapbox": {
           "style": "light"
          },
          "paper_bgcolor": "white",
          "plot_bgcolor": "#E5ECF6",
          "polar": {
           "angularaxis": {
            "gridcolor": "white",
            "linecolor": "white",
            "ticks": ""
           },
           "bgcolor": "#E5ECF6",
           "radialaxis": {
            "gridcolor": "white",
            "linecolor": "white",
            "ticks": ""
           }
          },
          "scene": {
           "xaxis": {
            "backgroundcolor": "#E5ECF6",
            "gridcolor": "white",
            "gridwidth": 2,
            "linecolor": "white",
            "showbackground": true,
            "ticks": "",
            "zerolinecolor": "white"
           },
           "yaxis": {
            "backgroundcolor": "#E5ECF6",
            "gridcolor": "white",
            "gridwidth": 2,
            "linecolor": "white",
            "showbackground": true,
            "ticks": "",
            "zerolinecolor": "white"
           },
           "zaxis": {
            "backgroundcolor": "#E5ECF6",
            "gridcolor": "white",
            "gridwidth": 2,
            "linecolor": "white",
            "showbackground": true,
            "ticks": "",
            "zerolinecolor": "white"
           }
          },
          "shapedefaults": {
           "line": {
            "color": "#2a3f5f"
           }
          },
          "ternary": {
           "aaxis": {
            "gridcolor": "white",
            "linecolor": "white",
            "ticks": ""
           },
           "baxis": {
            "gridcolor": "white",
            "linecolor": "white",
            "ticks": ""
           },
           "bgcolor": "#E5ECF6",
           "caxis": {
            "gridcolor": "white",
            "linecolor": "white",
            "ticks": ""
           }
          },
          "title": {
           "x": 0.05
          },
          "xaxis": {
           "automargin": true,
           "gridcolor": "white",
           "linecolor": "white",
           "ticks": "",
           "title": {
            "standoff": 15
           },
           "zerolinecolor": "white",
           "zerolinewidth": 2
          },
          "yaxis": {
           "automargin": true,
           "gridcolor": "white",
           "linecolor": "white",
           "ticks": "",
           "title": {
            "standoff": 15
           },
           "zerolinecolor": "white",
           "zerolinewidth": 2
          }
         }
        },
        "xaxis": {
         "anchor": "y",
         "domain": [
          0,
          0.45
         ]
        },
        "xaxis2": {
         "anchor": "y2",
         "domain": [
          0.55,
          1
         ]
        },
        "yaxis": {
         "anchor": "x",
         "domain": [
          0,
          1
         ]
        },
        "yaxis2": {
         "anchor": "x2",
         "domain": [
          0,
          1
         ]
        }
       }
      },
      "text/html": [
       "<div>\n",
       "        \n",
       "        \n",
       "            <div id=\"46e9d49c-af1b-4a2e-86cf-1986edfe2781\" class=\"plotly-graph-div\" style=\"height:525px; width:100%;\"></div>\n",
       "            <script type=\"text/javascript\">\n",
       "                require([\"plotly\"], function(Plotly) {\n",
       "                    window.PLOTLYENV=window.PLOTLYENV || {};\n",
       "                    \n",
       "                if (document.getElementById(\"46e9d49c-af1b-4a2e-86cf-1986edfe2781\")) {\n",
       "                    Plotly.newPlot(\n",
       "                        '46e9d49c-af1b-4a2e-86cf-1986edfe2781',\n",
       "                        [{\"error_y\": {\"array\": [100.4987562112089, 100.4987562112089, 100.4987562112089, 100.4987562112089, 179.27911200137063, 309.6615087478584, 320.6559682900039, 513.5973617533485, 1052.6097519973866, 1193.6224947612204, 1446.6538839681039, 1786.6791373942888, 1902.21351325239, 1119.9374714688315, 1096.0029607624242, 1621.6797780388088, 1929.123674754939, 2038.318255940421, 2073.925457315185, 2118.362682002305, 1426.5567847092523, 1479.1851270209554, 2450.4772780011654, 1993.9424991709263, 2045.3182814662368]}, \"line\": {\"color\": \"#1f77b4\"}, \"mode\": \"markers+lines\", \"name\": \"Data\", \"type\": \"scatter\", \"x\": [\"2020-03-08T00:00:00\", \"2020-03-09T00:00:00\", \"2020-03-10T00:00:00\", \"2020-03-11T00:00:00\", \"2020-03-12T00:00:00\", \"2020-03-13T00:00:00\", \"2020-03-14T00:00:00\", \"2020-03-15T00:00:00\", \"2020-03-16T00:00:00\", \"2020-03-17T00:00:00\", \"2020-03-18T00:00:00\", \"2020-03-19T00:00:00\", \"2020-03-20T00:00:00\", \"2020-03-21T00:00:00\", \"2020-03-22T00:00:00\", \"2020-03-23T00:00:00\", \"2020-03-24T00:00:00\", \"2020-03-25T00:00:00\", \"2020-03-26T00:00:00\", \"2020-03-27T00:00:00\", \"2020-03-28T00:00:00\", \"2020-03-29T00:00:00\", \"2020-03-30T00:00:00\", \"2020-03-31T00:00:00\", \"2020-04-01T00:00:00\"], \"y\": [6, 24, 30, 90, 289, 490, 490, 842, 1801, 2045, 2471, 3067, 3234, 1613, 1527, 2303, 2876, 2920, 2907, 3026, 1753, 1772, 3515, 2760, 2932]}, {\"line\": {\"color\": \"#bcbd22\", \"shape\": \"spline\"}, \"mode\": \"lines\", \"showlegend\": false, \"type\": \"scatter\", \"x\": [\"2020-03-08T00:00:00\", \"2020-03-09T00:00:00\", \"2020-03-10T00:00:00\", \"2020-03-11T00:00:00\", \"2020-03-12T00:00:00\", \"2020-03-13T00:00:00\", \"2020-03-14T00:00:00\", \"2020-03-15T00:00:00\", \"2020-03-16T00:00:00\", \"2020-03-17T00:00:00\", \"2020-03-18T00:00:00\", \"2020-03-19T00:00:00\", \"2020-03-20T00:00:00\", \"2020-03-21T00:00:00\", \"2020-03-22T00:00:00\", \"2020-03-23T00:00:00\", \"2020-03-24T00:00:00\", \"2020-03-25T00:00:00\", \"2020-03-26T00:00:00\", \"2020-03-27T00:00:00\", \"2020-03-28T00:00:00\", \"2020-03-29T00:00:00\", \"2020-03-30T00:00:00\", \"2020-03-31T00:00:00\", \"2020-04-01T00:00:00\", \"2020-04-02T00:00:00\", \"2020-04-03T00:00:00\", \"2020-04-04T00:00:00\", \"2020-04-05T00:00:00\", \"2020-04-06T00:00:00\", \"2020-04-07T00:00:00\", \"2020-04-08T00:00:00\", \"2020-04-09T00:00:00\", \"2020-04-10T00:00:00\", \"2020-04-11T00:00:00\", \"2020-04-12T00:00:00\", \"2020-04-13T00:00:00\", \"2020-04-14T00:00:00\", \"2020-04-15T00:00:00\", \"2020-04-16T00:00:00\", \"2020-04-17T00:00:00\", \"2020-04-18T00:00:00\", \"2020-04-19T00:00:00\", \"2020-04-20T00:00:00\", \"2020-04-21T00:00:00\", \"2020-04-22T00:00:00\", \"2020-04-23T00:00:00\", \"2020-04-24T00:00:00\", \"2020-04-25T00:00:00\", \"2020-04-26T00:00:00\", \"2020-04-27T00:00:00\", \"2020-04-28T00:00:00\", \"2020-04-29T00:00:00\", \"2020-04-30T00:00:00\", \"2020-05-01T00:00:00\", \"2020-05-02T00:00:00\", \"2020-05-03T00:00:00\", \"2020-05-04T00:00:00\", \"2020-05-05T00:00:00\", \"2020-05-06T00:00:00\", \"2020-05-07T00:00:00\", \"2020-05-08T00:00:00\", \"2020-05-09T00:00:00\", \"2020-05-10T00:00:00\", \"2020-05-11T00:00:00\", \"2020-05-12T00:00:00\", \"2020-05-13T00:00:00\", \"2020-05-14T00:00:00\", \"2020-05-15T00:00:00\", \"2020-05-16T00:00:00\", \"2020-05-17T00:00:00\", \"2020-05-18T00:00:00\", \"2020-05-19T00:00:00\", \"2020-05-20T00:00:00\", \"2020-05-21T00:00:00\", \"2020-05-22T00:00:00\", \"2020-05-23T00:00:00\", \"2020-05-24T00:00:00\", \"2020-05-25T00:00:00\", \"2020-05-26T00:00:00\", \"2020-05-27T00:00:00\", \"2020-05-28T00:00:00\", \"2020-05-29T00:00:00\", \"2020-05-30T00:00:00\", \"2020-05-31T00:00:00\", \"2020-06-01T00:00:00\", \"2020-06-02T00:00:00\", \"2020-06-03T00:00:00\", \"2020-06-04T00:00:00\", \"2020-06-05T00:00:00\", \"2020-06-06T00:00:00\", \"2020-06-07T00:00:00\", \"2020-06-08T00:00:00\", \"2020-06-09T00:00:00\", \"2020-06-10T00:00:00\", \"2020-06-11T00:00:00\", \"2020-06-12T00:00:00\", \"2020-06-13T00:00:00\", \"2020-06-14T00:00:00\"], \"y\": [135.83828650330653, 154.7488727448675, 176.2798964950137, 200.79148400331442, 228.69245823892797, 260.44670016440625, 296.58027582992634, 337.68940179504494, 384.449321866559, 437.62416604013714, 498.0778567917448, 566.7861171081873, 644.8496171069836, 733.5082695238095, 834.1566459045669, 948.3604314938518, 1077.8737632112425, 1224.6571964733737, 1390.8959166611403, 1579.0176424071149, 1791.7094522631505, 2031.9324946164134, 2302.933203587484, 2608.249232279991, 2951.7078223612893, 3337.4137529047835, 3769.723356435622, 4253.20037274584, 4792.5486656981775, 5392.516114928775, 6057.763408026143, 7381.784229245041, 9575.864354811054, 12360.283610991155, 15912.210091705592, 20369.848101402986, 25886.154564100427, 32613.17810629926, 40688.962228969205, 50225.988129110854, 61300.40646881469, 73922.68475932136, 87934.57798525463, 102748.1196377593, 116889.8876754314, 127363.82829985583, 126808.38587480175, 103311.45710566055, 73285.48733041438, 47927.42036941559, 29641.86607841957, 17720.50841138186, 10434.827349601539, 6142.8991640044915, 3653.887674326528, 2211.1704277353783, 1366.6131261995488, 863.9230976009512, 558.4705371606742, 368.6131501757336, 247.84483769518238, 169.2824492089194, 117.09975189461011, 81.78719852647305, 57.50538372364986, 40.58794228239003, 28.68119240368901, 20.240986130153715, 14.2329555086975, 9.950479396239075, 6.90196673925675, 4.739684685465022, 3.2139381933127424, 2.1430009267905916, 1.3930092567221664, 0.8642698774837072, 0.4817671551708713, 0.18846587647294655, 0, 0, 0, 0, 0, 0, 0, 0, 0, 0, 0, 0, 0, 0, 0, 0, 0, 0, 0, 0, 0]}, {\"fill\": \"tonexty\", \"fillcolor\": \"rgba(188,189,34,0.5)\", \"line\": {\"color\": \"#bcbd22\", \"shape\": \"spline\"}, \"mode\": \"lines\", \"name\": \"Fit\", \"showlegend\": true, \"type\": \"scatter\", \"x\": [\"2020-03-08T00:00:00\", \"2020-03-09T00:00:00\", \"2020-03-10T00:00:00\", \"2020-03-11T00:00:00\", \"2020-03-12T00:00:00\", \"2020-03-13T00:00:00\", \"2020-03-14T00:00:00\", \"2020-03-15T00:00:00\", \"2020-03-16T00:00:00\", \"2020-03-17T00:00:00\", \"2020-03-18T00:00:00\", \"2020-03-19T00:00:00\", \"2020-03-20T00:00:00\", \"2020-03-21T00:00:00\", \"2020-03-22T00:00:00\", \"2020-03-23T00:00:00\", \"2020-03-24T00:00:00\", \"2020-03-25T00:00:00\", \"2020-03-26T00:00:00\", \"2020-03-27T00:00:00\", \"2020-03-28T00:00:00\", \"2020-03-29T00:00:00\", \"2020-03-30T00:00:00\", \"2020-03-31T00:00:00\", \"2020-04-01T00:00:00\", \"2020-04-02T00:00:00\", \"2020-04-03T00:00:00\", \"2020-04-04T00:00:00\", \"2020-04-05T00:00:00\", \"2020-04-06T00:00:00\", \"2020-04-07T00:00:00\", \"2020-04-08T00:00:00\", \"2020-04-09T00:00:00\", \"2020-04-10T00:00:00\", \"2020-04-11T00:00:00\", \"2020-04-12T00:00:00\", \"2020-04-13T00:00:00\", \"2020-04-14T00:00:00\", \"2020-04-15T00:00:00\", \"2020-04-16T00:00:00\", \"2020-04-17T00:00:00\", \"2020-04-18T00:00:00\", \"2020-04-19T00:00:00\", \"2020-04-20T00:00:00\", \"2020-04-21T00:00:00\", \"2020-04-22T00:00:00\", \"2020-04-23T00:00:00\", \"2020-04-24T00:00:00\", \"2020-04-25T00:00:00\", \"2020-04-26T00:00:00\", \"2020-04-27T00:00:00\", \"2020-04-28T00:00:00\", \"2020-04-29T00:00:00\", \"2020-04-30T00:00:00\", \"2020-05-01T00:00:00\", \"2020-05-02T00:00:00\", \"2020-05-03T00:00:00\", \"2020-05-04T00:00:00\", \"2020-05-05T00:00:00\", \"2020-05-06T00:00:00\", \"2020-05-07T00:00:00\", \"2020-05-08T00:00:00\", \"2020-05-09T00:00:00\", \"2020-05-10T00:00:00\", \"2020-05-11T00:00:00\", \"2020-05-12T00:00:00\", \"2020-05-13T00:00:00\", \"2020-05-14T00:00:00\", \"2020-05-15T00:00:00\", \"2020-05-16T00:00:00\", \"2020-05-17T00:00:00\", \"2020-05-18T00:00:00\", \"2020-05-19T00:00:00\", \"2020-05-20T00:00:00\", \"2020-05-21T00:00:00\", \"2020-05-22T00:00:00\", \"2020-05-23T00:00:00\", \"2020-05-24T00:00:00\", \"2020-05-25T00:00:00\", \"2020-05-26T00:00:00\", \"2020-05-27T00:00:00\", \"2020-05-28T00:00:00\", \"2020-05-29T00:00:00\", \"2020-05-30T00:00:00\", \"2020-05-31T00:00:00\", \"2020-06-01T00:00:00\", \"2020-06-02T00:00:00\", \"2020-06-03T00:00:00\", \"2020-06-04T00:00:00\", \"2020-06-05T00:00:00\", \"2020-06-06T00:00:00\", \"2020-06-07T00:00:00\", \"2020-06-08T00:00:00\", \"2020-06-09T00:00:00\", \"2020-06-10T00:00:00\", \"2020-06-11T00:00:00\", \"2020-06-12T00:00:00\", \"2020-06-13T00:00:00\", \"2020-06-14T00:00:00\"], \"y\": [175.5955762676946, 199.96562229647847, 227.7107635479826, 259.2956838598168, 295.24813438990884, 336.16720808799835, 382.7326121506104, 435.7150315888119, 495.98767671892824, 564.5391032994862, 642.4873846707553, 731.0956986480427, 831.7893655664999, 946.1743345913944, 1076.0570592050005, 1223.4656247239889, 1390.6718847712623, 1580.2142226132885, 1794.9203687251138, 2037.9294682246352, 2312.712290353863, 2623.08809601141, 2973.2362180814, 3367.6998547979256, 3811.3789251943367, 4309.508092782904, 4867.615247526598, 5491.454885886538, 6186.910012409082, 6959.855511577739, 7815.975563602804, 10159.066362616199, 13144.404382516392, 17313.638786151903, 23050.810768095373, 30877.300357991295, 41386.12596328617, 55178.14014595065, 72709.99839202156, 94016.05491740239, 118288.85433404463, 143395.8141821176, 165595.19983219868, 179930.84451597132, 181782.52629523515, 169604.03690552444, 150019.64188963667, 138855.1606856348, 126757.95651781507, 109777.30723051021, 90551.07027108228, 71981.51912636429, 55849.14025628492, 42765.3134833745, 32596.056982597758, 24881.73236462642, 19098.269866197355, 14777.190171043489, 11542.069032403038, 9106.491497490406, 7258.6610889458025, 5844.126282113115, 4750.834705908232, 3897.472719474128, 3224.815853404487, 2689.4766750386775, 2259.4423897286415, 1910.9053810319454, 1626.0123231831299, 1391.2609889868259, 1196.3528416633847, 1033.3668405303083, 896.1604689827943, 779.9323319106994, 680.9003437970698, 596.063168578505, 523.0220430635754, 459.84671415210596, 404.973838890136, 357.12944720458233, 315.26936878445554, 278.53316514391804, 246.2082827907745, 217.70198970953254, 192.51926910044898, 170.2452866023317, 150.531365285278, 133.08362851217657, 117.65362870750911, 104.03039264304884, 92.03340791230289, 81.50618672882545, 72.3102134283597, 64.31933527073704, 57.414954991666434, 51.48259464993344, 46.41033971230371, 42.08926216356683, 38.41533395189928]}, {\"error_y\": {\"array\": [10.0, 10.0, 10.0, 10.0, 10.0, 10.0, 10.0, 10.0, 15.200000000000001, 17.1, 21.1, 25.3, 28.5, 31.3, 33.2, 46.95, 49.050000000000004, 57.75, 61.95, 60.45, 54.900000000000006, 59.2, 69.2, 61.300000000000004, 57.85]}, \"line\": {\"color\": \"#1f77b4\"}, \"mode\": \"markers+lines\", \"name\": \"Data\", \"showlegend\": false, \"type\": \"scatter\", \"x\": [\"2020-03-08T00:00:00\", \"2020-03-09T00:00:00\", \"2020-03-10T00:00:00\", \"2020-03-11T00:00:00\", \"2020-03-12T00:00:00\", \"2020-03-13T00:00:00\", \"2020-03-14T00:00:00\", \"2020-03-15T00:00:00\", \"2020-03-16T00:00:00\", \"2020-03-17T00:00:00\", \"2020-03-18T00:00:00\", \"2020-03-19T00:00:00\", \"2020-03-20T00:00:00\", \"2020-03-21T00:00:00\", \"2020-03-22T00:00:00\", \"2020-03-23T00:00:00\", \"2020-03-24T00:00:00\", \"2020-03-25T00:00:00\", \"2020-03-26T00:00:00\", \"2020-03-27T00:00:00\", \"2020-03-28T00:00:00\", \"2020-03-29T00:00:00\", \"2020-03-30T00:00:00\", \"2020-03-31T00:00:00\", \"2020-04-01T00:00:00\"], \"xaxis\": \"x2\", \"y\": [14, 29, 43, 66, 69, 129, 151, 185, 304, 342, 422, 506, 570, 626, 664, 939, 981, 1155, 1239, 1209, 1098, 1184, 1384, 1226, 1157], \"yaxis\": \"y2\"}, {\"line\": {\"color\": \"#bcbd22\", \"shape\": \"spline\"}, \"mode\": \"lines\", \"showlegend\": false, \"type\": \"scatter\", \"x\": [\"2020-03-08T00:00:00\", \"2020-03-09T00:00:00\", \"2020-03-10T00:00:00\", \"2020-03-11T00:00:00\", \"2020-03-12T00:00:00\", \"2020-03-13T00:00:00\", \"2020-03-14T00:00:00\", \"2020-03-15T00:00:00\", \"2020-03-16T00:00:00\", \"2020-03-17T00:00:00\", \"2020-03-18T00:00:00\", \"2020-03-19T00:00:00\", \"2020-03-20T00:00:00\", \"2020-03-21T00:00:00\", \"2020-03-22T00:00:00\", \"2020-03-23T00:00:00\", \"2020-03-24T00:00:00\", \"2020-03-25T00:00:00\", \"2020-03-26T00:00:00\", \"2020-03-27T00:00:00\", \"2020-03-28T00:00:00\", \"2020-03-29T00:00:00\", \"2020-03-30T00:00:00\", \"2020-03-31T00:00:00\", \"2020-04-01T00:00:00\", \"2020-04-02T00:00:00\", \"2020-04-03T00:00:00\", \"2020-04-04T00:00:00\", \"2020-04-05T00:00:00\", \"2020-04-06T00:00:00\", \"2020-04-07T00:00:00\", \"2020-04-08T00:00:00\", \"2020-04-09T00:00:00\", \"2020-04-10T00:00:00\", \"2020-04-11T00:00:00\", \"2020-04-12T00:00:00\", \"2020-04-13T00:00:00\", \"2020-04-14T00:00:00\", \"2020-04-15T00:00:00\", \"2020-04-16T00:00:00\", \"2020-04-17T00:00:00\", \"2020-04-18T00:00:00\", \"2020-04-19T00:00:00\", \"2020-04-20T00:00:00\", \"2020-04-21T00:00:00\", \"2020-04-22T00:00:00\", \"2020-04-23T00:00:00\", \"2020-04-24T00:00:00\", \"2020-04-25T00:00:00\", \"2020-04-26T00:00:00\", \"2020-04-27T00:00:00\", \"2020-04-28T00:00:00\", \"2020-04-29T00:00:00\", \"2020-04-30T00:00:00\", \"2020-05-01T00:00:00\", \"2020-05-02T00:00:00\", \"2020-05-03T00:00:00\", \"2020-05-04T00:00:00\", \"2020-05-05T00:00:00\", \"2020-05-06T00:00:00\", \"2020-05-07T00:00:00\", \"2020-05-08T00:00:00\", \"2020-05-09T00:00:00\", \"2020-05-10T00:00:00\", \"2020-05-11T00:00:00\", \"2020-05-12T00:00:00\", \"2020-05-13T00:00:00\", \"2020-05-14T00:00:00\", \"2020-05-15T00:00:00\", \"2020-05-16T00:00:00\", \"2020-05-17T00:00:00\", \"2020-05-18T00:00:00\", \"2020-05-19T00:00:00\", \"2020-05-20T00:00:00\", \"2020-05-21T00:00:00\", \"2020-05-22T00:00:00\", \"2020-05-23T00:00:00\", \"2020-05-24T00:00:00\", \"2020-05-25T00:00:00\", \"2020-05-26T00:00:00\", \"2020-05-27T00:00:00\", \"2020-05-28T00:00:00\", \"2020-05-29T00:00:00\", \"2020-05-30T00:00:00\", \"2020-05-31T00:00:00\", \"2020-06-01T00:00:00\", \"2020-06-02T00:00:00\", \"2020-06-03T00:00:00\", \"2020-06-04T00:00:00\", \"2020-06-05T00:00:00\", \"2020-06-06T00:00:00\", \"2020-06-07T00:00:00\", \"2020-06-08T00:00:00\", \"2020-06-09T00:00:00\", \"2020-06-10T00:00:00\", \"2020-06-11T00:00:00\", \"2020-06-12T00:00:00\", \"2020-06-13T00:00:00\", \"2020-06-14T00:00:00\"], \"xaxis\": \"x2\", \"y\": [79.45007149123032, 90.63360317802075, 103.38505552080088, 117.92228810215194, 134.4927793418013, 153.37742165663673, 174.89471610326362, 199.40537619057733, 227.31734102036387, 259.0911919896091, 295.24597618482835, 336.3654835519948, 383.1051290301742, 436.1997608093639, 496.47288531934026, 564.8477902955699, 642.3606667317754, 730.1751535600466, 829.5972277832382, 942.0894681435379, 1069.2842597308515, 1212.9959039591376, 1375.231540957403, 1558.2004055190864, 1764.3204625002545, 1996.2210159085366, 2256.739452709877, 2548.909828228658, 2875.940499465604, 3241.177465875459, 0, 1006.6298431258803, 879.9900611259274, 889.5536462364619, 888.8393046781985, 888.8925806187603, 888.8886144790155, 888.8889092549387, 888.8888873795004, 888.8888890006149, 888.8888888806232, 888.8888888894908, 888.8888888888496, 888.8888888888873, 888.8888888888705, 888.8888888888973, 888.8888888888996, 888.8888888888682, 888.8888888888996, 888.8888888888699, 888.888888888898, 888.888888888899, 888.8888888888694, 888.8888888888985, 888.8888888888985, 888.8888888888694, 888.8888888888985, 888.8888888888985, 888.8888888888694, 888.8888888888985, 888.8888888888996, 888.8888888888839, 888.8888888888839, 888.8888888888839, 888.8888888888839, 888.888888888899, 888.8888888888845, 888.8888888888985, 888.888888888877, 888.8888888888912, 888.8888888888843, 888.8888888888915, 888.8888888888839, 888.8888888888843, 888.8888888888988, 888.8888888888843, 888.8888888888875, 888.8888888888878, 888.8888888888879, 888.8888888888875, 888.8888888888878, 888.8888888888878, 888.8888888888878, 888.8888888888878, 888.8888888888878, 888.8888888888878, 888.8888888888875, 888.8888888888912, 888.8888888888915, 888.8888888888914, 888.8888888888878, 888.8888888888878, 888.8888888888878, 888.8888888888879, 888.8888888888871, 888.8888888888879, 888.8888888888915, 888.8888888888914, 0], \"yaxis\": \"y2\"}, {\"fill\": \"tonexty\", \"fillcolor\": \"rgba(188,189,34,0.5)\", \"line\": {\"color\": \"#bcbd22\", \"shape\": \"spline\"}, \"mode\": \"lines\", \"name\": \"Fit\", \"showlegend\": false, \"type\": \"scatter\", \"x\": [\"2020-03-08T00:00:00\", \"2020-03-09T00:00:00\", \"2020-03-10T00:00:00\", \"2020-03-11T00:00:00\", \"2020-03-12T00:00:00\", \"2020-03-13T00:00:00\", \"2020-03-14T00:00:00\", \"2020-03-15T00:00:00\", \"2020-03-16T00:00:00\", \"2020-03-17T00:00:00\", \"2020-03-18T00:00:00\", \"2020-03-19T00:00:00\", \"2020-03-20T00:00:00\", \"2020-03-21T00:00:00\", \"2020-03-22T00:00:00\", \"2020-03-23T00:00:00\", \"2020-03-24T00:00:00\", \"2020-03-25T00:00:00\", \"2020-03-26T00:00:00\", \"2020-03-27T00:00:00\", \"2020-03-28T00:00:00\", \"2020-03-29T00:00:00\", \"2020-03-30T00:00:00\", \"2020-03-31T00:00:00\", \"2020-04-01T00:00:00\", \"2020-04-02T00:00:00\", \"2020-04-03T00:00:00\", \"2020-04-04T00:00:00\", \"2020-04-05T00:00:00\", \"2020-04-06T00:00:00\", \"2020-04-07T00:00:00\", \"2020-04-08T00:00:00\", \"2020-04-09T00:00:00\", \"2020-04-10T00:00:00\", \"2020-04-11T00:00:00\", \"2020-04-12T00:00:00\", \"2020-04-13T00:00:00\", \"2020-04-14T00:00:00\", \"2020-04-15T00:00:00\", \"2020-04-16T00:00:00\", \"2020-04-17T00:00:00\", \"2020-04-18T00:00:00\", \"2020-04-19T00:00:00\", \"2020-04-20T00:00:00\", \"2020-04-21T00:00:00\", \"2020-04-22T00:00:00\", \"2020-04-23T00:00:00\", \"2020-04-24T00:00:00\", \"2020-04-25T00:00:00\", \"2020-04-26T00:00:00\", \"2020-04-27T00:00:00\", \"2020-04-28T00:00:00\", \"2020-04-29T00:00:00\", \"2020-04-30T00:00:00\", \"2020-05-01T00:00:00\", \"2020-05-02T00:00:00\", \"2020-05-03T00:00:00\", \"2020-05-04T00:00:00\", \"2020-05-05T00:00:00\", \"2020-05-06T00:00:00\", \"2020-05-07T00:00:00\", \"2020-05-08T00:00:00\", \"2020-05-09T00:00:00\", \"2020-05-10T00:00:00\", \"2020-05-11T00:00:00\", \"2020-05-12T00:00:00\", \"2020-05-13T00:00:00\", \"2020-05-14T00:00:00\", \"2020-05-15T00:00:00\", \"2020-05-16T00:00:00\", \"2020-05-17T00:00:00\", \"2020-05-18T00:00:00\", \"2020-05-19T00:00:00\", \"2020-05-20T00:00:00\", \"2020-05-21T00:00:00\", \"2020-05-22T00:00:00\", \"2020-05-23T00:00:00\", \"2020-05-24T00:00:00\", \"2020-05-25T00:00:00\", \"2020-05-26T00:00:00\", \"2020-05-27T00:00:00\", \"2020-05-28T00:00:00\", \"2020-05-29T00:00:00\", \"2020-05-30T00:00:00\", \"2020-05-31T00:00:00\", \"2020-06-01T00:00:00\", \"2020-06-02T00:00:00\", \"2020-06-03T00:00:00\", \"2020-06-04T00:00:00\", \"2020-06-05T00:00:00\", \"2020-06-06T00:00:00\", \"2020-06-07T00:00:00\", \"2020-06-08T00:00:00\", \"2020-06-09T00:00:00\", \"2020-06-10T00:00:00\", \"2020-06-11T00:00:00\", \"2020-06-12T00:00:00\", \"2020-06-13T00:00:00\", \"2020-06-14T00:00:00\"], \"xaxis\": \"x2\", \"y\": [83.92472674446918, 95.4618403897383, 108.5832491352954, 123.50617538071334, 140.47760486583516, 159.7783967040673, 181.7279865088312, 206.68977935863188, 235.0773445006164, 267.36153342261696, 304.0786350505912, 345.83963483846077, 393.3405316394254, 447.37347958921924, 508.8383253912671, 578.7540789997354, 658.2701758526923, 748.6779811269702, 851.4233718963537, 968.1209727760386, 1100.5698774876398, 1250.770027916622, 1420.938143384566, 1613.5220569835724, 1831.212270766654, 2076.949363189446, 2353.925568695633, 2665.578441190312, 3015.574050225005, 3407.7766757716777, 3839.29882064842, 1627.765698659332, 1788.981685889421, 1776.9483718338668, 1777.839122602485, 1777.7732460040584, 1777.7781121907833, 1777.7777531257864, 1777.7777795932998, 1777.7777776441997, 1777.7777777875908, 1777.7777777770498, 1777.7777777778365, 1777.7777777777696, 1777.7777777777574, 1777.7777777777887, 1777.7777777777865, 1777.7777777777596, 1777.7777777777865, 1777.7777777777578, 1777.777777777788, 1777.777777777787, 1777.7777777777585, 1777.7777777777876, 1777.7777777777876, 1777.7777777777585, 1777.7777777777876, 1777.7777777777876, 1777.7777777777585, 1777.7777777777876, 1777.7777777777865, 1777.777777777773, 1777.777777777773, 1777.777777777773, 1777.777777777773, 1777.777777777787, 1777.7777777777724, 1777.7777777777876, 1777.7777777777656, 1777.7777777777803, 1777.7777777777728, 1777.77777777778, 1777.777777777773, 1777.7777777777728, 1777.7777777777874, 1777.7777777777728, 1777.7777777777767, 1777.7777777777765, 1777.7777777777765, 1777.7777777777767, 1777.7777777777765, 1777.7777777777765, 1777.7777777777765, 1777.7777777777765, 1777.7777777777765, 1777.7777777777765, 1777.7777777777767, 1777.7777777777803, 1777.77777777778, 1777.77777777778, 1777.7777777777765, 1777.7777777777765, 1777.7777777777765, 1777.7777777777765, 1777.7777777777771, 1777.7777777777765, 1777.77777777778, 1777.77777777778, 6543.085158891253], \"yaxis\": \"y2\"}],\n",
       "                        {\"annotations\": [{\"font\": {\"size\": 16}, \"showarrow\": false, \"text\": \"New infections\", \"x\": 0.225, \"xanchor\": \"center\", \"xref\": \"paper\", \"y\": 1.0, \"yanchor\": \"bottom\", \"yref\": \"paper\"}, {\"font\": {\"size\": 16}, \"showarrow\": false, \"text\": \"New hospitalizations\", \"x\": 0.775, \"xanchor\": \"center\", \"xref\": \"paper\", \"y\": 1.0, \"yanchor\": \"bottom\", \"yref\": \"paper\"}], \"template\": {\"data\": {\"bar\": [{\"error_x\": {\"color\": \"#2a3f5f\"}, \"error_y\": {\"color\": \"#2a3f5f\"}, \"marker\": {\"line\": {\"color\": \"#E5ECF6\", \"width\": 0.5}}, \"type\": \"bar\"}], \"barpolar\": [{\"marker\": {\"line\": {\"color\": \"#E5ECF6\", \"width\": 0.5}}, \"type\": \"barpolar\"}], \"carpet\": [{\"aaxis\": {\"endlinecolor\": \"#2a3f5f\", \"gridcolor\": \"white\", \"linecolor\": \"white\", \"minorgridcolor\": \"white\", \"startlinecolor\": \"#2a3f5f\"}, \"baxis\": {\"endlinecolor\": \"#2a3f5f\", \"gridcolor\": \"white\", \"linecolor\": \"white\", \"minorgridcolor\": \"white\", \"startlinecolor\": \"#2a3f5f\"}, \"type\": \"carpet\"}], \"choropleth\": [{\"colorbar\": {\"outlinewidth\": 0, \"ticks\": \"\"}, \"type\": \"choropleth\"}], \"contour\": [{\"colorbar\": {\"outlinewidth\": 0, \"ticks\": \"\"}, \"colorscale\": [[0.0, \"#0d0887\"], [0.1111111111111111, \"#46039f\"], [0.2222222222222222, \"#7201a8\"], [0.3333333333333333, \"#9c179e\"], [0.4444444444444444, \"#bd3786\"], [0.5555555555555556, \"#d8576b\"], [0.6666666666666666, \"#ed7953\"], [0.7777777777777778, \"#fb9f3a\"], [0.8888888888888888, \"#fdca26\"], [1.0, \"#f0f921\"]], \"type\": \"contour\"}], \"contourcarpet\": [{\"colorbar\": {\"outlinewidth\": 0, \"ticks\": \"\"}, \"type\": \"contourcarpet\"}], \"heatmap\": [{\"colorbar\": {\"outlinewidth\": 0, \"ticks\": \"\"}, \"colorscale\": [[0.0, \"#0d0887\"], [0.1111111111111111, \"#46039f\"], [0.2222222222222222, \"#7201a8\"], [0.3333333333333333, \"#9c179e\"], [0.4444444444444444, \"#bd3786\"], [0.5555555555555556, \"#d8576b\"], [0.6666666666666666, \"#ed7953\"], [0.7777777777777778, \"#fb9f3a\"], [0.8888888888888888, \"#fdca26\"], [1.0, \"#f0f921\"]], \"type\": \"heatmap\"}], \"heatmapgl\": [{\"colorbar\": {\"outlinewidth\": 0, \"ticks\": \"\"}, \"colorscale\": [[0.0, \"#0d0887\"], [0.1111111111111111, \"#46039f\"], [0.2222222222222222, \"#7201a8\"], [0.3333333333333333, \"#9c179e\"], [0.4444444444444444, \"#bd3786\"], [0.5555555555555556, \"#d8576b\"], [0.6666666666666666, \"#ed7953\"], [0.7777777777777778, \"#fb9f3a\"], [0.8888888888888888, \"#fdca26\"], [1.0, \"#f0f921\"]], \"type\": \"heatmapgl\"}], \"histogram\": [{\"marker\": {\"colorbar\": {\"outlinewidth\": 0, \"ticks\": \"\"}}, \"type\": \"histogram\"}], \"histogram2d\": [{\"colorbar\": {\"outlinewidth\": 0, \"ticks\": \"\"}, \"colorscale\": [[0.0, \"#0d0887\"], [0.1111111111111111, \"#46039f\"], [0.2222222222222222, \"#7201a8\"], [0.3333333333333333, \"#9c179e\"], [0.4444444444444444, \"#bd3786\"], [0.5555555555555556, \"#d8576b\"], [0.6666666666666666, \"#ed7953\"], [0.7777777777777778, \"#fb9f3a\"], [0.8888888888888888, \"#fdca26\"], [1.0, \"#f0f921\"]], \"type\": \"histogram2d\"}], \"histogram2dcontour\": [{\"colorbar\": {\"outlinewidth\": 0, \"ticks\": \"\"}, \"colorscale\": [[0.0, \"#0d0887\"], [0.1111111111111111, \"#46039f\"], [0.2222222222222222, \"#7201a8\"], [0.3333333333333333, \"#9c179e\"], [0.4444444444444444, \"#bd3786\"], [0.5555555555555556, \"#d8576b\"], [0.6666666666666666, \"#ed7953\"], [0.7777777777777778, \"#fb9f3a\"], [0.8888888888888888, \"#fdca26\"], [1.0, \"#f0f921\"]], \"type\": \"histogram2dcontour\"}], \"mesh3d\": [{\"colorbar\": {\"outlinewidth\": 0, \"ticks\": \"\"}, \"type\": \"mesh3d\"}], \"parcoords\": [{\"line\": {\"colorbar\": {\"outlinewidth\": 0, \"ticks\": \"\"}}, \"type\": \"parcoords\"}], \"pie\": [{\"automargin\": true, \"type\": \"pie\"}], \"scatter\": [{\"marker\": {\"colorbar\": {\"outlinewidth\": 0, \"ticks\": \"\"}}, \"type\": \"scatter\"}], \"scatter3d\": [{\"line\": {\"colorbar\": {\"outlinewidth\": 0, \"ticks\": \"\"}}, \"marker\": {\"colorbar\": {\"outlinewidth\": 0, \"ticks\": \"\"}}, \"type\": \"scatter3d\"}], \"scattercarpet\": [{\"marker\": {\"colorbar\": {\"outlinewidth\": 0, \"ticks\": \"\"}}, \"type\": \"scattercarpet\"}], \"scattergeo\": [{\"marker\": {\"colorbar\": {\"outlinewidth\": 0, \"ticks\": \"\"}}, \"type\": \"scattergeo\"}], \"scattergl\": [{\"marker\": {\"colorbar\": {\"outlinewidth\": 0, \"ticks\": \"\"}}, \"type\": \"scattergl\"}], \"scattermapbox\": [{\"marker\": {\"colorbar\": {\"outlinewidth\": 0, \"ticks\": \"\"}}, \"type\": \"scattermapbox\"}], \"scatterpolar\": [{\"marker\": {\"colorbar\": {\"outlinewidth\": 0, \"ticks\": \"\"}}, \"type\": \"scatterpolar\"}], \"scatterpolargl\": [{\"marker\": {\"colorbar\": {\"outlinewidth\": 0, \"ticks\": \"\"}}, \"type\": \"scatterpolargl\"}], \"scatterternary\": [{\"marker\": {\"colorbar\": {\"outlinewidth\": 0, \"ticks\": \"\"}}, \"type\": \"scatterternary\"}], \"surface\": [{\"colorbar\": {\"outlinewidth\": 0, \"ticks\": \"\"}, \"colorscale\": [[0.0, \"#0d0887\"], [0.1111111111111111, \"#46039f\"], [0.2222222222222222, \"#7201a8\"], [0.3333333333333333, \"#9c179e\"], [0.4444444444444444, \"#bd3786\"], [0.5555555555555556, \"#d8576b\"], [0.6666666666666666, \"#ed7953\"], [0.7777777777777778, \"#fb9f3a\"], [0.8888888888888888, \"#fdca26\"], [1.0, \"#f0f921\"]], \"type\": \"surface\"}], \"table\": [{\"cells\": {\"fill\": {\"color\": \"#EBF0F8\"}, \"line\": {\"color\": \"white\"}}, \"header\": {\"fill\": {\"color\": \"#C8D4E3\"}, \"line\": {\"color\": \"white\"}}, \"type\": \"table\"}]}, \"layout\": {\"annotationdefaults\": {\"arrowcolor\": \"#2a3f5f\", \"arrowhead\": 0, \"arrowwidth\": 1}, \"coloraxis\": {\"colorbar\": {\"outlinewidth\": 0, \"ticks\": \"\"}}, \"colorscale\": {\"diverging\": [[0, \"#8e0152\"], [0.1, \"#c51b7d\"], [0.2, \"#de77ae\"], [0.3, \"#f1b6da\"], [0.4, \"#fde0ef\"], [0.5, \"#f7f7f7\"], [0.6, \"#e6f5d0\"], [0.7, \"#b8e186\"], [0.8, \"#7fbc41\"], [0.9, \"#4d9221\"], [1, \"#276419\"]], \"sequential\": [[0.0, \"#0d0887\"], [0.1111111111111111, \"#46039f\"], [0.2222222222222222, \"#7201a8\"], [0.3333333333333333, \"#9c179e\"], [0.4444444444444444, \"#bd3786\"], [0.5555555555555556, \"#d8576b\"], [0.6666666666666666, \"#ed7953\"], [0.7777777777777778, \"#fb9f3a\"], [0.8888888888888888, \"#fdca26\"], [1.0, \"#f0f921\"]], \"sequentialminus\": [[0.0, \"#0d0887\"], [0.1111111111111111, \"#46039f\"], [0.2222222222222222, \"#7201a8\"], [0.3333333333333333, \"#9c179e\"], [0.4444444444444444, \"#bd3786\"], [0.5555555555555556, \"#d8576b\"], [0.6666666666666666, \"#ed7953\"], [0.7777777777777778, \"#fb9f3a\"], [0.8888888888888888, \"#fdca26\"], [1.0, \"#f0f921\"]]}, \"colorway\": [\"#636efa\", \"#EF553B\", \"#00cc96\", \"#ab63fa\", \"#FFA15A\", \"#19d3f3\", \"#FF6692\", \"#B6E880\", \"#FF97FF\", \"#FECB52\"], \"font\": {\"color\": \"#2a3f5f\"}, \"geo\": {\"bgcolor\": \"white\", \"lakecolor\": \"white\", \"landcolor\": \"#E5ECF6\", \"showlakes\": true, \"showland\": true, \"subunitcolor\": \"white\"}, \"hoverlabel\": {\"align\": \"left\"}, \"hovermode\": \"closest\", \"mapbox\": {\"style\": \"light\"}, \"paper_bgcolor\": \"white\", \"plot_bgcolor\": \"#E5ECF6\", \"polar\": {\"angularaxis\": {\"gridcolor\": \"white\", \"linecolor\": \"white\", \"ticks\": \"\"}, \"bgcolor\": \"#E5ECF6\", \"radialaxis\": {\"gridcolor\": \"white\", \"linecolor\": \"white\", \"ticks\": \"\"}}, \"scene\": {\"xaxis\": {\"backgroundcolor\": \"#E5ECF6\", \"gridcolor\": \"white\", \"gridwidth\": 2, \"linecolor\": \"white\", \"showbackground\": true, \"ticks\": \"\", \"zerolinecolor\": \"white\"}, \"yaxis\": {\"backgroundcolor\": \"#E5ECF6\", \"gridcolor\": \"white\", \"gridwidth\": 2, \"linecolor\": \"white\", \"showbackground\": true, \"ticks\": \"\", \"zerolinecolor\": \"white\"}, \"zaxis\": {\"backgroundcolor\": \"#E5ECF6\", \"gridcolor\": \"white\", \"gridwidth\": 2, \"linecolor\": \"white\", \"showbackground\": true, \"ticks\": \"\", \"zerolinecolor\": \"white\"}}, \"shapedefaults\": {\"line\": {\"color\": \"#2a3f5f\"}}, \"ternary\": {\"aaxis\": {\"gridcolor\": \"white\", \"linecolor\": \"white\", \"ticks\": \"\"}, \"baxis\": {\"gridcolor\": \"white\", \"linecolor\": \"white\", \"ticks\": \"\"}, \"bgcolor\": \"#E5ECF6\", \"caxis\": {\"gridcolor\": \"white\", \"linecolor\": \"white\", \"ticks\": \"\"}}, \"title\": {\"x\": 0.05}, \"xaxis\": {\"automargin\": true, \"gridcolor\": \"white\", \"linecolor\": \"white\", \"ticks\": \"\", \"title\": {\"standoff\": 15}, \"zerolinecolor\": \"white\", \"zerolinewidth\": 2}, \"yaxis\": {\"automargin\": true, \"gridcolor\": \"white\", \"linecolor\": \"white\", \"ticks\": \"\", \"title\": {\"standoff\": 15}, \"zerolinecolor\": \"white\", \"zerolinewidth\": 2}}}, \"xaxis\": {\"anchor\": \"y\", \"domain\": [0.0, 0.45]}, \"xaxis2\": {\"anchor\": \"y2\", \"domain\": [0.55, 1.0]}, \"yaxis\": {\"anchor\": \"x\", \"domain\": [0.0, 1.0]}, \"yaxis2\": {\"anchor\": \"x2\", \"domain\": [0.0, 1.0]}},\n",
       "                        {\"responsive\": true}\n",
       "                    ).then(function(){\n",
       "                            \n",
       "var gd = document.getElementById('46e9d49c-af1b-4a2e-86cf-1986edfe2781');\n",
       "var x = new MutationObserver(function (mutations, observer) {{\n",
       "        var display = window.getComputedStyle(gd).display;\n",
       "        if (!display || display === 'none') {{\n",
       "            console.log([gd, 'removed!']);\n",
       "            Plotly.purge(gd);\n",
       "            observer.disconnect();\n",
       "        }}\n",
       "}});\n",
       "\n",
       "// Listen for the removal of the full notebook cells\n",
       "var notebookContainer = gd.closest('#notebook-container');\n",
       "if (notebookContainer) {{\n",
       "    x.observe(notebookContainer, {childList: true});\n",
       "}}\n",
       "\n",
       "// Listen for the clearing of the current output cell\n",
       "var outputEl = gd.closest('.output');\n",
       "if (outputEl) {{\n",
       "    x.observe(outputEl, {childList: true});\n",
       "}}\n",
       "\n",
       "                        })\n",
       "                };\n",
       "                });\n",
       "            </script>\n",
       "        </div>"
      ]
     },
     "metadata": {},
     "output_type": "display_data"
    }
   ],
   "source": [
    "fig = make_subplots(\n",
    "    rows=1,\n",
    "    cols=2,\n",
    "    subplot_titles=(\"New infections\", \"New hospitalizations\", \"Plot 3\", \"Plot 4\"),\n",
    ")\n",
    "plotting.add_gvar_scatter(\n",
    "    fig,\n",
    "    x=chd_df.index,\n",
    "    y=Y_SIHR.T[0],\n",
    "    name=\"Data\",\n",
    "    mode=\"markers+lines\",\n",
    "    color=\"#1f77b4\",\n",
    ")\n",
    "plotting.add_gvar_scatter(\n",
    "    fig,\n",
    "    x=fit_res.index,\n",
    "    y=fit_res.infected_new.values,\n",
    "    name=\"Fit\",\n",
    "    mode=\"markers+lines\",\n",
    "    gv_mode=\"band\",\n",
    "    color=\"#bcbd22\",\n",
    ")\n",
    "plotting.add_gvar_scatter(\n",
    "    fig,\n",
    "    x=chd_df.index,\n",
    "    y=Y_SIHR.T[1],\n",
    "    name=\"Data\",\n",
    "    mode=\"markers+lines\",\n",
    "    row=1,\n",
    "    col=2,\n",
    "    color=\"#1f77b4\",\n",
    "    showlegend=False,\n",
    ")\n",
    "plotting.add_gvar_scatter(\n",
    "    fig,\n",
    "    x=fit_res.index,\n",
    "    y=fit_res.hospitalized_new.values,\n",
    "    name=\"Fit\",\n",
    "    mode=\"markers+lines\",\n",
    "    gv_mode=\"band\",\n",
    "    color=\"#bcbd22\",\n",
    "    row=1,\n",
    "    col=2,\n",
    "    showlegend=False,\n",
    ")\n",
    "fig.update_layout(\n",
    "    # yaxis1={\"type\":\"log\"},\n",
    "    # yaxis2={\"type\": \"log\"}\n",
    ")\n",
    "fig.show()"
   ]
  },
  {
   "cell_type": "markdown",
   "metadata": {
    "heading_collapsed": true
   },
   "source": [
    "## SIHR with distancing"
   ]
  },
  {
   "cell_type": "code",
   "execution_count": 112,
   "metadata": {
    "hidden": true
   },
   "outputs": [
    {
     "data": {
      "text/plain": [
       "{'initial_susceptible': 1800000,\n",
       " 'initial_hospitalized': 73,\n",
       " 'initial_recovered': 0,\n",
       " 'n_iter': 26,\n",
       " 'capacity': 20000}"
      ]
     },
     "execution_count": 112,
     "metadata": {},
     "output_type": "execute_result"
    }
   ],
   "source": [
    "fcn = FitFcn(\n",
    "    sihr_step,\n",
    "    columns=[\"infected_new\", \"hospitalized_new\"],\n",
    "    as_array=True,\n",
    "    drop_rows=[0],\n",
    "    beta_i_fcn=one_minus_logistic_fcn,\n",
    ")\n",
    "prior = {\n",
    "    \"beta_i\": gvar(beta0, beta0 * 0.8),\n",
    "    \"gamma_i\": 1 / (gvar(14, 5) / BIN_SIZE),\n",
    "    \"initial_infected\": gvar(1.0e3, 2.0e3),\n",
    "    \"beta_h\": gvar(0.05, 0.1),\n",
    "    \"gamma_h\": 1 / (gvar(14, 5) / BIN_SIZE),\n",
    "    \"ratio\": gvar(0.7, 0.3),\n",
    "    \"decay_width\": 1 / gvar(4, 1),\n",
    "    \"x0\": gvar(9, 2),\n",
    "}\n",
    "\n",
    "X_SIHR = X.copy()\n",
    "X_SIHR[\"capacity\"] = 20000\n",
    "X_SIHR"
   ]
  },
  {
   "cell_type": "code",
   "execution_count": 113,
   "metadata": {
    "hidden": true
   },
   "outputs": [
    {
     "name": "stdout",
     "output_type": "stream",
     "text": [
      "Least Square Fit:\n",
      "  chi2/dof [dof] = 1.5 [50]    Q = 0.016    logGBF = -347.18\n",
      "\n",
      "Parameters:\n",
      "          beta_i   4.08(53)e-07      [ 1.9(1.5)e-07 ]  *\n",
      "         gamma_i     0.074 (24)      [   0.071 (26) ]  \n",
      "initial_infected       138 (35)      [  1000 (2000) ]  \n",
      "          beta_h     0.157 (38)      [    0.05 (10) ]  *\n",
      "         gamma_h     0.071 (26)      [   0.071 (26) ]  \n",
      "           ratio     0.747 (86)      [    0.70 (30) ]  \n",
      "     decay_width     0.186 (42)      [   0.250 (62) ]  *\n",
      "              x0      9.5 (1.5)      [    9.0 (2.0) ]  \n",
      "\n",
      "Settings:\n",
      "  svdcut/n = 1e-12/0    tol = (1e-08,1e-10,1e-10*)    (itns/time = 38/0.3)\n",
      "  fitter = scipy_least_squares    method = trf\n",
      "\n",
      "Values:\n",
      "                 bi: 4.08(53)e-07        \n",
      "                 gi: 0.074(24)           \n",
      "                 ii: 138(35)             \n",
      "                 bh: 0.157(38)           \n",
      "                 gh: 0.071(26)           \n",
      "                  r: 13.6(4.5)           \n",
      "                 dw: 0.186(42)           \n",
      "                  x: 9.5(1.5)            \n",
      "                 dt: 0.94(12)            \n",
      "\n",
      "Partial % Errors:\n",
      "                         bi        gi        ii        bh        gh         r        dw         x        dt\n",
      "-----------------------------------------------------------------------------------------------------------\n",
      "               y:      5.96      7.77     21.73     21.03      0.00      7.77     12.51      7.96      5.96\n",
      "          beta_i:      4.47      3.91      5.66      3.60      0.00      3.91      5.38      4.06      4.47\n",
      "         gamma_i:      4.26     31.44      5.82      6.10      0.00     31.44      0.01      0.26      4.26\n",
      "initial_infected:      0.15      0.14      0.45      0.39      0.00      0.14      0.03      0.08      0.15\n",
      "          beta_h:      2.13      3.32      8.77      9.29      0.00      3.32      0.14      0.24      2.13\n",
      "         gamma_h:      0.00      0.00      0.00      0.00     35.71      0.00      0.00      0.00      0.00\n",
      "           ratio:      0.97      3.94      2.87      3.70      0.00      3.94      5.02      1.79      0.97\n",
      "     decay_width:      6.06      0.02      1.31      0.26      0.00      0.02     15.39      5.20      6.06\n",
      "              x0:      7.27      0.43      5.22      0.73      0.00      0.43      8.30     11.25      7.27\n",
      "-----------------------------------------------------------------------------------------------------------\n",
      "           total:     12.99     33.03     25.55     24.35     35.71     33.03     22.73     15.39     12.99\n",
      "\n"
     ]
    }
   ],
   "source": [
    "fit = nonlinear_fit(data=(X_SIHR, Y_SIHR), fcn=fcn, prior=prior)\n",
    "print(fit)\n",
    "\n",
    "X_SIHR_extra = X_SIHR.copy()\n",
    "X_SIHR_extra[\"n_iter\"] = 100\n",
    "days_extra = date_range(chd_df.index.min(), periods=100 - 1, freq=\"D\")\n",
    "\n",
    "fit_res = FitFcn(sihr_step, drop_rows=[0], beta_i_fcn=one_minus_logistic_fcn,)(\n",
    "    X_SIHR_extra, fit.p\n",
    ")\n",
    "fit_res.index = days_extra\n",
    "\n",
    "outputs = dict(**fit.p)\n",
    "outputs.update(\n",
    "    {\n",
    "        \"doubling_time\": log(2) / (fit.p[\"beta_i\"] * X[\"initial_susceptible\"]),\n",
    "        \"recovery in days\": 1 / fit.p[\"gamma_i\"] * BIN_SIZE,\n",
    "    }\n",
    ")\n",
    "inputs = dict(y=Y, **prior)\n",
    "\n",
    "outputs = {\n",
    "    \"\".join([kk[0] for kk in key.split(\"_\")]): val for key, val in outputs.items()\n",
    "}\n",
    "\n",
    "print(fmt_values(outputs))\n",
    "print(fmt_errorbudget(outputs, inputs))"
   ]
  },
  {
   "cell_type": "code",
   "execution_count": 114,
   "metadata": {
    "hidden": true
   },
   "outputs": [
    {
     "data": {
      "application/vnd.plotly.v1+json": {
       "config": {
        "plotlyServerURL": "https://plot.ly"
       },
       "data": [
        {
         "error_y": {
          "array": [
           100.4987562112089,
           100.4987562112089,
           100.4987562112089,
           100.4987562112089,
           179.27911200137063,
           309.6615087478584,
           320.6559682900039,
           513.5973617533485,
           1052.6097519973866,
           1193.6224947612204,
           1446.6538839681039,
           1786.6791373942888,
           1902.21351325239,
           1119.9374714688315,
           1096.0029607624242,
           1621.6797780388088,
           1929.123674754939,
           2038.318255940421,
           2073.925457315185,
           2118.362682002305,
           1426.5567847092523,
           1479.1851270209554,
           2450.4772780011654,
           1993.9424991709263,
           2045.3182814662368
          ]
         },
         "line": {
          "color": "#1f77b4"
         },
         "mode": "markers+lines",
         "name": "Data",
         "type": "scatter",
         "x": [
          "2020-03-08T00:00:00",
          "2020-03-09T00:00:00",
          "2020-03-10T00:00:00",
          "2020-03-11T00:00:00",
          "2020-03-12T00:00:00",
          "2020-03-13T00:00:00",
          "2020-03-14T00:00:00",
          "2020-03-15T00:00:00",
          "2020-03-16T00:00:00",
          "2020-03-17T00:00:00",
          "2020-03-18T00:00:00",
          "2020-03-19T00:00:00",
          "2020-03-20T00:00:00",
          "2020-03-21T00:00:00",
          "2020-03-22T00:00:00",
          "2020-03-23T00:00:00",
          "2020-03-24T00:00:00",
          "2020-03-25T00:00:00",
          "2020-03-26T00:00:00",
          "2020-03-27T00:00:00",
          "2020-03-28T00:00:00",
          "2020-03-29T00:00:00",
          "2020-03-30T00:00:00",
          "2020-03-31T00:00:00",
          "2020-04-01T00:00:00"
         ],
         "y": [
          6,
          24,
          30,
          90,
          289,
          490,
          490,
          842,
          1801,
          2045,
          2471,
          3067,
          3234,
          1613,
          1527,
          2303,
          2876,
          2920,
          2907,
          3026,
          1753,
          1772,
          3515,
          2760,
          2932
         ]
        },
        {
         "line": {
          "color": "#bcbd22",
          "shape": "spline"
         },
         "mode": "lines",
         "showlegend": false,
         "type": "scatter",
         "x": [
          "2020-03-08T00:00:00",
          "2020-03-09T00:00:00",
          "2020-03-10T00:00:00",
          "2020-03-11T00:00:00",
          "2020-03-12T00:00:00",
          "2020-03-13T00:00:00",
          "2020-03-14T00:00:00",
          "2020-03-15T00:00:00",
          "2020-03-16T00:00:00",
          "2020-03-17T00:00:00",
          "2020-03-18T00:00:00",
          "2020-03-19T00:00:00",
          "2020-03-20T00:00:00",
          "2020-03-21T00:00:00",
          "2020-03-22T00:00:00",
          "2020-03-23T00:00:00",
          "2020-03-24T00:00:00",
          "2020-03-25T00:00:00",
          "2020-03-26T00:00:00",
          "2020-03-27T00:00:00",
          "2020-03-28T00:00:00",
          "2020-03-29T00:00:00",
          "2020-03-30T00:00:00",
          "2020-03-31T00:00:00",
          "2020-04-01T00:00:00",
          "2020-04-02T00:00:00",
          "2020-04-03T00:00:00",
          "2020-04-04T00:00:00",
          "2020-04-05T00:00:00",
          "2020-04-06T00:00:00",
          "2020-04-07T00:00:00",
          "2020-04-08T00:00:00",
          "2020-04-09T00:00:00",
          "2020-04-10T00:00:00",
          "2020-04-11T00:00:00",
          "2020-04-12T00:00:00",
          "2020-04-13T00:00:00",
          "2020-04-14T00:00:00",
          "2020-04-15T00:00:00",
          "2020-04-16T00:00:00",
          "2020-04-17T00:00:00",
          "2020-04-18T00:00:00",
          "2020-04-19T00:00:00",
          "2020-04-20T00:00:00",
          "2020-04-21T00:00:00",
          "2020-04-22T00:00:00",
          "2020-04-23T00:00:00",
          "2020-04-24T00:00:00",
          "2020-04-25T00:00:00",
          "2020-04-26T00:00:00",
          "2020-04-27T00:00:00",
          "2020-04-28T00:00:00",
          "2020-04-29T00:00:00",
          "2020-04-30T00:00:00",
          "2020-05-01T00:00:00",
          "2020-05-02T00:00:00",
          "2020-05-03T00:00:00",
          "2020-05-04T00:00:00",
          "2020-05-05T00:00:00",
          "2020-05-06T00:00:00",
          "2020-05-07T00:00:00",
          "2020-05-08T00:00:00",
          "2020-05-09T00:00:00",
          "2020-05-10T00:00:00",
          "2020-05-11T00:00:00",
          "2020-05-12T00:00:00",
          "2020-05-13T00:00:00",
          "2020-05-14T00:00:00",
          "2020-05-15T00:00:00",
          "2020-05-16T00:00:00",
          "2020-05-17T00:00:00",
          "2020-05-18T00:00:00",
          "2020-05-19T00:00:00",
          "2020-05-20T00:00:00",
          "2020-05-21T00:00:00",
          "2020-05-22T00:00:00",
          "2020-05-23T00:00:00",
          "2020-05-24T00:00:00",
          "2020-05-25T00:00:00",
          "2020-05-26T00:00:00",
          "2020-05-27T00:00:00",
          "2020-05-28T00:00:00",
          "2020-05-29T00:00:00",
          "2020-05-30T00:00:00",
          "2020-05-31T00:00:00",
          "2020-06-01T00:00:00",
          "2020-06-02T00:00:00",
          "2020-06-03T00:00:00",
          "2020-06-04T00:00:00",
          "2020-06-05T00:00:00",
          "2020-06-06T00:00:00",
          "2020-06-07T00:00:00",
          "2020-06-08T00:00:00",
          "2020-06-09T00:00:00",
          "2020-06-10T00:00:00",
          "2020-06-11T00:00:00",
          "2020-06-12T00:00:00",
          "2020-06-13T00:00:00",
          "2020-06-14T00:00:00"
         ],
         "y": [
          73.85006248728686,
          103.5712684764636,
          143.13570180689098,
          194.74624355922896,
          260.5592597232215,
          342.3749410569221,
          441.24276795242713,
          557.0377488817197,
          688.0959269309407,
          831.0136722254977,
          980.7048484115995,
          1130.7708027929766,
          1274.173082406784,
          1404.1140149152175,
          1514.9422643456583,
          1602.8463805684296,
          1666.1290449907267,
          1704.9883595428305,
          1720.918400553322,
          1715.9812024163787,
          1692.2353626865142,
          1651.5357961345003,
          1595.7432900713216,
          1527.1082746013353,
          1448.4296030287144,
          1362.8144312059271,
          1273.2536970986364,
          1182.3025385731187,
          1091.9598449586113,
          1003.6905583423375,
          918.5108386570795,
          837.0855341006271,
          759.8156780546889,
          686.9094765888834,
          618.4370394981117,
          554.3713935331788,
          494.61869359673364,
          439.04023216611137,
          387.46835033642384,
          339.7178711581112,
          295.59427007103966,
          254.8994779484293,
          217.43597013820556,
          183.0096153264579,
          151.43162675652343,
          122.51986320323817,
          96.09965854002718,
          72.00430945835808,
          50.07531550078829,
          30.162440110612977,
          12.123643043400364,
          0,
          0,
          0,
          0,
          0,
          0,
          0,
          0,
          0,
          0,
          0,
          0,
          0,
          0,
          0,
          0,
          0,
          0,
          0,
          0,
          0,
          0,
          0,
          0,
          0,
          0,
          0,
          0,
          0,
          0,
          0,
          0,
          0,
          0,
          0,
          0,
          0,
          0,
          0,
          0,
          0,
          0,
          0,
          0,
          0,
          0,
          0,
          0
         ]
        },
        {
         "fill": "tonexty",
         "fillcolor": "rgba(188,189,34,0.5)",
         "line": {
          "color": "#bcbd22",
          "shape": "spline"
         },
         "mode": "lines",
         "name": "Fit",
         "showlegend": true,
         "type": "scatter",
         "x": [
          "2020-03-08T00:00:00",
          "2020-03-09T00:00:00",
          "2020-03-10T00:00:00",
          "2020-03-11T00:00:00",
          "2020-03-12T00:00:00",
          "2020-03-13T00:00:00",
          "2020-03-14T00:00:00",
          "2020-03-15T00:00:00",
          "2020-03-16T00:00:00",
          "2020-03-17T00:00:00",
          "2020-03-18T00:00:00",
          "2020-03-19T00:00:00",
          "2020-03-20T00:00:00",
          "2020-03-21T00:00:00",
          "2020-03-22T00:00:00",
          "2020-03-23T00:00:00",
          "2020-03-24T00:00:00",
          "2020-03-25T00:00:00",
          "2020-03-26T00:00:00",
          "2020-03-27T00:00:00",
          "2020-03-28T00:00:00",
          "2020-03-29T00:00:00",
          "2020-03-30T00:00:00",
          "2020-03-31T00:00:00",
          "2020-04-01T00:00:00",
          "2020-04-02T00:00:00",
          "2020-04-03T00:00:00",
          "2020-04-04T00:00:00",
          "2020-04-05T00:00:00",
          "2020-04-06T00:00:00",
          "2020-04-07T00:00:00",
          "2020-04-08T00:00:00",
          "2020-04-09T00:00:00",
          "2020-04-10T00:00:00",
          "2020-04-11T00:00:00",
          "2020-04-12T00:00:00",
          "2020-04-13T00:00:00",
          "2020-04-14T00:00:00",
          "2020-04-15T00:00:00",
          "2020-04-16T00:00:00",
          "2020-04-17T00:00:00",
          "2020-04-18T00:00:00",
          "2020-04-19T00:00:00",
          "2020-04-20T00:00:00",
          "2020-04-21T00:00:00",
          "2020-04-22T00:00:00",
          "2020-04-23T00:00:00",
          "2020-04-24T00:00:00",
          "2020-04-25T00:00:00",
          "2020-04-26T00:00:00",
          "2020-04-27T00:00:00",
          "2020-04-28T00:00:00",
          "2020-04-29T00:00:00",
          "2020-04-30T00:00:00",
          "2020-05-01T00:00:00",
          "2020-05-02T00:00:00",
          "2020-05-03T00:00:00",
          "2020-05-04T00:00:00",
          "2020-05-05T00:00:00",
          "2020-05-06T00:00:00",
          "2020-05-07T00:00:00",
          "2020-05-08T00:00:00",
          "2020-05-09T00:00:00",
          "2020-05-10T00:00:00",
          "2020-05-11T00:00:00",
          "2020-05-12T00:00:00",
          "2020-05-13T00:00:00",
          "2020-05-14T00:00:00",
          "2020-05-15T00:00:00",
          "2020-05-16T00:00:00",
          "2020-05-17T00:00:00",
          "2020-05-18T00:00:00",
          "2020-05-19T00:00:00",
          "2020-05-20T00:00:00",
          "2020-05-21T00:00:00",
          "2020-05-22T00:00:00",
          "2020-05-23T00:00:00",
          "2020-05-24T00:00:00",
          "2020-05-25T00:00:00",
          "2020-05-26T00:00:00",
          "2020-05-27T00:00:00",
          "2020-05-28T00:00:00",
          "2020-05-29T00:00:00",
          "2020-05-30T00:00:00",
          "2020-05-31T00:00:00",
          "2020-06-01T00:00:00",
          "2020-06-02T00:00:00",
          "2020-06-03T00:00:00",
          "2020-06-04T00:00:00",
          "2020-06-05T00:00:00",
          "2020-06-06T00:00:00",
          "2020-06-07T00:00:00",
          "2020-06-08T00:00:00",
          "2020-06-09T00:00:00",
          "2020-06-10T00:00:00",
          "2020-06-11T00:00:00",
          "2020-06-12T00:00:00",
          "2020-06-13T00:00:00",
          "2020-06-14T00:00:00"
         ],
         "y": [
          106.86777557446172,
          148.5124107268987,
          203.99463751254748,
          276.35086962681316,
          368.4298915144852,
          482.4076468129376,
          619.1909200124287,
          777.8077513625525,
          954.9444599422526,
          1144.817786257023,
          1339.5272934221439,
          1529.9033944020703,
          1706.688803174939,
          1861.754467701654,
          1989.0420086065974,
          2085.056747213546,
          2148.9232422087853,
          2182.1385360291415,
          2188.1639230359992,
          2171.9266465786272,
          2139.22815003547,
          2096.0217679548323,
          2047.5864703129423,
          1997.8134053900803,
          1948.94075895336,
          1901.8355455710625,
          1856.5413880075755,
          1812.7538313126863,
          1770.0976888038806,
          1728.2458924219052,
          1686.9527865858126,
          1646.05150826318,
          1605.4399451350469,
          1565.0652725842733,
          1524.9104583850988,
          1484.983485052127,
          1445.3091096042585,
          1405.9227220143023,
          1366.8658489780391,
          1328.1829120340135,
          1289.9189264255679,
          1252.1178980574177,
          1214.821734584083,
          1178.0695328789798,
          1141.8971405427715,
          1106.3369157926522,
          1071.4176299657522,
          1037.1644715958764,
          1003.599121878829,
          970.7398793277632,
          938.60181729234,
          907.1969623375326,
          876.5344846652723,
          846.6208941193179,
          817.4602370629093,
          789.0542907214356,
          761.40275255607,
          734.5034229645463,
          708.3523801543599,
          682.9441464472509,
          658.2718455855083,
          634.3273508450683,
          611.1014239361414,
          588.5838448028921,
          566.7635325299482,
          545.6286576331034,
          525.1667460605645,
          505.36477526407907,
          486.2092627198902,
          467.6863472905022,
          449.78186382186016,
          432.48141136854053,
          415.77041543322025,
          399.63418459714313,
          384.05796190640166,
          369.0269713652567,
          354.5264598729773,
          340.5417349252196,
          327.05819838513037,
          314.06137661338414,
          301.53694723050216,
          289.47076276915885,
          277.848871458927,
          266.6575353711064,
          255.88324613699197,
          245.51273843923406,
          235.53300146281956,
          225.93128847970465,
          216.69512472925504,
          207.81231374538643,
          199.2709422706567,
          191.0593838875144,
          183.16630148744719,
          175.58064868987992,
          168.29167031431615,
          161.2889020013906,
          154.56216907116465,
          148.10158470014275,
          141.89754749207978
         ]
        },
        {
         "error_y": {
          "array": [
           10,
           10,
           10,
           10,
           10,
           10,
           10,
           10,
           15.200000000000001,
           17.1,
           21.1,
           25.3,
           28.5,
           31.3,
           33.2,
           46.95,
           49.050000000000004,
           57.75,
           61.95,
           60.45,
           54.900000000000006,
           59.2,
           69.2,
           61.300000000000004,
           57.85
          ]
         },
         "line": {
          "color": "#1f77b4"
         },
         "mode": "markers+lines",
         "name": "Data",
         "showlegend": false,
         "type": "scatter",
         "x": [
          "2020-03-08T00:00:00",
          "2020-03-09T00:00:00",
          "2020-03-10T00:00:00",
          "2020-03-11T00:00:00",
          "2020-03-12T00:00:00",
          "2020-03-13T00:00:00",
          "2020-03-14T00:00:00",
          "2020-03-15T00:00:00",
          "2020-03-16T00:00:00",
          "2020-03-17T00:00:00",
          "2020-03-18T00:00:00",
          "2020-03-19T00:00:00",
          "2020-03-20T00:00:00",
          "2020-03-21T00:00:00",
          "2020-03-22T00:00:00",
          "2020-03-23T00:00:00",
          "2020-03-24T00:00:00",
          "2020-03-25T00:00:00",
          "2020-03-26T00:00:00",
          "2020-03-27T00:00:00",
          "2020-03-28T00:00:00",
          "2020-03-29T00:00:00",
          "2020-03-30T00:00:00",
          "2020-03-31T00:00:00",
          "2020-04-01T00:00:00"
         ],
         "xaxis": "x2",
         "y": [
          14,
          29,
          43,
          66,
          69,
          129,
          151,
          185,
          304,
          342,
          422,
          506,
          570,
          626,
          664,
          939,
          981,
          1155,
          1239,
          1209,
          1098,
          1184,
          1384,
          1226,
          1157
         ],
         "yaxis": "y2"
        },
        {
         "line": {
          "color": "#bcbd22",
          "shape": "spline"
         },
         "mode": "lines",
         "showlegend": false,
         "type": "scatter",
         "x": [
          "2020-03-08T00:00:00",
          "2020-03-09T00:00:00",
          "2020-03-10T00:00:00",
          "2020-03-11T00:00:00",
          "2020-03-12T00:00:00",
          "2020-03-13T00:00:00",
          "2020-03-14T00:00:00",
          "2020-03-15T00:00:00",
          "2020-03-16T00:00:00",
          "2020-03-17T00:00:00",
          "2020-03-18T00:00:00",
          "2020-03-19T00:00:00",
          "2020-03-20T00:00:00",
          "2020-03-21T00:00:00",
          "2020-03-22T00:00:00",
          "2020-03-23T00:00:00",
          "2020-03-24T00:00:00",
          "2020-03-25T00:00:00",
          "2020-03-26T00:00:00",
          "2020-03-27T00:00:00",
          "2020-03-28T00:00:00",
          "2020-03-29T00:00:00",
          "2020-03-30T00:00:00",
          "2020-03-31T00:00:00",
          "2020-04-01T00:00:00",
          "2020-04-02T00:00:00",
          "2020-04-03T00:00:00",
          "2020-04-04T00:00:00",
          "2020-04-05T00:00:00",
          "2020-04-06T00:00:00",
          "2020-04-07T00:00:00",
          "2020-04-08T00:00:00",
          "2020-04-09T00:00:00",
          "2020-04-10T00:00:00",
          "2020-04-11T00:00:00",
          "2020-04-12T00:00:00",
          "2020-04-13T00:00:00",
          "2020-04-14T00:00:00",
          "2020-04-15T00:00:00",
          "2020-04-16T00:00:00",
          "2020-04-17T00:00:00",
          "2020-04-18T00:00:00",
          "2020-04-19T00:00:00",
          "2020-04-20T00:00:00",
          "2020-04-21T00:00:00",
          "2020-04-22T00:00:00",
          "2020-04-23T00:00:00",
          "2020-04-24T00:00:00",
          "2020-04-25T00:00:00",
          "2020-04-26T00:00:00",
          "2020-04-27T00:00:00",
          "2020-04-28T00:00:00",
          "2020-04-29T00:00:00",
          "2020-04-30T00:00:00",
          "2020-05-01T00:00:00",
          "2020-05-02T00:00:00",
          "2020-05-03T00:00:00",
          "2020-05-04T00:00:00",
          "2020-05-05T00:00:00",
          "2020-05-06T00:00:00",
          "2020-05-07T00:00:00",
          "2020-05-08T00:00:00",
          "2020-05-09T00:00:00",
          "2020-05-10T00:00:00",
          "2020-05-11T00:00:00",
          "2020-05-12T00:00:00",
          "2020-05-13T00:00:00",
          "2020-05-14T00:00:00",
          "2020-05-15T00:00:00",
          "2020-05-16T00:00:00",
          "2020-05-17T00:00:00",
          "2020-05-18T00:00:00",
          "2020-05-19T00:00:00",
          "2020-05-20T00:00:00",
          "2020-05-21T00:00:00",
          "2020-05-22T00:00:00",
          "2020-05-23T00:00:00",
          "2020-05-24T00:00:00",
          "2020-05-25T00:00:00",
          "2020-05-26T00:00:00",
          "2020-05-27T00:00:00",
          "2020-05-28T00:00:00",
          "2020-05-29T00:00:00",
          "2020-05-30T00:00:00",
          "2020-05-31T00:00:00",
          "2020-06-01T00:00:00",
          "2020-06-02T00:00:00",
          "2020-06-03T00:00:00",
          "2020-06-04T00:00:00",
          "2020-06-05T00:00:00",
          "2020-06-06T00:00:00",
          "2020-06-07T00:00:00",
          "2020-06-08T00:00:00",
          "2020-06-09T00:00:00",
          "2020-06-10T00:00:00",
          "2020-06-11T00:00:00",
          "2020-06-12T00:00:00",
          "2020-06-13T00:00:00",
          "2020-06-14T00:00:00"
         ],
         "xaxis": "x2",
         "y": [
          19.198329769235098,
          28.001132128778774,
          40.29973092613776,
          57.16920169999545,
          79.84233399610864,
          109.63692778829063,
          147.82775881751266,
          195.4749526251358,
          253.2580065723943,
          321.35080779491545,
          399.28934145327383,
          485.81447974887186,
          578.7755992517615,
          675.1683677533583,
          771.3472509781906,
          863.4539594832559,
          948.0134078281226,
          1022.4355557359668,
          1085.16105828328,
          1135.472638295185,
          1173.100024534048,
          1197.656563871022,
          1208.167598284322,
          1203.7668131579405,
          1185.2792322407897,
          1154.9448585647885,
          1115.2204438849903,
          1068.329781641707,
          1016.2162424463646,
          960.5558641486912,
          902.7714090091083,
          844.047868071554,
          785.3517699499655,
          727.4538503559716,
          670.9534742782614,
          616.3031612791264,
          563.8319473619129,
          513.7667728961146,
          466.251477663518,
          421.36327433160926,
          379.12676538108144,
          339.52568461227645,
          302.51260372428413,
          268.01686527626805,
          235.95099974801263,
          206.21586667153883,
          178.7047349424825,
          153.30649001724504,
          129.90812856766428,
          108.39667588671585,
          88.66063869720512,
          70.59108628067077,
          54.08243598030066,
          39.033004935151325,
          25.34537808830305,
          12.92663276761624,
          1.6884521592854753,
          0,
          0,
          0,
          0,
          0,
          0,
          0,
          0,
          0,
          0,
          0,
          0,
          0,
          0,
          0,
          0,
          0,
          0,
          0,
          0,
          0,
          0,
          0,
          0,
          0,
          0,
          0,
          0,
          0,
          0,
          0,
          0,
          0,
          0,
          0,
          0,
          0,
          0,
          0,
          0,
          0,
          0
         ],
         "yaxis": "y2"
        },
        {
         "fill": "tonexty",
         "fillcolor": "rgba(188,189,34,0.5)",
         "line": {
          "color": "#bcbd22",
          "shape": "spline"
         },
         "mode": "lines",
         "name": "Fit",
         "showlegend": false,
         "type": "scatter",
         "x": [
          "2020-03-08T00:00:00",
          "2020-03-09T00:00:00",
          "2020-03-10T00:00:00",
          "2020-03-11T00:00:00",
          "2020-03-12T00:00:00",
          "2020-03-13T00:00:00",
          "2020-03-14T00:00:00",
          "2020-03-15T00:00:00",
          "2020-03-16T00:00:00",
          "2020-03-17T00:00:00",
          "2020-03-18T00:00:00",
          "2020-03-19T00:00:00",
          "2020-03-20T00:00:00",
          "2020-03-21T00:00:00",
          "2020-03-22T00:00:00",
          "2020-03-23T00:00:00",
          "2020-03-24T00:00:00",
          "2020-03-25T00:00:00",
          "2020-03-26T00:00:00",
          "2020-03-27T00:00:00",
          "2020-03-28T00:00:00",
          "2020-03-29T00:00:00",
          "2020-03-30T00:00:00",
          "2020-03-31T00:00:00",
          "2020-04-01T00:00:00",
          "2020-04-02T00:00:00",
          "2020-04-03T00:00:00",
          "2020-04-04T00:00:00",
          "2020-04-05T00:00:00",
          "2020-04-06T00:00:00",
          "2020-04-07T00:00:00",
          "2020-04-08T00:00:00",
          "2020-04-09T00:00:00",
          "2020-04-10T00:00:00",
          "2020-04-11T00:00:00",
          "2020-04-12T00:00:00",
          "2020-04-13T00:00:00",
          "2020-04-14T00:00:00",
          "2020-04-15T00:00:00",
          "2020-04-16T00:00:00",
          "2020-04-17T00:00:00",
          "2020-04-18T00:00:00",
          "2020-04-19T00:00:00",
          "2020-04-20T00:00:00",
          "2020-04-21T00:00:00",
          "2020-04-22T00:00:00",
          "2020-04-23T00:00:00",
          "2020-04-24T00:00:00",
          "2020-04-25T00:00:00",
          "2020-04-26T00:00:00",
          "2020-04-27T00:00:00",
          "2020-04-28T00:00:00",
          "2020-04-29T00:00:00",
          "2020-04-30T00:00:00",
          "2020-05-01T00:00:00",
          "2020-05-02T00:00:00",
          "2020-05-03T00:00:00",
          "2020-05-04T00:00:00",
          "2020-05-05T00:00:00",
          "2020-05-06T00:00:00",
          "2020-05-07T00:00:00",
          "2020-05-08T00:00:00",
          "2020-05-09T00:00:00",
          "2020-05-10T00:00:00",
          "2020-05-11T00:00:00",
          "2020-05-12T00:00:00",
          "2020-05-13T00:00:00",
          "2020-05-14T00:00:00",
          "2020-05-15T00:00:00",
          "2020-05-16T00:00:00",
          "2020-05-17T00:00:00",
          "2020-05-18T00:00:00",
          "2020-05-19T00:00:00",
          "2020-05-20T00:00:00",
          "2020-05-21T00:00:00",
          "2020-05-22T00:00:00",
          "2020-05-23T00:00:00",
          "2020-05-24T00:00:00",
          "2020-05-25T00:00:00",
          "2020-05-26T00:00:00",
          "2020-05-27T00:00:00",
          "2020-05-28T00:00:00",
          "2020-05-29T00:00:00",
          "2020-05-30T00:00:00",
          "2020-05-31T00:00:00",
          "2020-06-01T00:00:00",
          "2020-06-02T00:00:00",
          "2020-06-03T00:00:00",
          "2020-06-04T00:00:00",
          "2020-06-05T00:00:00",
          "2020-06-06T00:00:00",
          "2020-06-07T00:00:00",
          "2020-06-08T00:00:00",
          "2020-06-09T00:00:00",
          "2020-06-10T00:00:00",
          "2020-06-11T00:00:00",
          "2020-06-12T00:00:00",
          "2020-06-13T00:00:00",
          "2020-06-14T00:00:00"
         ],
         "xaxis": "x2",
         "y": [
          24.031753646235966,
          33.5800348734387,
          46.58498493744646,
          64.07989192790453,
          87.27559733735302,
          117.51938520488092,
          156.21092232186427,
          204.65543614477247,
          263.8227104009272,
          334.02916182616536,
          414.67769439128614,
          504.1769126009313,
          600.0450041054095,
          699.1680739112976,
          798.1439138078202,
          893.5712055542349,
          982.1918791825883,
          1061.0093339624236,
          1127.547278115152,
          1180.1919740466903,
          1218.5135371075887,
          1243.5903956879522,
          1258.152502570291,
          1265.5355767012231,
          1267.7774759021383,
          1265.6310501600099,
          1259.5660277913203,
          1250.0868608052888,
          1237.7030571341393,
          1222.8812762596651,
          1206.0265721191674,
          1187.4818199959598,
          1167.5347559047125,
          1146.427094624317,
          1124.3632750140057,
          1101.5179271060208,
          1078.041875398034,
          1054.0667992485783,
          1029.7087768680447,
          1005.07095181924,
          980.2455344192545,
          955.3153116180998,
          930.354800172745,
          905.4311442630707,
          880.6048315092128,
          855.93028038391,
          831.4563363546615,
          807.2267026745105,
          783.2803235779522,
          759.6517318992314,
          736.371369155908,
          713.4658834289608,
          690.9584085489121,
          668.8688268941771,
          647.2140173287256,
          626.0080893139896,
          605.2626039289637,
          584.9867823565477,
          565.1877022982903,
          545.8704827334398,
          527.0384574213773,
          508.69333754592844,
          490.8353639072593,
          473.46344907685466,
          456.5753099403112,
          440.1675910596898,
          424.23597929109815,
          408.77531009380925,
          393.77966596462045,
          379.2424674256024,
          365.1565569852569,
          351.5142764827913,
          338.30753821313306,
          325.5278902168327,
          313.16657610447453,
          301.21458976995535,
          289.6627253312411,
          278.50162262122507,
          267.72180853525987,
          257.3137345259842,
          247.2678105203444,
          237.57443551831955,
          228.2240251178835,
          219.20703619623382,
          210.51398896333907,
          202.13548659043113,
          194.0622326032218,
          186.28504621735902,
          178.79487578197453,
          171.58281048609248,
          164.6400904721753,
          157.95811549115936,
          151.52845222396385,
          145.34284038563226,
          139.3931977199561,
          133.67162398462858,
          128.17040401964834,
          122.8820099848281,
          117.79910284583221
         ],
         "yaxis": "y2"
        }
       ],
       "layout": {
        "annotations": [
         {
          "font": {
           "size": 16
          },
          "showarrow": false,
          "text": "New infections - hospitalizations",
          "x": 0.225,
          "xanchor": "center",
          "xref": "paper",
          "y": 1,
          "yanchor": "bottom",
          "yref": "paper"
         },
         {
          "font": {
           "size": 16
          },
          "showarrow": false,
          "text": "New hospitalizations",
          "x": 0.775,
          "xanchor": "center",
          "xref": "paper",
          "y": 1,
          "yanchor": "bottom",
          "yref": "paper"
         }
        ],
        "template": {
         "data": {
          "bar": [
           {
            "error_x": {
             "color": "#2a3f5f"
            },
            "error_y": {
             "color": "#2a3f5f"
            },
            "marker": {
             "line": {
              "color": "#E5ECF6",
              "width": 0.5
             }
            },
            "type": "bar"
           }
          ],
          "barpolar": [
           {
            "marker": {
             "line": {
              "color": "#E5ECF6",
              "width": 0.5
             }
            },
            "type": "barpolar"
           }
          ],
          "carpet": [
           {
            "aaxis": {
             "endlinecolor": "#2a3f5f",
             "gridcolor": "white",
             "linecolor": "white",
             "minorgridcolor": "white",
             "startlinecolor": "#2a3f5f"
            },
            "baxis": {
             "endlinecolor": "#2a3f5f",
             "gridcolor": "white",
             "linecolor": "white",
             "minorgridcolor": "white",
             "startlinecolor": "#2a3f5f"
            },
            "type": "carpet"
           }
          ],
          "choropleth": [
           {
            "colorbar": {
             "outlinewidth": 0,
             "ticks": ""
            },
            "type": "choropleth"
           }
          ],
          "contour": [
           {
            "colorbar": {
             "outlinewidth": 0,
             "ticks": ""
            },
            "colorscale": [
             [
              0,
              "#0d0887"
             ],
             [
              0.1111111111111111,
              "#46039f"
             ],
             [
              0.2222222222222222,
              "#7201a8"
             ],
             [
              0.3333333333333333,
              "#9c179e"
             ],
             [
              0.4444444444444444,
              "#bd3786"
             ],
             [
              0.5555555555555556,
              "#d8576b"
             ],
             [
              0.6666666666666666,
              "#ed7953"
             ],
             [
              0.7777777777777778,
              "#fb9f3a"
             ],
             [
              0.8888888888888888,
              "#fdca26"
             ],
             [
              1,
              "#f0f921"
             ]
            ],
            "type": "contour"
           }
          ],
          "contourcarpet": [
           {
            "colorbar": {
             "outlinewidth": 0,
             "ticks": ""
            },
            "type": "contourcarpet"
           }
          ],
          "heatmap": [
           {
            "colorbar": {
             "outlinewidth": 0,
             "ticks": ""
            },
            "colorscale": [
             [
              0,
              "#0d0887"
             ],
             [
              0.1111111111111111,
              "#46039f"
             ],
             [
              0.2222222222222222,
              "#7201a8"
             ],
             [
              0.3333333333333333,
              "#9c179e"
             ],
             [
              0.4444444444444444,
              "#bd3786"
             ],
             [
              0.5555555555555556,
              "#d8576b"
             ],
             [
              0.6666666666666666,
              "#ed7953"
             ],
             [
              0.7777777777777778,
              "#fb9f3a"
             ],
             [
              0.8888888888888888,
              "#fdca26"
             ],
             [
              1,
              "#f0f921"
             ]
            ],
            "type": "heatmap"
           }
          ],
          "heatmapgl": [
           {
            "colorbar": {
             "outlinewidth": 0,
             "ticks": ""
            },
            "colorscale": [
             [
              0,
              "#0d0887"
             ],
             [
              0.1111111111111111,
              "#46039f"
             ],
             [
              0.2222222222222222,
              "#7201a8"
             ],
             [
              0.3333333333333333,
              "#9c179e"
             ],
             [
              0.4444444444444444,
              "#bd3786"
             ],
             [
              0.5555555555555556,
              "#d8576b"
             ],
             [
              0.6666666666666666,
              "#ed7953"
             ],
             [
              0.7777777777777778,
              "#fb9f3a"
             ],
             [
              0.8888888888888888,
              "#fdca26"
             ],
             [
              1,
              "#f0f921"
             ]
            ],
            "type": "heatmapgl"
           }
          ],
          "histogram": [
           {
            "marker": {
             "colorbar": {
              "outlinewidth": 0,
              "ticks": ""
             }
            },
            "type": "histogram"
           }
          ],
          "histogram2d": [
           {
            "colorbar": {
             "outlinewidth": 0,
             "ticks": ""
            },
            "colorscale": [
             [
              0,
              "#0d0887"
             ],
             [
              0.1111111111111111,
              "#46039f"
             ],
             [
              0.2222222222222222,
              "#7201a8"
             ],
             [
              0.3333333333333333,
              "#9c179e"
             ],
             [
              0.4444444444444444,
              "#bd3786"
             ],
             [
              0.5555555555555556,
              "#d8576b"
             ],
             [
              0.6666666666666666,
              "#ed7953"
             ],
             [
              0.7777777777777778,
              "#fb9f3a"
             ],
             [
              0.8888888888888888,
              "#fdca26"
             ],
             [
              1,
              "#f0f921"
             ]
            ],
            "type": "histogram2d"
           }
          ],
          "histogram2dcontour": [
           {
            "colorbar": {
             "outlinewidth": 0,
             "ticks": ""
            },
            "colorscale": [
             [
              0,
              "#0d0887"
             ],
             [
              0.1111111111111111,
              "#46039f"
             ],
             [
              0.2222222222222222,
              "#7201a8"
             ],
             [
              0.3333333333333333,
              "#9c179e"
             ],
             [
              0.4444444444444444,
              "#bd3786"
             ],
             [
              0.5555555555555556,
              "#d8576b"
             ],
             [
              0.6666666666666666,
              "#ed7953"
             ],
             [
              0.7777777777777778,
              "#fb9f3a"
             ],
             [
              0.8888888888888888,
              "#fdca26"
             ],
             [
              1,
              "#f0f921"
             ]
            ],
            "type": "histogram2dcontour"
           }
          ],
          "mesh3d": [
           {
            "colorbar": {
             "outlinewidth": 0,
             "ticks": ""
            },
            "type": "mesh3d"
           }
          ],
          "parcoords": [
           {
            "line": {
             "colorbar": {
              "outlinewidth": 0,
              "ticks": ""
             }
            },
            "type": "parcoords"
           }
          ],
          "pie": [
           {
            "automargin": true,
            "type": "pie"
           }
          ],
          "scatter": [
           {
            "marker": {
             "colorbar": {
              "outlinewidth": 0,
              "ticks": ""
             }
            },
            "type": "scatter"
           }
          ],
          "scatter3d": [
           {
            "line": {
             "colorbar": {
              "outlinewidth": 0,
              "ticks": ""
             }
            },
            "marker": {
             "colorbar": {
              "outlinewidth": 0,
              "ticks": ""
             }
            },
            "type": "scatter3d"
           }
          ],
          "scattercarpet": [
           {
            "marker": {
             "colorbar": {
              "outlinewidth": 0,
              "ticks": ""
             }
            },
            "type": "scattercarpet"
           }
          ],
          "scattergeo": [
           {
            "marker": {
             "colorbar": {
              "outlinewidth": 0,
              "ticks": ""
             }
            },
            "type": "scattergeo"
           }
          ],
          "scattergl": [
           {
            "marker": {
             "colorbar": {
              "outlinewidth": 0,
              "ticks": ""
             }
            },
            "type": "scattergl"
           }
          ],
          "scattermapbox": [
           {
            "marker": {
             "colorbar": {
              "outlinewidth": 0,
              "ticks": ""
             }
            },
            "type": "scattermapbox"
           }
          ],
          "scatterpolar": [
           {
            "marker": {
             "colorbar": {
              "outlinewidth": 0,
              "ticks": ""
             }
            },
            "type": "scatterpolar"
           }
          ],
          "scatterpolargl": [
           {
            "marker": {
             "colorbar": {
              "outlinewidth": 0,
              "ticks": ""
             }
            },
            "type": "scatterpolargl"
           }
          ],
          "scatterternary": [
           {
            "marker": {
             "colorbar": {
              "outlinewidth": 0,
              "ticks": ""
             }
            },
            "type": "scatterternary"
           }
          ],
          "surface": [
           {
            "colorbar": {
             "outlinewidth": 0,
             "ticks": ""
            },
            "colorscale": [
             [
              0,
              "#0d0887"
             ],
             [
              0.1111111111111111,
              "#46039f"
             ],
             [
              0.2222222222222222,
              "#7201a8"
             ],
             [
              0.3333333333333333,
              "#9c179e"
             ],
             [
              0.4444444444444444,
              "#bd3786"
             ],
             [
              0.5555555555555556,
              "#d8576b"
             ],
             [
              0.6666666666666666,
              "#ed7953"
             ],
             [
              0.7777777777777778,
              "#fb9f3a"
             ],
             [
              0.8888888888888888,
              "#fdca26"
             ],
             [
              1,
              "#f0f921"
             ]
            ],
            "type": "surface"
           }
          ],
          "table": [
           {
            "cells": {
             "fill": {
              "color": "#EBF0F8"
             },
             "line": {
              "color": "white"
             }
            },
            "header": {
             "fill": {
              "color": "#C8D4E3"
             },
             "line": {
              "color": "white"
             }
            },
            "type": "table"
           }
          ]
         },
         "layout": {
          "annotationdefaults": {
           "arrowcolor": "#2a3f5f",
           "arrowhead": 0,
           "arrowwidth": 1
          },
          "coloraxis": {
           "colorbar": {
            "outlinewidth": 0,
            "ticks": ""
           }
          },
          "colorscale": {
           "diverging": [
            [
             0,
             "#8e0152"
            ],
            [
             0.1,
             "#c51b7d"
            ],
            [
             0.2,
             "#de77ae"
            ],
            [
             0.3,
             "#f1b6da"
            ],
            [
             0.4,
             "#fde0ef"
            ],
            [
             0.5,
             "#f7f7f7"
            ],
            [
             0.6,
             "#e6f5d0"
            ],
            [
             0.7,
             "#b8e186"
            ],
            [
             0.8,
             "#7fbc41"
            ],
            [
             0.9,
             "#4d9221"
            ],
            [
             1,
             "#276419"
            ]
           ],
           "sequential": [
            [
             0,
             "#0d0887"
            ],
            [
             0.1111111111111111,
             "#46039f"
            ],
            [
             0.2222222222222222,
             "#7201a8"
            ],
            [
             0.3333333333333333,
             "#9c179e"
            ],
            [
             0.4444444444444444,
             "#bd3786"
            ],
            [
             0.5555555555555556,
             "#d8576b"
            ],
            [
             0.6666666666666666,
             "#ed7953"
            ],
            [
             0.7777777777777778,
             "#fb9f3a"
            ],
            [
             0.8888888888888888,
             "#fdca26"
            ],
            [
             1,
             "#f0f921"
            ]
           ],
           "sequentialminus": [
            [
             0,
             "#0d0887"
            ],
            [
             0.1111111111111111,
             "#46039f"
            ],
            [
             0.2222222222222222,
             "#7201a8"
            ],
            [
             0.3333333333333333,
             "#9c179e"
            ],
            [
             0.4444444444444444,
             "#bd3786"
            ],
            [
             0.5555555555555556,
             "#d8576b"
            ],
            [
             0.6666666666666666,
             "#ed7953"
            ],
            [
             0.7777777777777778,
             "#fb9f3a"
            ],
            [
             0.8888888888888888,
             "#fdca26"
            ],
            [
             1,
             "#f0f921"
            ]
           ]
          },
          "colorway": [
           "#636efa",
           "#EF553B",
           "#00cc96",
           "#ab63fa",
           "#FFA15A",
           "#19d3f3",
           "#FF6692",
           "#B6E880",
           "#FF97FF",
           "#FECB52"
          ],
          "font": {
           "color": "#2a3f5f"
          },
          "geo": {
           "bgcolor": "white",
           "lakecolor": "white",
           "landcolor": "#E5ECF6",
           "showlakes": true,
           "showland": true,
           "subunitcolor": "white"
          },
          "hoverlabel": {
           "align": "left"
          },
          "hovermode": "closest",
          "mapbox": {
           "style": "light"
          },
          "paper_bgcolor": "white",
          "plot_bgcolor": "#E5ECF6",
          "polar": {
           "angularaxis": {
            "gridcolor": "white",
            "linecolor": "white",
            "ticks": ""
           },
           "bgcolor": "#E5ECF6",
           "radialaxis": {
            "gridcolor": "white",
            "linecolor": "white",
            "ticks": ""
           }
          },
          "scene": {
           "xaxis": {
            "backgroundcolor": "#E5ECF6",
            "gridcolor": "white",
            "gridwidth": 2,
            "linecolor": "white",
            "showbackground": true,
            "ticks": "",
            "zerolinecolor": "white"
           },
           "yaxis": {
            "backgroundcolor": "#E5ECF6",
            "gridcolor": "white",
            "gridwidth": 2,
            "linecolor": "white",
            "showbackground": true,
            "ticks": "",
            "zerolinecolor": "white"
           },
           "zaxis": {
            "backgroundcolor": "#E5ECF6",
            "gridcolor": "white",
            "gridwidth": 2,
            "linecolor": "white",
            "showbackground": true,
            "ticks": "",
            "zerolinecolor": "white"
           }
          },
          "shapedefaults": {
           "line": {
            "color": "#2a3f5f"
           }
          },
          "ternary": {
           "aaxis": {
            "gridcolor": "white",
            "linecolor": "white",
            "ticks": ""
           },
           "baxis": {
            "gridcolor": "white",
            "linecolor": "white",
            "ticks": ""
           },
           "bgcolor": "#E5ECF6",
           "caxis": {
            "gridcolor": "white",
            "linecolor": "white",
            "ticks": ""
           }
          },
          "title": {
           "x": 0.05
          },
          "xaxis": {
           "automargin": true,
           "gridcolor": "white",
           "linecolor": "white",
           "ticks": "",
           "title": {
            "standoff": 15
           },
           "zerolinecolor": "white",
           "zerolinewidth": 2
          },
          "yaxis": {
           "automargin": true,
           "gridcolor": "white",
           "linecolor": "white",
           "ticks": "",
           "title": {
            "standoff": 15
           },
           "zerolinecolor": "white",
           "zerolinewidth": 2
          }
         }
        },
        "xaxis": {
         "anchor": "y",
         "domain": [
          0,
          0.45
         ]
        },
        "xaxis2": {
         "anchor": "y2",
         "domain": [
          0.55,
          1
         ]
        },
        "yaxis": {
         "anchor": "x",
         "domain": [
          0,
          1
         ]
        },
        "yaxis2": {
         "anchor": "x2",
         "domain": [
          0,
          1
         ]
        }
       }
      },
      "text/html": [
       "<div>\n",
       "        \n",
       "        \n",
       "            <div id=\"1c3067fd-4a24-491d-b01f-e29c7061e51b\" class=\"plotly-graph-div\" style=\"height:525px; width:100%;\"></div>\n",
       "            <script type=\"text/javascript\">\n",
       "                require([\"plotly\"], function(Plotly) {\n",
       "                    window.PLOTLYENV=window.PLOTLYENV || {};\n",
       "                    \n",
       "                if (document.getElementById(\"1c3067fd-4a24-491d-b01f-e29c7061e51b\")) {\n",
       "                    Plotly.newPlot(\n",
       "                        '1c3067fd-4a24-491d-b01f-e29c7061e51b',\n",
       "                        [{\"error_y\": {\"array\": [100.4987562112089, 100.4987562112089, 100.4987562112089, 100.4987562112089, 179.27911200137063, 309.6615087478584, 320.6559682900039, 513.5973617533485, 1052.6097519973866, 1193.6224947612204, 1446.6538839681039, 1786.6791373942888, 1902.21351325239, 1119.9374714688315, 1096.0029607624242, 1621.6797780388088, 1929.123674754939, 2038.318255940421, 2073.925457315185, 2118.362682002305, 1426.5567847092523, 1479.1851270209554, 2450.4772780011654, 1993.9424991709263, 2045.3182814662368]}, \"line\": {\"color\": \"#1f77b4\"}, \"mode\": \"markers+lines\", \"name\": \"Data\", \"type\": \"scatter\", \"x\": [\"2020-03-08T00:00:00\", \"2020-03-09T00:00:00\", \"2020-03-10T00:00:00\", \"2020-03-11T00:00:00\", \"2020-03-12T00:00:00\", \"2020-03-13T00:00:00\", \"2020-03-14T00:00:00\", \"2020-03-15T00:00:00\", \"2020-03-16T00:00:00\", \"2020-03-17T00:00:00\", \"2020-03-18T00:00:00\", \"2020-03-19T00:00:00\", \"2020-03-20T00:00:00\", \"2020-03-21T00:00:00\", \"2020-03-22T00:00:00\", \"2020-03-23T00:00:00\", \"2020-03-24T00:00:00\", \"2020-03-25T00:00:00\", \"2020-03-26T00:00:00\", \"2020-03-27T00:00:00\", \"2020-03-28T00:00:00\", \"2020-03-29T00:00:00\", \"2020-03-30T00:00:00\", \"2020-03-31T00:00:00\", \"2020-04-01T00:00:00\"], \"y\": [6, 24, 30, 90, 289, 490, 490, 842, 1801, 2045, 2471, 3067, 3234, 1613, 1527, 2303, 2876, 2920, 2907, 3026, 1753, 1772, 3515, 2760, 2932]}, {\"line\": {\"color\": \"#bcbd22\", \"shape\": \"spline\"}, \"mode\": \"lines\", \"showlegend\": false, \"type\": \"scatter\", \"x\": [\"2020-03-08T00:00:00\", \"2020-03-09T00:00:00\", \"2020-03-10T00:00:00\", \"2020-03-11T00:00:00\", \"2020-03-12T00:00:00\", \"2020-03-13T00:00:00\", \"2020-03-14T00:00:00\", \"2020-03-15T00:00:00\", \"2020-03-16T00:00:00\", \"2020-03-17T00:00:00\", \"2020-03-18T00:00:00\", \"2020-03-19T00:00:00\", \"2020-03-20T00:00:00\", \"2020-03-21T00:00:00\", \"2020-03-22T00:00:00\", \"2020-03-23T00:00:00\", \"2020-03-24T00:00:00\", \"2020-03-25T00:00:00\", \"2020-03-26T00:00:00\", \"2020-03-27T00:00:00\", \"2020-03-28T00:00:00\", \"2020-03-29T00:00:00\", \"2020-03-30T00:00:00\", \"2020-03-31T00:00:00\", \"2020-04-01T00:00:00\", \"2020-04-02T00:00:00\", \"2020-04-03T00:00:00\", \"2020-04-04T00:00:00\", \"2020-04-05T00:00:00\", \"2020-04-06T00:00:00\", \"2020-04-07T00:00:00\", \"2020-04-08T00:00:00\", \"2020-04-09T00:00:00\", \"2020-04-10T00:00:00\", \"2020-04-11T00:00:00\", \"2020-04-12T00:00:00\", \"2020-04-13T00:00:00\", \"2020-04-14T00:00:00\", \"2020-04-15T00:00:00\", \"2020-04-16T00:00:00\", \"2020-04-17T00:00:00\", \"2020-04-18T00:00:00\", \"2020-04-19T00:00:00\", \"2020-04-20T00:00:00\", \"2020-04-21T00:00:00\", \"2020-04-22T00:00:00\", \"2020-04-23T00:00:00\", \"2020-04-24T00:00:00\", \"2020-04-25T00:00:00\", \"2020-04-26T00:00:00\", \"2020-04-27T00:00:00\", \"2020-04-28T00:00:00\", \"2020-04-29T00:00:00\", \"2020-04-30T00:00:00\", \"2020-05-01T00:00:00\", \"2020-05-02T00:00:00\", \"2020-05-03T00:00:00\", \"2020-05-04T00:00:00\", \"2020-05-05T00:00:00\", \"2020-05-06T00:00:00\", \"2020-05-07T00:00:00\", \"2020-05-08T00:00:00\", \"2020-05-09T00:00:00\", \"2020-05-10T00:00:00\", \"2020-05-11T00:00:00\", \"2020-05-12T00:00:00\", \"2020-05-13T00:00:00\", \"2020-05-14T00:00:00\", \"2020-05-15T00:00:00\", \"2020-05-16T00:00:00\", \"2020-05-17T00:00:00\", \"2020-05-18T00:00:00\", \"2020-05-19T00:00:00\", \"2020-05-20T00:00:00\", \"2020-05-21T00:00:00\", \"2020-05-22T00:00:00\", \"2020-05-23T00:00:00\", \"2020-05-24T00:00:00\", \"2020-05-25T00:00:00\", \"2020-05-26T00:00:00\", \"2020-05-27T00:00:00\", \"2020-05-28T00:00:00\", \"2020-05-29T00:00:00\", \"2020-05-30T00:00:00\", \"2020-05-31T00:00:00\", \"2020-06-01T00:00:00\", \"2020-06-02T00:00:00\", \"2020-06-03T00:00:00\", \"2020-06-04T00:00:00\", \"2020-06-05T00:00:00\", \"2020-06-06T00:00:00\", \"2020-06-07T00:00:00\", \"2020-06-08T00:00:00\", \"2020-06-09T00:00:00\", \"2020-06-10T00:00:00\", \"2020-06-11T00:00:00\", \"2020-06-12T00:00:00\", \"2020-06-13T00:00:00\", \"2020-06-14T00:00:00\"], \"y\": [73.85006248728686, 103.5712684764636, 143.13570180689098, 194.74624355922896, 260.5592597232215, 342.3749410569221, 441.24276795242713, 557.0377488817197, 688.0959269309407, 831.0136722254977, 980.7048484115995, 1130.7708027929766, 1274.173082406784, 1404.1140149152175, 1514.9422643456583, 1602.8463805684296, 1666.1290449907267, 1704.9883595428305, 1720.918400553322, 1715.9812024163787, 1692.2353626865142, 1651.5357961345003, 1595.7432900713216, 1527.1082746013353, 1448.4296030287144, 1362.8144312059271, 1273.2536970986364, 1182.3025385731187, 1091.9598449586113, 1003.6905583423375, 918.5108386570795, 837.0855341006271, 759.8156780546889, 686.9094765888834, 618.4370394981117, 554.3713935331788, 494.61869359673364, 439.04023216611137, 387.46835033642384, 339.7178711581112, 295.59427007103966, 254.8994779484293, 217.43597013820556, 183.0096153264579, 151.43162675652343, 122.51986320323817, 96.09965854002718, 72.00430945835808, 50.07531550078829, 30.162440110612977, 12.123643043400364, 0, 0, 0, 0, 0, 0, 0, 0, 0, 0, 0, 0, 0, 0, 0, 0, 0, 0, 0, 0, 0, 0, 0, 0, 0, 0, 0, 0, 0, 0, 0, 0, 0, 0, 0, 0, 0, 0, 0, 0, 0, 0, 0, 0, 0, 0, 0, 0]}, {\"fill\": \"tonexty\", \"fillcolor\": \"rgba(188,189,34,0.5)\", \"line\": {\"color\": \"#bcbd22\", \"shape\": \"spline\"}, \"mode\": \"lines\", \"name\": \"Fit\", \"showlegend\": true, \"type\": \"scatter\", \"x\": [\"2020-03-08T00:00:00\", \"2020-03-09T00:00:00\", \"2020-03-10T00:00:00\", \"2020-03-11T00:00:00\", \"2020-03-12T00:00:00\", \"2020-03-13T00:00:00\", \"2020-03-14T00:00:00\", \"2020-03-15T00:00:00\", \"2020-03-16T00:00:00\", \"2020-03-17T00:00:00\", \"2020-03-18T00:00:00\", \"2020-03-19T00:00:00\", \"2020-03-20T00:00:00\", \"2020-03-21T00:00:00\", \"2020-03-22T00:00:00\", \"2020-03-23T00:00:00\", \"2020-03-24T00:00:00\", \"2020-03-25T00:00:00\", \"2020-03-26T00:00:00\", \"2020-03-27T00:00:00\", \"2020-03-28T00:00:00\", \"2020-03-29T00:00:00\", \"2020-03-30T00:00:00\", \"2020-03-31T00:00:00\", \"2020-04-01T00:00:00\", \"2020-04-02T00:00:00\", \"2020-04-03T00:00:00\", \"2020-04-04T00:00:00\", \"2020-04-05T00:00:00\", \"2020-04-06T00:00:00\", \"2020-04-07T00:00:00\", \"2020-04-08T00:00:00\", \"2020-04-09T00:00:00\", \"2020-04-10T00:00:00\", \"2020-04-11T00:00:00\", \"2020-04-12T00:00:00\", \"2020-04-13T00:00:00\", \"2020-04-14T00:00:00\", \"2020-04-15T00:00:00\", \"2020-04-16T00:00:00\", \"2020-04-17T00:00:00\", \"2020-04-18T00:00:00\", \"2020-04-19T00:00:00\", \"2020-04-20T00:00:00\", \"2020-04-21T00:00:00\", \"2020-04-22T00:00:00\", \"2020-04-23T00:00:00\", \"2020-04-24T00:00:00\", \"2020-04-25T00:00:00\", \"2020-04-26T00:00:00\", \"2020-04-27T00:00:00\", \"2020-04-28T00:00:00\", \"2020-04-29T00:00:00\", \"2020-04-30T00:00:00\", \"2020-05-01T00:00:00\", \"2020-05-02T00:00:00\", \"2020-05-03T00:00:00\", \"2020-05-04T00:00:00\", \"2020-05-05T00:00:00\", \"2020-05-06T00:00:00\", \"2020-05-07T00:00:00\", \"2020-05-08T00:00:00\", \"2020-05-09T00:00:00\", \"2020-05-10T00:00:00\", \"2020-05-11T00:00:00\", \"2020-05-12T00:00:00\", \"2020-05-13T00:00:00\", \"2020-05-14T00:00:00\", \"2020-05-15T00:00:00\", \"2020-05-16T00:00:00\", \"2020-05-17T00:00:00\", \"2020-05-18T00:00:00\", \"2020-05-19T00:00:00\", \"2020-05-20T00:00:00\", \"2020-05-21T00:00:00\", \"2020-05-22T00:00:00\", \"2020-05-23T00:00:00\", \"2020-05-24T00:00:00\", \"2020-05-25T00:00:00\", \"2020-05-26T00:00:00\", \"2020-05-27T00:00:00\", \"2020-05-28T00:00:00\", \"2020-05-29T00:00:00\", \"2020-05-30T00:00:00\", \"2020-05-31T00:00:00\", \"2020-06-01T00:00:00\", \"2020-06-02T00:00:00\", \"2020-06-03T00:00:00\", \"2020-06-04T00:00:00\", \"2020-06-05T00:00:00\", \"2020-06-06T00:00:00\", \"2020-06-07T00:00:00\", \"2020-06-08T00:00:00\", \"2020-06-09T00:00:00\", \"2020-06-10T00:00:00\", \"2020-06-11T00:00:00\", \"2020-06-12T00:00:00\", \"2020-06-13T00:00:00\", \"2020-06-14T00:00:00\"], \"y\": [106.86777557446172, 148.5124107268987, 203.99463751254748, 276.35086962681316, 368.4298915144852, 482.4076468129376, 619.1909200124287, 777.8077513625525, 954.9444599422526, 1144.817786257023, 1339.5272934221439, 1529.9033944020703, 1706.688803174939, 1861.754467701654, 1989.0420086065974, 2085.056747213546, 2148.9232422087853, 2182.1385360291415, 2188.1639230359992, 2171.9266465786272, 2139.22815003547, 2096.0217679548323, 2047.5864703129423, 1997.8134053900803, 1948.94075895336, 1901.8355455710625, 1856.5413880075755, 1812.7538313126863, 1770.0976888038806, 1728.2458924219052, 1686.9527865858126, 1646.05150826318, 1605.4399451350469, 1565.0652725842733, 1524.9104583850988, 1484.983485052127, 1445.3091096042585, 1405.9227220143023, 1366.8658489780391, 1328.1829120340135, 1289.9189264255679, 1252.1178980574177, 1214.821734584083, 1178.0695328789798, 1141.8971405427715, 1106.3369157926522, 1071.4176299657522, 1037.1644715958764, 1003.599121878829, 970.7398793277632, 938.60181729234, 907.1969623375326, 876.5344846652723, 846.6208941193179, 817.4602370629093, 789.0542907214356, 761.40275255607, 734.5034229645463, 708.3523801543599, 682.9441464472509, 658.2718455855083, 634.3273508450683, 611.1014239361414, 588.5838448028921, 566.7635325299482, 545.6286576331034, 525.1667460605645, 505.36477526407907, 486.2092627198902, 467.6863472905022, 449.78186382186016, 432.48141136854053, 415.77041543322025, 399.63418459714313, 384.05796190640166, 369.0269713652567, 354.5264598729773, 340.5417349252196, 327.05819838513037, 314.06137661338414, 301.53694723050216, 289.47076276915885, 277.848871458927, 266.6575353711064, 255.88324613699197, 245.51273843923406, 235.53300146281956, 225.93128847970465, 216.69512472925504, 207.81231374538643, 199.2709422706567, 191.0593838875144, 183.16630148744719, 175.58064868987992, 168.29167031431615, 161.2889020013906, 154.56216907116465, 148.10158470014275, 141.89754749207978]}, {\"error_y\": {\"array\": [10.0, 10.0, 10.0, 10.0, 10.0, 10.0, 10.0, 10.0, 15.200000000000001, 17.1, 21.1, 25.3, 28.5, 31.3, 33.2, 46.95, 49.050000000000004, 57.75, 61.95, 60.45, 54.900000000000006, 59.2, 69.2, 61.300000000000004, 57.85]}, \"line\": {\"color\": \"#1f77b4\"}, \"mode\": \"markers+lines\", \"name\": \"Data\", \"showlegend\": false, \"type\": \"scatter\", \"x\": [\"2020-03-08T00:00:00\", \"2020-03-09T00:00:00\", \"2020-03-10T00:00:00\", \"2020-03-11T00:00:00\", \"2020-03-12T00:00:00\", \"2020-03-13T00:00:00\", \"2020-03-14T00:00:00\", \"2020-03-15T00:00:00\", \"2020-03-16T00:00:00\", \"2020-03-17T00:00:00\", \"2020-03-18T00:00:00\", \"2020-03-19T00:00:00\", \"2020-03-20T00:00:00\", \"2020-03-21T00:00:00\", \"2020-03-22T00:00:00\", \"2020-03-23T00:00:00\", \"2020-03-24T00:00:00\", \"2020-03-25T00:00:00\", \"2020-03-26T00:00:00\", \"2020-03-27T00:00:00\", \"2020-03-28T00:00:00\", \"2020-03-29T00:00:00\", \"2020-03-30T00:00:00\", \"2020-03-31T00:00:00\", \"2020-04-01T00:00:00\"], \"xaxis\": \"x2\", \"y\": [14, 29, 43, 66, 69, 129, 151, 185, 304, 342, 422, 506, 570, 626, 664, 939, 981, 1155, 1239, 1209, 1098, 1184, 1384, 1226, 1157], \"yaxis\": \"y2\"}, {\"line\": {\"color\": \"#bcbd22\", \"shape\": \"spline\"}, \"mode\": \"lines\", \"showlegend\": false, \"type\": \"scatter\", \"x\": [\"2020-03-08T00:00:00\", \"2020-03-09T00:00:00\", \"2020-03-10T00:00:00\", \"2020-03-11T00:00:00\", \"2020-03-12T00:00:00\", \"2020-03-13T00:00:00\", \"2020-03-14T00:00:00\", \"2020-03-15T00:00:00\", \"2020-03-16T00:00:00\", \"2020-03-17T00:00:00\", \"2020-03-18T00:00:00\", \"2020-03-19T00:00:00\", \"2020-03-20T00:00:00\", \"2020-03-21T00:00:00\", \"2020-03-22T00:00:00\", \"2020-03-23T00:00:00\", \"2020-03-24T00:00:00\", \"2020-03-25T00:00:00\", \"2020-03-26T00:00:00\", \"2020-03-27T00:00:00\", \"2020-03-28T00:00:00\", \"2020-03-29T00:00:00\", \"2020-03-30T00:00:00\", \"2020-03-31T00:00:00\", \"2020-04-01T00:00:00\", \"2020-04-02T00:00:00\", \"2020-04-03T00:00:00\", \"2020-04-04T00:00:00\", \"2020-04-05T00:00:00\", \"2020-04-06T00:00:00\", \"2020-04-07T00:00:00\", \"2020-04-08T00:00:00\", \"2020-04-09T00:00:00\", \"2020-04-10T00:00:00\", \"2020-04-11T00:00:00\", \"2020-04-12T00:00:00\", \"2020-04-13T00:00:00\", \"2020-04-14T00:00:00\", \"2020-04-15T00:00:00\", \"2020-04-16T00:00:00\", \"2020-04-17T00:00:00\", \"2020-04-18T00:00:00\", \"2020-04-19T00:00:00\", \"2020-04-20T00:00:00\", \"2020-04-21T00:00:00\", \"2020-04-22T00:00:00\", \"2020-04-23T00:00:00\", \"2020-04-24T00:00:00\", \"2020-04-25T00:00:00\", \"2020-04-26T00:00:00\", \"2020-04-27T00:00:00\", \"2020-04-28T00:00:00\", \"2020-04-29T00:00:00\", \"2020-04-30T00:00:00\", \"2020-05-01T00:00:00\", \"2020-05-02T00:00:00\", \"2020-05-03T00:00:00\", \"2020-05-04T00:00:00\", \"2020-05-05T00:00:00\", \"2020-05-06T00:00:00\", \"2020-05-07T00:00:00\", \"2020-05-08T00:00:00\", \"2020-05-09T00:00:00\", \"2020-05-10T00:00:00\", \"2020-05-11T00:00:00\", \"2020-05-12T00:00:00\", \"2020-05-13T00:00:00\", \"2020-05-14T00:00:00\", \"2020-05-15T00:00:00\", \"2020-05-16T00:00:00\", \"2020-05-17T00:00:00\", \"2020-05-18T00:00:00\", \"2020-05-19T00:00:00\", \"2020-05-20T00:00:00\", \"2020-05-21T00:00:00\", \"2020-05-22T00:00:00\", \"2020-05-23T00:00:00\", \"2020-05-24T00:00:00\", \"2020-05-25T00:00:00\", \"2020-05-26T00:00:00\", \"2020-05-27T00:00:00\", \"2020-05-28T00:00:00\", \"2020-05-29T00:00:00\", \"2020-05-30T00:00:00\", \"2020-05-31T00:00:00\", \"2020-06-01T00:00:00\", \"2020-06-02T00:00:00\", \"2020-06-03T00:00:00\", \"2020-06-04T00:00:00\", \"2020-06-05T00:00:00\", \"2020-06-06T00:00:00\", \"2020-06-07T00:00:00\", \"2020-06-08T00:00:00\", \"2020-06-09T00:00:00\", \"2020-06-10T00:00:00\", \"2020-06-11T00:00:00\", \"2020-06-12T00:00:00\", \"2020-06-13T00:00:00\", \"2020-06-14T00:00:00\"], \"xaxis\": \"x2\", \"y\": [19.198329769235098, 28.001132128778774, 40.29973092613776, 57.16920169999545, 79.84233399610864, 109.63692778829063, 147.82775881751266, 195.4749526251358, 253.2580065723943, 321.35080779491545, 399.28934145327383, 485.81447974887186, 578.7755992517615, 675.1683677533583, 771.3472509781906, 863.4539594832559, 948.0134078281226, 1022.4355557359668, 1085.16105828328, 1135.472638295185, 1173.100024534048, 1197.656563871022, 1208.167598284322, 1203.7668131579405, 1185.2792322407897, 1154.9448585647885, 1115.2204438849903, 1068.329781641707, 1016.2162424463646, 960.5558641486912, 902.7714090091083, 844.047868071554, 785.3517699499655, 727.4538503559716, 670.9534742782614, 616.3031612791264, 563.8319473619129, 513.7667728961146, 466.251477663518, 421.36327433160926, 379.12676538108144, 339.52568461227645, 302.51260372428413, 268.01686527626805, 235.95099974801263, 206.21586667153883, 178.7047349424825, 153.30649001724504, 129.90812856766428, 108.39667588671585, 88.66063869720512, 70.59108628067077, 54.08243598030066, 39.033004935151325, 25.34537808830305, 12.92663276761624, 1.6884521592854753, 0, 0, 0, 0, 0, 0, 0, 0, 0, 0, 0, 0, 0, 0, 0, 0, 0, 0, 0, 0, 0, 0, 0, 0, 0, 0, 0, 0, 0, 0, 0, 0, 0, 0, 0, 0, 0, 0, 0, 0, 0, 0], \"yaxis\": \"y2\"}, {\"fill\": \"tonexty\", \"fillcolor\": \"rgba(188,189,34,0.5)\", \"line\": {\"color\": \"#bcbd22\", \"shape\": \"spline\"}, \"mode\": \"lines\", \"name\": \"Fit\", \"showlegend\": false, \"type\": \"scatter\", \"x\": [\"2020-03-08T00:00:00\", \"2020-03-09T00:00:00\", \"2020-03-10T00:00:00\", \"2020-03-11T00:00:00\", \"2020-03-12T00:00:00\", \"2020-03-13T00:00:00\", \"2020-03-14T00:00:00\", \"2020-03-15T00:00:00\", \"2020-03-16T00:00:00\", \"2020-03-17T00:00:00\", \"2020-03-18T00:00:00\", \"2020-03-19T00:00:00\", \"2020-03-20T00:00:00\", \"2020-03-21T00:00:00\", \"2020-03-22T00:00:00\", \"2020-03-23T00:00:00\", \"2020-03-24T00:00:00\", \"2020-03-25T00:00:00\", \"2020-03-26T00:00:00\", \"2020-03-27T00:00:00\", \"2020-03-28T00:00:00\", \"2020-03-29T00:00:00\", \"2020-03-30T00:00:00\", \"2020-03-31T00:00:00\", \"2020-04-01T00:00:00\", \"2020-04-02T00:00:00\", \"2020-04-03T00:00:00\", \"2020-04-04T00:00:00\", \"2020-04-05T00:00:00\", \"2020-04-06T00:00:00\", \"2020-04-07T00:00:00\", \"2020-04-08T00:00:00\", \"2020-04-09T00:00:00\", \"2020-04-10T00:00:00\", \"2020-04-11T00:00:00\", \"2020-04-12T00:00:00\", \"2020-04-13T00:00:00\", \"2020-04-14T00:00:00\", \"2020-04-15T00:00:00\", \"2020-04-16T00:00:00\", \"2020-04-17T00:00:00\", \"2020-04-18T00:00:00\", \"2020-04-19T00:00:00\", \"2020-04-20T00:00:00\", \"2020-04-21T00:00:00\", \"2020-04-22T00:00:00\", \"2020-04-23T00:00:00\", \"2020-04-24T00:00:00\", \"2020-04-25T00:00:00\", \"2020-04-26T00:00:00\", \"2020-04-27T00:00:00\", \"2020-04-28T00:00:00\", \"2020-04-29T00:00:00\", \"2020-04-30T00:00:00\", \"2020-05-01T00:00:00\", \"2020-05-02T00:00:00\", \"2020-05-03T00:00:00\", \"2020-05-04T00:00:00\", \"2020-05-05T00:00:00\", \"2020-05-06T00:00:00\", \"2020-05-07T00:00:00\", \"2020-05-08T00:00:00\", \"2020-05-09T00:00:00\", \"2020-05-10T00:00:00\", \"2020-05-11T00:00:00\", \"2020-05-12T00:00:00\", \"2020-05-13T00:00:00\", \"2020-05-14T00:00:00\", \"2020-05-15T00:00:00\", \"2020-05-16T00:00:00\", \"2020-05-17T00:00:00\", \"2020-05-18T00:00:00\", \"2020-05-19T00:00:00\", \"2020-05-20T00:00:00\", \"2020-05-21T00:00:00\", \"2020-05-22T00:00:00\", \"2020-05-23T00:00:00\", \"2020-05-24T00:00:00\", \"2020-05-25T00:00:00\", \"2020-05-26T00:00:00\", \"2020-05-27T00:00:00\", \"2020-05-28T00:00:00\", \"2020-05-29T00:00:00\", \"2020-05-30T00:00:00\", \"2020-05-31T00:00:00\", \"2020-06-01T00:00:00\", \"2020-06-02T00:00:00\", \"2020-06-03T00:00:00\", \"2020-06-04T00:00:00\", \"2020-06-05T00:00:00\", \"2020-06-06T00:00:00\", \"2020-06-07T00:00:00\", \"2020-06-08T00:00:00\", \"2020-06-09T00:00:00\", \"2020-06-10T00:00:00\", \"2020-06-11T00:00:00\", \"2020-06-12T00:00:00\", \"2020-06-13T00:00:00\", \"2020-06-14T00:00:00\"], \"xaxis\": \"x2\", \"y\": [24.031753646235966, 33.5800348734387, 46.58498493744646, 64.07989192790453, 87.27559733735302, 117.51938520488092, 156.21092232186427, 204.65543614477247, 263.8227104009272, 334.02916182616536, 414.67769439128614, 504.1769126009313, 600.0450041054095, 699.1680739112976, 798.1439138078202, 893.5712055542349, 982.1918791825883, 1061.0093339624236, 1127.547278115152, 1180.1919740466903, 1218.5135371075887, 1243.5903956879522, 1258.152502570291, 1265.5355767012231, 1267.7774759021383, 1265.6310501600099, 1259.5660277913203, 1250.0868608052888, 1237.7030571341393, 1222.8812762596651, 1206.0265721191674, 1187.4818199959598, 1167.5347559047125, 1146.427094624317, 1124.3632750140057, 1101.5179271060208, 1078.041875398034, 1054.0667992485783, 1029.7087768680447, 1005.07095181924, 980.2455344192545, 955.3153116180998, 930.354800172745, 905.4311442630707, 880.6048315092128, 855.93028038391, 831.4563363546615, 807.2267026745105, 783.2803235779522, 759.6517318992314, 736.371369155908, 713.4658834289608, 690.9584085489121, 668.8688268941771, 647.2140173287256, 626.0080893139896, 605.2626039289637, 584.9867823565477, 565.1877022982903, 545.8704827334398, 527.0384574213773, 508.69333754592844, 490.8353639072593, 473.46344907685466, 456.5753099403112, 440.1675910596898, 424.23597929109815, 408.77531009380925, 393.77966596462045, 379.2424674256024, 365.1565569852569, 351.5142764827913, 338.30753821313306, 325.5278902168327, 313.16657610447453, 301.21458976995535, 289.6627253312411, 278.50162262122507, 267.72180853525987, 257.3137345259842, 247.2678105203444, 237.57443551831955, 228.2240251178835, 219.20703619623382, 210.51398896333907, 202.13548659043113, 194.0622326032218, 186.28504621735902, 178.79487578197453, 171.58281048609248, 164.6400904721753, 157.95811549115936, 151.52845222396385, 145.34284038563226, 139.3931977199561, 133.67162398462858, 128.17040401964834, 122.8820099848281, 117.79910284583221], \"yaxis\": \"y2\"}],\n",
       "                        {\"annotations\": [{\"font\": {\"size\": 16}, \"showarrow\": false, \"text\": \"New infections - hospitalizations\", \"x\": 0.225, \"xanchor\": \"center\", \"xref\": \"paper\", \"y\": 1.0, \"yanchor\": \"bottom\", \"yref\": \"paper\"}, {\"font\": {\"size\": 16}, \"showarrow\": false, \"text\": \"New hospitalizations\", \"x\": 0.775, \"xanchor\": \"center\", \"xref\": \"paper\", \"y\": 1.0, \"yanchor\": \"bottom\", \"yref\": \"paper\"}], \"template\": {\"data\": {\"bar\": [{\"error_x\": {\"color\": \"#2a3f5f\"}, \"error_y\": {\"color\": \"#2a3f5f\"}, \"marker\": {\"line\": {\"color\": \"#E5ECF6\", \"width\": 0.5}}, \"type\": \"bar\"}], \"barpolar\": [{\"marker\": {\"line\": {\"color\": \"#E5ECF6\", \"width\": 0.5}}, \"type\": \"barpolar\"}], \"carpet\": [{\"aaxis\": {\"endlinecolor\": \"#2a3f5f\", \"gridcolor\": \"white\", \"linecolor\": \"white\", \"minorgridcolor\": \"white\", \"startlinecolor\": \"#2a3f5f\"}, \"baxis\": {\"endlinecolor\": \"#2a3f5f\", \"gridcolor\": \"white\", \"linecolor\": \"white\", \"minorgridcolor\": \"white\", \"startlinecolor\": \"#2a3f5f\"}, \"type\": \"carpet\"}], \"choropleth\": [{\"colorbar\": {\"outlinewidth\": 0, \"ticks\": \"\"}, \"type\": \"choropleth\"}], \"contour\": [{\"colorbar\": {\"outlinewidth\": 0, \"ticks\": \"\"}, \"colorscale\": [[0.0, \"#0d0887\"], [0.1111111111111111, \"#46039f\"], [0.2222222222222222, \"#7201a8\"], [0.3333333333333333, \"#9c179e\"], [0.4444444444444444, \"#bd3786\"], [0.5555555555555556, \"#d8576b\"], [0.6666666666666666, \"#ed7953\"], [0.7777777777777778, \"#fb9f3a\"], [0.8888888888888888, \"#fdca26\"], [1.0, \"#f0f921\"]], \"type\": \"contour\"}], \"contourcarpet\": [{\"colorbar\": {\"outlinewidth\": 0, \"ticks\": \"\"}, \"type\": \"contourcarpet\"}], \"heatmap\": [{\"colorbar\": {\"outlinewidth\": 0, \"ticks\": \"\"}, \"colorscale\": [[0.0, \"#0d0887\"], [0.1111111111111111, \"#46039f\"], [0.2222222222222222, \"#7201a8\"], [0.3333333333333333, \"#9c179e\"], [0.4444444444444444, \"#bd3786\"], [0.5555555555555556, \"#d8576b\"], [0.6666666666666666, \"#ed7953\"], [0.7777777777777778, \"#fb9f3a\"], [0.8888888888888888, \"#fdca26\"], [1.0, \"#f0f921\"]], \"type\": \"heatmap\"}], \"heatmapgl\": [{\"colorbar\": {\"outlinewidth\": 0, \"ticks\": \"\"}, \"colorscale\": [[0.0, \"#0d0887\"], [0.1111111111111111, \"#46039f\"], [0.2222222222222222, \"#7201a8\"], [0.3333333333333333, \"#9c179e\"], [0.4444444444444444, \"#bd3786\"], [0.5555555555555556, \"#d8576b\"], [0.6666666666666666, \"#ed7953\"], [0.7777777777777778, \"#fb9f3a\"], [0.8888888888888888, \"#fdca26\"], [1.0, \"#f0f921\"]], \"type\": \"heatmapgl\"}], \"histogram\": [{\"marker\": {\"colorbar\": {\"outlinewidth\": 0, \"ticks\": \"\"}}, \"type\": \"histogram\"}], \"histogram2d\": [{\"colorbar\": {\"outlinewidth\": 0, \"ticks\": \"\"}, \"colorscale\": [[0.0, \"#0d0887\"], [0.1111111111111111, \"#46039f\"], [0.2222222222222222, \"#7201a8\"], [0.3333333333333333, \"#9c179e\"], [0.4444444444444444, \"#bd3786\"], [0.5555555555555556, \"#d8576b\"], [0.6666666666666666, \"#ed7953\"], [0.7777777777777778, \"#fb9f3a\"], [0.8888888888888888, \"#fdca26\"], [1.0, \"#f0f921\"]], \"type\": \"histogram2d\"}], \"histogram2dcontour\": [{\"colorbar\": {\"outlinewidth\": 0, \"ticks\": \"\"}, \"colorscale\": [[0.0, \"#0d0887\"], [0.1111111111111111, \"#46039f\"], [0.2222222222222222, \"#7201a8\"], [0.3333333333333333, \"#9c179e\"], [0.4444444444444444, \"#bd3786\"], [0.5555555555555556, \"#d8576b\"], [0.6666666666666666, \"#ed7953\"], [0.7777777777777778, \"#fb9f3a\"], [0.8888888888888888, \"#fdca26\"], [1.0, \"#f0f921\"]], \"type\": \"histogram2dcontour\"}], \"mesh3d\": [{\"colorbar\": {\"outlinewidth\": 0, \"ticks\": \"\"}, \"type\": \"mesh3d\"}], \"parcoords\": [{\"line\": {\"colorbar\": {\"outlinewidth\": 0, \"ticks\": \"\"}}, \"type\": \"parcoords\"}], \"pie\": [{\"automargin\": true, \"type\": \"pie\"}], \"scatter\": [{\"marker\": {\"colorbar\": {\"outlinewidth\": 0, \"ticks\": \"\"}}, \"type\": \"scatter\"}], \"scatter3d\": [{\"line\": {\"colorbar\": {\"outlinewidth\": 0, \"ticks\": \"\"}}, \"marker\": {\"colorbar\": {\"outlinewidth\": 0, \"ticks\": \"\"}}, \"type\": \"scatter3d\"}], \"scattercarpet\": [{\"marker\": {\"colorbar\": {\"outlinewidth\": 0, \"ticks\": \"\"}}, \"type\": \"scattercarpet\"}], \"scattergeo\": [{\"marker\": {\"colorbar\": {\"outlinewidth\": 0, \"ticks\": \"\"}}, \"type\": \"scattergeo\"}], \"scattergl\": [{\"marker\": {\"colorbar\": {\"outlinewidth\": 0, \"ticks\": \"\"}}, \"type\": \"scattergl\"}], \"scattermapbox\": [{\"marker\": {\"colorbar\": {\"outlinewidth\": 0, \"ticks\": \"\"}}, \"type\": \"scattermapbox\"}], \"scatterpolar\": [{\"marker\": {\"colorbar\": {\"outlinewidth\": 0, \"ticks\": \"\"}}, \"type\": \"scatterpolar\"}], \"scatterpolargl\": [{\"marker\": {\"colorbar\": {\"outlinewidth\": 0, \"ticks\": \"\"}}, \"type\": \"scatterpolargl\"}], \"scatterternary\": [{\"marker\": {\"colorbar\": {\"outlinewidth\": 0, \"ticks\": \"\"}}, \"type\": \"scatterternary\"}], \"surface\": [{\"colorbar\": {\"outlinewidth\": 0, \"ticks\": \"\"}, \"colorscale\": [[0.0, \"#0d0887\"], [0.1111111111111111, \"#46039f\"], [0.2222222222222222, \"#7201a8\"], [0.3333333333333333, \"#9c179e\"], [0.4444444444444444, \"#bd3786\"], [0.5555555555555556, \"#d8576b\"], [0.6666666666666666, \"#ed7953\"], [0.7777777777777778, \"#fb9f3a\"], [0.8888888888888888, \"#fdca26\"], [1.0, \"#f0f921\"]], \"type\": \"surface\"}], \"table\": [{\"cells\": {\"fill\": {\"color\": \"#EBF0F8\"}, \"line\": {\"color\": \"white\"}}, \"header\": {\"fill\": {\"color\": \"#C8D4E3\"}, \"line\": {\"color\": \"white\"}}, \"type\": \"table\"}]}, \"layout\": {\"annotationdefaults\": {\"arrowcolor\": \"#2a3f5f\", \"arrowhead\": 0, \"arrowwidth\": 1}, \"coloraxis\": {\"colorbar\": {\"outlinewidth\": 0, \"ticks\": \"\"}}, \"colorscale\": {\"diverging\": [[0, \"#8e0152\"], [0.1, \"#c51b7d\"], [0.2, \"#de77ae\"], [0.3, \"#f1b6da\"], [0.4, \"#fde0ef\"], [0.5, \"#f7f7f7\"], [0.6, \"#e6f5d0\"], [0.7, \"#b8e186\"], [0.8, \"#7fbc41\"], [0.9, \"#4d9221\"], [1, \"#276419\"]], \"sequential\": [[0.0, \"#0d0887\"], [0.1111111111111111, \"#46039f\"], [0.2222222222222222, \"#7201a8\"], [0.3333333333333333, \"#9c179e\"], [0.4444444444444444, \"#bd3786\"], [0.5555555555555556, \"#d8576b\"], [0.6666666666666666, \"#ed7953\"], [0.7777777777777778, \"#fb9f3a\"], [0.8888888888888888, \"#fdca26\"], [1.0, \"#f0f921\"]], \"sequentialminus\": [[0.0, \"#0d0887\"], [0.1111111111111111, \"#46039f\"], [0.2222222222222222, \"#7201a8\"], [0.3333333333333333, \"#9c179e\"], [0.4444444444444444, \"#bd3786\"], [0.5555555555555556, \"#d8576b\"], [0.6666666666666666, \"#ed7953\"], [0.7777777777777778, \"#fb9f3a\"], [0.8888888888888888, \"#fdca26\"], [1.0, \"#f0f921\"]]}, \"colorway\": [\"#636efa\", \"#EF553B\", \"#00cc96\", \"#ab63fa\", \"#FFA15A\", \"#19d3f3\", \"#FF6692\", \"#B6E880\", \"#FF97FF\", \"#FECB52\"], \"font\": {\"color\": \"#2a3f5f\"}, \"geo\": {\"bgcolor\": \"white\", \"lakecolor\": \"white\", \"landcolor\": \"#E5ECF6\", \"showlakes\": true, \"showland\": true, \"subunitcolor\": \"white\"}, \"hoverlabel\": {\"align\": \"left\"}, \"hovermode\": \"closest\", \"mapbox\": {\"style\": \"light\"}, \"paper_bgcolor\": \"white\", \"plot_bgcolor\": \"#E5ECF6\", \"polar\": {\"angularaxis\": {\"gridcolor\": \"white\", \"linecolor\": \"white\", \"ticks\": \"\"}, \"bgcolor\": \"#E5ECF6\", \"radialaxis\": {\"gridcolor\": \"white\", \"linecolor\": \"white\", \"ticks\": \"\"}}, \"scene\": {\"xaxis\": {\"backgroundcolor\": \"#E5ECF6\", \"gridcolor\": \"white\", \"gridwidth\": 2, \"linecolor\": \"white\", \"showbackground\": true, \"ticks\": \"\", \"zerolinecolor\": \"white\"}, \"yaxis\": {\"backgroundcolor\": \"#E5ECF6\", \"gridcolor\": \"white\", \"gridwidth\": 2, \"linecolor\": \"white\", \"showbackground\": true, \"ticks\": \"\", \"zerolinecolor\": \"white\"}, \"zaxis\": {\"backgroundcolor\": \"#E5ECF6\", \"gridcolor\": \"white\", \"gridwidth\": 2, \"linecolor\": \"white\", \"showbackground\": true, \"ticks\": \"\", \"zerolinecolor\": \"white\"}}, \"shapedefaults\": {\"line\": {\"color\": \"#2a3f5f\"}}, \"ternary\": {\"aaxis\": {\"gridcolor\": \"white\", \"linecolor\": \"white\", \"ticks\": \"\"}, \"baxis\": {\"gridcolor\": \"white\", \"linecolor\": \"white\", \"ticks\": \"\"}, \"bgcolor\": \"#E5ECF6\", \"caxis\": {\"gridcolor\": \"white\", \"linecolor\": \"white\", \"ticks\": \"\"}}, \"title\": {\"x\": 0.05}, \"xaxis\": {\"automargin\": true, \"gridcolor\": \"white\", \"linecolor\": \"white\", \"ticks\": \"\", \"title\": {\"standoff\": 15}, \"zerolinecolor\": \"white\", \"zerolinewidth\": 2}, \"yaxis\": {\"automargin\": true, \"gridcolor\": \"white\", \"linecolor\": \"white\", \"ticks\": \"\", \"title\": {\"standoff\": 15}, \"zerolinecolor\": \"white\", \"zerolinewidth\": 2}}}, \"xaxis\": {\"anchor\": \"y\", \"domain\": [0.0, 0.45]}, \"xaxis2\": {\"anchor\": \"y2\", \"domain\": [0.55, 1.0]}, \"yaxis\": {\"anchor\": \"x\", \"domain\": [0.0, 1.0]}, \"yaxis2\": {\"anchor\": \"x2\", \"domain\": [0.0, 1.0]}},\n",
       "                        {\"responsive\": true}\n",
       "                    ).then(function(){\n",
       "                            \n",
       "var gd = document.getElementById('1c3067fd-4a24-491d-b01f-e29c7061e51b');\n",
       "var x = new MutationObserver(function (mutations, observer) {{\n",
       "        var display = window.getComputedStyle(gd).display;\n",
       "        if (!display || display === 'none') {{\n",
       "            console.log([gd, 'removed!']);\n",
       "            Plotly.purge(gd);\n",
       "            observer.disconnect();\n",
       "        }}\n",
       "}});\n",
       "\n",
       "// Listen for the removal of the full notebook cells\n",
       "var notebookContainer = gd.closest('#notebook-container');\n",
       "if (notebookContainer) {{\n",
       "    x.observe(notebookContainer, {childList: true});\n",
       "}}\n",
       "\n",
       "// Listen for the clearing of the current output cell\n",
       "var outputEl = gd.closest('.output');\n",
       "if (outputEl) {{\n",
       "    x.observe(outputEl, {childList: true});\n",
       "}}\n",
       "\n",
       "                        })\n",
       "                };\n",
       "                });\n",
       "            </script>\n",
       "        </div>"
      ]
     },
     "metadata": {},
     "output_type": "display_data"
    }
   ],
   "source": [
    "fig = make_subplots(\n",
    "    rows=1,\n",
    "    cols=2,\n",
    "    subplot_titles=(\n",
    "        \"New infections - hospitalizations\",\n",
    "        \"New hospitalizations\",\n",
    "        \"Plot 3\",\n",
    "        \"Plot 4\",\n",
    "    ),\n",
    ")\n",
    "plotting.add_gvar_scatter(\n",
    "    fig,\n",
    "    x=chd_df.index,\n",
    "    y=Y_SIHR.T[0],\n",
    "    name=\"Data\",\n",
    "    mode=\"markers+lines\",\n",
    "    color=\"#1f77b4\",\n",
    ")\n",
    "plotting.add_gvar_scatter(\n",
    "    fig,\n",
    "    x=fit_res.index,\n",
    "    y=fit_res.infected_new.values,\n",
    "    name=\"Fit\",\n",
    "    mode=\"markers+lines\",\n",
    "    gv_mode=\"band\",\n",
    "    color=\"#bcbd22\",\n",
    ")\n",
    "plotting.add_gvar_scatter(\n",
    "    fig,\n",
    "    x=chd_df.index,\n",
    "    y=Y_SIHR.T[1],\n",
    "    name=\"Data\",\n",
    "    mode=\"markers+lines\",\n",
    "    row=1,\n",
    "    col=2,\n",
    "    color=\"#1f77b4\",\n",
    "    showlegend=False,\n",
    ")\n",
    "plotting.add_gvar_scatter(\n",
    "    fig,\n",
    "    x=fit_res.index,\n",
    "    y=fit_res.hospitalized_new.values,\n",
    "    name=\"Fit\",\n",
    "    mode=\"markers+lines\",\n",
    "    gv_mode=\"band\",\n",
    "    color=\"#bcbd22\",\n",
    "    row=1,\n",
    "    col=2,\n",
    "    showlegend=False,\n",
    ")\n",
    "fig.update_layout(\n",
    "    # yaxis1={\"type\":\"log\"},\n",
    "    # yaxis2={\"type\": \"log\"}\n",
    ")\n",
    "fig.show()"
   ]
  },
  {
   "cell_type": "code",
   "execution_count": 115,
   "metadata": {
    "hidden": true
   },
   "outputs": [
    {
     "data": {
      "application/vnd.plotly.v1+json": {
       "config": {
        "plotlyServerURL": "https://plot.ly"
       },
       "data": [
        {
         "line": {
          "color": "#bcbd22",
          "shape": "spline"
         },
         "mode": "lines",
         "showlegend": false,
         "type": "scatter",
         "x": [
          "2020-03-08T00:00:00",
          "2020-03-09T00:00:00",
          "2020-03-10T00:00:00",
          "2020-03-11T00:00:00",
          "2020-03-12T00:00:00",
          "2020-03-13T00:00:00",
          "2020-03-14T00:00:00",
          "2020-03-15T00:00:00",
          "2020-03-16T00:00:00",
          "2020-03-17T00:00:00",
          "2020-03-18T00:00:00",
          "2020-03-19T00:00:00",
          "2020-03-20T00:00:00",
          "2020-03-21T00:00:00",
          "2020-03-22T00:00:00",
          "2020-03-23T00:00:00",
          "2020-03-24T00:00:00",
          "2020-03-25T00:00:00",
          "2020-03-26T00:00:00",
          "2020-03-27T00:00:00",
          "2020-03-28T00:00:00",
          "2020-03-29T00:00:00",
          "2020-03-30T00:00:00",
          "2020-03-31T00:00:00",
          "2020-04-01T00:00:00"
         ],
         "y": [
          0.986581144068538,
          1.0118085531906038,
          1.0404425731855347,
          1.072951345715317,
          1.1098680264052418,
          1.1517562183957468,
          1.1991509578650053,
          1.2524859268593724,
          1.3120227657911414,
          1.3777971101690851,
          1.4495888815084468,
          1.52691433893873,
          1.6090297023537121,
          1.6949359784112297,
          1.7833828101623896,
          1.872880901428005,
          1.9617404940449574,
          2.0481518740712765,
          2.13031167394937,
          2.206579974761263,
          2.2756365877941924,
          2.3365995454392903,
          2.38907847749893,
          2.43315553781635,
          2.4693069628249065,
          2.4982906479630707,
          2.5210266643139825,
          2.538491242870507,
          2.551635364325314,
          2.5613306812360612,
          2.5683399217000504,
          2.5733062831036504,
          2.57675584875885,
          2.5791078106000054,
          2.5806885125395027,
          2.581746580388655,
          2.582467453241181,
          2.582986411906337,
          2.5833997293750466,
          2.583773896734701,
          2.5841530611295562,
          2.584564898593031,
          2.585025170777847,
          2.5855412067217736,
          2.586114525843557,
          2.5867427868553423,
          2.5874212152132374,
          2.5881436322178093,
          2.5889031832598537,
          2.5896928413025373,
          2.590505744278299,
          2.5913354111896174,
          2.592175870789913,
          2.5930217282480683,
          2.5938681886859443,
          2.594711051511177,
          2.595546685707742,
          2.5963719934199476,
          2.597184367054102,
          2.59798164355539,
          2.5987620583635476,
          2.599524200707584,
          2.6002669712894404,
          2.6009895429697316,
          2.6016913247608313,
          2.602371929219526,
          2.603031143188045,
          2.6036689017393506,
          2.604285265125891,
          2.604880398500258,
          2.605454554163347,
          2.6060080560951056,
          2.60654128653064,
          2.607054674357192,
          2.607548685123265,
          2.608023812468416,
          2.6084805707998404,
          2.608919489059211,
          2.6093411054398428,
          2.6097459629297326,
          2.6101346055704484,
          2.610507575334899,
          2.6108654095388593,
          2.61120863871181,
          2.611537784862067,
          2.6118533600796594,
          2.612155865427815,
          2.6124457900804527,
          2.612723610668846,
          2.6129897908056297,
          2.613244780758679,
          2.6134890172512604,
          2.613722923368096,
          2.6139469085499143,
          2.614161368661508,
          2.6143666861205004,
          2.61456323007585,
          2.6147513566267433,
          2.6149314090739173
         ]
        },
        {
         "fill": "tonexty",
         "fillcolor": "rgba(188,189,34,0.5)",
         "line": {
          "color": "#bcbd22",
          "shape": "spline"
         },
         "mode": "lines",
         "name": "Fit",
         "showlegend": true,
         "type": "scatter",
         "x": [
          "2020-03-08T00:00:00",
          "2020-03-09T00:00:00",
          "2020-03-10T00:00:00",
          "2020-03-11T00:00:00",
          "2020-03-12T00:00:00",
          "2020-03-13T00:00:00",
          "2020-03-14T00:00:00",
          "2020-03-15T00:00:00",
          "2020-03-16T00:00:00",
          "2020-03-17T00:00:00",
          "2020-03-18T00:00:00",
          "2020-03-19T00:00:00",
          "2020-03-20T00:00:00",
          "2020-03-21T00:00:00",
          "2020-03-22T00:00:00",
          "2020-03-23T00:00:00",
          "2020-03-24T00:00:00",
          "2020-03-25T00:00:00",
          "2020-03-26T00:00:00",
          "2020-03-27T00:00:00",
          "2020-03-28T00:00:00",
          "2020-03-29T00:00:00",
          "2020-03-30T00:00:00",
          "2020-03-31T00:00:00",
          "2020-04-01T00:00:00"
         ],
         "y": [
          1.1760889096485223,
          1.2040288707710158,
          1.238089459703564,
          1.2792092862907807,
          1.328349269756372,
          1.3864821498020634,
          1.454584424252835,
          1.5336171777402576,
          1.624479557189038,
          1.7279240359208696,
          1.8444354387991722,
          1.974092381774868,
          2.1164435648518065,
          2.2704348529804674,
          2.4344130646584703,
          2.606212171959221,
          2.7833049863182473,
          2.962986972300363,
          3.1425548371344894,
          3.319452006120558,
          3.4913704784580686,
          3.656314404110112,
          3.8126376816893157,
          3.9590653651418197,
          4.094701956487127,
          4.219024788462324,
          4.331860257688682,
          4.433343482543365,
          4.5238653856326625,
          4.6040132891470265,
          4.67451131900755,
          4.73616570284043,
          4.789818205923497,
          4.836309133746937,
          4.876449905203577,
          4.911004275722149,
          4.940676816320173,
          4.966107117677053,
          4.987868265808079,
          5.006468327034886,
          5.022353813512507,
          5.035914332465511,
          5.047487829021845,
          5.057366004534273,
          5.065799628343738,
          5.073003564294604,
          5.079161409060992,
          5.0844296929623685,
          5.088941630502905,
          5.092810431683047,
          5.096132199697073,
          5.09898844866607,
          5.101448278615818,
          5.103570245506148,
          5.105403962842024,
          5.106991469013993,
          5.10836839155423,
          5.109564936307194,
          5.11060672632913,
          5.111515512287799,
          5.112309773313677,
          5.11300522469403,
          5.113615246514683,
          5.114151245335623,
          5.114622959221263,
          5.1150387149131875,
          5.1154056446103375,
          5.115729868685276,
          5.116016649692623,
          5.116270522196751,
          5.1164954022402735,
          5.116694679676305,
          5.116871296080421,
          5.1170278105292795,
          5.1171664551707,
          5.117289182204313,
          5.117397703634358,
          5.117493524939123,
          5.117577973619145,
          5.1176522234323905,
          5.117717314995803,
          5.117774173323895,
          5.11782362278393,
          5.117866399870738,
          5.117903164139784,
          5.117934507583233,
          5.117960962688412,
          5.117983009379952,
          5.1180010810151115,
          5.118015569574797,
          5.118026830170485,
          5.118035184968228,
          5.118040926615115,
          5.118044321240253,
          5.1180456110911265,
          5.118045016856807,
          5.1180427397215755,
          5.118038963185864,
          5.118033854685913
         ]
        }
       ],
       "layout": {
        "template": {
         "data": {
          "bar": [
           {
            "error_x": {
             "color": "#2a3f5f"
            },
            "error_y": {
             "color": "#2a3f5f"
            },
            "marker": {
             "line": {
              "color": "#E5ECF6",
              "width": 0.5
             }
            },
            "type": "bar"
           }
          ],
          "barpolar": [
           {
            "marker": {
             "line": {
              "color": "#E5ECF6",
              "width": 0.5
             }
            },
            "type": "barpolar"
           }
          ],
          "carpet": [
           {
            "aaxis": {
             "endlinecolor": "#2a3f5f",
             "gridcolor": "white",
             "linecolor": "white",
             "minorgridcolor": "white",
             "startlinecolor": "#2a3f5f"
            },
            "baxis": {
             "endlinecolor": "#2a3f5f",
             "gridcolor": "white",
             "linecolor": "white",
             "minorgridcolor": "white",
             "startlinecolor": "#2a3f5f"
            },
            "type": "carpet"
           }
          ],
          "choropleth": [
           {
            "colorbar": {
             "outlinewidth": 0,
             "ticks": ""
            },
            "type": "choropleth"
           }
          ],
          "contour": [
           {
            "colorbar": {
             "outlinewidth": 0,
             "ticks": ""
            },
            "colorscale": [
             [
              0,
              "#0d0887"
             ],
             [
              0.1111111111111111,
              "#46039f"
             ],
             [
              0.2222222222222222,
              "#7201a8"
             ],
             [
              0.3333333333333333,
              "#9c179e"
             ],
             [
              0.4444444444444444,
              "#bd3786"
             ],
             [
              0.5555555555555556,
              "#d8576b"
             ],
             [
              0.6666666666666666,
              "#ed7953"
             ],
             [
              0.7777777777777778,
              "#fb9f3a"
             ],
             [
              0.8888888888888888,
              "#fdca26"
             ],
             [
              1,
              "#f0f921"
             ]
            ],
            "type": "contour"
           }
          ],
          "contourcarpet": [
           {
            "colorbar": {
             "outlinewidth": 0,
             "ticks": ""
            },
            "type": "contourcarpet"
           }
          ],
          "heatmap": [
           {
            "colorbar": {
             "outlinewidth": 0,
             "ticks": ""
            },
            "colorscale": [
             [
              0,
              "#0d0887"
             ],
             [
              0.1111111111111111,
              "#46039f"
             ],
             [
              0.2222222222222222,
              "#7201a8"
             ],
             [
              0.3333333333333333,
              "#9c179e"
             ],
             [
              0.4444444444444444,
              "#bd3786"
             ],
             [
              0.5555555555555556,
              "#d8576b"
             ],
             [
              0.6666666666666666,
              "#ed7953"
             ],
             [
              0.7777777777777778,
              "#fb9f3a"
             ],
             [
              0.8888888888888888,
              "#fdca26"
             ],
             [
              1,
              "#f0f921"
             ]
            ],
            "type": "heatmap"
           }
          ],
          "heatmapgl": [
           {
            "colorbar": {
             "outlinewidth": 0,
             "ticks": ""
            },
            "colorscale": [
             [
              0,
              "#0d0887"
             ],
             [
              0.1111111111111111,
              "#46039f"
             ],
             [
              0.2222222222222222,
              "#7201a8"
             ],
             [
              0.3333333333333333,
              "#9c179e"
             ],
             [
              0.4444444444444444,
              "#bd3786"
             ],
             [
              0.5555555555555556,
              "#d8576b"
             ],
             [
              0.6666666666666666,
              "#ed7953"
             ],
             [
              0.7777777777777778,
              "#fb9f3a"
             ],
             [
              0.8888888888888888,
              "#fdca26"
             ],
             [
              1,
              "#f0f921"
             ]
            ],
            "type": "heatmapgl"
           }
          ],
          "histogram": [
           {
            "marker": {
             "colorbar": {
              "outlinewidth": 0,
              "ticks": ""
             }
            },
            "type": "histogram"
           }
          ],
          "histogram2d": [
           {
            "colorbar": {
             "outlinewidth": 0,
             "ticks": ""
            },
            "colorscale": [
             [
              0,
              "#0d0887"
             ],
             [
              0.1111111111111111,
              "#46039f"
             ],
             [
              0.2222222222222222,
              "#7201a8"
             ],
             [
              0.3333333333333333,
              "#9c179e"
             ],
             [
              0.4444444444444444,
              "#bd3786"
             ],
             [
              0.5555555555555556,
              "#d8576b"
             ],
             [
              0.6666666666666666,
              "#ed7953"
             ],
             [
              0.7777777777777778,
              "#fb9f3a"
             ],
             [
              0.8888888888888888,
              "#fdca26"
             ],
             [
              1,
              "#f0f921"
             ]
            ],
            "type": "histogram2d"
           }
          ],
          "histogram2dcontour": [
           {
            "colorbar": {
             "outlinewidth": 0,
             "ticks": ""
            },
            "colorscale": [
             [
              0,
              "#0d0887"
             ],
             [
              0.1111111111111111,
              "#46039f"
             ],
             [
              0.2222222222222222,
              "#7201a8"
             ],
             [
              0.3333333333333333,
              "#9c179e"
             ],
             [
              0.4444444444444444,
              "#bd3786"
             ],
             [
              0.5555555555555556,
              "#d8576b"
             ],
             [
              0.6666666666666666,
              "#ed7953"
             ],
             [
              0.7777777777777778,
              "#fb9f3a"
             ],
             [
              0.8888888888888888,
              "#fdca26"
             ],
             [
              1,
              "#f0f921"
             ]
            ],
            "type": "histogram2dcontour"
           }
          ],
          "mesh3d": [
           {
            "colorbar": {
             "outlinewidth": 0,
             "ticks": ""
            },
            "type": "mesh3d"
           }
          ],
          "parcoords": [
           {
            "line": {
             "colorbar": {
              "outlinewidth": 0,
              "ticks": ""
             }
            },
            "type": "parcoords"
           }
          ],
          "pie": [
           {
            "automargin": true,
            "type": "pie"
           }
          ],
          "scatter": [
           {
            "marker": {
             "colorbar": {
              "outlinewidth": 0,
              "ticks": ""
             }
            },
            "type": "scatter"
           }
          ],
          "scatter3d": [
           {
            "line": {
             "colorbar": {
              "outlinewidth": 0,
              "ticks": ""
             }
            },
            "marker": {
             "colorbar": {
              "outlinewidth": 0,
              "ticks": ""
             }
            },
            "type": "scatter3d"
           }
          ],
          "scattercarpet": [
           {
            "marker": {
             "colorbar": {
              "outlinewidth": 0,
              "ticks": ""
             }
            },
            "type": "scattercarpet"
           }
          ],
          "scattergeo": [
           {
            "marker": {
             "colorbar": {
              "outlinewidth": 0,
              "ticks": ""
             }
            },
            "type": "scattergeo"
           }
          ],
          "scattergl": [
           {
            "marker": {
             "colorbar": {
              "outlinewidth": 0,
              "ticks": ""
             }
            },
            "type": "scattergl"
           }
          ],
          "scattermapbox": [
           {
            "marker": {
             "colorbar": {
              "outlinewidth": 0,
              "ticks": ""
             }
            },
            "type": "scattermapbox"
           }
          ],
          "scatterpolar": [
           {
            "marker": {
             "colorbar": {
              "outlinewidth": 0,
              "ticks": ""
             }
            },
            "type": "scatterpolar"
           }
          ],
          "scatterpolargl": [
           {
            "marker": {
             "colorbar": {
              "outlinewidth": 0,
              "ticks": ""
             }
            },
            "type": "scatterpolargl"
           }
          ],
          "scatterternary": [
           {
            "marker": {
             "colorbar": {
              "outlinewidth": 0,
              "ticks": ""
             }
            },
            "type": "scatterternary"
           }
          ],
          "surface": [
           {
            "colorbar": {
             "outlinewidth": 0,
             "ticks": ""
            },
            "colorscale": [
             [
              0,
              "#0d0887"
             ],
             [
              0.1111111111111111,
              "#46039f"
             ],
             [
              0.2222222222222222,
              "#7201a8"
             ],
             [
              0.3333333333333333,
              "#9c179e"
             ],
             [
              0.4444444444444444,
              "#bd3786"
             ],
             [
              0.5555555555555556,
              "#d8576b"
             ],
             [
              0.6666666666666666,
              "#ed7953"
             ],
             [
              0.7777777777777778,
              "#fb9f3a"
             ],
             [
              0.8888888888888888,
              "#fdca26"
             ],
             [
              1,
              "#f0f921"
             ]
            ],
            "type": "surface"
           }
          ],
          "table": [
           {
            "cells": {
             "fill": {
              "color": "#EBF0F8"
             },
             "line": {
              "color": "white"
             }
            },
            "header": {
             "fill": {
              "color": "#C8D4E3"
             },
             "line": {
              "color": "white"
             }
            },
            "type": "table"
           }
          ]
         },
         "layout": {
          "annotationdefaults": {
           "arrowcolor": "#2a3f5f",
           "arrowhead": 0,
           "arrowwidth": 1
          },
          "coloraxis": {
           "colorbar": {
            "outlinewidth": 0,
            "ticks": ""
           }
          },
          "colorscale": {
           "diverging": [
            [
             0,
             "#8e0152"
            ],
            [
             0.1,
             "#c51b7d"
            ],
            [
             0.2,
             "#de77ae"
            ],
            [
             0.3,
             "#f1b6da"
            ],
            [
             0.4,
             "#fde0ef"
            ],
            [
             0.5,
             "#f7f7f7"
            ],
            [
             0.6,
             "#e6f5d0"
            ],
            [
             0.7,
             "#b8e186"
            ],
            [
             0.8,
             "#7fbc41"
            ],
            [
             0.9,
             "#4d9221"
            ],
            [
             1,
             "#276419"
            ]
           ],
           "sequential": [
            [
             0,
             "#0d0887"
            ],
            [
             0.1111111111111111,
             "#46039f"
            ],
            [
             0.2222222222222222,
             "#7201a8"
            ],
            [
             0.3333333333333333,
             "#9c179e"
            ],
            [
             0.4444444444444444,
             "#bd3786"
            ],
            [
             0.5555555555555556,
             "#d8576b"
            ],
            [
             0.6666666666666666,
             "#ed7953"
            ],
            [
             0.7777777777777778,
             "#fb9f3a"
            ],
            [
             0.8888888888888888,
             "#fdca26"
            ],
            [
             1,
             "#f0f921"
            ]
           ],
           "sequentialminus": [
            [
             0,
             "#0d0887"
            ],
            [
             0.1111111111111111,
             "#46039f"
            ],
            [
             0.2222222222222222,
             "#7201a8"
            ],
            [
             0.3333333333333333,
             "#9c179e"
            ],
            [
             0.4444444444444444,
             "#bd3786"
            ],
            [
             0.5555555555555556,
             "#d8576b"
            ],
            [
             0.6666666666666666,
             "#ed7953"
            ],
            [
             0.7777777777777778,
             "#fb9f3a"
            ],
            [
             0.8888888888888888,
             "#fdca26"
            ],
            [
             1,
             "#f0f921"
            ]
           ]
          },
          "colorway": [
           "#636efa",
           "#EF553B",
           "#00cc96",
           "#ab63fa",
           "#FFA15A",
           "#19d3f3",
           "#FF6692",
           "#B6E880",
           "#FF97FF",
           "#FECB52"
          ],
          "font": {
           "color": "#2a3f5f"
          },
          "geo": {
           "bgcolor": "white",
           "lakecolor": "white",
           "landcolor": "#E5ECF6",
           "showlakes": true,
           "showland": true,
           "subunitcolor": "white"
          },
          "hoverlabel": {
           "align": "left"
          },
          "hovermode": "closest",
          "mapbox": {
           "style": "light"
          },
          "paper_bgcolor": "white",
          "plot_bgcolor": "#E5ECF6",
          "polar": {
           "angularaxis": {
            "gridcolor": "white",
            "linecolor": "white",
            "ticks": ""
           },
           "bgcolor": "#E5ECF6",
           "radialaxis": {
            "gridcolor": "white",
            "linecolor": "white",
            "ticks": ""
           }
          },
          "scene": {
           "xaxis": {
            "backgroundcolor": "#E5ECF6",
            "gridcolor": "white",
            "gridwidth": 2,
            "linecolor": "white",
            "showbackground": true,
            "ticks": "",
            "zerolinecolor": "white"
           },
           "yaxis": {
            "backgroundcolor": "#E5ECF6",
            "gridcolor": "white",
            "gridwidth": 2,
            "linecolor": "white",
            "showbackground": true,
            "ticks": "",
            "zerolinecolor": "white"
           },
           "zaxis": {
            "backgroundcolor": "#E5ECF6",
            "gridcolor": "white",
            "gridwidth": 2,
            "linecolor": "white",
            "showbackground": true,
            "ticks": "",
            "zerolinecolor": "white"
           }
          },
          "shapedefaults": {
           "line": {
            "color": "#2a3f5f"
           }
          },
          "ternary": {
           "aaxis": {
            "gridcolor": "white",
            "linecolor": "white",
            "ticks": ""
           },
           "baxis": {
            "gridcolor": "white",
            "linecolor": "white",
            "ticks": ""
           },
           "bgcolor": "#E5ECF6",
           "caxis": {
            "gridcolor": "white",
            "linecolor": "white",
            "ticks": ""
           }
          },
          "title": {
           "x": 0.05
          },
          "xaxis": {
           "automargin": true,
           "gridcolor": "white",
           "linecolor": "white",
           "ticks": "",
           "title": {
            "standoff": 15
           },
           "zerolinecolor": "white",
           "zerolinewidth": 2
          },
          "yaxis": {
           "automargin": true,
           "gridcolor": "white",
           "linecolor": "white",
           "ticks": "",
           "title": {
            "standoff": 15
           },
           "zerolinecolor": "white",
           "zerolinewidth": 2
          }
         }
        },
        "title": {
         "text": "Effective Doubling Time R0"
        },
        "yaxis": {
         "title": {
          "text": "Days"
         }
        }
       }
      },
      "text/html": [
       "<div>\n",
       "        \n",
       "        \n",
       "            <div id=\"8d334e81-09f0-4210-bbec-cb22735e2126\" class=\"plotly-graph-div\" style=\"height:525px; width:100%;\"></div>\n",
       "            <script type=\"text/javascript\">\n",
       "                require([\"plotly\"], function(Plotly) {\n",
       "                    window.PLOTLYENV=window.PLOTLYENV || {};\n",
       "                    \n",
       "                if (document.getElementById(\"8d334e81-09f0-4210-bbec-cb22735e2126\")) {\n",
       "                    Plotly.newPlot(\n",
       "                        '8d334e81-09f0-4210-bbec-cb22735e2126',\n",
       "                        [{\"line\": {\"color\": \"#bcbd22\", \"shape\": \"spline\"}, \"mode\": \"lines\", \"showlegend\": false, \"type\": \"scatter\", \"x\": [\"2020-03-08T00:00:00\", \"2020-03-09T00:00:00\", \"2020-03-10T00:00:00\", \"2020-03-11T00:00:00\", \"2020-03-12T00:00:00\", \"2020-03-13T00:00:00\", \"2020-03-14T00:00:00\", \"2020-03-15T00:00:00\", \"2020-03-16T00:00:00\", \"2020-03-17T00:00:00\", \"2020-03-18T00:00:00\", \"2020-03-19T00:00:00\", \"2020-03-20T00:00:00\", \"2020-03-21T00:00:00\", \"2020-03-22T00:00:00\", \"2020-03-23T00:00:00\", \"2020-03-24T00:00:00\", \"2020-03-25T00:00:00\", \"2020-03-26T00:00:00\", \"2020-03-27T00:00:00\", \"2020-03-28T00:00:00\", \"2020-03-29T00:00:00\", \"2020-03-30T00:00:00\", \"2020-03-31T00:00:00\", \"2020-04-01T00:00:00\"], \"y\": [0.986581144068538, 1.0118085531906038, 1.0404425731855347, 1.072951345715317, 1.1098680264052418, 1.1517562183957468, 1.1991509578650053, 1.2524859268593724, 1.3120227657911414, 1.3777971101690851, 1.4495888815084468, 1.52691433893873, 1.6090297023537121, 1.6949359784112297, 1.7833828101623896, 1.872880901428005, 1.9617404940449574, 2.0481518740712765, 2.13031167394937, 2.206579974761263, 2.2756365877941924, 2.3365995454392903, 2.38907847749893, 2.43315553781635, 2.4693069628249065, 2.4982906479630707, 2.5210266643139825, 2.538491242870507, 2.551635364325314, 2.5613306812360612, 2.5683399217000504, 2.5733062831036504, 2.57675584875885, 2.5791078106000054, 2.5806885125395027, 2.581746580388655, 2.582467453241181, 2.582986411906337, 2.5833997293750466, 2.583773896734701, 2.5841530611295562, 2.584564898593031, 2.585025170777847, 2.5855412067217736, 2.586114525843557, 2.5867427868553423, 2.5874212152132374, 2.5881436322178093, 2.5889031832598537, 2.5896928413025373, 2.590505744278299, 2.5913354111896174, 2.592175870789913, 2.5930217282480683, 2.5938681886859443, 2.594711051511177, 2.595546685707742, 2.5963719934199476, 2.597184367054102, 2.59798164355539, 2.5987620583635476, 2.599524200707584, 2.6002669712894404, 2.6009895429697316, 2.6016913247608313, 2.602371929219526, 2.603031143188045, 2.6036689017393506, 2.604285265125891, 2.604880398500258, 2.605454554163347, 2.6060080560951056, 2.60654128653064, 2.607054674357192, 2.607548685123265, 2.608023812468416, 2.6084805707998404, 2.608919489059211, 2.6093411054398428, 2.6097459629297326, 2.6101346055704484, 2.610507575334899, 2.6108654095388593, 2.61120863871181, 2.611537784862067, 2.6118533600796594, 2.612155865427815, 2.6124457900804527, 2.612723610668846, 2.6129897908056297, 2.613244780758679, 2.6134890172512604, 2.613722923368096, 2.6139469085499143, 2.614161368661508, 2.6143666861205004, 2.61456323007585, 2.6147513566267433, 2.6149314090739173]}, {\"fill\": \"tonexty\", \"fillcolor\": \"rgba(188,189,34,0.5)\", \"line\": {\"color\": \"#bcbd22\", \"shape\": \"spline\"}, \"mode\": \"lines\", \"name\": \"Fit\", \"showlegend\": true, \"type\": \"scatter\", \"x\": [\"2020-03-08T00:00:00\", \"2020-03-09T00:00:00\", \"2020-03-10T00:00:00\", \"2020-03-11T00:00:00\", \"2020-03-12T00:00:00\", \"2020-03-13T00:00:00\", \"2020-03-14T00:00:00\", \"2020-03-15T00:00:00\", \"2020-03-16T00:00:00\", \"2020-03-17T00:00:00\", \"2020-03-18T00:00:00\", \"2020-03-19T00:00:00\", \"2020-03-20T00:00:00\", \"2020-03-21T00:00:00\", \"2020-03-22T00:00:00\", \"2020-03-23T00:00:00\", \"2020-03-24T00:00:00\", \"2020-03-25T00:00:00\", \"2020-03-26T00:00:00\", \"2020-03-27T00:00:00\", \"2020-03-28T00:00:00\", \"2020-03-29T00:00:00\", \"2020-03-30T00:00:00\", \"2020-03-31T00:00:00\", \"2020-04-01T00:00:00\"], \"y\": [1.1760889096485223, 1.2040288707710158, 1.238089459703564, 1.2792092862907807, 1.328349269756372, 1.3864821498020634, 1.454584424252835, 1.5336171777402576, 1.624479557189038, 1.7279240359208696, 1.8444354387991722, 1.974092381774868, 2.1164435648518065, 2.2704348529804674, 2.4344130646584703, 2.606212171959221, 2.7833049863182473, 2.962986972300363, 3.1425548371344894, 3.319452006120558, 3.4913704784580686, 3.656314404110112, 3.8126376816893157, 3.9590653651418197, 4.094701956487127, 4.219024788462324, 4.331860257688682, 4.433343482543365, 4.5238653856326625, 4.6040132891470265, 4.67451131900755, 4.73616570284043, 4.789818205923497, 4.836309133746937, 4.876449905203577, 4.911004275722149, 4.940676816320173, 4.966107117677053, 4.987868265808079, 5.006468327034886, 5.022353813512507, 5.035914332465511, 5.047487829021845, 5.057366004534273, 5.065799628343738, 5.073003564294604, 5.079161409060992, 5.0844296929623685, 5.088941630502905, 5.092810431683047, 5.096132199697073, 5.09898844866607, 5.101448278615818, 5.103570245506148, 5.105403962842024, 5.106991469013993, 5.10836839155423, 5.109564936307194, 5.11060672632913, 5.111515512287799, 5.112309773313677, 5.11300522469403, 5.113615246514683, 5.114151245335623, 5.114622959221263, 5.1150387149131875, 5.1154056446103375, 5.115729868685276, 5.116016649692623, 5.116270522196751, 5.1164954022402735, 5.116694679676305, 5.116871296080421, 5.1170278105292795, 5.1171664551707, 5.117289182204313, 5.117397703634358, 5.117493524939123, 5.117577973619145, 5.1176522234323905, 5.117717314995803, 5.117774173323895, 5.11782362278393, 5.117866399870738, 5.117903164139784, 5.117934507583233, 5.117960962688412, 5.117983009379952, 5.1180010810151115, 5.118015569574797, 5.118026830170485, 5.118035184968228, 5.118040926615115, 5.118044321240253, 5.1180456110911265, 5.118045016856807, 5.1180427397215755, 5.118038963185864, 5.118033854685913]}],\n",
       "                        {\"template\": {\"data\": {\"bar\": [{\"error_x\": {\"color\": \"#2a3f5f\"}, \"error_y\": {\"color\": \"#2a3f5f\"}, \"marker\": {\"line\": {\"color\": \"#E5ECF6\", \"width\": 0.5}}, \"type\": \"bar\"}], \"barpolar\": [{\"marker\": {\"line\": {\"color\": \"#E5ECF6\", \"width\": 0.5}}, \"type\": \"barpolar\"}], \"carpet\": [{\"aaxis\": {\"endlinecolor\": \"#2a3f5f\", \"gridcolor\": \"white\", \"linecolor\": \"white\", \"minorgridcolor\": \"white\", \"startlinecolor\": \"#2a3f5f\"}, \"baxis\": {\"endlinecolor\": \"#2a3f5f\", \"gridcolor\": \"white\", \"linecolor\": \"white\", \"minorgridcolor\": \"white\", \"startlinecolor\": \"#2a3f5f\"}, \"type\": \"carpet\"}], \"choropleth\": [{\"colorbar\": {\"outlinewidth\": 0, \"ticks\": \"\"}, \"type\": \"choropleth\"}], \"contour\": [{\"colorbar\": {\"outlinewidth\": 0, \"ticks\": \"\"}, \"colorscale\": [[0.0, \"#0d0887\"], [0.1111111111111111, \"#46039f\"], [0.2222222222222222, \"#7201a8\"], [0.3333333333333333, \"#9c179e\"], [0.4444444444444444, \"#bd3786\"], [0.5555555555555556, \"#d8576b\"], [0.6666666666666666, \"#ed7953\"], [0.7777777777777778, \"#fb9f3a\"], [0.8888888888888888, \"#fdca26\"], [1.0, \"#f0f921\"]], \"type\": \"contour\"}], \"contourcarpet\": [{\"colorbar\": {\"outlinewidth\": 0, \"ticks\": \"\"}, \"type\": \"contourcarpet\"}], \"heatmap\": [{\"colorbar\": {\"outlinewidth\": 0, \"ticks\": \"\"}, \"colorscale\": [[0.0, \"#0d0887\"], [0.1111111111111111, \"#46039f\"], [0.2222222222222222, \"#7201a8\"], [0.3333333333333333, \"#9c179e\"], [0.4444444444444444, \"#bd3786\"], [0.5555555555555556, \"#d8576b\"], [0.6666666666666666, \"#ed7953\"], [0.7777777777777778, \"#fb9f3a\"], [0.8888888888888888, \"#fdca26\"], [1.0, \"#f0f921\"]], \"type\": \"heatmap\"}], \"heatmapgl\": [{\"colorbar\": {\"outlinewidth\": 0, \"ticks\": \"\"}, \"colorscale\": [[0.0, \"#0d0887\"], [0.1111111111111111, \"#46039f\"], [0.2222222222222222, \"#7201a8\"], [0.3333333333333333, \"#9c179e\"], [0.4444444444444444, \"#bd3786\"], [0.5555555555555556, \"#d8576b\"], [0.6666666666666666, \"#ed7953\"], [0.7777777777777778, \"#fb9f3a\"], [0.8888888888888888, \"#fdca26\"], [1.0, \"#f0f921\"]], \"type\": \"heatmapgl\"}], \"histogram\": [{\"marker\": {\"colorbar\": {\"outlinewidth\": 0, \"ticks\": \"\"}}, \"type\": \"histogram\"}], \"histogram2d\": [{\"colorbar\": {\"outlinewidth\": 0, \"ticks\": \"\"}, \"colorscale\": [[0.0, \"#0d0887\"], [0.1111111111111111, \"#46039f\"], [0.2222222222222222, \"#7201a8\"], [0.3333333333333333, \"#9c179e\"], [0.4444444444444444, \"#bd3786\"], [0.5555555555555556, \"#d8576b\"], [0.6666666666666666, \"#ed7953\"], [0.7777777777777778, \"#fb9f3a\"], [0.8888888888888888, \"#fdca26\"], [1.0, \"#f0f921\"]], \"type\": \"histogram2d\"}], \"histogram2dcontour\": [{\"colorbar\": {\"outlinewidth\": 0, \"ticks\": \"\"}, \"colorscale\": [[0.0, \"#0d0887\"], [0.1111111111111111, \"#46039f\"], [0.2222222222222222, \"#7201a8\"], [0.3333333333333333, \"#9c179e\"], [0.4444444444444444, \"#bd3786\"], [0.5555555555555556, \"#d8576b\"], [0.6666666666666666, \"#ed7953\"], [0.7777777777777778, \"#fb9f3a\"], [0.8888888888888888, \"#fdca26\"], [1.0, \"#f0f921\"]], \"type\": \"histogram2dcontour\"}], \"mesh3d\": [{\"colorbar\": {\"outlinewidth\": 0, \"ticks\": \"\"}, \"type\": \"mesh3d\"}], \"parcoords\": [{\"line\": {\"colorbar\": {\"outlinewidth\": 0, \"ticks\": \"\"}}, \"type\": \"parcoords\"}], \"pie\": [{\"automargin\": true, \"type\": \"pie\"}], \"scatter\": [{\"marker\": {\"colorbar\": {\"outlinewidth\": 0, \"ticks\": \"\"}}, \"type\": \"scatter\"}], \"scatter3d\": [{\"line\": {\"colorbar\": {\"outlinewidth\": 0, \"ticks\": \"\"}}, \"marker\": {\"colorbar\": {\"outlinewidth\": 0, \"ticks\": \"\"}}, \"type\": \"scatter3d\"}], \"scattercarpet\": [{\"marker\": {\"colorbar\": {\"outlinewidth\": 0, \"ticks\": \"\"}}, \"type\": \"scattercarpet\"}], \"scattergeo\": [{\"marker\": {\"colorbar\": {\"outlinewidth\": 0, \"ticks\": \"\"}}, \"type\": \"scattergeo\"}], \"scattergl\": [{\"marker\": {\"colorbar\": {\"outlinewidth\": 0, \"ticks\": \"\"}}, \"type\": \"scattergl\"}], \"scattermapbox\": [{\"marker\": {\"colorbar\": {\"outlinewidth\": 0, \"ticks\": \"\"}}, \"type\": \"scattermapbox\"}], \"scatterpolar\": [{\"marker\": {\"colorbar\": {\"outlinewidth\": 0, \"ticks\": \"\"}}, \"type\": \"scatterpolar\"}], \"scatterpolargl\": [{\"marker\": {\"colorbar\": {\"outlinewidth\": 0, \"ticks\": \"\"}}, \"type\": \"scatterpolargl\"}], \"scatterternary\": [{\"marker\": {\"colorbar\": {\"outlinewidth\": 0, \"ticks\": \"\"}}, \"type\": \"scatterternary\"}], \"surface\": [{\"colorbar\": {\"outlinewidth\": 0, \"ticks\": \"\"}, \"colorscale\": [[0.0, \"#0d0887\"], [0.1111111111111111, \"#46039f\"], [0.2222222222222222, \"#7201a8\"], [0.3333333333333333, \"#9c179e\"], [0.4444444444444444, \"#bd3786\"], [0.5555555555555556, \"#d8576b\"], [0.6666666666666666, \"#ed7953\"], [0.7777777777777778, \"#fb9f3a\"], [0.8888888888888888, \"#fdca26\"], [1.0, \"#f0f921\"]], \"type\": \"surface\"}], \"table\": [{\"cells\": {\"fill\": {\"color\": \"#EBF0F8\"}, \"line\": {\"color\": \"white\"}}, \"header\": {\"fill\": {\"color\": \"#C8D4E3\"}, \"line\": {\"color\": \"white\"}}, \"type\": \"table\"}]}, \"layout\": {\"annotationdefaults\": {\"arrowcolor\": \"#2a3f5f\", \"arrowhead\": 0, \"arrowwidth\": 1}, \"coloraxis\": {\"colorbar\": {\"outlinewidth\": 0, \"ticks\": \"\"}}, \"colorscale\": {\"diverging\": [[0, \"#8e0152\"], [0.1, \"#c51b7d\"], [0.2, \"#de77ae\"], [0.3, \"#f1b6da\"], [0.4, \"#fde0ef\"], [0.5, \"#f7f7f7\"], [0.6, \"#e6f5d0\"], [0.7, \"#b8e186\"], [0.8, \"#7fbc41\"], [0.9, \"#4d9221\"], [1, \"#276419\"]], \"sequential\": [[0.0, \"#0d0887\"], [0.1111111111111111, \"#46039f\"], [0.2222222222222222, \"#7201a8\"], [0.3333333333333333, \"#9c179e\"], [0.4444444444444444, \"#bd3786\"], [0.5555555555555556, \"#d8576b\"], [0.6666666666666666, \"#ed7953\"], [0.7777777777777778, \"#fb9f3a\"], [0.8888888888888888, \"#fdca26\"], [1.0, \"#f0f921\"]], \"sequentialminus\": [[0.0, \"#0d0887\"], [0.1111111111111111, \"#46039f\"], [0.2222222222222222, \"#7201a8\"], [0.3333333333333333, \"#9c179e\"], [0.4444444444444444, \"#bd3786\"], [0.5555555555555556, \"#d8576b\"], [0.6666666666666666, \"#ed7953\"], [0.7777777777777778, \"#fb9f3a\"], [0.8888888888888888, \"#fdca26\"], [1.0, \"#f0f921\"]]}, \"colorway\": [\"#636efa\", \"#EF553B\", \"#00cc96\", \"#ab63fa\", \"#FFA15A\", \"#19d3f3\", \"#FF6692\", \"#B6E880\", \"#FF97FF\", \"#FECB52\"], \"font\": {\"color\": \"#2a3f5f\"}, \"geo\": {\"bgcolor\": \"white\", \"lakecolor\": \"white\", \"landcolor\": \"#E5ECF6\", \"showlakes\": true, \"showland\": true, \"subunitcolor\": \"white\"}, \"hoverlabel\": {\"align\": \"left\"}, \"hovermode\": \"closest\", \"mapbox\": {\"style\": \"light\"}, \"paper_bgcolor\": \"white\", \"plot_bgcolor\": \"#E5ECF6\", \"polar\": {\"angularaxis\": {\"gridcolor\": \"white\", \"linecolor\": \"white\", \"ticks\": \"\"}, \"bgcolor\": \"#E5ECF6\", \"radialaxis\": {\"gridcolor\": \"white\", \"linecolor\": \"white\", \"ticks\": \"\"}}, \"scene\": {\"xaxis\": {\"backgroundcolor\": \"#E5ECF6\", \"gridcolor\": \"white\", \"gridwidth\": 2, \"linecolor\": \"white\", \"showbackground\": true, \"ticks\": \"\", \"zerolinecolor\": \"white\"}, \"yaxis\": {\"backgroundcolor\": \"#E5ECF6\", \"gridcolor\": \"white\", \"gridwidth\": 2, \"linecolor\": \"white\", \"showbackground\": true, \"ticks\": \"\", \"zerolinecolor\": \"white\"}, \"zaxis\": {\"backgroundcolor\": \"#E5ECF6\", \"gridcolor\": \"white\", \"gridwidth\": 2, \"linecolor\": \"white\", \"showbackground\": true, \"ticks\": \"\", \"zerolinecolor\": \"white\"}}, \"shapedefaults\": {\"line\": {\"color\": \"#2a3f5f\"}}, \"ternary\": {\"aaxis\": {\"gridcolor\": \"white\", \"linecolor\": \"white\", \"ticks\": \"\"}, \"baxis\": {\"gridcolor\": \"white\", \"linecolor\": \"white\", \"ticks\": \"\"}, \"bgcolor\": \"#E5ECF6\", \"caxis\": {\"gridcolor\": \"white\", \"linecolor\": \"white\", \"ticks\": \"\"}}, \"title\": {\"x\": 0.05}, \"xaxis\": {\"automargin\": true, \"gridcolor\": \"white\", \"linecolor\": \"white\", \"ticks\": \"\", \"title\": {\"standoff\": 15}, \"zerolinecolor\": \"white\", \"zerolinewidth\": 2}, \"yaxis\": {\"automargin\": true, \"gridcolor\": \"white\", \"linecolor\": \"white\", \"ticks\": \"\", \"title\": {\"standoff\": 15}, \"zerolinecolor\": \"white\", \"zerolinewidth\": 2}}}, \"title\": {\"text\": \"Effective Doubling Time R0\"}, \"yaxis\": {\"title\": {\"text\": \"Days\"}}},\n",
       "                        {\"responsive\": true}\n",
       "                    ).then(function(){\n",
       "                            \n",
       "var gd = document.getElementById('8d334e81-09f0-4210-bbec-cb22735e2126');\n",
       "var x = new MutationObserver(function (mutations, observer) {{\n",
       "        var display = window.getComputedStyle(gd).display;\n",
       "        if (!display || display === 'none') {{\n",
       "            console.log([gd, 'removed!']);\n",
       "            Plotly.purge(gd);\n",
       "            observer.disconnect();\n",
       "        }}\n",
       "}});\n",
       "\n",
       "// Listen for the removal of the full notebook cells\n",
       "var notebookContainer = gd.closest('#notebook-container');\n",
       "if (notebookContainer) {{\n",
       "    x.observe(notebookContainer, {childList: true});\n",
       "}}\n",
       "\n",
       "// Listen for the clearing of the current output cell\n",
       "var outputEl = gd.closest('.output');\n",
       "if (outputEl) {{\n",
       "    x.observe(outputEl, {childList: true});\n",
       "}}\n",
       "\n",
       "                        })\n",
       "                };\n",
       "                });\n",
       "            </script>\n",
       "        </div>"
      ]
     },
     "metadata": {},
     "output_type": "display_data"
    }
   ],
   "source": [
    "beta = fcn.beta_i_fcn(\n",
    "    arange(X_SIHR_extra[\"n_iter\"]), amplitude=fit.p[\"beta_i\"], **fit.p\n",
    ")\n",
    "dt = log(2) / (beta[1:] * fit_res.susceptible.values)\n",
    "\n",
    "fig = go.Figure()\n",
    "plotting.add_gvar_scatter(\n",
    "    fig,\n",
    "    x=chd_df.index,\n",
    "    y=dt,\n",
    "    name=\"Fit\",\n",
    "    mode=\"markers+lines\",\n",
    "    gv_mode=\"band\",\n",
    "    color=\"#bcbd22\",\n",
    ")\n",
    "fig.update_layout(title=\"Effective Doubling Time R0\", yaxis_title=\"Days\")\n",
    "fig.show()"
   ]
  },
  {
   "cell_type": "code",
   "execution_count": 116,
   "metadata": {
    "hidden": true
   },
   "outputs": [
    {
     "data": {
      "text/html": [
       "<div>\n",
       "<style scoped>\n",
       "    .dataframe tbody tr th:only-of-type {\n",
       "        vertical-align: middle;\n",
       "    }\n",
       "\n",
       "    .dataframe tbody tr th {\n",
       "        vertical-align: top;\n",
       "    }\n",
       "\n",
       "    .dataframe thead th {\n",
       "        text-align: right;\n",
       "    }\n",
       "</style>\n",
       "<table border=\"1\" class=\"dataframe\">\n",
       "  <thead>\n",
       "    <tr style=\"text-align: right;\">\n",
       "      <th></th>\n",
       "      <th>susceptible</th>\n",
       "      <th>infected</th>\n",
       "      <th>hospitalized</th>\n",
       "      <th>recovered</th>\n",
       "      <th>infected_new</th>\n",
       "      <th>hospitalized_new</th>\n",
       "      <th>recovered_new</th>\n",
       "    </tr>\n",
       "  </thead>\n",
       "  <tbody>\n",
       "    <tr>\n",
       "      <th>2020-03-08</th>\n",
       "      <td>1.799910(17)e+06</td>\n",
       "      <td>197(49)</td>\n",
       "      <td>89.4(3.1)</td>\n",
       "      <td>153(37)</td>\n",
       "      <td>90(17)</td>\n",
       "      <td>21.6(2.4)</td>\n",
       "      <td>15.4(4.2)</td>\n",
       "    </tr>\n",
       "    <tr>\n",
       "      <th>2020-03-09</th>\n",
       "      <td>1.799784(39)e+06</td>\n",
       "      <td>277(68)</td>\n",
       "      <td>113.8(6.4)</td>\n",
       "      <td>217(52)</td>\n",
       "      <td>126(22)</td>\n",
       "      <td>30.8(2.8)</td>\n",
       "      <td>20.8(5.7)</td>\n",
       "    </tr>\n",
       "    <tr>\n",
       "      <th>2020-03-10</th>\n",
       "      <td>1.799610(69)e+06</td>\n",
       "      <td>387(94)</td>\n",
       "      <td>149(10)</td>\n",
       "      <td>306(72)</td>\n",
       "      <td>174(30)</td>\n",
       "      <td>43.4(3.1)</td>\n",
       "      <td>28.5(7.8)</td>\n",
       "    </tr>\n",
       "    <tr>\n",
       "      <th>2020-03-11</th>\n",
       "      <td>1.79937(11)e+06</td>\n",
       "      <td>534(129)</td>\n",
       "      <td>199(15)</td>\n",
       "      <td>426(99)</td>\n",
       "      <td>236(41)</td>\n",
       "      <td>60.6(3.5)</td>\n",
       "      <td>39(11)</td>\n",
       "    </tr>\n",
       "    <tr>\n",
       "      <th>2020-03-12</th>\n",
       "      <td>1.79906(16)e+06</td>\n",
       "      <td>725(175)</td>\n",
       "      <td>268(20)</td>\n",
       "      <td>587(135)</td>\n",
       "      <td>314(54)</td>\n",
       "      <td>83.6(3.7)</td>\n",
       "      <td>53(15)</td>\n",
       "    </tr>\n",
       "    <tr>\n",
       "      <th>...</th>\n",
       "      <td>...</td>\n",
       "      <td>...</td>\n",
       "      <td>...</td>\n",
       "      <td>...</td>\n",
       "      <td>...</td>\n",
       "      <td>...</td>\n",
       "      <td>...</td>\n",
       "    </tr>\n",
       "    <tr>\n",
       "      <th>2020-06-10</th>\n",
       "      <td>1.737(24)e+06</td>\n",
       "      <td>256(604)</td>\n",
       "      <td>1559(2448)</td>\n",
       "      <td>406(832)</td>\n",
       "      <td>48(120)</td>\n",
       "      <td>42(97)</td>\n",
       "      <td>136(209)</td>\n",
       "    </tr>\n",
       "    <tr>\n",
       "      <th>2020-06-11</th>\n",
       "      <td>1.737(24)e+06</td>\n",
       "      <td>243(582)</td>\n",
       "      <td>1488(2374)</td>\n",
       "      <td>386(802)</td>\n",
       "      <td>46(115)</td>\n",
       "      <td>40(94)</td>\n",
       "      <td>130(203)</td>\n",
       "    </tr>\n",
       "    <tr>\n",
       "      <th>2020-06-12</th>\n",
       "      <td>1.737(24)e+06</td>\n",
       "      <td>231(560)</td>\n",
       "      <td>1419(2302)</td>\n",
       "      <td>367(774)</td>\n",
       "      <td>44(111)</td>\n",
       "      <td>38(90)</td>\n",
       "      <td>124(196)</td>\n",
       "    </tr>\n",
       "    <tr>\n",
       "      <th>2020-06-13</th>\n",
       "      <td>1.737(24)e+06</td>\n",
       "      <td>219(539)</td>\n",
       "      <td>1354(2231)</td>\n",
       "      <td>349(746)</td>\n",
       "      <td>41(107)</td>\n",
       "      <td>36(87)</td>\n",
       "      <td>118(191)</td>\n",
       "    </tr>\n",
       "    <tr>\n",
       "      <th>2020-06-14</th>\n",
       "      <td>1.737(25)e+06</td>\n",
       "      <td>208(518)</td>\n",
       "      <td>1292(2162)</td>\n",
       "      <td>332(720)</td>\n",
       "      <td>39(103)</td>\n",
       "      <td>34(84)</td>\n",
       "      <td>113(185)</td>\n",
       "    </tr>\n",
       "  </tbody>\n",
       "</table>\n",
       "<p>99 rows × 7 columns</p>\n",
       "</div>"
      ],
      "text/plain": [
       "                 susceptible  infected hospitalized recovered infected_new  \\\n",
       "2020-03-08  1.799910(17)e+06   197(49)    89.4(3.1)   153(37)       90(17)   \n",
       "2020-03-09  1.799784(39)e+06   277(68)   113.8(6.4)   217(52)      126(22)   \n",
       "2020-03-10  1.799610(69)e+06   387(94)      149(10)   306(72)      174(30)   \n",
       "2020-03-11   1.79937(11)e+06  534(129)      199(15)   426(99)      236(41)   \n",
       "2020-03-12   1.79906(16)e+06  725(175)      268(20)  587(135)      314(54)   \n",
       "...                      ...       ...          ...       ...          ...   \n",
       "2020-06-10     1.737(24)e+06  256(604)   1559(2448)  406(832)      48(120)   \n",
       "2020-06-11     1.737(24)e+06  243(582)   1488(2374)  386(802)      46(115)   \n",
       "2020-06-12     1.737(24)e+06  231(560)   1419(2302)  367(774)      44(111)   \n",
       "2020-06-13     1.737(24)e+06  219(539)   1354(2231)  349(746)      41(107)   \n",
       "2020-06-14     1.737(25)e+06  208(518)   1292(2162)  332(720)      39(103)   \n",
       "\n",
       "           hospitalized_new recovered_new  \n",
       "2020-03-08        21.6(2.4)     15.4(4.2)  \n",
       "2020-03-09        30.8(2.8)     20.8(5.7)  \n",
       "2020-03-10        43.4(3.1)     28.5(7.8)  \n",
       "2020-03-11        60.6(3.5)        39(11)  \n",
       "2020-03-12        83.6(3.7)        53(15)  \n",
       "...                     ...           ...  \n",
       "2020-06-10           42(97)      136(209)  \n",
       "2020-06-11           40(94)      130(203)  \n",
       "2020-06-12           38(90)      124(196)  \n",
       "2020-06-13           36(87)      118(191)  \n",
       "2020-06-14           34(84)      113(185)  \n",
       "\n",
       "[99 rows x 7 columns]"
      ]
     },
     "execution_count": 116,
     "metadata": {},
     "output_type": "execute_result"
    }
   ],
   "source": [
    "fit_res"
   ]
  },
  {
   "cell_type": "code",
   "execution_count": 117,
   "metadata": {
    "hidden": true
   },
   "outputs": [
    {
     "data": {
      "application/vnd.plotly.v1+json": {
       "config": {
        "plotlyServerURL": "https://plot.ly"
       },
       "data": [
        {
         "line": {
          "color": "#bcbd22",
          "shape": "spline"
         },
         "mode": "lines",
         "showlegend": false,
         "type": "scatter",
         "x": [
          "2020-03-08T00:00:00",
          "2020-03-09T00:00:00",
          "2020-03-10T00:00:00",
          "2020-03-11T00:00:00",
          "2020-03-12T00:00:00",
          "2020-03-13T00:00:00",
          "2020-03-14T00:00:00",
          "2020-03-15T00:00:00",
          "2020-03-16T00:00:00",
          "2020-03-17T00:00:00",
          "2020-03-18T00:00:00",
          "2020-03-19T00:00:00",
          "2020-03-20T00:00:00",
          "2020-03-21T00:00:00",
          "2020-03-22T00:00:00",
          "2020-03-23T00:00:00",
          "2020-03-24T00:00:00",
          "2020-03-25T00:00:00",
          "2020-03-26T00:00:00",
          "2020-03-27T00:00:00",
          "2020-03-28T00:00:00",
          "2020-03-29T00:00:00",
          "2020-03-30T00:00:00",
          "2020-03-31T00:00:00",
          "2020-04-01T00:00:00",
          "2020-04-02T00:00:00",
          "2020-04-03T00:00:00",
          "2020-04-04T00:00:00",
          "2020-04-05T00:00:00",
          "2020-04-06T00:00:00",
          "2020-04-07T00:00:00",
          "2020-04-08T00:00:00",
          "2020-04-09T00:00:00",
          "2020-04-10T00:00:00",
          "2020-04-11T00:00:00",
          "2020-04-12T00:00:00",
          "2020-04-13T00:00:00",
          "2020-04-14T00:00:00",
          "2020-04-15T00:00:00",
          "2020-04-16T00:00:00",
          "2020-04-17T00:00:00",
          "2020-04-18T00:00:00",
          "2020-04-19T00:00:00",
          "2020-04-20T00:00:00",
          "2020-04-21T00:00:00",
          "2020-04-22T00:00:00",
          "2020-04-23T00:00:00",
          "2020-04-24T00:00:00",
          "2020-04-25T00:00:00",
          "2020-04-26T00:00:00",
          "2020-04-27T00:00:00",
          "2020-04-28T00:00:00",
          "2020-04-29T00:00:00",
          "2020-04-30T00:00:00",
          "2020-05-01T00:00:00",
          "2020-05-02T00:00:00",
          "2020-05-03T00:00:00",
          "2020-05-04T00:00:00",
          "2020-05-05T00:00:00",
          "2020-05-06T00:00:00",
          "2020-05-07T00:00:00",
          "2020-05-08T00:00:00",
          "2020-05-09T00:00:00",
          "2020-05-10T00:00:00",
          "2020-05-11T00:00:00",
          "2020-05-12T00:00:00",
          "2020-05-13T00:00:00",
          "2020-05-14T00:00:00",
          "2020-05-15T00:00:00",
          "2020-05-16T00:00:00",
          "2020-05-17T00:00:00",
          "2020-05-18T00:00:00",
          "2020-05-19T00:00:00",
          "2020-05-20T00:00:00",
          "2020-05-21T00:00:00",
          "2020-05-22T00:00:00",
          "2020-05-23T00:00:00",
          "2020-05-24T00:00:00",
          "2020-05-25T00:00:00",
          "2020-05-26T00:00:00",
          "2020-05-27T00:00:00",
          "2020-05-28T00:00:00",
          "2020-05-29T00:00:00",
          "2020-05-30T00:00:00",
          "2020-05-31T00:00:00",
          "2020-06-01T00:00:00",
          "2020-06-02T00:00:00",
          "2020-06-03T00:00:00",
          "2020-06-04T00:00:00",
          "2020-06-05T00:00:00",
          "2020-06-06T00:00:00",
          "2020-06-07T00:00:00",
          "2020-06-08T00:00:00",
          "2020-06-09T00:00:00",
          "2020-06-10T00:00:00",
          "2020-06-11T00:00:00",
          "2020-06-12T00:00:00",
          "2020-06-13T00:00:00",
          "2020-06-14T00:00:00"
         ],
         "y": [
          86.34978030464704,
          107.37533990604362,
          138.89658154938783,
          184.5400754946004,
          248.80583362532678,
          337.0556317941278,
          455.39045297565895,
          610.395295236722,
          808.7416669426103,
          1056.646153674015,
          1359.2000074824473,
          1719.6257977436412,
          2138.570334624348,
          2613.576068831873,
          3138.8651521488446,
          3705.5184345635034,
          4302.046299839612,
          4915.254862214296,
          5531.245080159934,
          6136.369906480446,
          6718.01507424902,
          7265.137446027165,
          7768.560218831953,
          8221.067205463274,
          8617.35513171261,
          8953.899928285757,
          9228.779901863607,
          9441.483369598394,
          9592.71557551157,
          9684.211284193976,
          9718.555180924912,
          9699.010907013348,
          9629.359810440417,
          9513.751145688462,
          9356.565830692996,
          9162.295727301873,
          8935.439822984059,
          8680.41786174451,
          8401.501116116839,
          8102.759264817536,
          7788.0218200201,
          7460.852247693773,
          7124.532816756596,
          6782.058252166569,
          6436.136405111412,
          6089.194347925361,
          5743.3885197020145,
          5400.617768091721,
          5062.538339201559,
          4730.580053032639,
          4405.96306320579,
          4089.714736503658,
          3782.68630141167,
          3485.5690077045656,
          3198.909613895582,
          2923.125078760175,
          2658.516379712495,
          2405.281416830774,
          2163.5269887754675,
          1933.279847400615,
          1714.4968529249827,
          1507.074262259678,
          1310.8561904235985,
          1125.642289678287,
          951.1946936898166,
          787.2442751641092,
          633.4962653897328,
          489.6352832627754,
          355.32981990065764,
          230.23622306129346,
          114.00222341484732,
          6.270042377819664,
          0,
          0,
          0,
          0,
          0,
          0,
          0,
          0,
          0,
          0,
          0,
          0,
          0,
          0,
          0,
          0,
          0,
          0,
          0,
          0,
          0,
          0,
          0,
          0,
          0,
          0,
          0
         ]
        },
        {
         "fill": "tonexty",
         "fillcolor": "rgba(188,189,34,0.5)",
         "line": {
          "color": "#bcbd22",
          "shape": "spline"
         },
         "mode": "lines",
         "name": "Fit",
         "showlegend": true,
         "type": "scatter",
         "x": [
          "2020-03-08T00:00:00",
          "2020-03-09T00:00:00",
          "2020-03-10T00:00:00",
          "2020-03-11T00:00:00",
          "2020-03-12T00:00:00",
          "2020-03-13T00:00:00",
          "2020-03-14T00:00:00",
          "2020-03-15T00:00:00",
          "2020-03-16T00:00:00",
          "2020-03-17T00:00:00",
          "2020-03-18T00:00:00",
          "2020-03-19T00:00:00",
          "2020-03-20T00:00:00",
          "2020-03-21T00:00:00",
          "2020-03-22T00:00:00",
          "2020-03-23T00:00:00",
          "2020-03-24T00:00:00",
          "2020-03-25T00:00:00",
          "2020-03-26T00:00:00",
          "2020-03-27T00:00:00",
          "2020-03-28T00:00:00",
          "2020-03-29T00:00:00",
          "2020-03-30T00:00:00",
          "2020-03-31T00:00:00",
          "2020-04-01T00:00:00",
          "2020-04-02T00:00:00",
          "2020-04-03T00:00:00",
          "2020-04-04T00:00:00",
          "2020-04-05T00:00:00",
          "2020-04-06T00:00:00",
          "2020-04-07T00:00:00",
          "2020-04-08T00:00:00",
          "2020-04-09T00:00:00",
          "2020-04-10T00:00:00",
          "2020-04-11T00:00:00",
          "2020-04-12T00:00:00",
          "2020-04-13T00:00:00",
          "2020-04-14T00:00:00",
          "2020-04-15T00:00:00",
          "2020-04-16T00:00:00",
          "2020-04-17T00:00:00",
          "2020-04-18T00:00:00",
          "2020-04-19T00:00:00",
          "2020-04-20T00:00:00",
          "2020-04-21T00:00:00",
          "2020-04-22T00:00:00",
          "2020-04-23T00:00:00",
          "2020-04-24T00:00:00",
          "2020-04-25T00:00:00",
          "2020-04-26T00:00:00",
          "2020-04-27T00:00:00",
          "2020-04-28T00:00:00",
          "2020-04-29T00:00:00",
          "2020-04-30T00:00:00",
          "2020-05-01T00:00:00",
          "2020-05-02T00:00:00",
          "2020-05-03T00:00:00",
          "2020-05-04T00:00:00",
          "2020-05-05T00:00:00",
          "2020-05-06T00:00:00",
          "2020-05-07T00:00:00",
          "2020-05-08T00:00:00",
          "2020-05-09T00:00:00",
          "2020-05-10T00:00:00",
          "2020-05-11T00:00:00",
          "2020-05-12T00:00:00",
          "2020-05-13T00:00:00",
          "2020-05-14T00:00:00",
          "2020-05-15T00:00:00",
          "2020-05-16T00:00:00",
          "2020-05-17T00:00:00",
          "2020-05-18T00:00:00",
          "2020-05-19T00:00:00",
          "2020-05-20T00:00:00",
          "2020-05-21T00:00:00",
          "2020-05-22T00:00:00",
          "2020-05-23T00:00:00",
          "2020-05-24T00:00:00",
          "2020-05-25T00:00:00",
          "2020-05-26T00:00:00",
          "2020-05-27T00:00:00",
          "2020-05-28T00:00:00",
          "2020-05-29T00:00:00",
          "2020-05-30T00:00:00",
          "2020-05-31T00:00:00",
          "2020-06-01T00:00:00",
          "2020-06-02T00:00:00",
          "2020-06-03T00:00:00",
          "2020-06-04T00:00:00",
          "2020-06-05T00:00:00",
          "2020-06-06T00:00:00",
          "2020-06-07T00:00:00",
          "2020-06-08T00:00:00",
          "2020-06-09T00:00:00",
          "2020-06-10T00:00:00",
          "2020-06-11T00:00:00",
          "2020-06-12T00:00:00",
          "2020-06-13T00:00:00",
          "2020-06-14T00:00:00"
         ],
         "y": [
          92.45173168225257,
          120.23580251258062,
          159.34133798863323,
          213.6442291328906,
          288.05466629080496,
          388.61400254973745,
          522.4843171973074,
          697.7616658366553,
          923.0562281702756,
          1206.8318614090315,
          1556.5680423677986,
          1977.864498038533,
          2473.63411481627,
          3043.5216473133573,
          3683.6453204863083,
          4386.6950264923435,
          5142.357201008668,
          5937.993278271785,
          6759.479386689863,
          7592.110282221955,
          8421.472948330562,
          9234.205534498564,
          10018.578363939412,
          10764.863868397868,
          11465.494716444236,
          12115.036553727541,
          12710.019017396477,
          13248.675126447248,
          13730.636613254175,
          14156.62431721114,
          14528.16157293669,
          14847.327195354224,
          15116.554953327015,
          15338.479222790154,
          15515.8219750437,
          15651.31403783878,
          15747.643067406501,
          15807.421251477132,
          15833.166886406254,
          15827.295249390469,
          15792.115385830524,
          15729.83043968361,
          15642.539939705144,
          15532.243031230098,
          15400.84204644272,
          15250.146075573208,
          15081.874373415234,
          14897.659539637476,
          14699.050470121167,
          14487.515106267267,
          14264.443021140094,
          14031.147882955727,
          13788.86983261554,
          13538.77780572146,
          13281.971822559899,
          13019.485262887236,
          12752.28713647692,
          12481.284355486849,
          12207.324010793494,
          11931.195651444636,
          11653.633564191048,
          11375.3190485427,
          11096.882681832241,
          10818.90656824522,
          10541.926565593958,
          10266.434483686964,
          9992.880248409525,
          9721.674026027842,
          9453.188302714181,
          9187.759914828966,
          8925.692026060855,
          8667.256048096402,
          8412.693502052385,
          8162.217818444373,
          7916.016073977604,
          7674.250663925057,
          7437.060909299735,
          7204.564598432418,
          6976.859462931638,
          6754.024588330178,
          6536.121760013275,
          6323.196745279185,
          6115.280512605143,
          5912.390389382857,
          5714.53115954999,
          5521.696102679619,
          5333.8679762008505,
          5151.019942512741,
          4973.116442822482,
          4800.114019589554,
          4631.962089492152,
          4468.603668852222,
          4309.976053462979,
          4156.0114547588255,
          4006.637594254098,
          3861.778258154952,
          3721.353814019345,
          3585.2816913045363,
          3453.4768276007326
         ]
        }
       ],
       "layout": {
        "template": {
         "data": {
          "bar": [
           {
            "error_x": {
             "color": "#2a3f5f"
            },
            "error_y": {
             "color": "#2a3f5f"
            },
            "marker": {
             "line": {
              "color": "#E5ECF6",
              "width": 0.5
             }
            },
            "type": "bar"
           }
          ],
          "barpolar": [
           {
            "marker": {
             "line": {
              "color": "#E5ECF6",
              "width": 0.5
             }
            },
            "type": "barpolar"
           }
          ],
          "carpet": [
           {
            "aaxis": {
             "endlinecolor": "#2a3f5f",
             "gridcolor": "white",
             "linecolor": "white",
             "minorgridcolor": "white",
             "startlinecolor": "#2a3f5f"
            },
            "baxis": {
             "endlinecolor": "#2a3f5f",
             "gridcolor": "white",
             "linecolor": "white",
             "minorgridcolor": "white",
             "startlinecolor": "#2a3f5f"
            },
            "type": "carpet"
           }
          ],
          "choropleth": [
           {
            "colorbar": {
             "outlinewidth": 0,
             "ticks": ""
            },
            "type": "choropleth"
           }
          ],
          "contour": [
           {
            "colorbar": {
             "outlinewidth": 0,
             "ticks": ""
            },
            "colorscale": [
             [
              0,
              "#0d0887"
             ],
             [
              0.1111111111111111,
              "#46039f"
             ],
             [
              0.2222222222222222,
              "#7201a8"
             ],
             [
              0.3333333333333333,
              "#9c179e"
             ],
             [
              0.4444444444444444,
              "#bd3786"
             ],
             [
              0.5555555555555556,
              "#d8576b"
             ],
             [
              0.6666666666666666,
              "#ed7953"
             ],
             [
              0.7777777777777778,
              "#fb9f3a"
             ],
             [
              0.8888888888888888,
              "#fdca26"
             ],
             [
              1,
              "#f0f921"
             ]
            ],
            "type": "contour"
           }
          ],
          "contourcarpet": [
           {
            "colorbar": {
             "outlinewidth": 0,
             "ticks": ""
            },
            "type": "contourcarpet"
           }
          ],
          "heatmap": [
           {
            "colorbar": {
             "outlinewidth": 0,
             "ticks": ""
            },
            "colorscale": [
             [
              0,
              "#0d0887"
             ],
             [
              0.1111111111111111,
              "#46039f"
             ],
             [
              0.2222222222222222,
              "#7201a8"
             ],
             [
              0.3333333333333333,
              "#9c179e"
             ],
             [
              0.4444444444444444,
              "#bd3786"
             ],
             [
              0.5555555555555556,
              "#d8576b"
             ],
             [
              0.6666666666666666,
              "#ed7953"
             ],
             [
              0.7777777777777778,
              "#fb9f3a"
             ],
             [
              0.8888888888888888,
              "#fdca26"
             ],
             [
              1,
              "#f0f921"
             ]
            ],
            "type": "heatmap"
           }
          ],
          "heatmapgl": [
           {
            "colorbar": {
             "outlinewidth": 0,
             "ticks": ""
            },
            "colorscale": [
             [
              0,
              "#0d0887"
             ],
             [
              0.1111111111111111,
              "#46039f"
             ],
             [
              0.2222222222222222,
              "#7201a8"
             ],
             [
              0.3333333333333333,
              "#9c179e"
             ],
             [
              0.4444444444444444,
              "#bd3786"
             ],
             [
              0.5555555555555556,
              "#d8576b"
             ],
             [
              0.6666666666666666,
              "#ed7953"
             ],
             [
              0.7777777777777778,
              "#fb9f3a"
             ],
             [
              0.8888888888888888,
              "#fdca26"
             ],
             [
              1,
              "#f0f921"
             ]
            ],
            "type": "heatmapgl"
           }
          ],
          "histogram": [
           {
            "marker": {
             "colorbar": {
              "outlinewidth": 0,
              "ticks": ""
             }
            },
            "type": "histogram"
           }
          ],
          "histogram2d": [
           {
            "colorbar": {
             "outlinewidth": 0,
             "ticks": ""
            },
            "colorscale": [
             [
              0,
              "#0d0887"
             ],
             [
              0.1111111111111111,
              "#46039f"
             ],
             [
              0.2222222222222222,
              "#7201a8"
             ],
             [
              0.3333333333333333,
              "#9c179e"
             ],
             [
              0.4444444444444444,
              "#bd3786"
             ],
             [
              0.5555555555555556,
              "#d8576b"
             ],
             [
              0.6666666666666666,
              "#ed7953"
             ],
             [
              0.7777777777777778,
              "#fb9f3a"
             ],
             [
              0.8888888888888888,
              "#fdca26"
             ],
             [
              1,
              "#f0f921"
             ]
            ],
            "type": "histogram2d"
           }
          ],
          "histogram2dcontour": [
           {
            "colorbar": {
             "outlinewidth": 0,
             "ticks": ""
            },
            "colorscale": [
             [
              0,
              "#0d0887"
             ],
             [
              0.1111111111111111,
              "#46039f"
             ],
             [
              0.2222222222222222,
              "#7201a8"
             ],
             [
              0.3333333333333333,
              "#9c179e"
             ],
             [
              0.4444444444444444,
              "#bd3786"
             ],
             [
              0.5555555555555556,
              "#d8576b"
             ],
             [
              0.6666666666666666,
              "#ed7953"
             ],
             [
              0.7777777777777778,
              "#fb9f3a"
             ],
             [
              0.8888888888888888,
              "#fdca26"
             ],
             [
              1,
              "#f0f921"
             ]
            ],
            "type": "histogram2dcontour"
           }
          ],
          "mesh3d": [
           {
            "colorbar": {
             "outlinewidth": 0,
             "ticks": ""
            },
            "type": "mesh3d"
           }
          ],
          "parcoords": [
           {
            "line": {
             "colorbar": {
              "outlinewidth": 0,
              "ticks": ""
             }
            },
            "type": "parcoords"
           }
          ],
          "pie": [
           {
            "automargin": true,
            "type": "pie"
           }
          ],
          "scatter": [
           {
            "marker": {
             "colorbar": {
              "outlinewidth": 0,
              "ticks": ""
             }
            },
            "type": "scatter"
           }
          ],
          "scatter3d": [
           {
            "line": {
             "colorbar": {
              "outlinewidth": 0,
              "ticks": ""
             }
            },
            "marker": {
             "colorbar": {
              "outlinewidth": 0,
              "ticks": ""
             }
            },
            "type": "scatter3d"
           }
          ],
          "scattercarpet": [
           {
            "marker": {
             "colorbar": {
              "outlinewidth": 0,
              "ticks": ""
             }
            },
            "type": "scattercarpet"
           }
          ],
          "scattergeo": [
           {
            "marker": {
             "colorbar": {
              "outlinewidth": 0,
              "ticks": ""
             }
            },
            "type": "scattergeo"
           }
          ],
          "scattergl": [
           {
            "marker": {
             "colorbar": {
              "outlinewidth": 0,
              "ticks": ""
             }
            },
            "type": "scattergl"
           }
          ],
          "scattermapbox": [
           {
            "marker": {
             "colorbar": {
              "outlinewidth": 0,
              "ticks": ""
             }
            },
            "type": "scattermapbox"
           }
          ],
          "scatterpolar": [
           {
            "marker": {
             "colorbar": {
              "outlinewidth": 0,
              "ticks": ""
             }
            },
            "type": "scatterpolar"
           }
          ],
          "scatterpolargl": [
           {
            "marker": {
             "colorbar": {
              "outlinewidth": 0,
              "ticks": ""
             }
            },
            "type": "scatterpolargl"
           }
          ],
          "scatterternary": [
           {
            "marker": {
             "colorbar": {
              "outlinewidth": 0,
              "ticks": ""
             }
            },
            "type": "scatterternary"
           }
          ],
          "surface": [
           {
            "colorbar": {
             "outlinewidth": 0,
             "ticks": ""
            },
            "colorscale": [
             [
              0,
              "#0d0887"
             ],
             [
              0.1111111111111111,
              "#46039f"
             ],
             [
              0.2222222222222222,
              "#7201a8"
             ],
             [
              0.3333333333333333,
              "#9c179e"
             ],
             [
              0.4444444444444444,
              "#bd3786"
             ],
             [
              0.5555555555555556,
              "#d8576b"
             ],
             [
              0.6666666666666666,
              "#ed7953"
             ],
             [
              0.7777777777777778,
              "#fb9f3a"
             ],
             [
              0.8888888888888888,
              "#fdca26"
             ],
             [
              1,
              "#f0f921"
             ]
            ],
            "type": "surface"
           }
          ],
          "table": [
           {
            "cells": {
             "fill": {
              "color": "#EBF0F8"
             },
             "line": {
              "color": "white"
             }
            },
            "header": {
             "fill": {
              "color": "#C8D4E3"
             },
             "line": {
              "color": "white"
             }
            },
            "type": "table"
           }
          ]
         },
         "layout": {
          "annotationdefaults": {
           "arrowcolor": "#2a3f5f",
           "arrowhead": 0,
           "arrowwidth": 1
          },
          "coloraxis": {
           "colorbar": {
            "outlinewidth": 0,
            "ticks": ""
           }
          },
          "colorscale": {
           "diverging": [
            [
             0,
             "#8e0152"
            ],
            [
             0.1,
             "#c51b7d"
            ],
            [
             0.2,
             "#de77ae"
            ],
            [
             0.3,
             "#f1b6da"
            ],
            [
             0.4,
             "#fde0ef"
            ],
            [
             0.5,
             "#f7f7f7"
            ],
            [
             0.6,
             "#e6f5d0"
            ],
            [
             0.7,
             "#b8e186"
            ],
            [
             0.8,
             "#7fbc41"
            ],
            [
             0.9,
             "#4d9221"
            ],
            [
             1,
             "#276419"
            ]
           ],
           "sequential": [
            [
             0,
             "#0d0887"
            ],
            [
             0.1111111111111111,
             "#46039f"
            ],
            [
             0.2222222222222222,
             "#7201a8"
            ],
            [
             0.3333333333333333,
             "#9c179e"
            ],
            [
             0.4444444444444444,
             "#bd3786"
            ],
            [
             0.5555555555555556,
             "#d8576b"
            ],
            [
             0.6666666666666666,
             "#ed7953"
            ],
            [
             0.7777777777777778,
             "#fb9f3a"
            ],
            [
             0.8888888888888888,
             "#fdca26"
            ],
            [
             1,
             "#f0f921"
            ]
           ],
           "sequentialminus": [
            [
             0,
             "#0d0887"
            ],
            [
             0.1111111111111111,
             "#46039f"
            ],
            [
             0.2222222222222222,
             "#7201a8"
            ],
            [
             0.3333333333333333,
             "#9c179e"
            ],
            [
             0.4444444444444444,
             "#bd3786"
            ],
            [
             0.5555555555555556,
             "#d8576b"
            ],
            [
             0.6666666666666666,
             "#ed7953"
            ],
            [
             0.7777777777777778,
             "#fb9f3a"
            ],
            [
             0.8888888888888888,
             "#fdca26"
            ],
            [
             1,
             "#f0f921"
            ]
           ]
          },
          "colorway": [
           "#636efa",
           "#EF553B",
           "#00cc96",
           "#ab63fa",
           "#FFA15A",
           "#19d3f3",
           "#FF6692",
           "#B6E880",
           "#FF97FF",
           "#FECB52"
          ],
          "font": {
           "color": "#2a3f5f"
          },
          "geo": {
           "bgcolor": "white",
           "lakecolor": "white",
           "landcolor": "#E5ECF6",
           "showlakes": true,
           "showland": true,
           "subunitcolor": "white"
          },
          "hoverlabel": {
           "align": "left"
          },
          "hovermode": "closest",
          "mapbox": {
           "style": "light"
          },
          "paper_bgcolor": "white",
          "plot_bgcolor": "#E5ECF6",
          "polar": {
           "angularaxis": {
            "gridcolor": "white",
            "linecolor": "white",
            "ticks": ""
           },
           "bgcolor": "#E5ECF6",
           "radialaxis": {
            "gridcolor": "white",
            "linecolor": "white",
            "ticks": ""
           }
          },
          "scene": {
           "xaxis": {
            "backgroundcolor": "#E5ECF6",
            "gridcolor": "white",
            "gridwidth": 2,
            "linecolor": "white",
            "showbackground": true,
            "ticks": "",
            "zerolinecolor": "white"
           },
           "yaxis": {
            "backgroundcolor": "#E5ECF6",
            "gridcolor": "white",
            "gridwidth": 2,
            "linecolor": "white",
            "showbackground": true,
            "ticks": "",
            "zerolinecolor": "white"
           },
           "zaxis": {
            "backgroundcolor": "#E5ECF6",
            "gridcolor": "white",
            "gridwidth": 2,
            "linecolor": "white",
            "showbackground": true,
            "ticks": "",
            "zerolinecolor": "white"
           }
          },
          "shapedefaults": {
           "line": {
            "color": "#2a3f5f"
           }
          },
          "ternary": {
           "aaxis": {
            "gridcolor": "white",
            "linecolor": "white",
            "ticks": ""
           },
           "baxis": {
            "gridcolor": "white",
            "linecolor": "white",
            "ticks": ""
           },
           "bgcolor": "#E5ECF6",
           "caxis": {
            "gridcolor": "white",
            "linecolor": "white",
            "ticks": ""
           }
          },
          "title": {
           "x": 0.05
          },
          "xaxis": {
           "automargin": true,
           "gridcolor": "white",
           "linecolor": "white",
           "ticks": "",
           "title": {
            "standoff": 15
           },
           "zerolinecolor": "white",
           "zerolinewidth": 2
          },
          "yaxis": {
           "automargin": true,
           "gridcolor": "white",
           "linecolor": "white",
           "ticks": "",
           "title": {
            "standoff": 15
           },
           "zerolinecolor": "white",
           "zerolinewidth": 2
          }
         }
        },
        "title": {
         "text": "Total number of hospitalizations"
        },
        "yaxis": {
         "title": {
          "text": "Days"
         }
        }
       }
      },
      "text/html": [
       "<div>\n",
       "        \n",
       "        \n",
       "            <div id=\"017e2272-5cc6-47e5-9ef8-29b15bdd96fb\" class=\"plotly-graph-div\" style=\"height:525px; width:100%;\"></div>\n",
       "            <script type=\"text/javascript\">\n",
       "                require([\"plotly\"], function(Plotly) {\n",
       "                    window.PLOTLYENV=window.PLOTLYENV || {};\n",
       "                    \n",
       "                if (document.getElementById(\"017e2272-5cc6-47e5-9ef8-29b15bdd96fb\")) {\n",
       "                    Plotly.newPlot(\n",
       "                        '017e2272-5cc6-47e5-9ef8-29b15bdd96fb',\n",
       "                        [{\"line\": {\"color\": \"#bcbd22\", \"shape\": \"spline\"}, \"mode\": \"lines\", \"showlegend\": false, \"type\": \"scatter\", \"x\": [\"2020-03-08T00:00:00\", \"2020-03-09T00:00:00\", \"2020-03-10T00:00:00\", \"2020-03-11T00:00:00\", \"2020-03-12T00:00:00\", \"2020-03-13T00:00:00\", \"2020-03-14T00:00:00\", \"2020-03-15T00:00:00\", \"2020-03-16T00:00:00\", \"2020-03-17T00:00:00\", \"2020-03-18T00:00:00\", \"2020-03-19T00:00:00\", \"2020-03-20T00:00:00\", \"2020-03-21T00:00:00\", \"2020-03-22T00:00:00\", \"2020-03-23T00:00:00\", \"2020-03-24T00:00:00\", \"2020-03-25T00:00:00\", \"2020-03-26T00:00:00\", \"2020-03-27T00:00:00\", \"2020-03-28T00:00:00\", \"2020-03-29T00:00:00\", \"2020-03-30T00:00:00\", \"2020-03-31T00:00:00\", \"2020-04-01T00:00:00\", \"2020-04-02T00:00:00\", \"2020-04-03T00:00:00\", \"2020-04-04T00:00:00\", \"2020-04-05T00:00:00\", \"2020-04-06T00:00:00\", \"2020-04-07T00:00:00\", \"2020-04-08T00:00:00\", \"2020-04-09T00:00:00\", \"2020-04-10T00:00:00\", \"2020-04-11T00:00:00\", \"2020-04-12T00:00:00\", \"2020-04-13T00:00:00\", \"2020-04-14T00:00:00\", \"2020-04-15T00:00:00\", \"2020-04-16T00:00:00\", \"2020-04-17T00:00:00\", \"2020-04-18T00:00:00\", \"2020-04-19T00:00:00\", \"2020-04-20T00:00:00\", \"2020-04-21T00:00:00\", \"2020-04-22T00:00:00\", \"2020-04-23T00:00:00\", \"2020-04-24T00:00:00\", \"2020-04-25T00:00:00\", \"2020-04-26T00:00:00\", \"2020-04-27T00:00:00\", \"2020-04-28T00:00:00\", \"2020-04-29T00:00:00\", \"2020-04-30T00:00:00\", \"2020-05-01T00:00:00\", \"2020-05-02T00:00:00\", \"2020-05-03T00:00:00\", \"2020-05-04T00:00:00\", \"2020-05-05T00:00:00\", \"2020-05-06T00:00:00\", \"2020-05-07T00:00:00\", \"2020-05-08T00:00:00\", \"2020-05-09T00:00:00\", \"2020-05-10T00:00:00\", \"2020-05-11T00:00:00\", \"2020-05-12T00:00:00\", \"2020-05-13T00:00:00\", \"2020-05-14T00:00:00\", \"2020-05-15T00:00:00\", \"2020-05-16T00:00:00\", \"2020-05-17T00:00:00\", \"2020-05-18T00:00:00\", \"2020-05-19T00:00:00\", \"2020-05-20T00:00:00\", \"2020-05-21T00:00:00\", \"2020-05-22T00:00:00\", \"2020-05-23T00:00:00\", \"2020-05-24T00:00:00\", \"2020-05-25T00:00:00\", \"2020-05-26T00:00:00\", \"2020-05-27T00:00:00\", \"2020-05-28T00:00:00\", \"2020-05-29T00:00:00\", \"2020-05-30T00:00:00\", \"2020-05-31T00:00:00\", \"2020-06-01T00:00:00\", \"2020-06-02T00:00:00\", \"2020-06-03T00:00:00\", \"2020-06-04T00:00:00\", \"2020-06-05T00:00:00\", \"2020-06-06T00:00:00\", \"2020-06-07T00:00:00\", \"2020-06-08T00:00:00\", \"2020-06-09T00:00:00\", \"2020-06-10T00:00:00\", \"2020-06-11T00:00:00\", \"2020-06-12T00:00:00\", \"2020-06-13T00:00:00\", \"2020-06-14T00:00:00\"], \"y\": [86.34978030464704, 107.37533990604362, 138.89658154938783, 184.5400754946004, 248.80583362532678, 337.0556317941278, 455.39045297565895, 610.395295236722, 808.7416669426103, 1056.646153674015, 1359.2000074824473, 1719.6257977436412, 2138.570334624348, 2613.576068831873, 3138.8651521488446, 3705.5184345635034, 4302.046299839612, 4915.254862214296, 5531.245080159934, 6136.369906480446, 6718.01507424902, 7265.137446027165, 7768.560218831953, 8221.067205463274, 8617.35513171261, 8953.899928285757, 9228.779901863607, 9441.483369598394, 9592.71557551157, 9684.211284193976, 9718.555180924912, 9699.010907013348, 9629.359810440417, 9513.751145688462, 9356.565830692996, 9162.295727301873, 8935.439822984059, 8680.41786174451, 8401.501116116839, 8102.759264817536, 7788.0218200201, 7460.852247693773, 7124.532816756596, 6782.058252166569, 6436.136405111412, 6089.194347925361, 5743.3885197020145, 5400.617768091721, 5062.538339201559, 4730.580053032639, 4405.96306320579, 4089.714736503658, 3782.68630141167, 3485.5690077045656, 3198.909613895582, 2923.125078760175, 2658.516379712495, 2405.281416830774, 2163.5269887754675, 1933.279847400615, 1714.4968529249827, 1507.074262259678, 1310.8561904235985, 1125.642289678287, 951.1946936898166, 787.2442751641092, 633.4962653897328, 489.6352832627754, 355.32981990065764, 230.23622306129346, 114.00222341484732, 6.270042377819664, 0, 0, 0, 0, 0, 0, 0, 0, 0, 0, 0, 0, 0, 0, 0, 0, 0, 0, 0, 0, 0, 0, 0, 0, 0, 0, 0]}, {\"fill\": \"tonexty\", \"fillcolor\": \"rgba(188,189,34,0.5)\", \"line\": {\"color\": \"#bcbd22\", \"shape\": \"spline\"}, \"mode\": \"lines\", \"name\": \"Fit\", \"showlegend\": true, \"type\": \"scatter\", \"x\": [\"2020-03-08T00:00:00\", \"2020-03-09T00:00:00\", \"2020-03-10T00:00:00\", \"2020-03-11T00:00:00\", \"2020-03-12T00:00:00\", \"2020-03-13T00:00:00\", \"2020-03-14T00:00:00\", \"2020-03-15T00:00:00\", \"2020-03-16T00:00:00\", \"2020-03-17T00:00:00\", \"2020-03-18T00:00:00\", \"2020-03-19T00:00:00\", \"2020-03-20T00:00:00\", \"2020-03-21T00:00:00\", \"2020-03-22T00:00:00\", \"2020-03-23T00:00:00\", \"2020-03-24T00:00:00\", \"2020-03-25T00:00:00\", \"2020-03-26T00:00:00\", \"2020-03-27T00:00:00\", \"2020-03-28T00:00:00\", \"2020-03-29T00:00:00\", \"2020-03-30T00:00:00\", \"2020-03-31T00:00:00\", \"2020-04-01T00:00:00\", \"2020-04-02T00:00:00\", \"2020-04-03T00:00:00\", \"2020-04-04T00:00:00\", \"2020-04-05T00:00:00\", \"2020-04-06T00:00:00\", \"2020-04-07T00:00:00\", \"2020-04-08T00:00:00\", \"2020-04-09T00:00:00\", \"2020-04-10T00:00:00\", \"2020-04-11T00:00:00\", \"2020-04-12T00:00:00\", \"2020-04-13T00:00:00\", \"2020-04-14T00:00:00\", \"2020-04-15T00:00:00\", \"2020-04-16T00:00:00\", \"2020-04-17T00:00:00\", \"2020-04-18T00:00:00\", \"2020-04-19T00:00:00\", \"2020-04-20T00:00:00\", \"2020-04-21T00:00:00\", \"2020-04-22T00:00:00\", \"2020-04-23T00:00:00\", \"2020-04-24T00:00:00\", \"2020-04-25T00:00:00\", \"2020-04-26T00:00:00\", \"2020-04-27T00:00:00\", \"2020-04-28T00:00:00\", \"2020-04-29T00:00:00\", \"2020-04-30T00:00:00\", \"2020-05-01T00:00:00\", \"2020-05-02T00:00:00\", \"2020-05-03T00:00:00\", \"2020-05-04T00:00:00\", \"2020-05-05T00:00:00\", \"2020-05-06T00:00:00\", \"2020-05-07T00:00:00\", \"2020-05-08T00:00:00\", \"2020-05-09T00:00:00\", \"2020-05-10T00:00:00\", \"2020-05-11T00:00:00\", \"2020-05-12T00:00:00\", \"2020-05-13T00:00:00\", \"2020-05-14T00:00:00\", \"2020-05-15T00:00:00\", \"2020-05-16T00:00:00\", \"2020-05-17T00:00:00\", \"2020-05-18T00:00:00\", \"2020-05-19T00:00:00\", \"2020-05-20T00:00:00\", \"2020-05-21T00:00:00\", \"2020-05-22T00:00:00\", \"2020-05-23T00:00:00\", \"2020-05-24T00:00:00\", \"2020-05-25T00:00:00\", \"2020-05-26T00:00:00\", \"2020-05-27T00:00:00\", \"2020-05-28T00:00:00\", \"2020-05-29T00:00:00\", \"2020-05-30T00:00:00\", \"2020-05-31T00:00:00\", \"2020-06-01T00:00:00\", \"2020-06-02T00:00:00\", \"2020-06-03T00:00:00\", \"2020-06-04T00:00:00\", \"2020-06-05T00:00:00\", \"2020-06-06T00:00:00\", \"2020-06-07T00:00:00\", \"2020-06-08T00:00:00\", \"2020-06-09T00:00:00\", \"2020-06-10T00:00:00\", \"2020-06-11T00:00:00\", \"2020-06-12T00:00:00\", \"2020-06-13T00:00:00\", \"2020-06-14T00:00:00\"], \"y\": [92.45173168225257, 120.23580251258062, 159.34133798863323, 213.6442291328906, 288.05466629080496, 388.61400254973745, 522.4843171973074, 697.7616658366553, 923.0562281702756, 1206.8318614090315, 1556.5680423677986, 1977.864498038533, 2473.63411481627, 3043.5216473133573, 3683.6453204863083, 4386.6950264923435, 5142.357201008668, 5937.993278271785, 6759.479386689863, 7592.110282221955, 8421.472948330562, 9234.205534498564, 10018.578363939412, 10764.863868397868, 11465.494716444236, 12115.036553727541, 12710.019017396477, 13248.675126447248, 13730.636613254175, 14156.62431721114, 14528.16157293669, 14847.327195354224, 15116.554953327015, 15338.479222790154, 15515.8219750437, 15651.31403783878, 15747.643067406501, 15807.421251477132, 15833.166886406254, 15827.295249390469, 15792.115385830524, 15729.83043968361, 15642.539939705144, 15532.243031230098, 15400.84204644272, 15250.146075573208, 15081.874373415234, 14897.659539637476, 14699.050470121167, 14487.515106267267, 14264.443021140094, 14031.147882955727, 13788.86983261554, 13538.77780572146, 13281.971822559899, 13019.485262887236, 12752.28713647692, 12481.284355486849, 12207.324010793494, 11931.195651444636, 11653.633564191048, 11375.3190485427, 11096.882681832241, 10818.90656824522, 10541.926565593958, 10266.434483686964, 9992.880248409525, 9721.674026027842, 9453.188302714181, 9187.759914828966, 8925.692026060855, 8667.256048096402, 8412.693502052385, 8162.217818444373, 7916.016073977604, 7674.250663925057, 7437.060909299735, 7204.564598432418, 6976.859462931638, 6754.024588330178, 6536.121760013275, 6323.196745279185, 6115.280512605143, 5912.390389382857, 5714.53115954999, 5521.696102679619, 5333.8679762008505, 5151.019942512741, 4973.116442822482, 4800.114019589554, 4631.962089492152, 4468.603668852222, 4309.976053462979, 4156.0114547588255, 4006.637594254098, 3861.778258154952, 3721.353814019345, 3585.2816913045363, 3453.4768276007326]}],\n",
       "                        {\"template\": {\"data\": {\"bar\": [{\"error_x\": {\"color\": \"#2a3f5f\"}, \"error_y\": {\"color\": \"#2a3f5f\"}, \"marker\": {\"line\": {\"color\": \"#E5ECF6\", \"width\": 0.5}}, \"type\": \"bar\"}], \"barpolar\": [{\"marker\": {\"line\": {\"color\": \"#E5ECF6\", \"width\": 0.5}}, \"type\": \"barpolar\"}], \"carpet\": [{\"aaxis\": {\"endlinecolor\": \"#2a3f5f\", \"gridcolor\": \"white\", \"linecolor\": \"white\", \"minorgridcolor\": \"white\", \"startlinecolor\": \"#2a3f5f\"}, \"baxis\": {\"endlinecolor\": \"#2a3f5f\", \"gridcolor\": \"white\", \"linecolor\": \"white\", \"minorgridcolor\": \"white\", \"startlinecolor\": \"#2a3f5f\"}, \"type\": \"carpet\"}], \"choropleth\": [{\"colorbar\": {\"outlinewidth\": 0, \"ticks\": \"\"}, \"type\": \"choropleth\"}], \"contour\": [{\"colorbar\": {\"outlinewidth\": 0, \"ticks\": \"\"}, \"colorscale\": [[0.0, \"#0d0887\"], [0.1111111111111111, \"#46039f\"], [0.2222222222222222, \"#7201a8\"], [0.3333333333333333, \"#9c179e\"], [0.4444444444444444, \"#bd3786\"], [0.5555555555555556, \"#d8576b\"], [0.6666666666666666, \"#ed7953\"], [0.7777777777777778, \"#fb9f3a\"], [0.8888888888888888, \"#fdca26\"], [1.0, \"#f0f921\"]], \"type\": \"contour\"}], \"contourcarpet\": [{\"colorbar\": {\"outlinewidth\": 0, \"ticks\": \"\"}, \"type\": \"contourcarpet\"}], \"heatmap\": [{\"colorbar\": {\"outlinewidth\": 0, \"ticks\": \"\"}, \"colorscale\": [[0.0, \"#0d0887\"], [0.1111111111111111, \"#46039f\"], [0.2222222222222222, \"#7201a8\"], [0.3333333333333333, \"#9c179e\"], [0.4444444444444444, \"#bd3786\"], [0.5555555555555556, \"#d8576b\"], [0.6666666666666666, \"#ed7953\"], [0.7777777777777778, \"#fb9f3a\"], [0.8888888888888888, \"#fdca26\"], [1.0, \"#f0f921\"]], \"type\": \"heatmap\"}], \"heatmapgl\": [{\"colorbar\": {\"outlinewidth\": 0, \"ticks\": \"\"}, \"colorscale\": [[0.0, \"#0d0887\"], [0.1111111111111111, \"#46039f\"], [0.2222222222222222, \"#7201a8\"], [0.3333333333333333, \"#9c179e\"], [0.4444444444444444, \"#bd3786\"], [0.5555555555555556, \"#d8576b\"], [0.6666666666666666, \"#ed7953\"], [0.7777777777777778, \"#fb9f3a\"], [0.8888888888888888, \"#fdca26\"], [1.0, \"#f0f921\"]], \"type\": \"heatmapgl\"}], \"histogram\": [{\"marker\": {\"colorbar\": {\"outlinewidth\": 0, \"ticks\": \"\"}}, \"type\": \"histogram\"}], \"histogram2d\": [{\"colorbar\": {\"outlinewidth\": 0, \"ticks\": \"\"}, \"colorscale\": [[0.0, \"#0d0887\"], [0.1111111111111111, \"#46039f\"], [0.2222222222222222, \"#7201a8\"], [0.3333333333333333, \"#9c179e\"], [0.4444444444444444, \"#bd3786\"], [0.5555555555555556, \"#d8576b\"], [0.6666666666666666, \"#ed7953\"], [0.7777777777777778, \"#fb9f3a\"], [0.8888888888888888, \"#fdca26\"], [1.0, \"#f0f921\"]], \"type\": \"histogram2d\"}], \"histogram2dcontour\": [{\"colorbar\": {\"outlinewidth\": 0, \"ticks\": \"\"}, \"colorscale\": [[0.0, \"#0d0887\"], [0.1111111111111111, \"#46039f\"], [0.2222222222222222, \"#7201a8\"], [0.3333333333333333, \"#9c179e\"], [0.4444444444444444, \"#bd3786\"], [0.5555555555555556, \"#d8576b\"], [0.6666666666666666, \"#ed7953\"], [0.7777777777777778, \"#fb9f3a\"], [0.8888888888888888, \"#fdca26\"], [1.0, \"#f0f921\"]], \"type\": \"histogram2dcontour\"}], \"mesh3d\": [{\"colorbar\": {\"outlinewidth\": 0, \"ticks\": \"\"}, \"type\": \"mesh3d\"}], \"parcoords\": [{\"line\": {\"colorbar\": {\"outlinewidth\": 0, \"ticks\": \"\"}}, \"type\": \"parcoords\"}], \"pie\": [{\"automargin\": true, \"type\": \"pie\"}], \"scatter\": [{\"marker\": {\"colorbar\": {\"outlinewidth\": 0, \"ticks\": \"\"}}, \"type\": \"scatter\"}], \"scatter3d\": [{\"line\": {\"colorbar\": {\"outlinewidth\": 0, \"ticks\": \"\"}}, \"marker\": {\"colorbar\": {\"outlinewidth\": 0, \"ticks\": \"\"}}, \"type\": \"scatter3d\"}], \"scattercarpet\": [{\"marker\": {\"colorbar\": {\"outlinewidth\": 0, \"ticks\": \"\"}}, \"type\": \"scattercarpet\"}], \"scattergeo\": [{\"marker\": {\"colorbar\": {\"outlinewidth\": 0, \"ticks\": \"\"}}, \"type\": \"scattergeo\"}], \"scattergl\": [{\"marker\": {\"colorbar\": {\"outlinewidth\": 0, \"ticks\": \"\"}}, \"type\": \"scattergl\"}], \"scattermapbox\": [{\"marker\": {\"colorbar\": {\"outlinewidth\": 0, \"ticks\": \"\"}}, \"type\": \"scattermapbox\"}], \"scatterpolar\": [{\"marker\": {\"colorbar\": {\"outlinewidth\": 0, \"ticks\": \"\"}}, \"type\": \"scatterpolar\"}], \"scatterpolargl\": [{\"marker\": {\"colorbar\": {\"outlinewidth\": 0, \"ticks\": \"\"}}, \"type\": \"scatterpolargl\"}], \"scatterternary\": [{\"marker\": {\"colorbar\": {\"outlinewidth\": 0, \"ticks\": \"\"}}, \"type\": \"scatterternary\"}], \"surface\": [{\"colorbar\": {\"outlinewidth\": 0, \"ticks\": \"\"}, \"colorscale\": [[0.0, \"#0d0887\"], [0.1111111111111111, \"#46039f\"], [0.2222222222222222, \"#7201a8\"], [0.3333333333333333, \"#9c179e\"], [0.4444444444444444, \"#bd3786\"], [0.5555555555555556, \"#d8576b\"], [0.6666666666666666, \"#ed7953\"], [0.7777777777777778, \"#fb9f3a\"], [0.8888888888888888, \"#fdca26\"], [1.0, \"#f0f921\"]], \"type\": \"surface\"}], \"table\": [{\"cells\": {\"fill\": {\"color\": \"#EBF0F8\"}, \"line\": {\"color\": \"white\"}}, \"header\": {\"fill\": {\"color\": \"#C8D4E3\"}, \"line\": {\"color\": \"white\"}}, \"type\": \"table\"}]}, \"layout\": {\"annotationdefaults\": {\"arrowcolor\": \"#2a3f5f\", \"arrowhead\": 0, \"arrowwidth\": 1}, \"coloraxis\": {\"colorbar\": {\"outlinewidth\": 0, \"ticks\": \"\"}}, \"colorscale\": {\"diverging\": [[0, \"#8e0152\"], [0.1, \"#c51b7d\"], [0.2, \"#de77ae\"], [0.3, \"#f1b6da\"], [0.4, \"#fde0ef\"], [0.5, \"#f7f7f7\"], [0.6, \"#e6f5d0\"], [0.7, \"#b8e186\"], [0.8, \"#7fbc41\"], [0.9, \"#4d9221\"], [1, \"#276419\"]], \"sequential\": [[0.0, \"#0d0887\"], [0.1111111111111111, \"#46039f\"], [0.2222222222222222, \"#7201a8\"], [0.3333333333333333, \"#9c179e\"], [0.4444444444444444, \"#bd3786\"], [0.5555555555555556, \"#d8576b\"], [0.6666666666666666, \"#ed7953\"], [0.7777777777777778, \"#fb9f3a\"], [0.8888888888888888, \"#fdca26\"], [1.0, \"#f0f921\"]], \"sequentialminus\": [[0.0, \"#0d0887\"], [0.1111111111111111, \"#46039f\"], [0.2222222222222222, \"#7201a8\"], [0.3333333333333333, \"#9c179e\"], [0.4444444444444444, \"#bd3786\"], [0.5555555555555556, \"#d8576b\"], [0.6666666666666666, \"#ed7953\"], [0.7777777777777778, \"#fb9f3a\"], [0.8888888888888888, \"#fdca26\"], [1.0, \"#f0f921\"]]}, \"colorway\": [\"#636efa\", \"#EF553B\", \"#00cc96\", \"#ab63fa\", \"#FFA15A\", \"#19d3f3\", \"#FF6692\", \"#B6E880\", \"#FF97FF\", \"#FECB52\"], \"font\": {\"color\": \"#2a3f5f\"}, \"geo\": {\"bgcolor\": \"white\", \"lakecolor\": \"white\", \"landcolor\": \"#E5ECF6\", \"showlakes\": true, \"showland\": true, \"subunitcolor\": \"white\"}, \"hoverlabel\": {\"align\": \"left\"}, \"hovermode\": \"closest\", \"mapbox\": {\"style\": \"light\"}, \"paper_bgcolor\": \"white\", \"plot_bgcolor\": \"#E5ECF6\", \"polar\": {\"angularaxis\": {\"gridcolor\": \"white\", \"linecolor\": \"white\", \"ticks\": \"\"}, \"bgcolor\": \"#E5ECF6\", \"radialaxis\": {\"gridcolor\": \"white\", \"linecolor\": \"white\", \"ticks\": \"\"}}, \"scene\": {\"xaxis\": {\"backgroundcolor\": \"#E5ECF6\", \"gridcolor\": \"white\", \"gridwidth\": 2, \"linecolor\": \"white\", \"showbackground\": true, \"ticks\": \"\", \"zerolinecolor\": \"white\"}, \"yaxis\": {\"backgroundcolor\": \"#E5ECF6\", \"gridcolor\": \"white\", \"gridwidth\": 2, \"linecolor\": \"white\", \"showbackground\": true, \"ticks\": \"\", \"zerolinecolor\": \"white\"}, \"zaxis\": {\"backgroundcolor\": \"#E5ECF6\", \"gridcolor\": \"white\", \"gridwidth\": 2, \"linecolor\": \"white\", \"showbackground\": true, \"ticks\": \"\", \"zerolinecolor\": \"white\"}}, \"shapedefaults\": {\"line\": {\"color\": \"#2a3f5f\"}}, \"ternary\": {\"aaxis\": {\"gridcolor\": \"white\", \"linecolor\": \"white\", \"ticks\": \"\"}, \"baxis\": {\"gridcolor\": \"white\", \"linecolor\": \"white\", \"ticks\": \"\"}, \"bgcolor\": \"#E5ECF6\", \"caxis\": {\"gridcolor\": \"white\", \"linecolor\": \"white\", \"ticks\": \"\"}}, \"title\": {\"x\": 0.05}, \"xaxis\": {\"automargin\": true, \"gridcolor\": \"white\", \"linecolor\": \"white\", \"ticks\": \"\", \"title\": {\"standoff\": 15}, \"zerolinecolor\": \"white\", \"zerolinewidth\": 2}, \"yaxis\": {\"automargin\": true, \"gridcolor\": \"white\", \"linecolor\": \"white\", \"ticks\": \"\", \"title\": {\"standoff\": 15}, \"zerolinecolor\": \"white\", \"zerolinewidth\": 2}}}, \"title\": {\"text\": \"Total number of hospitalizations\"}, \"yaxis\": {\"title\": {\"text\": \"Days\"}}},\n",
       "                        {\"responsive\": true}\n",
       "                    ).then(function(){\n",
       "                            \n",
       "var gd = document.getElementById('017e2272-5cc6-47e5-9ef8-29b15bdd96fb');\n",
       "var x = new MutationObserver(function (mutations, observer) {{\n",
       "        var display = window.getComputedStyle(gd).display;\n",
       "        if (!display || display === 'none') {{\n",
       "            console.log([gd, 'removed!']);\n",
       "            Plotly.purge(gd);\n",
       "            observer.disconnect();\n",
       "        }}\n",
       "}});\n",
       "\n",
       "// Listen for the removal of the full notebook cells\n",
       "var notebookContainer = gd.closest('#notebook-container');\n",
       "if (notebookContainer) {{\n",
       "    x.observe(notebookContainer, {childList: true});\n",
       "}}\n",
       "\n",
       "// Listen for the clearing of the current output cell\n",
       "var outputEl = gd.closest('.output');\n",
       "if (outputEl) {{\n",
       "    x.observe(outputEl, {childList: true});\n",
       "}}\n",
       "\n",
       "                        })\n",
       "                };\n",
       "                });\n",
       "            </script>\n",
       "        </div>"
      ]
     },
     "metadata": {},
     "output_type": "display_data"
    }
   ],
   "source": [
    "fig = go.Figure()\n",
    "plotting.add_gvar_scatter(\n",
    "    fig,\n",
    "    x=fit_res.index,\n",
    "    y=fit_res.hospitalized.values,\n",
    "    name=\"Fit\",\n",
    "    mode=\"markers+lines\",\n",
    "    gv_mode=\"band\",\n",
    "    color=\"#bcbd22\",\n",
    ")\n",
    "fig.update_layout(title=\"Total number of hospitalizations\", yaxis_title=\"Days\")\n",
    "fig.show()"
   ]
  },
  {
   "cell_type": "markdown",
   "metadata": {},
   "source": [
    "## SIHR with distancing without infected"
   ]
  },
  {
   "cell_type": "code",
   "execution_count": 279,
   "metadata": {},
   "outputs": [],
   "source": [
    "fcn = FitFcn(\n",
    "    sihr_step,\n",
    "    columns=[\"hospitalized_new\"],\n",
    "    as_array=True,\n",
    "    drop_rows=[0],\n",
    "    beta_i_fcn=one_minus_logistic_fcn,\n",
    ")\n",
    "prior = {\n",
    "    \"beta_i\": gvar(beta0, beta0 * 0.8),\n",
    "    \"gamma_i\": 1 / (gvar(14, 9) / BIN_SIZE),\n",
    "    \"initial_infected\": gvar(1.0e3, 2.0e3),\n",
    "    \"beta_h\": gvar(0.05, 0.1),\n",
    "    \"gamma_h\": 1 / (gvar(14, 5) / BIN_SIZE),\n",
    "    \"ratio\": gvar(0.7, 0.3),\n",
    "    \"decay_width\": 1 / gvar(4, 1),\n",
    "    \"x0\": gvar(9, 2),\n",
    "}\n",
    "\n",
    "X_SIHR = X.copy()\n",
    "X_SIHR[\"capacity\"] = 20000\n",
    "Y_SIHR_H = Y.T[1].copy()"
   ]
  },
  {
   "cell_type": "code",
   "execution_count": 280,
   "metadata": {},
   "outputs": [
    {
     "name": "stdout",
     "output_type": "stream",
     "text": [
      "Least Square Fit:\n",
      "  chi2/dof [dof] = 2.3 [25]    Q = 0.00016    logGBF = -147.14\n",
      "\n",
      "Parameters:\n",
      "          beta_i   3.41(65)e-07      [ 1.9(1.5)e-07 ]  \n",
      "         gamma_i     0.072 (44)      [   0.071 (46) ]  \n",
      "initial_infected      500 (870)      [  1000 (2000) ]  \n",
      "          beta_h     0.045 (78)      [    0.05 (10) ]  \n",
      "         gamma_h     0.071 (26)      [   0.071 (26) ]  \n",
      "           ratio      0.89 (14)      [    0.70 (30) ]  \n",
      "     decay_width     0.180 (43)      [   0.250 (62) ]  *\n",
      "              x0      9.7 (1.5)      [    9.0 (2.0) ]  \n",
      "\n",
      "Settings:\n",
      "  svdcut/n = 1e-12/0    tol = (1e-08,1e-10,1e-10*)    (itns/time = 66/0.3)\n",
      "  fitter = scipy_least_squares    method = trf\n",
      "\n",
      "Values:\n",
      "                 bi: 3.41(65)e-07        \n",
      "                 gi: 0.072(44)           \n",
      "                 ii: 500(870)            \n",
      "                 bh: 0.045(78)           \n",
      "                 gh: 0.071(26)           \n",
      "                  r: 14.0(8.7)           \n",
      "                 dw: 0.180(43)           \n",
      "                  x: 9.7(1.5)            \n",
      "                 dt: 1.13(21)            \n",
      "\n",
      "Partial % Errors:\n",
      "                         bi        gi        ii        bh        gh         r        dw         x        dt\n",
      "-----------------------------------------------------------------------------------------------------------\n",
      "               y:      5.21      1.90     11.90     15.53      0.00      1.90     12.80      7.95      5.21\n",
      "          beta_i:      7.96      7.48     45.49     43.59      0.00      7.48      5.49      3.99      7.96\n",
      "         gamma_i:      5.26     60.25     21.45     21.16      0.00     60.25      0.28      0.18      5.26\n",
      "initial_infected:      5.13      3.44     75.61     75.63      0.00      3.44      0.33      0.23      5.13\n",
      "          beta_h:      8.83      6.10    135.85    136.42      0.00      6.10      0.76      0.12      8.83\n",
      "         gamma_h:      0.00      0.00      0.00      0.00     35.71      0.00      0.00      0.00      0.00\n",
      "           ratio:      3.03     11.23     57.91     58.50      0.00     11.23      5.92      1.17      3.03\n",
      "     decay_width:      7.15      0.51      3.86      4.89      0.00      0.51     16.47      4.96      7.15\n",
      "              x0:      8.73      0.55      4.52      1.34      0.00      0.55      8.33     11.43      8.73\n",
      "-----------------------------------------------------------------------------------------------------------\n",
      "           total:     18.95     62.17    173.87    174.26     35.71     62.17     23.89     15.36     18.95\n",
      "\n"
     ]
    }
   ],
   "source": [
    "fit = nonlinear_fit(data=(X_SIHR, Y_SIHR_H), fcn=fcn, prior=prior)\n",
    "print(fit)\n",
    "\n",
    "X_SIHR_extra = X_SIHR.copy()\n",
    "X_SIHR_extra[\"n_iter\"] = 100\n",
    "days_extra = date_range(chd_df.index.min(), periods=100 - 1, freq=\"D\")\n",
    "\n",
    "fit_res = FitFcn(sihr_step, drop_rows=[0], beta_i_fcn=one_minus_logistic_fcn,)(\n",
    "    X_SIHR_extra, fit.p\n",
    ")\n",
    "fit_res.index = days_extra\n",
    "\n",
    "outputs = dict(**fit.p)\n",
    "outputs.update(\n",
    "    {\n",
    "        \"doubling_time\": log(2) / (fit.p[\"beta_i\"] * X[\"initial_susceptible\"]),\n",
    "        \"recovery in days\": 1 / fit.p[\"gamma_i\"] * BIN_SIZE,\n",
    "    }\n",
    ")\n",
    "inputs = dict(y=Y, **prior)\n",
    "\n",
    "outputs = {\n",
    "    \"\".join([kk[0] for kk in key.split(\"_\")]): val for key, val in outputs.items()\n",
    "}\n",
    "\n",
    "print(fmt_values(outputs))\n",
    "print(fmt_errorbudget(outputs, inputs))"
   ]
  },
  {
   "cell_type": "code",
   "execution_count": 281,
   "metadata": {
    "scrolled": false
   },
   "outputs": [
    {
     "data": {
      "application/vnd.plotly.v1+json": {
       "config": {
        "plotlyServerURL": "https://plot.ly"
       },
       "data": [
        {
         "error_y": {
          "array": [
           10,
           10,
           10,
           10,
           10,
           10,
           10,
           10,
           15.200000000000001,
           17.1,
           21.1,
           25.3,
           28.5,
           31.3,
           33.2,
           46.95,
           49.050000000000004,
           57.75,
           61.95,
           60.45,
           54.900000000000006,
           59.2,
           69.2,
           61.300000000000004,
           57.85
          ]
         },
         "line": {
          "color": "#1f77b4"
         },
         "mode": "markers+lines",
         "name": "Data",
         "showlegend": false,
         "type": "scatter",
         "x": [
          "2020-03-08T00:00:00",
          "2020-03-09T00:00:00",
          "2020-03-10T00:00:00",
          "2020-03-11T00:00:00",
          "2020-03-12T00:00:00",
          "2020-03-13T00:00:00",
          "2020-03-14T00:00:00",
          "2020-03-15T00:00:00",
          "2020-03-16T00:00:00",
          "2020-03-17T00:00:00",
          "2020-03-18T00:00:00",
          "2020-03-19T00:00:00",
          "2020-03-20T00:00:00",
          "2020-03-21T00:00:00",
          "2020-03-22T00:00:00",
          "2020-03-23T00:00:00",
          "2020-03-24T00:00:00",
          "2020-03-25T00:00:00",
          "2020-03-26T00:00:00",
          "2020-03-27T00:00:00",
          "2020-03-28T00:00:00",
          "2020-03-29T00:00:00",
          "2020-03-30T00:00:00",
          "2020-03-31T00:00:00",
          "2020-04-01T00:00:00"
         ],
         "xaxis": "x",
         "y": [
          14,
          29,
          43,
          66,
          69,
          129,
          151,
          185,
          304,
          342,
          422,
          506,
          570,
          626,
          664,
          939,
          981,
          1155,
          1239,
          1209,
          1098,
          1184,
          1384,
          1226,
          1157
         ],
         "yaxis": "y"
        },
        {
         "line": {
          "color": "#bcbd22",
          "shape": "spline"
         },
         "mode": "lines",
         "showlegend": false,
         "type": "scatter",
         "x": [
          "2020-03-08T00:00:00",
          "2020-03-09T00:00:00",
          "2020-03-10T00:00:00",
          "2020-03-11T00:00:00",
          "2020-03-12T00:00:00",
          "2020-03-13T00:00:00",
          "2020-03-14T00:00:00",
          "2020-03-15T00:00:00",
          "2020-03-16T00:00:00",
          "2020-03-17T00:00:00",
          "2020-03-18T00:00:00",
          "2020-03-19T00:00:00",
          "2020-03-20T00:00:00",
          "2020-03-21T00:00:00",
          "2020-03-22T00:00:00",
          "2020-03-23T00:00:00",
          "2020-03-24T00:00:00",
          "2020-03-25T00:00:00",
          "2020-03-26T00:00:00",
          "2020-03-27T00:00:00",
          "2020-03-28T00:00:00",
          "2020-03-29T00:00:00",
          "2020-03-30T00:00:00",
          "2020-03-31T00:00:00",
          "2020-04-01T00:00:00",
          "2020-04-02T00:00:00",
          "2020-04-03T00:00:00",
          "2020-04-04T00:00:00",
          "2020-04-05T00:00:00",
          "2020-04-06T00:00:00",
          "2020-04-07T00:00:00",
          "2020-04-08T00:00:00",
          "2020-04-09T00:00:00",
          "2020-04-10T00:00:00",
          "2020-04-11T00:00:00",
          "2020-04-12T00:00:00",
          "2020-04-13T00:00:00",
          "2020-04-14T00:00:00",
          "2020-04-15T00:00:00",
          "2020-04-16T00:00:00",
          "2020-04-17T00:00:00",
          "2020-04-18T00:00:00",
          "2020-04-19T00:00:00",
          "2020-04-20T00:00:00",
          "2020-04-21T00:00:00",
          "2020-04-22T00:00:00",
          "2020-04-23T00:00:00",
          "2020-04-24T00:00:00",
          "2020-04-25T00:00:00",
          "2020-04-26T00:00:00",
          "2020-04-27T00:00:00",
          "2020-04-28T00:00:00",
          "2020-04-29T00:00:00",
          "2020-04-30T00:00:00",
          "2020-05-01T00:00:00",
          "2020-05-02T00:00:00",
          "2020-05-03T00:00:00",
          "2020-05-04T00:00:00",
          "2020-05-05T00:00:00",
          "2020-05-06T00:00:00",
          "2020-05-07T00:00:00",
          "2020-05-08T00:00:00",
          "2020-05-09T00:00:00",
          "2020-05-10T00:00:00",
          "2020-05-11T00:00:00",
          "2020-05-12T00:00:00",
          "2020-05-13T00:00:00",
          "2020-05-14T00:00:00",
          "2020-05-15T00:00:00",
          "2020-05-16T00:00:00",
          "2020-05-17T00:00:00",
          "2020-05-18T00:00:00",
          "2020-05-19T00:00:00",
          "2020-05-20T00:00:00",
          "2020-05-21T00:00:00",
          "2020-05-22T00:00:00",
          "2020-05-23T00:00:00",
          "2020-05-24T00:00:00",
          "2020-05-25T00:00:00",
          "2020-05-26T00:00:00",
          "2020-05-27T00:00:00",
          "2020-05-28T00:00:00",
          "2020-05-29T00:00:00",
          "2020-05-30T00:00:00",
          "2020-05-31T00:00:00",
          "2020-06-01T00:00:00",
          "2020-06-02T00:00:00",
          "2020-06-03T00:00:00",
          "2020-06-04T00:00:00",
          "2020-06-05T00:00:00",
          "2020-06-06T00:00:00",
          "2020-06-07T00:00:00",
          "2020-06-08T00:00:00",
          "2020-06-09T00:00:00",
          "2020-06-10T00:00:00",
          "2020-06-11T00:00:00",
          "2020-06-12T00:00:00",
          "2020-06-13T00:00:00",
          "2020-06-14T00:00:00"
         ],
         "xaxis": "x",
         "y": [
          20.021226348111714,
          29.02065662144769,
          41.520282822441615,
          58.57323822406884,
          81.3828365220217,
          111.23255489800195,
          149.36317791236192,
          196.80732642340428,
          254.2284575813761,
          321.8027619928496,
          399.0980823754454,
          484.92173557515565,
          577.2164587485714,
          673.0812727750488,
          768.9592182117102,
          861.0335064117737,
          945.7982954148147,
          1020.5694726465822,
          1083.6681261480192,
          1134.2655174475535,
          1172.0053797948592,
          1196.4449839742588,
          1206.5696304125852,
          1201.4579066520741,
          1181.8837383423515,
          1150.0907474729786,
          1108.5858725264657,
          1059.665495635338,
          1005.35436933433,
          947.4104862071492,
          887.3333913707868,
          826.3758584067938,
          765.5610450703659,
          705.7043771445911,
          647.4382003959205,
          591.237214797082,
          537.4431401024644,
          486.28758290272856,
          437.9125302076863,
          392.388239099014,
          349.72852831473995,
          309.9036249233522,
          272.850800006471,
          238.48306171295667,
          206.6961783096471,
          177.37428990056475,
          150.39434370969536,
          125.6295598181336,
          102.95210554897056,
          82.23512938621667,
          63.35428050037848,
          46.18881810074839,
          30.62239601859028,
          16.543591995279314,
          3.846237836713044,
          0,
          0,
          0,
          0,
          0,
          0,
          0,
          0,
          0,
          0,
          0,
          0,
          0,
          0,
          0,
          0,
          0,
          0,
          0,
          0,
          0,
          0,
          0,
          0,
          0,
          0,
          0,
          0,
          0,
          0,
          0,
          0,
          0,
          0,
          0,
          0,
          0,
          0,
          0,
          0,
          0,
          0,
          0,
          0
         ],
         "yaxis": "y"
        },
        {
         "fill": "tonexty",
         "fillcolor": "rgba(188,189,34,0.5)",
         "line": {
          "color": "#bcbd22",
          "shape": "spline"
         },
         "mode": "lines",
         "name": "Fit",
         "showlegend": true,
         "type": "scatter",
         "x": [
          "2020-03-08T00:00:00",
          "2020-03-09T00:00:00",
          "2020-03-10T00:00:00",
          "2020-03-11T00:00:00",
          "2020-03-12T00:00:00",
          "2020-03-13T00:00:00",
          "2020-03-14T00:00:00",
          "2020-03-15T00:00:00",
          "2020-03-16T00:00:00",
          "2020-03-17T00:00:00",
          "2020-03-18T00:00:00",
          "2020-03-19T00:00:00",
          "2020-03-20T00:00:00",
          "2020-03-21T00:00:00",
          "2020-03-22T00:00:00",
          "2020-03-23T00:00:00",
          "2020-03-24T00:00:00",
          "2020-03-25T00:00:00",
          "2020-03-26T00:00:00",
          "2020-03-27T00:00:00",
          "2020-03-28T00:00:00",
          "2020-03-29T00:00:00",
          "2020-03-30T00:00:00",
          "2020-03-31T00:00:00",
          "2020-04-01T00:00:00",
          "2020-04-02T00:00:00",
          "2020-04-03T00:00:00",
          "2020-04-04T00:00:00",
          "2020-04-05T00:00:00",
          "2020-04-06T00:00:00",
          "2020-04-07T00:00:00",
          "2020-04-08T00:00:00",
          "2020-04-09T00:00:00",
          "2020-04-10T00:00:00",
          "2020-04-11T00:00:00",
          "2020-04-12T00:00:00",
          "2020-04-13T00:00:00",
          "2020-04-14T00:00:00",
          "2020-04-15T00:00:00",
          "2020-04-16T00:00:00",
          "2020-04-17T00:00:00",
          "2020-04-18T00:00:00",
          "2020-04-19T00:00:00",
          "2020-04-20T00:00:00",
          "2020-04-21T00:00:00",
          "2020-04-22T00:00:00",
          "2020-04-23T00:00:00",
          "2020-04-24T00:00:00",
          "2020-04-25T00:00:00",
          "2020-04-26T00:00:00",
          "2020-04-27T00:00:00",
          "2020-04-28T00:00:00",
          "2020-04-29T00:00:00",
          "2020-04-30T00:00:00",
          "2020-05-01T00:00:00",
          "2020-05-02T00:00:00",
          "2020-05-03T00:00:00",
          "2020-05-04T00:00:00",
          "2020-05-05T00:00:00",
          "2020-05-06T00:00:00",
          "2020-05-07T00:00:00",
          "2020-05-08T00:00:00",
          "2020-05-09T00:00:00",
          "2020-05-10T00:00:00",
          "2020-05-11T00:00:00",
          "2020-05-12T00:00:00",
          "2020-05-13T00:00:00",
          "2020-05-14T00:00:00",
          "2020-05-15T00:00:00",
          "2020-05-16T00:00:00",
          "2020-05-17T00:00:00",
          "2020-05-18T00:00:00",
          "2020-05-19T00:00:00",
          "2020-05-20T00:00:00",
          "2020-05-21T00:00:00",
          "2020-05-22T00:00:00",
          "2020-05-23T00:00:00",
          "2020-05-24T00:00:00",
          "2020-05-25T00:00:00",
          "2020-05-26T00:00:00",
          "2020-05-27T00:00:00",
          "2020-05-28T00:00:00",
          "2020-05-29T00:00:00",
          "2020-05-30T00:00:00",
          "2020-05-31T00:00:00",
          "2020-06-01T00:00:00",
          "2020-06-02T00:00:00",
          "2020-06-03T00:00:00",
          "2020-06-04T00:00:00",
          "2020-06-05T00:00:00",
          "2020-06-06T00:00:00",
          "2020-06-07T00:00:00",
          "2020-06-08T00:00:00",
          "2020-06-09T00:00:00",
          "2020-06-10T00:00:00",
          "2020-06-11T00:00:00",
          "2020-06-12T00:00:00",
          "2020-06-13T00:00:00",
          "2020-06-14T00:00:00"
         ],
         "xaxis": "x",
         "y": [
          24.918019770068472,
          34.655821974629355,
          47.855956363091906,
          65.5315857494549,
          88.86404675821245,
          119.16260928270259,
          157.78481908152574,
          205.99957551976746,
          264.7616369457541,
          334.406576223504,
          414.3909525800851,
          503.2025397161902,
          598.4491018488776,
          697.095438556378,
          795.7883746500189,
          891.1426602170272,
          979.8919125339271,
          1059.0046550310408,
          1125.9319428816045,
          1178.953375997919,
          1217.518606953434,
          1242.5967777493825,
          1256.8506790883268,
          1263.626605794902,
          1265.0262535196848,
          1261.8572551176005,
          1254.6290796257085,
          1243.8811666038725,
          1230.1549836731424,
          1213.9452366517173,
          1195.6806223602664,
          1175.7233989978238,
          1154.3769321463342,
          1131.895442770569,
          1108.4933620400943,
          1084.3533196128817,
          1059.6325599395495,
          1034.4679136690415,
          1008.9795682594113,
          983.2738971004649,
          957.4455782351971,
          931.5791914091758,
          905.7504395356407,
          880.0271035096719,
          854.4698093243192,
          829.1326634053305,
          804.0637949889089,
          779.3058320255334,
          754.8963283825997,
          730.8681540954274,
          707.2498563317763,
          684.0659960201913,
          661.3374633268277,
          639.0817740457135,
          617.3133482790433,
          596.0437723779005,
          575.2820448876573,
          555.0348071275127,
          535.3065589847881,
          516.0998604922947,
          497.41551976276855,
          479.25276786671935,
          461.609421252488,
          444.48203231635665,
          427.8660287346121,
          411.75584216808414,
          396.14502694311864,
          381.02636930175606,
          366.3919877988351,
          352.23342540555643,
          338.54173385849697,
          325.3075507707774,
          312.52116999867553,
          300.1726057328874,
          288.2516507593189,
          276.7479293100222,
          265.65094490097374,
          254.9501235300021,
          244.63485258547252,
          234.6945157944393,
          225.11852451795787,
          215.89634568116006,
          207.01752660656638,
          198.47171700095208,
          190.24868832889263,
          182.3383507898798,
          174.7307681005994,
          167.4161702695657,
          160.3849645377899,
          153.62774464647887,
          147.1352985808851,
          140.89861492831756,
          134.90888797793872,
          129.15752168027876,
          123.63613257535376,
          118.33655178984648,
          113.25082619595764,
          108.3712188172296,
          103.69020855985087
         ],
         "yaxis": "y"
        },
        {
         "line": {
          "color": "#1f77b4"
         },
         "mode": "markers+lines",
         "name": "Data",
         "type": "scatter",
         "x": [
          "2020-03-08T00:00:00",
          "2020-03-09T00:00:00",
          "2020-03-10T00:00:00",
          "2020-03-11T00:00:00",
          "2020-03-12T00:00:00",
          "2020-03-13T00:00:00",
          "2020-03-14T00:00:00",
          "2020-03-15T00:00:00",
          "2020-03-16T00:00:00",
          "2020-03-17T00:00:00",
          "2020-03-18T00:00:00",
          "2020-03-19T00:00:00",
          "2020-03-20T00:00:00",
          "2020-03-21T00:00:00",
          "2020-03-22T00:00:00",
          "2020-03-23T00:00:00",
          "2020-03-24T00:00:00",
          "2020-03-25T00:00:00",
          "2020-03-26T00:00:00",
          "2020-03-27T00:00:00",
          "2020-03-28T00:00:00",
          "2020-03-29T00:00:00",
          "2020-03-30T00:00:00",
          "2020-03-31T00:00:00",
          "2020-04-01T00:00:00"
         ],
         "xaxis": "x2",
         "y": [
          20,
          53,
          73,
          156,
          358,
          619,
          641,
          1027,
          2105,
          2387,
          2893,
          3573,
          3804,
          2239,
          2191,
          3242,
          3857,
          4075,
          4146,
          4235,
          2851,
          2956,
          4899,
          3986,
          4089
         ],
         "yaxis": "y2"
        },
        {
         "line": {
          "color": "#bcbd22",
          "shape": "spline"
         },
         "mode": "lines",
         "showlegend": false,
         "type": "scatter",
         "x": [
          "2020-03-08T00:00:00",
          "2020-03-09T00:00:00",
          "2020-03-10T00:00:00",
          "2020-03-11T00:00:00",
          "2020-03-12T00:00:00",
          "2020-03-13T00:00:00",
          "2020-03-14T00:00:00",
          "2020-03-15T00:00:00",
          "2020-03-16T00:00:00",
          "2020-03-17T00:00:00",
          "2020-03-18T00:00:00",
          "2020-03-19T00:00:00",
          "2020-03-20T00:00:00",
          "2020-03-21T00:00:00",
          "2020-03-22T00:00:00",
          "2020-03-23T00:00:00",
          "2020-03-24T00:00:00",
          "2020-03-25T00:00:00",
          "2020-03-26T00:00:00",
          "2020-03-27T00:00:00",
          "2020-03-28T00:00:00",
          "2020-03-29T00:00:00",
          "2020-03-30T00:00:00",
          "2020-03-31T00:00:00",
          "2020-04-01T00:00:00",
          "2020-04-02T00:00:00",
          "2020-04-03T00:00:00",
          "2020-04-04T00:00:00",
          "2020-04-05T00:00:00",
          "2020-04-06T00:00:00",
          "2020-04-07T00:00:00",
          "2020-04-08T00:00:00",
          "2020-04-09T00:00:00",
          "2020-04-10T00:00:00",
          "2020-04-11T00:00:00",
          "2020-04-12T00:00:00",
          "2020-04-13T00:00:00",
          "2020-04-14T00:00:00",
          "2020-04-15T00:00:00",
          "2020-04-16T00:00:00",
          "2020-04-17T00:00:00",
          "2020-04-18T00:00:00",
          "2020-04-19T00:00:00",
          "2020-04-20T00:00:00",
          "2020-04-21T00:00:00",
          "2020-04-22T00:00:00",
          "2020-04-23T00:00:00",
          "2020-04-24T00:00:00",
          "2020-04-25T00:00:00",
          "2020-04-26T00:00:00",
          "2020-04-27T00:00:00",
          "2020-04-28T00:00:00",
          "2020-04-29T00:00:00",
          "2020-04-30T00:00:00",
          "2020-05-01T00:00:00",
          "2020-05-02T00:00:00",
          "2020-05-03T00:00:00",
          "2020-05-04T00:00:00",
          "2020-05-05T00:00:00",
          "2020-05-06T00:00:00",
          "2020-05-07T00:00:00",
          "2020-05-08T00:00:00",
          "2020-05-09T00:00:00",
          "2020-05-10T00:00:00",
          "2020-05-11T00:00:00",
          "2020-05-12T00:00:00",
          "2020-05-13T00:00:00",
          "2020-05-14T00:00:00",
          "2020-05-15T00:00:00",
          "2020-05-16T00:00:00",
          "2020-05-17T00:00:00",
          "2020-05-18T00:00:00",
          "2020-05-19T00:00:00",
          "2020-05-20T00:00:00",
          "2020-05-21T00:00:00",
          "2020-05-22T00:00:00",
          "2020-05-23T00:00:00",
          "2020-05-24T00:00:00",
          "2020-05-25T00:00:00",
          "2020-05-26T00:00:00",
          "2020-05-27T00:00:00",
          "2020-05-28T00:00:00",
          "2020-05-29T00:00:00",
          "2020-05-30T00:00:00",
          "2020-05-31T00:00:00",
          "2020-06-01T00:00:00",
          "2020-06-02T00:00:00",
          "2020-06-03T00:00:00",
          "2020-06-04T00:00:00",
          "2020-06-05T00:00:00",
          "2020-06-06T00:00:00",
          "2020-06-07T00:00:00",
          "2020-06-08T00:00:00",
          "2020-06-09T00:00:00",
          "2020-06-10T00:00:00",
          "2020-06-11T00:00:00",
          "2020-06-12T00:00:00",
          "2020-06-13T00:00:00",
          "2020-06-14T00:00:00"
         ],
         "xaxis": "x2",
         "y": [
          0,
          0,
          0,
          0,
          0,
          0,
          0,
          0,
          0,
          0,
          0,
          0,
          0,
          0,
          0,
          0,
          0,
          0,
          0,
          37.65212962525493,
          256.8863137799026,
          449.5580081083317,
          609.6255217963276,
          733.9832209592296,
          822.0762907006315,
          875.4244881696668,
          897.1184099544912,
          891.3184599835249,
          862.774727457354,
          816.3904382391233,
          756.8586617590327,
          688.3988378705317,
          614.6040522910266,
          538.3896786697953,
          462.01894560044957,
          387.17587632084224,
          315.059388445728,
          246.47980773428912,
          181.94682834821333,
          121.74403355295522,
          65.9890134980501,
          14.680230120088936,
          0,
          0,
          0,
          0,
          0,
          0,
          0,
          0,
          0,
          0,
          0,
          0,
          0,
          0,
          0,
          0,
          0,
          0,
          0,
          0,
          0,
          0,
          0,
          0,
          0,
          0,
          0,
          0,
          0,
          0,
          0,
          0,
          0,
          0,
          0,
          0,
          0,
          0,
          0,
          0,
          0,
          0,
          0,
          0,
          0,
          0,
          0,
          0,
          0,
          0,
          0,
          0,
          0,
          0,
          0,
          0,
          0
         ],
         "yaxis": "y2"
        },
        {
         "fill": "tonexty",
         "fillcolor": "rgba(188,189,34,0.5)",
         "line": {
          "color": "#bcbd22",
          "shape": "spline"
         },
         "mode": "lines",
         "name": "Prediction",
         "showlegend": false,
         "type": "scatter",
         "x": [
          "2020-03-08T00:00:00",
          "2020-03-09T00:00:00",
          "2020-03-10T00:00:00",
          "2020-03-11T00:00:00",
          "2020-03-12T00:00:00",
          "2020-03-13T00:00:00",
          "2020-03-14T00:00:00",
          "2020-03-15T00:00:00",
          "2020-03-16T00:00:00",
          "2020-03-17T00:00:00",
          "2020-03-18T00:00:00",
          "2020-03-19T00:00:00",
          "2020-03-20T00:00:00",
          "2020-03-21T00:00:00",
          "2020-03-22T00:00:00",
          "2020-03-23T00:00:00",
          "2020-03-24T00:00:00",
          "2020-03-25T00:00:00",
          "2020-03-26T00:00:00",
          "2020-03-27T00:00:00",
          "2020-03-28T00:00:00",
          "2020-03-29T00:00:00",
          "2020-03-30T00:00:00",
          "2020-03-31T00:00:00",
          "2020-04-01T00:00:00",
          "2020-04-02T00:00:00",
          "2020-04-03T00:00:00",
          "2020-04-04T00:00:00",
          "2020-04-05T00:00:00",
          "2020-04-06T00:00:00",
          "2020-04-07T00:00:00",
          "2020-04-08T00:00:00",
          "2020-04-09T00:00:00",
          "2020-04-10T00:00:00",
          "2020-04-11T00:00:00",
          "2020-04-12T00:00:00",
          "2020-04-13T00:00:00",
          "2020-04-14T00:00:00",
          "2020-04-15T00:00:00",
          "2020-04-16T00:00:00",
          "2020-04-17T00:00:00",
          "2020-04-18T00:00:00",
          "2020-04-19T00:00:00",
          "2020-04-20T00:00:00",
          "2020-04-21T00:00:00",
          "2020-04-22T00:00:00",
          "2020-04-23T00:00:00",
          "2020-04-24T00:00:00",
          "2020-04-25T00:00:00",
          "2020-04-26T00:00:00",
          "2020-04-27T00:00:00",
          "2020-04-28T00:00:00",
          "2020-04-29T00:00:00",
          "2020-04-30T00:00:00",
          "2020-05-01T00:00:00",
          "2020-05-02T00:00:00",
          "2020-05-03T00:00:00",
          "2020-05-04T00:00:00",
          "2020-05-05T00:00:00",
          "2020-05-06T00:00:00",
          "2020-05-07T00:00:00",
          "2020-05-08T00:00:00",
          "2020-05-09T00:00:00",
          "2020-05-10T00:00:00",
          "2020-05-11T00:00:00",
          "2020-05-12T00:00:00",
          "2020-05-13T00:00:00",
          "2020-05-14T00:00:00",
          "2020-05-15T00:00:00",
          "2020-05-16T00:00:00",
          "2020-05-17T00:00:00",
          "2020-05-18T00:00:00",
          "2020-05-19T00:00:00",
          "2020-05-20T00:00:00",
          "2020-05-21T00:00:00",
          "2020-05-22T00:00:00",
          "2020-05-23T00:00:00",
          "2020-05-24T00:00:00",
          "2020-05-25T00:00:00",
          "2020-05-26T00:00:00",
          "2020-05-27T00:00:00",
          "2020-05-28T00:00:00",
          "2020-05-29T00:00:00",
          "2020-05-30T00:00:00",
          "2020-05-31T00:00:00",
          "2020-06-01T00:00:00",
          "2020-06-02T00:00:00",
          "2020-06-03T00:00:00",
          "2020-06-04T00:00:00",
          "2020-06-05T00:00:00",
          "2020-06-06T00:00:00",
          "2020-06-07T00:00:00",
          "2020-06-08T00:00:00",
          "2020-06-09T00:00:00",
          "2020-06-10T00:00:00",
          "2020-06-11T00:00:00",
          "2020-06-12T00:00:00",
          "2020-06-13T00:00:00",
          "2020-06-14T00:00:00"
         ],
         "xaxis": "x2",
         "y": [
          717.7325106839539,
          991.3540372429818,
          1350.9176810888284,
          1812.9508404817243,
          2391.6483664479115,
          3095.678486629553,
          3924.450968875316,
          4864.545692253598,
          5887.336062320033,
          6948.940616674126,
          7993.312198117957,
          8958.485499065226,
          9784.960462982233,
          10424.331859798434,
          10846.025920923912,
          11040.547613257218,
          11018.74847693048,
          10807.793009727962,
          10445.257459214847,
          9972.938745282183,
          9431.593369898244,
          8857.243644603774,
          8279.144952859884,
          7719.149792927294,
          7192.055520446009,
          6706.530634423078,
          6266.303385300296,
          5871.401800356841,
          5519.317791119938,
          5206.0201546323915,
          4926.772332946985,
          4676.735819610747,
          4451.365911567367,
          4246.629595436625,
          4059.089169813938,
          3885.8972983027065,
          3724.7423955218424,
          3573.772579826007,
          3431.5159784183516,
          3296.8070069587347,
          3168.7227744144516,
          3046.5305401588876,
          2929.645495497192,
          2817.597453341497,
          2710.004874755275,
          2606.5547657953093,
          2506.9871854922603,
          2411.0833339339574,
          2318.6564002519353,
          2229.5445297347896,
          2143.6054150789096,
          2060.7121319794587,
          1980.749928713752,
          1903.6137480858413,
          1829.2063125542904,
          1757.4366432686188,
          1688.2189140570877,
          1621.4715644462249,
          1557.1166133202692,
          1495.079128190503,
          1435.2868152554993,
          1377.6697032585914,
          1322.1599001637683,
          1268.6914063091322,
          1217.1999712844545,
          1167.622984562782,
          1119.8993920824755,
          1073.969632666861,
          1029.7755894922097,
          987.2605528532049,
          946.3691912918255,
          907.0475287993107,
          869.2429263089648,
          832.9040660993044,
          797.9809380449119,
          764.4248269039514,
          732.1883000304912,
          701.2251950573275,
          671.4906072194308,
          642.9408760861908,
          615.5335715476261,
          589.2274789598995,
          563.9825834021805,
          539.7600530328522,
          516.5222215603928,
          494.23256986469266,
          472.8557068195447,
          452.3573493775839,
          432.70430198606425,
          413.86443540617984,
          395.80666501081623,
          378.5009286360871,
          361.9181640611981,
          346.0302861893351,
          330.81016399971793,
          316.2315973378436,
          302.26929360743463,
          288.8988444238752,
          276.0967022850027
         ],
         "yaxis": "y2"
        }
       ],
       "layout": {
        "annotations": [
         {
          "font": {
           "size": 16
          },
          "showarrow": false,
          "text": "New hospitalizations",
          "x": 0.225,
          "xanchor": "center",
          "xref": "paper",
          "y": 1,
          "yanchor": "bottom",
          "yref": "paper"
         },
         {
          "font": {
           "size": 16
          },
          "showarrow": false,
          "text": "New Infections (Prediction)",
          "x": 0.775,
          "xanchor": "center",
          "xref": "paper",
          "y": 1,
          "yanchor": "bottom",
          "yref": "paper"
         }
        ],
        "template": {
         "data": {
          "bar": [
           {
            "error_x": {
             "color": "#2a3f5f"
            },
            "error_y": {
             "color": "#2a3f5f"
            },
            "marker": {
             "line": {
              "color": "#E5ECF6",
              "width": 0.5
             }
            },
            "type": "bar"
           }
          ],
          "barpolar": [
           {
            "marker": {
             "line": {
              "color": "#E5ECF6",
              "width": 0.5
             }
            },
            "type": "barpolar"
           }
          ],
          "carpet": [
           {
            "aaxis": {
             "endlinecolor": "#2a3f5f",
             "gridcolor": "white",
             "linecolor": "white",
             "minorgridcolor": "white",
             "startlinecolor": "#2a3f5f"
            },
            "baxis": {
             "endlinecolor": "#2a3f5f",
             "gridcolor": "white",
             "linecolor": "white",
             "minorgridcolor": "white",
             "startlinecolor": "#2a3f5f"
            },
            "type": "carpet"
           }
          ],
          "choropleth": [
           {
            "colorbar": {
             "outlinewidth": 0,
             "ticks": ""
            },
            "type": "choropleth"
           }
          ],
          "contour": [
           {
            "colorbar": {
             "outlinewidth": 0,
             "ticks": ""
            },
            "colorscale": [
             [
              0,
              "#0d0887"
             ],
             [
              0.1111111111111111,
              "#46039f"
             ],
             [
              0.2222222222222222,
              "#7201a8"
             ],
             [
              0.3333333333333333,
              "#9c179e"
             ],
             [
              0.4444444444444444,
              "#bd3786"
             ],
             [
              0.5555555555555556,
              "#d8576b"
             ],
             [
              0.6666666666666666,
              "#ed7953"
             ],
             [
              0.7777777777777778,
              "#fb9f3a"
             ],
             [
              0.8888888888888888,
              "#fdca26"
             ],
             [
              1,
              "#f0f921"
             ]
            ],
            "type": "contour"
           }
          ],
          "contourcarpet": [
           {
            "colorbar": {
             "outlinewidth": 0,
             "ticks": ""
            },
            "type": "contourcarpet"
           }
          ],
          "heatmap": [
           {
            "colorbar": {
             "outlinewidth": 0,
             "ticks": ""
            },
            "colorscale": [
             [
              0,
              "#0d0887"
             ],
             [
              0.1111111111111111,
              "#46039f"
             ],
             [
              0.2222222222222222,
              "#7201a8"
             ],
             [
              0.3333333333333333,
              "#9c179e"
             ],
             [
              0.4444444444444444,
              "#bd3786"
             ],
             [
              0.5555555555555556,
              "#d8576b"
             ],
             [
              0.6666666666666666,
              "#ed7953"
             ],
             [
              0.7777777777777778,
              "#fb9f3a"
             ],
             [
              0.8888888888888888,
              "#fdca26"
             ],
             [
              1,
              "#f0f921"
             ]
            ],
            "type": "heatmap"
           }
          ],
          "heatmapgl": [
           {
            "colorbar": {
             "outlinewidth": 0,
             "ticks": ""
            },
            "colorscale": [
             [
              0,
              "#0d0887"
             ],
             [
              0.1111111111111111,
              "#46039f"
             ],
             [
              0.2222222222222222,
              "#7201a8"
             ],
             [
              0.3333333333333333,
              "#9c179e"
             ],
             [
              0.4444444444444444,
              "#bd3786"
             ],
             [
              0.5555555555555556,
              "#d8576b"
             ],
             [
              0.6666666666666666,
              "#ed7953"
             ],
             [
              0.7777777777777778,
              "#fb9f3a"
             ],
             [
              0.8888888888888888,
              "#fdca26"
             ],
             [
              1,
              "#f0f921"
             ]
            ],
            "type": "heatmapgl"
           }
          ],
          "histogram": [
           {
            "marker": {
             "colorbar": {
              "outlinewidth": 0,
              "ticks": ""
             }
            },
            "type": "histogram"
           }
          ],
          "histogram2d": [
           {
            "colorbar": {
             "outlinewidth": 0,
             "ticks": ""
            },
            "colorscale": [
             [
              0,
              "#0d0887"
             ],
             [
              0.1111111111111111,
              "#46039f"
             ],
             [
              0.2222222222222222,
              "#7201a8"
             ],
             [
              0.3333333333333333,
              "#9c179e"
             ],
             [
              0.4444444444444444,
              "#bd3786"
             ],
             [
              0.5555555555555556,
              "#d8576b"
             ],
             [
              0.6666666666666666,
              "#ed7953"
             ],
             [
              0.7777777777777778,
              "#fb9f3a"
             ],
             [
              0.8888888888888888,
              "#fdca26"
             ],
             [
              1,
              "#f0f921"
             ]
            ],
            "type": "histogram2d"
           }
          ],
          "histogram2dcontour": [
           {
            "colorbar": {
             "outlinewidth": 0,
             "ticks": ""
            },
            "colorscale": [
             [
              0,
              "#0d0887"
             ],
             [
              0.1111111111111111,
              "#46039f"
             ],
             [
              0.2222222222222222,
              "#7201a8"
             ],
             [
              0.3333333333333333,
              "#9c179e"
             ],
             [
              0.4444444444444444,
              "#bd3786"
             ],
             [
              0.5555555555555556,
              "#d8576b"
             ],
             [
              0.6666666666666666,
              "#ed7953"
             ],
             [
              0.7777777777777778,
              "#fb9f3a"
             ],
             [
              0.8888888888888888,
              "#fdca26"
             ],
             [
              1,
              "#f0f921"
             ]
            ],
            "type": "histogram2dcontour"
           }
          ],
          "mesh3d": [
           {
            "colorbar": {
             "outlinewidth": 0,
             "ticks": ""
            },
            "type": "mesh3d"
           }
          ],
          "parcoords": [
           {
            "line": {
             "colorbar": {
              "outlinewidth": 0,
              "ticks": ""
             }
            },
            "type": "parcoords"
           }
          ],
          "pie": [
           {
            "automargin": true,
            "type": "pie"
           }
          ],
          "scatter": [
           {
            "marker": {
             "colorbar": {
              "outlinewidth": 0,
              "ticks": ""
             }
            },
            "type": "scatter"
           }
          ],
          "scatter3d": [
           {
            "line": {
             "colorbar": {
              "outlinewidth": 0,
              "ticks": ""
             }
            },
            "marker": {
             "colorbar": {
              "outlinewidth": 0,
              "ticks": ""
             }
            },
            "type": "scatter3d"
           }
          ],
          "scattercarpet": [
           {
            "marker": {
             "colorbar": {
              "outlinewidth": 0,
              "ticks": ""
             }
            },
            "type": "scattercarpet"
           }
          ],
          "scattergeo": [
           {
            "marker": {
             "colorbar": {
              "outlinewidth": 0,
              "ticks": ""
             }
            },
            "type": "scattergeo"
           }
          ],
          "scattergl": [
           {
            "marker": {
             "colorbar": {
              "outlinewidth": 0,
              "ticks": ""
             }
            },
            "type": "scattergl"
           }
          ],
          "scattermapbox": [
           {
            "marker": {
             "colorbar": {
              "outlinewidth": 0,
              "ticks": ""
             }
            },
            "type": "scattermapbox"
           }
          ],
          "scatterpolar": [
           {
            "marker": {
             "colorbar": {
              "outlinewidth": 0,
              "ticks": ""
             }
            },
            "type": "scatterpolar"
           }
          ],
          "scatterpolargl": [
           {
            "marker": {
             "colorbar": {
              "outlinewidth": 0,
              "ticks": ""
             }
            },
            "type": "scatterpolargl"
           }
          ],
          "scatterternary": [
           {
            "marker": {
             "colorbar": {
              "outlinewidth": 0,
              "ticks": ""
             }
            },
            "type": "scatterternary"
           }
          ],
          "surface": [
           {
            "colorbar": {
             "outlinewidth": 0,
             "ticks": ""
            },
            "colorscale": [
             [
              0,
              "#0d0887"
             ],
             [
              0.1111111111111111,
              "#46039f"
             ],
             [
              0.2222222222222222,
              "#7201a8"
             ],
             [
              0.3333333333333333,
              "#9c179e"
             ],
             [
              0.4444444444444444,
              "#bd3786"
             ],
             [
              0.5555555555555556,
              "#d8576b"
             ],
             [
              0.6666666666666666,
              "#ed7953"
             ],
             [
              0.7777777777777778,
              "#fb9f3a"
             ],
             [
              0.8888888888888888,
              "#fdca26"
             ],
             [
              1,
              "#f0f921"
             ]
            ],
            "type": "surface"
           }
          ],
          "table": [
           {
            "cells": {
             "fill": {
              "color": "#EBF0F8"
             },
             "line": {
              "color": "white"
             }
            },
            "header": {
             "fill": {
              "color": "#C8D4E3"
             },
             "line": {
              "color": "white"
             }
            },
            "type": "table"
           }
          ]
         },
         "layout": {
          "annotationdefaults": {
           "arrowcolor": "#2a3f5f",
           "arrowhead": 0,
           "arrowwidth": 1
          },
          "coloraxis": {
           "colorbar": {
            "outlinewidth": 0,
            "ticks": ""
           }
          },
          "colorscale": {
           "diverging": [
            [
             0,
             "#8e0152"
            ],
            [
             0.1,
             "#c51b7d"
            ],
            [
             0.2,
             "#de77ae"
            ],
            [
             0.3,
             "#f1b6da"
            ],
            [
             0.4,
             "#fde0ef"
            ],
            [
             0.5,
             "#f7f7f7"
            ],
            [
             0.6,
             "#e6f5d0"
            ],
            [
             0.7,
             "#b8e186"
            ],
            [
             0.8,
             "#7fbc41"
            ],
            [
             0.9,
             "#4d9221"
            ],
            [
             1,
             "#276419"
            ]
           ],
           "sequential": [
            [
             0,
             "#0d0887"
            ],
            [
             0.1111111111111111,
             "#46039f"
            ],
            [
             0.2222222222222222,
             "#7201a8"
            ],
            [
             0.3333333333333333,
             "#9c179e"
            ],
            [
             0.4444444444444444,
             "#bd3786"
            ],
            [
             0.5555555555555556,
             "#d8576b"
            ],
            [
             0.6666666666666666,
             "#ed7953"
            ],
            [
             0.7777777777777778,
             "#fb9f3a"
            ],
            [
             0.8888888888888888,
             "#fdca26"
            ],
            [
             1,
             "#f0f921"
            ]
           ],
           "sequentialminus": [
            [
             0,
             "#0d0887"
            ],
            [
             0.1111111111111111,
             "#46039f"
            ],
            [
             0.2222222222222222,
             "#7201a8"
            ],
            [
             0.3333333333333333,
             "#9c179e"
            ],
            [
             0.4444444444444444,
             "#bd3786"
            ],
            [
             0.5555555555555556,
             "#d8576b"
            ],
            [
             0.6666666666666666,
             "#ed7953"
            ],
            [
             0.7777777777777778,
             "#fb9f3a"
            ],
            [
             0.8888888888888888,
             "#fdca26"
            ],
            [
             1,
             "#f0f921"
            ]
           ]
          },
          "colorway": [
           "#636efa",
           "#EF553B",
           "#00cc96",
           "#ab63fa",
           "#FFA15A",
           "#19d3f3",
           "#FF6692",
           "#B6E880",
           "#FF97FF",
           "#FECB52"
          ],
          "font": {
           "color": "#2a3f5f"
          },
          "geo": {
           "bgcolor": "white",
           "lakecolor": "white",
           "landcolor": "#E5ECF6",
           "showlakes": true,
           "showland": true,
           "subunitcolor": "white"
          },
          "hoverlabel": {
           "align": "left"
          },
          "hovermode": "closest",
          "mapbox": {
           "style": "light"
          },
          "paper_bgcolor": "white",
          "plot_bgcolor": "#E5ECF6",
          "polar": {
           "angularaxis": {
            "gridcolor": "white",
            "linecolor": "white",
            "ticks": ""
           },
           "bgcolor": "#E5ECF6",
           "radialaxis": {
            "gridcolor": "white",
            "linecolor": "white",
            "ticks": ""
           }
          },
          "scene": {
           "xaxis": {
            "backgroundcolor": "#E5ECF6",
            "gridcolor": "white",
            "gridwidth": 2,
            "linecolor": "white",
            "showbackground": true,
            "ticks": "",
            "zerolinecolor": "white"
           },
           "yaxis": {
            "backgroundcolor": "#E5ECF6",
            "gridcolor": "white",
            "gridwidth": 2,
            "linecolor": "white",
            "showbackground": true,
            "ticks": "",
            "zerolinecolor": "white"
           },
           "zaxis": {
            "backgroundcolor": "#E5ECF6",
            "gridcolor": "white",
            "gridwidth": 2,
            "linecolor": "white",
            "showbackground": true,
            "ticks": "",
            "zerolinecolor": "white"
           }
          },
          "shapedefaults": {
           "line": {
            "color": "#2a3f5f"
           }
          },
          "ternary": {
           "aaxis": {
            "gridcolor": "white",
            "linecolor": "white",
            "ticks": ""
           },
           "baxis": {
            "gridcolor": "white",
            "linecolor": "white",
            "ticks": ""
           },
           "bgcolor": "#E5ECF6",
           "caxis": {
            "gridcolor": "white",
            "linecolor": "white",
            "ticks": ""
           }
          },
          "title": {
           "x": 0.05
          },
          "xaxis": {
           "automargin": true,
           "gridcolor": "white",
           "linecolor": "white",
           "ticks": "",
           "title": {
            "standoff": 15
           },
           "zerolinecolor": "white",
           "zerolinewidth": 2
          },
          "yaxis": {
           "automargin": true,
           "gridcolor": "white",
           "linecolor": "white",
           "ticks": "",
           "title": {
            "standoff": 15
           },
           "zerolinecolor": "white",
           "zerolinewidth": 2
          }
         }
        },
        "xaxis": {
         "anchor": "y",
         "domain": [
          0,
          0.45
         ]
        },
        "xaxis2": {
         "anchor": "y2",
         "domain": [
          0.55,
          1
         ]
        },
        "yaxis": {
         "anchor": "x",
         "domain": [
          0,
          1
         ]
        },
        "yaxis2": {
         "anchor": "x2",
         "domain": [
          0,
          1
         ]
        }
       }
      },
      "text/html": [
       "<div>\n",
       "        \n",
       "        \n",
       "            <div id=\"334d0652-1704-47de-a0dd-96cd8edd008d\" class=\"plotly-graph-div\" style=\"height:525px; width:100%;\"></div>\n",
       "            <script type=\"text/javascript\">\n",
       "                require([\"plotly\"], function(Plotly) {\n",
       "                    window.PLOTLYENV=window.PLOTLYENV || {};\n",
       "                    \n",
       "                if (document.getElementById(\"334d0652-1704-47de-a0dd-96cd8edd008d\")) {\n",
       "                    Plotly.newPlot(\n",
       "                        '334d0652-1704-47de-a0dd-96cd8edd008d',\n",
       "                        [{\"error_y\": {\"array\": [10.0, 10.0, 10.0, 10.0, 10.0, 10.0, 10.0, 10.0, 15.200000000000001, 17.1, 21.1, 25.3, 28.5, 31.3, 33.2, 46.95, 49.050000000000004, 57.75, 61.95, 60.45, 54.900000000000006, 59.2, 69.2, 61.300000000000004, 57.85]}, \"line\": {\"color\": \"#1f77b4\"}, \"mode\": \"markers+lines\", \"name\": \"Data\", \"showlegend\": false, \"type\": \"scatter\", \"x\": [\"2020-03-08T00:00:00\", \"2020-03-09T00:00:00\", \"2020-03-10T00:00:00\", \"2020-03-11T00:00:00\", \"2020-03-12T00:00:00\", \"2020-03-13T00:00:00\", \"2020-03-14T00:00:00\", \"2020-03-15T00:00:00\", \"2020-03-16T00:00:00\", \"2020-03-17T00:00:00\", \"2020-03-18T00:00:00\", \"2020-03-19T00:00:00\", \"2020-03-20T00:00:00\", \"2020-03-21T00:00:00\", \"2020-03-22T00:00:00\", \"2020-03-23T00:00:00\", \"2020-03-24T00:00:00\", \"2020-03-25T00:00:00\", \"2020-03-26T00:00:00\", \"2020-03-27T00:00:00\", \"2020-03-28T00:00:00\", \"2020-03-29T00:00:00\", \"2020-03-30T00:00:00\", \"2020-03-31T00:00:00\", \"2020-04-01T00:00:00\"], \"xaxis\": \"x\", \"y\": [14, 29, 43, 66, 69, 129, 151, 185, 304, 342, 422, 506, 570, 626, 664, 939, 981, 1155, 1239, 1209, 1098, 1184, 1384, 1226, 1157], \"yaxis\": \"y\"}, {\"line\": {\"color\": \"#bcbd22\", \"shape\": \"spline\"}, \"mode\": \"lines\", \"showlegend\": false, \"type\": \"scatter\", \"x\": [\"2020-03-08T00:00:00\", \"2020-03-09T00:00:00\", \"2020-03-10T00:00:00\", \"2020-03-11T00:00:00\", \"2020-03-12T00:00:00\", \"2020-03-13T00:00:00\", \"2020-03-14T00:00:00\", \"2020-03-15T00:00:00\", \"2020-03-16T00:00:00\", \"2020-03-17T00:00:00\", \"2020-03-18T00:00:00\", \"2020-03-19T00:00:00\", \"2020-03-20T00:00:00\", \"2020-03-21T00:00:00\", \"2020-03-22T00:00:00\", \"2020-03-23T00:00:00\", \"2020-03-24T00:00:00\", \"2020-03-25T00:00:00\", \"2020-03-26T00:00:00\", \"2020-03-27T00:00:00\", \"2020-03-28T00:00:00\", \"2020-03-29T00:00:00\", \"2020-03-30T00:00:00\", \"2020-03-31T00:00:00\", \"2020-04-01T00:00:00\", \"2020-04-02T00:00:00\", \"2020-04-03T00:00:00\", \"2020-04-04T00:00:00\", \"2020-04-05T00:00:00\", \"2020-04-06T00:00:00\", \"2020-04-07T00:00:00\", \"2020-04-08T00:00:00\", \"2020-04-09T00:00:00\", \"2020-04-10T00:00:00\", \"2020-04-11T00:00:00\", \"2020-04-12T00:00:00\", \"2020-04-13T00:00:00\", \"2020-04-14T00:00:00\", \"2020-04-15T00:00:00\", \"2020-04-16T00:00:00\", \"2020-04-17T00:00:00\", \"2020-04-18T00:00:00\", \"2020-04-19T00:00:00\", \"2020-04-20T00:00:00\", \"2020-04-21T00:00:00\", \"2020-04-22T00:00:00\", \"2020-04-23T00:00:00\", \"2020-04-24T00:00:00\", \"2020-04-25T00:00:00\", \"2020-04-26T00:00:00\", \"2020-04-27T00:00:00\", \"2020-04-28T00:00:00\", \"2020-04-29T00:00:00\", \"2020-04-30T00:00:00\", \"2020-05-01T00:00:00\", \"2020-05-02T00:00:00\", \"2020-05-03T00:00:00\", \"2020-05-04T00:00:00\", \"2020-05-05T00:00:00\", \"2020-05-06T00:00:00\", \"2020-05-07T00:00:00\", \"2020-05-08T00:00:00\", \"2020-05-09T00:00:00\", \"2020-05-10T00:00:00\", \"2020-05-11T00:00:00\", \"2020-05-12T00:00:00\", \"2020-05-13T00:00:00\", \"2020-05-14T00:00:00\", \"2020-05-15T00:00:00\", \"2020-05-16T00:00:00\", \"2020-05-17T00:00:00\", \"2020-05-18T00:00:00\", \"2020-05-19T00:00:00\", \"2020-05-20T00:00:00\", \"2020-05-21T00:00:00\", \"2020-05-22T00:00:00\", \"2020-05-23T00:00:00\", \"2020-05-24T00:00:00\", \"2020-05-25T00:00:00\", \"2020-05-26T00:00:00\", \"2020-05-27T00:00:00\", \"2020-05-28T00:00:00\", \"2020-05-29T00:00:00\", \"2020-05-30T00:00:00\", \"2020-05-31T00:00:00\", \"2020-06-01T00:00:00\", \"2020-06-02T00:00:00\", \"2020-06-03T00:00:00\", \"2020-06-04T00:00:00\", \"2020-06-05T00:00:00\", \"2020-06-06T00:00:00\", \"2020-06-07T00:00:00\", \"2020-06-08T00:00:00\", \"2020-06-09T00:00:00\", \"2020-06-10T00:00:00\", \"2020-06-11T00:00:00\", \"2020-06-12T00:00:00\", \"2020-06-13T00:00:00\", \"2020-06-14T00:00:00\"], \"xaxis\": \"x\", \"y\": [20.021226348111714, 29.02065662144769, 41.520282822441615, 58.57323822406884, 81.3828365220217, 111.23255489800195, 149.36317791236192, 196.80732642340428, 254.2284575813761, 321.8027619928496, 399.0980823754454, 484.92173557515565, 577.2164587485714, 673.0812727750488, 768.9592182117102, 861.0335064117737, 945.7982954148147, 1020.5694726465822, 1083.6681261480192, 1134.2655174475535, 1172.0053797948592, 1196.4449839742588, 1206.5696304125852, 1201.4579066520741, 1181.8837383423515, 1150.0907474729786, 1108.5858725264657, 1059.665495635338, 1005.35436933433, 947.4104862071492, 887.3333913707868, 826.3758584067938, 765.5610450703659, 705.7043771445911, 647.4382003959205, 591.237214797082, 537.4431401024644, 486.28758290272856, 437.9125302076863, 392.388239099014, 349.72852831473995, 309.9036249233522, 272.850800006471, 238.48306171295667, 206.6961783096471, 177.37428990056475, 150.39434370969536, 125.6295598181336, 102.95210554897056, 82.23512938621667, 63.35428050037848, 46.18881810074839, 30.62239601859028, 16.543591995279314, 3.846237836713044, 0, 0, 0, 0, 0, 0, 0, 0, 0, 0, 0, 0, 0, 0, 0, 0, 0, 0, 0, 0, 0, 0, 0, 0, 0, 0, 0, 0, 0, 0, 0, 0, 0, 0, 0, 0, 0, 0, 0, 0, 0, 0, 0, 0], \"yaxis\": \"y\"}, {\"fill\": \"tonexty\", \"fillcolor\": \"rgba(188,189,34,0.5)\", \"line\": {\"color\": \"#bcbd22\", \"shape\": \"spline\"}, \"mode\": \"lines\", \"name\": \"Fit\", \"showlegend\": true, \"type\": \"scatter\", \"x\": [\"2020-03-08T00:00:00\", \"2020-03-09T00:00:00\", \"2020-03-10T00:00:00\", \"2020-03-11T00:00:00\", \"2020-03-12T00:00:00\", \"2020-03-13T00:00:00\", \"2020-03-14T00:00:00\", \"2020-03-15T00:00:00\", \"2020-03-16T00:00:00\", \"2020-03-17T00:00:00\", \"2020-03-18T00:00:00\", \"2020-03-19T00:00:00\", \"2020-03-20T00:00:00\", \"2020-03-21T00:00:00\", \"2020-03-22T00:00:00\", \"2020-03-23T00:00:00\", \"2020-03-24T00:00:00\", \"2020-03-25T00:00:00\", \"2020-03-26T00:00:00\", \"2020-03-27T00:00:00\", \"2020-03-28T00:00:00\", \"2020-03-29T00:00:00\", \"2020-03-30T00:00:00\", \"2020-03-31T00:00:00\", \"2020-04-01T00:00:00\", \"2020-04-02T00:00:00\", \"2020-04-03T00:00:00\", \"2020-04-04T00:00:00\", \"2020-04-05T00:00:00\", \"2020-04-06T00:00:00\", \"2020-04-07T00:00:00\", \"2020-04-08T00:00:00\", \"2020-04-09T00:00:00\", \"2020-04-10T00:00:00\", \"2020-04-11T00:00:00\", \"2020-04-12T00:00:00\", \"2020-04-13T00:00:00\", \"2020-04-14T00:00:00\", \"2020-04-15T00:00:00\", \"2020-04-16T00:00:00\", \"2020-04-17T00:00:00\", \"2020-04-18T00:00:00\", \"2020-04-19T00:00:00\", \"2020-04-20T00:00:00\", \"2020-04-21T00:00:00\", \"2020-04-22T00:00:00\", \"2020-04-23T00:00:00\", \"2020-04-24T00:00:00\", \"2020-04-25T00:00:00\", \"2020-04-26T00:00:00\", \"2020-04-27T00:00:00\", \"2020-04-28T00:00:00\", \"2020-04-29T00:00:00\", \"2020-04-30T00:00:00\", \"2020-05-01T00:00:00\", \"2020-05-02T00:00:00\", \"2020-05-03T00:00:00\", \"2020-05-04T00:00:00\", \"2020-05-05T00:00:00\", \"2020-05-06T00:00:00\", \"2020-05-07T00:00:00\", \"2020-05-08T00:00:00\", \"2020-05-09T00:00:00\", \"2020-05-10T00:00:00\", \"2020-05-11T00:00:00\", \"2020-05-12T00:00:00\", \"2020-05-13T00:00:00\", \"2020-05-14T00:00:00\", \"2020-05-15T00:00:00\", \"2020-05-16T00:00:00\", \"2020-05-17T00:00:00\", \"2020-05-18T00:00:00\", \"2020-05-19T00:00:00\", \"2020-05-20T00:00:00\", \"2020-05-21T00:00:00\", \"2020-05-22T00:00:00\", \"2020-05-23T00:00:00\", \"2020-05-24T00:00:00\", \"2020-05-25T00:00:00\", \"2020-05-26T00:00:00\", \"2020-05-27T00:00:00\", \"2020-05-28T00:00:00\", \"2020-05-29T00:00:00\", \"2020-05-30T00:00:00\", \"2020-05-31T00:00:00\", \"2020-06-01T00:00:00\", \"2020-06-02T00:00:00\", \"2020-06-03T00:00:00\", \"2020-06-04T00:00:00\", \"2020-06-05T00:00:00\", \"2020-06-06T00:00:00\", \"2020-06-07T00:00:00\", \"2020-06-08T00:00:00\", \"2020-06-09T00:00:00\", \"2020-06-10T00:00:00\", \"2020-06-11T00:00:00\", \"2020-06-12T00:00:00\", \"2020-06-13T00:00:00\", \"2020-06-14T00:00:00\"], \"xaxis\": \"x\", \"y\": [24.918019770068472, 34.655821974629355, 47.855956363091906, 65.5315857494549, 88.86404675821245, 119.16260928270259, 157.78481908152574, 205.99957551976746, 264.7616369457541, 334.406576223504, 414.3909525800851, 503.2025397161902, 598.4491018488776, 697.095438556378, 795.7883746500189, 891.1426602170272, 979.8919125339271, 1059.0046550310408, 1125.9319428816045, 1178.953375997919, 1217.518606953434, 1242.5967777493825, 1256.8506790883268, 1263.626605794902, 1265.0262535196848, 1261.8572551176005, 1254.6290796257085, 1243.8811666038725, 1230.1549836731424, 1213.9452366517173, 1195.6806223602664, 1175.7233989978238, 1154.3769321463342, 1131.895442770569, 1108.4933620400943, 1084.3533196128817, 1059.6325599395495, 1034.4679136690415, 1008.9795682594113, 983.2738971004649, 957.4455782351971, 931.5791914091758, 905.7504395356407, 880.0271035096719, 854.4698093243192, 829.1326634053305, 804.0637949889089, 779.3058320255334, 754.8963283825997, 730.8681540954274, 707.2498563317763, 684.0659960201913, 661.3374633268277, 639.0817740457135, 617.3133482790433, 596.0437723779005, 575.2820448876573, 555.0348071275127, 535.3065589847881, 516.0998604922947, 497.41551976276855, 479.25276786671935, 461.609421252488, 444.48203231635665, 427.8660287346121, 411.75584216808414, 396.14502694311864, 381.02636930175606, 366.3919877988351, 352.23342540555643, 338.54173385849697, 325.3075507707774, 312.52116999867553, 300.1726057328874, 288.2516507593189, 276.7479293100222, 265.65094490097374, 254.9501235300021, 244.63485258547252, 234.6945157944393, 225.11852451795787, 215.89634568116006, 207.01752660656638, 198.47171700095208, 190.24868832889263, 182.3383507898798, 174.7307681005994, 167.4161702695657, 160.3849645377899, 153.62774464647887, 147.1352985808851, 140.89861492831756, 134.90888797793872, 129.15752168027876, 123.63613257535376, 118.33655178984648, 113.25082619595764, 108.3712188172296, 103.69020855985087], \"yaxis\": \"y\"}, {\"line\": {\"color\": \"#1f77b4\"}, \"mode\": \"markers+lines\", \"name\": \"Data\", \"type\": \"scatter\", \"x\": [\"2020-03-08T00:00:00\", \"2020-03-09T00:00:00\", \"2020-03-10T00:00:00\", \"2020-03-11T00:00:00\", \"2020-03-12T00:00:00\", \"2020-03-13T00:00:00\", \"2020-03-14T00:00:00\", \"2020-03-15T00:00:00\", \"2020-03-16T00:00:00\", \"2020-03-17T00:00:00\", \"2020-03-18T00:00:00\", \"2020-03-19T00:00:00\", \"2020-03-20T00:00:00\", \"2020-03-21T00:00:00\", \"2020-03-22T00:00:00\", \"2020-03-23T00:00:00\", \"2020-03-24T00:00:00\", \"2020-03-25T00:00:00\", \"2020-03-26T00:00:00\", \"2020-03-27T00:00:00\", \"2020-03-28T00:00:00\", \"2020-03-29T00:00:00\", \"2020-03-30T00:00:00\", \"2020-03-31T00:00:00\", \"2020-04-01T00:00:00\"], \"xaxis\": \"x2\", \"y\": [20, 53, 73, 156, 358, 619, 641, 1027, 2105, 2387, 2893, 3573, 3804, 2239, 2191, 3242, 3857, 4075, 4146, 4235, 2851, 2956, 4899, 3986, 4089], \"yaxis\": \"y2\"}, {\"line\": {\"color\": \"#bcbd22\", \"shape\": \"spline\"}, \"mode\": \"lines\", \"showlegend\": false, \"type\": \"scatter\", \"x\": [\"2020-03-08T00:00:00\", \"2020-03-09T00:00:00\", \"2020-03-10T00:00:00\", \"2020-03-11T00:00:00\", \"2020-03-12T00:00:00\", \"2020-03-13T00:00:00\", \"2020-03-14T00:00:00\", \"2020-03-15T00:00:00\", \"2020-03-16T00:00:00\", \"2020-03-17T00:00:00\", \"2020-03-18T00:00:00\", \"2020-03-19T00:00:00\", \"2020-03-20T00:00:00\", \"2020-03-21T00:00:00\", \"2020-03-22T00:00:00\", \"2020-03-23T00:00:00\", \"2020-03-24T00:00:00\", \"2020-03-25T00:00:00\", \"2020-03-26T00:00:00\", \"2020-03-27T00:00:00\", \"2020-03-28T00:00:00\", \"2020-03-29T00:00:00\", \"2020-03-30T00:00:00\", \"2020-03-31T00:00:00\", \"2020-04-01T00:00:00\", \"2020-04-02T00:00:00\", \"2020-04-03T00:00:00\", \"2020-04-04T00:00:00\", \"2020-04-05T00:00:00\", \"2020-04-06T00:00:00\", \"2020-04-07T00:00:00\", \"2020-04-08T00:00:00\", \"2020-04-09T00:00:00\", \"2020-04-10T00:00:00\", \"2020-04-11T00:00:00\", \"2020-04-12T00:00:00\", \"2020-04-13T00:00:00\", \"2020-04-14T00:00:00\", \"2020-04-15T00:00:00\", \"2020-04-16T00:00:00\", \"2020-04-17T00:00:00\", \"2020-04-18T00:00:00\", \"2020-04-19T00:00:00\", \"2020-04-20T00:00:00\", \"2020-04-21T00:00:00\", \"2020-04-22T00:00:00\", \"2020-04-23T00:00:00\", \"2020-04-24T00:00:00\", \"2020-04-25T00:00:00\", \"2020-04-26T00:00:00\", \"2020-04-27T00:00:00\", \"2020-04-28T00:00:00\", \"2020-04-29T00:00:00\", \"2020-04-30T00:00:00\", \"2020-05-01T00:00:00\", \"2020-05-02T00:00:00\", \"2020-05-03T00:00:00\", \"2020-05-04T00:00:00\", \"2020-05-05T00:00:00\", \"2020-05-06T00:00:00\", \"2020-05-07T00:00:00\", \"2020-05-08T00:00:00\", \"2020-05-09T00:00:00\", \"2020-05-10T00:00:00\", \"2020-05-11T00:00:00\", \"2020-05-12T00:00:00\", \"2020-05-13T00:00:00\", \"2020-05-14T00:00:00\", \"2020-05-15T00:00:00\", \"2020-05-16T00:00:00\", \"2020-05-17T00:00:00\", \"2020-05-18T00:00:00\", \"2020-05-19T00:00:00\", \"2020-05-20T00:00:00\", \"2020-05-21T00:00:00\", \"2020-05-22T00:00:00\", \"2020-05-23T00:00:00\", \"2020-05-24T00:00:00\", \"2020-05-25T00:00:00\", \"2020-05-26T00:00:00\", \"2020-05-27T00:00:00\", \"2020-05-28T00:00:00\", \"2020-05-29T00:00:00\", \"2020-05-30T00:00:00\", \"2020-05-31T00:00:00\", \"2020-06-01T00:00:00\", \"2020-06-02T00:00:00\", \"2020-06-03T00:00:00\", \"2020-06-04T00:00:00\", \"2020-06-05T00:00:00\", \"2020-06-06T00:00:00\", \"2020-06-07T00:00:00\", \"2020-06-08T00:00:00\", \"2020-06-09T00:00:00\", \"2020-06-10T00:00:00\", \"2020-06-11T00:00:00\", \"2020-06-12T00:00:00\", \"2020-06-13T00:00:00\", \"2020-06-14T00:00:00\"], \"xaxis\": \"x2\", \"y\": [0, 0, 0, 0, 0, 0, 0, 0, 0, 0, 0, 0, 0, 0, 0, 0, 0, 0, 0, 37.65212962525493, 256.8863137799026, 449.5580081083317, 609.6255217963276, 733.9832209592296, 822.0762907006315, 875.4244881696668, 897.1184099544912, 891.3184599835249, 862.774727457354, 816.3904382391233, 756.8586617590327, 688.3988378705317, 614.6040522910266, 538.3896786697953, 462.01894560044957, 387.17587632084224, 315.059388445728, 246.47980773428912, 181.94682834821333, 121.74403355295522, 65.9890134980501, 14.680230120088936, 0, 0, 0, 0, 0, 0, 0, 0, 0, 0, 0, 0, 0, 0, 0, 0, 0, 0, 0, 0, 0, 0, 0, 0, 0, 0, 0, 0, 0, 0, 0, 0, 0, 0, 0, 0, 0, 0, 0, 0, 0, 0, 0, 0, 0, 0, 0, 0, 0, 0, 0, 0, 0, 0, 0, 0, 0], \"yaxis\": \"y2\"}, {\"fill\": \"tonexty\", \"fillcolor\": \"rgba(188,189,34,0.5)\", \"line\": {\"color\": \"#bcbd22\", \"shape\": \"spline\"}, \"mode\": \"lines\", \"name\": \"Prediction\", \"showlegend\": false, \"type\": \"scatter\", \"x\": [\"2020-03-08T00:00:00\", \"2020-03-09T00:00:00\", \"2020-03-10T00:00:00\", \"2020-03-11T00:00:00\", \"2020-03-12T00:00:00\", \"2020-03-13T00:00:00\", \"2020-03-14T00:00:00\", \"2020-03-15T00:00:00\", \"2020-03-16T00:00:00\", \"2020-03-17T00:00:00\", \"2020-03-18T00:00:00\", \"2020-03-19T00:00:00\", \"2020-03-20T00:00:00\", \"2020-03-21T00:00:00\", \"2020-03-22T00:00:00\", \"2020-03-23T00:00:00\", \"2020-03-24T00:00:00\", \"2020-03-25T00:00:00\", \"2020-03-26T00:00:00\", \"2020-03-27T00:00:00\", \"2020-03-28T00:00:00\", \"2020-03-29T00:00:00\", \"2020-03-30T00:00:00\", \"2020-03-31T00:00:00\", \"2020-04-01T00:00:00\", \"2020-04-02T00:00:00\", \"2020-04-03T00:00:00\", \"2020-04-04T00:00:00\", \"2020-04-05T00:00:00\", \"2020-04-06T00:00:00\", \"2020-04-07T00:00:00\", \"2020-04-08T00:00:00\", \"2020-04-09T00:00:00\", \"2020-04-10T00:00:00\", \"2020-04-11T00:00:00\", \"2020-04-12T00:00:00\", \"2020-04-13T00:00:00\", \"2020-04-14T00:00:00\", \"2020-04-15T00:00:00\", \"2020-04-16T00:00:00\", \"2020-04-17T00:00:00\", \"2020-04-18T00:00:00\", \"2020-04-19T00:00:00\", \"2020-04-20T00:00:00\", \"2020-04-21T00:00:00\", \"2020-04-22T00:00:00\", \"2020-04-23T00:00:00\", \"2020-04-24T00:00:00\", \"2020-04-25T00:00:00\", \"2020-04-26T00:00:00\", \"2020-04-27T00:00:00\", \"2020-04-28T00:00:00\", \"2020-04-29T00:00:00\", \"2020-04-30T00:00:00\", \"2020-05-01T00:00:00\", \"2020-05-02T00:00:00\", \"2020-05-03T00:00:00\", \"2020-05-04T00:00:00\", \"2020-05-05T00:00:00\", \"2020-05-06T00:00:00\", \"2020-05-07T00:00:00\", \"2020-05-08T00:00:00\", \"2020-05-09T00:00:00\", \"2020-05-10T00:00:00\", \"2020-05-11T00:00:00\", \"2020-05-12T00:00:00\", \"2020-05-13T00:00:00\", \"2020-05-14T00:00:00\", \"2020-05-15T00:00:00\", \"2020-05-16T00:00:00\", \"2020-05-17T00:00:00\", \"2020-05-18T00:00:00\", \"2020-05-19T00:00:00\", \"2020-05-20T00:00:00\", \"2020-05-21T00:00:00\", \"2020-05-22T00:00:00\", \"2020-05-23T00:00:00\", \"2020-05-24T00:00:00\", \"2020-05-25T00:00:00\", \"2020-05-26T00:00:00\", \"2020-05-27T00:00:00\", \"2020-05-28T00:00:00\", \"2020-05-29T00:00:00\", \"2020-05-30T00:00:00\", \"2020-05-31T00:00:00\", \"2020-06-01T00:00:00\", \"2020-06-02T00:00:00\", \"2020-06-03T00:00:00\", \"2020-06-04T00:00:00\", \"2020-06-05T00:00:00\", \"2020-06-06T00:00:00\", \"2020-06-07T00:00:00\", \"2020-06-08T00:00:00\", \"2020-06-09T00:00:00\", \"2020-06-10T00:00:00\", \"2020-06-11T00:00:00\", \"2020-06-12T00:00:00\", \"2020-06-13T00:00:00\", \"2020-06-14T00:00:00\"], \"xaxis\": \"x2\", \"y\": [717.7325106839539, 991.3540372429818, 1350.9176810888284, 1812.9508404817243, 2391.6483664479115, 3095.678486629553, 3924.450968875316, 4864.545692253598, 5887.336062320033, 6948.940616674126, 7993.312198117957, 8958.485499065226, 9784.960462982233, 10424.331859798434, 10846.025920923912, 11040.547613257218, 11018.74847693048, 10807.793009727962, 10445.257459214847, 9972.938745282183, 9431.593369898244, 8857.243644603774, 8279.144952859884, 7719.149792927294, 7192.055520446009, 6706.530634423078, 6266.303385300296, 5871.401800356841, 5519.317791119938, 5206.0201546323915, 4926.772332946985, 4676.735819610747, 4451.365911567367, 4246.629595436625, 4059.089169813938, 3885.8972983027065, 3724.7423955218424, 3573.772579826007, 3431.5159784183516, 3296.8070069587347, 3168.7227744144516, 3046.5305401588876, 2929.645495497192, 2817.597453341497, 2710.004874755275, 2606.5547657953093, 2506.9871854922603, 2411.0833339339574, 2318.6564002519353, 2229.5445297347896, 2143.6054150789096, 2060.7121319794587, 1980.749928713752, 1903.6137480858413, 1829.2063125542904, 1757.4366432686188, 1688.2189140570877, 1621.4715644462249, 1557.1166133202692, 1495.079128190503, 1435.2868152554993, 1377.6697032585914, 1322.1599001637683, 1268.6914063091322, 1217.1999712844545, 1167.622984562782, 1119.8993920824755, 1073.969632666861, 1029.7755894922097, 987.2605528532049, 946.3691912918255, 907.0475287993107, 869.2429263089648, 832.9040660993044, 797.9809380449119, 764.4248269039514, 732.1883000304912, 701.2251950573275, 671.4906072194308, 642.9408760861908, 615.5335715476261, 589.2274789598995, 563.9825834021805, 539.7600530328522, 516.5222215603928, 494.23256986469266, 472.8557068195447, 452.3573493775839, 432.70430198606425, 413.86443540617984, 395.80666501081623, 378.5009286360871, 361.9181640611981, 346.0302861893351, 330.81016399971793, 316.2315973378436, 302.26929360743463, 288.8988444238752, 276.0967022850027], \"yaxis\": \"y2\"}],\n",
       "                        {\"annotations\": [{\"font\": {\"size\": 16}, \"showarrow\": false, \"text\": \"New hospitalizations\", \"x\": 0.225, \"xanchor\": \"center\", \"xref\": \"paper\", \"y\": 1.0, \"yanchor\": \"bottom\", \"yref\": \"paper\"}, {\"font\": {\"size\": 16}, \"showarrow\": false, \"text\": \"New Infections (Prediction)\", \"x\": 0.775, \"xanchor\": \"center\", \"xref\": \"paper\", \"y\": 1.0, \"yanchor\": \"bottom\", \"yref\": \"paper\"}], \"template\": {\"data\": {\"bar\": [{\"error_x\": {\"color\": \"#2a3f5f\"}, \"error_y\": {\"color\": \"#2a3f5f\"}, \"marker\": {\"line\": {\"color\": \"#E5ECF6\", \"width\": 0.5}}, \"type\": \"bar\"}], \"barpolar\": [{\"marker\": {\"line\": {\"color\": \"#E5ECF6\", \"width\": 0.5}}, \"type\": \"barpolar\"}], \"carpet\": [{\"aaxis\": {\"endlinecolor\": \"#2a3f5f\", \"gridcolor\": \"white\", \"linecolor\": \"white\", \"minorgridcolor\": \"white\", \"startlinecolor\": \"#2a3f5f\"}, \"baxis\": {\"endlinecolor\": \"#2a3f5f\", \"gridcolor\": \"white\", \"linecolor\": \"white\", \"minorgridcolor\": \"white\", \"startlinecolor\": \"#2a3f5f\"}, \"type\": \"carpet\"}], \"choropleth\": [{\"colorbar\": {\"outlinewidth\": 0, \"ticks\": \"\"}, \"type\": \"choropleth\"}], \"contour\": [{\"colorbar\": {\"outlinewidth\": 0, \"ticks\": \"\"}, \"colorscale\": [[0.0, \"#0d0887\"], [0.1111111111111111, \"#46039f\"], [0.2222222222222222, \"#7201a8\"], [0.3333333333333333, \"#9c179e\"], [0.4444444444444444, \"#bd3786\"], [0.5555555555555556, \"#d8576b\"], [0.6666666666666666, \"#ed7953\"], [0.7777777777777778, \"#fb9f3a\"], [0.8888888888888888, \"#fdca26\"], [1.0, \"#f0f921\"]], \"type\": \"contour\"}], \"contourcarpet\": [{\"colorbar\": {\"outlinewidth\": 0, \"ticks\": \"\"}, \"type\": \"contourcarpet\"}], \"heatmap\": [{\"colorbar\": {\"outlinewidth\": 0, \"ticks\": \"\"}, \"colorscale\": [[0.0, \"#0d0887\"], [0.1111111111111111, \"#46039f\"], [0.2222222222222222, \"#7201a8\"], [0.3333333333333333, \"#9c179e\"], [0.4444444444444444, \"#bd3786\"], [0.5555555555555556, \"#d8576b\"], [0.6666666666666666, \"#ed7953\"], [0.7777777777777778, \"#fb9f3a\"], [0.8888888888888888, \"#fdca26\"], [1.0, \"#f0f921\"]], \"type\": \"heatmap\"}], \"heatmapgl\": [{\"colorbar\": {\"outlinewidth\": 0, \"ticks\": \"\"}, \"colorscale\": [[0.0, \"#0d0887\"], [0.1111111111111111, \"#46039f\"], [0.2222222222222222, \"#7201a8\"], [0.3333333333333333, \"#9c179e\"], [0.4444444444444444, \"#bd3786\"], [0.5555555555555556, \"#d8576b\"], [0.6666666666666666, \"#ed7953\"], [0.7777777777777778, \"#fb9f3a\"], [0.8888888888888888, \"#fdca26\"], [1.0, \"#f0f921\"]], \"type\": \"heatmapgl\"}], \"histogram\": [{\"marker\": {\"colorbar\": {\"outlinewidth\": 0, \"ticks\": \"\"}}, \"type\": \"histogram\"}], \"histogram2d\": [{\"colorbar\": {\"outlinewidth\": 0, \"ticks\": \"\"}, \"colorscale\": [[0.0, \"#0d0887\"], [0.1111111111111111, \"#46039f\"], [0.2222222222222222, \"#7201a8\"], [0.3333333333333333, \"#9c179e\"], [0.4444444444444444, \"#bd3786\"], [0.5555555555555556, \"#d8576b\"], [0.6666666666666666, \"#ed7953\"], [0.7777777777777778, \"#fb9f3a\"], [0.8888888888888888, \"#fdca26\"], [1.0, \"#f0f921\"]], \"type\": \"histogram2d\"}], \"histogram2dcontour\": [{\"colorbar\": {\"outlinewidth\": 0, \"ticks\": \"\"}, \"colorscale\": [[0.0, \"#0d0887\"], [0.1111111111111111, \"#46039f\"], [0.2222222222222222, \"#7201a8\"], [0.3333333333333333, \"#9c179e\"], [0.4444444444444444, \"#bd3786\"], [0.5555555555555556, \"#d8576b\"], [0.6666666666666666, \"#ed7953\"], [0.7777777777777778, \"#fb9f3a\"], [0.8888888888888888, \"#fdca26\"], [1.0, \"#f0f921\"]], \"type\": \"histogram2dcontour\"}], \"mesh3d\": [{\"colorbar\": {\"outlinewidth\": 0, \"ticks\": \"\"}, \"type\": \"mesh3d\"}], \"parcoords\": [{\"line\": {\"colorbar\": {\"outlinewidth\": 0, \"ticks\": \"\"}}, \"type\": \"parcoords\"}], \"pie\": [{\"automargin\": true, \"type\": \"pie\"}], \"scatter\": [{\"marker\": {\"colorbar\": {\"outlinewidth\": 0, \"ticks\": \"\"}}, \"type\": \"scatter\"}], \"scatter3d\": [{\"line\": {\"colorbar\": {\"outlinewidth\": 0, \"ticks\": \"\"}}, \"marker\": {\"colorbar\": {\"outlinewidth\": 0, \"ticks\": \"\"}}, \"type\": \"scatter3d\"}], \"scattercarpet\": [{\"marker\": {\"colorbar\": {\"outlinewidth\": 0, \"ticks\": \"\"}}, \"type\": \"scattercarpet\"}], \"scattergeo\": [{\"marker\": {\"colorbar\": {\"outlinewidth\": 0, \"ticks\": \"\"}}, \"type\": \"scattergeo\"}], \"scattergl\": [{\"marker\": {\"colorbar\": {\"outlinewidth\": 0, \"ticks\": \"\"}}, \"type\": \"scattergl\"}], \"scattermapbox\": [{\"marker\": {\"colorbar\": {\"outlinewidth\": 0, \"ticks\": \"\"}}, \"type\": \"scattermapbox\"}], \"scatterpolar\": [{\"marker\": {\"colorbar\": {\"outlinewidth\": 0, \"ticks\": \"\"}}, \"type\": \"scatterpolar\"}], \"scatterpolargl\": [{\"marker\": {\"colorbar\": {\"outlinewidth\": 0, \"ticks\": \"\"}}, \"type\": \"scatterpolargl\"}], \"scatterternary\": [{\"marker\": {\"colorbar\": {\"outlinewidth\": 0, \"ticks\": \"\"}}, \"type\": \"scatterternary\"}], \"surface\": [{\"colorbar\": {\"outlinewidth\": 0, \"ticks\": \"\"}, \"colorscale\": [[0.0, \"#0d0887\"], [0.1111111111111111, \"#46039f\"], [0.2222222222222222, \"#7201a8\"], [0.3333333333333333, \"#9c179e\"], [0.4444444444444444, \"#bd3786\"], [0.5555555555555556, \"#d8576b\"], [0.6666666666666666, \"#ed7953\"], [0.7777777777777778, \"#fb9f3a\"], [0.8888888888888888, \"#fdca26\"], [1.0, \"#f0f921\"]], \"type\": \"surface\"}], \"table\": [{\"cells\": {\"fill\": {\"color\": \"#EBF0F8\"}, \"line\": {\"color\": \"white\"}}, \"header\": {\"fill\": {\"color\": \"#C8D4E3\"}, \"line\": {\"color\": \"white\"}}, \"type\": \"table\"}]}, \"layout\": {\"annotationdefaults\": {\"arrowcolor\": \"#2a3f5f\", \"arrowhead\": 0, \"arrowwidth\": 1}, \"coloraxis\": {\"colorbar\": {\"outlinewidth\": 0, \"ticks\": \"\"}}, \"colorscale\": {\"diverging\": [[0, \"#8e0152\"], [0.1, \"#c51b7d\"], [0.2, \"#de77ae\"], [0.3, \"#f1b6da\"], [0.4, \"#fde0ef\"], [0.5, \"#f7f7f7\"], [0.6, \"#e6f5d0\"], [0.7, \"#b8e186\"], [0.8, \"#7fbc41\"], [0.9, \"#4d9221\"], [1, \"#276419\"]], \"sequential\": [[0.0, \"#0d0887\"], [0.1111111111111111, \"#46039f\"], [0.2222222222222222, \"#7201a8\"], [0.3333333333333333, \"#9c179e\"], [0.4444444444444444, \"#bd3786\"], [0.5555555555555556, \"#d8576b\"], [0.6666666666666666, \"#ed7953\"], [0.7777777777777778, \"#fb9f3a\"], [0.8888888888888888, \"#fdca26\"], [1.0, \"#f0f921\"]], \"sequentialminus\": [[0.0, \"#0d0887\"], [0.1111111111111111, \"#46039f\"], [0.2222222222222222, \"#7201a8\"], [0.3333333333333333, \"#9c179e\"], [0.4444444444444444, \"#bd3786\"], [0.5555555555555556, \"#d8576b\"], [0.6666666666666666, \"#ed7953\"], [0.7777777777777778, \"#fb9f3a\"], [0.8888888888888888, \"#fdca26\"], [1.0, \"#f0f921\"]]}, \"colorway\": [\"#636efa\", \"#EF553B\", \"#00cc96\", \"#ab63fa\", \"#FFA15A\", \"#19d3f3\", \"#FF6692\", \"#B6E880\", \"#FF97FF\", \"#FECB52\"], \"font\": {\"color\": \"#2a3f5f\"}, \"geo\": {\"bgcolor\": \"white\", \"lakecolor\": \"white\", \"landcolor\": \"#E5ECF6\", \"showlakes\": true, \"showland\": true, \"subunitcolor\": \"white\"}, \"hoverlabel\": {\"align\": \"left\"}, \"hovermode\": \"closest\", \"mapbox\": {\"style\": \"light\"}, \"paper_bgcolor\": \"white\", \"plot_bgcolor\": \"#E5ECF6\", \"polar\": {\"angularaxis\": {\"gridcolor\": \"white\", \"linecolor\": \"white\", \"ticks\": \"\"}, \"bgcolor\": \"#E5ECF6\", \"radialaxis\": {\"gridcolor\": \"white\", \"linecolor\": \"white\", \"ticks\": \"\"}}, \"scene\": {\"xaxis\": {\"backgroundcolor\": \"#E5ECF6\", \"gridcolor\": \"white\", \"gridwidth\": 2, \"linecolor\": \"white\", \"showbackground\": true, \"ticks\": \"\", \"zerolinecolor\": \"white\"}, \"yaxis\": {\"backgroundcolor\": \"#E5ECF6\", \"gridcolor\": \"white\", \"gridwidth\": 2, \"linecolor\": \"white\", \"showbackground\": true, \"ticks\": \"\", \"zerolinecolor\": \"white\"}, \"zaxis\": {\"backgroundcolor\": \"#E5ECF6\", \"gridcolor\": \"white\", \"gridwidth\": 2, \"linecolor\": \"white\", \"showbackground\": true, \"ticks\": \"\", \"zerolinecolor\": \"white\"}}, \"shapedefaults\": {\"line\": {\"color\": \"#2a3f5f\"}}, \"ternary\": {\"aaxis\": {\"gridcolor\": \"white\", \"linecolor\": \"white\", \"ticks\": \"\"}, \"baxis\": {\"gridcolor\": \"white\", \"linecolor\": \"white\", \"ticks\": \"\"}, \"bgcolor\": \"#E5ECF6\", \"caxis\": {\"gridcolor\": \"white\", \"linecolor\": \"white\", \"ticks\": \"\"}}, \"title\": {\"x\": 0.05}, \"xaxis\": {\"automargin\": true, \"gridcolor\": \"white\", \"linecolor\": \"white\", \"ticks\": \"\", \"title\": {\"standoff\": 15}, \"zerolinecolor\": \"white\", \"zerolinewidth\": 2}, \"yaxis\": {\"automargin\": true, \"gridcolor\": \"white\", \"linecolor\": \"white\", \"ticks\": \"\", \"title\": {\"standoff\": 15}, \"zerolinecolor\": \"white\", \"zerolinewidth\": 2}}}, \"xaxis\": {\"anchor\": \"y\", \"domain\": [0.0, 0.45]}, \"xaxis2\": {\"anchor\": \"y2\", \"domain\": [0.55, 1.0]}, \"yaxis\": {\"anchor\": \"x\", \"domain\": [0.0, 1.0]}, \"yaxis2\": {\"anchor\": \"x2\", \"domain\": [0.0, 1.0]}},\n",
       "                        {\"responsive\": true}\n",
       "                    ).then(function(){\n",
       "                            \n",
       "var gd = document.getElementById('334d0652-1704-47de-a0dd-96cd8edd008d');\n",
       "var x = new MutationObserver(function (mutations, observer) {{\n",
       "        var display = window.getComputedStyle(gd).display;\n",
       "        if (!display || display === 'none') {{\n",
       "            console.log([gd, 'removed!']);\n",
       "            Plotly.purge(gd);\n",
       "            observer.disconnect();\n",
       "        }}\n",
       "}});\n",
       "\n",
       "// Listen for the removal of the full notebook cells\n",
       "var notebookContainer = gd.closest('#notebook-container');\n",
       "if (notebookContainer) {{\n",
       "    x.observe(notebookContainer, {childList: true});\n",
       "}}\n",
       "\n",
       "// Listen for the clearing of the current output cell\n",
       "var outputEl = gd.closest('.output');\n",
       "if (outputEl) {{\n",
       "    x.observe(outputEl, {childList: true});\n",
       "}}\n",
       "\n",
       "                        })\n",
       "                };\n",
       "                });\n",
       "            </script>\n",
       "        </div>"
      ]
     },
     "metadata": {},
     "output_type": "display_data"
    }
   ],
   "source": [
    "fig = make_subplots(\n",
    "    rows=1,\n",
    "    cols=2,\n",
    "    subplot_titles=(\n",
    "        \"New hospitalizations\",\n",
    "        \"New Infections (Prediction)\",\n",
    "        \"Plot 3\",\n",
    "        \"Plot 4\",\n",
    "    ),\n",
    ")\n",
    "plotting.add_gvar_scatter(\n",
    "    fig,\n",
    "    x=chd_df.index,\n",
    "    y=Y_SIHR_H,\n",
    "    name=\"Data\",\n",
    "    mode=\"markers+lines\",\n",
    "    row=1,\n",
    "    col=1,\n",
    "    color=\"#1f77b4\",\n",
    "    showlegend=False,\n",
    ")\n",
    "plotting.add_gvar_scatter(\n",
    "    fig,\n",
    "    x=fit_res.index,\n",
    "    y=fit_res.hospitalized_new.values,\n",
    "    name=\"Fit\",\n",
    "    mode=\"markers+lines\",\n",
    "    gv_mode=\"band\",\n",
    "    color=\"#bcbd22\",\n",
    "    row=1,\n",
    "    col=1,\n",
    ")\n",
    "fig.add_trace(\n",
    "    go.Scatter(\n",
    "        x=chd_df.index,\n",
    "        y=chd_df.infected_new,\n",
    "        name=\"Data\",\n",
    "        mode=\"markers+lines\",\n",
    "        line_color=\"#1f77b4\",\n",
    "    ),\n",
    "    row=1,\n",
    "    col=2,\n",
    ")\n",
    "plotting.add_gvar_scatter(\n",
    "    fig,\n",
    "    x=fit_res.index,\n",
    "    y=fit_res.infected_new.values + fit_res.hospitalized_new.values,\n",
    "    name=\"Prediction\",\n",
    "    mode=\"markers+lines\",\n",
    "    gv_mode=\"band\",\n",
    "    color=\"#bcbd22\",\n",
    "    row=1,\n",
    "    col=2,\n",
    "    showlegend=False,\n",
    ")\n",
    "fig.update_layout(\n",
    "    #yaxis1={\"type\":\"log\"},\n",
    "    #yaxis2={\"type\": \"log\"}\n",
    ")\n",
    "fig.show()"
   ]
  },
  {
   "cell_type": "code",
   "execution_count": 276,
   "metadata": {},
   "outputs": [
    {
     "data": {
      "application/vnd.plotly.v1+json": {
       "config": {
        "plotlyServerURL": "https://plot.ly"
       },
       "data": [
        {
         "line": {
          "color": "#bcbd22",
          "shape": "spline"
         },
         "mode": "lines",
         "showlegend": false,
         "type": "scatter",
         "x": [
          "2020-03-08T00:00:00",
          "2020-03-09T00:00:00",
          "2020-03-10T00:00:00",
          "2020-03-11T00:00:00",
          "2020-03-12T00:00:00",
          "2020-03-13T00:00:00",
          "2020-03-14T00:00:00",
          "2020-03-15T00:00:00",
          "2020-03-16T00:00:00",
          "2020-03-17T00:00:00",
          "2020-03-18T00:00:00",
          "2020-03-19T00:00:00",
          "2020-03-20T00:00:00",
          "2020-03-21T00:00:00",
          "2020-03-22T00:00:00",
          "2020-03-23T00:00:00",
          "2020-03-24T00:00:00",
          "2020-03-25T00:00:00",
          "2020-03-26T00:00:00",
          "2020-03-27T00:00:00",
          "2020-03-28T00:00:00",
          "2020-03-29T00:00:00",
          "2020-03-30T00:00:00",
          "2020-03-31T00:00:00",
          "2020-04-01T00:00:00",
          "2020-04-02T00:00:00",
          "2020-04-03T00:00:00",
          "2020-04-04T00:00:00",
          "2020-04-05T00:00:00",
          "2020-04-06T00:00:00",
          "2020-04-07T00:00:00",
          "2020-04-08T00:00:00",
          "2020-04-09T00:00:00",
          "2020-04-10T00:00:00",
          "2020-04-11T00:00:00",
          "2020-04-12T00:00:00",
          "2020-04-13T00:00:00",
          "2020-04-14T00:00:00",
          "2020-04-15T00:00:00",
          "2020-04-16T00:00:00",
          "2020-04-17T00:00:00",
          "2020-04-18T00:00:00",
          "2020-04-19T00:00:00",
          "2020-04-20T00:00:00",
          "2020-04-21T00:00:00",
          "2020-04-22T00:00:00",
          "2020-04-23T00:00:00",
          "2020-04-24T00:00:00",
          "2020-04-25T00:00:00",
          "2020-04-26T00:00:00",
          "2020-04-27T00:00:00",
          "2020-04-28T00:00:00",
          "2020-04-29T00:00:00",
          "2020-04-30T00:00:00",
          "2020-05-01T00:00:00",
          "2020-05-02T00:00:00",
          "2020-05-03T00:00:00",
          "2020-05-04T00:00:00",
          "2020-05-05T00:00:00",
          "2020-05-06T00:00:00",
          "2020-05-07T00:00:00",
          "2020-05-08T00:00:00",
          "2020-05-09T00:00:00",
          "2020-05-10T00:00:00",
          "2020-05-11T00:00:00",
          "2020-05-12T00:00:00",
          "2020-05-13T00:00:00",
          "2020-05-14T00:00:00",
          "2020-05-15T00:00:00",
          "2020-05-16T00:00:00",
          "2020-05-17T00:00:00",
          "2020-05-18T00:00:00",
          "2020-05-19T00:00:00",
          "2020-05-20T00:00:00",
          "2020-05-21T00:00:00",
          "2020-05-22T00:00:00",
          "2020-05-23T00:00:00",
          "2020-05-24T00:00:00",
          "2020-05-25T00:00:00",
          "2020-05-26T00:00:00",
          "2020-05-27T00:00:00",
          "2020-05-28T00:00:00",
          "2020-05-29T00:00:00",
          "2020-05-30T00:00:00",
          "2020-05-31T00:00:00",
          "2020-06-01T00:00:00",
          "2020-06-02T00:00:00",
          "2020-06-03T00:00:00",
          "2020-06-04T00:00:00",
          "2020-06-05T00:00:00",
          "2020-06-06T00:00:00",
          "2020-06-07T00:00:00",
          "2020-06-08T00:00:00",
          "2020-06-09T00:00:00",
          "2020-06-10T00:00:00",
          "2020-06-11T00:00:00",
          "2020-06-12T00:00:00",
          "2020-06-13T00:00:00",
          "2020-06-14T00:00:00"
         ],
         "y": [
          87.1795188688355,
          109.15866376850771,
          141.7497901656985,
          188.54868102652546,
          253.9956680331246,
          343.3621345794757,
          462.6321287608789,
          618.2580198425723,
          816.7797741208319,
          1064.3054413497246,
          1365.866538311346,
          1724.699530577771,
          2141.5535376096072,
          2614.157336841628,
          3136.97596689036,
          3701.3434324406117,
          4295.980166744099,
          4907.813910461022,
          5522.95383534248,
          6127.647518590025,
          6709.082395868858,
          7255.9565704827755,
          7758.808781181209,
          8210.143030486848,
          8604.403769402958,
          8937.857472476822,
          9208.42485199581,
          9415.49295897813,
          9559.723263795346,
          9642.86282768882,
          9667.561016433949,
          9637.192789089815,
          9555.689945643462,
          9427.3825551844,
          9256.853305479777,
          9048.807412764776,
          8807.960070033847,
          8538.942433231488,
          8246.2261091701,
          7934.0652115804805,
          7606.454394460528,
          7267.100877114988,
          6919.408313662491,
          6566.470377864448,
          6211.072074096876,
          5855.696996227103,
          5502.538998613447,
          5153.516989809869,
          4810.291792392662,
          4474.2842219916665,
          4146.693720947679,
          3828.5170364403857,
          3520.566560970171,
          3223.488057376473,
          2937.7775742261174,
          2663.7974235352794,
          2401.7911443329194,
          2151.8974151565453,
          1914.1629084689575,
          1688.5541021243107,
          1474.9680789989143,
          1273.2423570553992,
          1083.1637995007513,
          904.4766591931784,
          736.8898137410024,
          580.0832483673612,
          433.71384302073875,
          297.420518732597,
          170.8287961243068,
          53.55481645072996,
          0,
          0,
          0,
          0,
          0,
          0,
          0,
          0,
          0,
          0,
          0,
          0,
          0,
          0,
          0,
          0,
          0,
          0,
          0,
          0,
          0,
          0,
          0,
          0,
          0,
          0,
          0,
          0,
          0
         ]
        },
        {
         "fill": "tonexty",
         "fillcolor": "rgba(188,189,34,0.5)",
         "line": {
          "color": "#bcbd22",
          "shape": "spline"
         },
         "mode": "lines",
         "name": "Fit",
         "showlegend": true,
         "type": "scatter",
         "x": [
          "2020-03-08T00:00:00",
          "2020-03-09T00:00:00",
          "2020-03-10T00:00:00",
          "2020-03-11T00:00:00",
          "2020-03-12T00:00:00",
          "2020-03-13T00:00:00",
          "2020-03-14T00:00:00",
          "2020-03-15T00:00:00",
          "2020-03-16T00:00:00",
          "2020-03-17T00:00:00",
          "2020-03-18T00:00:00",
          "2020-03-19T00:00:00",
          "2020-03-20T00:00:00",
          "2020-03-21T00:00:00",
          "2020-03-22T00:00:00",
          "2020-03-23T00:00:00",
          "2020-03-24T00:00:00",
          "2020-03-25T00:00:00",
          "2020-03-26T00:00:00",
          "2020-03-27T00:00:00",
          "2020-03-28T00:00:00",
          "2020-03-29T00:00:00",
          "2020-03-30T00:00:00",
          "2020-03-31T00:00:00",
          "2020-04-01T00:00:00",
          "2020-04-02T00:00:00",
          "2020-04-03T00:00:00",
          "2020-04-04T00:00:00",
          "2020-04-05T00:00:00",
          "2020-04-06T00:00:00",
          "2020-04-07T00:00:00",
          "2020-04-08T00:00:00",
          "2020-04-09T00:00:00",
          "2020-04-10T00:00:00",
          "2020-04-11T00:00:00",
          "2020-04-12T00:00:00",
          "2020-04-13T00:00:00",
          "2020-04-14T00:00:00",
          "2020-04-15T00:00:00",
          "2020-04-16T00:00:00",
          "2020-04-17T00:00:00",
          "2020-04-18T00:00:00",
          "2020-04-19T00:00:00",
          "2020-04-20T00:00:00",
          "2020-04-21T00:00:00",
          "2020-04-22T00:00:00",
          "2020-04-23T00:00:00",
          "2020-04-24T00:00:00",
          "2020-04-25T00:00:00",
          "2020-04-26T00:00:00",
          "2020-04-27T00:00:00",
          "2020-04-28T00:00:00",
          "2020-04-29T00:00:00",
          "2020-04-30T00:00:00",
          "2020-05-01T00:00:00",
          "2020-05-02T00:00:00",
          "2020-05-03T00:00:00",
          "2020-05-04T00:00:00",
          "2020-05-05T00:00:00",
          "2020-05-06T00:00:00",
          "2020-05-07T00:00:00",
          "2020-05-08T00:00:00",
          "2020-05-09T00:00:00",
          "2020-05-10T00:00:00",
          "2020-05-11T00:00:00",
          "2020-05-12T00:00:00",
          "2020-05-13T00:00:00",
          "2020-05-14T00:00:00",
          "2020-05-15T00:00:00",
          "2020-05-16T00:00:00",
          "2020-05-17T00:00:00",
          "2020-05-18T00:00:00",
          "2020-05-19T00:00:00",
          "2020-05-20T00:00:00",
          "2020-05-21T00:00:00",
          "2020-05-22T00:00:00",
          "2020-05-23T00:00:00",
          "2020-05-24T00:00:00",
          "2020-05-25T00:00:00",
          "2020-05-26T00:00:00",
          "2020-05-27T00:00:00",
          "2020-05-28T00:00:00",
          "2020-05-29T00:00:00",
          "2020-05-30T00:00:00",
          "2020-05-31T00:00:00",
          "2020-06-01T00:00:00",
          "2020-06-02T00:00:00",
          "2020-06-03T00:00:00",
          "2020-06-04T00:00:00",
          "2020-06-05T00:00:00",
          "2020-06-06T00:00:00",
          "2020-06-07T00:00:00",
          "2020-06-08T00:00:00",
          "2020-06-09T00:00:00",
          "2020-06-10T00:00:00",
          "2020-06-11T00:00:00",
          "2020-06-12T00:00:00",
          "2020-06-13T00:00:00",
          "2020-06-14T00:00:00"
         ],
         "y": [
          93.33081117631936,
          122.13418468229658,
          162.39801742739448,
          217.97878000721118,
          293.7407473086435,
          395.64527593635825,
          530.7370420690055,
          706.9632796577724,
          932.7732698282193,
          1216.4892792347462,
          1565.5037409277777,
          1985.4117853339721,
          2479.2155632711033,
          3046.7334650362177,
          3684.3127318132874,
          4384.885919331846,
          5138.3507965522585,
          5932.209541316221,
          6752.381491277185,
          7584.09639688037,
          8412.774848456025,
          9224.809723331588,
          10008.180543349305,
          10752.860838106808,
          11451.010902493894,
          12096.977062565384,
          12687.138331121623,
          13219.650373477381,
          13694.136184977015,
          14111.365558349895,
          14472.954455689578,
          14781.103616110413,
          15038.385198997483,
          15247.578172136871,
          15411.5478700782,
          15533.162421813386,
          15615.237983947574,
          15660.505226253023,
          15671.590689303688,
          15651.008018458095,
          15601.155396162176,
          15524.316607551644,
          15422.664041007476,
          15298.262559227951,
          15153.073616114809,
          14988.959285133766,
          14807.686046980089,
          14610.928291965462,
          14400.271550965586,
          14177.215496225603,
          13943.176762267387,
          13699.491635775063,
          13447.418656835984,
          13188.141165423023,
          12922.769818316505,
          12652.345093723492,
          12377.83979408106,
          12100.161552044865,
          11820.155340414269,
          11538.605983597226,
          11256.240666006928,
          10973.731431339962,
          10691.697665855654,
          10410.708558421491,
          10131.285530092937,
          9853.904626261214,
          9578.998864852198,
          9306.960534631164,
          9038.143438313538,
          8772.865075864433,
          8511.408764061078,
          8254.025689072152,
          8000.93688946208,
          7752.335167645659,
          7508.386928393471,
          7269.233943516824,
          7034.995042341108,
          6805.767728008221,
          6581.629720033141,
          6362.640423878329,
          6148.8423286051275,
          5940.2623339158845,
          5736.91300811747,
          5538.793778718805,
          5345.892057525081,
          5158.18430221243,
          4975.63701646163,
          4798.207690800701,
          4625.845686356593,
          4458.493063747693,
          4296.085359364076,
          4138.552311283154,
          3985.818537056445,
          3837.8041655805164,
          3694.425425233077,
          3555.595190415238,
          3421.223488594345,
          3291.2179698897444,
          3165.484341187187
         ]
        }
       ],
       "layout": {
        "template": {
         "data": {
          "bar": [
           {
            "error_x": {
             "color": "#2a3f5f"
            },
            "error_y": {
             "color": "#2a3f5f"
            },
            "marker": {
             "line": {
              "color": "#E5ECF6",
              "width": 0.5
             }
            },
            "type": "bar"
           }
          ],
          "barpolar": [
           {
            "marker": {
             "line": {
              "color": "#E5ECF6",
              "width": 0.5
             }
            },
            "type": "barpolar"
           }
          ],
          "carpet": [
           {
            "aaxis": {
             "endlinecolor": "#2a3f5f",
             "gridcolor": "white",
             "linecolor": "white",
             "minorgridcolor": "white",
             "startlinecolor": "#2a3f5f"
            },
            "baxis": {
             "endlinecolor": "#2a3f5f",
             "gridcolor": "white",
             "linecolor": "white",
             "minorgridcolor": "white",
             "startlinecolor": "#2a3f5f"
            },
            "type": "carpet"
           }
          ],
          "choropleth": [
           {
            "colorbar": {
             "outlinewidth": 0,
             "ticks": ""
            },
            "type": "choropleth"
           }
          ],
          "contour": [
           {
            "colorbar": {
             "outlinewidth": 0,
             "ticks": ""
            },
            "colorscale": [
             [
              0,
              "#0d0887"
             ],
             [
              0.1111111111111111,
              "#46039f"
             ],
             [
              0.2222222222222222,
              "#7201a8"
             ],
             [
              0.3333333333333333,
              "#9c179e"
             ],
             [
              0.4444444444444444,
              "#bd3786"
             ],
             [
              0.5555555555555556,
              "#d8576b"
             ],
             [
              0.6666666666666666,
              "#ed7953"
             ],
             [
              0.7777777777777778,
              "#fb9f3a"
             ],
             [
              0.8888888888888888,
              "#fdca26"
             ],
             [
              1,
              "#f0f921"
             ]
            ],
            "type": "contour"
           }
          ],
          "contourcarpet": [
           {
            "colorbar": {
             "outlinewidth": 0,
             "ticks": ""
            },
            "type": "contourcarpet"
           }
          ],
          "heatmap": [
           {
            "colorbar": {
             "outlinewidth": 0,
             "ticks": ""
            },
            "colorscale": [
             [
              0,
              "#0d0887"
             ],
             [
              0.1111111111111111,
              "#46039f"
             ],
             [
              0.2222222222222222,
              "#7201a8"
             ],
             [
              0.3333333333333333,
              "#9c179e"
             ],
             [
              0.4444444444444444,
              "#bd3786"
             ],
             [
              0.5555555555555556,
              "#d8576b"
             ],
             [
              0.6666666666666666,
              "#ed7953"
             ],
             [
              0.7777777777777778,
              "#fb9f3a"
             ],
             [
              0.8888888888888888,
              "#fdca26"
             ],
             [
              1,
              "#f0f921"
             ]
            ],
            "type": "heatmap"
           }
          ],
          "heatmapgl": [
           {
            "colorbar": {
             "outlinewidth": 0,
             "ticks": ""
            },
            "colorscale": [
             [
              0,
              "#0d0887"
             ],
             [
              0.1111111111111111,
              "#46039f"
             ],
             [
              0.2222222222222222,
              "#7201a8"
             ],
             [
              0.3333333333333333,
              "#9c179e"
             ],
             [
              0.4444444444444444,
              "#bd3786"
             ],
             [
              0.5555555555555556,
              "#d8576b"
             ],
             [
              0.6666666666666666,
              "#ed7953"
             ],
             [
              0.7777777777777778,
              "#fb9f3a"
             ],
             [
              0.8888888888888888,
              "#fdca26"
             ],
             [
              1,
              "#f0f921"
             ]
            ],
            "type": "heatmapgl"
           }
          ],
          "histogram": [
           {
            "marker": {
             "colorbar": {
              "outlinewidth": 0,
              "ticks": ""
             }
            },
            "type": "histogram"
           }
          ],
          "histogram2d": [
           {
            "colorbar": {
             "outlinewidth": 0,
             "ticks": ""
            },
            "colorscale": [
             [
              0,
              "#0d0887"
             ],
             [
              0.1111111111111111,
              "#46039f"
             ],
             [
              0.2222222222222222,
              "#7201a8"
             ],
             [
              0.3333333333333333,
              "#9c179e"
             ],
             [
              0.4444444444444444,
              "#bd3786"
             ],
             [
              0.5555555555555556,
              "#d8576b"
             ],
             [
              0.6666666666666666,
              "#ed7953"
             ],
             [
              0.7777777777777778,
              "#fb9f3a"
             ],
             [
              0.8888888888888888,
              "#fdca26"
             ],
             [
              1,
              "#f0f921"
             ]
            ],
            "type": "histogram2d"
           }
          ],
          "histogram2dcontour": [
           {
            "colorbar": {
             "outlinewidth": 0,
             "ticks": ""
            },
            "colorscale": [
             [
              0,
              "#0d0887"
             ],
             [
              0.1111111111111111,
              "#46039f"
             ],
             [
              0.2222222222222222,
              "#7201a8"
             ],
             [
              0.3333333333333333,
              "#9c179e"
             ],
             [
              0.4444444444444444,
              "#bd3786"
             ],
             [
              0.5555555555555556,
              "#d8576b"
             ],
             [
              0.6666666666666666,
              "#ed7953"
             ],
             [
              0.7777777777777778,
              "#fb9f3a"
             ],
             [
              0.8888888888888888,
              "#fdca26"
             ],
             [
              1,
              "#f0f921"
             ]
            ],
            "type": "histogram2dcontour"
           }
          ],
          "mesh3d": [
           {
            "colorbar": {
             "outlinewidth": 0,
             "ticks": ""
            },
            "type": "mesh3d"
           }
          ],
          "parcoords": [
           {
            "line": {
             "colorbar": {
              "outlinewidth": 0,
              "ticks": ""
             }
            },
            "type": "parcoords"
           }
          ],
          "pie": [
           {
            "automargin": true,
            "type": "pie"
           }
          ],
          "scatter": [
           {
            "marker": {
             "colorbar": {
              "outlinewidth": 0,
              "ticks": ""
             }
            },
            "type": "scatter"
           }
          ],
          "scatter3d": [
           {
            "line": {
             "colorbar": {
              "outlinewidth": 0,
              "ticks": ""
             }
            },
            "marker": {
             "colorbar": {
              "outlinewidth": 0,
              "ticks": ""
             }
            },
            "type": "scatter3d"
           }
          ],
          "scattercarpet": [
           {
            "marker": {
             "colorbar": {
              "outlinewidth": 0,
              "ticks": ""
             }
            },
            "type": "scattercarpet"
           }
          ],
          "scattergeo": [
           {
            "marker": {
             "colorbar": {
              "outlinewidth": 0,
              "ticks": ""
             }
            },
            "type": "scattergeo"
           }
          ],
          "scattergl": [
           {
            "marker": {
             "colorbar": {
              "outlinewidth": 0,
              "ticks": ""
             }
            },
            "type": "scattergl"
           }
          ],
          "scattermapbox": [
           {
            "marker": {
             "colorbar": {
              "outlinewidth": 0,
              "ticks": ""
             }
            },
            "type": "scattermapbox"
           }
          ],
          "scatterpolar": [
           {
            "marker": {
             "colorbar": {
              "outlinewidth": 0,
              "ticks": ""
             }
            },
            "type": "scatterpolar"
           }
          ],
          "scatterpolargl": [
           {
            "marker": {
             "colorbar": {
              "outlinewidth": 0,
              "ticks": ""
             }
            },
            "type": "scatterpolargl"
           }
          ],
          "scatterternary": [
           {
            "marker": {
             "colorbar": {
              "outlinewidth": 0,
              "ticks": ""
             }
            },
            "type": "scatterternary"
           }
          ],
          "surface": [
           {
            "colorbar": {
             "outlinewidth": 0,
             "ticks": ""
            },
            "colorscale": [
             [
              0,
              "#0d0887"
             ],
             [
              0.1111111111111111,
              "#46039f"
             ],
             [
              0.2222222222222222,
              "#7201a8"
             ],
             [
              0.3333333333333333,
              "#9c179e"
             ],
             [
              0.4444444444444444,
              "#bd3786"
             ],
             [
              0.5555555555555556,
              "#d8576b"
             ],
             [
              0.6666666666666666,
              "#ed7953"
             ],
             [
              0.7777777777777778,
              "#fb9f3a"
             ],
             [
              0.8888888888888888,
              "#fdca26"
             ],
             [
              1,
              "#f0f921"
             ]
            ],
            "type": "surface"
           }
          ],
          "table": [
           {
            "cells": {
             "fill": {
              "color": "#EBF0F8"
             },
             "line": {
              "color": "white"
             }
            },
            "header": {
             "fill": {
              "color": "#C8D4E3"
             },
             "line": {
              "color": "white"
             }
            },
            "type": "table"
           }
          ]
         },
         "layout": {
          "annotationdefaults": {
           "arrowcolor": "#2a3f5f",
           "arrowhead": 0,
           "arrowwidth": 1
          },
          "coloraxis": {
           "colorbar": {
            "outlinewidth": 0,
            "ticks": ""
           }
          },
          "colorscale": {
           "diverging": [
            [
             0,
             "#8e0152"
            ],
            [
             0.1,
             "#c51b7d"
            ],
            [
             0.2,
             "#de77ae"
            ],
            [
             0.3,
             "#f1b6da"
            ],
            [
             0.4,
             "#fde0ef"
            ],
            [
             0.5,
             "#f7f7f7"
            ],
            [
             0.6,
             "#e6f5d0"
            ],
            [
             0.7,
             "#b8e186"
            ],
            [
             0.8,
             "#7fbc41"
            ],
            [
             0.9,
             "#4d9221"
            ],
            [
             1,
             "#276419"
            ]
           ],
           "sequential": [
            [
             0,
             "#0d0887"
            ],
            [
             0.1111111111111111,
             "#46039f"
            ],
            [
             0.2222222222222222,
             "#7201a8"
            ],
            [
             0.3333333333333333,
             "#9c179e"
            ],
            [
             0.4444444444444444,
             "#bd3786"
            ],
            [
             0.5555555555555556,
             "#d8576b"
            ],
            [
             0.6666666666666666,
             "#ed7953"
            ],
            [
             0.7777777777777778,
             "#fb9f3a"
            ],
            [
             0.8888888888888888,
             "#fdca26"
            ],
            [
             1,
             "#f0f921"
            ]
           ],
           "sequentialminus": [
            [
             0,
             "#0d0887"
            ],
            [
             0.1111111111111111,
             "#46039f"
            ],
            [
             0.2222222222222222,
             "#7201a8"
            ],
            [
             0.3333333333333333,
             "#9c179e"
            ],
            [
             0.4444444444444444,
             "#bd3786"
            ],
            [
             0.5555555555555556,
             "#d8576b"
            ],
            [
             0.6666666666666666,
             "#ed7953"
            ],
            [
             0.7777777777777778,
             "#fb9f3a"
            ],
            [
             0.8888888888888888,
             "#fdca26"
            ],
            [
             1,
             "#f0f921"
            ]
           ]
          },
          "colorway": [
           "#636efa",
           "#EF553B",
           "#00cc96",
           "#ab63fa",
           "#FFA15A",
           "#19d3f3",
           "#FF6692",
           "#B6E880",
           "#FF97FF",
           "#FECB52"
          ],
          "font": {
           "color": "#2a3f5f"
          },
          "geo": {
           "bgcolor": "white",
           "lakecolor": "white",
           "landcolor": "#E5ECF6",
           "showlakes": true,
           "showland": true,
           "subunitcolor": "white"
          },
          "hoverlabel": {
           "align": "left"
          },
          "hovermode": "closest",
          "mapbox": {
           "style": "light"
          },
          "paper_bgcolor": "white",
          "plot_bgcolor": "#E5ECF6",
          "polar": {
           "angularaxis": {
            "gridcolor": "white",
            "linecolor": "white",
            "ticks": ""
           },
           "bgcolor": "#E5ECF6",
           "radialaxis": {
            "gridcolor": "white",
            "linecolor": "white",
            "ticks": ""
           }
          },
          "scene": {
           "xaxis": {
            "backgroundcolor": "#E5ECF6",
            "gridcolor": "white",
            "gridwidth": 2,
            "linecolor": "white",
            "showbackground": true,
            "ticks": "",
            "zerolinecolor": "white"
           },
           "yaxis": {
            "backgroundcolor": "#E5ECF6",
            "gridcolor": "white",
            "gridwidth": 2,
            "linecolor": "white",
            "showbackground": true,
            "ticks": "",
            "zerolinecolor": "white"
           },
           "zaxis": {
            "backgroundcolor": "#E5ECF6",
            "gridcolor": "white",
            "gridwidth": 2,
            "linecolor": "white",
            "showbackground": true,
            "ticks": "",
            "zerolinecolor": "white"
           }
          },
          "shapedefaults": {
           "line": {
            "color": "#2a3f5f"
           }
          },
          "ternary": {
           "aaxis": {
            "gridcolor": "white",
            "linecolor": "white",
            "ticks": ""
           },
           "baxis": {
            "gridcolor": "white",
            "linecolor": "white",
            "ticks": ""
           },
           "bgcolor": "#E5ECF6",
           "caxis": {
            "gridcolor": "white",
            "linecolor": "white",
            "ticks": ""
           }
          },
          "title": {
           "x": 0.05
          },
          "xaxis": {
           "automargin": true,
           "gridcolor": "white",
           "linecolor": "white",
           "ticks": "",
           "title": {
            "standoff": 15
           },
           "zerolinecolor": "white",
           "zerolinewidth": 2
          },
          "yaxis": {
           "automargin": true,
           "gridcolor": "white",
           "linecolor": "white",
           "ticks": "",
           "title": {
            "standoff": 15
           },
           "zerolinecolor": "white",
           "zerolinewidth": 2
          }
         }
        },
        "title": {
         "text": "Total number of hospitalizations"
        },
        "yaxis": {
         "title": {
          "text": "Days"
         }
        }
       }
      },
      "text/html": [
       "<div>\n",
       "        \n",
       "        \n",
       "            <div id=\"ce8d91de-e9e1-4f21-8f25-5aed1908a577\" class=\"plotly-graph-div\" style=\"height:525px; width:100%;\"></div>\n",
       "            <script type=\"text/javascript\">\n",
       "                require([\"plotly\"], function(Plotly) {\n",
       "                    window.PLOTLYENV=window.PLOTLYENV || {};\n",
       "                    \n",
       "                if (document.getElementById(\"ce8d91de-e9e1-4f21-8f25-5aed1908a577\")) {\n",
       "                    Plotly.newPlot(\n",
       "                        'ce8d91de-e9e1-4f21-8f25-5aed1908a577',\n",
       "                        [{\"line\": {\"color\": \"#bcbd22\", \"shape\": \"spline\"}, \"mode\": \"lines\", \"showlegend\": false, \"type\": \"scatter\", \"x\": [\"2020-03-08T00:00:00\", \"2020-03-09T00:00:00\", \"2020-03-10T00:00:00\", \"2020-03-11T00:00:00\", \"2020-03-12T00:00:00\", \"2020-03-13T00:00:00\", \"2020-03-14T00:00:00\", \"2020-03-15T00:00:00\", \"2020-03-16T00:00:00\", \"2020-03-17T00:00:00\", \"2020-03-18T00:00:00\", \"2020-03-19T00:00:00\", \"2020-03-20T00:00:00\", \"2020-03-21T00:00:00\", \"2020-03-22T00:00:00\", \"2020-03-23T00:00:00\", \"2020-03-24T00:00:00\", \"2020-03-25T00:00:00\", \"2020-03-26T00:00:00\", \"2020-03-27T00:00:00\", \"2020-03-28T00:00:00\", \"2020-03-29T00:00:00\", \"2020-03-30T00:00:00\", \"2020-03-31T00:00:00\", \"2020-04-01T00:00:00\", \"2020-04-02T00:00:00\", \"2020-04-03T00:00:00\", \"2020-04-04T00:00:00\", \"2020-04-05T00:00:00\", \"2020-04-06T00:00:00\", \"2020-04-07T00:00:00\", \"2020-04-08T00:00:00\", \"2020-04-09T00:00:00\", \"2020-04-10T00:00:00\", \"2020-04-11T00:00:00\", \"2020-04-12T00:00:00\", \"2020-04-13T00:00:00\", \"2020-04-14T00:00:00\", \"2020-04-15T00:00:00\", \"2020-04-16T00:00:00\", \"2020-04-17T00:00:00\", \"2020-04-18T00:00:00\", \"2020-04-19T00:00:00\", \"2020-04-20T00:00:00\", \"2020-04-21T00:00:00\", \"2020-04-22T00:00:00\", \"2020-04-23T00:00:00\", \"2020-04-24T00:00:00\", \"2020-04-25T00:00:00\", \"2020-04-26T00:00:00\", \"2020-04-27T00:00:00\", \"2020-04-28T00:00:00\", \"2020-04-29T00:00:00\", \"2020-04-30T00:00:00\", \"2020-05-01T00:00:00\", \"2020-05-02T00:00:00\", \"2020-05-03T00:00:00\", \"2020-05-04T00:00:00\", \"2020-05-05T00:00:00\", \"2020-05-06T00:00:00\", \"2020-05-07T00:00:00\", \"2020-05-08T00:00:00\", \"2020-05-09T00:00:00\", \"2020-05-10T00:00:00\", \"2020-05-11T00:00:00\", \"2020-05-12T00:00:00\", \"2020-05-13T00:00:00\", \"2020-05-14T00:00:00\", \"2020-05-15T00:00:00\", \"2020-05-16T00:00:00\", \"2020-05-17T00:00:00\", \"2020-05-18T00:00:00\", \"2020-05-19T00:00:00\", \"2020-05-20T00:00:00\", \"2020-05-21T00:00:00\", \"2020-05-22T00:00:00\", \"2020-05-23T00:00:00\", \"2020-05-24T00:00:00\", \"2020-05-25T00:00:00\", \"2020-05-26T00:00:00\", \"2020-05-27T00:00:00\", \"2020-05-28T00:00:00\", \"2020-05-29T00:00:00\", \"2020-05-30T00:00:00\", \"2020-05-31T00:00:00\", \"2020-06-01T00:00:00\", \"2020-06-02T00:00:00\", \"2020-06-03T00:00:00\", \"2020-06-04T00:00:00\", \"2020-06-05T00:00:00\", \"2020-06-06T00:00:00\", \"2020-06-07T00:00:00\", \"2020-06-08T00:00:00\", \"2020-06-09T00:00:00\", \"2020-06-10T00:00:00\", \"2020-06-11T00:00:00\", \"2020-06-12T00:00:00\", \"2020-06-13T00:00:00\", \"2020-06-14T00:00:00\"], \"y\": [87.1795188688355, 109.15866376850771, 141.7497901656985, 188.54868102652546, 253.9956680331246, 343.3621345794757, 462.6321287608789, 618.2580198425723, 816.7797741208319, 1064.3054413497246, 1365.866538311346, 1724.699530577771, 2141.5535376096072, 2614.157336841628, 3136.97596689036, 3701.3434324406117, 4295.980166744099, 4907.813910461022, 5522.95383534248, 6127.647518590025, 6709.082395868858, 7255.9565704827755, 7758.808781181209, 8210.143030486848, 8604.403769402958, 8937.857472476822, 9208.42485199581, 9415.49295897813, 9559.723263795346, 9642.86282768882, 9667.561016433949, 9637.192789089815, 9555.689945643462, 9427.3825551844, 9256.853305479777, 9048.807412764776, 8807.960070033847, 8538.942433231488, 8246.2261091701, 7934.0652115804805, 7606.454394460528, 7267.100877114988, 6919.408313662491, 6566.470377864448, 6211.072074096876, 5855.696996227103, 5502.538998613447, 5153.516989809869, 4810.291792392662, 4474.2842219916665, 4146.693720947679, 3828.5170364403857, 3520.566560970171, 3223.488057376473, 2937.7775742261174, 2663.7974235352794, 2401.7911443329194, 2151.8974151565453, 1914.1629084689575, 1688.5541021243107, 1474.9680789989143, 1273.2423570553992, 1083.1637995007513, 904.4766591931784, 736.8898137410024, 580.0832483673612, 433.71384302073875, 297.420518732597, 170.8287961243068, 53.55481645072996, 0, 0, 0, 0, 0, 0, 0, 0, 0, 0, 0, 0, 0, 0, 0, 0, 0, 0, 0, 0, 0, 0, 0, 0, 0, 0, 0, 0, 0]}, {\"fill\": \"tonexty\", \"fillcolor\": \"rgba(188,189,34,0.5)\", \"line\": {\"color\": \"#bcbd22\", \"shape\": \"spline\"}, \"mode\": \"lines\", \"name\": \"Fit\", \"showlegend\": true, \"type\": \"scatter\", \"x\": [\"2020-03-08T00:00:00\", \"2020-03-09T00:00:00\", \"2020-03-10T00:00:00\", \"2020-03-11T00:00:00\", \"2020-03-12T00:00:00\", \"2020-03-13T00:00:00\", \"2020-03-14T00:00:00\", \"2020-03-15T00:00:00\", \"2020-03-16T00:00:00\", \"2020-03-17T00:00:00\", \"2020-03-18T00:00:00\", \"2020-03-19T00:00:00\", \"2020-03-20T00:00:00\", \"2020-03-21T00:00:00\", \"2020-03-22T00:00:00\", \"2020-03-23T00:00:00\", \"2020-03-24T00:00:00\", \"2020-03-25T00:00:00\", \"2020-03-26T00:00:00\", \"2020-03-27T00:00:00\", \"2020-03-28T00:00:00\", \"2020-03-29T00:00:00\", \"2020-03-30T00:00:00\", \"2020-03-31T00:00:00\", \"2020-04-01T00:00:00\", \"2020-04-02T00:00:00\", \"2020-04-03T00:00:00\", \"2020-04-04T00:00:00\", \"2020-04-05T00:00:00\", \"2020-04-06T00:00:00\", \"2020-04-07T00:00:00\", \"2020-04-08T00:00:00\", \"2020-04-09T00:00:00\", \"2020-04-10T00:00:00\", \"2020-04-11T00:00:00\", \"2020-04-12T00:00:00\", \"2020-04-13T00:00:00\", \"2020-04-14T00:00:00\", \"2020-04-15T00:00:00\", \"2020-04-16T00:00:00\", \"2020-04-17T00:00:00\", \"2020-04-18T00:00:00\", \"2020-04-19T00:00:00\", \"2020-04-20T00:00:00\", \"2020-04-21T00:00:00\", \"2020-04-22T00:00:00\", \"2020-04-23T00:00:00\", \"2020-04-24T00:00:00\", \"2020-04-25T00:00:00\", \"2020-04-26T00:00:00\", \"2020-04-27T00:00:00\", \"2020-04-28T00:00:00\", \"2020-04-29T00:00:00\", \"2020-04-30T00:00:00\", \"2020-05-01T00:00:00\", \"2020-05-02T00:00:00\", \"2020-05-03T00:00:00\", \"2020-05-04T00:00:00\", \"2020-05-05T00:00:00\", \"2020-05-06T00:00:00\", \"2020-05-07T00:00:00\", \"2020-05-08T00:00:00\", \"2020-05-09T00:00:00\", \"2020-05-10T00:00:00\", \"2020-05-11T00:00:00\", \"2020-05-12T00:00:00\", \"2020-05-13T00:00:00\", \"2020-05-14T00:00:00\", \"2020-05-15T00:00:00\", \"2020-05-16T00:00:00\", \"2020-05-17T00:00:00\", \"2020-05-18T00:00:00\", \"2020-05-19T00:00:00\", \"2020-05-20T00:00:00\", \"2020-05-21T00:00:00\", \"2020-05-22T00:00:00\", \"2020-05-23T00:00:00\", \"2020-05-24T00:00:00\", \"2020-05-25T00:00:00\", \"2020-05-26T00:00:00\", \"2020-05-27T00:00:00\", \"2020-05-28T00:00:00\", \"2020-05-29T00:00:00\", \"2020-05-30T00:00:00\", \"2020-05-31T00:00:00\", \"2020-06-01T00:00:00\", \"2020-06-02T00:00:00\", \"2020-06-03T00:00:00\", \"2020-06-04T00:00:00\", \"2020-06-05T00:00:00\", \"2020-06-06T00:00:00\", \"2020-06-07T00:00:00\", \"2020-06-08T00:00:00\", \"2020-06-09T00:00:00\", \"2020-06-10T00:00:00\", \"2020-06-11T00:00:00\", \"2020-06-12T00:00:00\", \"2020-06-13T00:00:00\", \"2020-06-14T00:00:00\"], \"y\": [93.33081117631936, 122.13418468229658, 162.39801742739448, 217.97878000721118, 293.7407473086435, 395.64527593635825, 530.7370420690055, 706.9632796577724, 932.7732698282193, 1216.4892792347462, 1565.5037409277777, 1985.4117853339721, 2479.2155632711033, 3046.7334650362177, 3684.3127318132874, 4384.885919331846, 5138.3507965522585, 5932.209541316221, 6752.381491277185, 7584.09639688037, 8412.774848456025, 9224.809723331588, 10008.180543349305, 10752.860838106808, 11451.010902493894, 12096.977062565384, 12687.138331121623, 13219.650373477381, 13694.136184977015, 14111.365558349895, 14472.954455689578, 14781.103616110413, 15038.385198997483, 15247.578172136871, 15411.5478700782, 15533.162421813386, 15615.237983947574, 15660.505226253023, 15671.590689303688, 15651.008018458095, 15601.155396162176, 15524.316607551644, 15422.664041007476, 15298.262559227951, 15153.073616114809, 14988.959285133766, 14807.686046980089, 14610.928291965462, 14400.271550965586, 14177.215496225603, 13943.176762267387, 13699.491635775063, 13447.418656835984, 13188.141165423023, 12922.769818316505, 12652.345093723492, 12377.83979408106, 12100.161552044865, 11820.155340414269, 11538.605983597226, 11256.240666006928, 10973.731431339962, 10691.697665855654, 10410.708558421491, 10131.285530092937, 9853.904626261214, 9578.998864852198, 9306.960534631164, 9038.143438313538, 8772.865075864433, 8511.408764061078, 8254.025689072152, 8000.93688946208, 7752.335167645659, 7508.386928393471, 7269.233943516824, 7034.995042341108, 6805.767728008221, 6581.629720033141, 6362.640423878329, 6148.8423286051275, 5940.2623339158845, 5736.91300811747, 5538.793778718805, 5345.892057525081, 5158.18430221243, 4975.63701646163, 4798.207690800701, 4625.845686356593, 4458.493063747693, 4296.085359364076, 4138.552311283154, 3985.818537056445, 3837.8041655805164, 3694.425425233077, 3555.595190415238, 3421.223488594345, 3291.2179698897444, 3165.484341187187]}],\n",
       "                        {\"template\": {\"data\": {\"bar\": [{\"error_x\": {\"color\": \"#2a3f5f\"}, \"error_y\": {\"color\": \"#2a3f5f\"}, \"marker\": {\"line\": {\"color\": \"#E5ECF6\", \"width\": 0.5}}, \"type\": \"bar\"}], \"barpolar\": [{\"marker\": {\"line\": {\"color\": \"#E5ECF6\", \"width\": 0.5}}, \"type\": \"barpolar\"}], \"carpet\": [{\"aaxis\": {\"endlinecolor\": \"#2a3f5f\", \"gridcolor\": \"white\", \"linecolor\": \"white\", \"minorgridcolor\": \"white\", \"startlinecolor\": \"#2a3f5f\"}, \"baxis\": {\"endlinecolor\": \"#2a3f5f\", \"gridcolor\": \"white\", \"linecolor\": \"white\", \"minorgridcolor\": \"white\", \"startlinecolor\": \"#2a3f5f\"}, \"type\": \"carpet\"}], \"choropleth\": [{\"colorbar\": {\"outlinewidth\": 0, \"ticks\": \"\"}, \"type\": \"choropleth\"}], \"contour\": [{\"colorbar\": {\"outlinewidth\": 0, \"ticks\": \"\"}, \"colorscale\": [[0.0, \"#0d0887\"], [0.1111111111111111, \"#46039f\"], [0.2222222222222222, \"#7201a8\"], [0.3333333333333333, \"#9c179e\"], [0.4444444444444444, \"#bd3786\"], [0.5555555555555556, \"#d8576b\"], [0.6666666666666666, \"#ed7953\"], [0.7777777777777778, \"#fb9f3a\"], [0.8888888888888888, \"#fdca26\"], [1.0, \"#f0f921\"]], \"type\": \"contour\"}], \"contourcarpet\": [{\"colorbar\": {\"outlinewidth\": 0, \"ticks\": \"\"}, \"type\": \"contourcarpet\"}], \"heatmap\": [{\"colorbar\": {\"outlinewidth\": 0, \"ticks\": \"\"}, \"colorscale\": [[0.0, \"#0d0887\"], [0.1111111111111111, \"#46039f\"], [0.2222222222222222, \"#7201a8\"], [0.3333333333333333, \"#9c179e\"], [0.4444444444444444, \"#bd3786\"], [0.5555555555555556, \"#d8576b\"], [0.6666666666666666, \"#ed7953\"], [0.7777777777777778, \"#fb9f3a\"], [0.8888888888888888, \"#fdca26\"], [1.0, \"#f0f921\"]], \"type\": \"heatmap\"}], \"heatmapgl\": [{\"colorbar\": {\"outlinewidth\": 0, \"ticks\": \"\"}, \"colorscale\": [[0.0, \"#0d0887\"], [0.1111111111111111, \"#46039f\"], [0.2222222222222222, \"#7201a8\"], [0.3333333333333333, \"#9c179e\"], [0.4444444444444444, \"#bd3786\"], [0.5555555555555556, \"#d8576b\"], [0.6666666666666666, \"#ed7953\"], [0.7777777777777778, \"#fb9f3a\"], [0.8888888888888888, \"#fdca26\"], [1.0, \"#f0f921\"]], \"type\": \"heatmapgl\"}], \"histogram\": [{\"marker\": {\"colorbar\": {\"outlinewidth\": 0, \"ticks\": \"\"}}, \"type\": \"histogram\"}], \"histogram2d\": [{\"colorbar\": {\"outlinewidth\": 0, \"ticks\": \"\"}, \"colorscale\": [[0.0, \"#0d0887\"], [0.1111111111111111, \"#46039f\"], [0.2222222222222222, \"#7201a8\"], [0.3333333333333333, \"#9c179e\"], [0.4444444444444444, \"#bd3786\"], [0.5555555555555556, \"#d8576b\"], [0.6666666666666666, \"#ed7953\"], [0.7777777777777778, \"#fb9f3a\"], [0.8888888888888888, \"#fdca26\"], [1.0, \"#f0f921\"]], \"type\": \"histogram2d\"}], \"histogram2dcontour\": [{\"colorbar\": {\"outlinewidth\": 0, \"ticks\": \"\"}, \"colorscale\": [[0.0, \"#0d0887\"], [0.1111111111111111, \"#46039f\"], [0.2222222222222222, \"#7201a8\"], [0.3333333333333333, \"#9c179e\"], [0.4444444444444444, \"#bd3786\"], [0.5555555555555556, \"#d8576b\"], [0.6666666666666666, \"#ed7953\"], [0.7777777777777778, \"#fb9f3a\"], [0.8888888888888888, \"#fdca26\"], [1.0, \"#f0f921\"]], \"type\": \"histogram2dcontour\"}], \"mesh3d\": [{\"colorbar\": {\"outlinewidth\": 0, \"ticks\": \"\"}, \"type\": \"mesh3d\"}], \"parcoords\": [{\"line\": {\"colorbar\": {\"outlinewidth\": 0, \"ticks\": \"\"}}, \"type\": \"parcoords\"}], \"pie\": [{\"automargin\": true, \"type\": \"pie\"}], \"scatter\": [{\"marker\": {\"colorbar\": {\"outlinewidth\": 0, \"ticks\": \"\"}}, \"type\": \"scatter\"}], \"scatter3d\": [{\"line\": {\"colorbar\": {\"outlinewidth\": 0, \"ticks\": \"\"}}, \"marker\": {\"colorbar\": {\"outlinewidth\": 0, \"ticks\": \"\"}}, \"type\": \"scatter3d\"}], \"scattercarpet\": [{\"marker\": {\"colorbar\": {\"outlinewidth\": 0, \"ticks\": \"\"}}, \"type\": \"scattercarpet\"}], \"scattergeo\": [{\"marker\": {\"colorbar\": {\"outlinewidth\": 0, \"ticks\": \"\"}}, \"type\": \"scattergeo\"}], \"scattergl\": [{\"marker\": {\"colorbar\": {\"outlinewidth\": 0, \"ticks\": \"\"}}, \"type\": \"scattergl\"}], \"scattermapbox\": [{\"marker\": {\"colorbar\": {\"outlinewidth\": 0, \"ticks\": \"\"}}, \"type\": \"scattermapbox\"}], \"scatterpolar\": [{\"marker\": {\"colorbar\": {\"outlinewidth\": 0, \"ticks\": \"\"}}, \"type\": \"scatterpolar\"}], \"scatterpolargl\": [{\"marker\": {\"colorbar\": {\"outlinewidth\": 0, \"ticks\": \"\"}}, \"type\": \"scatterpolargl\"}], \"scatterternary\": [{\"marker\": {\"colorbar\": {\"outlinewidth\": 0, \"ticks\": \"\"}}, \"type\": \"scatterternary\"}], \"surface\": [{\"colorbar\": {\"outlinewidth\": 0, \"ticks\": \"\"}, \"colorscale\": [[0.0, \"#0d0887\"], [0.1111111111111111, \"#46039f\"], [0.2222222222222222, \"#7201a8\"], [0.3333333333333333, \"#9c179e\"], [0.4444444444444444, \"#bd3786\"], [0.5555555555555556, \"#d8576b\"], [0.6666666666666666, \"#ed7953\"], [0.7777777777777778, \"#fb9f3a\"], [0.8888888888888888, \"#fdca26\"], [1.0, \"#f0f921\"]], \"type\": \"surface\"}], \"table\": [{\"cells\": {\"fill\": {\"color\": \"#EBF0F8\"}, \"line\": {\"color\": \"white\"}}, \"header\": {\"fill\": {\"color\": \"#C8D4E3\"}, \"line\": {\"color\": \"white\"}}, \"type\": \"table\"}]}, \"layout\": {\"annotationdefaults\": {\"arrowcolor\": \"#2a3f5f\", \"arrowhead\": 0, \"arrowwidth\": 1}, \"coloraxis\": {\"colorbar\": {\"outlinewidth\": 0, \"ticks\": \"\"}}, \"colorscale\": {\"diverging\": [[0, \"#8e0152\"], [0.1, \"#c51b7d\"], [0.2, \"#de77ae\"], [0.3, \"#f1b6da\"], [0.4, \"#fde0ef\"], [0.5, \"#f7f7f7\"], [0.6, \"#e6f5d0\"], [0.7, \"#b8e186\"], [0.8, \"#7fbc41\"], [0.9, \"#4d9221\"], [1, \"#276419\"]], \"sequential\": [[0.0, \"#0d0887\"], [0.1111111111111111, \"#46039f\"], [0.2222222222222222, \"#7201a8\"], [0.3333333333333333, \"#9c179e\"], [0.4444444444444444, \"#bd3786\"], [0.5555555555555556, \"#d8576b\"], [0.6666666666666666, \"#ed7953\"], [0.7777777777777778, \"#fb9f3a\"], [0.8888888888888888, \"#fdca26\"], [1.0, \"#f0f921\"]], \"sequentialminus\": [[0.0, \"#0d0887\"], [0.1111111111111111, \"#46039f\"], [0.2222222222222222, \"#7201a8\"], [0.3333333333333333, \"#9c179e\"], [0.4444444444444444, \"#bd3786\"], [0.5555555555555556, \"#d8576b\"], [0.6666666666666666, \"#ed7953\"], [0.7777777777777778, \"#fb9f3a\"], [0.8888888888888888, \"#fdca26\"], [1.0, \"#f0f921\"]]}, \"colorway\": [\"#636efa\", \"#EF553B\", \"#00cc96\", \"#ab63fa\", \"#FFA15A\", \"#19d3f3\", \"#FF6692\", \"#B6E880\", \"#FF97FF\", \"#FECB52\"], \"font\": {\"color\": \"#2a3f5f\"}, \"geo\": {\"bgcolor\": \"white\", \"lakecolor\": \"white\", \"landcolor\": \"#E5ECF6\", \"showlakes\": true, \"showland\": true, \"subunitcolor\": \"white\"}, \"hoverlabel\": {\"align\": \"left\"}, \"hovermode\": \"closest\", \"mapbox\": {\"style\": \"light\"}, \"paper_bgcolor\": \"white\", \"plot_bgcolor\": \"#E5ECF6\", \"polar\": {\"angularaxis\": {\"gridcolor\": \"white\", \"linecolor\": \"white\", \"ticks\": \"\"}, \"bgcolor\": \"#E5ECF6\", \"radialaxis\": {\"gridcolor\": \"white\", \"linecolor\": \"white\", \"ticks\": \"\"}}, \"scene\": {\"xaxis\": {\"backgroundcolor\": \"#E5ECF6\", \"gridcolor\": \"white\", \"gridwidth\": 2, \"linecolor\": \"white\", \"showbackground\": true, \"ticks\": \"\", \"zerolinecolor\": \"white\"}, \"yaxis\": {\"backgroundcolor\": \"#E5ECF6\", \"gridcolor\": \"white\", \"gridwidth\": 2, \"linecolor\": \"white\", \"showbackground\": true, \"ticks\": \"\", \"zerolinecolor\": \"white\"}, \"zaxis\": {\"backgroundcolor\": \"#E5ECF6\", \"gridcolor\": \"white\", \"gridwidth\": 2, \"linecolor\": \"white\", \"showbackground\": true, \"ticks\": \"\", \"zerolinecolor\": \"white\"}}, \"shapedefaults\": {\"line\": {\"color\": \"#2a3f5f\"}}, \"ternary\": {\"aaxis\": {\"gridcolor\": \"white\", \"linecolor\": \"white\", \"ticks\": \"\"}, \"baxis\": {\"gridcolor\": \"white\", \"linecolor\": \"white\", \"ticks\": \"\"}, \"bgcolor\": \"#E5ECF6\", \"caxis\": {\"gridcolor\": \"white\", \"linecolor\": \"white\", \"ticks\": \"\"}}, \"title\": {\"x\": 0.05}, \"xaxis\": {\"automargin\": true, \"gridcolor\": \"white\", \"linecolor\": \"white\", \"ticks\": \"\", \"title\": {\"standoff\": 15}, \"zerolinecolor\": \"white\", \"zerolinewidth\": 2}, \"yaxis\": {\"automargin\": true, \"gridcolor\": \"white\", \"linecolor\": \"white\", \"ticks\": \"\", \"title\": {\"standoff\": 15}, \"zerolinecolor\": \"white\", \"zerolinewidth\": 2}}}, \"title\": {\"text\": \"Total number of hospitalizations\"}, \"yaxis\": {\"title\": {\"text\": \"Days\"}}},\n",
       "                        {\"responsive\": true}\n",
       "                    ).then(function(){\n",
       "                            \n",
       "var gd = document.getElementById('ce8d91de-e9e1-4f21-8f25-5aed1908a577');\n",
       "var x = new MutationObserver(function (mutations, observer) {{\n",
       "        var display = window.getComputedStyle(gd).display;\n",
       "        if (!display || display === 'none') {{\n",
       "            console.log([gd, 'removed!']);\n",
       "            Plotly.purge(gd);\n",
       "            observer.disconnect();\n",
       "        }}\n",
       "}});\n",
       "\n",
       "// Listen for the removal of the full notebook cells\n",
       "var notebookContainer = gd.closest('#notebook-container');\n",
       "if (notebookContainer) {{\n",
       "    x.observe(notebookContainer, {childList: true});\n",
       "}}\n",
       "\n",
       "// Listen for the clearing of the current output cell\n",
       "var outputEl = gd.closest('.output');\n",
       "if (outputEl) {{\n",
       "    x.observe(outputEl, {childList: true});\n",
       "}}\n",
       "\n",
       "                        })\n",
       "                };\n",
       "                });\n",
       "            </script>\n",
       "        </div>"
      ]
     },
     "metadata": {},
     "output_type": "display_data"
    }
   ],
   "source": [
    "fig = go.Figure()\n",
    "plotting.add_gvar_scatter(\n",
    "    fig,\n",
    "    x=fit_res.index,\n",
    "    y=fit_res.hospitalized.values,\n",
    "    name=\"Fit\",\n",
    "    mode=\"markers+lines\",\n",
    "    gv_mode=\"band\",\n",
    "    color=\"#bcbd22\",\n",
    ")\n",
    "fig.update_layout(title=\"Total number of hospitalizations\", yaxis_title=\"Days\")\n",
    "fig.show()"
   ]
  },
  {
   "cell_type": "code",
   "execution_count": 277,
   "metadata": {},
   "outputs": [
    {
     "data": {
      "application/vnd.plotly.v1+json": {
       "config": {
        "plotlyServerURL": "https://plot.ly"
       },
       "data": [
        {
         "line": {
          "color": "#bcbd22",
          "shape": "spline"
         },
         "mode": "lines",
         "showlegend": false,
         "type": "scatter",
         "x": [
          "2020-03-08T00:00:00",
          "2020-03-09T00:00:00",
          "2020-03-10T00:00:00",
          "2020-03-11T00:00:00",
          "2020-03-12T00:00:00",
          "2020-03-13T00:00:00",
          "2020-03-14T00:00:00",
          "2020-03-15T00:00:00",
          "2020-03-16T00:00:00",
          "2020-03-17T00:00:00",
          "2020-03-18T00:00:00",
          "2020-03-19T00:00:00",
          "2020-03-20T00:00:00",
          "2020-03-21T00:00:00",
          "2020-03-22T00:00:00",
          "2020-03-23T00:00:00",
          "2020-03-24T00:00:00",
          "2020-03-25T00:00:00",
          "2020-03-26T00:00:00",
          "2020-03-27T00:00:00",
          "2020-03-28T00:00:00",
          "2020-03-29T00:00:00",
          "2020-03-30T00:00:00",
          "2020-03-31T00:00:00",
          "2020-04-01T00:00:00",
          "2020-04-02T00:00:00",
          "2020-04-03T00:00:00",
          "2020-04-04T00:00:00",
          "2020-04-05T00:00:00",
          "2020-04-06T00:00:00",
          "2020-04-07T00:00:00",
          "2020-04-08T00:00:00",
          "2020-04-09T00:00:00",
          "2020-04-10T00:00:00",
          "2020-04-11T00:00:00",
          "2020-04-12T00:00:00",
          "2020-04-13T00:00:00",
          "2020-04-14T00:00:00",
          "2020-04-15T00:00:00",
          "2020-04-16T00:00:00",
          "2020-04-17T00:00:00",
          "2020-04-18T00:00:00",
          "2020-04-19T00:00:00",
          "2020-04-20T00:00:00",
          "2020-04-21T00:00:00",
          "2020-04-22T00:00:00",
          "2020-04-23T00:00:00",
          "2020-04-24T00:00:00",
          "2020-04-25T00:00:00",
          "2020-04-26T00:00:00",
          "2020-04-27T00:00:00",
          "2020-04-28T00:00:00",
          "2020-04-29T00:00:00",
          "2020-04-30T00:00:00",
          "2020-05-01T00:00:00",
          "2020-05-02T00:00:00",
          "2020-05-03T00:00:00",
          "2020-05-04T00:00:00",
          "2020-05-05T00:00:00",
          "2020-05-06T00:00:00",
          "2020-05-07T00:00:00",
          "2020-05-08T00:00:00",
          "2020-05-09T00:00:00",
          "2020-05-10T00:00:00",
          "2020-05-11T00:00:00",
          "2020-05-12T00:00:00",
          "2020-05-13T00:00:00",
          "2020-05-14T00:00:00",
          "2020-05-15T00:00:00",
          "2020-05-16T00:00:00",
          "2020-05-17T00:00:00",
          "2020-05-18T00:00:00",
          "2020-05-19T00:00:00",
          "2020-05-20T00:00:00",
          "2020-05-21T00:00:00",
          "2020-05-22T00:00:00",
          "2020-05-23T00:00:00",
          "2020-05-24T00:00:00",
          "2020-05-25T00:00:00",
          "2020-05-26T00:00:00",
          "2020-05-27T00:00:00",
          "2020-05-28T00:00:00",
          "2020-05-29T00:00:00",
          "2020-05-30T00:00:00",
          "2020-05-31T00:00:00",
          "2020-06-01T00:00:00",
          "2020-06-02T00:00:00",
          "2020-06-03T00:00:00",
          "2020-06-04T00:00:00",
          "2020-06-05T00:00:00",
          "2020-06-06T00:00:00",
          "2020-06-07T00:00:00",
          "2020-06-08T00:00:00",
          "2020-06-09T00:00:00",
          "2020-06-10T00:00:00",
          "2020-06-11T00:00:00",
          "2020-06-12T00:00:00",
          "2020-06-13T00:00:00",
          "2020-06-14T00:00:00"
         ],
         "y": [
          0,
          0,
          0,
          0,
          0,
          0,
          0,
          0,
          0,
          0,
          0,
          0,
          0,
          0,
          0,
          0,
          0,
          0,
          0,
          0,
          0,
          0,
          0,
          0,
          0,
          0,
          0,
          0,
          0,
          0,
          0,
          0,
          0,
          0,
          0,
          0,
          0,
          0,
          0,
          0,
          0,
          0,
          0,
          0,
          0,
          0,
          0,
          0,
          0,
          0,
          0,
          0,
          0,
          0,
          0,
          0,
          0,
          0,
          0,
          0,
          0,
          0,
          0,
          0,
          0,
          0,
          0,
          0,
          0,
          0,
          0,
          0,
          0,
          0,
          0,
          0,
          0,
          0,
          0,
          0,
          0,
          0,
          0,
          0,
          0,
          0,
          0,
          0,
          0,
          0,
          0,
          0,
          0,
          0,
          0,
          0,
          0,
          0,
          0
         ]
        },
        {
         "fill": "tonexty",
         "fillcolor": "rgba(188,189,34,0.5)",
         "line": {
          "color": "#bcbd22",
          "shape": "spline"
         },
         "mode": "lines",
         "name": "Fit",
         "showlegend": true,
         "type": "scatter",
         "x": [
          "2020-03-08T00:00:00",
          "2020-03-09T00:00:00",
          "2020-03-10T00:00:00",
          "2020-03-11T00:00:00",
          "2020-03-12T00:00:00",
          "2020-03-13T00:00:00",
          "2020-03-14T00:00:00",
          "2020-03-15T00:00:00",
          "2020-03-16T00:00:00",
          "2020-03-17T00:00:00",
          "2020-03-18T00:00:00",
          "2020-03-19T00:00:00",
          "2020-03-20T00:00:00",
          "2020-03-21T00:00:00",
          "2020-03-22T00:00:00",
          "2020-03-23T00:00:00",
          "2020-03-24T00:00:00",
          "2020-03-25T00:00:00",
          "2020-03-26T00:00:00",
          "2020-03-27T00:00:00",
          "2020-03-28T00:00:00",
          "2020-03-29T00:00:00",
          "2020-03-30T00:00:00",
          "2020-03-31T00:00:00",
          "2020-04-01T00:00:00",
          "2020-04-02T00:00:00",
          "2020-04-03T00:00:00",
          "2020-04-04T00:00:00",
          "2020-04-05T00:00:00",
          "2020-04-06T00:00:00",
          "2020-04-07T00:00:00",
          "2020-04-08T00:00:00",
          "2020-04-09T00:00:00",
          "2020-04-10T00:00:00",
          "2020-04-11T00:00:00",
          "2020-04-12T00:00:00",
          "2020-04-13T00:00:00",
          "2020-04-14T00:00:00",
          "2020-04-15T00:00:00",
          "2020-04-16T00:00:00",
          "2020-04-17T00:00:00",
          "2020-04-18T00:00:00",
          "2020-04-19T00:00:00",
          "2020-04-20T00:00:00",
          "2020-04-21T00:00:00",
          "2020-04-22T00:00:00",
          "2020-04-23T00:00:00",
          "2020-04-24T00:00:00",
          "2020-04-25T00:00:00",
          "2020-04-26T00:00:00",
          "2020-04-27T00:00:00",
          "2020-04-28T00:00:00",
          "2020-04-29T00:00:00",
          "2020-04-30T00:00:00",
          "2020-05-01T00:00:00",
          "2020-05-02T00:00:00",
          "2020-05-03T00:00:00",
          "2020-05-04T00:00:00",
          "2020-05-05T00:00:00",
          "2020-05-06T00:00:00",
          "2020-05-07T00:00:00",
          "2020-05-08T00:00:00",
          "2020-05-09T00:00:00",
          "2020-05-10T00:00:00",
          "2020-05-11T00:00:00",
          "2020-05-12T00:00:00",
          "2020-05-13T00:00:00",
          "2020-05-14T00:00:00",
          "2020-05-15T00:00:00",
          "2020-05-16T00:00:00",
          "2020-05-17T00:00:00",
          "2020-05-18T00:00:00",
          "2020-05-19T00:00:00",
          "2020-05-20T00:00:00",
          "2020-05-21T00:00:00",
          "2020-05-22T00:00:00",
          "2020-05-23T00:00:00",
          "2020-05-24T00:00:00",
          "2020-05-25T00:00:00",
          "2020-05-26T00:00:00",
          "2020-05-27T00:00:00",
          "2020-05-28T00:00:00",
          "2020-05-29T00:00:00",
          "2020-05-30T00:00:00",
          "2020-05-31T00:00:00",
          "2020-06-01T00:00:00",
          "2020-06-02T00:00:00",
          "2020-06-03T00:00:00",
          "2020-06-04T00:00:00",
          "2020-06-05T00:00:00",
          "2020-06-06T00:00:00",
          "2020-06-07T00:00:00",
          "2020-06-08T00:00:00",
          "2020-06-09T00:00:00",
          "2020-06-10T00:00:00",
          "2020-06-11T00:00:00",
          "2020-06-12T00:00:00",
          "2020-06-13T00:00:00",
          "2020-06-14T00:00:00"
         ],
         "y": [
          2022.7589864368165,
          2828.5685323756043,
          3920.0226438209697,
          5373.523596077101,
          7272.7435382345475,
          9702.462143648136,
          12739.240828268084,
          16439.377742228884,
          20825.577072765067,
          25874.764896346464,
          31510.07128957884,
          37599.750245456606,
          43964.546054402424,
          50393.00051453961,
          56662.10794975034,
          62559.35851105458,
          67902.06559817313,
          72550.91069918666,
          76416.34860530053,
          79458.22769516456,
          81680.1865174207,
          83120.90080730716,
          83844.1678620296,
          83929.3638819239,
          83463.23683274355,
          82533.4741255038,
          81224.09494573702,
          79612.47698048735,
          77767.71326379922,
          75749.96951600596,
          73610.53961821424,
          71392.3488131018,
          69130.71237622459,
          66854.21139297717,
          64585.59216541075,
          62342.63049108973,
          60138.927359286754,
          57984.6200849552,
          55887.00431949482,
          53851.069363711154,
          51879.95310499652,
          49975.3247435565,
          48137.70402016321,
          46366.725441608876,
          44661.35537575391,
          43020.069083305774,
          41440.99390536711,
          39922.02401056736,
          38460.911360244085,
          37055.33688787943,
          35702.96530971232,
          34401.4864805105,
          33148.645772868564,
          31942.265580962965,
          30780.25972227628,
          29660.642226558557,
          28581.531754659427,
          27541.152676325317,
          26537.833651887162,
          25570.00440478482,
          24636.19123727273,
          23735.01172786237,
          22865.168953694054,
          22025.445501859343,
          21214.697468623184,
          20431.848592581344,
          19675.884625254017,
          18945.848008847814,
          18240.83290447792,
          17559.980593763583,
          16902.475261291915,
          16267.540154043876,
          15654.434105691747,
          15062.448408037984,
          14490.904008215175,
          13939.149008149188,
          13406.556441830822,
          12892.522305847771,
          12396.46381915994,
          11917.817889070266,
          11456.039761604075,
          11010.601835950389,
          10580.992624153168,
          10166.715838806223,
          9767.289593055342,
          9382.245698713123,
          9011.129049722871,
          8653.497079553883,
          8308.919282363153,
          7976.976788914114,
          7657.261989301358,
          7349.378195493423,
          7052.9393375771415,
          6767.569688371991,
          6492.903611786414,
          6228.58533091633,
          5974.26871244488,
          5729.617064397727,
          5494.30294474566
         ]
        }
       ],
       "layout": {
        "template": {
         "data": {
          "bar": [
           {
            "error_x": {
             "color": "#2a3f5f"
            },
            "error_y": {
             "color": "#2a3f5f"
            },
            "marker": {
             "line": {
              "color": "#E5ECF6",
              "width": 0.5
             }
            },
            "type": "bar"
           }
          ],
          "barpolar": [
           {
            "marker": {
             "line": {
              "color": "#E5ECF6",
              "width": 0.5
             }
            },
            "type": "barpolar"
           }
          ],
          "carpet": [
           {
            "aaxis": {
             "endlinecolor": "#2a3f5f",
             "gridcolor": "white",
             "linecolor": "white",
             "minorgridcolor": "white",
             "startlinecolor": "#2a3f5f"
            },
            "baxis": {
             "endlinecolor": "#2a3f5f",
             "gridcolor": "white",
             "linecolor": "white",
             "minorgridcolor": "white",
             "startlinecolor": "#2a3f5f"
            },
            "type": "carpet"
           }
          ],
          "choropleth": [
           {
            "colorbar": {
             "outlinewidth": 0,
             "ticks": ""
            },
            "type": "choropleth"
           }
          ],
          "contour": [
           {
            "colorbar": {
             "outlinewidth": 0,
             "ticks": ""
            },
            "colorscale": [
             [
              0,
              "#0d0887"
             ],
             [
              0.1111111111111111,
              "#46039f"
             ],
             [
              0.2222222222222222,
              "#7201a8"
             ],
             [
              0.3333333333333333,
              "#9c179e"
             ],
             [
              0.4444444444444444,
              "#bd3786"
             ],
             [
              0.5555555555555556,
              "#d8576b"
             ],
             [
              0.6666666666666666,
              "#ed7953"
             ],
             [
              0.7777777777777778,
              "#fb9f3a"
             ],
             [
              0.8888888888888888,
              "#fdca26"
             ],
             [
              1,
              "#f0f921"
             ]
            ],
            "type": "contour"
           }
          ],
          "contourcarpet": [
           {
            "colorbar": {
             "outlinewidth": 0,
             "ticks": ""
            },
            "type": "contourcarpet"
           }
          ],
          "heatmap": [
           {
            "colorbar": {
             "outlinewidth": 0,
             "ticks": ""
            },
            "colorscale": [
             [
              0,
              "#0d0887"
             ],
             [
              0.1111111111111111,
              "#46039f"
             ],
             [
              0.2222222222222222,
              "#7201a8"
             ],
             [
              0.3333333333333333,
              "#9c179e"
             ],
             [
              0.4444444444444444,
              "#bd3786"
             ],
             [
              0.5555555555555556,
              "#d8576b"
             ],
             [
              0.6666666666666666,
              "#ed7953"
             ],
             [
              0.7777777777777778,
              "#fb9f3a"
             ],
             [
              0.8888888888888888,
              "#fdca26"
             ],
             [
              1,
              "#f0f921"
             ]
            ],
            "type": "heatmap"
           }
          ],
          "heatmapgl": [
           {
            "colorbar": {
             "outlinewidth": 0,
             "ticks": ""
            },
            "colorscale": [
             [
              0,
              "#0d0887"
             ],
             [
              0.1111111111111111,
              "#46039f"
             ],
             [
              0.2222222222222222,
              "#7201a8"
             ],
             [
              0.3333333333333333,
              "#9c179e"
             ],
             [
              0.4444444444444444,
              "#bd3786"
             ],
             [
              0.5555555555555556,
              "#d8576b"
             ],
             [
              0.6666666666666666,
              "#ed7953"
             ],
             [
              0.7777777777777778,
              "#fb9f3a"
             ],
             [
              0.8888888888888888,
              "#fdca26"
             ],
             [
              1,
              "#f0f921"
             ]
            ],
            "type": "heatmapgl"
           }
          ],
          "histogram": [
           {
            "marker": {
             "colorbar": {
              "outlinewidth": 0,
              "ticks": ""
             }
            },
            "type": "histogram"
           }
          ],
          "histogram2d": [
           {
            "colorbar": {
             "outlinewidth": 0,
             "ticks": ""
            },
            "colorscale": [
             [
              0,
              "#0d0887"
             ],
             [
              0.1111111111111111,
              "#46039f"
             ],
             [
              0.2222222222222222,
              "#7201a8"
             ],
             [
              0.3333333333333333,
              "#9c179e"
             ],
             [
              0.4444444444444444,
              "#bd3786"
             ],
             [
              0.5555555555555556,
              "#d8576b"
             ],
             [
              0.6666666666666666,
              "#ed7953"
             ],
             [
              0.7777777777777778,
              "#fb9f3a"
             ],
             [
              0.8888888888888888,
              "#fdca26"
             ],
             [
              1,
              "#f0f921"
             ]
            ],
            "type": "histogram2d"
           }
          ],
          "histogram2dcontour": [
           {
            "colorbar": {
             "outlinewidth": 0,
             "ticks": ""
            },
            "colorscale": [
             [
              0,
              "#0d0887"
             ],
             [
              0.1111111111111111,
              "#46039f"
             ],
             [
              0.2222222222222222,
              "#7201a8"
             ],
             [
              0.3333333333333333,
              "#9c179e"
             ],
             [
              0.4444444444444444,
              "#bd3786"
             ],
             [
              0.5555555555555556,
              "#d8576b"
             ],
             [
              0.6666666666666666,
              "#ed7953"
             ],
             [
              0.7777777777777778,
              "#fb9f3a"
             ],
             [
              0.8888888888888888,
              "#fdca26"
             ],
             [
              1,
              "#f0f921"
             ]
            ],
            "type": "histogram2dcontour"
           }
          ],
          "mesh3d": [
           {
            "colorbar": {
             "outlinewidth": 0,
             "ticks": ""
            },
            "type": "mesh3d"
           }
          ],
          "parcoords": [
           {
            "line": {
             "colorbar": {
              "outlinewidth": 0,
              "ticks": ""
             }
            },
            "type": "parcoords"
           }
          ],
          "pie": [
           {
            "automargin": true,
            "type": "pie"
           }
          ],
          "scatter": [
           {
            "marker": {
             "colorbar": {
              "outlinewidth": 0,
              "ticks": ""
             }
            },
            "type": "scatter"
           }
          ],
          "scatter3d": [
           {
            "line": {
             "colorbar": {
              "outlinewidth": 0,
              "ticks": ""
             }
            },
            "marker": {
             "colorbar": {
              "outlinewidth": 0,
              "ticks": ""
             }
            },
            "type": "scatter3d"
           }
          ],
          "scattercarpet": [
           {
            "marker": {
             "colorbar": {
              "outlinewidth": 0,
              "ticks": ""
             }
            },
            "type": "scattercarpet"
           }
          ],
          "scattergeo": [
           {
            "marker": {
             "colorbar": {
              "outlinewidth": 0,
              "ticks": ""
             }
            },
            "type": "scattergeo"
           }
          ],
          "scattergl": [
           {
            "marker": {
             "colorbar": {
              "outlinewidth": 0,
              "ticks": ""
             }
            },
            "type": "scattergl"
           }
          ],
          "scattermapbox": [
           {
            "marker": {
             "colorbar": {
              "outlinewidth": 0,
              "ticks": ""
             }
            },
            "type": "scattermapbox"
           }
          ],
          "scatterpolar": [
           {
            "marker": {
             "colorbar": {
              "outlinewidth": 0,
              "ticks": ""
             }
            },
            "type": "scatterpolar"
           }
          ],
          "scatterpolargl": [
           {
            "marker": {
             "colorbar": {
              "outlinewidth": 0,
              "ticks": ""
             }
            },
            "type": "scatterpolargl"
           }
          ],
          "scatterternary": [
           {
            "marker": {
             "colorbar": {
              "outlinewidth": 0,
              "ticks": ""
             }
            },
            "type": "scatterternary"
           }
          ],
          "surface": [
           {
            "colorbar": {
             "outlinewidth": 0,
             "ticks": ""
            },
            "colorscale": [
             [
              0,
              "#0d0887"
             ],
             [
              0.1111111111111111,
              "#46039f"
             ],
             [
              0.2222222222222222,
              "#7201a8"
             ],
             [
              0.3333333333333333,
              "#9c179e"
             ],
             [
              0.4444444444444444,
              "#bd3786"
             ],
             [
              0.5555555555555556,
              "#d8576b"
             ],
             [
              0.6666666666666666,
              "#ed7953"
             ],
             [
              0.7777777777777778,
              "#fb9f3a"
             ],
             [
              0.8888888888888888,
              "#fdca26"
             ],
             [
              1,
              "#f0f921"
             ]
            ],
            "type": "surface"
           }
          ],
          "table": [
           {
            "cells": {
             "fill": {
              "color": "#EBF0F8"
             },
             "line": {
              "color": "white"
             }
            },
            "header": {
             "fill": {
              "color": "#C8D4E3"
             },
             "line": {
              "color": "white"
             }
            },
            "type": "table"
           }
          ]
         },
         "layout": {
          "annotationdefaults": {
           "arrowcolor": "#2a3f5f",
           "arrowhead": 0,
           "arrowwidth": 1
          },
          "coloraxis": {
           "colorbar": {
            "outlinewidth": 0,
            "ticks": ""
           }
          },
          "colorscale": {
           "diverging": [
            [
             0,
             "#8e0152"
            ],
            [
             0.1,
             "#c51b7d"
            ],
            [
             0.2,
             "#de77ae"
            ],
            [
             0.3,
             "#f1b6da"
            ],
            [
             0.4,
             "#fde0ef"
            ],
            [
             0.5,
             "#f7f7f7"
            ],
            [
             0.6,
             "#e6f5d0"
            ],
            [
             0.7,
             "#b8e186"
            ],
            [
             0.8,
             "#7fbc41"
            ],
            [
             0.9,
             "#4d9221"
            ],
            [
             1,
             "#276419"
            ]
           ],
           "sequential": [
            [
             0,
             "#0d0887"
            ],
            [
             0.1111111111111111,
             "#46039f"
            ],
            [
             0.2222222222222222,
             "#7201a8"
            ],
            [
             0.3333333333333333,
             "#9c179e"
            ],
            [
             0.4444444444444444,
             "#bd3786"
            ],
            [
             0.5555555555555556,
             "#d8576b"
            ],
            [
             0.6666666666666666,
             "#ed7953"
            ],
            [
             0.7777777777777778,
             "#fb9f3a"
            ],
            [
             0.8888888888888888,
             "#fdca26"
            ],
            [
             1,
             "#f0f921"
            ]
           ],
           "sequentialminus": [
            [
             0,
             "#0d0887"
            ],
            [
             0.1111111111111111,
             "#46039f"
            ],
            [
             0.2222222222222222,
             "#7201a8"
            ],
            [
             0.3333333333333333,
             "#9c179e"
            ],
            [
             0.4444444444444444,
             "#bd3786"
            ],
            [
             0.5555555555555556,
             "#d8576b"
            ],
            [
             0.6666666666666666,
             "#ed7953"
            ],
            [
             0.7777777777777778,
             "#fb9f3a"
            ],
            [
             0.8888888888888888,
             "#fdca26"
            ],
            [
             1,
             "#f0f921"
            ]
           ]
          },
          "colorway": [
           "#636efa",
           "#EF553B",
           "#00cc96",
           "#ab63fa",
           "#FFA15A",
           "#19d3f3",
           "#FF6692",
           "#B6E880",
           "#FF97FF",
           "#FECB52"
          ],
          "font": {
           "color": "#2a3f5f"
          },
          "geo": {
           "bgcolor": "white",
           "lakecolor": "white",
           "landcolor": "#E5ECF6",
           "showlakes": true,
           "showland": true,
           "subunitcolor": "white"
          },
          "hoverlabel": {
           "align": "left"
          },
          "hovermode": "closest",
          "mapbox": {
           "style": "light"
          },
          "paper_bgcolor": "white",
          "plot_bgcolor": "#E5ECF6",
          "polar": {
           "angularaxis": {
            "gridcolor": "white",
            "linecolor": "white",
            "ticks": ""
           },
           "bgcolor": "#E5ECF6",
           "radialaxis": {
            "gridcolor": "white",
            "linecolor": "white",
            "ticks": ""
           }
          },
          "scene": {
           "xaxis": {
            "backgroundcolor": "#E5ECF6",
            "gridcolor": "white",
            "gridwidth": 2,
            "linecolor": "white",
            "showbackground": true,
            "ticks": "",
            "zerolinecolor": "white"
           },
           "yaxis": {
            "backgroundcolor": "#E5ECF6",
            "gridcolor": "white",
            "gridwidth": 2,
            "linecolor": "white",
            "showbackground": true,
            "ticks": "",
            "zerolinecolor": "white"
           },
           "zaxis": {
            "backgroundcolor": "#E5ECF6",
            "gridcolor": "white",
            "gridwidth": 2,
            "linecolor": "white",
            "showbackground": true,
            "ticks": "",
            "zerolinecolor": "white"
           }
          },
          "shapedefaults": {
           "line": {
            "color": "#2a3f5f"
           }
          },
          "ternary": {
           "aaxis": {
            "gridcolor": "white",
            "linecolor": "white",
            "ticks": ""
           },
           "baxis": {
            "gridcolor": "white",
            "linecolor": "white",
            "ticks": ""
           },
           "bgcolor": "#E5ECF6",
           "caxis": {
            "gridcolor": "white",
            "linecolor": "white",
            "ticks": ""
           }
          },
          "title": {
           "x": 0.05
          },
          "xaxis": {
           "automargin": true,
           "gridcolor": "white",
           "linecolor": "white",
           "ticks": "",
           "title": {
            "standoff": 15
           },
           "zerolinecolor": "white",
           "zerolinewidth": 2
          },
          "yaxis": {
           "automargin": true,
           "gridcolor": "white",
           "linecolor": "white",
           "ticks": "",
           "title": {
            "standoff": 15
           },
           "zerolinecolor": "white",
           "zerolinewidth": 2
          }
         }
        },
        "title": {
         "text": "Total number of infections"
        },
        "yaxis": {
         "title": {
          "text": "Days"
         }
        }
       }
      },
      "text/html": [
       "<div>\n",
       "        \n",
       "        \n",
       "            <div id=\"f9c301f0-6a51-4d94-8a13-0b9b824a96f0\" class=\"plotly-graph-div\" style=\"height:525px; width:100%;\"></div>\n",
       "            <script type=\"text/javascript\">\n",
       "                require([\"plotly\"], function(Plotly) {\n",
       "                    window.PLOTLYENV=window.PLOTLYENV || {};\n",
       "                    \n",
       "                if (document.getElementById(\"f9c301f0-6a51-4d94-8a13-0b9b824a96f0\")) {\n",
       "                    Plotly.newPlot(\n",
       "                        'f9c301f0-6a51-4d94-8a13-0b9b824a96f0',\n",
       "                        [{\"line\": {\"color\": \"#bcbd22\", \"shape\": \"spline\"}, \"mode\": \"lines\", \"showlegend\": false, \"type\": \"scatter\", \"x\": [\"2020-03-08T00:00:00\", \"2020-03-09T00:00:00\", \"2020-03-10T00:00:00\", \"2020-03-11T00:00:00\", \"2020-03-12T00:00:00\", \"2020-03-13T00:00:00\", \"2020-03-14T00:00:00\", \"2020-03-15T00:00:00\", \"2020-03-16T00:00:00\", \"2020-03-17T00:00:00\", \"2020-03-18T00:00:00\", \"2020-03-19T00:00:00\", \"2020-03-20T00:00:00\", \"2020-03-21T00:00:00\", \"2020-03-22T00:00:00\", \"2020-03-23T00:00:00\", \"2020-03-24T00:00:00\", \"2020-03-25T00:00:00\", \"2020-03-26T00:00:00\", \"2020-03-27T00:00:00\", \"2020-03-28T00:00:00\", \"2020-03-29T00:00:00\", \"2020-03-30T00:00:00\", \"2020-03-31T00:00:00\", \"2020-04-01T00:00:00\", \"2020-04-02T00:00:00\", \"2020-04-03T00:00:00\", \"2020-04-04T00:00:00\", \"2020-04-05T00:00:00\", \"2020-04-06T00:00:00\", \"2020-04-07T00:00:00\", \"2020-04-08T00:00:00\", \"2020-04-09T00:00:00\", \"2020-04-10T00:00:00\", \"2020-04-11T00:00:00\", \"2020-04-12T00:00:00\", \"2020-04-13T00:00:00\", \"2020-04-14T00:00:00\", \"2020-04-15T00:00:00\", \"2020-04-16T00:00:00\", \"2020-04-17T00:00:00\", \"2020-04-18T00:00:00\", \"2020-04-19T00:00:00\", \"2020-04-20T00:00:00\", \"2020-04-21T00:00:00\", \"2020-04-22T00:00:00\", \"2020-04-23T00:00:00\", \"2020-04-24T00:00:00\", \"2020-04-25T00:00:00\", \"2020-04-26T00:00:00\", \"2020-04-27T00:00:00\", \"2020-04-28T00:00:00\", \"2020-04-29T00:00:00\", \"2020-04-30T00:00:00\", \"2020-05-01T00:00:00\", \"2020-05-02T00:00:00\", \"2020-05-03T00:00:00\", \"2020-05-04T00:00:00\", \"2020-05-05T00:00:00\", \"2020-05-06T00:00:00\", \"2020-05-07T00:00:00\", \"2020-05-08T00:00:00\", \"2020-05-09T00:00:00\", \"2020-05-10T00:00:00\", \"2020-05-11T00:00:00\", \"2020-05-12T00:00:00\", \"2020-05-13T00:00:00\", \"2020-05-14T00:00:00\", \"2020-05-15T00:00:00\", \"2020-05-16T00:00:00\", \"2020-05-17T00:00:00\", \"2020-05-18T00:00:00\", \"2020-05-19T00:00:00\", \"2020-05-20T00:00:00\", \"2020-05-21T00:00:00\", \"2020-05-22T00:00:00\", \"2020-05-23T00:00:00\", \"2020-05-24T00:00:00\", \"2020-05-25T00:00:00\", \"2020-05-26T00:00:00\", \"2020-05-27T00:00:00\", \"2020-05-28T00:00:00\", \"2020-05-29T00:00:00\", \"2020-05-30T00:00:00\", \"2020-05-31T00:00:00\", \"2020-06-01T00:00:00\", \"2020-06-02T00:00:00\", \"2020-06-03T00:00:00\", \"2020-06-04T00:00:00\", \"2020-06-05T00:00:00\", \"2020-06-06T00:00:00\", \"2020-06-07T00:00:00\", \"2020-06-08T00:00:00\", \"2020-06-09T00:00:00\", \"2020-06-10T00:00:00\", \"2020-06-11T00:00:00\", \"2020-06-12T00:00:00\", \"2020-06-13T00:00:00\", \"2020-06-14T00:00:00\"], \"y\": [0, 0, 0, 0, 0, 0, 0, 0, 0, 0, 0, 0, 0, 0, 0, 0, 0, 0, 0, 0, 0, 0, 0, 0, 0, 0, 0, 0, 0, 0, 0, 0, 0, 0, 0, 0, 0, 0, 0, 0, 0, 0, 0, 0, 0, 0, 0, 0, 0, 0, 0, 0, 0, 0, 0, 0, 0, 0, 0, 0, 0, 0, 0, 0, 0, 0, 0, 0, 0, 0, 0, 0, 0, 0, 0, 0, 0, 0, 0, 0, 0, 0, 0, 0, 0, 0, 0, 0, 0, 0, 0, 0, 0, 0, 0, 0, 0, 0, 0]}, {\"fill\": \"tonexty\", \"fillcolor\": \"rgba(188,189,34,0.5)\", \"line\": {\"color\": \"#bcbd22\", \"shape\": \"spline\"}, \"mode\": \"lines\", \"name\": \"Fit\", \"showlegend\": true, \"type\": \"scatter\", \"x\": [\"2020-03-08T00:00:00\", \"2020-03-09T00:00:00\", \"2020-03-10T00:00:00\", \"2020-03-11T00:00:00\", \"2020-03-12T00:00:00\", \"2020-03-13T00:00:00\", \"2020-03-14T00:00:00\", \"2020-03-15T00:00:00\", \"2020-03-16T00:00:00\", \"2020-03-17T00:00:00\", \"2020-03-18T00:00:00\", \"2020-03-19T00:00:00\", \"2020-03-20T00:00:00\", \"2020-03-21T00:00:00\", \"2020-03-22T00:00:00\", \"2020-03-23T00:00:00\", \"2020-03-24T00:00:00\", \"2020-03-25T00:00:00\", \"2020-03-26T00:00:00\", \"2020-03-27T00:00:00\", \"2020-03-28T00:00:00\", \"2020-03-29T00:00:00\", \"2020-03-30T00:00:00\", \"2020-03-31T00:00:00\", \"2020-04-01T00:00:00\", \"2020-04-02T00:00:00\", \"2020-04-03T00:00:00\", \"2020-04-04T00:00:00\", \"2020-04-05T00:00:00\", \"2020-04-06T00:00:00\", \"2020-04-07T00:00:00\", \"2020-04-08T00:00:00\", \"2020-04-09T00:00:00\", \"2020-04-10T00:00:00\", \"2020-04-11T00:00:00\", \"2020-04-12T00:00:00\", \"2020-04-13T00:00:00\", \"2020-04-14T00:00:00\", \"2020-04-15T00:00:00\", \"2020-04-16T00:00:00\", \"2020-04-17T00:00:00\", \"2020-04-18T00:00:00\", \"2020-04-19T00:00:00\", \"2020-04-20T00:00:00\", \"2020-04-21T00:00:00\", \"2020-04-22T00:00:00\", \"2020-04-23T00:00:00\", \"2020-04-24T00:00:00\", \"2020-04-25T00:00:00\", \"2020-04-26T00:00:00\", \"2020-04-27T00:00:00\", \"2020-04-28T00:00:00\", \"2020-04-29T00:00:00\", \"2020-04-30T00:00:00\", \"2020-05-01T00:00:00\", \"2020-05-02T00:00:00\", \"2020-05-03T00:00:00\", \"2020-05-04T00:00:00\", \"2020-05-05T00:00:00\", \"2020-05-06T00:00:00\", \"2020-05-07T00:00:00\", \"2020-05-08T00:00:00\", \"2020-05-09T00:00:00\", \"2020-05-10T00:00:00\", \"2020-05-11T00:00:00\", \"2020-05-12T00:00:00\", \"2020-05-13T00:00:00\", \"2020-05-14T00:00:00\", \"2020-05-15T00:00:00\", \"2020-05-16T00:00:00\", \"2020-05-17T00:00:00\", \"2020-05-18T00:00:00\", \"2020-05-19T00:00:00\", \"2020-05-20T00:00:00\", \"2020-05-21T00:00:00\", \"2020-05-22T00:00:00\", \"2020-05-23T00:00:00\", \"2020-05-24T00:00:00\", \"2020-05-25T00:00:00\", \"2020-05-26T00:00:00\", \"2020-05-27T00:00:00\", \"2020-05-28T00:00:00\", \"2020-05-29T00:00:00\", \"2020-05-30T00:00:00\", \"2020-05-31T00:00:00\", \"2020-06-01T00:00:00\", \"2020-06-02T00:00:00\", \"2020-06-03T00:00:00\", \"2020-06-04T00:00:00\", \"2020-06-05T00:00:00\", \"2020-06-06T00:00:00\", \"2020-06-07T00:00:00\", \"2020-06-08T00:00:00\", \"2020-06-09T00:00:00\", \"2020-06-10T00:00:00\", \"2020-06-11T00:00:00\", \"2020-06-12T00:00:00\", \"2020-06-13T00:00:00\", \"2020-06-14T00:00:00\"], \"y\": [2022.7589864368165, 2828.5685323756043, 3920.0226438209697, 5373.523596077101, 7272.7435382345475, 9702.462143648136, 12739.240828268084, 16439.377742228884, 20825.577072765067, 25874.764896346464, 31510.07128957884, 37599.750245456606, 43964.546054402424, 50393.00051453961, 56662.10794975034, 62559.35851105458, 67902.06559817313, 72550.91069918666, 76416.34860530053, 79458.22769516456, 81680.1865174207, 83120.90080730716, 83844.1678620296, 83929.3638819239, 83463.23683274355, 82533.4741255038, 81224.09494573702, 79612.47698048735, 77767.71326379922, 75749.96951600596, 73610.53961821424, 71392.3488131018, 69130.71237622459, 66854.21139297717, 64585.59216541075, 62342.63049108973, 60138.927359286754, 57984.6200849552, 55887.00431949482, 53851.069363711154, 51879.95310499652, 49975.3247435565, 48137.70402016321, 46366.725441608876, 44661.35537575391, 43020.069083305774, 41440.99390536711, 39922.02401056736, 38460.911360244085, 37055.33688787943, 35702.96530971232, 34401.4864805105, 33148.645772868564, 31942.265580962965, 30780.25972227628, 29660.642226558557, 28581.531754659427, 27541.152676325317, 26537.833651887162, 25570.00440478482, 24636.19123727273, 23735.01172786237, 22865.168953694054, 22025.445501859343, 21214.697468623184, 20431.848592581344, 19675.884625254017, 18945.848008847814, 18240.83290447792, 17559.980593763583, 16902.475261291915, 16267.540154043876, 15654.434105691747, 15062.448408037984, 14490.904008215175, 13939.149008149188, 13406.556441830822, 12892.522305847771, 12396.46381915994, 11917.817889070266, 11456.039761604075, 11010.601835950389, 10580.992624153168, 10166.715838806223, 9767.289593055342, 9382.245698713123, 9011.129049722871, 8653.497079553883, 8308.919282363153, 7976.976788914114, 7657.261989301358, 7349.378195493423, 7052.9393375771415, 6767.569688371991, 6492.903611786414, 6228.58533091633, 5974.26871244488, 5729.617064397727, 5494.30294474566]}],\n",
       "                        {\"template\": {\"data\": {\"bar\": [{\"error_x\": {\"color\": \"#2a3f5f\"}, \"error_y\": {\"color\": \"#2a3f5f\"}, \"marker\": {\"line\": {\"color\": \"#E5ECF6\", \"width\": 0.5}}, \"type\": \"bar\"}], \"barpolar\": [{\"marker\": {\"line\": {\"color\": \"#E5ECF6\", \"width\": 0.5}}, \"type\": \"barpolar\"}], \"carpet\": [{\"aaxis\": {\"endlinecolor\": \"#2a3f5f\", \"gridcolor\": \"white\", \"linecolor\": \"white\", \"minorgridcolor\": \"white\", \"startlinecolor\": \"#2a3f5f\"}, \"baxis\": {\"endlinecolor\": \"#2a3f5f\", \"gridcolor\": \"white\", \"linecolor\": \"white\", \"minorgridcolor\": \"white\", \"startlinecolor\": \"#2a3f5f\"}, \"type\": \"carpet\"}], \"choropleth\": [{\"colorbar\": {\"outlinewidth\": 0, \"ticks\": \"\"}, \"type\": \"choropleth\"}], \"contour\": [{\"colorbar\": {\"outlinewidth\": 0, \"ticks\": \"\"}, \"colorscale\": [[0.0, \"#0d0887\"], [0.1111111111111111, \"#46039f\"], [0.2222222222222222, \"#7201a8\"], [0.3333333333333333, \"#9c179e\"], [0.4444444444444444, \"#bd3786\"], [0.5555555555555556, \"#d8576b\"], [0.6666666666666666, \"#ed7953\"], [0.7777777777777778, \"#fb9f3a\"], [0.8888888888888888, \"#fdca26\"], [1.0, \"#f0f921\"]], \"type\": \"contour\"}], \"contourcarpet\": [{\"colorbar\": {\"outlinewidth\": 0, \"ticks\": \"\"}, \"type\": \"contourcarpet\"}], \"heatmap\": [{\"colorbar\": {\"outlinewidth\": 0, \"ticks\": \"\"}, \"colorscale\": [[0.0, \"#0d0887\"], [0.1111111111111111, \"#46039f\"], [0.2222222222222222, \"#7201a8\"], [0.3333333333333333, \"#9c179e\"], [0.4444444444444444, \"#bd3786\"], [0.5555555555555556, \"#d8576b\"], [0.6666666666666666, \"#ed7953\"], [0.7777777777777778, \"#fb9f3a\"], [0.8888888888888888, \"#fdca26\"], [1.0, \"#f0f921\"]], \"type\": \"heatmap\"}], \"heatmapgl\": [{\"colorbar\": {\"outlinewidth\": 0, \"ticks\": \"\"}, \"colorscale\": [[0.0, \"#0d0887\"], [0.1111111111111111, \"#46039f\"], [0.2222222222222222, \"#7201a8\"], [0.3333333333333333, \"#9c179e\"], [0.4444444444444444, \"#bd3786\"], [0.5555555555555556, \"#d8576b\"], [0.6666666666666666, \"#ed7953\"], [0.7777777777777778, \"#fb9f3a\"], [0.8888888888888888, \"#fdca26\"], [1.0, \"#f0f921\"]], \"type\": \"heatmapgl\"}], \"histogram\": [{\"marker\": {\"colorbar\": {\"outlinewidth\": 0, \"ticks\": \"\"}}, \"type\": \"histogram\"}], \"histogram2d\": [{\"colorbar\": {\"outlinewidth\": 0, \"ticks\": \"\"}, \"colorscale\": [[0.0, \"#0d0887\"], [0.1111111111111111, \"#46039f\"], [0.2222222222222222, \"#7201a8\"], [0.3333333333333333, \"#9c179e\"], [0.4444444444444444, \"#bd3786\"], [0.5555555555555556, \"#d8576b\"], [0.6666666666666666, \"#ed7953\"], [0.7777777777777778, \"#fb9f3a\"], [0.8888888888888888, \"#fdca26\"], [1.0, \"#f0f921\"]], \"type\": \"histogram2d\"}], \"histogram2dcontour\": [{\"colorbar\": {\"outlinewidth\": 0, \"ticks\": \"\"}, \"colorscale\": [[0.0, \"#0d0887\"], [0.1111111111111111, \"#46039f\"], [0.2222222222222222, \"#7201a8\"], [0.3333333333333333, \"#9c179e\"], [0.4444444444444444, \"#bd3786\"], [0.5555555555555556, \"#d8576b\"], [0.6666666666666666, \"#ed7953\"], [0.7777777777777778, \"#fb9f3a\"], [0.8888888888888888, \"#fdca26\"], [1.0, \"#f0f921\"]], \"type\": \"histogram2dcontour\"}], \"mesh3d\": [{\"colorbar\": {\"outlinewidth\": 0, \"ticks\": \"\"}, \"type\": \"mesh3d\"}], \"parcoords\": [{\"line\": {\"colorbar\": {\"outlinewidth\": 0, \"ticks\": \"\"}}, \"type\": \"parcoords\"}], \"pie\": [{\"automargin\": true, \"type\": \"pie\"}], \"scatter\": [{\"marker\": {\"colorbar\": {\"outlinewidth\": 0, \"ticks\": \"\"}}, \"type\": \"scatter\"}], \"scatter3d\": [{\"line\": {\"colorbar\": {\"outlinewidth\": 0, \"ticks\": \"\"}}, \"marker\": {\"colorbar\": {\"outlinewidth\": 0, \"ticks\": \"\"}}, \"type\": \"scatter3d\"}], \"scattercarpet\": [{\"marker\": {\"colorbar\": {\"outlinewidth\": 0, \"ticks\": \"\"}}, \"type\": \"scattercarpet\"}], \"scattergeo\": [{\"marker\": {\"colorbar\": {\"outlinewidth\": 0, \"ticks\": \"\"}}, \"type\": \"scattergeo\"}], \"scattergl\": [{\"marker\": {\"colorbar\": {\"outlinewidth\": 0, \"ticks\": \"\"}}, \"type\": \"scattergl\"}], \"scattermapbox\": [{\"marker\": {\"colorbar\": {\"outlinewidth\": 0, \"ticks\": \"\"}}, \"type\": \"scattermapbox\"}], \"scatterpolar\": [{\"marker\": {\"colorbar\": {\"outlinewidth\": 0, \"ticks\": \"\"}}, \"type\": \"scatterpolar\"}], \"scatterpolargl\": [{\"marker\": {\"colorbar\": {\"outlinewidth\": 0, \"ticks\": \"\"}}, \"type\": \"scatterpolargl\"}], \"scatterternary\": [{\"marker\": {\"colorbar\": {\"outlinewidth\": 0, \"ticks\": \"\"}}, \"type\": \"scatterternary\"}], \"surface\": [{\"colorbar\": {\"outlinewidth\": 0, \"ticks\": \"\"}, \"colorscale\": [[0.0, \"#0d0887\"], [0.1111111111111111, \"#46039f\"], [0.2222222222222222, \"#7201a8\"], [0.3333333333333333, \"#9c179e\"], [0.4444444444444444, \"#bd3786\"], [0.5555555555555556, \"#d8576b\"], [0.6666666666666666, \"#ed7953\"], [0.7777777777777778, \"#fb9f3a\"], [0.8888888888888888, \"#fdca26\"], [1.0, \"#f0f921\"]], \"type\": \"surface\"}], \"table\": [{\"cells\": {\"fill\": {\"color\": \"#EBF0F8\"}, \"line\": {\"color\": \"white\"}}, \"header\": {\"fill\": {\"color\": \"#C8D4E3\"}, \"line\": {\"color\": \"white\"}}, \"type\": \"table\"}]}, \"layout\": {\"annotationdefaults\": {\"arrowcolor\": \"#2a3f5f\", \"arrowhead\": 0, \"arrowwidth\": 1}, \"coloraxis\": {\"colorbar\": {\"outlinewidth\": 0, \"ticks\": \"\"}}, \"colorscale\": {\"diverging\": [[0, \"#8e0152\"], [0.1, \"#c51b7d\"], [0.2, \"#de77ae\"], [0.3, \"#f1b6da\"], [0.4, \"#fde0ef\"], [0.5, \"#f7f7f7\"], [0.6, \"#e6f5d0\"], [0.7, \"#b8e186\"], [0.8, \"#7fbc41\"], [0.9, \"#4d9221\"], [1, \"#276419\"]], \"sequential\": [[0.0, \"#0d0887\"], [0.1111111111111111, \"#46039f\"], [0.2222222222222222, \"#7201a8\"], [0.3333333333333333, \"#9c179e\"], [0.4444444444444444, \"#bd3786\"], [0.5555555555555556, \"#d8576b\"], [0.6666666666666666, \"#ed7953\"], [0.7777777777777778, \"#fb9f3a\"], [0.8888888888888888, \"#fdca26\"], [1.0, \"#f0f921\"]], \"sequentialminus\": [[0.0, \"#0d0887\"], [0.1111111111111111, \"#46039f\"], [0.2222222222222222, \"#7201a8\"], [0.3333333333333333, \"#9c179e\"], [0.4444444444444444, \"#bd3786\"], [0.5555555555555556, \"#d8576b\"], [0.6666666666666666, \"#ed7953\"], [0.7777777777777778, \"#fb9f3a\"], [0.8888888888888888, \"#fdca26\"], [1.0, \"#f0f921\"]]}, \"colorway\": [\"#636efa\", \"#EF553B\", \"#00cc96\", \"#ab63fa\", \"#FFA15A\", \"#19d3f3\", \"#FF6692\", \"#B6E880\", \"#FF97FF\", \"#FECB52\"], \"font\": {\"color\": \"#2a3f5f\"}, \"geo\": {\"bgcolor\": \"white\", \"lakecolor\": \"white\", \"landcolor\": \"#E5ECF6\", \"showlakes\": true, \"showland\": true, \"subunitcolor\": \"white\"}, \"hoverlabel\": {\"align\": \"left\"}, \"hovermode\": \"closest\", \"mapbox\": {\"style\": \"light\"}, \"paper_bgcolor\": \"white\", \"plot_bgcolor\": \"#E5ECF6\", \"polar\": {\"angularaxis\": {\"gridcolor\": \"white\", \"linecolor\": \"white\", \"ticks\": \"\"}, \"bgcolor\": \"#E5ECF6\", \"radialaxis\": {\"gridcolor\": \"white\", \"linecolor\": \"white\", \"ticks\": \"\"}}, \"scene\": {\"xaxis\": {\"backgroundcolor\": \"#E5ECF6\", \"gridcolor\": \"white\", \"gridwidth\": 2, \"linecolor\": \"white\", \"showbackground\": true, \"ticks\": \"\", \"zerolinecolor\": \"white\"}, \"yaxis\": {\"backgroundcolor\": \"#E5ECF6\", \"gridcolor\": \"white\", \"gridwidth\": 2, \"linecolor\": \"white\", \"showbackground\": true, \"ticks\": \"\", \"zerolinecolor\": \"white\"}, \"zaxis\": {\"backgroundcolor\": \"#E5ECF6\", \"gridcolor\": \"white\", \"gridwidth\": 2, \"linecolor\": \"white\", \"showbackground\": true, \"ticks\": \"\", \"zerolinecolor\": \"white\"}}, \"shapedefaults\": {\"line\": {\"color\": \"#2a3f5f\"}}, \"ternary\": {\"aaxis\": {\"gridcolor\": \"white\", \"linecolor\": \"white\", \"ticks\": \"\"}, \"baxis\": {\"gridcolor\": \"white\", \"linecolor\": \"white\", \"ticks\": \"\"}, \"bgcolor\": \"#E5ECF6\", \"caxis\": {\"gridcolor\": \"white\", \"linecolor\": \"white\", \"ticks\": \"\"}}, \"title\": {\"x\": 0.05}, \"xaxis\": {\"automargin\": true, \"gridcolor\": \"white\", \"linecolor\": \"white\", \"ticks\": \"\", \"title\": {\"standoff\": 15}, \"zerolinecolor\": \"white\", \"zerolinewidth\": 2}, \"yaxis\": {\"automargin\": true, \"gridcolor\": \"white\", \"linecolor\": \"white\", \"ticks\": \"\", \"title\": {\"standoff\": 15}, \"zerolinecolor\": \"white\", \"zerolinewidth\": 2}}}, \"title\": {\"text\": \"Total number of infections\"}, \"yaxis\": {\"title\": {\"text\": \"Days\"}}},\n",
       "                        {\"responsive\": true}\n",
       "                    ).then(function(){\n",
       "                            \n",
       "var gd = document.getElementById('f9c301f0-6a51-4d94-8a13-0b9b824a96f0');\n",
       "var x = new MutationObserver(function (mutations, observer) {{\n",
       "        var display = window.getComputedStyle(gd).display;\n",
       "        if (!display || display === 'none') {{\n",
       "            console.log([gd, 'removed!']);\n",
       "            Plotly.purge(gd);\n",
       "            observer.disconnect();\n",
       "        }}\n",
       "}});\n",
       "\n",
       "// Listen for the removal of the full notebook cells\n",
       "var notebookContainer = gd.closest('#notebook-container');\n",
       "if (notebookContainer) {{\n",
       "    x.observe(notebookContainer, {childList: true});\n",
       "}}\n",
       "\n",
       "// Listen for the clearing of the current output cell\n",
       "var outputEl = gd.closest('.output');\n",
       "if (outputEl) {{\n",
       "    x.observe(outputEl, {childList: true});\n",
       "}}\n",
       "\n",
       "                        })\n",
       "                };\n",
       "                });\n",
       "            </script>\n",
       "        </div>"
      ]
     },
     "metadata": {},
     "output_type": "display_data"
    }
   ],
   "source": [
    "fig = go.Figure()\n",
    "plotting.add_gvar_scatter(\n",
    "    fig,\n",
    "    x=fit_res.index,\n",
    "    y=fit_res.infected.values + fit_res.hospitalized.values,\n",
    "    name=\"Fit\",\n",
    "    mode=\"markers+lines\",\n",
    "    gv_mode=\"band\",\n",
    "    color=\"#bcbd22\",\n",
    ")\n",
    "fig.update_layout(title=\"Total number of infections\", yaxis_title=\"Days\")\n",
    "fig.show()"
   ]
  },
  {
   "cell_type": "code",
   "execution_count": 282,
   "metadata": {},
   "outputs": [
    {
     "data": {
      "application/vnd.plotly.v1+json": {
       "config": {
        "plotlyServerURL": "https://plot.ly"
       },
       "data": [
        {
         "line": {
          "color": "#bcbd22",
          "shape": "spline"
         },
         "mode": "lines",
         "showlegend": false,
         "type": "scatter",
         "x": [
          "2020-03-08T00:00:00",
          "2020-03-09T00:00:00",
          "2020-03-10T00:00:00",
          "2020-03-11T00:00:00",
          "2020-03-12T00:00:00",
          "2020-03-13T00:00:00",
          "2020-03-14T00:00:00",
          "2020-03-15T00:00:00",
          "2020-03-16T00:00:00",
          "2020-03-17T00:00:00",
          "2020-03-18T00:00:00",
          "2020-03-19T00:00:00",
          "2020-03-20T00:00:00",
          "2020-03-21T00:00:00",
          "2020-03-22T00:00:00",
          "2020-03-23T00:00:00",
          "2020-03-24T00:00:00",
          "2020-03-25T00:00:00",
          "2020-03-26T00:00:00",
          "2020-03-27T00:00:00",
          "2020-03-28T00:00:00",
          "2020-03-29T00:00:00",
          "2020-03-30T00:00:00",
          "2020-03-31T00:00:00",
          "2020-04-01T00:00:00",
          "2020-04-02T00:00:00",
          "2020-04-03T00:00:00",
          "2020-04-04T00:00:00",
          "2020-04-05T00:00:00",
          "2020-04-06T00:00:00",
          "2020-04-07T00:00:00",
          "2020-04-08T00:00:00",
          "2020-04-09T00:00:00",
          "2020-04-10T00:00:00",
          "2020-04-11T00:00:00",
          "2020-04-12T00:00:00",
          "2020-04-13T00:00:00",
          "2020-04-14T00:00:00",
          "2020-04-15T00:00:00",
          "2020-04-16T00:00:00",
          "2020-04-17T00:00:00",
          "2020-04-18T00:00:00",
          "2020-04-19T00:00:00",
          "2020-04-20T00:00:00",
          "2020-04-21T00:00:00",
          "2020-04-22T00:00:00",
          "2020-04-23T00:00:00",
          "2020-04-24T00:00:00",
          "2020-04-25T00:00:00",
          "2020-04-26T00:00:00",
          "2020-04-27T00:00:00",
          "2020-04-28T00:00:00",
          "2020-04-29T00:00:00",
          "2020-04-30T00:00:00",
          "2020-05-01T00:00:00",
          "2020-05-02T00:00:00",
          "2020-05-03T00:00:00",
          "2020-05-04T00:00:00",
          "2020-05-05T00:00:00",
          "2020-05-06T00:00:00",
          "2020-05-07T00:00:00",
          "2020-05-08T00:00:00",
          "2020-05-09T00:00:00",
          "2020-05-10T00:00:00",
          "2020-05-11T00:00:00",
          "2020-05-12T00:00:00",
          "2020-05-13T00:00:00",
          "2020-05-14T00:00:00",
          "2020-05-15T00:00:00",
          "2020-05-16T00:00:00",
          "2020-05-17T00:00:00",
          "2020-05-18T00:00:00",
          "2020-05-19T00:00:00",
          "2020-05-20T00:00:00",
          "2020-05-21T00:00:00",
          "2020-05-22T00:00:00",
          "2020-05-23T00:00:00",
          "2020-05-24T00:00:00",
          "2020-05-25T00:00:00",
          "2020-05-26T00:00:00",
          "2020-05-27T00:00:00",
          "2020-05-28T00:00:00",
          "2020-05-29T00:00:00",
          "2020-05-30T00:00:00",
          "2020-05-31T00:00:00",
          "2020-06-01T00:00:00",
          "2020-06-02T00:00:00",
          "2020-06-03T00:00:00",
          "2020-06-04T00:00:00",
          "2020-06-05T00:00:00",
          "2020-06-06T00:00:00",
          "2020-06-07T00:00:00",
          "2020-06-08T00:00:00",
          "2020-06-09T00:00:00",
          "2020-06-10T00:00:00",
          "2020-06-11T00:00:00",
          "2020-06-12T00:00:00",
          "2020-06-13T00:00:00",
          "2020-06-14T00:00:00"
         ],
         "y": [
          1.1082343115870266,
          1.1370946079732278,
          1.16997085233099,
          1.207416138767023,
          1.2500133168409269,
          1.298322012874867,
          1.3527987155614365,
          1.4136923031779998,
          1.4809212519262844,
          1.553940792656686,
          1.631607778058128,
          1.7120488538662952,
          1.7925365888456433,
          1.8693822268116538,
          1.9378645739550426,
          1.9922300862292381,
          2.0258130089554296,
          2.0313271527561727,
          2.0013633606443375,
          1.9290843931516428,
          1.8090474004140935,
          1.6380217359685023,
          1.4156332319308103,
          1.144677747472219,
          0.8310114141144522,
          0.4830235007346939,
          0.11079535410830665,
          0,
          0,
          0,
          0,
          0,
          0,
          0,
          0,
          0,
          0,
          0,
          0,
          0,
          0,
          0,
          0,
          0,
          0,
          0,
          0,
          0,
          0,
          0,
          0,
          0,
          0,
          0,
          0,
          0,
          0,
          0,
          0,
          0,
          0,
          0,
          0,
          0,
          0,
          0,
          0,
          0,
          0,
          0,
          0,
          0,
          0,
          0,
          0,
          0,
          0,
          0,
          0,
          0,
          0,
          0,
          0,
          0,
          0,
          0,
          0,
          0,
          0,
          0,
          0,
          0,
          0,
          0,
          0,
          0,
          0,
          0,
          0
         ]
        },
        {
         "fill": "tonexty",
         "fillcolor": "rgba(188,189,34,0.5)",
         "line": {
          "color": "#bcbd22",
          "shape": "spline"
         },
         "mode": "lines",
         "name": "Fit",
         "showlegend": true,
         "type": "scatter",
         "x": [
          "2020-03-08T00:00:00",
          "2020-03-09T00:00:00",
          "2020-03-10T00:00:00",
          "2020-03-11T00:00:00",
          "2020-03-12T00:00:00",
          "2020-03-13T00:00:00",
          "2020-03-14T00:00:00",
          "2020-03-15T00:00:00",
          "2020-03-16T00:00:00",
          "2020-03-17T00:00:00",
          "2020-03-18T00:00:00",
          "2020-03-19T00:00:00",
          "2020-03-20T00:00:00",
          "2020-03-21T00:00:00",
          "2020-03-22T00:00:00",
          "2020-03-23T00:00:00",
          "2020-03-24T00:00:00",
          "2020-03-25T00:00:00",
          "2020-03-26T00:00:00",
          "2020-03-27T00:00:00",
          "2020-03-28T00:00:00",
          "2020-03-29T00:00:00",
          "2020-03-30T00:00:00",
          "2020-03-31T00:00:00",
          "2020-04-01T00:00:00",
          "2020-04-02T00:00:00",
          "2020-04-03T00:00:00",
          "2020-04-04T00:00:00",
          "2020-04-05T00:00:00",
          "2020-04-06T00:00:00",
          "2020-04-07T00:00:00",
          "2020-04-08T00:00:00",
          "2020-04-09T00:00:00",
          "2020-04-10T00:00:00",
          "2020-04-11T00:00:00",
          "2020-04-12T00:00:00",
          "2020-04-13T00:00:00",
          "2020-04-14T00:00:00",
          "2020-04-15T00:00:00",
          "2020-04-16T00:00:00",
          "2020-04-17T00:00:00",
          "2020-04-18T00:00:00",
          "2020-04-19T00:00:00",
          "2020-04-20T00:00:00",
          "2020-04-21T00:00:00",
          "2020-04-22T00:00:00",
          "2020-04-23T00:00:00",
          "2020-04-24T00:00:00",
          "2020-04-25T00:00:00",
          "2020-04-26T00:00:00",
          "2020-04-27T00:00:00",
          "2020-04-28T00:00:00",
          "2020-04-29T00:00:00",
          "2020-04-30T00:00:00",
          "2020-05-01T00:00:00",
          "2020-05-02T00:00:00",
          "2020-05-03T00:00:00",
          "2020-05-04T00:00:00",
          "2020-05-05T00:00:00",
          "2020-05-06T00:00:00",
          "2020-05-07T00:00:00",
          "2020-05-08T00:00:00",
          "2020-05-09T00:00:00",
          "2020-05-10T00:00:00",
          "2020-05-11T00:00:00",
          "2020-05-12T00:00:00",
          "2020-05-13T00:00:00",
          "2020-05-14T00:00:00",
          "2020-05-15T00:00:00",
          "2020-05-16T00:00:00",
          "2020-05-17T00:00:00",
          "2020-05-18T00:00:00",
          "2020-05-19T00:00:00",
          "2020-05-20T00:00:00",
          "2020-05-21T00:00:00",
          "2020-05-22T00:00:00",
          "2020-05-23T00:00:00",
          "2020-05-24T00:00:00",
          "2020-05-25T00:00:00",
          "2020-05-26T00:00:00",
          "2020-05-27T00:00:00",
          "2020-05-28T00:00:00",
          "2020-05-29T00:00:00",
          "2020-05-30T00:00:00",
          "2020-05-31T00:00:00",
          "2020-06-01T00:00:00",
          "2020-06-02T00:00:00",
          "2020-06-03T00:00:00",
          "2020-06-04T00:00:00",
          "2020-06-05T00:00:00",
          "2020-06-06T00:00:00",
          "2020-06-07T00:00:00",
          "2020-06-08T00:00:00",
          "2020-06-09T00:00:00",
          "2020-06-10T00:00:00",
          "2020-06-11T00:00:00",
          "2020-06-12T00:00:00",
          "2020-06-13T00:00:00",
          "2020-06-14T00:00:00"
         ],
         "y": [
          1.5572246291561245,
          1.6076994231075676,
          1.669073923125585,
          1.7434188972546831,
          1.8331581848670941,
          1.9411424759214808,
          2.070734087992122,
          2.2258917232519035,
          2.411238450376476,
          2.632092851956985,
          2.8944437795702127,
          3.2048534220688643,
          3.5702793866863836,
          3.997811193102402,
          4.494318297902577,
          5.066006911152915,
          5.71788574792365,
          6.45315189396495,
          7.27253109970539,
          8.17364126895973,
          9.150485039119609,
          10.193200444124404,
          11.288188676669597,
          12.418684528476355,
          13.565746198497955,
          14.709543738787914,
          15.830753965996692,
          16.911849427645485,
          17.938104140256574,
          18.89821250429853,
          19.78450258483665,
          20.59279573619908,
          21.32200719027803,
          21.973594980473273,
          22.550954356011697,
          23.05883185211674,
          23.502806665046883,
          23.888863169631065,
          24.223060313691178,
          24.5112917857849,
          24.75912442571794,
          24.971699924710382,
          25.15368503151355,
          25.309257088106165,
          25.442113941159782,
          25.55549959226979,
          25.65223907228794,
          25.73477782335359,
          25.805222314935577,
          25.865379729749353,
          25.91679537874211,
          25.960787095447806,
          25.998476270389094,
          26.03081546054206,
          26.05861268370581,
          26.08255261155387,
          26.103214929946297,
          26.121090156827783,
          26.136593208360683,
          26.15007499107712,
          26.161832277473376,
          26.172116098465416,
          26.181138860990625,
          26.18908037437336,
          26.19609294581516,
          26.202305684021443,
          26.20782813076888,
          26.212753323170183,
          26.21716037443555,
          26.221116647915522,
          26.224679587955542,
          26.22789826142531,
          26.2308146555026,
          26.23346477022914,
          26.235879538349174,
          26.238085599843266,
          26.24010595425149,
          26.24196051023032,
          26.24366654870344,
          26.245239113367667,
          26.2466913401227,
          26.248034735148273,
          26.249279409799982,
          26.25043427918768,
          26.251507230204517,
          26.252505263848978,
          26.253434615910137,
          26.254300859432586,
          26.255108991832458,
          26.255863509075592,
          26.25656846894517,
          26.257227545099546,
          26.257844073353343,
          26.258421091383592,
          26.258961372872427,
          26.259467456938474,
          26.259941673571525,
          26.260386165675158,
          26.260802908223205
         ]
        }
       ],
       "layout": {
        "template": {
         "data": {
          "bar": [
           {
            "error_x": {
             "color": "#2a3f5f"
            },
            "error_y": {
             "color": "#2a3f5f"
            },
            "marker": {
             "line": {
              "color": "#E5ECF6",
              "width": 0.5
             }
            },
            "type": "bar"
           }
          ],
          "barpolar": [
           {
            "marker": {
             "line": {
              "color": "#E5ECF6",
              "width": 0.5
             }
            },
            "type": "barpolar"
           }
          ],
          "carpet": [
           {
            "aaxis": {
             "endlinecolor": "#2a3f5f",
             "gridcolor": "white",
             "linecolor": "white",
             "minorgridcolor": "white",
             "startlinecolor": "#2a3f5f"
            },
            "baxis": {
             "endlinecolor": "#2a3f5f",
             "gridcolor": "white",
             "linecolor": "white",
             "minorgridcolor": "white",
             "startlinecolor": "#2a3f5f"
            },
            "type": "carpet"
           }
          ],
          "choropleth": [
           {
            "colorbar": {
             "outlinewidth": 0,
             "ticks": ""
            },
            "type": "choropleth"
           }
          ],
          "contour": [
           {
            "colorbar": {
             "outlinewidth": 0,
             "ticks": ""
            },
            "colorscale": [
             [
              0,
              "#0d0887"
             ],
             [
              0.1111111111111111,
              "#46039f"
             ],
             [
              0.2222222222222222,
              "#7201a8"
             ],
             [
              0.3333333333333333,
              "#9c179e"
             ],
             [
              0.4444444444444444,
              "#bd3786"
             ],
             [
              0.5555555555555556,
              "#d8576b"
             ],
             [
              0.6666666666666666,
              "#ed7953"
             ],
             [
              0.7777777777777778,
              "#fb9f3a"
             ],
             [
              0.8888888888888888,
              "#fdca26"
             ],
             [
              1,
              "#f0f921"
             ]
            ],
            "type": "contour"
           }
          ],
          "contourcarpet": [
           {
            "colorbar": {
             "outlinewidth": 0,
             "ticks": ""
            },
            "type": "contourcarpet"
           }
          ],
          "heatmap": [
           {
            "colorbar": {
             "outlinewidth": 0,
             "ticks": ""
            },
            "colorscale": [
             [
              0,
              "#0d0887"
             ],
             [
              0.1111111111111111,
              "#46039f"
             ],
             [
              0.2222222222222222,
              "#7201a8"
             ],
             [
              0.3333333333333333,
              "#9c179e"
             ],
             [
              0.4444444444444444,
              "#bd3786"
             ],
             [
              0.5555555555555556,
              "#d8576b"
             ],
             [
              0.6666666666666666,
              "#ed7953"
             ],
             [
              0.7777777777777778,
              "#fb9f3a"
             ],
             [
              0.8888888888888888,
              "#fdca26"
             ],
             [
              1,
              "#f0f921"
             ]
            ],
            "type": "heatmap"
           }
          ],
          "heatmapgl": [
           {
            "colorbar": {
             "outlinewidth": 0,
             "ticks": ""
            },
            "colorscale": [
             [
              0,
              "#0d0887"
             ],
             [
              0.1111111111111111,
              "#46039f"
             ],
             [
              0.2222222222222222,
              "#7201a8"
             ],
             [
              0.3333333333333333,
              "#9c179e"
             ],
             [
              0.4444444444444444,
              "#bd3786"
             ],
             [
              0.5555555555555556,
              "#d8576b"
             ],
             [
              0.6666666666666666,
              "#ed7953"
             ],
             [
              0.7777777777777778,
              "#fb9f3a"
             ],
             [
              0.8888888888888888,
              "#fdca26"
             ],
             [
              1,
              "#f0f921"
             ]
            ],
            "type": "heatmapgl"
           }
          ],
          "histogram": [
           {
            "marker": {
             "colorbar": {
              "outlinewidth": 0,
              "ticks": ""
             }
            },
            "type": "histogram"
           }
          ],
          "histogram2d": [
           {
            "colorbar": {
             "outlinewidth": 0,
             "ticks": ""
            },
            "colorscale": [
             [
              0,
              "#0d0887"
             ],
             [
              0.1111111111111111,
              "#46039f"
             ],
             [
              0.2222222222222222,
              "#7201a8"
             ],
             [
              0.3333333333333333,
              "#9c179e"
             ],
             [
              0.4444444444444444,
              "#bd3786"
             ],
             [
              0.5555555555555556,
              "#d8576b"
             ],
             [
              0.6666666666666666,
              "#ed7953"
             ],
             [
              0.7777777777777778,
              "#fb9f3a"
             ],
             [
              0.8888888888888888,
              "#fdca26"
             ],
             [
              1,
              "#f0f921"
             ]
            ],
            "type": "histogram2d"
           }
          ],
          "histogram2dcontour": [
           {
            "colorbar": {
             "outlinewidth": 0,
             "ticks": ""
            },
            "colorscale": [
             [
              0,
              "#0d0887"
             ],
             [
              0.1111111111111111,
              "#46039f"
             ],
             [
              0.2222222222222222,
              "#7201a8"
             ],
             [
              0.3333333333333333,
              "#9c179e"
             ],
             [
              0.4444444444444444,
              "#bd3786"
             ],
             [
              0.5555555555555556,
              "#d8576b"
             ],
             [
              0.6666666666666666,
              "#ed7953"
             ],
             [
              0.7777777777777778,
              "#fb9f3a"
             ],
             [
              0.8888888888888888,
              "#fdca26"
             ],
             [
              1,
              "#f0f921"
             ]
            ],
            "type": "histogram2dcontour"
           }
          ],
          "mesh3d": [
           {
            "colorbar": {
             "outlinewidth": 0,
             "ticks": ""
            },
            "type": "mesh3d"
           }
          ],
          "parcoords": [
           {
            "line": {
             "colorbar": {
              "outlinewidth": 0,
              "ticks": ""
             }
            },
            "type": "parcoords"
           }
          ],
          "pie": [
           {
            "automargin": true,
            "type": "pie"
           }
          ],
          "scatter": [
           {
            "marker": {
             "colorbar": {
              "outlinewidth": 0,
              "ticks": ""
             }
            },
            "type": "scatter"
           }
          ],
          "scatter3d": [
           {
            "line": {
             "colorbar": {
              "outlinewidth": 0,
              "ticks": ""
             }
            },
            "marker": {
             "colorbar": {
              "outlinewidth": 0,
              "ticks": ""
             }
            },
            "type": "scatter3d"
           }
          ],
          "scattercarpet": [
           {
            "marker": {
             "colorbar": {
              "outlinewidth": 0,
              "ticks": ""
             }
            },
            "type": "scattercarpet"
           }
          ],
          "scattergeo": [
           {
            "marker": {
             "colorbar": {
              "outlinewidth": 0,
              "ticks": ""
             }
            },
            "type": "scattergeo"
           }
          ],
          "scattergl": [
           {
            "marker": {
             "colorbar": {
              "outlinewidth": 0,
              "ticks": ""
             }
            },
            "type": "scattergl"
           }
          ],
          "scattermapbox": [
           {
            "marker": {
             "colorbar": {
              "outlinewidth": 0,
              "ticks": ""
             }
            },
            "type": "scattermapbox"
           }
          ],
          "scatterpolar": [
           {
            "marker": {
             "colorbar": {
              "outlinewidth": 0,
              "ticks": ""
             }
            },
            "type": "scatterpolar"
           }
          ],
          "scatterpolargl": [
           {
            "marker": {
             "colorbar": {
              "outlinewidth": 0,
              "ticks": ""
             }
            },
            "type": "scatterpolargl"
           }
          ],
          "scatterternary": [
           {
            "marker": {
             "colorbar": {
              "outlinewidth": 0,
              "ticks": ""
             }
            },
            "type": "scatterternary"
           }
          ],
          "surface": [
           {
            "colorbar": {
             "outlinewidth": 0,
             "ticks": ""
            },
            "colorscale": [
             [
              0,
              "#0d0887"
             ],
             [
              0.1111111111111111,
              "#46039f"
             ],
             [
              0.2222222222222222,
              "#7201a8"
             ],
             [
              0.3333333333333333,
              "#9c179e"
             ],
             [
              0.4444444444444444,
              "#bd3786"
             ],
             [
              0.5555555555555556,
              "#d8576b"
             ],
             [
              0.6666666666666666,
              "#ed7953"
             ],
             [
              0.7777777777777778,
              "#fb9f3a"
             ],
             [
              0.8888888888888888,
              "#fdca26"
             ],
             [
              1,
              "#f0f921"
             ]
            ],
            "type": "surface"
           }
          ],
          "table": [
           {
            "cells": {
             "fill": {
              "color": "#EBF0F8"
             },
             "line": {
              "color": "white"
             }
            },
            "header": {
             "fill": {
              "color": "#C8D4E3"
             },
             "line": {
              "color": "white"
             }
            },
            "type": "table"
           }
          ]
         },
         "layout": {
          "annotationdefaults": {
           "arrowcolor": "#2a3f5f",
           "arrowhead": 0,
           "arrowwidth": 1
          },
          "coloraxis": {
           "colorbar": {
            "outlinewidth": 0,
            "ticks": ""
           }
          },
          "colorscale": {
           "diverging": [
            [
             0,
             "#8e0152"
            ],
            [
             0.1,
             "#c51b7d"
            ],
            [
             0.2,
             "#de77ae"
            ],
            [
             0.3,
             "#f1b6da"
            ],
            [
             0.4,
             "#fde0ef"
            ],
            [
             0.5,
             "#f7f7f7"
            ],
            [
             0.6,
             "#e6f5d0"
            ],
            [
             0.7,
             "#b8e186"
            ],
            [
             0.8,
             "#7fbc41"
            ],
            [
             0.9,
             "#4d9221"
            ],
            [
             1,
             "#276419"
            ]
           ],
           "sequential": [
            [
             0,
             "#0d0887"
            ],
            [
             0.1111111111111111,
             "#46039f"
            ],
            [
             0.2222222222222222,
             "#7201a8"
            ],
            [
             0.3333333333333333,
             "#9c179e"
            ],
            [
             0.4444444444444444,
             "#bd3786"
            ],
            [
             0.5555555555555556,
             "#d8576b"
            ],
            [
             0.6666666666666666,
             "#ed7953"
            ],
            [
             0.7777777777777778,
             "#fb9f3a"
            ],
            [
             0.8888888888888888,
             "#fdca26"
            ],
            [
             1,
             "#f0f921"
            ]
           ],
           "sequentialminus": [
            [
             0,
             "#0d0887"
            ],
            [
             0.1111111111111111,
             "#46039f"
            ],
            [
             0.2222222222222222,
             "#7201a8"
            ],
            [
             0.3333333333333333,
             "#9c179e"
            ],
            [
             0.4444444444444444,
             "#bd3786"
            ],
            [
             0.5555555555555556,
             "#d8576b"
            ],
            [
             0.6666666666666666,
             "#ed7953"
            ],
            [
             0.7777777777777778,
             "#fb9f3a"
            ],
            [
             0.8888888888888888,
             "#fdca26"
            ],
            [
             1,
             "#f0f921"
            ]
           ]
          },
          "colorway": [
           "#636efa",
           "#EF553B",
           "#00cc96",
           "#ab63fa",
           "#FFA15A",
           "#19d3f3",
           "#FF6692",
           "#B6E880",
           "#FF97FF",
           "#FECB52"
          ],
          "font": {
           "color": "#2a3f5f"
          },
          "geo": {
           "bgcolor": "white",
           "lakecolor": "white",
           "landcolor": "#E5ECF6",
           "showlakes": true,
           "showland": true,
           "subunitcolor": "white"
          },
          "hoverlabel": {
           "align": "left"
          },
          "hovermode": "closest",
          "mapbox": {
           "style": "light"
          },
          "paper_bgcolor": "white",
          "plot_bgcolor": "#E5ECF6",
          "polar": {
           "angularaxis": {
            "gridcolor": "white",
            "linecolor": "white",
            "ticks": ""
           },
           "bgcolor": "#E5ECF6",
           "radialaxis": {
            "gridcolor": "white",
            "linecolor": "white",
            "ticks": ""
           }
          },
          "scene": {
           "xaxis": {
            "backgroundcolor": "#E5ECF6",
            "gridcolor": "white",
            "gridwidth": 2,
            "linecolor": "white",
            "showbackground": true,
            "ticks": "",
            "zerolinecolor": "white"
           },
           "yaxis": {
            "backgroundcolor": "#E5ECF6",
            "gridcolor": "white",
            "gridwidth": 2,
            "linecolor": "white",
            "showbackground": true,
            "ticks": "",
            "zerolinecolor": "white"
           },
           "zaxis": {
            "backgroundcolor": "#E5ECF6",
            "gridcolor": "white",
            "gridwidth": 2,
            "linecolor": "white",
            "showbackground": true,
            "ticks": "",
            "zerolinecolor": "white"
           }
          },
          "shapedefaults": {
           "line": {
            "color": "#2a3f5f"
           }
          },
          "ternary": {
           "aaxis": {
            "gridcolor": "white",
            "linecolor": "white",
            "ticks": ""
           },
           "baxis": {
            "gridcolor": "white",
            "linecolor": "white",
            "ticks": ""
           },
           "bgcolor": "#E5ECF6",
           "caxis": {
            "gridcolor": "white",
            "linecolor": "white",
            "ticks": ""
           }
          },
          "title": {
           "x": 0.05
          },
          "xaxis": {
           "automargin": true,
           "gridcolor": "white",
           "linecolor": "white",
           "ticks": "",
           "title": {
            "standoff": 15
           },
           "zerolinecolor": "white",
           "zerolinewidth": 2
          },
          "yaxis": {
           "automargin": true,
           "gridcolor": "white",
           "linecolor": "white",
           "ticks": "",
           "title": {
            "standoff": 15
           },
           "zerolinecolor": "white",
           "zerolinewidth": 2
          }
         }
        },
        "title": {
         "text": "Effective Doubling Time R0"
        },
        "yaxis": {
         "title": {
          "text": "Days"
         }
        }
       }
      },
      "text/html": [
       "<div>\n",
       "        \n",
       "        \n",
       "            <div id=\"643842ba-6dd7-40ab-a6a8-9d4183d5408e\" class=\"plotly-graph-div\" style=\"height:525px; width:100%;\"></div>\n",
       "            <script type=\"text/javascript\">\n",
       "                require([\"plotly\"], function(Plotly) {\n",
       "                    window.PLOTLYENV=window.PLOTLYENV || {};\n",
       "                    \n",
       "                if (document.getElementById(\"643842ba-6dd7-40ab-a6a8-9d4183d5408e\")) {\n",
       "                    Plotly.newPlot(\n",
       "                        '643842ba-6dd7-40ab-a6a8-9d4183d5408e',\n",
       "                        [{\"line\": {\"color\": \"#bcbd22\", \"shape\": \"spline\"}, \"mode\": \"lines\", \"showlegend\": false, \"type\": \"scatter\", \"x\": [\"2020-03-08T00:00:00\", \"2020-03-09T00:00:00\", \"2020-03-10T00:00:00\", \"2020-03-11T00:00:00\", \"2020-03-12T00:00:00\", \"2020-03-13T00:00:00\", \"2020-03-14T00:00:00\", \"2020-03-15T00:00:00\", \"2020-03-16T00:00:00\", \"2020-03-17T00:00:00\", \"2020-03-18T00:00:00\", \"2020-03-19T00:00:00\", \"2020-03-20T00:00:00\", \"2020-03-21T00:00:00\", \"2020-03-22T00:00:00\", \"2020-03-23T00:00:00\", \"2020-03-24T00:00:00\", \"2020-03-25T00:00:00\", \"2020-03-26T00:00:00\", \"2020-03-27T00:00:00\", \"2020-03-28T00:00:00\", \"2020-03-29T00:00:00\", \"2020-03-30T00:00:00\", \"2020-03-31T00:00:00\", \"2020-04-01T00:00:00\", \"2020-04-02T00:00:00\", \"2020-04-03T00:00:00\", \"2020-04-04T00:00:00\", \"2020-04-05T00:00:00\", \"2020-04-06T00:00:00\", \"2020-04-07T00:00:00\", \"2020-04-08T00:00:00\", \"2020-04-09T00:00:00\", \"2020-04-10T00:00:00\", \"2020-04-11T00:00:00\", \"2020-04-12T00:00:00\", \"2020-04-13T00:00:00\", \"2020-04-14T00:00:00\", \"2020-04-15T00:00:00\", \"2020-04-16T00:00:00\", \"2020-04-17T00:00:00\", \"2020-04-18T00:00:00\", \"2020-04-19T00:00:00\", \"2020-04-20T00:00:00\", \"2020-04-21T00:00:00\", \"2020-04-22T00:00:00\", \"2020-04-23T00:00:00\", \"2020-04-24T00:00:00\", \"2020-04-25T00:00:00\", \"2020-04-26T00:00:00\", \"2020-04-27T00:00:00\", \"2020-04-28T00:00:00\", \"2020-04-29T00:00:00\", \"2020-04-30T00:00:00\", \"2020-05-01T00:00:00\", \"2020-05-02T00:00:00\", \"2020-05-03T00:00:00\", \"2020-05-04T00:00:00\", \"2020-05-05T00:00:00\", \"2020-05-06T00:00:00\", \"2020-05-07T00:00:00\", \"2020-05-08T00:00:00\", \"2020-05-09T00:00:00\", \"2020-05-10T00:00:00\", \"2020-05-11T00:00:00\", \"2020-05-12T00:00:00\", \"2020-05-13T00:00:00\", \"2020-05-14T00:00:00\", \"2020-05-15T00:00:00\", \"2020-05-16T00:00:00\", \"2020-05-17T00:00:00\", \"2020-05-18T00:00:00\", \"2020-05-19T00:00:00\", \"2020-05-20T00:00:00\", \"2020-05-21T00:00:00\", \"2020-05-22T00:00:00\", \"2020-05-23T00:00:00\", \"2020-05-24T00:00:00\", \"2020-05-25T00:00:00\", \"2020-05-26T00:00:00\", \"2020-05-27T00:00:00\", \"2020-05-28T00:00:00\", \"2020-05-29T00:00:00\", \"2020-05-30T00:00:00\", \"2020-05-31T00:00:00\", \"2020-06-01T00:00:00\", \"2020-06-02T00:00:00\", \"2020-06-03T00:00:00\", \"2020-06-04T00:00:00\", \"2020-06-05T00:00:00\", \"2020-06-06T00:00:00\", \"2020-06-07T00:00:00\", \"2020-06-08T00:00:00\", \"2020-06-09T00:00:00\", \"2020-06-10T00:00:00\", \"2020-06-11T00:00:00\", \"2020-06-12T00:00:00\", \"2020-06-13T00:00:00\", \"2020-06-14T00:00:00\"], \"y\": [1.1082343115870266, 1.1370946079732278, 1.16997085233099, 1.207416138767023, 1.2500133168409269, 1.298322012874867, 1.3527987155614365, 1.4136923031779998, 1.4809212519262844, 1.553940792656686, 1.631607778058128, 1.7120488538662952, 1.7925365888456433, 1.8693822268116538, 1.9378645739550426, 1.9922300862292381, 2.0258130089554296, 2.0313271527561727, 2.0013633606443375, 1.9290843931516428, 1.8090474004140935, 1.6380217359685023, 1.4156332319308103, 1.144677747472219, 0.8310114141144522, 0.4830235007346939, 0.11079535410830665, 0, 0, 0, 0, 0, 0, 0, 0, 0, 0, 0, 0, 0, 0, 0, 0, 0, 0, 0, 0, 0, 0, 0, 0, 0, 0, 0, 0, 0, 0, 0, 0, 0, 0, 0, 0, 0, 0, 0, 0, 0, 0, 0, 0, 0, 0, 0, 0, 0, 0, 0, 0, 0, 0, 0, 0, 0, 0, 0, 0, 0, 0, 0, 0, 0, 0, 0, 0, 0, 0, 0, 0]}, {\"fill\": \"tonexty\", \"fillcolor\": \"rgba(188,189,34,0.5)\", \"line\": {\"color\": \"#bcbd22\", \"shape\": \"spline\"}, \"mode\": \"lines\", \"name\": \"Fit\", \"showlegend\": true, \"type\": \"scatter\", \"x\": [\"2020-03-08T00:00:00\", \"2020-03-09T00:00:00\", \"2020-03-10T00:00:00\", \"2020-03-11T00:00:00\", \"2020-03-12T00:00:00\", \"2020-03-13T00:00:00\", \"2020-03-14T00:00:00\", \"2020-03-15T00:00:00\", \"2020-03-16T00:00:00\", \"2020-03-17T00:00:00\", \"2020-03-18T00:00:00\", \"2020-03-19T00:00:00\", \"2020-03-20T00:00:00\", \"2020-03-21T00:00:00\", \"2020-03-22T00:00:00\", \"2020-03-23T00:00:00\", \"2020-03-24T00:00:00\", \"2020-03-25T00:00:00\", \"2020-03-26T00:00:00\", \"2020-03-27T00:00:00\", \"2020-03-28T00:00:00\", \"2020-03-29T00:00:00\", \"2020-03-30T00:00:00\", \"2020-03-31T00:00:00\", \"2020-04-01T00:00:00\", \"2020-04-02T00:00:00\", \"2020-04-03T00:00:00\", \"2020-04-04T00:00:00\", \"2020-04-05T00:00:00\", \"2020-04-06T00:00:00\", \"2020-04-07T00:00:00\", \"2020-04-08T00:00:00\", \"2020-04-09T00:00:00\", \"2020-04-10T00:00:00\", \"2020-04-11T00:00:00\", \"2020-04-12T00:00:00\", \"2020-04-13T00:00:00\", \"2020-04-14T00:00:00\", \"2020-04-15T00:00:00\", \"2020-04-16T00:00:00\", \"2020-04-17T00:00:00\", \"2020-04-18T00:00:00\", \"2020-04-19T00:00:00\", \"2020-04-20T00:00:00\", \"2020-04-21T00:00:00\", \"2020-04-22T00:00:00\", \"2020-04-23T00:00:00\", \"2020-04-24T00:00:00\", \"2020-04-25T00:00:00\", \"2020-04-26T00:00:00\", \"2020-04-27T00:00:00\", \"2020-04-28T00:00:00\", \"2020-04-29T00:00:00\", \"2020-04-30T00:00:00\", \"2020-05-01T00:00:00\", \"2020-05-02T00:00:00\", \"2020-05-03T00:00:00\", \"2020-05-04T00:00:00\", \"2020-05-05T00:00:00\", \"2020-05-06T00:00:00\", \"2020-05-07T00:00:00\", \"2020-05-08T00:00:00\", \"2020-05-09T00:00:00\", \"2020-05-10T00:00:00\", \"2020-05-11T00:00:00\", \"2020-05-12T00:00:00\", \"2020-05-13T00:00:00\", \"2020-05-14T00:00:00\", \"2020-05-15T00:00:00\", \"2020-05-16T00:00:00\", \"2020-05-17T00:00:00\", \"2020-05-18T00:00:00\", \"2020-05-19T00:00:00\", \"2020-05-20T00:00:00\", \"2020-05-21T00:00:00\", \"2020-05-22T00:00:00\", \"2020-05-23T00:00:00\", \"2020-05-24T00:00:00\", \"2020-05-25T00:00:00\", \"2020-05-26T00:00:00\", \"2020-05-27T00:00:00\", \"2020-05-28T00:00:00\", \"2020-05-29T00:00:00\", \"2020-05-30T00:00:00\", \"2020-05-31T00:00:00\", \"2020-06-01T00:00:00\", \"2020-06-02T00:00:00\", \"2020-06-03T00:00:00\", \"2020-06-04T00:00:00\", \"2020-06-05T00:00:00\", \"2020-06-06T00:00:00\", \"2020-06-07T00:00:00\", \"2020-06-08T00:00:00\", \"2020-06-09T00:00:00\", \"2020-06-10T00:00:00\", \"2020-06-11T00:00:00\", \"2020-06-12T00:00:00\", \"2020-06-13T00:00:00\", \"2020-06-14T00:00:00\"], \"y\": [1.5572246291561245, 1.6076994231075676, 1.669073923125585, 1.7434188972546831, 1.8331581848670941, 1.9411424759214808, 2.070734087992122, 2.2258917232519035, 2.411238450376476, 2.632092851956985, 2.8944437795702127, 3.2048534220688643, 3.5702793866863836, 3.997811193102402, 4.494318297902577, 5.066006911152915, 5.71788574792365, 6.45315189396495, 7.27253109970539, 8.17364126895973, 9.150485039119609, 10.193200444124404, 11.288188676669597, 12.418684528476355, 13.565746198497955, 14.709543738787914, 15.830753965996692, 16.911849427645485, 17.938104140256574, 18.89821250429853, 19.78450258483665, 20.59279573619908, 21.32200719027803, 21.973594980473273, 22.550954356011697, 23.05883185211674, 23.502806665046883, 23.888863169631065, 24.223060313691178, 24.5112917857849, 24.75912442571794, 24.971699924710382, 25.15368503151355, 25.309257088106165, 25.442113941159782, 25.55549959226979, 25.65223907228794, 25.73477782335359, 25.805222314935577, 25.865379729749353, 25.91679537874211, 25.960787095447806, 25.998476270389094, 26.03081546054206, 26.05861268370581, 26.08255261155387, 26.103214929946297, 26.121090156827783, 26.136593208360683, 26.15007499107712, 26.161832277473376, 26.172116098465416, 26.181138860990625, 26.18908037437336, 26.19609294581516, 26.202305684021443, 26.20782813076888, 26.212753323170183, 26.21716037443555, 26.221116647915522, 26.224679587955542, 26.22789826142531, 26.2308146555026, 26.23346477022914, 26.235879538349174, 26.238085599843266, 26.24010595425149, 26.24196051023032, 26.24366654870344, 26.245239113367667, 26.2466913401227, 26.248034735148273, 26.249279409799982, 26.25043427918768, 26.251507230204517, 26.252505263848978, 26.253434615910137, 26.254300859432586, 26.255108991832458, 26.255863509075592, 26.25656846894517, 26.257227545099546, 26.257844073353343, 26.258421091383592, 26.258961372872427, 26.259467456938474, 26.259941673571525, 26.260386165675158, 26.260802908223205]}],\n",
       "                        {\"template\": {\"data\": {\"bar\": [{\"error_x\": {\"color\": \"#2a3f5f\"}, \"error_y\": {\"color\": \"#2a3f5f\"}, \"marker\": {\"line\": {\"color\": \"#E5ECF6\", \"width\": 0.5}}, \"type\": \"bar\"}], \"barpolar\": [{\"marker\": {\"line\": {\"color\": \"#E5ECF6\", \"width\": 0.5}}, \"type\": \"barpolar\"}], \"carpet\": [{\"aaxis\": {\"endlinecolor\": \"#2a3f5f\", \"gridcolor\": \"white\", \"linecolor\": \"white\", \"minorgridcolor\": \"white\", \"startlinecolor\": \"#2a3f5f\"}, \"baxis\": {\"endlinecolor\": \"#2a3f5f\", \"gridcolor\": \"white\", \"linecolor\": \"white\", \"minorgridcolor\": \"white\", \"startlinecolor\": \"#2a3f5f\"}, \"type\": \"carpet\"}], \"choropleth\": [{\"colorbar\": {\"outlinewidth\": 0, \"ticks\": \"\"}, \"type\": \"choropleth\"}], \"contour\": [{\"colorbar\": {\"outlinewidth\": 0, \"ticks\": \"\"}, \"colorscale\": [[0.0, \"#0d0887\"], [0.1111111111111111, \"#46039f\"], [0.2222222222222222, \"#7201a8\"], [0.3333333333333333, \"#9c179e\"], [0.4444444444444444, \"#bd3786\"], [0.5555555555555556, \"#d8576b\"], [0.6666666666666666, \"#ed7953\"], [0.7777777777777778, \"#fb9f3a\"], [0.8888888888888888, \"#fdca26\"], [1.0, \"#f0f921\"]], \"type\": \"contour\"}], \"contourcarpet\": [{\"colorbar\": {\"outlinewidth\": 0, \"ticks\": \"\"}, \"type\": \"contourcarpet\"}], \"heatmap\": [{\"colorbar\": {\"outlinewidth\": 0, \"ticks\": \"\"}, \"colorscale\": [[0.0, \"#0d0887\"], [0.1111111111111111, \"#46039f\"], [0.2222222222222222, \"#7201a8\"], [0.3333333333333333, \"#9c179e\"], [0.4444444444444444, \"#bd3786\"], [0.5555555555555556, \"#d8576b\"], [0.6666666666666666, \"#ed7953\"], [0.7777777777777778, \"#fb9f3a\"], [0.8888888888888888, \"#fdca26\"], [1.0, \"#f0f921\"]], \"type\": \"heatmap\"}], \"heatmapgl\": [{\"colorbar\": {\"outlinewidth\": 0, \"ticks\": \"\"}, \"colorscale\": [[0.0, \"#0d0887\"], [0.1111111111111111, \"#46039f\"], [0.2222222222222222, \"#7201a8\"], [0.3333333333333333, \"#9c179e\"], [0.4444444444444444, \"#bd3786\"], [0.5555555555555556, \"#d8576b\"], [0.6666666666666666, \"#ed7953\"], [0.7777777777777778, \"#fb9f3a\"], [0.8888888888888888, \"#fdca26\"], [1.0, \"#f0f921\"]], \"type\": \"heatmapgl\"}], \"histogram\": [{\"marker\": {\"colorbar\": {\"outlinewidth\": 0, \"ticks\": \"\"}}, \"type\": \"histogram\"}], \"histogram2d\": [{\"colorbar\": {\"outlinewidth\": 0, \"ticks\": \"\"}, \"colorscale\": [[0.0, \"#0d0887\"], [0.1111111111111111, \"#46039f\"], [0.2222222222222222, \"#7201a8\"], [0.3333333333333333, \"#9c179e\"], [0.4444444444444444, \"#bd3786\"], [0.5555555555555556, \"#d8576b\"], [0.6666666666666666, \"#ed7953\"], [0.7777777777777778, \"#fb9f3a\"], [0.8888888888888888, \"#fdca26\"], [1.0, \"#f0f921\"]], \"type\": \"histogram2d\"}], \"histogram2dcontour\": [{\"colorbar\": {\"outlinewidth\": 0, \"ticks\": \"\"}, \"colorscale\": [[0.0, \"#0d0887\"], [0.1111111111111111, \"#46039f\"], [0.2222222222222222, \"#7201a8\"], [0.3333333333333333, \"#9c179e\"], [0.4444444444444444, \"#bd3786\"], [0.5555555555555556, \"#d8576b\"], [0.6666666666666666, \"#ed7953\"], [0.7777777777777778, \"#fb9f3a\"], [0.8888888888888888, \"#fdca26\"], [1.0, \"#f0f921\"]], \"type\": \"histogram2dcontour\"}], \"mesh3d\": [{\"colorbar\": {\"outlinewidth\": 0, \"ticks\": \"\"}, \"type\": \"mesh3d\"}], \"parcoords\": [{\"line\": {\"colorbar\": {\"outlinewidth\": 0, \"ticks\": \"\"}}, \"type\": \"parcoords\"}], \"pie\": [{\"automargin\": true, \"type\": \"pie\"}], \"scatter\": [{\"marker\": {\"colorbar\": {\"outlinewidth\": 0, \"ticks\": \"\"}}, \"type\": \"scatter\"}], \"scatter3d\": [{\"line\": {\"colorbar\": {\"outlinewidth\": 0, \"ticks\": \"\"}}, \"marker\": {\"colorbar\": {\"outlinewidth\": 0, \"ticks\": \"\"}}, \"type\": \"scatter3d\"}], \"scattercarpet\": [{\"marker\": {\"colorbar\": {\"outlinewidth\": 0, \"ticks\": \"\"}}, \"type\": \"scattercarpet\"}], \"scattergeo\": [{\"marker\": {\"colorbar\": {\"outlinewidth\": 0, \"ticks\": \"\"}}, \"type\": \"scattergeo\"}], \"scattergl\": [{\"marker\": {\"colorbar\": {\"outlinewidth\": 0, \"ticks\": \"\"}}, \"type\": \"scattergl\"}], \"scattermapbox\": [{\"marker\": {\"colorbar\": {\"outlinewidth\": 0, \"ticks\": \"\"}}, \"type\": \"scattermapbox\"}], \"scatterpolar\": [{\"marker\": {\"colorbar\": {\"outlinewidth\": 0, \"ticks\": \"\"}}, \"type\": \"scatterpolar\"}], \"scatterpolargl\": [{\"marker\": {\"colorbar\": {\"outlinewidth\": 0, \"ticks\": \"\"}}, \"type\": \"scatterpolargl\"}], \"scatterternary\": [{\"marker\": {\"colorbar\": {\"outlinewidth\": 0, \"ticks\": \"\"}}, \"type\": \"scatterternary\"}], \"surface\": [{\"colorbar\": {\"outlinewidth\": 0, \"ticks\": \"\"}, \"colorscale\": [[0.0, \"#0d0887\"], [0.1111111111111111, \"#46039f\"], [0.2222222222222222, \"#7201a8\"], [0.3333333333333333, \"#9c179e\"], [0.4444444444444444, \"#bd3786\"], [0.5555555555555556, \"#d8576b\"], [0.6666666666666666, \"#ed7953\"], [0.7777777777777778, \"#fb9f3a\"], [0.8888888888888888, \"#fdca26\"], [1.0, \"#f0f921\"]], \"type\": \"surface\"}], \"table\": [{\"cells\": {\"fill\": {\"color\": \"#EBF0F8\"}, \"line\": {\"color\": \"white\"}}, \"header\": {\"fill\": {\"color\": \"#C8D4E3\"}, \"line\": {\"color\": \"white\"}}, \"type\": \"table\"}]}, \"layout\": {\"annotationdefaults\": {\"arrowcolor\": \"#2a3f5f\", \"arrowhead\": 0, \"arrowwidth\": 1}, \"coloraxis\": {\"colorbar\": {\"outlinewidth\": 0, \"ticks\": \"\"}}, \"colorscale\": {\"diverging\": [[0, \"#8e0152\"], [0.1, \"#c51b7d\"], [0.2, \"#de77ae\"], [0.3, \"#f1b6da\"], [0.4, \"#fde0ef\"], [0.5, \"#f7f7f7\"], [0.6, \"#e6f5d0\"], [0.7, \"#b8e186\"], [0.8, \"#7fbc41\"], [0.9, \"#4d9221\"], [1, \"#276419\"]], \"sequential\": [[0.0, \"#0d0887\"], [0.1111111111111111, \"#46039f\"], [0.2222222222222222, \"#7201a8\"], [0.3333333333333333, \"#9c179e\"], [0.4444444444444444, \"#bd3786\"], [0.5555555555555556, \"#d8576b\"], [0.6666666666666666, \"#ed7953\"], [0.7777777777777778, \"#fb9f3a\"], [0.8888888888888888, \"#fdca26\"], [1.0, \"#f0f921\"]], \"sequentialminus\": [[0.0, \"#0d0887\"], [0.1111111111111111, \"#46039f\"], [0.2222222222222222, \"#7201a8\"], [0.3333333333333333, \"#9c179e\"], [0.4444444444444444, \"#bd3786\"], [0.5555555555555556, \"#d8576b\"], [0.6666666666666666, \"#ed7953\"], [0.7777777777777778, \"#fb9f3a\"], [0.8888888888888888, \"#fdca26\"], [1.0, \"#f0f921\"]]}, \"colorway\": [\"#636efa\", \"#EF553B\", \"#00cc96\", \"#ab63fa\", \"#FFA15A\", \"#19d3f3\", \"#FF6692\", \"#B6E880\", \"#FF97FF\", \"#FECB52\"], \"font\": {\"color\": \"#2a3f5f\"}, \"geo\": {\"bgcolor\": \"white\", \"lakecolor\": \"white\", \"landcolor\": \"#E5ECF6\", \"showlakes\": true, \"showland\": true, \"subunitcolor\": \"white\"}, \"hoverlabel\": {\"align\": \"left\"}, \"hovermode\": \"closest\", \"mapbox\": {\"style\": \"light\"}, \"paper_bgcolor\": \"white\", \"plot_bgcolor\": \"#E5ECF6\", \"polar\": {\"angularaxis\": {\"gridcolor\": \"white\", \"linecolor\": \"white\", \"ticks\": \"\"}, \"bgcolor\": \"#E5ECF6\", \"radialaxis\": {\"gridcolor\": \"white\", \"linecolor\": \"white\", \"ticks\": \"\"}}, \"scene\": {\"xaxis\": {\"backgroundcolor\": \"#E5ECF6\", \"gridcolor\": \"white\", \"gridwidth\": 2, \"linecolor\": \"white\", \"showbackground\": true, \"ticks\": \"\", \"zerolinecolor\": \"white\"}, \"yaxis\": {\"backgroundcolor\": \"#E5ECF6\", \"gridcolor\": \"white\", \"gridwidth\": 2, \"linecolor\": \"white\", \"showbackground\": true, \"ticks\": \"\", \"zerolinecolor\": \"white\"}, \"zaxis\": {\"backgroundcolor\": \"#E5ECF6\", \"gridcolor\": \"white\", \"gridwidth\": 2, \"linecolor\": \"white\", \"showbackground\": true, \"ticks\": \"\", \"zerolinecolor\": \"white\"}}, \"shapedefaults\": {\"line\": {\"color\": \"#2a3f5f\"}}, \"ternary\": {\"aaxis\": {\"gridcolor\": \"white\", \"linecolor\": \"white\", \"ticks\": \"\"}, \"baxis\": {\"gridcolor\": \"white\", \"linecolor\": \"white\", \"ticks\": \"\"}, \"bgcolor\": \"#E5ECF6\", \"caxis\": {\"gridcolor\": \"white\", \"linecolor\": \"white\", \"ticks\": \"\"}}, \"title\": {\"x\": 0.05}, \"xaxis\": {\"automargin\": true, \"gridcolor\": \"white\", \"linecolor\": \"white\", \"ticks\": \"\", \"title\": {\"standoff\": 15}, \"zerolinecolor\": \"white\", \"zerolinewidth\": 2}, \"yaxis\": {\"automargin\": true, \"gridcolor\": \"white\", \"linecolor\": \"white\", \"ticks\": \"\", \"title\": {\"standoff\": 15}, \"zerolinecolor\": \"white\", \"zerolinewidth\": 2}}}, \"title\": {\"text\": \"Effective Doubling Time R0\"}, \"yaxis\": {\"title\": {\"text\": \"Days\"}}},\n",
       "                        {\"responsive\": true}\n",
       "                    ).then(function(){\n",
       "                            \n",
       "var gd = document.getElementById('643842ba-6dd7-40ab-a6a8-9d4183d5408e');\n",
       "var x = new MutationObserver(function (mutations, observer) {{\n",
       "        var display = window.getComputedStyle(gd).display;\n",
       "        if (!display || display === 'none') {{\n",
       "            console.log([gd, 'removed!']);\n",
       "            Plotly.purge(gd);\n",
       "            observer.disconnect();\n",
       "        }}\n",
       "}});\n",
       "\n",
       "// Listen for the removal of the full notebook cells\n",
       "var notebookContainer = gd.closest('#notebook-container');\n",
       "if (notebookContainer) {{\n",
       "    x.observe(notebookContainer, {childList: true});\n",
       "}}\n",
       "\n",
       "// Listen for the clearing of the current output cell\n",
       "var outputEl = gd.closest('.output');\n",
       "if (outputEl) {{\n",
       "    x.observe(outputEl, {childList: true});\n",
       "}}\n",
       "\n",
       "                        })\n",
       "                };\n",
       "                });\n",
       "            </script>\n",
       "        </div>"
      ]
     },
     "metadata": {},
     "output_type": "display_data"
    }
   ],
   "source": [
    "beta = fcn.beta_i_fcn(\n",
    "    arange(X_SIHR_extra[\"n_iter\"]), amplitude=fit.p[\"beta_i\"], **fit.p\n",
    ")\n",
    "dt = log(2) / (beta[1:] * fit_res.susceptible.values)\n",
    "\n",
    "fig = go.Figure()\n",
    "plotting.add_gvar_scatter(\n",
    "    fig,\n",
    "    x=fit_res.index,\n",
    "    y=dt,\n",
    "    name=\"Fit\",\n",
    "    mode=\"markers+lines\",\n",
    "    gv_mode=\"band\",\n",
    "    color=\"#bcbd22\",\n",
    ")\n",
    "fig.update_layout(title=\"Effective Doubling Time R0\", yaxis_title=\"Days\")\n",
    "fig.show()"
   ]
  },
  {
   "cell_type": "code",
   "execution_count": null,
   "metadata": {},
   "outputs": [],
   "source": []
  },
  {
   "cell_type": "code",
   "execution_count": null,
   "metadata": {},
   "outputs": [],
   "source": []
  },
  {
   "cell_type": "code",
   "execution_count": null,
   "metadata": {},
   "outputs": [],
   "source": []
  },
  {
   "cell_type": "code",
   "execution_count": null,
   "metadata": {},
   "outputs": [],
   "source": []
  },
  {
   "cell_type": "code",
   "execution_count": null,
   "metadata": {},
   "outputs": [],
   "source": []
  }
 ],
 "metadata": {
  "kernelspec": {
   "display_name": "Python 3",
   "language": "python",
   "name": "python3"
  },
  "language_info": {
   "codemirror_mode": {
    "name": "ipython",
    "version": 3
   },
   "file_extension": ".py",
   "mimetype": "text/x-python",
   "name": "python",
   "nbconvert_exporter": "python",
   "pygments_lexer": "ipython3",
   "version": "3.7.5"
  }
 },
 "nbformat": 4,
 "nbformat_minor": 2
}
