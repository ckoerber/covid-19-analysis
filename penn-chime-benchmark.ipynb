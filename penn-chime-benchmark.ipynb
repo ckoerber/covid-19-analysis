{
 "cells": [
  {
   "cell_type": "markdown",
   "metadata": {},
   "source": [
    "# Notebook to compare Penn CHIME fits against all parameter fits"
   ]
  },
  {
   "cell_type": "markdown",
   "metadata": {},
   "source": [
    "## Imports"
   ]
  },
  {
   "cell_type": "code",
   "execution_count": 1,
   "metadata": {},
   "outputs": [],
   "source": [
    "from os import environ\n",
    "from datetime import date\n",
    "\n",
    "from pandas import DataFrame\n",
    "from numpy import empty\n",
    "\n",
    "from penn_chime.parameters import Parameters, Disposition\n",
    "from penn_chime.models import (\n",
    "    SimSirModel,\n",
    "    sim_sir,\n",
    "    calculate_admits,\n",
    "    calculate_dispositions,\n",
    ")\n",
    "import penn_chime\n",
    "\n",
    "from models import sir_step, sihr_step, one_minus_logistic_fcn, FitFcn"
   ]
  },
  {
   "cell_type": "code",
   "execution_count": 2,
   "metadata": {},
   "outputs": [
    {
     "name": "stdout",
     "output_type": "stream",
     "text": [
      "Name: penn-chime\r\n",
      "Version: 1.1.3\r\n",
      "Summary: COVID-19 Hospital Impact Model for Epidemics\r\n",
      "Home-page: https://github.com/CodeForPhilly/chime\r\n",
      "Author: Predictive Healthcare @ Penn Medicine\r\n",
      "Author-email: \r\n",
      "License: UNKNOWN\r\n",
      "Location: /Users/christopherkorber/gdrive/git/bochum/chime/src\r\n",
      "Requires: altair, black, gunicorn, dash, dash-bootstrap-components, numpy, pandas, pytest, pyyaml, selenium, streamlit\r\n",
      "Required-by: \r\n"
     ]
    }
   ],
   "source": [
    "!pip show penn_chime"
   ]
  },
  {
   "cell_type": "markdown",
   "metadata": {},
   "source": [
    "## Set up Penn CHIME model"
   ]
  },
  {
   "cell_type": "code",
   "execution_count": 3,
   "metadata": {},
   "outputs": [
    {
     "name": "stdout",
     "output_type": "stream",
     "text": [
      "2020-04-08 19:25:02,177 - penn_chime.models - INFO - Using date_first_hospitalized: 2020-03-07; current_date: 2020-04-08; i_day: 32, current_hospitalized: 69\n",
      "2020-04-08 19:25:02,258 - penn_chime.models - INFO - Estimated doubling_time: 5.116201582673885\n",
      "2020-04-08 19:25:02,263 - penn_chime.models - INFO - len(np.arange(-i_day, n_days+1)): 133\n",
      "2020-04-08 19:25:02,264 - penn_chime.models - INFO - len(raw_df): 133\n"
     ]
    }
   ],
   "source": [
    "p = Parameters(\n",
    "    current_hospitalized=69,\n",
    "    date_first_hospitalized=date(2020, 3, 7),\n",
    "    doubling_time=4.0,\n",
    "    hospitalized=Disposition.create(days=7, rate=0.025),\n",
    "    icu=Disposition.create(days=9, rate=0.0075),\n",
    "    infectious_days=14,\n",
    "    market_share=0.15,\n",
    "    n_days=100,\n",
    "    population=3600000,\n",
    "    recovered=0,\n",
    "    relative_contact_rate=0.3,\n",
    "    ventilated=Disposition.create(days=10, rate=0.005),\n",
    ")\n",
    "\n",
    "p.doubling_time = None\n",
    "simsir = SimSirModel(p)"
   ]
  },
  {
   "cell_type": "markdown",
   "metadata": {},
   "source": [
    "## Tests"
   ]
  },
  {
   "cell_type": "markdown",
   "metadata": {},
   "source": [
    "### Check that model agrees with Penn CHIME if no policies are in place"
   ]
  },
  {
   "cell_type": "markdown",
   "metadata": {},
   "source": [
    "Calculate S, I, H, R for no policies"
   ]
  },
  {
   "cell_type": "code",
   "execution_count": 4,
   "metadata": {
    "scrolled": false
   },
   "outputs": [
    {
     "data": {
      "text/html": [
       "<div>\n",
       "<style scoped>\n",
       "    .dataframe tbody tr th:only-of-type {\n",
       "        vertical-align: middle;\n",
       "    }\n",
       "\n",
       "    .dataframe tbody tr th {\n",
       "        vertical-align: top;\n",
       "    }\n",
       "\n",
       "    .dataframe thead th {\n",
       "        text-align: right;\n",
       "    }\n",
       "</style>\n",
       "<table border=\"1\" class=\"dataframe\">\n",
       "  <thead>\n",
       "    <tr style=\"text-align: right;\">\n",
       "      <th></th>\n",
       "      <th>day</th>\n",
       "      <th>susceptible</th>\n",
       "      <th>infected</th>\n",
       "      <th>recovered</th>\n",
       "      <th>ever_infected</th>\n",
       "      <th>ever_hospitalized</th>\n",
       "      <th>hospitalized</th>\n",
       "      <th>ever_icu</th>\n",
       "      <th>icu</th>\n",
       "      <th>ever_ventilated</th>\n",
       "      <th>ventilated</th>\n",
       "      <th>admits_hospitalized</th>\n",
       "      <th>admits_icu</th>\n",
       "      <th>admits_ventilated</th>\n",
       "    </tr>\n",
       "  </thead>\n",
       "  <tbody>\n",
       "    <tr>\n",
       "      <th>0</th>\n",
       "      <td>-32</td>\n",
       "      <td>3.569996e+06</td>\n",
       "      <td>20155.529217</td>\n",
       "      <td>0.000000</td>\n",
       "      <td>20155.529217</td>\n",
       "      <td>75.583235</td>\n",
       "      <td>NaN</td>\n",
       "      <td>22.674970</td>\n",
       "      <td>NaN</td>\n",
       "      <td>15.116647</td>\n",
       "      <td>NaN</td>\n",
       "      <td>NaN</td>\n",
       "      <td>NaN</td>\n",
       "      <td>NaN</td>\n",
       "    </tr>\n",
       "    <tr>\n",
       "      <th>1</th>\n",
       "      <td>-31</td>\n",
       "      <td>3.565668e+06</td>\n",
       "      <td>23043.788678</td>\n",
       "      <td>1439.680658</td>\n",
       "      <td>24483.469336</td>\n",
       "      <td>91.813010</td>\n",
       "      <td>16.229775</td>\n",
       "      <td>27.543903</td>\n",
       "      <td>4.868933</td>\n",
       "      <td>18.362602</td>\n",
       "      <td>3.245955</td>\n",
       "      <td>16.229775</td>\n",
       "      <td>4.868933</td>\n",
       "      <td>3.245955</td>\n",
       "    </tr>\n",
       "    <tr>\n",
       "      <th>2</th>\n",
       "      <td>-30</td>\n",
       "      <td>3.560726e+06</td>\n",
       "      <td>26339.933063</td>\n",
       "      <td>3085.665564</td>\n",
       "      <td>29425.598627</td>\n",
       "      <td>110.345995</td>\n",
       "      <td>18.532985</td>\n",
       "      <td>33.103798</td>\n",
       "      <td>5.559895</td>\n",
       "      <td>22.069199</td>\n",
       "      <td>3.706597</td>\n",
       "      <td>18.532985</td>\n",
       "      <td>5.559895</td>\n",
       "      <td>3.706597</td>\n",
       "    </tr>\n",
       "    <tr>\n",
       "      <th>3</th>\n",
       "      <td>-29</td>\n",
       "      <td>3.555085e+06</td>\n",
       "      <td>30099.722589</td>\n",
       "      <td>4967.089354</td>\n",
       "      <td>35066.811943</td>\n",
       "      <td>131.500545</td>\n",
       "      <td>21.154550</td>\n",
       "      <td>39.450163</td>\n",
       "      <td>6.346365</td>\n",
       "      <td>26.300109</td>\n",
       "      <td>4.230910</td>\n",
       "      <td>21.154550</td>\n",
       "      <td>6.346365</td>\n",
       "      <td>4.230910</td>\n",
       "    </tr>\n",
       "    <tr>\n",
       "      <th>4</th>\n",
       "      <td>-28</td>\n",
       "      <td>3.548649e+06</td>\n",
       "      <td>34385.975372</td>\n",
       "      <td>7117.069539</td>\n",
       "      <td>41503.044911</td>\n",
       "      <td>155.636418</td>\n",
       "      <td>24.135874</td>\n",
       "      <td>46.690926</td>\n",
       "      <td>7.240762</td>\n",
       "      <td>31.127284</td>\n",
       "      <td>4.827175</td>\n",
       "      <td>24.135874</td>\n",
       "      <td>7.240762</td>\n",
       "      <td>4.827175</td>\n",
       "    </tr>\n",
       "  </tbody>\n",
       "</table>\n",
       "</div>"
      ],
      "text/plain": [
       "   day   susceptible      infected    recovered  ever_infected  \\\n",
       "0  -32  3.569996e+06  20155.529217     0.000000   20155.529217   \n",
       "1  -31  3.565668e+06  23043.788678  1439.680658   24483.469336   \n",
       "2  -30  3.560726e+06  26339.933063  3085.665564   29425.598627   \n",
       "3  -29  3.555085e+06  30099.722589  4967.089354   35066.811943   \n",
       "4  -28  3.548649e+06  34385.975372  7117.069539   41503.044911   \n",
       "\n",
       "   ever_hospitalized  hospitalized   ever_icu       icu  ever_ventilated  \\\n",
       "0          75.583235           NaN  22.674970       NaN        15.116647   \n",
       "1          91.813010     16.229775  27.543903  4.868933        18.362602   \n",
       "2         110.345995     18.532985  33.103798  5.559895        22.069199   \n",
       "3         131.500545     21.154550  39.450163  6.346365        26.300109   \n",
       "4         155.636418     24.135874  46.690926  7.240762        31.127284   \n",
       "\n",
       "   ventilated  admits_hospitalized  admits_icu  admits_ventilated  \n",
       "0         NaN                  NaN         NaN                NaN  \n",
       "1    3.245955            16.229775    4.868933           3.245955  \n",
       "2    3.706597            18.532985    5.559895           3.706597  \n",
       "3    4.230910            21.154550    6.346365           4.230910  \n",
       "4    4.827175            24.135874    7.240762           4.827175  "
      ]
     },
     "execution_count": 4,
     "metadata": {},
     "output_type": "execute_result"
    }
   ],
   "source": [
    "n_days = simsir.raw_df.day.max() - simsir.raw_df.day.min() + 1\n",
    "\n",
    "policies = [(simsir.beta, n_days)]\n",
    "raw = sim_sir(\n",
    "    simsir.susceptible,\n",
    "    simsir.infected,\n",
    "    p.recovered,\n",
    "    simsir.gamma,\n",
    "    -simsir.i_day,\n",
    "    policies,\n",
    ")\n",
    "\n",
    "\n",
    "calculate_dispositions(raw, simsir.rates, market_share=p.market_share)\n",
    "calculate_admits(raw, simsir.rates)\n",
    "\n",
    "raw_df = DataFrame(raw)\n",
    "\n",
    "day0 = raw_df.iloc[0].fillna(0)\n",
    "\n",
    "raw_df.head()"
   ]
  },
  {
   "cell_type": "markdown",
   "metadata": {},
   "source": [
    "Compute values using new fit function"
   ]
  },
  {
   "cell_type": "code",
   "execution_count": 5,
   "metadata": {},
   "outputs": [],
   "source": [
    "pars = {\n",
    "    \"beta_i\": simsir.beta,\n",
    "    \"gamma_i\": simsir.gamma,\n",
    "    \"initial_susceptible\": day0.susceptible,\n",
    "    \"initial_infected\": day0.infected,\n",
    "    \"initial_hospitalized\": day0.hospitalized,\n",
    "    \"initial_recovered\": day0.recovered,\n",
    "    \"hospitalization_rate\": simsir.rates[\"hospitalized\"] * p.market_share,\n",
    "}\n",
    "x = {\n",
    "    \"n_iter\": raw_df.shape[0],\n",
    "}\n",
    "\n",
    "\n",
    "f = FitFcn(sir_step, columns=[\"susceptible\", \"infected\", \"hospitalized\", \"recovered\"])\n",
    "y = f(x, pars)"
   ]
  },
  {
   "cell_type": "markdown",
   "metadata": {},
   "source": [
    "Check that difference is consistent with zero"
   ]
  },
  {
   "cell_type": "code",
   "execution_count": 6,
   "metadata": {},
   "outputs": [
    {
     "data": {
      "text/html": [
       "<div>\n",
       "<style scoped>\n",
       "    .dataframe tbody tr th:only-of-type {\n",
       "        vertical-align: middle;\n",
       "    }\n",
       "\n",
       "    .dataframe tbody tr th {\n",
       "        vertical-align: top;\n",
       "    }\n",
       "\n",
       "    .dataframe thead th {\n",
       "        text-align: right;\n",
       "    }\n",
       "</style>\n",
       "<table border=\"1\" class=\"dataframe\">\n",
       "  <thead>\n",
       "    <tr style=\"text-align: right;\">\n",
       "      <th></th>\n",
       "      <th>mean</th>\n",
       "      <th>sdev</th>\n",
       "    </tr>\n",
       "  </thead>\n",
       "  <tbody>\n",
       "    <tr>\n",
       "      <th>susceptible</th>\n",
       "      <td>2.454278e-11</td>\n",
       "      <td>3.252019e-10</td>\n",
       "    </tr>\n",
       "    <tr>\n",
       "      <th>infected</th>\n",
       "      <td>2.021250e-11</td>\n",
       "      <td>1.535918e-10</td>\n",
       "    </tr>\n",
       "    <tr>\n",
       "      <th>hospitalized</th>\n",
       "      <td>-6.203851e-14</td>\n",
       "      <td>1.550370e-12</td>\n",
       "    </tr>\n",
       "    <tr>\n",
       "      <th>recovered</th>\n",
       "      <td>-6.242052e-10</td>\n",
       "      <td>8.747967e-10</td>\n",
       "    </tr>\n",
       "  </tbody>\n",
       "</table>\n",
       "</div>"
      ],
      "text/plain": [
       "                      mean          sdev\n",
       "susceptible   2.454278e-11  3.252019e-10\n",
       "infected      2.021250e-11  1.535918e-10\n",
       "hospitalized -6.203851e-14  1.550370e-12\n",
       "recovered    -6.242052e-10  8.747967e-10"
      ]
     },
     "execution_count": 6,
     "metadata": {},
     "output_type": "execute_result"
    }
   ],
   "source": [
    "mean = (y - raw_df[f.columns]).mean()\n",
    "sdev = (y - raw_df[f.columns]).std()\n",
    "assert (mean.abs() < 2 * sdev).all()\n",
    "DataFrame([mean, sdev], index=[\"mean\", \"sdev\"]).T"
   ]
  },
  {
   "cell_type": "markdown",
   "metadata": {},
   "source": [
    "### Check that model agrees with Penn CHIME if no policies are in place"
   ]
  },
  {
   "cell_type": "markdown",
   "metadata": {},
   "source": [
    "Now compare against Penn CHIME with active social distancing policies.\n",
    "\n",
    "My fit function takes a function which returns an array of betas, this is implemented below"
   ]
  },
  {
   "cell_type": "code",
   "execution_count": 7,
   "metadata": {},
   "outputs": [],
   "source": [
    "POLICIES = simsir.gen_policy(p)\n",
    "\n",
    "\n",
    "def beta_i_fcn(n_iter, **kwargs):\n",
    "    out = empty(n_iter)\n",
    "    ii = 0\n",
    "    for beta, n_days in POLICIES:\n",
    "        for _ in range(n_days):\n",
    "            out[ii] = beta\n",
    "            ii += 1\n",
    "\n",
    "    return out"
   ]
  },
  {
   "cell_type": "code",
   "execution_count": 8,
   "metadata": {},
   "outputs": [],
   "source": [
    "day0 = simsir.raw_df.iloc[0]\n",
    "\n",
    "pars = {\n",
    "    \"beta_i\": simsir.beta,\n",
    "    \"gamma_i\": simsir.gamma,\n",
    "    \"initial_susceptible\": day0.susceptible,\n",
    "    \"initial_infected\": day0.infected,\n",
    "    \"initial_hospitalized\": day0.hospitalized,\n",
    "    \"initial_recovered\": day0.recovered,\n",
    "    \"hospitalization_rate\": simsir.rates[\"hospitalized\"] * p.market_share,\n",
    "}\n",
    "x = {\n",
    "    \"n_iter\": simsir.raw_df.shape[0],\n",
    "}\n",
    "\n",
    "\n",
    "f = FitFcn(\n",
    "    sir_step,\n",
    "    beta_i_fcn=beta_i_fcn,\n",
    "    columns=[\"susceptible\", \"infected\", \"hospitalized\", \"recovered\"],\n",
    ")\n",
    "y = f(x, pars)"
   ]
  },
  {
   "cell_type": "code",
   "execution_count": 9,
   "metadata": {},
   "outputs": [
    {
     "data": {
      "text/html": [
       "<div>\n",
       "<style scoped>\n",
       "    .dataframe tbody tr th:only-of-type {\n",
       "        vertical-align: middle;\n",
       "    }\n",
       "\n",
       "    .dataframe tbody tr th {\n",
       "        vertical-align: top;\n",
       "    }\n",
       "\n",
       "    .dataframe thead th {\n",
       "        text-align: right;\n",
       "    }\n",
       "</style>\n",
       "<table border=\"1\" class=\"dataframe\">\n",
       "  <thead>\n",
       "    <tr style=\"text-align: right;\">\n",
       "      <th></th>\n",
       "      <th>mean</th>\n",
       "      <th>sdev</th>\n",
       "    </tr>\n",
       "  </thead>\n",
       "  <tbody>\n",
       "    <tr>\n",
       "      <th>susceptible</th>\n",
       "      <td>-1.076623e-09</td>\n",
       "      <td>4.243765e-09</td>\n",
       "    </tr>\n",
       "    <tr>\n",
       "      <th>infected</th>\n",
       "      <td>1.132751e-09</td>\n",
       "      <td>1.605516e-09</td>\n",
       "    </tr>\n",
       "    <tr>\n",
       "      <th>hospitalized</th>\n",
       "      <td>2.812527e-13</td>\n",
       "      <td>1.172452e-12</td>\n",
       "    </tr>\n",
       "    <tr>\n",
       "      <th>recovered</th>\n",
       "      <td>4.475682e-09</td>\n",
       "      <td>4.921139e-09</td>\n",
       "    </tr>\n",
       "  </tbody>\n",
       "</table>\n",
       "</div>"
      ],
      "text/plain": [
       "                      mean          sdev\n",
       "susceptible  -1.076623e-09  4.243765e-09\n",
       "infected      1.132751e-09  1.605516e-09\n",
       "hospitalized  2.812527e-13  1.172452e-12\n",
       "recovered     4.475682e-09  4.921139e-09"
      ]
     },
     "execution_count": 9,
     "metadata": {},
     "output_type": "execute_result"
    }
   ],
   "source": [
    "mean = (y - simsir.raw_df[f.columns]).mean()\n",
    "sdev = (y - simsir.raw_df[f.columns]).std()\n",
    "assert (mean.abs() < 2 * sdev).all()\n",
    "DataFrame([mean, sdev], index=[\"mean\", \"sdev\"]).T"
   ]
  },
  {
   "cell_type": "code",
   "execution_count": null,
   "metadata": {},
   "outputs": [],
   "source": []
  }
 ],
 "metadata": {
  "kernelspec": {
   "display_name": "chime",
   "language": "python",
   "name": "chime"
  },
  "language_info": {
   "codemirror_mode": {
    "name": "ipython",
    "version": 3
   },
   "file_extension": ".py",
   "mimetype": "text/x-python",
   "name": "python",
   "nbconvert_exporter": "python",
   "pygments_lexer": "ipython3",
   "version": "3.7.5"
  }
 },
 "nbformat": 4,
 "nbformat_minor": 2
}
