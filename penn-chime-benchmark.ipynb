{
 "cells": [
  {
   "cell_type": "markdown",
   "metadata": {},
   "source": [
    "# Notebook to compare Penn CHIME fits against all parameter fits"
   ]
  },
  {
   "cell_type": "markdown",
   "metadata": {},
   "source": [
    "## Imports"
   ]
  },
  {
   "cell_type": "code",
   "execution_count": null,
   "metadata": {},
   "outputs": [],
   "source": [
    "from os import environ\n",
    "from datetime import date\n",
    "\n",
    "from pandas import DataFrame\n",
    "\n",
    "from penn_chime.parameters import Parameters, Disposition\n",
    "from penn_chime.models import (\n",
    "    SimSirModel,\n",
    "    sim_sir,\n",
    "    calculate_admits,\n",
    "    calculate_dispositions,\n",
    ")\n",
    "\n",
    "from models import sir_step, sihr_step, one_minus_logistic_fcn, FitFcn"
   ]
  },
  {
   "cell_type": "markdown",
   "metadata": {},
   "source": [
    "## Set up Penn CHIME model"
   ]
  },
  {
   "cell_type": "code",
   "execution_count": null,
   "metadata": {},
   "outputs": [],
   "source": [
    "p = Parameters(\n",
    "    current_hospitalized=69,\n",
    "    date_first_hospitalized=date(2020, 3, 7),\n",
    "    doubling_time=4.0,\n",
    "    hospitalized=Disposition.create(days=7, rate=0.025),\n",
    "    icu=Disposition.create(days=9, rate=0.0075),\n",
    "    infectious_days=14,\n",
    "    market_share=0.15,\n",
    "    n_days=100,\n",
    "    population=3600000,\n",
    "    recovered=0,\n",
    "    relative_contact_rate=0.3,\n",
    "    ventilated=Disposition.create(days=10, rate=0.005),\n",
    ")\n",
    "\n",
    "p.doubling_time = None\n",
    "simsir = SimSirModel(p)\n"
   ]
  },
  {
   "cell_type": "markdown",
   "metadata": {},
   "source": [
    "## Tests"
   ]
  },
  {
   "cell_type": "markdown",
   "metadata": {},
   "source": [
    "### Check that model agrees with Penn CHIME if no policies are in place"
   ]
  },
  {
   "cell_type": "markdown",
   "metadata": {},
   "source": [
    "Calculate S, I, H, R for no policies"
   ]
  },
  {
   "cell_type": "code",
   "execution_count": null,
   "metadata": {
    "scrolled": false
   },
   "outputs": [],
   "source": [
    "n_days = simsir.raw_df.day.max() - simsir.raw_df.day.min() + 1\n",
    "\n",
    "policies = [(simsir.beta, n_days)]\n",
    "raw_df = DataFrame(\n",
    "    sim_sir(\n",
    "        simsir.susceptible,\n",
    "        simsir.infected,\n",
    "        p.recovered,\n",
    "        simsir.gamma,\n",
    "        -simsir.i_day,\n",
    "        policies,\n",
    "    )\n",
    ")\n",
    "\n",
    "calculate_dispositions(raw_df, simsir.rates, market_share=1.0)\n",
    "\n",
    "day0 = raw_df.iloc[0].fillna(0)\n",
    "\n",
    "raw_df.head()"
   ]
  },
  {
   "cell_type": "markdown",
   "metadata": {},
   "source": [
    "Compute values using new fit function"
   ]
  },
  {
   "cell_type": "code",
   "execution_count": null,
   "metadata": {},
   "outputs": [],
   "source": [
    "pars = {\n",
    "    \"beta_i\": simsir.beta,\n",
    "    \"gamma_i\": simsir.gamma,\n",
    "    \"initial_susceptible\": day0.susceptible,\n",
    "    \"initial_infected\": day0.infected,\n",
    "    \"initial_hospitalized\": day0.hospitalized,\n",
    "    \"initial_recovered\": day0.recovered,\n",
    "    \"hospitalization_rate\": simsir.rates[\"hospitalized\"],\n",
    "}\n",
    "x = {\n",
    "    \"n_iter\": raw_df.shape[0],\n",
    "}\n",
    "\n",
    "\n",
    "f = FitFcn(sir_step, columns=[\"susceptible\", \"infected\", \"hospitalized\", \"recovered\"])\n",
    "y = f(x, pars)"
   ]
  },
  {
   "cell_type": "markdown",
   "metadata": {},
   "source": [
    "Check that difference is consistent with zero"
   ]
  },
  {
   "cell_type": "code",
   "execution_count": null,
   "metadata": {},
   "outputs": [],
   "source": [
    "mean = (y - raw_df[f.columns]).mean()\n",
    "sdev = (y - raw_df[f.columns]).std()\n",
    "assert (mean.abs() < sdev).all()\n",
    "mean"
   ]
  },
  {
   "cell_type": "code",
   "execution_count": null,
   "metadata": {},
   "outputs": [],
   "source": []
  }
 ],
 "metadata": {
  "kernelspec": {
   "display_name": "chime",
   "language": "python",
   "name": "chime"
  },
  "language_info": {
   "codemirror_mode": {
    "name": "ipython",
    "version": 3
   },
   "file_extension": ".py",
   "mimetype": "text/x-python",
   "name": "python",
   "nbconvert_exporter": "python",
   "pygments_lexer": "ipython3",
   "version": "3.7.5"
  }
 },
 "nbformat": 4,
 "nbformat_minor": 2
}
