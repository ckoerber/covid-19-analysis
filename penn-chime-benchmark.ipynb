{
 "cells": [
  {
   "cell_type": "markdown",
   "metadata": {},
   "source": [
    "# Notebook to compare Penn CHIME fits against all parameter fits"
   ]
  },
  {
   "cell_type": "markdown",
   "metadata": {},
   "source": [
    "## Imports"
   ]
  },
  {
   "cell_type": "code",
   "execution_count": 1,
   "metadata": {},
   "outputs": [],
   "source": [
    "from os import environ\n",
    "from datetime import date\n",
    "\n",
    "from pandas import DataFrame\n",
    "from numpy import zeros\n",
    "\n",
    "from penn_chime.parameters import Parameters, Disposition\n",
    "from penn_chime.models import (\n",
    "    SimSirModel,\n",
    "    sim_sir,\n",
    "    calculate_admits,\n",
    "    calculate_dispositions,\n",
    ")\n",
    "import penn_chime\n",
    "\n",
    "from models import sir_step, sihr_step, one_minus_logistic_fcn, FitFcn"
   ]
  },
  {
   "cell_type": "raw",
   "metadata": {},
   "source": [
    "!pip show penn_chime"
   ]
  },
  {
   "cell_type": "code",
   "execution_count": 2,
   "metadata": {},
   "outputs": [],
   "source": [
    "COLS_TO_COMPARE = [\"susceptible\", \"infected\", \"recovered\", \"hospitalized_new\"]"
   ]
  },
  {
   "cell_type": "markdown",
   "metadata": {},
   "source": [
    "## Set up Penn CHIME model"
   ]
  },
  {
   "cell_type": "code",
   "execution_count": 3,
   "metadata": {},
   "outputs": [
    {
     "name": "stdout",
     "output_type": "stream",
     "text": [
      "2020-04-09 16:58:10,824 - penn_chime.models - INFO - Using date_first_hospitalized: 2020-03-07; current_date: 2020-04-09; i_day: 33, current_hospitalized: 69\n",
      "2020-04-09 16:58:10,862 - penn_chime.models - INFO - Estimated doubling_time: 5.266555601832569\n",
      "2020-04-09 16:58:10,869 - penn_chime.models - INFO - len(np.arange(-i_day, n_days+1)): 134\n",
      "2020-04-09 16:58:10,870 - penn_chime.models - INFO - len(raw_df): 134\n"
     ]
    }
   ],
   "source": [
    "p = Parameters(\n",
    "    current_hospitalized=69,\n",
    "    date_first_hospitalized=date(2020, 3, 7),\n",
    "    doubling_time=4.0,\n",
    "    hospitalized=Disposition.create(days=7, rate=0.025),\n",
    "    icu=Disposition.create(days=9, rate=0.0075),\n",
    "    infectious_days=14,\n",
    "    market_share=0.15,\n",
    "    n_days=100,\n",
    "    population=3600000,\n",
    "    recovered=0,\n",
    "    relative_contact_rate=0.3,\n",
    "    ventilated=Disposition.create(days=10, rate=0.005),\n",
    ")\n",
    "\n",
    "p.doubling_time = None\n",
    "simsir = SimSirModel(p)"
   ]
  },
  {
   "cell_type": "markdown",
   "metadata": {},
   "source": [
    "## Tests"
   ]
  },
  {
   "cell_type": "markdown",
   "metadata": {},
   "source": [
    "### Check that model agrees with Penn CHIME if no policies are in place"
   ]
  },
  {
   "cell_type": "markdown",
   "metadata": {},
   "source": [
    "Calculate S, I, H, R for no policies"
   ]
  },
  {
   "cell_type": "code",
   "execution_count": 4,
   "metadata": {
    "scrolled": false
   },
   "outputs": [
    {
     "data": {
      "text/html": [
       "<div>\n",
       "<style scoped>\n",
       "    .dataframe tbody tr th:only-of-type {\n",
       "        vertical-align: middle;\n",
       "    }\n",
       "\n",
       "    .dataframe tbody tr th {\n",
       "        vertical-align: top;\n",
       "    }\n",
       "\n",
       "    .dataframe thead th {\n",
       "        text-align: right;\n",
       "    }\n",
       "</style>\n",
       "<table border=\"1\" class=\"dataframe\">\n",
       "  <thead>\n",
       "    <tr style=\"text-align: right;\">\n",
       "      <th></th>\n",
       "      <th>day</th>\n",
       "      <th>susceptible</th>\n",
       "      <th>infected</th>\n",
       "      <th>recovered</th>\n",
       "      <th>ever_infected</th>\n",
       "      <th>ever_hospitalized</th>\n",
       "      <th>hospitalized</th>\n",
       "      <th>ever_icu</th>\n",
       "      <th>icu</th>\n",
       "      <th>ever_ventilated</th>\n",
       "      <th>ventilated</th>\n",
       "      <th>admits_hospitalized</th>\n",
       "      <th>admits_icu</th>\n",
       "      <th>admits_ventilated</th>\n",
       "    </tr>\n",
       "  </thead>\n",
       "  <tbody>\n",
       "    <tr>\n",
       "      <th>0</th>\n",
       "      <td>-33</td>\n",
       "      <td>3.569456e+06</td>\n",
       "      <td>20307.339913</td>\n",
       "      <td>0.000000</td>\n",
       "      <td>20307.339913</td>\n",
       "      <td>76.152525</td>\n",
       "      <td>NaN</td>\n",
       "      <td>22.845757</td>\n",
       "      <td>NaN</td>\n",
       "      <td>15.230505</td>\n",
       "      <td>NaN</td>\n",
       "      <td>NaN</td>\n",
       "      <td>NaN</td>\n",
       "      <td>NaN</td>\n",
       "    </tr>\n",
       "    <tr>\n",
       "      <th>1</th>\n",
       "      <td>-32</td>\n",
       "      <td>3.565185e+06</td>\n",
       "      <td>23127.681000</td>\n",
       "      <td>1450.524280</td>\n",
       "      <td>24578.205280</td>\n",
       "      <td>92.168270</td>\n",
       "      <td>16.015745</td>\n",
       "      <td>27.650481</td>\n",
       "      <td>4.804724</td>\n",
       "      <td>18.433654</td>\n",
       "      <td>3.203149</td>\n",
       "      <td>16.015745</td>\n",
       "      <td>4.804724</td>\n",
       "      <td>3.203149</td>\n",
       "    </tr>\n",
       "    <tr>\n",
       "      <th>2</th>\n",
       "      <td>-31</td>\n",
       "      <td>3.560327e+06</td>\n",
       "      <td>26333.899264</td>\n",
       "      <td>3102.501494</td>\n",
       "      <td>29436.400757</td>\n",
       "      <td>110.386503</td>\n",
       "      <td>18.218233</td>\n",
       "      <td>33.115951</td>\n",
       "      <td>5.465470</td>\n",
       "      <td>22.077301</td>\n",
       "      <td>3.643647</td>\n",
       "      <td>18.218233</td>\n",
       "      <td>5.465470</td>\n",
       "      <td>3.643647</td>\n",
       "    </tr>\n",
       "    <tr>\n",
       "      <th>3</th>\n",
       "      <td>-30</td>\n",
       "      <td>3.554802e+06</td>\n",
       "      <td>29977.061514</td>\n",
       "      <td>4983.494298</td>\n",
       "      <td>34960.555812</td>\n",
       "      <td>131.102084</td>\n",
       "      <td>20.715581</td>\n",
       "      <td>39.330625</td>\n",
       "      <td>6.214674</td>\n",
       "      <td>26.220417</td>\n",
       "      <td>4.143116</td>\n",
       "      <td>20.715581</td>\n",
       "      <td>6.214674</td>\n",
       "      <td>4.143116</td>\n",
       "    </tr>\n",
       "    <tr>\n",
       "      <th>4</th>\n",
       "      <td>-29</td>\n",
       "      <td>3.548524e+06</td>\n",
       "      <td>34114.479914</td>\n",
       "      <td>7124.712978</td>\n",
       "      <td>41239.192892</td>\n",
       "      <td>154.646973</td>\n",
       "      <td>23.544889</td>\n",
       "      <td>46.394092</td>\n",
       "      <td>7.063467</td>\n",
       "      <td>30.929395</td>\n",
       "      <td>4.708978</td>\n",
       "      <td>23.544889</td>\n",
       "      <td>7.063467</td>\n",
       "      <td>4.708978</td>\n",
       "    </tr>\n",
       "  </tbody>\n",
       "</table>\n",
       "</div>"
      ],
      "text/plain": [
       "   day   susceptible      infected    recovered  ever_infected  \\\n",
       "0  -33  3.569456e+06  20307.339913     0.000000   20307.339913   \n",
       "1  -32  3.565185e+06  23127.681000  1450.524280   24578.205280   \n",
       "2  -31  3.560327e+06  26333.899264  3102.501494   29436.400757   \n",
       "3  -30  3.554802e+06  29977.061514  4983.494298   34960.555812   \n",
       "4  -29  3.548524e+06  34114.479914  7124.712978   41239.192892   \n",
       "\n",
       "   ever_hospitalized  hospitalized   ever_icu       icu  ever_ventilated  \\\n",
       "0          76.152525           NaN  22.845757       NaN        15.230505   \n",
       "1          92.168270     16.015745  27.650481  4.804724        18.433654   \n",
       "2         110.386503     18.218233  33.115951  5.465470        22.077301   \n",
       "3         131.102084     20.715581  39.330625  6.214674        26.220417   \n",
       "4         154.646973     23.544889  46.394092  7.063467        30.929395   \n",
       "\n",
       "   ventilated  admits_hospitalized  admits_icu  admits_ventilated  \n",
       "0         NaN                  NaN         NaN                NaN  \n",
       "1    3.203149            16.015745    4.804724           3.203149  \n",
       "2    3.643647            18.218233    5.465470           3.643647  \n",
       "3    4.143116            20.715581    6.214674           4.143116  \n",
       "4    4.708978            23.544889    7.063467           4.708978  "
      ]
     },
     "execution_count": 4,
     "metadata": {},
     "output_type": "execute_result"
    }
   ],
   "source": [
    "n_days = simsir.raw_df.day.max() - simsir.raw_df.day.min() + 1\n",
    "\n",
    "policies = [(simsir.beta, n_days)]\n",
    "raw = sim_sir(\n",
    "    simsir.susceptible,\n",
    "    simsir.infected,\n",
    "    p.recovered,\n",
    "    simsir.gamma,\n",
    "    -simsir.i_day,\n",
    "    policies,\n",
    ")\n",
    "\n",
    "\n",
    "calculate_dispositions(raw, simsir.rates, market_share=p.market_share)\n",
    "calculate_admits(raw, simsir.rates)\n",
    "\n",
    "raw_df = DataFrame(raw)\n",
    "\n",
    "day0 = raw_df.iloc[0].fillna(0)\n",
    "\n",
    "raw_df.head()"
   ]
  },
  {
   "cell_type": "markdown",
   "metadata": {},
   "source": [
    "Compute values using new fit function"
   ]
  },
  {
   "cell_type": "code",
   "execution_count": 5,
   "metadata": {},
   "outputs": [],
   "source": [
    "pars = {\n",
    "    \"beta_i\": simsir.beta,\n",
    "    \"gamma_i\": simsir.gamma,\n",
    "    \"initial_susceptible\": day0.susceptible,\n",
    "    \"initial_infected\": day0.infected,\n",
    "    \"initial_hospitalized\": day0.hospitalized,\n",
    "    \"initial_recovered\": day0.recovered,\n",
    "    \"hospitalization_rate\": simsir.rates[\"hospitalized\"] * p.market_share,\n",
    "}\n",
    "x = {\n",
    "    \"n_iter\": raw_df.shape[0],\n",
    "}\n",
    "\n",
    "\n",
    "f = FitFcn(sir_step)\n",
    "y = f(x, pars)"
   ]
  },
  {
   "cell_type": "markdown",
   "metadata": {},
   "source": [
    "Check that difference is consistent with zero"
   ]
  },
  {
   "cell_type": "code",
   "execution_count": 6,
   "metadata": {},
   "outputs": [
    {
     "data": {
      "text/plain": [
       "{'beta_i': 5.891974409571809e-08,\n",
       " 'gamma_i': 0.07142857142857142,\n",
       " 'initial_susceptible': 3569455.6548977033,\n",
       " 'initial_infected': 20307.339913103864,\n",
       " 'initial_hospitalized': 0.0,\n",
       " 'initial_recovered': 0.0,\n",
       " 'hospitalization_rate': 0.00375}"
      ]
     },
     "execution_count": 6,
     "metadata": {},
     "output_type": "execute_result"
    }
   ],
   "source": [
    "pars"
   ]
  },
  {
   "cell_type": "code",
   "execution_count": 7,
   "metadata": {},
   "outputs": [
    {
     "data": {
      "text/html": [
       "<div>\n",
       "<style scoped>\n",
       "    .dataframe tbody tr th:only-of-type {\n",
       "        vertical-align: middle;\n",
       "    }\n",
       "\n",
       "    .dataframe tbody tr th {\n",
       "        vertical-align: top;\n",
       "    }\n",
       "\n",
       "    .dataframe thead th {\n",
       "        text-align: right;\n",
       "    }\n",
       "</style>\n",
       "<table border=\"1\" class=\"dataframe\">\n",
       "  <thead>\n",
       "    <tr style=\"text-align: right;\">\n",
       "      <th></th>\n",
       "      <th>mean</th>\n",
       "      <th>sdev</th>\n",
       "    </tr>\n",
       "  </thead>\n",
       "  <tbody>\n",
       "    <tr>\n",
       "      <th>susceptible</th>\n",
       "      <td>1.825996e-10</td>\n",
       "      <td>9.702123e-10</td>\n",
       "    </tr>\n",
       "    <tr>\n",
       "      <th>infected</th>\n",
       "      <td>-3.610492e-10</td>\n",
       "      <td>6.822826e-10</td>\n",
       "    </tr>\n",
       "    <tr>\n",
       "      <th>recovered</th>\n",
       "      <td>-4.160837e-09</td>\n",
       "      <td>2.794894e-09</td>\n",
       "    </tr>\n",
       "    <tr>\n",
       "      <th>hospitalized_new</th>\n",
       "      <td>-1.039591e-13</td>\n",
       "      <td>1.815111e-12</td>\n",
       "    </tr>\n",
       "  </tbody>\n",
       "</table>\n",
       "</div>"
      ],
      "text/plain": [
       "                          mean          sdev\n",
       "susceptible       1.825996e-10  9.702123e-10\n",
       "infected         -3.610492e-10  6.822826e-10\n",
       "recovered        -4.160837e-09  2.794894e-09\n",
       "hospitalized_new -1.039591e-13  1.815111e-12"
      ]
     },
     "execution_count": 7,
     "metadata": {},
     "output_type": "execute_result"
    }
   ],
   "source": [
    "diff = (raw_df.rename(columns={\"hospitalized\": \"hospitalized_new\"}) - y)[COLS_TO_COMPARE]\n",
    "mean = diff.mean()\n",
    "sdev = diff.std()\n",
    "assert (mean.abs() < 2 * sdev).all()\n",
    "DataFrame([mean, sdev], index=[\"mean\", \"sdev\"]).T"
   ]
  },
  {
   "cell_type": "markdown",
   "metadata": {},
   "source": [
    "### Check that model agrees with Penn CHIME if no policies are in place"
   ]
  },
  {
   "cell_type": "markdown",
   "metadata": {},
   "source": [
    "Now compare against Penn CHIME with active social distancing policies.\n",
    "\n",
    "My fit function takes a function which returns an array of betas, this is implemented below"
   ]
  },
  {
   "cell_type": "code",
   "execution_count": 8,
   "metadata": {},
   "outputs": [],
   "source": [
    "POLICIES = simsir.gen_policy(p)\n",
    "\n",
    "\n",
    "def beta_i_fcn(n_iter, **kwargs):\n",
    "    out = zeros(len(n_iter))\n",
    "    ii = 0\n",
    "    for beta, n_days in POLICIES:\n",
    "        for _ in range(n_days):\n",
    "            out[ii] = beta\n",
    "            ii += 1\n",
    "\n",
    "    return out"
   ]
  },
  {
   "cell_type": "code",
   "execution_count": 9,
   "metadata": {},
   "outputs": [],
   "source": [
    "day0 = simsir.raw_df.iloc[0]\n",
    "\n",
    "pars = {\n",
    "    \"beta_i\": simsir.beta,\n",
    "    \"gamma_i\": simsir.gamma,\n",
    "    \"initial_susceptible\": day0.susceptible,\n",
    "    \"initial_infected\": day0.infected,\n",
    "    \"initial_hospitalized\": day0.hospitalized,\n",
    "    \"initial_recovered\": day0.recovered,\n",
    "    \"hospitalization_rate\": simsir.rates[\"hospitalized\"] * p.market_share,\n",
    "}\n",
    "x = {\n",
    "    \"n_iter\": simsir.raw_df.shape[0],\n",
    "}\n",
    "\n",
    "\n",
    "f = FitFcn(\n",
    "    sir_step,\n",
    "    beta_i_fcn=beta_i_fcn,\n",
    ")\n",
    "y = f(x, pars)"
   ]
  },
  {
   "cell_type": "code",
   "execution_count": 10,
   "metadata": {},
   "outputs": [
    {
     "data": {
      "text/html": [
       "<div>\n",
       "<style scoped>\n",
       "    .dataframe tbody tr th:only-of-type {\n",
       "        vertical-align: middle;\n",
       "    }\n",
       "\n",
       "    .dataframe tbody tr th {\n",
       "        vertical-align: top;\n",
       "    }\n",
       "\n",
       "    .dataframe thead th {\n",
       "        text-align: right;\n",
       "    }\n",
       "</style>\n",
       "<table border=\"1\" class=\"dataframe\">\n",
       "  <thead>\n",
       "    <tr style=\"text-align: right;\">\n",
       "      <th></th>\n",
       "      <th>mean</th>\n",
       "      <th>sdev</th>\n",
       "    </tr>\n",
       "  </thead>\n",
       "  <tbody>\n",
       "    <tr>\n",
       "      <th>susceptible</th>\n",
       "      <td>9.947429e-10</td>\n",
       "      <td>4.857298e-09</td>\n",
       "    </tr>\n",
       "    <tr>\n",
       "      <th>infected</th>\n",
       "      <td>-1.633832e-09</td>\n",
       "      <td>2.051451e-09</td>\n",
       "    </tr>\n",
       "    <tr>\n",
       "      <th>recovered</th>\n",
       "      <td>-5.516107e-09</td>\n",
       "      <td>6.491375e-09</td>\n",
       "    </tr>\n",
       "    <tr>\n",
       "      <th>hospitalized_new</th>\n",
       "      <td>-3.956628e-13</td>\n",
       "      <td>9.732858e-13</td>\n",
       "    </tr>\n",
       "  </tbody>\n",
       "</table>\n",
       "</div>"
      ],
      "text/plain": [
       "                          mean          sdev\n",
       "susceptible       9.947429e-10  4.857298e-09\n",
       "infected         -1.633832e-09  2.051451e-09\n",
       "recovered        -5.516107e-09  6.491375e-09\n",
       "hospitalized_new -3.956628e-13  9.732858e-13"
      ]
     },
     "execution_count": 10,
     "metadata": {},
     "output_type": "execute_result"
    }
   ],
   "source": [
    "diff = (simsir.raw_df.rename(columns={\"hospitalized\": \"hospitalized_new\"}) - y)[COLS_TO_COMPARE]\n",
    "mean = diff.mean()\n",
    "sdev = diff.std()\n",
    "assert (mean.abs() < 2 * sdev).all()\n",
    "DataFrame([mean, sdev], index=[\"mean\", \"sdev\"]).T"
   ]
  },
  {
   "cell_type": "code",
   "execution_count": null,
   "metadata": {},
   "outputs": [],
   "source": []
  }
 ],
 "metadata": {
  "kernelspec": {
   "display_name": "chime",
   "language": "python",
   "name": "chime"
  },
  "language_info": {
   "codemirror_mode": {
    "name": "ipython",
    "version": 3
   },
   "file_extension": ".py",
   "mimetype": "text/x-python",
   "name": "python",
   "nbconvert_exporter": "python",
   "pygments_lexer": "ipython3",
   "version": "3.7.5"
  }
 },
 "nbformat": 4,
 "nbformat_minor": 2
}
