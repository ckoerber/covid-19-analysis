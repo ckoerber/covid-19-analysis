{
 "cells": [
  {
   "cell_type": "markdown",
   "metadata": {},
   "source": [
    "# NYC data & social distancing fits (SIHR)"
   ]
  },
  {
   "cell_type": "markdown",
   "metadata": {},
   "source": [
    "This notebook compares the SIHR model fits of the NYC data with or without implemented social distancing measures. \n",
    "It is an exact copy of the SIR equivalent with the difference that now the `sihr_step` was used. The conlcusion don't change.\n",
    "\n",
    "**TL;DR:** \n",
    "\n",
    "1. The data is described best if a social distancing measures are in place.\n",
    "2. Precise knowledge about new admissions is more important than knowledge about new infections assuming a 15% relative uncertainty in new admissions and a 50% or larger uncertainty in new known cases.\n",
    "3. To reliably run social distancing fits, a \"bend\" in the data (deviation from exponential growth) should be visible.\n",
    "4. Once the bend is visible, predictions are consistent and fit precision seems limited by data. Predictions in the range of a week seem feasible, after that, the extrapolation uncertainty becomes large."
   ]
  },
  {
   "cell_type": "markdown",
   "metadata": {},
   "source": [
    "# Init"
   ]
  },
  {
   "cell_type": "markdown",
   "metadata": {},
   "source": [
    "## Imports"
   ]
  },
  {
   "cell_type": "code",
   "execution_count": 1,
   "metadata": {},
   "outputs": [
    {
     "name": "stdout",
     "output_type": "stream",
     "text": [
      "e19db289166f73282d39dfcef0d47a324d654c07\n"
     ]
    }
   ],
   "source": [
    "from os import environ\n",
    "from datetime import date, timedelta\n",
    "\n",
    "from pandas import DataFrame, date_range, Series\n",
    "from numpy import array, linspace, log, sqrt, exp, arange\n",
    "\n",
    "import plotly.graph_objects as go\n",
    "from plotly.subplots import make_subplots\n",
    "\n",
    "from gvar import gvar, mean, sdev\n",
    "from lsqfit import nonlinear_fit\n",
    "\n",
    "from plotting import COLUMN_NAME_MAP, plot_fits, summarize_fit, plot_fit_range\n",
    "from models import sihr_step, one_minus_logistic_fcn, FitFcn\n",
    "from prepare_df import prepare_case_hosp_death, COMMIT_HASH_LAST\n",
    "\n",
    "print(COMMIT_HASH_LAST)"
   ]
  },
  {
   "cell_type": "markdown",
   "metadata": {},
   "source": [
    "## Data"
   ]
  },
  {
   "cell_type": "code",
   "execution_count": 2,
   "metadata": {
    "scrolled": false
   },
   "outputs": [
    {
     "data": {
      "text/html": [
       "<div>\n",
       "<style scoped>\n",
       "    .dataframe tbody tr th:only-of-type {\n",
       "        vertical-align: middle;\n",
       "    }\n",
       "\n",
       "    .dataframe tbody tr th {\n",
       "        vertical-align: top;\n",
       "    }\n",
       "\n",
       "    .dataframe thead th {\n",
       "        text-align: right;\n",
       "    }\n",
       "</style>\n",
       "<table border=\"1\" class=\"dataframe\">\n",
       "  <thead>\n",
       "    <tr style=\"text-align: right;\">\n",
       "      <th></th>\n",
       "      <th>death_cummulative</th>\n",
       "      <th>death_new</th>\n",
       "      <th>hospitalized_cummulative</th>\n",
       "      <th>hospitalized_new</th>\n",
       "      <th>infected_cummulative</th>\n",
       "      <th>infected_new</th>\n",
       "    </tr>\n",
       "    <tr>\n",
       "      <th>date</th>\n",
       "      <th></th>\n",
       "      <th></th>\n",
       "      <th></th>\n",
       "      <th></th>\n",
       "      <th></th>\n",
       "      <th></th>\n",
       "    </tr>\n",
       "  </thead>\n",
       "  <tbody>\n",
       "    <tr>\n",
       "      <th>2020-03-24</th>\n",
       "      <td>476</td>\n",
       "      <td>199</td>\n",
       "      <td>7254</td>\n",
       "      <td>2136</td>\n",
       "      <td>33350</td>\n",
       "      <td>7932</td>\n",
       "    </tr>\n",
       "    <tr>\n",
       "      <th>2020-03-26</th>\n",
       "      <td>822</td>\n",
       "      <td>346</td>\n",
       "      <td>9702</td>\n",
       "      <td>2448</td>\n",
       "      <td>41731</td>\n",
       "      <td>8381</td>\n",
       "    </tr>\n",
       "    <tr>\n",
       "      <th>2020-03-28</th>\n",
       "      <td>1299</td>\n",
       "      <td>477</td>\n",
       "      <td>11984</td>\n",
       "      <td>2282</td>\n",
       "      <td>47538</td>\n",
       "      <td>5807</td>\n",
       "    </tr>\n",
       "    <tr>\n",
       "      <th>2020-03-30</th>\n",
       "      <td>1884</td>\n",
       "      <td>585</td>\n",
       "      <td>14594</td>\n",
       "      <td>2610</td>\n",
       "      <td>56423</td>\n",
       "      <td>8885</td>\n",
       "    </tr>\n",
       "    <tr>\n",
       "      <th>2020-04-01</th>\n",
       "      <td>2582</td>\n",
       "      <td>698</td>\n",
       "      <td>16964</td>\n",
       "      <td>2370</td>\n",
       "      <td>65525</td>\n",
       "      <td>9102</td>\n",
       "    </tr>\n",
       "  </tbody>\n",
       "</table>\n",
       "</div>"
      ],
      "text/plain": [
       "            death_cummulative  death_new  hospitalized_cummulative  \\\n",
       "date                                                                 \n",
       "2020-03-24                476        199                      7254   \n",
       "2020-03-26                822        346                      9702   \n",
       "2020-03-28               1299        477                     11984   \n",
       "2020-03-30               1884        585                     14594   \n",
       "2020-04-01               2582        698                     16964   \n",
       "\n",
       "            hospitalized_new  infected_cummulative  infected_new  \n",
       "date                                                              \n",
       "2020-03-24              2136                 33350          7932  \n",
       "2020-03-26              2448                 41731          8381  \n",
       "2020-03-28              2282                 47538          5807  \n",
       "2020-03-30              2610                 56423          8885  \n",
       "2020-04-01              2370                 65525          9102  "
      ]
     },
     "execution_count": 2,
     "metadata": {},
     "output_type": "execute_result"
    }
   ],
   "source": [
    "BIN_SIZE = 2\n",
    "# See also the NYC-data-preparation notebook for choice analysis\n",
    "\n",
    "chd_df = prepare_case_hosp_death(\n",
    "    COMMIT_HASH_LAST,  # Specify NYC repo commit hash to ensure same data\n",
    "    bin_day_range=BIN_SIZE,  # How many days should be grouped as one\n",
    "    drop_days_end=3,  # Drop rows where date awas 3 days within reporting\n",
    ").loc[\n",
    "    \"2020-03-08\":\"2020-04-01\"\n",
    "]  # Only consider given time range\n",
    "chd_df.tail()"
   ]
  },
  {
   "cell_type": "markdown",
   "metadata": {},
   "source": [
    "# Fitting"
   ]
  },
  {
   "cell_type": "markdown",
   "metadata": {},
   "source": [
    "# Prepare fit"
   ]
  },
  {
   "cell_type": "markdown",
   "metadata": {},
   "source": [
    "To fit the SIR model, I distinguish between two sets of parameters:\n",
    "\n",
    "1. Fit data stored in a `XX` and `YY` variable. This data does not change after being specified once.\n",
    "2. Fit parameters stored in a prior which specifies the initial belive. These parameters are optimized while fitting."
   ]
  },
  {
   "cell_type": "code",
   "execution_count": 3,
   "metadata": {},
   "outputs": [
    {
     "name": "stdout",
     "output_type": "stream",
     "text": [
      "{'initial_susceptible': 8600000, 'initial_hospitalized': 102, 'initial_recovered': 0, 'n_iter': 14, 'bin_size': 2, 'capacity': 20000}\n"
     ]
    }
   ],
   "source": [
    "## This is data considerd fix in fit\n",
    "XX = {\n",
    "    \"initial_susceptible\": int(8.6e6),  # https://en.wikipedia.org/wiki/New_York_City\n",
    "    \"initial_hospitalized\": chd_df.hospitalized_cummulative.iloc[0],\n",
    "    \"initial_recovered\": 0,\n",
    "    \"n_iter\": chd_df.shape[0] + 1,  # Because of the bin size, one iteration = 3 days\n",
    "    \"bin_size\": BIN_SIZE,  # To convert units later on\n",
    "    \"capacity\": 20000\n",
    "}\n",
    "print(XX)"
   ]
  },
  {
   "cell_type": "markdown",
   "metadata": {},
   "source": [
    "For this fit to work, the `YY` variable must also quantify uncertainty.\n",
    "I believe that daily new admissions to a hospital (`hospitalized_new`) are more accurate than a count of daily new infections (`infected_new`, I have no estimation about how accurate the estimation of new infections is at all). Thus I emphasize `hospitalized_new` over `infected_new`.\n",
    "In this context, the $\\chi^2$ per d.o.f. is not necessarily meaningful and uncertainties rather quantify relative weights if how much you trust individual data points. "
   ]
  },
  {
   "cell_type": "code",
   "execution_count": 4,
   "metadata": {},
   "outputs": [],
   "source": [
    "infected_new = chd_df[\"infected_new\"].values\n",
    "hospitalized_new = chd_df[\"hospitalized_new\"].values\n",
    "\n",
    "# This assumes that there is a 50% uncertainty in the number of infected people\n",
    "## And at least 300 (if the number is small to not emphasize early measurments too much)\n",
    "delta_infected_new = [max(300, infected * 0.5) for infected in infected_new]\n",
    "\n",
    "# This assumes that there is a 10% uncertainty in the number of hospitalized people with a minimum of 50\n",
    "delta_hospitalized_new = [hospitalized * 0.15 for hospitalized in hospitalized_new]\n",
    "\n",
    "YY = gvar(\n",
    "    [infected_new, hospitalized_new], [delta_infected_new, delta_hospitalized_new]\n",
    ").T"
   ]
  },
  {
   "cell_type": "markdown",
   "metadata": {},
   "source": [
    "# Fits"
   ]
  },
  {
   "cell_type": "markdown",
   "metadata": {},
   "source": [
    "**About doubling time and social distancing**\n",
    "\n",
    "If one assumes, in the initial phase of the COVID-19 spread, $S(t) \\approx S_0$, one has\n",
    "\n",
    "$$\n",
    "    \\dot I(t) = (\\beta_I S_0 - \\gamma_I) I(t)\n",
    "    \\quad \\Rightarrow \\quad\n",
    "    I(t) = I_0 \\exp\\{(\\beta_I S_0 - \\gamma_I)t\\}\n",
    "$$\n",
    "\n",
    "Thus, the initial doubling time is defined as\n",
    "\n",
    "$$\n",
    "    I(t_2) = 2 I_0 = I_0 \\exp\\{(\\beta_I S_0 - \\gamma_I)t_2\\} \n",
    "    \\quad \\Rightarrow \\quad \n",
    "    t_2 = \\frac{\\ln(2)}{\\beta_I S_0 - \\gamma_I}\n",
    "    \\quad \\Rightarrow \\quad \n",
    "    \\beta_I =  \\frac{1}{S_0} \\left[ \\frac{\\ln(2)}{t_2} +  \\gamma_I \\right]\n",
    "$$\n",
    "\n",
    "In later fits, social distancing policies are introduced. \n",
    "Thus, the growth rate $\\beta_I$ becomes a function of time which is implemented by a logistic function with three unknown coefficients\n",
    "\n",
    "$$\n",
    "    \\beta_I(t; R, t_0, \\Delta t) = \\beta_I \\left[ 1 - \\frac{R}{1+\\exp\\{-(t-t_0)\\Delta t\\}}\\right]\n",
    "$$\n",
    "\n"
   ]
  },
  {
   "cell_type": "markdown",
   "metadata": {},
   "source": [
    "## SIHR, no social distancing policies"
   ]
  },
  {
   "cell_type": "code",
   "execution_count": 12,
   "metadata": {
    "scrolled": false
   },
   "outputs": [
    {
     "name": "stdout",
     "output_type": "stream",
     "text": [
      "Legend:\n",
      "- I(0): initial_infected\n",
      "- t2(0): inital_doubling_time\n",
      "- Recovery I: recovery_days_i\n",
      "- Recovery H: recovery_days_h \n",
      "\n",
      "Least Square Fit:\n",
      "  chi2/dof [dof] = 5.5 [26]    Q = 3.8e-18    logGBF = -267.46\n",
      "\n",
      "Parameters:\n",
      "inital_doubling_time    2.44 (22)     [     5.0 (2.0) ]  *\n",
      "     recovery_days_i   14.2 (5.0)     [    14.0 (5.0) ]  \n",
      "     recovery_days_h   14.0 (5.0)     [    14.0 (5.0) ]  \n",
      "    initial_infected    407 (112)     [ 10000 (20000) ]  \n",
      "              beta_h   0.179 (47)     [     0.10 (50) ]  \n",
      "\n",
      "Settings:\n",
      "  svdcut/n = 1e-12/0    tol = (1e-08,1e-10,1e-10*)    (itns/time = 21/0.1)\n",
      "  fitter = scipy_least_squares    method = trf\n",
      " \n",
      "------- \n",
      "Result: \n",
      "------- \n",
      "\n",
      " Values:\n",
      "             beta_h: 0.179(47)           \n",
      "               I(0): 407(112)            \n",
      "              t2(0): 2.44(22)            \n",
      "         Recovery I: 14.2(5.0)           \n",
      "         Recovery H: 14.0(5.0)           \n",
      " \n",
      " \n",
      "------------- \n",
      "Error budget: \n",
      "------------- \n",
      "\n",
      " Partial Errors:\n",
      "                beta_h       I(0)      t2(0) Recovery I Recovery H\n",
      "------------------------------------------------------------------\n",
      "      Data:       0.04     104.27       0.21       0.03       0.00\n",
      "    beta_h:       0.00      10.22       0.02       0.16       0.00\n",
      "      I(0):       0.00       0.63       0.00       0.01       0.00\n",
      "     t2(0):       0.01      12.23       0.02       0.18       0.00\n",
      "Recovery I:       0.02      37.46       0.07       4.99       0.00\n",
      "Recovery H:       0.00       0.00       0.00       0.00       5.00\n",
      "------------------------------------------------------------------\n",
      "     total:       0.05     111.94       0.22       4.99       5.00\n",
      "\n"
     ]
    },
    {
     "data": {
      "application/vnd.plotly.v1+json": {
       "config": {
        "plotlyServerURL": "https://plot.ly"
       },
       "data": [
        {
         "error_y": {
          "array": [
           300,
           300,
           488.5,
           834,
           2246,
           3233,
           3021.5,
           2716.5,
           3966,
           4190.5,
           2903.5,
           4442.5,
           4551
          ]
         },
         "line": {
          "color": "#1f77b4"
         },
         "mode": "markers+lines",
         "name": "Data",
         "showlegend": true,
         "type": "scatter",
         "x": [
          "2020-03-10T00:00:00",
          "2020-03-12T00:00:00",
          "2020-03-14T00:00:00",
          "2020-03-16T00:00:00",
          "2020-03-18T00:00:00",
          "2020-03-20T00:00:00",
          "2020-03-22T00:00:00",
          "2020-03-24T00:00:00",
          "2020-03-26T00:00:00",
          "2020-03-28T00:00:00",
          "2020-03-30T00:00:00",
          "2020-04-01T00:00:00"
         ],
         "xaxis": "x",
         "y": [
          73,
          229,
          977,
          1668,
          4492,
          6466,
          6043,
          5433,
          7932,
          8381,
          5807,
          8885,
          9102
         ],
         "yaxis": "y"
        },
        {
         "line": {
          "color": "#bcbd22",
          "shape": "spline"
         },
         "mode": "lines",
         "showlegend": false,
         "type": "scatter",
         "x": [
          "2020-03-10T00:00:00",
          "2020-03-12T00:00:00",
          "2020-03-14T00:00:00",
          "2020-03-16T00:00:00",
          "2020-03-18T00:00:00",
          "2020-03-20T00:00:00",
          "2020-03-22T00:00:00",
          "2020-03-24T00:00:00",
          "2020-03-26T00:00:00",
          "2020-03-28T00:00:00",
          "2020-03-30T00:00:00",
          "2020-04-01T00:00:00"
         ],
         "xaxis": "x",
         "y": [
          233.02454429902815,
          325.1003930476036,
          453.3340825058439,
          631.8180404854197,
          880.0856625274815,
          1225.1858897545912,
          1704.533976713542,
          2369.8188507477325,
          3292.3407511430028,
          4570.269976720667,
          6338.457586884303,
          8781.581918991169,
          12151.551728001607
         ],
         "yaxis": "y"
        },
        {
         "fill": "tonexty",
         "fillcolor": "rgba(188,189,34,0.5)",
         "line": {
          "color": "#bcbd22",
          "shape": "spline"
         },
         "mode": "lines",
         "name": "Fit",
         "showlegend": true,
         "type": "scatter",
         "x": [
          "2020-03-10T00:00:00",
          "2020-03-12T00:00:00",
          "2020-03-14T00:00:00",
          "2020-03-16T00:00:00",
          "2020-03-18T00:00:00",
          "2020-03-20T00:00:00",
          "2020-03-22T00:00:00",
          "2020-03-24T00:00:00",
          "2020-03-26T00:00:00",
          "2020-03-28T00:00:00",
          "2020-03-30T00:00:00",
          "2020-04-01T00:00:00"
         ],
         "xaxis": "x",
         "y": [
          343.66539855485854,
          475.87813876376106,
          659.1307225587277,
          913.1997940231097,
          1265.5474044912876,
          1754.3068253391884,
          2432.418014433446,
          3373.341957295609,
          4678.929413104338,
          6490.201912281553,
          9002.0153577013,
          12482.793256631356,
          17300.668115648656
         ],
         "yaxis": "y"
        },
        {
         "error_y": {
          "array": [
           300,
           300,
           488.5,
           834,
           2246,
           3233,
           3021.5,
           2716.5,
           3966,
           4190.5,
           2903.5,
           4442.5,
           4551
          ]
         },
         "line": {
          "color": "#1f77b4"
         },
         "mode": "markers+lines",
         "name": "Data",
         "showlegend": false,
         "type": "scatter",
         "x": [
          "2020-03-10T00:00:00",
          "2020-03-12T00:00:00",
          "2020-03-14T00:00:00",
          "2020-03-16T00:00:00",
          "2020-03-18T00:00:00",
          "2020-03-20T00:00:00",
          "2020-03-22T00:00:00",
          "2020-03-24T00:00:00",
          "2020-03-26T00:00:00",
          "2020-03-28T00:00:00",
          "2020-03-30T00:00:00",
          "2020-04-01T00:00:00"
         ],
         "xaxis": "x",
         "y": [
          73,
          229,
          977,
          1668,
          4492,
          6466,
          6043,
          5433,
          7932,
          8381,
          5807,
          8885,
          9102
         ],
         "yaxis": "y"
        },
        {
         "error_y": {
          "array": [
           294.8553040770762,
           290.3730666731824,
           477.539721631338,
           822.047490838585,
           2237.715534059358,
           3222.1571592461974,
           2999.5013680457187,
           2669.757965369917,
           3904.9326461067244,
           4079.0630775587847,
           2580.05373013433,
           4038.6959415795213,
           3752.765794266415
          ]
         },
         "line": {
          "color": "#2ca02c"
         },
         "mode": "markers+lines",
         "name": "Residual",
         "showlegend": false,
         "type": "scatter",
         "x": [
          "2020-03-10T00:00:00",
          "2020-03-12T00:00:00",
          "2020-03-14T00:00:00",
          "2020-03-16T00:00:00",
          "2020-03-18T00:00:00",
          "2020-03-20T00:00:00",
          "2020-03-22T00:00:00",
          "2020-03-24T00:00:00",
          "2020-03-26T00:00:00",
          "2020-03-28T00:00:00",
          "2020-03-30T00:00:00",
          "2020-04-01T00:00:00"
         ],
         "xaxis": "x3",
         "y": [
          -215,
          -171,
          420,
          895,
          3419,
          4976,
          3974,
          2561,
          3946,
          2850,
          -1863,
          -1747,
          -5624
         ],
         "yaxis": "y3"
        },
        {
         "line": {
          "color": "black"
         },
         "mode": "lines",
         "showlegend": false,
         "type": "scatter",
         "x": [
          "2020-03-10T00:00:00",
          "2020-03-12T00:00:00",
          "2020-03-14T00:00:00",
          "2020-03-16T00:00:00",
          "2020-03-18T00:00:00",
          "2020-03-20T00:00:00",
          "2020-03-22T00:00:00",
          "2020-03-24T00:00:00",
          "2020-03-26T00:00:00",
          "2020-03-28T00:00:00",
          "2020-03-30T00:00:00",
          "2020-04-01T00:00:00"
         ],
         "xaxis": "x3",
         "y": [
          0,
          0,
          0,
          0,
          0,
          0,
          0,
          0,
          0,
          0,
          0,
          0,
          0
         ],
         "yaxis": "y3"
        },
        {
         "error_y": {
          "array": [
           6.45,
           16.349999999999998,
           29.7,
           50.4,
           96.89999999999999,
           139.2,
           179.4,
           240.45,
           320.4,
           367.2,
           342.3,
           391.5,
           355.5
          ]
         },
         "line": {
          "color": "#1f77b4"
         },
         "mode": "markers+lines",
         "name": "Data",
         "showlegend": false,
         "type": "scatter",
         "x": [
          "2020-03-10T00:00:00",
          "2020-03-12T00:00:00",
          "2020-03-14T00:00:00",
          "2020-03-16T00:00:00",
          "2020-03-18T00:00:00",
          "2020-03-20T00:00:00",
          "2020-03-22T00:00:00",
          "2020-03-24T00:00:00",
          "2020-03-26T00:00:00",
          "2020-03-28T00:00:00",
          "2020-03-30T00:00:00",
          "2020-04-01T00:00:00"
         ],
         "xaxis": "x2",
         "y": [
          43,
          109,
          198,
          336,
          646,
          928,
          1196,
          1603,
          2136,
          2448,
          2282,
          2610,
          2370
         ],
         "yaxis": "y2"
        },
        {
         "line": {
          "color": "#bcbd22",
          "shape": "spline"
         },
         "mode": "lines",
         "showlegend": false,
         "type": "scatter",
         "x": [
          "2020-03-10T00:00:00",
          "2020-03-12T00:00:00",
          "2020-03-14T00:00:00",
          "2020-03-16T00:00:00",
          "2020-03-18T00:00:00",
          "2020-03-20T00:00:00",
          "2020-03-22T00:00:00",
          "2020-03-24T00:00:00",
          "2020-03-26T00:00:00",
          "2020-03-28T00:00:00",
          "2020-03-30T00:00:00",
          "2020-04-01T00:00:00"
         ],
         "xaxis": "x2",
         "y": [
          67.51293671318751,
          94.42860090671316,
          131.97389999368767,
          184.26625005115736,
          256.95751467066697,
          357.7763658770876,
          497.2731624430656,
          689.8665277799009,
          955.3130303540771,
          1320.7250234852186,
          1823.2873839670408,
          2513.8926440112505,
          3461.9922776390795
         ],
         "yaxis": "y2"
        },
        {
         "fill": "tonexty",
         "fillcolor": "rgba(188,189,34,0.5)",
         "line": {
          "color": "#bcbd22",
          "shape": "spline"
         },
         "mode": "lines",
         "name": "Fit",
         "showlegend": false,
         "type": "scatter",
         "x": [
          "2020-03-10T00:00:00",
          "2020-03-12T00:00:00",
          "2020-03-14T00:00:00",
          "2020-03-16T00:00:00",
          "2020-03-18T00:00:00",
          "2020-03-20T00:00:00",
          "2020-03-22T00:00:00",
          "2020-03-24T00:00:00",
          "2020-03-26T00:00:00",
          "2020-03-28T00:00:00",
          "2020-03-30T00:00:00",
          "2020-04-01T00:00:00"
         ],
         "xaxis": "x2",
         "y": [
          77.91731323228382,
          107.5697437373803,
          148.59106611292867,
          205.41431783906913,
          284.25736068995917,
          393.86520525179634,
          546.5434623484094,
          759.5700942514127,
          1057.1176584202221,
          1472.903144783129,
          2053.8705896768665,
          2865.283286813606,
          3997.6857229533334
         ],
         "yaxis": "y2"
        },
        {
         "error_y": {
          "array": [
           6.45,
           16.349999999999998,
           29.7,
           50.4,
           96.89999999999999,
           139.2,
           179.4,
           240.45,
           320.4,
           367.2,
           342.3,
           391.5,
           355.5
          ]
         },
         "line": {
          "color": "#1f77b4"
         },
         "mode": "markers+lines",
         "name": "Data",
         "showlegend": false,
         "type": "scatter",
         "x": [
          "2020-03-10T00:00:00",
          "2020-03-12T00:00:00",
          "2020-03-14T00:00:00",
          "2020-03-16T00:00:00",
          "2020-03-18T00:00:00",
          "2020-03-20T00:00:00",
          "2020-03-22T00:00:00",
          "2020-03-24T00:00:00",
          "2020-03-26T00:00:00",
          "2020-03-28T00:00:00",
          "2020-03-30T00:00:00",
          "2020-04-01T00:00:00"
         ],
         "xaxis": "x2",
         "y": [
          43,
          109,
          198,
          336,
          646,
          928,
          1196,
          1603,
          2136,
          2448,
          2282,
          2610,
          2370
         ],
         "yaxis": "y2"
        },
        {
         "error_y": {
          "array": [
           3.8131007477143584,
           14.971642905038903,
           28.514162227591182,
           49.27828941034251,
           95.93377716857987,
           138.0255009704606,
           177.70050474551098,
           237.91081460347252,
           316.33070421013264,
           359.2301419000912,
           322.2997615747568,
           349.86197855402395,
           233.7485468657213
          ]
         },
         "line": {
          "color": "#2ca02c"
         },
         "mode": "markers+lines",
         "name": "Residual",
         "showlegend": false,
         "type": "scatter",
         "x": [
          "2020-03-10T00:00:00",
          "2020-03-12T00:00:00",
          "2020-03-14T00:00:00",
          "2020-03-16T00:00:00",
          "2020-03-18T00:00:00",
          "2020-03-20T00:00:00",
          "2020-03-22T00:00:00",
          "2020-03-24T00:00:00",
          "2020-03-26T00:00:00",
          "2020-03-28T00:00:00",
          "2020-03-30T00:00:00",
          "2020-04-01T00:00:00"
         ],
         "xaxis": "x4",
         "y": [
          -29,
          8,
          57,
          141,
          375,
          552,
          674,
          878,
          1129,
          1051,
          343,
          -79,
          -1359
         ],
         "yaxis": "y4"
        },
        {
         "line": {
          "color": "black"
         },
         "mode": "lines",
         "showlegend": false,
         "type": "scatter",
         "x": [
          "2020-03-10T00:00:00",
          "2020-03-12T00:00:00",
          "2020-03-14T00:00:00",
          "2020-03-16T00:00:00",
          "2020-03-18T00:00:00",
          "2020-03-20T00:00:00",
          "2020-03-22T00:00:00",
          "2020-03-24T00:00:00",
          "2020-03-26T00:00:00",
          "2020-03-28T00:00:00",
          "2020-03-30T00:00:00",
          "2020-04-01T00:00:00"
         ],
         "xaxis": "x4",
         "y": [
          0,
          0,
          0,
          0,
          0,
          0,
          0,
          0,
          0,
          0,
          0,
          0,
          0
         ],
         "yaxis": "y4"
        },
        {
         "line": {
          "color": "#bcbd22",
          "shape": "spline"
         },
         "mode": "lines",
         "showlegend": false,
         "type": "scatter",
         "x": [
          "2020-03-10T00:00:00",
          "2020-03-12T00:00:00",
          "2020-03-14T00:00:00",
          "2020-03-16T00:00:00",
          "2020-03-18T00:00:00",
          "2020-03-20T00:00:00",
          "2020-03-22T00:00:00",
          "2020-03-24T00:00:00",
          "2020-03-26T00:00:00",
          "2020-03-28T00:00:00",
          "2020-03-30T00:00:00",
          "2020-04-01T00:00:00"
         ],
         "xaxis": "x5",
         "y": [
          152.7853522718784,
          221.5034645955156,
          315.4978190613548,
          444.9071119904527,
          623.726781433794,
          871.269387252232,
          1214.1695353275936,
          1689.1325773405144,
          2346.698118836594,
          3256.3842710440595,
          4513.701570628835,
          6249.680642763195,
          8643.74565291706
         ],
         "yaxis": "y5"
        },
        {
         "fill": "tonexty",
         "fillcolor": "rgba(188,189,34,0.5)",
         "line": {
          "color": "#bcbd22",
          "shape": "spline"
         },
         "mode": "lines",
         "showlegend": false,
         "type": "scatter",
         "x": [
          "2020-03-10T00:00:00",
          "2020-03-12T00:00:00",
          "2020-03-14T00:00:00",
          "2020-03-16T00:00:00",
          "2020-03-18T00:00:00",
          "2020-03-20T00:00:00",
          "2020-03-22T00:00:00",
          "2020-03-24T00:00:00",
          "2020-03-26T00:00:00",
          "2020-03-28T00:00:00",
          "2020-03-30T00:00:00",
          "2020-04-01T00:00:00"
         ],
         "xaxis": "x5",
         "y": [
          167.50204053073574,
          255.02693102224714,
          373.52177186048687,
          535.3616766899236,
          757.7184842242975,
          1064.468125869302,
          1488.850672139482,
          2077.178508234007,
          2893.999214715866,
          4029.270183126395,
          5608.303078018318,
          7805.499272616364,
          10863.229418000697
         ],
         "yaxis": "y5"
        }
       ],
       "layout": {
        "annotations": [
         {
          "font": {
           "size": 16
          },
          "showarrow": false,
          "text": "Infected new",
          "x": 0.225,
          "xanchor": "center",
          "xref": "paper",
          "y": 1,
          "yanchor": "bottom",
          "yref": "paper"
         },
         {
          "font": {
           "size": 16
          },
          "showarrow": false,
          "text": "Hospitalized new",
          "x": 0.775,
          "xanchor": "center",
          "xref": "paper",
          "y": 1,
          "yanchor": "bottom",
          "yref": "paper"
         },
         {
          "font": {
           "size": 16
          },
          "showarrow": false,
          "text": "Infected new residual",
          "x": 0.225,
          "xanchor": "center",
          "xref": "paper",
          "y": 0.6333333333333333,
          "yanchor": "bottom",
          "yref": "paper"
         },
         {
          "font": {
           "size": 16
          },
          "showarrow": false,
          "text": "Hospitalized new residual",
          "x": 0.775,
          "xanchor": "center",
          "xref": "paper",
          "y": 0.6333333333333333,
          "yanchor": "bottom",
          "yref": "paper"
         },
         {
          "font": {
           "size": 16
          },
          "showarrow": false,
          "text": "Total admissions",
          "x": 0.225,
          "xanchor": "center",
          "xref": "paper",
          "y": 0.26666666666666666,
          "yanchor": "bottom",
          "yref": "paper"
         }
        ],
        "height": 1200,
        "template": {
         "data": {
          "bar": [
           {
            "error_x": {
             "color": "#2a3f5f"
            },
            "error_y": {
             "color": "#2a3f5f"
            },
            "marker": {
             "line": {
              "color": "#E5ECF6",
              "width": 0.5
             }
            },
            "type": "bar"
           }
          ],
          "barpolar": [
           {
            "marker": {
             "line": {
              "color": "#E5ECF6",
              "width": 0.5
             }
            },
            "type": "barpolar"
           }
          ],
          "carpet": [
           {
            "aaxis": {
             "endlinecolor": "#2a3f5f",
             "gridcolor": "white",
             "linecolor": "white",
             "minorgridcolor": "white",
             "startlinecolor": "#2a3f5f"
            },
            "baxis": {
             "endlinecolor": "#2a3f5f",
             "gridcolor": "white",
             "linecolor": "white",
             "minorgridcolor": "white",
             "startlinecolor": "#2a3f5f"
            },
            "type": "carpet"
           }
          ],
          "choropleth": [
           {
            "colorbar": {
             "outlinewidth": 0,
             "ticks": ""
            },
            "type": "choropleth"
           }
          ],
          "contour": [
           {
            "colorbar": {
             "outlinewidth": 0,
             "ticks": ""
            },
            "colorscale": [
             [
              0,
              "#0d0887"
             ],
             [
              0.1111111111111111,
              "#46039f"
             ],
             [
              0.2222222222222222,
              "#7201a8"
             ],
             [
              0.3333333333333333,
              "#9c179e"
             ],
             [
              0.4444444444444444,
              "#bd3786"
             ],
             [
              0.5555555555555556,
              "#d8576b"
             ],
             [
              0.6666666666666666,
              "#ed7953"
             ],
             [
              0.7777777777777778,
              "#fb9f3a"
             ],
             [
              0.8888888888888888,
              "#fdca26"
             ],
             [
              1,
              "#f0f921"
             ]
            ],
            "type": "contour"
           }
          ],
          "contourcarpet": [
           {
            "colorbar": {
             "outlinewidth": 0,
             "ticks": ""
            },
            "type": "contourcarpet"
           }
          ],
          "heatmap": [
           {
            "colorbar": {
             "outlinewidth": 0,
             "ticks": ""
            },
            "colorscale": [
             [
              0,
              "#0d0887"
             ],
             [
              0.1111111111111111,
              "#46039f"
             ],
             [
              0.2222222222222222,
              "#7201a8"
             ],
             [
              0.3333333333333333,
              "#9c179e"
             ],
             [
              0.4444444444444444,
              "#bd3786"
             ],
             [
              0.5555555555555556,
              "#d8576b"
             ],
             [
              0.6666666666666666,
              "#ed7953"
             ],
             [
              0.7777777777777778,
              "#fb9f3a"
             ],
             [
              0.8888888888888888,
              "#fdca26"
             ],
             [
              1,
              "#f0f921"
             ]
            ],
            "type": "heatmap"
           }
          ],
          "heatmapgl": [
           {
            "colorbar": {
             "outlinewidth": 0,
             "ticks": ""
            },
            "colorscale": [
             [
              0,
              "#0d0887"
             ],
             [
              0.1111111111111111,
              "#46039f"
             ],
             [
              0.2222222222222222,
              "#7201a8"
             ],
             [
              0.3333333333333333,
              "#9c179e"
             ],
             [
              0.4444444444444444,
              "#bd3786"
             ],
             [
              0.5555555555555556,
              "#d8576b"
             ],
             [
              0.6666666666666666,
              "#ed7953"
             ],
             [
              0.7777777777777778,
              "#fb9f3a"
             ],
             [
              0.8888888888888888,
              "#fdca26"
             ],
             [
              1,
              "#f0f921"
             ]
            ],
            "type": "heatmapgl"
           }
          ],
          "histogram": [
           {
            "marker": {
             "colorbar": {
              "outlinewidth": 0,
              "ticks": ""
             }
            },
            "type": "histogram"
           }
          ],
          "histogram2d": [
           {
            "colorbar": {
             "outlinewidth": 0,
             "ticks": ""
            },
            "colorscale": [
             [
              0,
              "#0d0887"
             ],
             [
              0.1111111111111111,
              "#46039f"
             ],
             [
              0.2222222222222222,
              "#7201a8"
             ],
             [
              0.3333333333333333,
              "#9c179e"
             ],
             [
              0.4444444444444444,
              "#bd3786"
             ],
             [
              0.5555555555555556,
              "#d8576b"
             ],
             [
              0.6666666666666666,
              "#ed7953"
             ],
             [
              0.7777777777777778,
              "#fb9f3a"
             ],
             [
              0.8888888888888888,
              "#fdca26"
             ],
             [
              1,
              "#f0f921"
             ]
            ],
            "type": "histogram2d"
           }
          ],
          "histogram2dcontour": [
           {
            "colorbar": {
             "outlinewidth": 0,
             "ticks": ""
            },
            "colorscale": [
             [
              0,
              "#0d0887"
             ],
             [
              0.1111111111111111,
              "#46039f"
             ],
             [
              0.2222222222222222,
              "#7201a8"
             ],
             [
              0.3333333333333333,
              "#9c179e"
             ],
             [
              0.4444444444444444,
              "#bd3786"
             ],
             [
              0.5555555555555556,
              "#d8576b"
             ],
             [
              0.6666666666666666,
              "#ed7953"
             ],
             [
              0.7777777777777778,
              "#fb9f3a"
             ],
             [
              0.8888888888888888,
              "#fdca26"
             ],
             [
              1,
              "#f0f921"
             ]
            ],
            "type": "histogram2dcontour"
           }
          ],
          "mesh3d": [
           {
            "colorbar": {
             "outlinewidth": 0,
             "ticks": ""
            },
            "type": "mesh3d"
           }
          ],
          "parcoords": [
           {
            "line": {
             "colorbar": {
              "outlinewidth": 0,
              "ticks": ""
             }
            },
            "type": "parcoords"
           }
          ],
          "pie": [
           {
            "automargin": true,
            "type": "pie"
           }
          ],
          "scatter": [
           {
            "marker": {
             "colorbar": {
              "outlinewidth": 0,
              "ticks": ""
             }
            },
            "type": "scatter"
           }
          ],
          "scatter3d": [
           {
            "line": {
             "colorbar": {
              "outlinewidth": 0,
              "ticks": ""
             }
            },
            "marker": {
             "colorbar": {
              "outlinewidth": 0,
              "ticks": ""
             }
            },
            "type": "scatter3d"
           }
          ],
          "scattercarpet": [
           {
            "marker": {
             "colorbar": {
              "outlinewidth": 0,
              "ticks": ""
             }
            },
            "type": "scattercarpet"
           }
          ],
          "scattergeo": [
           {
            "marker": {
             "colorbar": {
              "outlinewidth": 0,
              "ticks": ""
             }
            },
            "type": "scattergeo"
           }
          ],
          "scattergl": [
           {
            "marker": {
             "colorbar": {
              "outlinewidth": 0,
              "ticks": ""
             }
            },
            "type": "scattergl"
           }
          ],
          "scattermapbox": [
           {
            "marker": {
             "colorbar": {
              "outlinewidth": 0,
              "ticks": ""
             }
            },
            "type": "scattermapbox"
           }
          ],
          "scatterpolar": [
           {
            "marker": {
             "colorbar": {
              "outlinewidth": 0,
              "ticks": ""
             }
            },
            "type": "scatterpolar"
           }
          ],
          "scatterpolargl": [
           {
            "marker": {
             "colorbar": {
              "outlinewidth": 0,
              "ticks": ""
             }
            },
            "type": "scatterpolargl"
           }
          ],
          "scatterternary": [
           {
            "marker": {
             "colorbar": {
              "outlinewidth": 0,
              "ticks": ""
             }
            },
            "type": "scatterternary"
           }
          ],
          "surface": [
           {
            "colorbar": {
             "outlinewidth": 0,
             "ticks": ""
            },
            "colorscale": [
             [
              0,
              "#0d0887"
             ],
             [
              0.1111111111111111,
              "#46039f"
             ],
             [
              0.2222222222222222,
              "#7201a8"
             ],
             [
              0.3333333333333333,
              "#9c179e"
             ],
             [
              0.4444444444444444,
              "#bd3786"
             ],
             [
              0.5555555555555556,
              "#d8576b"
             ],
             [
              0.6666666666666666,
              "#ed7953"
             ],
             [
              0.7777777777777778,
              "#fb9f3a"
             ],
             [
              0.8888888888888888,
              "#fdca26"
             ],
             [
              1,
              "#f0f921"
             ]
            ],
            "type": "surface"
           }
          ],
          "table": [
           {
            "cells": {
             "fill": {
              "color": "#EBF0F8"
             },
             "line": {
              "color": "white"
             }
            },
            "header": {
             "fill": {
              "color": "#C8D4E3"
             },
             "line": {
              "color": "white"
             }
            },
            "type": "table"
           }
          ]
         },
         "layout": {
          "annotationdefaults": {
           "arrowcolor": "#2a3f5f",
           "arrowhead": 0,
           "arrowwidth": 1
          },
          "coloraxis": {
           "colorbar": {
            "outlinewidth": 0,
            "ticks": ""
           }
          },
          "colorscale": {
           "diverging": [
            [
             0,
             "#8e0152"
            ],
            [
             0.1,
             "#c51b7d"
            ],
            [
             0.2,
             "#de77ae"
            ],
            [
             0.3,
             "#f1b6da"
            ],
            [
             0.4,
             "#fde0ef"
            ],
            [
             0.5,
             "#f7f7f7"
            ],
            [
             0.6,
             "#e6f5d0"
            ],
            [
             0.7,
             "#b8e186"
            ],
            [
             0.8,
             "#7fbc41"
            ],
            [
             0.9,
             "#4d9221"
            ],
            [
             1,
             "#276419"
            ]
           ],
           "sequential": [
            [
             0,
             "#0d0887"
            ],
            [
             0.1111111111111111,
             "#46039f"
            ],
            [
             0.2222222222222222,
             "#7201a8"
            ],
            [
             0.3333333333333333,
             "#9c179e"
            ],
            [
             0.4444444444444444,
             "#bd3786"
            ],
            [
             0.5555555555555556,
             "#d8576b"
            ],
            [
             0.6666666666666666,
             "#ed7953"
            ],
            [
             0.7777777777777778,
             "#fb9f3a"
            ],
            [
             0.8888888888888888,
             "#fdca26"
            ],
            [
             1,
             "#f0f921"
            ]
           ],
           "sequentialminus": [
            [
             0,
             "#0d0887"
            ],
            [
             0.1111111111111111,
             "#46039f"
            ],
            [
             0.2222222222222222,
             "#7201a8"
            ],
            [
             0.3333333333333333,
             "#9c179e"
            ],
            [
             0.4444444444444444,
             "#bd3786"
            ],
            [
             0.5555555555555556,
             "#d8576b"
            ],
            [
             0.6666666666666666,
             "#ed7953"
            ],
            [
             0.7777777777777778,
             "#fb9f3a"
            ],
            [
             0.8888888888888888,
             "#fdca26"
            ],
            [
             1,
             "#f0f921"
            ]
           ]
          },
          "colorway": [
           "#636efa",
           "#EF553B",
           "#00cc96",
           "#ab63fa",
           "#FFA15A",
           "#19d3f3",
           "#FF6692",
           "#B6E880",
           "#FF97FF",
           "#FECB52"
          ],
          "font": {
           "color": "#2a3f5f"
          },
          "geo": {
           "bgcolor": "white",
           "lakecolor": "white",
           "landcolor": "#E5ECF6",
           "showlakes": true,
           "showland": true,
           "subunitcolor": "white"
          },
          "hoverlabel": {
           "align": "left"
          },
          "hovermode": "closest",
          "mapbox": {
           "style": "light"
          },
          "paper_bgcolor": "white",
          "plot_bgcolor": "#E5ECF6",
          "polar": {
           "angularaxis": {
            "gridcolor": "white",
            "linecolor": "white",
            "ticks": ""
           },
           "bgcolor": "#E5ECF6",
           "radialaxis": {
            "gridcolor": "white",
            "linecolor": "white",
            "ticks": ""
           }
          },
          "scene": {
           "xaxis": {
            "backgroundcolor": "#E5ECF6",
            "gridcolor": "white",
            "gridwidth": 2,
            "linecolor": "white",
            "showbackground": true,
            "ticks": "",
            "zerolinecolor": "white"
           },
           "yaxis": {
            "backgroundcolor": "#E5ECF6",
            "gridcolor": "white",
            "gridwidth": 2,
            "linecolor": "white",
            "showbackground": true,
            "ticks": "",
            "zerolinecolor": "white"
           },
           "zaxis": {
            "backgroundcolor": "#E5ECF6",
            "gridcolor": "white",
            "gridwidth": 2,
            "linecolor": "white",
            "showbackground": true,
            "ticks": "",
            "zerolinecolor": "white"
           }
          },
          "shapedefaults": {
           "line": {
            "color": "#2a3f5f"
           }
          },
          "ternary": {
           "aaxis": {
            "gridcolor": "white",
            "linecolor": "white",
            "ticks": ""
           },
           "baxis": {
            "gridcolor": "white",
            "linecolor": "white",
            "ticks": ""
           },
           "bgcolor": "#E5ECF6",
           "caxis": {
            "gridcolor": "white",
            "linecolor": "white",
            "ticks": ""
           }
          },
          "title": {
           "x": 0.05
          },
          "xaxis": {
           "automargin": true,
           "gridcolor": "white",
           "linecolor": "white",
           "ticks": "",
           "title": {
            "standoff": 15
           },
           "zerolinecolor": "white",
           "zerolinewidth": 2
          },
          "yaxis": {
           "automargin": true,
           "gridcolor": "white",
           "linecolor": "white",
           "ticks": "",
           "title": {
            "standoff": 15
           },
           "zerolinecolor": "white",
           "zerolinewidth": 2
          }
         }
        },
        "width": 800,
        "xaxis": {
         "anchor": "y",
         "domain": [
          0,
          0.45
         ]
        },
        "xaxis2": {
         "anchor": "y2",
         "domain": [
          0.55,
          1
         ]
        },
        "xaxis3": {
         "anchor": "y3",
         "domain": [
          0,
          0.45
         ]
        },
        "xaxis4": {
         "anchor": "y4",
         "domain": [
          0.55,
          1
         ]
        },
        "xaxis5": {
         "anchor": "y5",
         "domain": [
          0,
          0.45
         ]
        },
        "xaxis6": {
         "anchor": "y6",
         "domain": [
          0.55,
          1
         ]
        },
        "yaxis": {
         "anchor": "x",
         "domain": [
          0.7333333333333334,
          1
         ]
        },
        "yaxis2": {
         "anchor": "x2",
         "domain": [
          0.7333333333333334,
          1
         ]
        },
        "yaxis3": {
         "anchor": "x3",
         "domain": [
          0.3666666666666667,
          0.6333333333333333
         ]
        },
        "yaxis4": {
         "anchor": "x4",
         "domain": [
          0.3666666666666667,
          0.6333333333333333
         ]
        },
        "yaxis5": {
         "anchor": "x5",
         "domain": [
          0,
          0.26666666666666666
         ]
        },
        "yaxis6": {
         "anchor": "x6",
         "domain": [
          0,
          0.26666666666666666
         ]
        }
       }
      },
      "text/html": [
       "<div>\n",
       "        \n",
       "        \n",
       "            <div id=\"262f3288-805a-43c1-b5f2-960cd065336f\" class=\"plotly-graph-div\" style=\"height:1200px; width:800px;\"></div>\n",
       "            <script type=\"text/javascript\">\n",
       "                require([\"plotly\"], function(Plotly) {\n",
       "                    window.PLOTLYENV=window.PLOTLYENV || {};\n",
       "                    \n",
       "                if (document.getElementById(\"262f3288-805a-43c1-b5f2-960cd065336f\")) {\n",
       "                    Plotly.newPlot(\n",
       "                        '262f3288-805a-43c1-b5f2-960cd065336f',\n",
       "                        [{\"error_y\": {\"array\": [300.0, 300.0, 488.5, 834.0, 2246.0, 3233.0, 3021.5, 2716.5, 3966.0, 4190.5, 2903.5, 4442.5, 4551.0]}, \"line\": {\"color\": \"#1f77b4\"}, \"mode\": \"markers+lines\", \"name\": \"Data\", \"showlegend\": true, \"type\": \"scatter\", \"x\": [\"2020-03-10T00:00:00\", \"2020-03-12T00:00:00\", \"2020-03-14T00:00:00\", \"2020-03-16T00:00:00\", \"2020-03-18T00:00:00\", \"2020-03-20T00:00:00\", \"2020-03-22T00:00:00\", \"2020-03-24T00:00:00\", \"2020-03-26T00:00:00\", \"2020-03-28T00:00:00\", \"2020-03-30T00:00:00\", \"2020-04-01T00:00:00\"], \"xaxis\": \"x\", \"y\": [73, 229, 977, 1668, 4492, 6466, 6043, 5433, 7932, 8381, 5807, 8885, 9102], \"yaxis\": \"y\"}, {\"line\": {\"color\": \"#bcbd22\", \"shape\": \"spline\"}, \"mode\": \"lines\", \"showlegend\": false, \"type\": \"scatter\", \"x\": [\"2020-03-10T00:00:00\", \"2020-03-12T00:00:00\", \"2020-03-14T00:00:00\", \"2020-03-16T00:00:00\", \"2020-03-18T00:00:00\", \"2020-03-20T00:00:00\", \"2020-03-22T00:00:00\", \"2020-03-24T00:00:00\", \"2020-03-26T00:00:00\", \"2020-03-28T00:00:00\", \"2020-03-30T00:00:00\", \"2020-04-01T00:00:00\"], \"xaxis\": \"x\", \"y\": [233.02454429902815, 325.1003930476036, 453.3340825058439, 631.8180404854197, 880.0856625274815, 1225.1858897545912, 1704.533976713542, 2369.8188507477325, 3292.3407511430028, 4570.269976720667, 6338.457586884303, 8781.581918991169, 12151.551728001607], \"yaxis\": \"y\"}, {\"fill\": \"tonexty\", \"fillcolor\": \"rgba(188,189,34,0.5)\", \"line\": {\"color\": \"#bcbd22\", \"shape\": \"spline\"}, \"mode\": \"lines\", \"name\": \"Fit\", \"showlegend\": true, \"type\": \"scatter\", \"x\": [\"2020-03-10T00:00:00\", \"2020-03-12T00:00:00\", \"2020-03-14T00:00:00\", \"2020-03-16T00:00:00\", \"2020-03-18T00:00:00\", \"2020-03-20T00:00:00\", \"2020-03-22T00:00:00\", \"2020-03-24T00:00:00\", \"2020-03-26T00:00:00\", \"2020-03-28T00:00:00\", \"2020-03-30T00:00:00\", \"2020-04-01T00:00:00\"], \"xaxis\": \"x\", \"y\": [343.66539855485854, 475.87813876376106, 659.1307225587277, 913.1997940231097, 1265.5474044912876, 1754.3068253391884, 2432.418014433446, 3373.341957295609, 4678.929413104338, 6490.201912281553, 9002.0153577013, 12482.793256631356, 17300.668115648656], \"yaxis\": \"y\"}, {\"error_y\": {\"array\": [300.0, 300.0, 488.5, 834.0, 2246.0, 3233.0, 3021.5, 2716.5, 3966.0, 4190.5, 2903.5, 4442.5, 4551.0]}, \"line\": {\"color\": \"#1f77b4\"}, \"mode\": \"markers+lines\", \"name\": \"Data\", \"showlegend\": false, \"type\": \"scatter\", \"x\": [\"2020-03-10T00:00:00\", \"2020-03-12T00:00:00\", \"2020-03-14T00:00:00\", \"2020-03-16T00:00:00\", \"2020-03-18T00:00:00\", \"2020-03-20T00:00:00\", \"2020-03-22T00:00:00\", \"2020-03-24T00:00:00\", \"2020-03-26T00:00:00\", \"2020-03-28T00:00:00\", \"2020-03-30T00:00:00\", \"2020-04-01T00:00:00\"], \"xaxis\": \"x\", \"y\": [73, 229, 977, 1668, 4492, 6466, 6043, 5433, 7932, 8381, 5807, 8885, 9102], \"yaxis\": \"y\"}, {\"error_y\": {\"array\": [294.8553040770762, 290.3730666731824, 477.539721631338, 822.047490838585, 2237.715534059358, 3222.1571592461974, 2999.5013680457187, 2669.757965369917, 3904.9326461067244, 4079.0630775587847, 2580.05373013433, 4038.6959415795213, 3752.765794266415]}, \"line\": {\"color\": \"#2ca02c\"}, \"mode\": \"markers+lines\", \"name\": \"Residual\", \"showlegend\": false, \"type\": \"scatter\", \"x\": [\"2020-03-10T00:00:00\", \"2020-03-12T00:00:00\", \"2020-03-14T00:00:00\", \"2020-03-16T00:00:00\", \"2020-03-18T00:00:00\", \"2020-03-20T00:00:00\", \"2020-03-22T00:00:00\", \"2020-03-24T00:00:00\", \"2020-03-26T00:00:00\", \"2020-03-28T00:00:00\", \"2020-03-30T00:00:00\", \"2020-04-01T00:00:00\"], \"xaxis\": \"x3\", \"y\": [-215, -171, 420, 895, 3419, 4976, 3974, 2561, 3946, 2850, -1863, -1747, -5624], \"yaxis\": \"y3\"}, {\"line\": {\"color\": \"black\"}, \"mode\": \"lines\", \"showlegend\": false, \"type\": \"scatter\", \"x\": [\"2020-03-10T00:00:00\", \"2020-03-12T00:00:00\", \"2020-03-14T00:00:00\", \"2020-03-16T00:00:00\", \"2020-03-18T00:00:00\", \"2020-03-20T00:00:00\", \"2020-03-22T00:00:00\", \"2020-03-24T00:00:00\", \"2020-03-26T00:00:00\", \"2020-03-28T00:00:00\", \"2020-03-30T00:00:00\", \"2020-04-01T00:00:00\"], \"xaxis\": \"x3\", \"y\": [0, 0, 0, 0, 0, 0, 0, 0, 0, 0, 0, 0, 0], \"yaxis\": \"y3\"}, {\"error_y\": {\"array\": [6.45, 16.349999999999998, 29.7, 50.4, 96.89999999999999, 139.2, 179.4, 240.45, 320.4, 367.2, 342.3, 391.5, 355.5]}, \"line\": {\"color\": \"#1f77b4\"}, \"mode\": \"markers+lines\", \"name\": \"Data\", \"showlegend\": false, \"type\": \"scatter\", \"x\": [\"2020-03-10T00:00:00\", \"2020-03-12T00:00:00\", \"2020-03-14T00:00:00\", \"2020-03-16T00:00:00\", \"2020-03-18T00:00:00\", \"2020-03-20T00:00:00\", \"2020-03-22T00:00:00\", \"2020-03-24T00:00:00\", \"2020-03-26T00:00:00\", \"2020-03-28T00:00:00\", \"2020-03-30T00:00:00\", \"2020-04-01T00:00:00\"], \"xaxis\": \"x2\", \"y\": [43, 109, 198, 336, 646, 928, 1196, 1603, 2136, 2448, 2282, 2610, 2370], \"yaxis\": \"y2\"}, {\"line\": {\"color\": \"#bcbd22\", \"shape\": \"spline\"}, \"mode\": \"lines\", \"showlegend\": false, \"type\": \"scatter\", \"x\": [\"2020-03-10T00:00:00\", \"2020-03-12T00:00:00\", \"2020-03-14T00:00:00\", \"2020-03-16T00:00:00\", \"2020-03-18T00:00:00\", \"2020-03-20T00:00:00\", \"2020-03-22T00:00:00\", \"2020-03-24T00:00:00\", \"2020-03-26T00:00:00\", \"2020-03-28T00:00:00\", \"2020-03-30T00:00:00\", \"2020-04-01T00:00:00\"], \"xaxis\": \"x2\", \"y\": [67.51293671318751, 94.42860090671316, 131.97389999368767, 184.26625005115736, 256.95751467066697, 357.7763658770876, 497.2731624430656, 689.8665277799009, 955.3130303540771, 1320.7250234852186, 1823.2873839670408, 2513.8926440112505, 3461.9922776390795], \"yaxis\": \"y2\"}, {\"fill\": \"tonexty\", \"fillcolor\": \"rgba(188,189,34,0.5)\", \"line\": {\"color\": \"#bcbd22\", \"shape\": \"spline\"}, \"mode\": \"lines\", \"name\": \"Fit\", \"showlegend\": false, \"type\": \"scatter\", \"x\": [\"2020-03-10T00:00:00\", \"2020-03-12T00:00:00\", \"2020-03-14T00:00:00\", \"2020-03-16T00:00:00\", \"2020-03-18T00:00:00\", \"2020-03-20T00:00:00\", \"2020-03-22T00:00:00\", \"2020-03-24T00:00:00\", \"2020-03-26T00:00:00\", \"2020-03-28T00:00:00\", \"2020-03-30T00:00:00\", \"2020-04-01T00:00:00\"], \"xaxis\": \"x2\", \"y\": [77.91731323228382, 107.5697437373803, 148.59106611292867, 205.41431783906913, 284.25736068995917, 393.86520525179634, 546.5434623484094, 759.5700942514127, 1057.1176584202221, 1472.903144783129, 2053.8705896768665, 2865.283286813606, 3997.6857229533334], \"yaxis\": \"y2\"}, {\"error_y\": {\"array\": [6.45, 16.349999999999998, 29.7, 50.4, 96.89999999999999, 139.2, 179.4, 240.45, 320.4, 367.2, 342.3, 391.5, 355.5]}, \"line\": {\"color\": \"#1f77b4\"}, \"mode\": \"markers+lines\", \"name\": \"Data\", \"showlegend\": false, \"type\": \"scatter\", \"x\": [\"2020-03-10T00:00:00\", \"2020-03-12T00:00:00\", \"2020-03-14T00:00:00\", \"2020-03-16T00:00:00\", \"2020-03-18T00:00:00\", \"2020-03-20T00:00:00\", \"2020-03-22T00:00:00\", \"2020-03-24T00:00:00\", \"2020-03-26T00:00:00\", \"2020-03-28T00:00:00\", \"2020-03-30T00:00:00\", \"2020-04-01T00:00:00\"], \"xaxis\": \"x2\", \"y\": [43, 109, 198, 336, 646, 928, 1196, 1603, 2136, 2448, 2282, 2610, 2370], \"yaxis\": \"y2\"}, {\"error_y\": {\"array\": [3.8131007477143584, 14.971642905038903, 28.514162227591182, 49.27828941034251, 95.93377716857987, 138.0255009704606, 177.70050474551098, 237.91081460347252, 316.33070421013264, 359.2301419000912, 322.2997615747568, 349.86197855402395, 233.7485468657213]}, \"line\": {\"color\": \"#2ca02c\"}, \"mode\": \"markers+lines\", \"name\": \"Residual\", \"showlegend\": false, \"type\": \"scatter\", \"x\": [\"2020-03-10T00:00:00\", \"2020-03-12T00:00:00\", \"2020-03-14T00:00:00\", \"2020-03-16T00:00:00\", \"2020-03-18T00:00:00\", \"2020-03-20T00:00:00\", \"2020-03-22T00:00:00\", \"2020-03-24T00:00:00\", \"2020-03-26T00:00:00\", \"2020-03-28T00:00:00\", \"2020-03-30T00:00:00\", \"2020-04-01T00:00:00\"], \"xaxis\": \"x4\", \"y\": [-29, 8, 57, 141, 375, 552, 674, 878, 1129, 1051, 343, -79, -1359], \"yaxis\": \"y4\"}, {\"line\": {\"color\": \"black\"}, \"mode\": \"lines\", \"showlegend\": false, \"type\": \"scatter\", \"x\": [\"2020-03-10T00:00:00\", \"2020-03-12T00:00:00\", \"2020-03-14T00:00:00\", \"2020-03-16T00:00:00\", \"2020-03-18T00:00:00\", \"2020-03-20T00:00:00\", \"2020-03-22T00:00:00\", \"2020-03-24T00:00:00\", \"2020-03-26T00:00:00\", \"2020-03-28T00:00:00\", \"2020-03-30T00:00:00\", \"2020-04-01T00:00:00\"], \"xaxis\": \"x4\", \"y\": [0, 0, 0, 0, 0, 0, 0, 0, 0, 0, 0, 0, 0], \"yaxis\": \"y4\"}, {\"line\": {\"color\": \"#bcbd22\", \"shape\": \"spline\"}, \"mode\": \"lines\", \"showlegend\": false, \"type\": \"scatter\", \"x\": [\"2020-03-10T00:00:00\", \"2020-03-12T00:00:00\", \"2020-03-14T00:00:00\", \"2020-03-16T00:00:00\", \"2020-03-18T00:00:00\", \"2020-03-20T00:00:00\", \"2020-03-22T00:00:00\", \"2020-03-24T00:00:00\", \"2020-03-26T00:00:00\", \"2020-03-28T00:00:00\", \"2020-03-30T00:00:00\", \"2020-04-01T00:00:00\"], \"xaxis\": \"x5\", \"y\": [152.7853522718784, 221.5034645955156, 315.4978190613548, 444.9071119904527, 623.726781433794, 871.269387252232, 1214.1695353275936, 1689.1325773405144, 2346.698118836594, 3256.3842710440595, 4513.701570628835, 6249.680642763195, 8643.74565291706], \"yaxis\": \"y5\"}, {\"fill\": \"tonexty\", \"fillcolor\": \"rgba(188,189,34,0.5)\", \"line\": {\"color\": \"#bcbd22\", \"shape\": \"spline\"}, \"mode\": \"lines\", \"showlegend\": false, \"type\": \"scatter\", \"x\": [\"2020-03-10T00:00:00\", \"2020-03-12T00:00:00\", \"2020-03-14T00:00:00\", \"2020-03-16T00:00:00\", \"2020-03-18T00:00:00\", \"2020-03-20T00:00:00\", \"2020-03-22T00:00:00\", \"2020-03-24T00:00:00\", \"2020-03-26T00:00:00\", \"2020-03-28T00:00:00\", \"2020-03-30T00:00:00\", \"2020-04-01T00:00:00\"], \"xaxis\": \"x5\", \"y\": [167.50204053073574, 255.02693102224714, 373.52177186048687, 535.3616766899236, 757.7184842242975, 1064.468125869302, 1488.850672139482, 2077.178508234007, 2893.999214715866, 4029.270183126395, 5608.303078018318, 7805.499272616364, 10863.229418000697], \"yaxis\": \"y5\"}],\n",
       "                        {\"annotations\": [{\"font\": {\"size\": 16}, \"showarrow\": false, \"text\": \"Infected new\", \"x\": 0.225, \"xanchor\": \"center\", \"xref\": \"paper\", \"y\": 1.0, \"yanchor\": \"bottom\", \"yref\": \"paper\"}, {\"font\": {\"size\": 16}, \"showarrow\": false, \"text\": \"Hospitalized new\", \"x\": 0.775, \"xanchor\": \"center\", \"xref\": \"paper\", \"y\": 1.0, \"yanchor\": \"bottom\", \"yref\": \"paper\"}, {\"font\": {\"size\": 16}, \"showarrow\": false, \"text\": \"Infected new residual\", \"x\": 0.225, \"xanchor\": \"center\", \"xref\": \"paper\", \"y\": 0.6333333333333333, \"yanchor\": \"bottom\", \"yref\": \"paper\"}, {\"font\": {\"size\": 16}, \"showarrow\": false, \"text\": \"Hospitalized new residual\", \"x\": 0.775, \"xanchor\": \"center\", \"xref\": \"paper\", \"y\": 0.6333333333333333, \"yanchor\": \"bottom\", \"yref\": \"paper\"}, {\"font\": {\"size\": 16}, \"showarrow\": false, \"text\": \"Total admissions\", \"x\": 0.225, \"xanchor\": \"center\", \"xref\": \"paper\", \"y\": 0.26666666666666666, \"yanchor\": \"bottom\", \"yref\": \"paper\"}], \"height\": 1200, \"template\": {\"data\": {\"bar\": [{\"error_x\": {\"color\": \"#2a3f5f\"}, \"error_y\": {\"color\": \"#2a3f5f\"}, \"marker\": {\"line\": {\"color\": \"#E5ECF6\", \"width\": 0.5}}, \"type\": \"bar\"}], \"barpolar\": [{\"marker\": {\"line\": {\"color\": \"#E5ECF6\", \"width\": 0.5}}, \"type\": \"barpolar\"}], \"carpet\": [{\"aaxis\": {\"endlinecolor\": \"#2a3f5f\", \"gridcolor\": \"white\", \"linecolor\": \"white\", \"minorgridcolor\": \"white\", \"startlinecolor\": \"#2a3f5f\"}, \"baxis\": {\"endlinecolor\": \"#2a3f5f\", \"gridcolor\": \"white\", \"linecolor\": \"white\", \"minorgridcolor\": \"white\", \"startlinecolor\": \"#2a3f5f\"}, \"type\": \"carpet\"}], \"choropleth\": [{\"colorbar\": {\"outlinewidth\": 0, \"ticks\": \"\"}, \"type\": \"choropleth\"}], \"contour\": [{\"colorbar\": {\"outlinewidth\": 0, \"ticks\": \"\"}, \"colorscale\": [[0.0, \"#0d0887\"], [0.1111111111111111, \"#46039f\"], [0.2222222222222222, \"#7201a8\"], [0.3333333333333333, \"#9c179e\"], [0.4444444444444444, \"#bd3786\"], [0.5555555555555556, \"#d8576b\"], [0.6666666666666666, \"#ed7953\"], [0.7777777777777778, \"#fb9f3a\"], [0.8888888888888888, \"#fdca26\"], [1.0, \"#f0f921\"]], \"type\": \"contour\"}], \"contourcarpet\": [{\"colorbar\": {\"outlinewidth\": 0, \"ticks\": \"\"}, \"type\": \"contourcarpet\"}], \"heatmap\": [{\"colorbar\": {\"outlinewidth\": 0, \"ticks\": \"\"}, \"colorscale\": [[0.0, \"#0d0887\"], [0.1111111111111111, \"#46039f\"], [0.2222222222222222, \"#7201a8\"], [0.3333333333333333, \"#9c179e\"], [0.4444444444444444, \"#bd3786\"], [0.5555555555555556, \"#d8576b\"], [0.6666666666666666, \"#ed7953\"], [0.7777777777777778, \"#fb9f3a\"], [0.8888888888888888, \"#fdca26\"], [1.0, \"#f0f921\"]], \"type\": \"heatmap\"}], \"heatmapgl\": [{\"colorbar\": {\"outlinewidth\": 0, \"ticks\": \"\"}, \"colorscale\": [[0.0, \"#0d0887\"], [0.1111111111111111, \"#46039f\"], [0.2222222222222222, \"#7201a8\"], [0.3333333333333333, \"#9c179e\"], [0.4444444444444444, \"#bd3786\"], [0.5555555555555556, \"#d8576b\"], [0.6666666666666666, \"#ed7953\"], [0.7777777777777778, \"#fb9f3a\"], [0.8888888888888888, \"#fdca26\"], [1.0, \"#f0f921\"]], \"type\": \"heatmapgl\"}], \"histogram\": [{\"marker\": {\"colorbar\": {\"outlinewidth\": 0, \"ticks\": \"\"}}, \"type\": \"histogram\"}], \"histogram2d\": [{\"colorbar\": {\"outlinewidth\": 0, \"ticks\": \"\"}, \"colorscale\": [[0.0, \"#0d0887\"], [0.1111111111111111, \"#46039f\"], [0.2222222222222222, \"#7201a8\"], [0.3333333333333333, \"#9c179e\"], [0.4444444444444444, \"#bd3786\"], [0.5555555555555556, \"#d8576b\"], [0.6666666666666666, \"#ed7953\"], [0.7777777777777778, \"#fb9f3a\"], [0.8888888888888888, \"#fdca26\"], [1.0, \"#f0f921\"]], \"type\": \"histogram2d\"}], \"histogram2dcontour\": [{\"colorbar\": {\"outlinewidth\": 0, \"ticks\": \"\"}, \"colorscale\": [[0.0, \"#0d0887\"], [0.1111111111111111, \"#46039f\"], [0.2222222222222222, \"#7201a8\"], [0.3333333333333333, \"#9c179e\"], [0.4444444444444444, \"#bd3786\"], [0.5555555555555556, \"#d8576b\"], [0.6666666666666666, \"#ed7953\"], [0.7777777777777778, \"#fb9f3a\"], [0.8888888888888888, \"#fdca26\"], [1.0, \"#f0f921\"]], \"type\": \"histogram2dcontour\"}], \"mesh3d\": [{\"colorbar\": {\"outlinewidth\": 0, \"ticks\": \"\"}, \"type\": \"mesh3d\"}], \"parcoords\": [{\"line\": {\"colorbar\": {\"outlinewidth\": 0, \"ticks\": \"\"}}, \"type\": \"parcoords\"}], \"pie\": [{\"automargin\": true, \"type\": \"pie\"}], \"scatter\": [{\"marker\": {\"colorbar\": {\"outlinewidth\": 0, \"ticks\": \"\"}}, \"type\": \"scatter\"}], \"scatter3d\": [{\"line\": {\"colorbar\": {\"outlinewidth\": 0, \"ticks\": \"\"}}, \"marker\": {\"colorbar\": {\"outlinewidth\": 0, \"ticks\": \"\"}}, \"type\": \"scatter3d\"}], \"scattercarpet\": [{\"marker\": {\"colorbar\": {\"outlinewidth\": 0, \"ticks\": \"\"}}, \"type\": \"scattercarpet\"}], \"scattergeo\": [{\"marker\": {\"colorbar\": {\"outlinewidth\": 0, \"ticks\": \"\"}}, \"type\": \"scattergeo\"}], \"scattergl\": [{\"marker\": {\"colorbar\": {\"outlinewidth\": 0, \"ticks\": \"\"}}, \"type\": \"scattergl\"}], \"scattermapbox\": [{\"marker\": {\"colorbar\": {\"outlinewidth\": 0, \"ticks\": \"\"}}, \"type\": \"scattermapbox\"}], \"scatterpolar\": [{\"marker\": {\"colorbar\": {\"outlinewidth\": 0, \"ticks\": \"\"}}, \"type\": \"scatterpolar\"}], \"scatterpolargl\": [{\"marker\": {\"colorbar\": {\"outlinewidth\": 0, \"ticks\": \"\"}}, \"type\": \"scatterpolargl\"}], \"scatterternary\": [{\"marker\": {\"colorbar\": {\"outlinewidth\": 0, \"ticks\": \"\"}}, \"type\": \"scatterternary\"}], \"surface\": [{\"colorbar\": {\"outlinewidth\": 0, \"ticks\": \"\"}, \"colorscale\": [[0.0, \"#0d0887\"], [0.1111111111111111, \"#46039f\"], [0.2222222222222222, \"#7201a8\"], [0.3333333333333333, \"#9c179e\"], [0.4444444444444444, \"#bd3786\"], [0.5555555555555556, \"#d8576b\"], [0.6666666666666666, \"#ed7953\"], [0.7777777777777778, \"#fb9f3a\"], [0.8888888888888888, \"#fdca26\"], [1.0, \"#f0f921\"]], \"type\": \"surface\"}], \"table\": [{\"cells\": {\"fill\": {\"color\": \"#EBF0F8\"}, \"line\": {\"color\": \"white\"}}, \"header\": {\"fill\": {\"color\": \"#C8D4E3\"}, \"line\": {\"color\": \"white\"}}, \"type\": \"table\"}]}, \"layout\": {\"annotationdefaults\": {\"arrowcolor\": \"#2a3f5f\", \"arrowhead\": 0, \"arrowwidth\": 1}, \"coloraxis\": {\"colorbar\": {\"outlinewidth\": 0, \"ticks\": \"\"}}, \"colorscale\": {\"diverging\": [[0, \"#8e0152\"], [0.1, \"#c51b7d\"], [0.2, \"#de77ae\"], [0.3, \"#f1b6da\"], [0.4, \"#fde0ef\"], [0.5, \"#f7f7f7\"], [0.6, \"#e6f5d0\"], [0.7, \"#b8e186\"], [0.8, \"#7fbc41\"], [0.9, \"#4d9221\"], [1, \"#276419\"]], \"sequential\": [[0.0, \"#0d0887\"], [0.1111111111111111, \"#46039f\"], [0.2222222222222222, \"#7201a8\"], [0.3333333333333333, \"#9c179e\"], [0.4444444444444444, \"#bd3786\"], [0.5555555555555556, \"#d8576b\"], [0.6666666666666666, \"#ed7953\"], [0.7777777777777778, \"#fb9f3a\"], [0.8888888888888888, \"#fdca26\"], [1.0, \"#f0f921\"]], \"sequentialminus\": [[0.0, \"#0d0887\"], [0.1111111111111111, \"#46039f\"], [0.2222222222222222, \"#7201a8\"], [0.3333333333333333, \"#9c179e\"], [0.4444444444444444, \"#bd3786\"], [0.5555555555555556, \"#d8576b\"], [0.6666666666666666, \"#ed7953\"], [0.7777777777777778, \"#fb9f3a\"], [0.8888888888888888, \"#fdca26\"], [1.0, \"#f0f921\"]]}, \"colorway\": [\"#636efa\", \"#EF553B\", \"#00cc96\", \"#ab63fa\", \"#FFA15A\", \"#19d3f3\", \"#FF6692\", \"#B6E880\", \"#FF97FF\", \"#FECB52\"], \"font\": {\"color\": \"#2a3f5f\"}, \"geo\": {\"bgcolor\": \"white\", \"lakecolor\": \"white\", \"landcolor\": \"#E5ECF6\", \"showlakes\": true, \"showland\": true, \"subunitcolor\": \"white\"}, \"hoverlabel\": {\"align\": \"left\"}, \"hovermode\": \"closest\", \"mapbox\": {\"style\": \"light\"}, \"paper_bgcolor\": \"white\", \"plot_bgcolor\": \"#E5ECF6\", \"polar\": {\"angularaxis\": {\"gridcolor\": \"white\", \"linecolor\": \"white\", \"ticks\": \"\"}, \"bgcolor\": \"#E5ECF6\", \"radialaxis\": {\"gridcolor\": \"white\", \"linecolor\": \"white\", \"ticks\": \"\"}}, \"scene\": {\"xaxis\": {\"backgroundcolor\": \"#E5ECF6\", \"gridcolor\": \"white\", \"gridwidth\": 2, \"linecolor\": \"white\", \"showbackground\": true, \"ticks\": \"\", \"zerolinecolor\": \"white\"}, \"yaxis\": {\"backgroundcolor\": \"#E5ECF6\", \"gridcolor\": \"white\", \"gridwidth\": 2, \"linecolor\": \"white\", \"showbackground\": true, \"ticks\": \"\", \"zerolinecolor\": \"white\"}, \"zaxis\": {\"backgroundcolor\": \"#E5ECF6\", \"gridcolor\": \"white\", \"gridwidth\": 2, \"linecolor\": \"white\", \"showbackground\": true, \"ticks\": \"\", \"zerolinecolor\": \"white\"}}, \"shapedefaults\": {\"line\": {\"color\": \"#2a3f5f\"}}, \"ternary\": {\"aaxis\": {\"gridcolor\": \"white\", \"linecolor\": \"white\", \"ticks\": \"\"}, \"baxis\": {\"gridcolor\": \"white\", \"linecolor\": \"white\", \"ticks\": \"\"}, \"bgcolor\": \"#E5ECF6\", \"caxis\": {\"gridcolor\": \"white\", \"linecolor\": \"white\", \"ticks\": \"\"}}, \"title\": {\"x\": 0.05}, \"xaxis\": {\"automargin\": true, \"gridcolor\": \"white\", \"linecolor\": \"white\", \"ticks\": \"\", \"title\": {\"standoff\": 15}, \"zerolinecolor\": \"white\", \"zerolinewidth\": 2}, \"yaxis\": {\"automargin\": true, \"gridcolor\": \"white\", \"linecolor\": \"white\", \"ticks\": \"\", \"title\": {\"standoff\": 15}, \"zerolinecolor\": \"white\", \"zerolinewidth\": 2}}}, \"width\": 800, \"xaxis\": {\"anchor\": \"y\", \"domain\": [0.0, 0.45]}, \"xaxis2\": {\"anchor\": \"y2\", \"domain\": [0.55, 1.0]}, \"xaxis3\": {\"anchor\": \"y3\", \"domain\": [0.0, 0.45]}, \"xaxis4\": {\"anchor\": \"y4\", \"domain\": [0.55, 1.0]}, \"xaxis5\": {\"anchor\": \"y5\", \"domain\": [0.0, 0.45]}, \"xaxis6\": {\"anchor\": \"y6\", \"domain\": [0.55, 1.0]}, \"yaxis\": {\"anchor\": \"x\", \"domain\": [0.7333333333333334, 1.0]}, \"yaxis2\": {\"anchor\": \"x2\", \"domain\": [0.7333333333333334, 1.0]}, \"yaxis3\": {\"anchor\": \"x3\", \"domain\": [0.3666666666666667, 0.6333333333333333]}, \"yaxis4\": {\"anchor\": \"x4\", \"domain\": [0.3666666666666667, 0.6333333333333333]}, \"yaxis5\": {\"anchor\": \"x5\", \"domain\": [0.0, 0.26666666666666666]}, \"yaxis6\": {\"anchor\": \"x6\", \"domain\": [0.0, 0.26666666666666666]}},\n",
       "                        {\"responsive\": true}\n",
       "                    ).then(function(){\n",
       "                            \n",
       "var gd = document.getElementById('262f3288-805a-43c1-b5f2-960cd065336f');\n",
       "var x = new MutationObserver(function (mutations, observer) {{\n",
       "        var display = window.getComputedStyle(gd).display;\n",
       "        if (!display || display === 'none') {{\n",
       "            console.log([gd, 'removed!']);\n",
       "            Plotly.purge(gd);\n",
       "            observer.disconnect();\n",
       "        }}\n",
       "}});\n",
       "\n",
       "// Listen for the removal of the full notebook cells\n",
       "var notebookContainer = gd.closest('#notebook-container');\n",
       "if (notebookContainer) {{\n",
       "    x.observe(notebookContainer, {childList: true});\n",
       "}}\n",
       "\n",
       "// Listen for the clearing of the current output cell\n",
       "var outputEl = gd.closest('.output');\n",
       "if (outputEl) {{\n",
       "    x.observe(outputEl, {childList: true});\n",
       "}}\n",
       "\n",
       "                        })\n",
       "                };\n",
       "                });\n",
       "            </script>\n",
       "        </div>"
      ]
     },
     "metadata": {},
     "output_type": "display_data"
    }
   ],
   "source": [
    "# Describe the fit function\n",
    "fcn = FitFcn(\n",
    "    sihr_step,  # run regular SIR model\n",
    "    columns=[\n",
    "        \"infected_new\",\n",
    "        \"hospitalized_new\",\n",
    "    ],  # return only data for these two columns\n",
    "    as_array=True,  # return array not df\n",
    "    drop_rows=[0],  # drop first row (since new values are NaN in this row)\n",
    ")\n",
    "\n",
    "# And the prior estimates of fit parameters\n",
    "## gvars are gaussian random numbers described by their mean and standard deviation\n",
    "prior = {\n",
    "    # 5(2) days is the estimated initial doubling time\n",
    "    \"inital_doubling_time\": gvar(5, 2),\n",
    "    # Days until one is recovered\n",
    "    ## Assumption: same for infected only or in hospital\n",
    "    \"recovery_days_i\": gvar(14, 5),\n",
    "    \"recovery_days_h\": gvar(14, 5),\n",
    "    # Wild guess of how many where initially infected\n",
    "    \"initial_infected\": gvar(1.0e4, 2.0e4),\n",
    "    # Rate of infected people becoming hospitalized\n",
    "    \"beta_h\": gvar(0.1, 0.5),\n",
    "}\n",
    "\n",
    "# Run the fit\n",
    "fit = nonlinear_fit(data=(XX, YY), fcn=fcn, prior=prior)\n",
    "\n",
    "# And present it\n",
    "summarize_fit(fit)\n",
    "fig = plot_fits(fit, x=chd_df.index[1:])\n",
    "fig.show()"
   ]
  },
  {
   "cell_type": "markdown",
   "metadata": {},
   "source": [
    "## SIHR with social distancing policies"
   ]
  },
  {
   "cell_type": "code",
   "execution_count": 6,
   "metadata": {
    "scrolled": false
   },
   "outputs": [
    {
     "name": "stdout",
     "output_type": "stream",
     "text": [
      "Legend:\n",
      "- I(0): initial_infected\n",
      "- t2(0): inital_doubling_time\n",
      "- Recovery I: recovery_days_i\n",
      "- Recovery H: recovery_days_h\n",
      "- R: ratio\n",
      "- w sd: social_distance_halfing_days\n",
      "- dt sd: social_distance_delay \n",
      "\n",
      "Least Square Fit:\n",
      "  chi2/dof [dof] = 0.67 [26]    Q = 0.89    logGBF = -210.61\n",
      "\n",
      "Parameters:\n",
      "        inital_doubling_time    1.02 (34)     [     5.0 (2.0) ]  *\n",
      "             recovery_days_i    9.2 (4.4)     [    14.0 (5.0) ]  \n",
      "             recovery_days_h   14.0 (5.0)     [    14.0 (5.0) ]  \n",
      "            initial_infected     235 (74)     [ 10000 (20000) ]  \n",
      "                      beta_h   0.202 (58)     [     0.10 (50) ]  \n",
      "                       ratio    0.76 (15)     [     0.70 (30) ]  \n",
      "social_distance_halfing_days    4.2 (2.7)     [    14.0 (7.0) ]  *\n",
      "       social_distance_delay    8.3 (3.3)     [    14.0 (7.0) ]  \n",
      "\n",
      "Settings:\n",
      "  svdcut/n = 1e-12/0    tol = (1e-08,1e-10,1e-10*)    (itns/time = 46/1.6)\n",
      "  fitter = scipy_least_squares    method = trf\n",
      " \n",
      "------- \n",
      "Result: \n",
      "------- \n",
      "\n",
      " Values:\n",
      "             beta_h: 0.202(58)           \n",
      "               I(0): 235(74)             \n",
      "              t2(0): 1.02(34)            \n",
      "         Recovery I: 9.2(4.4)            \n",
      "         Recovery H: 14.0(5.0)           \n",
      "                  R: 0.76(15)            \n",
      "               w sd: 4.2(2.7)            \n",
      "              dt sd: 8.3(3.3)            \n",
      " \n",
      " \n",
      "------------- \n",
      "Error budget: \n",
      "------------- \n",
      "\n",
      " Partial Errors:\n",
      "                beta_h       I(0)      t2(0) Recovery I Recovery H          R       w sd      dt sd\n",
      "---------------------------------------------------------------------------------------------------\n",
      "      Data:       0.05      63.13       0.24       2.00       0.00       0.11       1.91       2.52\n",
      "    beta_h:       0.01       7.89       0.01       0.29       0.00       0.00       0.04       0.06\n",
      "      I(0):       0.00       0.27       0.00       0.01       0.00       0.00       0.00       0.00\n",
      "     t2(0):       0.00       5.62       0.06       0.15       0.00       0.02       0.39       0.52\n",
      "Recovery I:       0.03      34.37       0.06       3.80       0.00       0.04       0.35       0.28\n",
      "Recovery H:       0.00       0.00       0.00       0.00       5.00       0.00       0.00       0.00\n",
      "         R:       0.01       4.96       0.12       0.59       0.00       0.08       1.17       0.94\n",
      "      w sd:       0.00       4.92       0.11       0.25       0.00       0.05       1.01       0.88\n",
      "     dt sd:       0.00      11.21       0.15       0.20       0.00       0.04       0.88       1.52\n",
      "---------------------------------------------------------------------------------------------------\n",
      "     total:       0.06      73.72       0.34       4.36       5.00       0.15       2.66       3.26\n",
      "\n"
     ]
    },
    {
     "data": {
      "application/vnd.plotly.v1+json": {
       "config": {
        "plotlyServerURL": "https://plot.ly"
       },
       "data": [
        {
         "error_y": {
          "array": [
           300,
           300,
           488.5,
           834,
           2246,
           3233,
           3021.5,
           2716.5,
           3966,
           4190.5,
           2903.5,
           4442.5,
           4551
          ]
         },
         "line": {
          "color": "#1f77b4"
         },
         "mode": "markers+lines",
         "name": "Data",
         "showlegend": true,
         "type": "scatter",
         "x": [
          "2020-03-10T00:00:00",
          "2020-03-12T00:00:00",
          "2020-03-14T00:00:00",
          "2020-03-16T00:00:00",
          "2020-03-18T00:00:00",
          "2020-03-20T00:00:00",
          "2020-03-22T00:00:00",
          "2020-03-24T00:00:00",
          "2020-03-26T00:00:00",
          "2020-03-28T00:00:00",
          "2020-03-30T00:00:00",
          "2020-04-01T00:00:00"
         ],
         "xaxis": "x",
         "y": [
          73,
          229,
          977,
          1668,
          4492,
          6466,
          6043,
          5433,
          7932,
          8381,
          5807,
          8885,
          9102
         ],
         "yaxis": "y"
        },
        {
         "line": {
          "color": "#bcbd22",
          "shape": "spline"
         },
         "mode": "lines",
         "showlegend": false,
         "type": "scatter",
         "x": [
          "2020-03-10T00:00:00",
          "2020-03-12T00:00:00",
          "2020-03-14T00:00:00",
          "2020-03-16T00:00:00",
          "2020-03-18T00:00:00",
          "2020-03-20T00:00:00",
          "2020-03-22T00:00:00",
          "2020-03-24T00:00:00",
          "2020-03-26T00:00:00",
          "2020-03-28T00:00:00",
          "2020-03-30T00:00:00",
          "2020-04-01T00:00:00"
         ],
         "xaxis": "x",
         "y": [
          262.0617884047537,
          503.1310761557288,
          908.9353892565942,
          1513.1103247770548,
          2283.843094794629,
          3115.2949129180142,
          3835.247229547997,
          4288.117507629339,
          4484.8891730496125,
          4523.19551431063,
          4393.300299386916,
          4015.0691856240837,
          3423.723413014336
         ],
         "yaxis": "y"
        },
        {
         "fill": "tonexty",
         "fillcolor": "rgba(188,189,34,0.5)",
         "line": {
          "color": "#bcbd22",
          "shape": "spline"
         },
         "mode": "lines",
         "name": "Fit",
         "showlegend": true,
         "type": "scatter",
         "x": [
          "2020-03-10T00:00:00",
          "2020-03-12T00:00:00",
          "2020-03-14T00:00:00",
          "2020-03-16T00:00:00",
          "2020-03-18T00:00:00",
          "2020-03-20T00:00:00",
          "2020-03-22T00:00:00",
          "2020-03-24T00:00:00",
          "2020-03-26T00:00:00",
          "2020-03-28T00:00:00",
          "2020-03-30T00:00:00",
          "2020-04-01T00:00:00"
         ],
         "xaxis": "x",
         "y": [
          405.7882491876681,
          767.0314115363665,
          1367.065489848062,
          2256.6721170008245,
          3390.119517025494,
          4572.623882372658,
          5568.480041185901,
          6253.995309358595,
          6592.274671749359,
          6635.448004332848,
          6575.491291625556,
          6627.688970120888,
          6835.31411219488
         ],
         "yaxis": "y"
        },
        {
         "error_y": {
          "array": [
           300,
           300,
           488.5,
           834,
           2246,
           3233,
           3021.5,
           2716.5,
           3966,
           4190.5,
           2903.5,
           4442.5,
           4551
          ]
         },
         "line": {
          "color": "#1f77b4"
         },
         "mode": "markers+lines",
         "name": "Data",
         "showlegend": false,
         "type": "scatter",
         "x": [
          "2020-03-10T00:00:00",
          "2020-03-12T00:00:00",
          "2020-03-14T00:00:00",
          "2020-03-16T00:00:00",
          "2020-03-18T00:00:00",
          "2020-03-20T00:00:00",
          "2020-03-22T00:00:00",
          "2020-03-24T00:00:00",
          "2020-03-26T00:00:00",
          "2020-03-28T00:00:00",
          "2020-03-30T00:00:00",
          "2020-04-01T00:00:00"
         ],
         "xaxis": "x",
         "y": [
          73,
          229,
          977,
          1668,
          4492,
          6466,
          6043,
          5433,
          7932,
          8381,
          5807,
          8885,
          9102
         ],
         "yaxis": "y"
        },
        {
         "error_y": {
          "array": [
           291.2656452754159,
           269.423742915314,
           431.46431223568715,
           746.5487025547961,
           2176.8220229049575,
           3149.81540232076,
           2894.5532047563875,
           2532.4303281960442,
           3823.465390188282,
           4055.2296611411402,
           2690.6918939834645,
           4246.099470739482,
           4219.225429544663
          ]
         },
         "line": {
          "color": "#2ca02c"
         },
         "mode": "markers+lines",
         "name": "Residual",
         "showlegend": false,
         "type": "scatter",
         "x": [
          "2020-03-10T00:00:00",
          "2020-03-12T00:00:00",
          "2020-03-14T00:00:00",
          "2020-03-16T00:00:00",
          "2020-03-18T00:00:00",
          "2020-03-20T00:00:00",
          "2020-03-22T00:00:00",
          "2020-03-24T00:00:00",
          "2020-03-26T00:00:00",
          "2020-03-28T00:00:00",
          "2020-03-30T00:00:00",
          "2020-04-01T00:00:00"
         ],
         "xaxis": "x3",
         "y": [
          -260,
          -406,
          -161,
          -216,
          1655,
          2622,
          1341,
          161,
          2393,
          2801,
          322,
          3563,
          3972
         ],
         "yaxis": "y3"
        },
        {
         "line": {
          "color": "black"
         },
         "mode": "lines",
         "showlegend": false,
         "type": "scatter",
         "x": [
          "2020-03-10T00:00:00",
          "2020-03-12T00:00:00",
          "2020-03-14T00:00:00",
          "2020-03-16T00:00:00",
          "2020-03-18T00:00:00",
          "2020-03-20T00:00:00",
          "2020-03-22T00:00:00",
          "2020-03-24T00:00:00",
          "2020-03-26T00:00:00",
          "2020-03-28T00:00:00",
          "2020-03-30T00:00:00",
          "2020-04-01T00:00:00"
         ],
         "xaxis": "x3",
         "y": [
          0,
          0,
          0,
          0,
          0,
          0,
          0,
          0,
          0,
          0,
          0,
          0,
          0
         ],
         "yaxis": "y3"
        },
        {
         "error_y": {
          "array": [
           6.45,
           16.349999999999998,
           29.7,
           50.4,
           96.89999999999999,
           139.2,
           179.4,
           240.45,
           320.4,
           367.2,
           342.3,
           391.5,
           355.5
          ]
         },
         "line": {
          "color": "#1f77b4"
         },
         "mode": "markers+lines",
         "name": "Data",
         "showlegend": false,
         "type": "scatter",
         "x": [
          "2020-03-10T00:00:00",
          "2020-03-12T00:00:00",
          "2020-03-14T00:00:00",
          "2020-03-16T00:00:00",
          "2020-03-18T00:00:00",
          "2020-03-20T00:00:00",
          "2020-03-22T00:00:00",
          "2020-03-24T00:00:00",
          "2020-03-26T00:00:00",
          "2020-03-28T00:00:00",
          "2020-03-30T00:00:00",
          "2020-04-01T00:00:00"
         ],
         "xaxis": "x2",
         "y": [
          43,
          109,
          198,
          336,
          646,
          928,
          1196,
          1603,
          2136,
          2448,
          2282,
          2610,
          2370
         ],
         "yaxis": "y2"
        },
        {
         "line": {
          "color": "#bcbd22",
          "shape": "spline"
         },
         "mode": "lines",
         "showlegend": false,
         "type": "scatter",
         "x": [
          "2020-03-10T00:00:00",
          "2020-03-12T00:00:00",
          "2020-03-14T00:00:00",
          "2020-03-16T00:00:00",
          "2020-03-18T00:00:00",
          "2020-03-20T00:00:00",
          "2020-03-22T00:00:00",
          "2020-03-24T00:00:00",
          "2020-03-26T00:00:00",
          "2020-03-28T00:00:00",
          "2020-03-30T00:00:00",
          "2020-04-01T00:00:00"
         ],
         "xaxis": "x2",
         "y": [
          41.702874122726385,
          87.02848508361663,
          168.4515082435487,
          309.16253502711555,
          531.6004620496452,
          838.5541820571999,
          1206.8021850979062,
          1586.2691653091267,
          1908.036660819682,
          2137.0687617672643,
          2286.499339543521,
          2349.6098640198843,
          2270.2951183099935
         ],
         "yaxis": "y2"
        },
        {
         "fill": "tonexty",
         "fillcolor": "rgba(188,189,34,0.5)",
         "line": {
          "color": "#bcbd22",
          "shape": "spline"
         },
         "mode": "lines",
         "name": "Fit",
         "showlegend": false,
         "type": "scatter",
         "x": [
          "2020-03-10T00:00:00",
          "2020-03-12T00:00:00",
          "2020-03-14T00:00:00",
          "2020-03-16T00:00:00",
          "2020-03-18T00:00:00",
          "2020-03-20T00:00:00",
          "2020-03-22T00:00:00",
          "2020-03-24T00:00:00",
          "2020-03-26T00:00:00",
          "2020-03-28T00:00:00",
          "2020-03-30T00:00:00",
          "2020-04-01T00:00:00"
         ],
         "xaxis": "x2",
         "y": [
          52.93835762162453,
          102.66987501663363,
          197.97476337749322,
          362.85633032040863,
          619.3502642751208,
          974.908674305428,
          1398.1053460002722,
          1824.9855373487915,
          2201.8263474436485,
          2487.0907255534908,
          2653.2891984997436,
          2735.5282358609566,
          2833.674646571872
         ],
         "yaxis": "y2"
        },
        {
         "error_y": {
          "array": [
           6.45,
           16.349999999999998,
           29.7,
           50.4,
           96.89999999999999,
           139.2,
           179.4,
           240.45,
           320.4,
           367.2,
           342.3,
           391.5,
           355.5
          ]
         },
         "line": {
          "color": "#1f77b4"
         },
         "mode": "markers+lines",
         "name": "Data",
         "showlegend": false,
         "type": "scatter",
         "x": [
          "2020-03-10T00:00:00",
          "2020-03-12T00:00:00",
          "2020-03-14T00:00:00",
          "2020-03-16T00:00:00",
          "2020-03-18T00:00:00",
          "2020-03-20T00:00:00",
          "2020-03-22T00:00:00",
          "2020-03-24T00:00:00",
          "2020-03-26T00:00:00",
          "2020-03-28T00:00:00",
          "2020-03-30T00:00:00",
          "2020-04-01T00:00:00"
         ],
         "xaxis": "x2",
         "y": [
          43,
          109,
          198,
          336,
          646,
          928,
          1196,
          1603,
          2136,
          2448,
          2282,
          2610,
          2370
         ],
         "yaxis": "y2"
        },
        {
         "error_y": {
          "array": [
           3.1691446222120336,
           14.358246071189448,
           25.7717743194761,
           42.65447323259909,
           86.39793430602181,
           121.36104445386147,
           151.77330185902753,
           208.73386387948074,
           284.7421026268359,
           322.8110844082294,
           289.025240838461,
           340.64498024906106,
           216.8666105786351
          ]
         },
         "line": {
          "color": "#2ca02c"
         },
         "mode": "markers+lines",
         "name": "Residual",
         "showlegend": false,
         "type": "scatter",
         "x": [
          "2020-03-10T00:00:00",
          "2020-03-12T00:00:00",
          "2020-03-14T00:00:00",
          "2020-03-16T00:00:00",
          "2020-03-18T00:00:00",
          "2020-03-20T00:00:00",
          "2020-03-22T00:00:00",
          "2020-03-24T00:00:00",
          "2020-03-26T00:00:00",
          "2020-03-28T00:00:00",
          "2020-03-30T00:00:00",
          "2020-04-01T00:00:00"
         ],
         "xaxis": "x4",
         "y": [
          -4,
          14,
          14,
          0,
          70,
          21,
          -106,
          -102,
          81,
          135,
          -187,
          67,
          -181
         ],
         "yaxis": "y4"
        },
        {
         "line": {
          "color": "black"
         },
         "mode": "lines",
         "showlegend": false,
         "type": "scatter",
         "x": [
          "2020-03-10T00:00:00",
          "2020-03-12T00:00:00",
          "2020-03-14T00:00:00",
          "2020-03-16T00:00:00",
          "2020-03-18T00:00:00",
          "2020-03-20T00:00:00",
          "2020-03-22T00:00:00",
          "2020-03-24T00:00:00",
          "2020-03-26T00:00:00",
          "2020-03-28T00:00:00",
          "2020-03-30T00:00:00",
          "2020-04-01T00:00:00"
         ],
         "xaxis": "x4",
         "y": [
          0,
          0,
          0,
          0,
          0,
          0,
          0,
          0,
          0,
          0,
          0,
          0,
          0
         ],
         "yaxis": "y4"
        },
        {
         "line": {
          "color": "#bcbd22",
          "shape": "spline"
         },
         "mode": "lines",
         "showlegend": false,
         "type": "scatter",
         "x": [
          "2020-03-10T00:00:00",
          "2020-03-12T00:00:00",
          "2020-03-14T00:00:00",
          "2020-03-16T00:00:00",
          "2020-03-18T00:00:00",
          "2020-03-20T00:00:00",
          "2020-03-22T00:00:00",
          "2020-03-24T00:00:00",
          "2020-03-26T00:00:00",
          "2020-03-28T00:00:00",
          "2020-03-30T00:00:00",
          "2020-04-01T00:00:00"
         ],
         "xaxis": "x5",
         "y": [
          73.72577387485288,
          65.65308705066553,
          57.22415069201239,
          49.42877232095461,
          42.952858626033745,
          37.74511921094021,
          33.25939334386723,
          29.096645923699406,
          25.204704459727537,
          21.651164813377683,
          18.541086756632204,
          15.978256656618194,
          13.985707149600882,
          12.504944163099236
         ],
         "yaxis": "y5"
        },
        {
         "fill": "tonexty",
         "fillcolor": "rgba(188,189,34,0.5)",
         "line": {
          "color": "#bcbd22",
          "shape": "spline"
         },
         "mode": "lines",
         "showlegend": false,
         "type": "scatter",
         "x": [
          "2020-03-10T00:00:00",
          "2020-03-12T00:00:00",
          "2020-03-14T00:00:00",
          "2020-03-16T00:00:00",
          "2020-03-18T00:00:00",
          "2020-03-20T00:00:00",
          "2020-03-22T00:00:00",
          "2020-03-24T00:00:00",
          "2020-03-26T00:00:00",
          "2020-03-28T00:00:00",
          "2020-03-30T00:00:00",
          "2020-04-01T00:00:00"
         ],
         "xaxis": "x5",
         "y": [
          100,
          100,
          100,
          94.6163193590564,
          83.66314447323751,
          71.17355345543336,
          59.531262965046025,
          50.38152174434918,
          44.15421378040884,
          40.48724500382145,
          38.67454101805094,
          37.984453926504884,
          37.871702486705125,
          38.00816781066375
         ],
         "yaxis": "y5"
        },
        {
         "line": {
          "color": "#bcbd22",
          "shape": "spline"
         },
         "mode": "lines",
         "showlegend": false,
         "type": "scatter",
         "x": [
          "2020-03-10T00:00:00",
          "2020-03-12T00:00:00",
          "2020-03-14T00:00:00",
          "2020-03-16T00:00:00",
          "2020-03-18T00:00:00",
          "2020-03-20T00:00:00",
          "2020-03-22T00:00:00",
          "2020-03-24T00:00:00",
          "2020-03-26T00:00:00",
          "2020-03-28T00:00:00",
          "2020-03-30T00:00:00",
          "2020-04-01T00:00:00"
         ],
         "xaxis": "x6",
         "y": [
          127.09141425613257,
          193.90806858601755,
          332.922506272862,
          591.1955012596654,
          1031.135653722279,
          1708.3491735545258,
          2641.60158801603,
          3793.710690830963,
          5068.098495337132,
          6342.517185596331,
          7519.58814421402,
          8537.01942723672,
          9344.215847424395
         ],
         "yaxis": "y6"
        },
        {
         "fill": "tonexty",
         "fillcolor": "rgba(188,189,34,0.5)",
         "line": {
          "color": "#bcbd22",
          "shape": "spline"
         },
         "mode": "lines",
         "showlegend": false,
         "type": "scatter",
         "x": [
          "2020-03-10T00:00:00",
          "2020-03-12T00:00:00",
          "2020-03-14T00:00:00",
          "2020-03-16T00:00:00",
          "2020-03-18T00:00:00",
          "2020-03-20T00:00:00",
          "2020-03-22T00:00:00",
          "2020-03-24T00:00:00",
          "2020-03-26T00:00:00",
          "2020-03-28T00:00:00",
          "2020-03-30T00:00:00",
          "2020-04-01T00:00:00"
         ],
         "xaxis": "x6",
         "y": [
          142.40696034536126,
          226.78889831551302,
          394.1011655494919,
          703.9865113641622,
          1229.971083422911,
          2043.205171789693,
          3178.923953377193,
          4606.5659044497215,
          6242.001594595351,
          7976.013807380841,
          9693.226959238244,
          11301.960189888918,
          12764.593589279451
         ],
         "yaxis": "y6"
        }
       ],
       "layout": {
        "annotations": [
         {
          "font": {
           "size": 16
          },
          "showarrow": false,
          "text": "Infected new",
          "x": 0.225,
          "xanchor": "center",
          "xref": "paper",
          "y": 1,
          "yanchor": "bottom",
          "yref": "paper"
         },
         {
          "font": {
           "size": 16
          },
          "showarrow": false,
          "text": "Hospitalized new",
          "x": 0.775,
          "xanchor": "center",
          "xref": "paper",
          "y": 1,
          "yanchor": "bottom",
          "yref": "paper"
         },
         {
          "font": {
           "size": 16
          },
          "showarrow": false,
          "text": "Infected new residual",
          "x": 0.225,
          "xanchor": "center",
          "xref": "paper",
          "y": 0.6333333333333333,
          "yanchor": "bottom",
          "yref": "paper"
         },
         {
          "font": {
           "size": 16
          },
          "showarrow": false,
          "text": "Hospitalized new residual",
          "x": 0.775,
          "xanchor": "center",
          "xref": "paper",
          "y": 0.6333333333333333,
          "yanchor": "bottom",
          "yref": "paper"
         },
         {
          "font": {
           "size": 16
          },
          "showarrow": false,
          "text": "Social distance [%]",
          "x": 0.225,
          "xanchor": "center",
          "xref": "paper",
          "y": 0.26666666666666666,
          "yanchor": "bottom",
          "yref": "paper"
         },
         {
          "font": {
           "size": 16
          },
          "showarrow": false,
          "text": "Total admissions",
          "x": 0.775,
          "xanchor": "center",
          "xref": "paper",
          "y": 0.26666666666666666,
          "yanchor": "bottom",
          "yref": "paper"
         }
        ],
        "height": 1200,
        "template": {
         "data": {
          "bar": [
           {
            "error_x": {
             "color": "#2a3f5f"
            },
            "error_y": {
             "color": "#2a3f5f"
            },
            "marker": {
             "line": {
              "color": "#E5ECF6",
              "width": 0.5
             }
            },
            "type": "bar"
           }
          ],
          "barpolar": [
           {
            "marker": {
             "line": {
              "color": "#E5ECF6",
              "width": 0.5
             }
            },
            "type": "barpolar"
           }
          ],
          "carpet": [
           {
            "aaxis": {
             "endlinecolor": "#2a3f5f",
             "gridcolor": "white",
             "linecolor": "white",
             "minorgridcolor": "white",
             "startlinecolor": "#2a3f5f"
            },
            "baxis": {
             "endlinecolor": "#2a3f5f",
             "gridcolor": "white",
             "linecolor": "white",
             "minorgridcolor": "white",
             "startlinecolor": "#2a3f5f"
            },
            "type": "carpet"
           }
          ],
          "choropleth": [
           {
            "colorbar": {
             "outlinewidth": 0,
             "ticks": ""
            },
            "type": "choropleth"
           }
          ],
          "contour": [
           {
            "colorbar": {
             "outlinewidth": 0,
             "ticks": ""
            },
            "colorscale": [
             [
              0,
              "#0d0887"
             ],
             [
              0.1111111111111111,
              "#46039f"
             ],
             [
              0.2222222222222222,
              "#7201a8"
             ],
             [
              0.3333333333333333,
              "#9c179e"
             ],
             [
              0.4444444444444444,
              "#bd3786"
             ],
             [
              0.5555555555555556,
              "#d8576b"
             ],
             [
              0.6666666666666666,
              "#ed7953"
             ],
             [
              0.7777777777777778,
              "#fb9f3a"
             ],
             [
              0.8888888888888888,
              "#fdca26"
             ],
             [
              1,
              "#f0f921"
             ]
            ],
            "type": "contour"
           }
          ],
          "contourcarpet": [
           {
            "colorbar": {
             "outlinewidth": 0,
             "ticks": ""
            },
            "type": "contourcarpet"
           }
          ],
          "heatmap": [
           {
            "colorbar": {
             "outlinewidth": 0,
             "ticks": ""
            },
            "colorscale": [
             [
              0,
              "#0d0887"
             ],
             [
              0.1111111111111111,
              "#46039f"
             ],
             [
              0.2222222222222222,
              "#7201a8"
             ],
             [
              0.3333333333333333,
              "#9c179e"
             ],
             [
              0.4444444444444444,
              "#bd3786"
             ],
             [
              0.5555555555555556,
              "#d8576b"
             ],
             [
              0.6666666666666666,
              "#ed7953"
             ],
             [
              0.7777777777777778,
              "#fb9f3a"
             ],
             [
              0.8888888888888888,
              "#fdca26"
             ],
             [
              1,
              "#f0f921"
             ]
            ],
            "type": "heatmap"
           }
          ],
          "heatmapgl": [
           {
            "colorbar": {
             "outlinewidth": 0,
             "ticks": ""
            },
            "colorscale": [
             [
              0,
              "#0d0887"
             ],
             [
              0.1111111111111111,
              "#46039f"
             ],
             [
              0.2222222222222222,
              "#7201a8"
             ],
             [
              0.3333333333333333,
              "#9c179e"
             ],
             [
              0.4444444444444444,
              "#bd3786"
             ],
             [
              0.5555555555555556,
              "#d8576b"
             ],
             [
              0.6666666666666666,
              "#ed7953"
             ],
             [
              0.7777777777777778,
              "#fb9f3a"
             ],
             [
              0.8888888888888888,
              "#fdca26"
             ],
             [
              1,
              "#f0f921"
             ]
            ],
            "type": "heatmapgl"
           }
          ],
          "histogram": [
           {
            "marker": {
             "colorbar": {
              "outlinewidth": 0,
              "ticks": ""
             }
            },
            "type": "histogram"
           }
          ],
          "histogram2d": [
           {
            "colorbar": {
             "outlinewidth": 0,
             "ticks": ""
            },
            "colorscale": [
             [
              0,
              "#0d0887"
             ],
             [
              0.1111111111111111,
              "#46039f"
             ],
             [
              0.2222222222222222,
              "#7201a8"
             ],
             [
              0.3333333333333333,
              "#9c179e"
             ],
             [
              0.4444444444444444,
              "#bd3786"
             ],
             [
              0.5555555555555556,
              "#d8576b"
             ],
             [
              0.6666666666666666,
              "#ed7953"
             ],
             [
              0.7777777777777778,
              "#fb9f3a"
             ],
             [
              0.8888888888888888,
              "#fdca26"
             ],
             [
              1,
              "#f0f921"
             ]
            ],
            "type": "histogram2d"
           }
          ],
          "histogram2dcontour": [
           {
            "colorbar": {
             "outlinewidth": 0,
             "ticks": ""
            },
            "colorscale": [
             [
              0,
              "#0d0887"
             ],
             [
              0.1111111111111111,
              "#46039f"
             ],
             [
              0.2222222222222222,
              "#7201a8"
             ],
             [
              0.3333333333333333,
              "#9c179e"
             ],
             [
              0.4444444444444444,
              "#bd3786"
             ],
             [
              0.5555555555555556,
              "#d8576b"
             ],
             [
              0.6666666666666666,
              "#ed7953"
             ],
             [
              0.7777777777777778,
              "#fb9f3a"
             ],
             [
              0.8888888888888888,
              "#fdca26"
             ],
             [
              1,
              "#f0f921"
             ]
            ],
            "type": "histogram2dcontour"
           }
          ],
          "mesh3d": [
           {
            "colorbar": {
             "outlinewidth": 0,
             "ticks": ""
            },
            "type": "mesh3d"
           }
          ],
          "parcoords": [
           {
            "line": {
             "colorbar": {
              "outlinewidth": 0,
              "ticks": ""
             }
            },
            "type": "parcoords"
           }
          ],
          "pie": [
           {
            "automargin": true,
            "type": "pie"
           }
          ],
          "scatter": [
           {
            "marker": {
             "colorbar": {
              "outlinewidth": 0,
              "ticks": ""
             }
            },
            "type": "scatter"
           }
          ],
          "scatter3d": [
           {
            "line": {
             "colorbar": {
              "outlinewidth": 0,
              "ticks": ""
             }
            },
            "marker": {
             "colorbar": {
              "outlinewidth": 0,
              "ticks": ""
             }
            },
            "type": "scatter3d"
           }
          ],
          "scattercarpet": [
           {
            "marker": {
             "colorbar": {
              "outlinewidth": 0,
              "ticks": ""
             }
            },
            "type": "scattercarpet"
           }
          ],
          "scattergeo": [
           {
            "marker": {
             "colorbar": {
              "outlinewidth": 0,
              "ticks": ""
             }
            },
            "type": "scattergeo"
           }
          ],
          "scattergl": [
           {
            "marker": {
             "colorbar": {
              "outlinewidth": 0,
              "ticks": ""
             }
            },
            "type": "scattergl"
           }
          ],
          "scattermapbox": [
           {
            "marker": {
             "colorbar": {
              "outlinewidth": 0,
              "ticks": ""
             }
            },
            "type": "scattermapbox"
           }
          ],
          "scatterpolar": [
           {
            "marker": {
             "colorbar": {
              "outlinewidth": 0,
              "ticks": ""
             }
            },
            "type": "scatterpolar"
           }
          ],
          "scatterpolargl": [
           {
            "marker": {
             "colorbar": {
              "outlinewidth": 0,
              "ticks": ""
             }
            },
            "type": "scatterpolargl"
           }
          ],
          "scatterternary": [
           {
            "marker": {
             "colorbar": {
              "outlinewidth": 0,
              "ticks": ""
             }
            },
            "type": "scatterternary"
           }
          ],
          "surface": [
           {
            "colorbar": {
             "outlinewidth": 0,
             "ticks": ""
            },
            "colorscale": [
             [
              0,
              "#0d0887"
             ],
             [
              0.1111111111111111,
              "#46039f"
             ],
             [
              0.2222222222222222,
              "#7201a8"
             ],
             [
              0.3333333333333333,
              "#9c179e"
             ],
             [
              0.4444444444444444,
              "#bd3786"
             ],
             [
              0.5555555555555556,
              "#d8576b"
             ],
             [
              0.6666666666666666,
              "#ed7953"
             ],
             [
              0.7777777777777778,
              "#fb9f3a"
             ],
             [
              0.8888888888888888,
              "#fdca26"
             ],
             [
              1,
              "#f0f921"
             ]
            ],
            "type": "surface"
           }
          ],
          "table": [
           {
            "cells": {
             "fill": {
              "color": "#EBF0F8"
             },
             "line": {
              "color": "white"
             }
            },
            "header": {
             "fill": {
              "color": "#C8D4E3"
             },
             "line": {
              "color": "white"
             }
            },
            "type": "table"
           }
          ]
         },
         "layout": {
          "annotationdefaults": {
           "arrowcolor": "#2a3f5f",
           "arrowhead": 0,
           "arrowwidth": 1
          },
          "coloraxis": {
           "colorbar": {
            "outlinewidth": 0,
            "ticks": ""
           }
          },
          "colorscale": {
           "diverging": [
            [
             0,
             "#8e0152"
            ],
            [
             0.1,
             "#c51b7d"
            ],
            [
             0.2,
             "#de77ae"
            ],
            [
             0.3,
             "#f1b6da"
            ],
            [
             0.4,
             "#fde0ef"
            ],
            [
             0.5,
             "#f7f7f7"
            ],
            [
             0.6,
             "#e6f5d0"
            ],
            [
             0.7,
             "#b8e186"
            ],
            [
             0.8,
             "#7fbc41"
            ],
            [
             0.9,
             "#4d9221"
            ],
            [
             1,
             "#276419"
            ]
           ],
           "sequential": [
            [
             0,
             "#0d0887"
            ],
            [
             0.1111111111111111,
             "#46039f"
            ],
            [
             0.2222222222222222,
             "#7201a8"
            ],
            [
             0.3333333333333333,
             "#9c179e"
            ],
            [
             0.4444444444444444,
             "#bd3786"
            ],
            [
             0.5555555555555556,
             "#d8576b"
            ],
            [
             0.6666666666666666,
             "#ed7953"
            ],
            [
             0.7777777777777778,
             "#fb9f3a"
            ],
            [
             0.8888888888888888,
             "#fdca26"
            ],
            [
             1,
             "#f0f921"
            ]
           ],
           "sequentialminus": [
            [
             0,
             "#0d0887"
            ],
            [
             0.1111111111111111,
             "#46039f"
            ],
            [
             0.2222222222222222,
             "#7201a8"
            ],
            [
             0.3333333333333333,
             "#9c179e"
            ],
            [
             0.4444444444444444,
             "#bd3786"
            ],
            [
             0.5555555555555556,
             "#d8576b"
            ],
            [
             0.6666666666666666,
             "#ed7953"
            ],
            [
             0.7777777777777778,
             "#fb9f3a"
            ],
            [
             0.8888888888888888,
             "#fdca26"
            ],
            [
             1,
             "#f0f921"
            ]
           ]
          },
          "colorway": [
           "#636efa",
           "#EF553B",
           "#00cc96",
           "#ab63fa",
           "#FFA15A",
           "#19d3f3",
           "#FF6692",
           "#B6E880",
           "#FF97FF",
           "#FECB52"
          ],
          "font": {
           "color": "#2a3f5f"
          },
          "geo": {
           "bgcolor": "white",
           "lakecolor": "white",
           "landcolor": "#E5ECF6",
           "showlakes": true,
           "showland": true,
           "subunitcolor": "white"
          },
          "hoverlabel": {
           "align": "left"
          },
          "hovermode": "closest",
          "mapbox": {
           "style": "light"
          },
          "paper_bgcolor": "white",
          "plot_bgcolor": "#E5ECF6",
          "polar": {
           "angularaxis": {
            "gridcolor": "white",
            "linecolor": "white",
            "ticks": ""
           },
           "bgcolor": "#E5ECF6",
           "radialaxis": {
            "gridcolor": "white",
            "linecolor": "white",
            "ticks": ""
           }
          },
          "scene": {
           "xaxis": {
            "backgroundcolor": "#E5ECF6",
            "gridcolor": "white",
            "gridwidth": 2,
            "linecolor": "white",
            "showbackground": true,
            "ticks": "",
            "zerolinecolor": "white"
           },
           "yaxis": {
            "backgroundcolor": "#E5ECF6",
            "gridcolor": "white",
            "gridwidth": 2,
            "linecolor": "white",
            "showbackground": true,
            "ticks": "",
            "zerolinecolor": "white"
           },
           "zaxis": {
            "backgroundcolor": "#E5ECF6",
            "gridcolor": "white",
            "gridwidth": 2,
            "linecolor": "white",
            "showbackground": true,
            "ticks": "",
            "zerolinecolor": "white"
           }
          },
          "shapedefaults": {
           "line": {
            "color": "#2a3f5f"
           }
          },
          "ternary": {
           "aaxis": {
            "gridcolor": "white",
            "linecolor": "white",
            "ticks": ""
           },
           "baxis": {
            "gridcolor": "white",
            "linecolor": "white",
            "ticks": ""
           },
           "bgcolor": "#E5ECF6",
           "caxis": {
            "gridcolor": "white",
            "linecolor": "white",
            "ticks": ""
           }
          },
          "title": {
           "x": 0.05
          },
          "xaxis": {
           "automargin": true,
           "gridcolor": "white",
           "linecolor": "white",
           "ticks": "",
           "title": {
            "standoff": 15
           },
           "zerolinecolor": "white",
           "zerolinewidth": 2
          },
          "yaxis": {
           "automargin": true,
           "gridcolor": "white",
           "linecolor": "white",
           "ticks": "",
           "title": {
            "standoff": 15
           },
           "zerolinecolor": "white",
           "zerolinewidth": 2
          }
         }
        },
        "width": 800,
        "xaxis": {
         "anchor": "y",
         "domain": [
          0,
          0.45
         ]
        },
        "xaxis2": {
         "anchor": "y2",
         "domain": [
          0.55,
          1
         ]
        },
        "xaxis3": {
         "anchor": "y3",
         "domain": [
          0,
          0.45
         ]
        },
        "xaxis4": {
         "anchor": "y4",
         "domain": [
          0.55,
          1
         ]
        },
        "xaxis5": {
         "anchor": "y5",
         "domain": [
          0,
          0.45
         ]
        },
        "xaxis6": {
         "anchor": "y6",
         "domain": [
          0.55,
          1
         ]
        },
        "yaxis": {
         "anchor": "x",
         "domain": [
          0.7333333333333334,
          1
         ]
        },
        "yaxis2": {
         "anchor": "x2",
         "domain": [
          0.7333333333333334,
          1
         ]
        },
        "yaxis3": {
         "anchor": "x3",
         "domain": [
          0.3666666666666667,
          0.6333333333333333
         ]
        },
        "yaxis4": {
         "anchor": "x4",
         "domain": [
          0.3666666666666667,
          0.6333333333333333
         ]
        },
        "yaxis5": {
         "anchor": "x5",
         "domain": [
          0,
          0.26666666666666666
         ],
         "range": [
          0,
          100
         ]
        },
        "yaxis6": {
         "anchor": "x6",
         "domain": [
          0,
          0.26666666666666666
         ]
        }
       }
      },
      "text/html": [
       "<div>\n",
       "        \n",
       "        \n",
       "            <div id=\"7ce84932-5938-4c29-888e-f6624a05b665\" class=\"plotly-graph-div\" style=\"height:1200px; width:800px;\"></div>\n",
       "            <script type=\"text/javascript\">\n",
       "                require([\"plotly\"], function(Plotly) {\n",
       "                    window.PLOTLYENV=window.PLOTLYENV || {};\n",
       "                    \n",
       "                if (document.getElementById(\"7ce84932-5938-4c29-888e-f6624a05b665\")) {\n",
       "                    Plotly.newPlot(\n",
       "                        '7ce84932-5938-4c29-888e-f6624a05b665',\n",
       "                        [{\"error_y\": {\"array\": [300.0, 300.0, 488.5, 834.0, 2246.0, 3233.0, 3021.5, 2716.5, 3966.0, 4190.5, 2903.5, 4442.5, 4551.0]}, \"line\": {\"color\": \"#1f77b4\"}, \"mode\": \"markers+lines\", \"name\": \"Data\", \"showlegend\": true, \"type\": \"scatter\", \"x\": [\"2020-03-10T00:00:00\", \"2020-03-12T00:00:00\", \"2020-03-14T00:00:00\", \"2020-03-16T00:00:00\", \"2020-03-18T00:00:00\", \"2020-03-20T00:00:00\", \"2020-03-22T00:00:00\", \"2020-03-24T00:00:00\", \"2020-03-26T00:00:00\", \"2020-03-28T00:00:00\", \"2020-03-30T00:00:00\", \"2020-04-01T00:00:00\"], \"xaxis\": \"x\", \"y\": [73, 229, 977, 1668, 4492, 6466, 6043, 5433, 7932, 8381, 5807, 8885, 9102], \"yaxis\": \"y\"}, {\"line\": {\"color\": \"#bcbd22\", \"shape\": \"spline\"}, \"mode\": \"lines\", \"showlegend\": false, \"type\": \"scatter\", \"x\": [\"2020-03-10T00:00:00\", \"2020-03-12T00:00:00\", \"2020-03-14T00:00:00\", \"2020-03-16T00:00:00\", \"2020-03-18T00:00:00\", \"2020-03-20T00:00:00\", \"2020-03-22T00:00:00\", \"2020-03-24T00:00:00\", \"2020-03-26T00:00:00\", \"2020-03-28T00:00:00\", \"2020-03-30T00:00:00\", \"2020-04-01T00:00:00\"], \"xaxis\": \"x\", \"y\": [262.0617884047537, 503.1310761557288, 908.9353892565942, 1513.1103247770548, 2283.843094794629, 3115.2949129180142, 3835.247229547997, 4288.117507629339, 4484.8891730496125, 4523.19551431063, 4393.300299386916, 4015.0691856240837, 3423.723413014336], \"yaxis\": \"y\"}, {\"fill\": \"tonexty\", \"fillcolor\": \"rgba(188,189,34,0.5)\", \"line\": {\"color\": \"#bcbd22\", \"shape\": \"spline\"}, \"mode\": \"lines\", \"name\": \"Fit\", \"showlegend\": true, \"type\": \"scatter\", \"x\": [\"2020-03-10T00:00:00\", \"2020-03-12T00:00:00\", \"2020-03-14T00:00:00\", \"2020-03-16T00:00:00\", \"2020-03-18T00:00:00\", \"2020-03-20T00:00:00\", \"2020-03-22T00:00:00\", \"2020-03-24T00:00:00\", \"2020-03-26T00:00:00\", \"2020-03-28T00:00:00\", \"2020-03-30T00:00:00\", \"2020-04-01T00:00:00\"], \"xaxis\": \"x\", \"y\": [405.7882491876681, 767.0314115363665, 1367.065489848062, 2256.6721170008245, 3390.119517025494, 4572.623882372658, 5568.480041185901, 6253.995309358595, 6592.274671749359, 6635.448004332848, 6575.491291625556, 6627.688970120888, 6835.31411219488], \"yaxis\": \"y\"}, {\"error_y\": {\"array\": [300.0, 300.0, 488.5, 834.0, 2246.0, 3233.0, 3021.5, 2716.5, 3966.0, 4190.5, 2903.5, 4442.5, 4551.0]}, \"line\": {\"color\": \"#1f77b4\"}, \"mode\": \"markers+lines\", \"name\": \"Data\", \"showlegend\": false, \"type\": \"scatter\", \"x\": [\"2020-03-10T00:00:00\", \"2020-03-12T00:00:00\", \"2020-03-14T00:00:00\", \"2020-03-16T00:00:00\", \"2020-03-18T00:00:00\", \"2020-03-20T00:00:00\", \"2020-03-22T00:00:00\", \"2020-03-24T00:00:00\", \"2020-03-26T00:00:00\", \"2020-03-28T00:00:00\", \"2020-03-30T00:00:00\", \"2020-04-01T00:00:00\"], \"xaxis\": \"x\", \"y\": [73, 229, 977, 1668, 4492, 6466, 6043, 5433, 7932, 8381, 5807, 8885, 9102], \"yaxis\": \"y\"}, {\"error_y\": {\"array\": [291.2656452754159, 269.423742915314, 431.46431223568715, 746.5487025547961, 2176.8220229049575, 3149.81540232076, 2894.5532047563875, 2532.4303281960442, 3823.465390188282, 4055.2296611411402, 2690.6918939834645, 4246.099470739482, 4219.225429544663]}, \"line\": {\"color\": \"#2ca02c\"}, \"mode\": \"markers+lines\", \"name\": \"Residual\", \"showlegend\": false, \"type\": \"scatter\", \"x\": [\"2020-03-10T00:00:00\", \"2020-03-12T00:00:00\", \"2020-03-14T00:00:00\", \"2020-03-16T00:00:00\", \"2020-03-18T00:00:00\", \"2020-03-20T00:00:00\", \"2020-03-22T00:00:00\", \"2020-03-24T00:00:00\", \"2020-03-26T00:00:00\", \"2020-03-28T00:00:00\", \"2020-03-30T00:00:00\", \"2020-04-01T00:00:00\"], \"xaxis\": \"x3\", \"y\": [-260, -406, -161, -216, 1655, 2622, 1341, 161, 2393, 2801, 322, 3563, 3972], \"yaxis\": \"y3\"}, {\"line\": {\"color\": \"black\"}, \"mode\": \"lines\", \"showlegend\": false, \"type\": \"scatter\", \"x\": [\"2020-03-10T00:00:00\", \"2020-03-12T00:00:00\", \"2020-03-14T00:00:00\", \"2020-03-16T00:00:00\", \"2020-03-18T00:00:00\", \"2020-03-20T00:00:00\", \"2020-03-22T00:00:00\", \"2020-03-24T00:00:00\", \"2020-03-26T00:00:00\", \"2020-03-28T00:00:00\", \"2020-03-30T00:00:00\", \"2020-04-01T00:00:00\"], \"xaxis\": \"x3\", \"y\": [0, 0, 0, 0, 0, 0, 0, 0, 0, 0, 0, 0, 0], \"yaxis\": \"y3\"}, {\"error_y\": {\"array\": [6.45, 16.349999999999998, 29.7, 50.4, 96.89999999999999, 139.2, 179.4, 240.45, 320.4, 367.2, 342.3, 391.5, 355.5]}, \"line\": {\"color\": \"#1f77b4\"}, \"mode\": \"markers+lines\", \"name\": \"Data\", \"showlegend\": false, \"type\": \"scatter\", \"x\": [\"2020-03-10T00:00:00\", \"2020-03-12T00:00:00\", \"2020-03-14T00:00:00\", \"2020-03-16T00:00:00\", \"2020-03-18T00:00:00\", \"2020-03-20T00:00:00\", \"2020-03-22T00:00:00\", \"2020-03-24T00:00:00\", \"2020-03-26T00:00:00\", \"2020-03-28T00:00:00\", \"2020-03-30T00:00:00\", \"2020-04-01T00:00:00\"], \"xaxis\": \"x2\", \"y\": [43, 109, 198, 336, 646, 928, 1196, 1603, 2136, 2448, 2282, 2610, 2370], \"yaxis\": \"y2\"}, {\"line\": {\"color\": \"#bcbd22\", \"shape\": \"spline\"}, \"mode\": \"lines\", \"showlegend\": false, \"type\": \"scatter\", \"x\": [\"2020-03-10T00:00:00\", \"2020-03-12T00:00:00\", \"2020-03-14T00:00:00\", \"2020-03-16T00:00:00\", \"2020-03-18T00:00:00\", \"2020-03-20T00:00:00\", \"2020-03-22T00:00:00\", \"2020-03-24T00:00:00\", \"2020-03-26T00:00:00\", \"2020-03-28T00:00:00\", \"2020-03-30T00:00:00\", \"2020-04-01T00:00:00\"], \"xaxis\": \"x2\", \"y\": [41.702874122726385, 87.02848508361663, 168.4515082435487, 309.16253502711555, 531.6004620496452, 838.5541820571999, 1206.8021850979062, 1586.2691653091267, 1908.036660819682, 2137.0687617672643, 2286.499339543521, 2349.6098640198843, 2270.2951183099935], \"yaxis\": \"y2\"}, {\"fill\": \"tonexty\", \"fillcolor\": \"rgba(188,189,34,0.5)\", \"line\": {\"color\": \"#bcbd22\", \"shape\": \"spline\"}, \"mode\": \"lines\", \"name\": \"Fit\", \"showlegend\": false, \"type\": \"scatter\", \"x\": [\"2020-03-10T00:00:00\", \"2020-03-12T00:00:00\", \"2020-03-14T00:00:00\", \"2020-03-16T00:00:00\", \"2020-03-18T00:00:00\", \"2020-03-20T00:00:00\", \"2020-03-22T00:00:00\", \"2020-03-24T00:00:00\", \"2020-03-26T00:00:00\", \"2020-03-28T00:00:00\", \"2020-03-30T00:00:00\", \"2020-04-01T00:00:00\"], \"xaxis\": \"x2\", \"y\": [52.93835762162453, 102.66987501663363, 197.97476337749322, 362.85633032040863, 619.3502642751208, 974.908674305428, 1398.1053460002722, 1824.9855373487915, 2201.8263474436485, 2487.0907255534908, 2653.2891984997436, 2735.5282358609566, 2833.674646571872], \"yaxis\": \"y2\"}, {\"error_y\": {\"array\": [6.45, 16.349999999999998, 29.7, 50.4, 96.89999999999999, 139.2, 179.4, 240.45, 320.4, 367.2, 342.3, 391.5, 355.5]}, \"line\": {\"color\": \"#1f77b4\"}, \"mode\": \"markers+lines\", \"name\": \"Data\", \"showlegend\": false, \"type\": \"scatter\", \"x\": [\"2020-03-10T00:00:00\", \"2020-03-12T00:00:00\", \"2020-03-14T00:00:00\", \"2020-03-16T00:00:00\", \"2020-03-18T00:00:00\", \"2020-03-20T00:00:00\", \"2020-03-22T00:00:00\", \"2020-03-24T00:00:00\", \"2020-03-26T00:00:00\", \"2020-03-28T00:00:00\", \"2020-03-30T00:00:00\", \"2020-04-01T00:00:00\"], \"xaxis\": \"x2\", \"y\": [43, 109, 198, 336, 646, 928, 1196, 1603, 2136, 2448, 2282, 2610, 2370], \"yaxis\": \"y2\"}, {\"error_y\": {\"array\": [3.1691446222120336, 14.358246071189448, 25.7717743194761, 42.65447323259909, 86.39793430602181, 121.36104445386147, 151.77330185902753, 208.73386387948074, 284.7421026268359, 322.8110844082294, 289.025240838461, 340.64498024906106, 216.8666105786351]}, \"line\": {\"color\": \"#2ca02c\"}, \"mode\": \"markers+lines\", \"name\": \"Residual\", \"showlegend\": false, \"type\": \"scatter\", \"x\": [\"2020-03-10T00:00:00\", \"2020-03-12T00:00:00\", \"2020-03-14T00:00:00\", \"2020-03-16T00:00:00\", \"2020-03-18T00:00:00\", \"2020-03-20T00:00:00\", \"2020-03-22T00:00:00\", \"2020-03-24T00:00:00\", \"2020-03-26T00:00:00\", \"2020-03-28T00:00:00\", \"2020-03-30T00:00:00\", \"2020-04-01T00:00:00\"], \"xaxis\": \"x4\", \"y\": [-4, 14, 14, 0, 70, 21, -106, -102, 81, 135, -187, 67, -181], \"yaxis\": \"y4\"}, {\"line\": {\"color\": \"black\"}, \"mode\": \"lines\", \"showlegend\": false, \"type\": \"scatter\", \"x\": [\"2020-03-10T00:00:00\", \"2020-03-12T00:00:00\", \"2020-03-14T00:00:00\", \"2020-03-16T00:00:00\", \"2020-03-18T00:00:00\", \"2020-03-20T00:00:00\", \"2020-03-22T00:00:00\", \"2020-03-24T00:00:00\", \"2020-03-26T00:00:00\", \"2020-03-28T00:00:00\", \"2020-03-30T00:00:00\", \"2020-04-01T00:00:00\"], \"xaxis\": \"x4\", \"y\": [0, 0, 0, 0, 0, 0, 0, 0, 0, 0, 0, 0, 0], \"yaxis\": \"y4\"}, {\"line\": {\"color\": \"#bcbd22\", \"shape\": \"spline\"}, \"mode\": \"lines\", \"showlegend\": false, \"type\": \"scatter\", \"x\": [\"2020-03-10T00:00:00\", \"2020-03-12T00:00:00\", \"2020-03-14T00:00:00\", \"2020-03-16T00:00:00\", \"2020-03-18T00:00:00\", \"2020-03-20T00:00:00\", \"2020-03-22T00:00:00\", \"2020-03-24T00:00:00\", \"2020-03-26T00:00:00\", \"2020-03-28T00:00:00\", \"2020-03-30T00:00:00\", \"2020-04-01T00:00:00\"], \"xaxis\": \"x5\", \"y\": [73.72577387485288, 65.65308705066553, 57.22415069201239, 49.42877232095461, 42.952858626033745, 37.74511921094021, 33.25939334386723, 29.096645923699406, 25.204704459727537, 21.651164813377683, 18.541086756632204, 15.978256656618194, 13.985707149600882, 12.504944163099236], \"yaxis\": \"y5\"}, {\"fill\": \"tonexty\", \"fillcolor\": \"rgba(188,189,34,0.5)\", \"line\": {\"color\": \"#bcbd22\", \"shape\": \"spline\"}, \"mode\": \"lines\", \"showlegend\": false, \"type\": \"scatter\", \"x\": [\"2020-03-10T00:00:00\", \"2020-03-12T00:00:00\", \"2020-03-14T00:00:00\", \"2020-03-16T00:00:00\", \"2020-03-18T00:00:00\", \"2020-03-20T00:00:00\", \"2020-03-22T00:00:00\", \"2020-03-24T00:00:00\", \"2020-03-26T00:00:00\", \"2020-03-28T00:00:00\", \"2020-03-30T00:00:00\", \"2020-04-01T00:00:00\"], \"xaxis\": \"x5\", \"y\": [100, 100, 100, 94.6163193590564, 83.66314447323751, 71.17355345543336, 59.531262965046025, 50.38152174434918, 44.15421378040884, 40.48724500382145, 38.67454101805094, 37.984453926504884, 37.871702486705125, 38.00816781066375], \"yaxis\": \"y5\"}, {\"line\": {\"color\": \"#bcbd22\", \"shape\": \"spline\"}, \"mode\": \"lines\", \"showlegend\": false, \"type\": \"scatter\", \"x\": [\"2020-03-10T00:00:00\", \"2020-03-12T00:00:00\", \"2020-03-14T00:00:00\", \"2020-03-16T00:00:00\", \"2020-03-18T00:00:00\", \"2020-03-20T00:00:00\", \"2020-03-22T00:00:00\", \"2020-03-24T00:00:00\", \"2020-03-26T00:00:00\", \"2020-03-28T00:00:00\", \"2020-03-30T00:00:00\", \"2020-04-01T00:00:00\"], \"xaxis\": \"x6\", \"y\": [127.09141425613257, 193.90806858601755, 332.922506272862, 591.1955012596654, 1031.135653722279, 1708.3491735545258, 2641.60158801603, 3793.710690830963, 5068.098495337132, 6342.517185596331, 7519.58814421402, 8537.01942723672, 9344.215847424395], \"yaxis\": \"y6\"}, {\"fill\": \"tonexty\", \"fillcolor\": \"rgba(188,189,34,0.5)\", \"line\": {\"color\": \"#bcbd22\", \"shape\": \"spline\"}, \"mode\": \"lines\", \"showlegend\": false, \"type\": \"scatter\", \"x\": [\"2020-03-10T00:00:00\", \"2020-03-12T00:00:00\", \"2020-03-14T00:00:00\", \"2020-03-16T00:00:00\", \"2020-03-18T00:00:00\", \"2020-03-20T00:00:00\", \"2020-03-22T00:00:00\", \"2020-03-24T00:00:00\", \"2020-03-26T00:00:00\", \"2020-03-28T00:00:00\", \"2020-03-30T00:00:00\", \"2020-04-01T00:00:00\"], \"xaxis\": \"x6\", \"y\": [142.40696034536126, 226.78889831551302, 394.1011655494919, 703.9865113641622, 1229.971083422911, 2043.205171789693, 3178.923953377193, 4606.5659044497215, 6242.001594595351, 7976.013807380841, 9693.226959238244, 11301.960189888918, 12764.593589279451], \"yaxis\": \"y6\"}],\n",
       "                        {\"annotations\": [{\"font\": {\"size\": 16}, \"showarrow\": false, \"text\": \"Infected new\", \"x\": 0.225, \"xanchor\": \"center\", \"xref\": \"paper\", \"y\": 1.0, \"yanchor\": \"bottom\", \"yref\": \"paper\"}, {\"font\": {\"size\": 16}, \"showarrow\": false, \"text\": \"Hospitalized new\", \"x\": 0.775, \"xanchor\": \"center\", \"xref\": \"paper\", \"y\": 1.0, \"yanchor\": \"bottom\", \"yref\": \"paper\"}, {\"font\": {\"size\": 16}, \"showarrow\": false, \"text\": \"Infected new residual\", \"x\": 0.225, \"xanchor\": \"center\", \"xref\": \"paper\", \"y\": 0.6333333333333333, \"yanchor\": \"bottom\", \"yref\": \"paper\"}, {\"font\": {\"size\": 16}, \"showarrow\": false, \"text\": \"Hospitalized new residual\", \"x\": 0.775, \"xanchor\": \"center\", \"xref\": \"paper\", \"y\": 0.6333333333333333, \"yanchor\": \"bottom\", \"yref\": \"paper\"}, {\"font\": {\"size\": 16}, \"showarrow\": false, \"text\": \"Social distance [%]\", \"x\": 0.225, \"xanchor\": \"center\", \"xref\": \"paper\", \"y\": 0.26666666666666666, \"yanchor\": \"bottom\", \"yref\": \"paper\"}, {\"font\": {\"size\": 16}, \"showarrow\": false, \"text\": \"Total admissions\", \"x\": 0.775, \"xanchor\": \"center\", \"xref\": \"paper\", \"y\": 0.26666666666666666, \"yanchor\": \"bottom\", \"yref\": \"paper\"}], \"height\": 1200, \"template\": {\"data\": {\"bar\": [{\"error_x\": {\"color\": \"#2a3f5f\"}, \"error_y\": {\"color\": \"#2a3f5f\"}, \"marker\": {\"line\": {\"color\": \"#E5ECF6\", \"width\": 0.5}}, \"type\": \"bar\"}], \"barpolar\": [{\"marker\": {\"line\": {\"color\": \"#E5ECF6\", \"width\": 0.5}}, \"type\": \"barpolar\"}], \"carpet\": [{\"aaxis\": {\"endlinecolor\": \"#2a3f5f\", \"gridcolor\": \"white\", \"linecolor\": \"white\", \"minorgridcolor\": \"white\", \"startlinecolor\": \"#2a3f5f\"}, \"baxis\": {\"endlinecolor\": \"#2a3f5f\", \"gridcolor\": \"white\", \"linecolor\": \"white\", \"minorgridcolor\": \"white\", \"startlinecolor\": \"#2a3f5f\"}, \"type\": \"carpet\"}], \"choropleth\": [{\"colorbar\": {\"outlinewidth\": 0, \"ticks\": \"\"}, \"type\": \"choropleth\"}], \"contour\": [{\"colorbar\": {\"outlinewidth\": 0, \"ticks\": \"\"}, \"colorscale\": [[0.0, \"#0d0887\"], [0.1111111111111111, \"#46039f\"], [0.2222222222222222, \"#7201a8\"], [0.3333333333333333, \"#9c179e\"], [0.4444444444444444, \"#bd3786\"], [0.5555555555555556, \"#d8576b\"], [0.6666666666666666, \"#ed7953\"], [0.7777777777777778, \"#fb9f3a\"], [0.8888888888888888, \"#fdca26\"], [1.0, \"#f0f921\"]], \"type\": \"contour\"}], \"contourcarpet\": [{\"colorbar\": {\"outlinewidth\": 0, \"ticks\": \"\"}, \"type\": \"contourcarpet\"}], \"heatmap\": [{\"colorbar\": {\"outlinewidth\": 0, \"ticks\": \"\"}, \"colorscale\": [[0.0, \"#0d0887\"], [0.1111111111111111, \"#46039f\"], [0.2222222222222222, \"#7201a8\"], [0.3333333333333333, \"#9c179e\"], [0.4444444444444444, \"#bd3786\"], [0.5555555555555556, \"#d8576b\"], [0.6666666666666666, \"#ed7953\"], [0.7777777777777778, \"#fb9f3a\"], [0.8888888888888888, \"#fdca26\"], [1.0, \"#f0f921\"]], \"type\": \"heatmap\"}], \"heatmapgl\": [{\"colorbar\": {\"outlinewidth\": 0, \"ticks\": \"\"}, \"colorscale\": [[0.0, \"#0d0887\"], [0.1111111111111111, \"#46039f\"], [0.2222222222222222, \"#7201a8\"], [0.3333333333333333, \"#9c179e\"], [0.4444444444444444, \"#bd3786\"], [0.5555555555555556, \"#d8576b\"], [0.6666666666666666, \"#ed7953\"], [0.7777777777777778, \"#fb9f3a\"], [0.8888888888888888, \"#fdca26\"], [1.0, \"#f0f921\"]], \"type\": \"heatmapgl\"}], \"histogram\": [{\"marker\": {\"colorbar\": {\"outlinewidth\": 0, \"ticks\": \"\"}}, \"type\": \"histogram\"}], \"histogram2d\": [{\"colorbar\": {\"outlinewidth\": 0, \"ticks\": \"\"}, \"colorscale\": [[0.0, \"#0d0887\"], [0.1111111111111111, \"#46039f\"], [0.2222222222222222, \"#7201a8\"], [0.3333333333333333, \"#9c179e\"], [0.4444444444444444, \"#bd3786\"], [0.5555555555555556, \"#d8576b\"], [0.6666666666666666, \"#ed7953\"], [0.7777777777777778, \"#fb9f3a\"], [0.8888888888888888, \"#fdca26\"], [1.0, \"#f0f921\"]], \"type\": \"histogram2d\"}], \"histogram2dcontour\": [{\"colorbar\": {\"outlinewidth\": 0, \"ticks\": \"\"}, \"colorscale\": [[0.0, \"#0d0887\"], [0.1111111111111111, \"#46039f\"], [0.2222222222222222, \"#7201a8\"], [0.3333333333333333, \"#9c179e\"], [0.4444444444444444, \"#bd3786\"], [0.5555555555555556, \"#d8576b\"], [0.6666666666666666, \"#ed7953\"], [0.7777777777777778, \"#fb9f3a\"], [0.8888888888888888, \"#fdca26\"], [1.0, \"#f0f921\"]], \"type\": \"histogram2dcontour\"}], \"mesh3d\": [{\"colorbar\": {\"outlinewidth\": 0, \"ticks\": \"\"}, \"type\": \"mesh3d\"}], \"parcoords\": [{\"line\": {\"colorbar\": {\"outlinewidth\": 0, \"ticks\": \"\"}}, \"type\": \"parcoords\"}], \"pie\": [{\"automargin\": true, \"type\": \"pie\"}], \"scatter\": [{\"marker\": {\"colorbar\": {\"outlinewidth\": 0, \"ticks\": \"\"}}, \"type\": \"scatter\"}], \"scatter3d\": [{\"line\": {\"colorbar\": {\"outlinewidth\": 0, \"ticks\": \"\"}}, \"marker\": {\"colorbar\": {\"outlinewidth\": 0, \"ticks\": \"\"}}, \"type\": \"scatter3d\"}], \"scattercarpet\": [{\"marker\": {\"colorbar\": {\"outlinewidth\": 0, \"ticks\": \"\"}}, \"type\": \"scattercarpet\"}], \"scattergeo\": [{\"marker\": {\"colorbar\": {\"outlinewidth\": 0, \"ticks\": \"\"}}, \"type\": \"scattergeo\"}], \"scattergl\": [{\"marker\": {\"colorbar\": {\"outlinewidth\": 0, \"ticks\": \"\"}}, \"type\": \"scattergl\"}], \"scattermapbox\": [{\"marker\": {\"colorbar\": {\"outlinewidth\": 0, \"ticks\": \"\"}}, \"type\": \"scattermapbox\"}], \"scatterpolar\": [{\"marker\": {\"colorbar\": {\"outlinewidth\": 0, \"ticks\": \"\"}}, \"type\": \"scatterpolar\"}], \"scatterpolargl\": [{\"marker\": {\"colorbar\": {\"outlinewidth\": 0, \"ticks\": \"\"}}, \"type\": \"scatterpolargl\"}], \"scatterternary\": [{\"marker\": {\"colorbar\": {\"outlinewidth\": 0, \"ticks\": \"\"}}, \"type\": \"scatterternary\"}], \"surface\": [{\"colorbar\": {\"outlinewidth\": 0, \"ticks\": \"\"}, \"colorscale\": [[0.0, \"#0d0887\"], [0.1111111111111111, \"#46039f\"], [0.2222222222222222, \"#7201a8\"], [0.3333333333333333, \"#9c179e\"], [0.4444444444444444, \"#bd3786\"], [0.5555555555555556, \"#d8576b\"], [0.6666666666666666, \"#ed7953\"], [0.7777777777777778, \"#fb9f3a\"], [0.8888888888888888, \"#fdca26\"], [1.0, \"#f0f921\"]], \"type\": \"surface\"}], \"table\": [{\"cells\": {\"fill\": {\"color\": \"#EBF0F8\"}, \"line\": {\"color\": \"white\"}}, \"header\": {\"fill\": {\"color\": \"#C8D4E3\"}, \"line\": {\"color\": \"white\"}}, \"type\": \"table\"}]}, \"layout\": {\"annotationdefaults\": {\"arrowcolor\": \"#2a3f5f\", \"arrowhead\": 0, \"arrowwidth\": 1}, \"coloraxis\": {\"colorbar\": {\"outlinewidth\": 0, \"ticks\": \"\"}}, \"colorscale\": {\"diverging\": [[0, \"#8e0152\"], [0.1, \"#c51b7d\"], [0.2, \"#de77ae\"], [0.3, \"#f1b6da\"], [0.4, \"#fde0ef\"], [0.5, \"#f7f7f7\"], [0.6, \"#e6f5d0\"], [0.7, \"#b8e186\"], [0.8, \"#7fbc41\"], [0.9, \"#4d9221\"], [1, \"#276419\"]], \"sequential\": [[0.0, \"#0d0887\"], [0.1111111111111111, \"#46039f\"], [0.2222222222222222, \"#7201a8\"], [0.3333333333333333, \"#9c179e\"], [0.4444444444444444, \"#bd3786\"], [0.5555555555555556, \"#d8576b\"], [0.6666666666666666, \"#ed7953\"], [0.7777777777777778, \"#fb9f3a\"], [0.8888888888888888, \"#fdca26\"], [1.0, \"#f0f921\"]], \"sequentialminus\": [[0.0, \"#0d0887\"], [0.1111111111111111, \"#46039f\"], [0.2222222222222222, \"#7201a8\"], [0.3333333333333333, \"#9c179e\"], [0.4444444444444444, \"#bd3786\"], [0.5555555555555556, \"#d8576b\"], [0.6666666666666666, \"#ed7953\"], [0.7777777777777778, \"#fb9f3a\"], [0.8888888888888888, \"#fdca26\"], [1.0, \"#f0f921\"]]}, \"colorway\": [\"#636efa\", \"#EF553B\", \"#00cc96\", \"#ab63fa\", \"#FFA15A\", \"#19d3f3\", \"#FF6692\", \"#B6E880\", \"#FF97FF\", \"#FECB52\"], \"font\": {\"color\": \"#2a3f5f\"}, \"geo\": {\"bgcolor\": \"white\", \"lakecolor\": \"white\", \"landcolor\": \"#E5ECF6\", \"showlakes\": true, \"showland\": true, \"subunitcolor\": \"white\"}, \"hoverlabel\": {\"align\": \"left\"}, \"hovermode\": \"closest\", \"mapbox\": {\"style\": \"light\"}, \"paper_bgcolor\": \"white\", \"plot_bgcolor\": \"#E5ECF6\", \"polar\": {\"angularaxis\": {\"gridcolor\": \"white\", \"linecolor\": \"white\", \"ticks\": \"\"}, \"bgcolor\": \"#E5ECF6\", \"radialaxis\": {\"gridcolor\": \"white\", \"linecolor\": \"white\", \"ticks\": \"\"}}, \"scene\": {\"xaxis\": {\"backgroundcolor\": \"#E5ECF6\", \"gridcolor\": \"white\", \"gridwidth\": 2, \"linecolor\": \"white\", \"showbackground\": true, \"ticks\": \"\", \"zerolinecolor\": \"white\"}, \"yaxis\": {\"backgroundcolor\": \"#E5ECF6\", \"gridcolor\": \"white\", \"gridwidth\": 2, \"linecolor\": \"white\", \"showbackground\": true, \"ticks\": \"\", \"zerolinecolor\": \"white\"}, \"zaxis\": {\"backgroundcolor\": \"#E5ECF6\", \"gridcolor\": \"white\", \"gridwidth\": 2, \"linecolor\": \"white\", \"showbackground\": true, \"ticks\": \"\", \"zerolinecolor\": \"white\"}}, \"shapedefaults\": {\"line\": {\"color\": \"#2a3f5f\"}}, \"ternary\": {\"aaxis\": {\"gridcolor\": \"white\", \"linecolor\": \"white\", \"ticks\": \"\"}, \"baxis\": {\"gridcolor\": \"white\", \"linecolor\": \"white\", \"ticks\": \"\"}, \"bgcolor\": \"#E5ECF6\", \"caxis\": {\"gridcolor\": \"white\", \"linecolor\": \"white\", \"ticks\": \"\"}}, \"title\": {\"x\": 0.05}, \"xaxis\": {\"automargin\": true, \"gridcolor\": \"white\", \"linecolor\": \"white\", \"ticks\": \"\", \"title\": {\"standoff\": 15}, \"zerolinecolor\": \"white\", \"zerolinewidth\": 2}, \"yaxis\": {\"automargin\": true, \"gridcolor\": \"white\", \"linecolor\": \"white\", \"ticks\": \"\", \"title\": {\"standoff\": 15}, \"zerolinecolor\": \"white\", \"zerolinewidth\": 2}}}, \"width\": 800, \"xaxis\": {\"anchor\": \"y\", \"domain\": [0.0, 0.45]}, \"xaxis2\": {\"anchor\": \"y2\", \"domain\": [0.55, 1.0]}, \"xaxis3\": {\"anchor\": \"y3\", \"domain\": [0.0, 0.45]}, \"xaxis4\": {\"anchor\": \"y4\", \"domain\": [0.55, 1.0]}, \"xaxis5\": {\"anchor\": \"y5\", \"domain\": [0.0, 0.45]}, \"xaxis6\": {\"anchor\": \"y6\", \"domain\": [0.55, 1.0]}, \"yaxis\": {\"anchor\": \"x\", \"domain\": [0.7333333333333334, 1.0]}, \"yaxis2\": {\"anchor\": \"x2\", \"domain\": [0.7333333333333334, 1.0]}, \"yaxis3\": {\"anchor\": \"x3\", \"domain\": [0.3666666666666667, 0.6333333333333333]}, \"yaxis4\": {\"anchor\": \"x4\", \"domain\": [0.3666666666666667, 0.6333333333333333]}, \"yaxis5\": {\"anchor\": \"x5\", \"domain\": [0.0, 0.26666666666666666], \"range\": [0, 100]}, \"yaxis6\": {\"anchor\": \"x6\", \"domain\": [0.0, 0.26666666666666666]}},\n",
       "                        {\"responsive\": true}\n",
       "                    ).then(function(){\n",
       "                            \n",
       "var gd = document.getElementById('7ce84932-5938-4c29-888e-f6624a05b665');\n",
       "var x = new MutationObserver(function (mutations, observer) {{\n",
       "        var display = window.getComputedStyle(gd).display;\n",
       "        if (!display || display === 'none') {{\n",
       "            console.log([gd, 'removed!']);\n",
       "            Plotly.purge(gd);\n",
       "            observer.disconnect();\n",
       "        }}\n",
       "}});\n",
       "\n",
       "// Listen for the removal of the full notebook cells\n",
       "var notebookContainer = gd.closest('#notebook-container');\n",
       "if (notebookContainer) {{\n",
       "    x.observe(notebookContainer, {childList: true});\n",
       "}}\n",
       "\n",
       "// Listen for the clearing of the current output cell\n",
       "var outputEl = gd.closest('.output');\n",
       "if (outputEl) {{\n",
       "    x.observe(outputEl, {childList: true});\n",
       "}}\n",
       "\n",
       "                        })\n",
       "                };\n",
       "                });\n",
       "            </script>\n",
       "        </div>"
      ]
     },
     "metadata": {},
     "output_type": "display_data"
    }
   ],
   "source": [
    "# Fit function now with beta_i_fcn\n",
    "fcn_w_distancing = FitFcn(\n",
    "    sihr_step,\n",
    "    columns=[\"infected_new\", \"hospitalized_new\"],\n",
    "    beta_i_fcn=one_minus_logistic_fcn,\n",
    "    as_array=True,\n",
    "    drop_rows=[0],\n",
    ")\n",
    "\n",
    "# Copy prior from before but add social distancing parameters\n",
    "prior_w_distancing = prior.copy()\n",
    "# Maximal reduction of social distancing: R\n",
    "prior_w_distancing[\"ratio\"] = gvar(0.7, 0.3)\n",
    "# How many days to go from ~ r to 0.5r: Delta t\n",
    "prior_w_distancing[\"social_distance_halfing_days\"] = gvar(14, 7)\n",
    "# After how many days the measures hits 0.5r: t0\n",
    "prior_w_distancing[\"social_distance_delay\"] = gvar(14, 7)\n",
    "\n",
    "# Run the fit\n",
    "fit_w_distancing = nonlinear_fit(\n",
    "    data=(XX, YY), fcn=fcn_w_distancing, prior=prior_w_distancing\n",
    ")\n",
    "\n",
    "# Summarize the fit\n",
    "summarize_fit(fit_w_distancing)\n",
    "fig = plot_fits(fit_w_distancing, x=chd_df.index[1:])\n",
    "fig.show()"
   ]
  },
  {
   "cell_type": "markdown",
   "metadata": {},
   "source": [
    "## SIHR with social distancing policies & larger infected uncertainty"
   ]
  },
  {
   "cell_type": "markdown",
   "metadata": {},
   "source": [
    "It is likely that the number of known cases (infections) is significantly underestimated.\n",
    "How does the fit change if we blow up the uncertainty of `infected_new` by 300% of it's mean value?"
   ]
  },
  {
   "cell_type": "code",
   "execution_count": 13,
   "metadata": {},
   "outputs": [],
   "source": [
    "infected_new = chd_df[\"infected_new\"].values\n",
    "hospitalized_new = chd_df[\"hospitalized_new\"].values\n",
    "\n",
    "# This assumes that there is a 300% uncertainty in the number of infected people\n",
    "## And at least 300 (if the number is small to not emphasize early measurments too much)\n",
    "delta_infected_new = [max(300, infected * 3) for infected in infected_new]\n",
    "\n",
    "# This assumes that there is a 10% uncertainty in the number of hospitalized people with a minimum of 50\n",
    "delta_hospitalized_new = [hospitalized * 0.15 for hospitalized in hospitalized_new]\n",
    "\n",
    "YY_larger_I = gvar(\n",
    "    [infected_new, hospitalized_new], [delta_infected_new, delta_hospitalized_new]\n",
    ").T"
   ]
  },
  {
   "cell_type": "code",
   "execution_count": 14,
   "metadata": {
    "scrolled": false
   },
   "outputs": [
    {
     "name": "stdout",
     "output_type": "stream",
     "text": [
      "Legend:\n",
      "- I(0): initial_infected\n",
      "- t2(0): inital_doubling_time\n",
      "- Recovery I: recovery_days_i\n",
      "- Recovery H: recovery_days_h\n",
      "- R: ratio\n",
      "- w sd: social_distance_halfing_days\n",
      "- dt sd: social_distance_delay \n",
      "\n",
      "Least Square Fit:\n",
      "  chi2/dof [dof] = 0.41 [26]    Q = 1    logGBF = -225.92\n",
      "\n",
      "Parameters:\n",
      "        inital_doubling_time    0.85 (38)     [     5.0 (2.0) ]  **\n",
      "             recovery_days_i   13.8 (5.0)     [    14.0 (5.0) ]  \n",
      "             recovery_days_h   14.0 (5.0)     [    14.0 (5.0) ]  \n",
      "            initial_infected    150 (135)     [ 10000 (20000) ]  \n",
      "                      beta_h    0.32 (28)     [     0.10 (50) ]  \n",
      "                       ratio    0.80 (19)     [     0.70 (30) ]  \n",
      "social_distance_halfing_days    5.3 (3.4)     [    14.0 (7.0) ]  *\n",
      "       social_distance_delay    7.5 (4.3)     [    14.0 (7.0) ]  \n",
      "\n",
      "Settings:\n",
      "  svdcut/n = 1e-12/0    tol = (1e-08,1e-10,1e-10*)    (itns/time = 59/0.5)\n",
      "  fitter = scipy_least_squares    method = trf\n",
      " \n",
      "------- \n",
      "Result: \n",
      "------- \n",
      "\n",
      " Values:\n",
      "             beta_h: 0.32(28)            \n",
      "               I(0): 150(135)            \n",
      "              t2(0): 0.85(38)            \n",
      "         Recovery I: 13.8(5.0)           \n",
      "         Recovery H: 14.0(5.0)           \n",
      "                  R: 0.80(19)            \n",
      "               w sd: 5.3(3.4)            \n",
      "              dt sd: 7.5(4.3)            \n",
      " \n",
      " \n",
      "------------- \n",
      "Error budget: \n",
      "------------- \n",
      "\n",
      " Partial Errors:\n",
      "                beta_h       I(0)      t2(0) Recovery I Recovery H          R       w sd      dt sd\n",
      "---------------------------------------------------------------------------------------------------\n",
      "      Data:       0.21     100.78       0.24       0.29       0.00       0.11       1.99       2.73\n",
      "    beta_h:       0.16      75.52       0.12       0.03       0.00       0.05       0.44       0.38\n",
      "      I(0):       0.00       0.91       0.00       0.00       0.00       0.00       0.01       0.01\n",
      "     t2(0):       0.03      15.32       0.07       0.03       0.00       0.01       0.53       0.68\n",
      "Recovery I:       0.00       1.57       0.01       4.96       0.00       0.02       0.15       0.11\n",
      "Recovery H:       0.00       0.00       0.00       0.00       5.00       0.00       0.00       0.00\n",
      "         R:       0.08      38.44       0.08       0.29       0.00       0.12       1.54       1.16\n",
      "      w sd:       0.03      15.50       0.15       0.10       0.00       0.07       1.64       1.40\n",
      "     dt sd:       0.03      16.95       0.19       0.08       0.00       0.05       1.40       2.59\n",
      "---------------------------------------------------------------------------------------------------\n",
      "     total:       0.28     134.55       0.38       4.98       5.00       0.19       3.39       4.26\n",
      "\n"
     ]
    },
    {
     "data": {
      "application/vnd.plotly.v1+json": {
       "config": {
        "plotlyServerURL": "https://plot.ly"
       },
       "data": [
        {
         "error_y": {
          "array": [
           300,
           687,
           2931,
           5004,
           13476,
           19398,
           18129,
           16299,
           23796,
           25143,
           17421,
           26655,
           27306
          ]
         },
         "line": {
          "color": "#1f77b4"
         },
         "mode": "markers+lines",
         "name": "Data",
         "showlegend": true,
         "type": "scatter",
         "x": [
          "2020-03-10T00:00:00",
          "2020-03-12T00:00:00",
          "2020-03-14T00:00:00",
          "2020-03-16T00:00:00",
          "2020-03-18T00:00:00",
          "2020-03-20T00:00:00",
          "2020-03-22T00:00:00",
          "2020-03-24T00:00:00",
          "2020-03-26T00:00:00",
          "2020-03-28T00:00:00",
          "2020-03-30T00:00:00",
          "2020-04-01T00:00:00"
         ],
         "xaxis": "x",
         "y": [
          73,
          229,
          977,
          1668,
          4492,
          6466,
          6043,
          5433,
          7932,
          8381,
          5807,
          8885,
          9102
         ],
         "yaxis": "y"
        },
        {
         "line": {
          "color": "#bcbd22",
          "shape": "spline"
         },
         "mode": "lines",
         "showlegend": false,
         "type": "scatter",
         "x": [
          "2020-03-10T00:00:00",
          "2020-03-12T00:00:00",
          "2020-03-14T00:00:00",
          "2020-03-16T00:00:00",
          "2020-03-18T00:00:00",
          "2020-03-20T00:00:00",
          "2020-03-22T00:00:00",
          "2020-03-24T00:00:00",
          "2020-03-26T00:00:00",
          "2020-03-28T00:00:00",
          "2020-03-30T00:00:00",
          "2020-04-01T00:00:00"
         ],
         "xaxis": "x",
         "y": [
          68.54413087109143,
          135.0789591294921,
          249.69861705576102,
          432.8994587359124,
          702.848729635889,
          1063.3786828729174,
          1484.4176127716235,
          1897.249008951739,
          2225.4962221027877,
          2414.5877935748485,
          2414.2306328143773,
          2170.429905662244,
          1709.4437017625928
         ],
         "yaxis": "y"
        },
        {
         "fill": "tonexty",
         "fillcolor": "rgba(188,189,34,0.5)",
         "line": {
          "color": "#bcbd22",
          "shape": "spline"
         },
         "mode": "lines",
         "name": "Fit",
         "showlegend": true,
         "type": "scatter",
         "x": [
          "2020-03-10T00:00:00",
          "2020-03-12T00:00:00",
          "2020-03-14T00:00:00",
          "2020-03-16T00:00:00",
          "2020-03-18T00:00:00",
          "2020-03-20T00:00:00",
          "2020-03-22T00:00:00",
          "2020-03-24T00:00:00",
          "2020-03-26T00:00:00",
          "2020-03-28T00:00:00",
          "2020-03-30T00:00:00",
          "2020-04-01T00:00:00"
         ],
         "xaxis": "x",
         "y": [
          379.06687692776495,
          715.6265873257116,
          1264.1477696227294,
          2055.5274093524627,
          3034.1825670650555,
          4033.607436000025,
          4835.598078710302,
          5285.341697508797,
          5359.000699931141,
          5148.27749858982,
          4819.872337879691,
          4555.33631270454,
          4428.739920388367
         ],
         "yaxis": "y"
        },
        {
         "error_y": {
          "array": [
           300,
           687,
           2931,
           5004,
           13476,
           19398,
           18129,
           16299,
           23796,
           25143,
           17421,
           26655,
           27306
          ]
         },
         "line": {
          "color": "#1f77b4"
         },
         "mode": "markers+lines",
         "name": "Data",
         "showlegend": false,
         "type": "scatter",
         "x": [
          "2020-03-10T00:00:00",
          "2020-03-12T00:00:00",
          "2020-03-14T00:00:00",
          "2020-03-16T00:00:00",
          "2020-03-18T00:00:00",
          "2020-03-20T00:00:00",
          "2020-03-22T00:00:00",
          "2020-03-24T00:00:00",
          "2020-03-26T00:00:00",
          "2020-03-28T00:00:00",
          "2020-03-30T00:00:00",
          "2020-04-01T00:00:00"
         ],
         "xaxis": "x",
         "y": [
          73,
          229,
          977,
          1668,
          4492,
          6466,
          6043,
          5433,
          7932,
          8381,
          5807,
          8885,
          9102
         ],
         "yaxis": "y"
        },
        {
         "error_y": {
          "array": [
           256.6980834469848,
           622.6637237296989,
           2886.777481763019,
           4937.791574526965,
           13425.49055471026,
           19341.06613629466,
           18051.399900594344,
           16210.725091230077,
           23744.365719510326,
           25105.81972669233,
           17379.426428875973,
           26628.313509447264,
           27272.128501802745
          ]
         },
         "line": {
          "color": "#2ca02c"
         },
         "mode": "markers+lines",
         "name": "Residual",
         "showlegend": false,
         "type": "scatter",
         "x": [
          "2020-03-10T00:00:00",
          "2020-03-12T00:00:00",
          "2020-03-14T00:00:00",
          "2020-03-16T00:00:00",
          "2020-03-18T00:00:00",
          "2020-03-20T00:00:00",
          "2020-03-22T00:00:00",
          "2020-03-24T00:00:00",
          "2020-03-26T00:00:00",
          "2020-03-28T00:00:00",
          "2020-03-30T00:00:00",
          "2020-04-01T00:00:00"
         ],
         "xaxis": "x3",
         "y": [
          -150,
          -196,
          220,
          423,
          2623,
          3917,
          2882,
          1841,
          4139,
          4599,
          2189,
          5522,
          6032
         ],
         "yaxis": "y3"
        },
        {
         "line": {
          "color": "black"
         },
         "mode": "lines",
         "showlegend": false,
         "type": "scatter",
         "x": [
          "2020-03-10T00:00:00",
          "2020-03-12T00:00:00",
          "2020-03-14T00:00:00",
          "2020-03-16T00:00:00",
          "2020-03-18T00:00:00",
          "2020-03-20T00:00:00",
          "2020-03-22T00:00:00",
          "2020-03-24T00:00:00",
          "2020-03-26T00:00:00",
          "2020-03-28T00:00:00",
          "2020-03-30T00:00:00",
          "2020-04-01T00:00:00"
         ],
         "xaxis": "x3",
         "y": [
          0,
          0,
          0,
          0,
          0,
          0,
          0,
          0,
          0,
          0,
          0,
          0,
          0
         ],
         "yaxis": "y3"
        },
        {
         "error_y": {
          "array": [
           6.45,
           16.349999999999998,
           29.7,
           50.4,
           96.89999999999999,
           139.2,
           179.4,
           240.45,
           320.4,
           367.2,
           342.3,
           391.5,
           355.5
          ]
         },
         "line": {
          "color": "#1f77b4"
         },
         "mode": "markers+lines",
         "name": "Data",
         "showlegend": false,
         "type": "scatter",
         "x": [
          "2020-03-10T00:00:00",
          "2020-03-12T00:00:00",
          "2020-03-14T00:00:00",
          "2020-03-16T00:00:00",
          "2020-03-18T00:00:00",
          "2020-03-20T00:00:00",
          "2020-03-22T00:00:00",
          "2020-03-24T00:00:00",
          "2020-03-26T00:00:00",
          "2020-03-28T00:00:00",
          "2020-03-30T00:00:00",
          "2020-04-01T00:00:00"
         ],
         "xaxis": "x2",
         "y": [
          43,
          109,
          198,
          336,
          646,
          928,
          1196,
          1603,
          2136,
          2448,
          2282,
          2610,
          2370
         ],
         "yaxis": "y2"
        },
        {
         "line": {
          "color": "#bcbd22",
          "shape": "spline"
         },
         "mode": "lines",
         "showlegend": false,
         "type": "scatter",
         "x": [
          "2020-03-10T00:00:00",
          "2020-03-12T00:00:00",
          "2020-03-14T00:00:00",
          "2020-03-16T00:00:00",
          "2020-03-18T00:00:00",
          "2020-03-20T00:00:00",
          "2020-03-22T00:00:00",
          "2020-03-24T00:00:00",
          "2020-03-26T00:00:00",
          "2020-03-28T00:00:00",
          "2020-03-30T00:00:00",
          "2020-04-01T00:00:00"
         ],
         "xaxis": "x2",
         "y": [
          42.31387044078957,
          89.17260726804251,
          173.45313119183228,
          316.00918861549184,
          536.6412988477621,
          840.6946762173593,
          1208.1030570961764,
          1587.2930428300535,
          1909.9336780409672,
          2135.53817182515,
          2261.216876830855,
          2267.4281977742994,
          2096.9985037897195
         ],
         "yaxis": "y2"
        },
        {
         "fill": "tonexty",
         "fillcolor": "rgba(188,189,34,0.5)",
         "line": {
          "color": "#bcbd22",
          "shape": "spline"
         },
         "mode": "lines",
         "name": "Fit",
         "showlegend": false,
         "type": "scatter",
         "x": [
          "2020-03-10T00:00:00",
          "2020-03-12T00:00:00",
          "2020-03-14T00:00:00",
          "2020-03-16T00:00:00",
          "2020-03-18T00:00:00",
          "2020-03-20T00:00:00",
          "2020-03-22T00:00:00",
          "2020-03-24T00:00:00",
          "2020-03-26T00:00:00",
          "2020-03-28T00:00:00",
          "2020-03-30T00:00:00",
          "2020-04-01T00:00:00"
         ],
         "xaxis": "x2",
         "y": [
          53.37682322896863,
          104.84369751372604,
          201.80850367025639,
          367.8870470503402,
          623.5330432280805,
          973.0920399391855,
          1389.9955581712277,
          1821.6611315191465,
          2209.264704568865,
          2493.0850273141123,
          2634.0391824971316,
          2666.227020597832,
          2695.2863921492426
         ],
         "yaxis": "y2"
        },
        {
         "error_y": {
          "array": [
           6.45,
           16.349999999999998,
           29.7,
           50.4,
           96.89999999999999,
           139.2,
           179.4,
           240.45,
           320.4,
           367.2,
           342.3,
           391.5,
           355.5
          ]
         },
         "line": {
          "color": "#1f77b4"
         },
         "mode": "markers+lines",
         "name": "Data",
         "showlegend": false,
         "type": "scatter",
         "x": [
          "2020-03-10T00:00:00",
          "2020-03-12T00:00:00",
          "2020-03-14T00:00:00",
          "2020-03-16T00:00:00",
          "2020-03-18T00:00:00",
          "2020-03-20T00:00:00",
          "2020-03-22T00:00:00",
          "2020-03-24T00:00:00",
          "2020-03-26T00:00:00",
          "2020-03-28T00:00:00",
          "2020-03-30T00:00:00",
          "2020-04-01T00:00:00"
         ],
         "xaxis": "x2",
         "y": [
          43,
          109,
          198,
          336,
          646,
          928,
          1196,
          1603,
          2136,
          2448,
          2282,
          2610,
          2370
         ],
         "yaxis": "y2"
        },
        {
         "error_y": {
          "array": [
           3.317419012069365,
           14.350147477566914,
           26.097571015373205,
           43.21263647422439,
           86.61446870839093,
           122.45151905909026,
           154.63873872082033,
           209.96214480484727,
           283.2955949876977,
           320.7427341850237,
           287.0891361570853,
           336.9156047567768,
           192.07589817715348
          ]
         },
         "line": {
          "color": "#2ca02c"
         },
         "mode": "markers+lines",
         "name": "Residual",
         "showlegend": false,
         "type": "scatter",
         "x": [
          "2020-03-10T00:00:00",
          "2020-03-12T00:00:00",
          "2020-03-14T00:00:00",
          "2020-03-16T00:00:00",
          "2020-03-18T00:00:00",
          "2020-03-20T00:00:00",
          "2020-03-22T00:00:00",
          "2020-03-24T00:00:00",
          "2020-03-26T00:00:00",
          "2020-03-28T00:00:00",
          "2020-03-30T00:00:00",
          "2020-04-01T00:00:00"
         ],
         "xaxis": "x4",
         "y": [
          -4,
          11,
          10,
          -5,
          65,
          21,
          -103,
          -101,
          76,
          133,
          -165,
          143,
          -26
         ],
         "yaxis": "y4"
        },
        {
         "line": {
          "color": "black"
         },
         "mode": "lines",
         "showlegend": false,
         "type": "scatter",
         "x": [
          "2020-03-10T00:00:00",
          "2020-03-12T00:00:00",
          "2020-03-14T00:00:00",
          "2020-03-16T00:00:00",
          "2020-03-18T00:00:00",
          "2020-03-20T00:00:00",
          "2020-03-22T00:00:00",
          "2020-03-24T00:00:00",
          "2020-03-26T00:00:00",
          "2020-03-28T00:00:00",
          "2020-03-30T00:00:00",
          "2020-04-01T00:00:00"
         ],
         "xaxis": "x4",
         "y": [
          0,
          0,
          0,
          0,
          0,
          0,
          0,
          0,
          0,
          0,
          0,
          0,
          0
         ],
         "yaxis": "y4"
        },
        {
         "line": {
          "color": "#bcbd22",
          "shape": "spline"
         },
         "mode": "lines",
         "showlegend": false,
         "type": "scatter",
         "x": [
          "2020-03-10T00:00:00",
          "2020-03-12T00:00:00",
          "2020-03-14T00:00:00",
          "2020-03-16T00:00:00",
          "2020-03-18T00:00:00",
          "2020-03-20T00:00:00",
          "2020-03-22T00:00:00",
          "2020-03-24T00:00:00",
          "2020-03-26T00:00:00",
          "2020-03-28T00:00:00",
          "2020-03-30T00:00:00",
          "2020-04-01T00:00:00"
         ],
         "xaxis": "x5",
         "y": [
          62.156647778056765,
          54.93993709727625,
          48.09011722242632,
          42.02161687056474,
          36.82309166080695,
          32.24671777153935,
          27.94334890879074,
          23.755340517950263,
          19.77960714951857,
          16.183154802888772,
          13.054899822670981,
          10.408210541918757,
          8.222133875549275,
          6.458478622350732
         ],
         "yaxis": "y5"
        },
        {
         "fill": "tonexty",
         "fillcolor": "rgba(188,189,34,0.5)",
         "line": {
          "color": "#bcbd22",
          "shape": "spline"
         },
         "mode": "lines",
         "showlegend": false,
         "type": "scatter",
         "x": [
          "2020-03-10T00:00:00",
          "2020-03-12T00:00:00",
          "2020-03-14T00:00:00",
          "2020-03-16T00:00:00",
          "2020-03-18T00:00:00",
          "2020-03-20T00:00:00",
          "2020-03-22T00:00:00",
          "2020-03-24T00:00:00",
          "2020-03-26T00:00:00",
          "2020-03-28T00:00:00",
          "2020-03-30T00:00:00",
          "2020-04-01T00:00:00"
         ],
         "xaxis": "x5",
         "y": [
          100,
          100,
          97.52269194348474,
          89.32679779780554,
          79.4706896706228,
          69.2319239735313,
          59.926265555071936,
          52.381682341616994,
          46.783198276886395,
          42.910920417597005,
          40.41508612877705,
          38.938353861480174,
          38.16008810599648,
          37.82264523541315
         ],
         "yaxis": "y5"
        },
        {
         "line": {
          "color": "#bcbd22",
          "shape": "spline"
         },
         "mode": "lines",
         "showlegend": false,
         "type": "scatter",
         "x": [
          "2020-03-10T00:00:00",
          "2020-03-12T00:00:00",
          "2020-03-14T00:00:00",
          "2020-03-16T00:00:00",
          "2020-03-18T00:00:00",
          "2020-03-20T00:00:00",
          "2020-03-22T00:00:00",
          "2020-03-24T00:00:00",
          "2020-03-26T00:00:00",
          "2020-03-28T00:00:00",
          "2020-03-30T00:00:00",
          "2020-04-01T00:00:00"
         ],
         "xaxis": "x6",
         "y": [
          127.67920321035682,
          196.45028462307735,
          339.68219522214093,
          603.4298704258667,
          1045.787453872708,
          1720.3074740396867,
          2649.5068139348846,
          3799.7815826834,
          5074.866515514759,
          6346.221232305987,
          7498.389033806372,
          8444.422412275067,
          9112.116638820067
         ],
         "yaxis": "y6"
        },
        {
         "fill": "tonexty",
         "fillcolor": "rgba(188,189,34,0.5)",
         "line": {
          "color": "#bcbd22",
          "shape": "spline"
         },
         "mode": "lines",
         "showlegend": false,
         "type": "scatter",
         "x": [
          "2020-03-10T00:00:00",
          "2020-03-12T00:00:00",
          "2020-03-14T00:00:00",
          "2020-03-16T00:00:00",
          "2020-03-18T00:00:00",
          "2020-03-20T00:00:00",
          "2020-03-22T00:00:00",
          "2020-03-24T00:00:00",
          "2020-03-26T00:00:00",
          "2020-03-28T00:00:00",
          "2020-03-30T00:00:00",
          "2020-04-01T00:00:00"
         ],
         "xaxis": "x6",
         "y": [
          142.86863331654425,
          229.4641657531778,
          400.6489685338806,
          715.0359341736983,
          1244.500435002761,
          2056.5831468672595,
          3185.92661925276,
          4610.972677255208,
          6253.549804185308,
          7992.47309800477,
          9687.176451502259,
          11219.717507790177,
          12535.145331460537
         ],
         "yaxis": "y6"
        }
       ],
       "layout": {
        "annotations": [
         {
          "font": {
           "size": 16
          },
          "showarrow": false,
          "text": "Infected new",
          "x": 0.225,
          "xanchor": "center",
          "xref": "paper",
          "y": 1,
          "yanchor": "bottom",
          "yref": "paper"
         },
         {
          "font": {
           "size": 16
          },
          "showarrow": false,
          "text": "Hospitalized new",
          "x": 0.775,
          "xanchor": "center",
          "xref": "paper",
          "y": 1,
          "yanchor": "bottom",
          "yref": "paper"
         },
         {
          "font": {
           "size": 16
          },
          "showarrow": false,
          "text": "Infected new residual",
          "x": 0.225,
          "xanchor": "center",
          "xref": "paper",
          "y": 0.6333333333333333,
          "yanchor": "bottom",
          "yref": "paper"
         },
         {
          "font": {
           "size": 16
          },
          "showarrow": false,
          "text": "Hospitalized new residual",
          "x": 0.775,
          "xanchor": "center",
          "xref": "paper",
          "y": 0.6333333333333333,
          "yanchor": "bottom",
          "yref": "paper"
         },
         {
          "font": {
           "size": 16
          },
          "showarrow": false,
          "text": "Social distance [%]",
          "x": 0.225,
          "xanchor": "center",
          "xref": "paper",
          "y": 0.26666666666666666,
          "yanchor": "bottom",
          "yref": "paper"
         },
         {
          "font": {
           "size": 16
          },
          "showarrow": false,
          "text": "Total admissions",
          "x": 0.775,
          "xanchor": "center",
          "xref": "paper",
          "y": 0.26666666666666666,
          "yanchor": "bottom",
          "yref": "paper"
         }
        ],
        "height": 1200,
        "template": {
         "data": {
          "bar": [
           {
            "error_x": {
             "color": "#2a3f5f"
            },
            "error_y": {
             "color": "#2a3f5f"
            },
            "marker": {
             "line": {
              "color": "#E5ECF6",
              "width": 0.5
             }
            },
            "type": "bar"
           }
          ],
          "barpolar": [
           {
            "marker": {
             "line": {
              "color": "#E5ECF6",
              "width": 0.5
             }
            },
            "type": "barpolar"
           }
          ],
          "carpet": [
           {
            "aaxis": {
             "endlinecolor": "#2a3f5f",
             "gridcolor": "white",
             "linecolor": "white",
             "minorgridcolor": "white",
             "startlinecolor": "#2a3f5f"
            },
            "baxis": {
             "endlinecolor": "#2a3f5f",
             "gridcolor": "white",
             "linecolor": "white",
             "minorgridcolor": "white",
             "startlinecolor": "#2a3f5f"
            },
            "type": "carpet"
           }
          ],
          "choropleth": [
           {
            "colorbar": {
             "outlinewidth": 0,
             "ticks": ""
            },
            "type": "choropleth"
           }
          ],
          "contour": [
           {
            "colorbar": {
             "outlinewidth": 0,
             "ticks": ""
            },
            "colorscale": [
             [
              0,
              "#0d0887"
             ],
             [
              0.1111111111111111,
              "#46039f"
             ],
             [
              0.2222222222222222,
              "#7201a8"
             ],
             [
              0.3333333333333333,
              "#9c179e"
             ],
             [
              0.4444444444444444,
              "#bd3786"
             ],
             [
              0.5555555555555556,
              "#d8576b"
             ],
             [
              0.6666666666666666,
              "#ed7953"
             ],
             [
              0.7777777777777778,
              "#fb9f3a"
             ],
             [
              0.8888888888888888,
              "#fdca26"
             ],
             [
              1,
              "#f0f921"
             ]
            ],
            "type": "contour"
           }
          ],
          "contourcarpet": [
           {
            "colorbar": {
             "outlinewidth": 0,
             "ticks": ""
            },
            "type": "contourcarpet"
           }
          ],
          "heatmap": [
           {
            "colorbar": {
             "outlinewidth": 0,
             "ticks": ""
            },
            "colorscale": [
             [
              0,
              "#0d0887"
             ],
             [
              0.1111111111111111,
              "#46039f"
             ],
             [
              0.2222222222222222,
              "#7201a8"
             ],
             [
              0.3333333333333333,
              "#9c179e"
             ],
             [
              0.4444444444444444,
              "#bd3786"
             ],
             [
              0.5555555555555556,
              "#d8576b"
             ],
             [
              0.6666666666666666,
              "#ed7953"
             ],
             [
              0.7777777777777778,
              "#fb9f3a"
             ],
             [
              0.8888888888888888,
              "#fdca26"
             ],
             [
              1,
              "#f0f921"
             ]
            ],
            "type": "heatmap"
           }
          ],
          "heatmapgl": [
           {
            "colorbar": {
             "outlinewidth": 0,
             "ticks": ""
            },
            "colorscale": [
             [
              0,
              "#0d0887"
             ],
             [
              0.1111111111111111,
              "#46039f"
             ],
             [
              0.2222222222222222,
              "#7201a8"
             ],
             [
              0.3333333333333333,
              "#9c179e"
             ],
             [
              0.4444444444444444,
              "#bd3786"
             ],
             [
              0.5555555555555556,
              "#d8576b"
             ],
             [
              0.6666666666666666,
              "#ed7953"
             ],
             [
              0.7777777777777778,
              "#fb9f3a"
             ],
             [
              0.8888888888888888,
              "#fdca26"
             ],
             [
              1,
              "#f0f921"
             ]
            ],
            "type": "heatmapgl"
           }
          ],
          "histogram": [
           {
            "marker": {
             "colorbar": {
              "outlinewidth": 0,
              "ticks": ""
             }
            },
            "type": "histogram"
           }
          ],
          "histogram2d": [
           {
            "colorbar": {
             "outlinewidth": 0,
             "ticks": ""
            },
            "colorscale": [
             [
              0,
              "#0d0887"
             ],
             [
              0.1111111111111111,
              "#46039f"
             ],
             [
              0.2222222222222222,
              "#7201a8"
             ],
             [
              0.3333333333333333,
              "#9c179e"
             ],
             [
              0.4444444444444444,
              "#bd3786"
             ],
             [
              0.5555555555555556,
              "#d8576b"
             ],
             [
              0.6666666666666666,
              "#ed7953"
             ],
             [
              0.7777777777777778,
              "#fb9f3a"
             ],
             [
              0.8888888888888888,
              "#fdca26"
             ],
             [
              1,
              "#f0f921"
             ]
            ],
            "type": "histogram2d"
           }
          ],
          "histogram2dcontour": [
           {
            "colorbar": {
             "outlinewidth": 0,
             "ticks": ""
            },
            "colorscale": [
             [
              0,
              "#0d0887"
             ],
             [
              0.1111111111111111,
              "#46039f"
             ],
             [
              0.2222222222222222,
              "#7201a8"
             ],
             [
              0.3333333333333333,
              "#9c179e"
             ],
             [
              0.4444444444444444,
              "#bd3786"
             ],
             [
              0.5555555555555556,
              "#d8576b"
             ],
             [
              0.6666666666666666,
              "#ed7953"
             ],
             [
              0.7777777777777778,
              "#fb9f3a"
             ],
             [
              0.8888888888888888,
              "#fdca26"
             ],
             [
              1,
              "#f0f921"
             ]
            ],
            "type": "histogram2dcontour"
           }
          ],
          "mesh3d": [
           {
            "colorbar": {
             "outlinewidth": 0,
             "ticks": ""
            },
            "type": "mesh3d"
           }
          ],
          "parcoords": [
           {
            "line": {
             "colorbar": {
              "outlinewidth": 0,
              "ticks": ""
             }
            },
            "type": "parcoords"
           }
          ],
          "pie": [
           {
            "automargin": true,
            "type": "pie"
           }
          ],
          "scatter": [
           {
            "marker": {
             "colorbar": {
              "outlinewidth": 0,
              "ticks": ""
             }
            },
            "type": "scatter"
           }
          ],
          "scatter3d": [
           {
            "line": {
             "colorbar": {
              "outlinewidth": 0,
              "ticks": ""
             }
            },
            "marker": {
             "colorbar": {
              "outlinewidth": 0,
              "ticks": ""
             }
            },
            "type": "scatter3d"
           }
          ],
          "scattercarpet": [
           {
            "marker": {
             "colorbar": {
              "outlinewidth": 0,
              "ticks": ""
             }
            },
            "type": "scattercarpet"
           }
          ],
          "scattergeo": [
           {
            "marker": {
             "colorbar": {
              "outlinewidth": 0,
              "ticks": ""
             }
            },
            "type": "scattergeo"
           }
          ],
          "scattergl": [
           {
            "marker": {
             "colorbar": {
              "outlinewidth": 0,
              "ticks": ""
             }
            },
            "type": "scattergl"
           }
          ],
          "scattermapbox": [
           {
            "marker": {
             "colorbar": {
              "outlinewidth": 0,
              "ticks": ""
             }
            },
            "type": "scattermapbox"
           }
          ],
          "scatterpolar": [
           {
            "marker": {
             "colorbar": {
              "outlinewidth": 0,
              "ticks": ""
             }
            },
            "type": "scatterpolar"
           }
          ],
          "scatterpolargl": [
           {
            "marker": {
             "colorbar": {
              "outlinewidth": 0,
              "ticks": ""
             }
            },
            "type": "scatterpolargl"
           }
          ],
          "scatterternary": [
           {
            "marker": {
             "colorbar": {
              "outlinewidth": 0,
              "ticks": ""
             }
            },
            "type": "scatterternary"
           }
          ],
          "surface": [
           {
            "colorbar": {
             "outlinewidth": 0,
             "ticks": ""
            },
            "colorscale": [
             [
              0,
              "#0d0887"
             ],
             [
              0.1111111111111111,
              "#46039f"
             ],
             [
              0.2222222222222222,
              "#7201a8"
             ],
             [
              0.3333333333333333,
              "#9c179e"
             ],
             [
              0.4444444444444444,
              "#bd3786"
             ],
             [
              0.5555555555555556,
              "#d8576b"
             ],
             [
              0.6666666666666666,
              "#ed7953"
             ],
             [
              0.7777777777777778,
              "#fb9f3a"
             ],
             [
              0.8888888888888888,
              "#fdca26"
             ],
             [
              1,
              "#f0f921"
             ]
            ],
            "type": "surface"
           }
          ],
          "table": [
           {
            "cells": {
             "fill": {
              "color": "#EBF0F8"
             },
             "line": {
              "color": "white"
             }
            },
            "header": {
             "fill": {
              "color": "#C8D4E3"
             },
             "line": {
              "color": "white"
             }
            },
            "type": "table"
           }
          ]
         },
         "layout": {
          "annotationdefaults": {
           "arrowcolor": "#2a3f5f",
           "arrowhead": 0,
           "arrowwidth": 1
          },
          "coloraxis": {
           "colorbar": {
            "outlinewidth": 0,
            "ticks": ""
           }
          },
          "colorscale": {
           "diverging": [
            [
             0,
             "#8e0152"
            ],
            [
             0.1,
             "#c51b7d"
            ],
            [
             0.2,
             "#de77ae"
            ],
            [
             0.3,
             "#f1b6da"
            ],
            [
             0.4,
             "#fde0ef"
            ],
            [
             0.5,
             "#f7f7f7"
            ],
            [
             0.6,
             "#e6f5d0"
            ],
            [
             0.7,
             "#b8e186"
            ],
            [
             0.8,
             "#7fbc41"
            ],
            [
             0.9,
             "#4d9221"
            ],
            [
             1,
             "#276419"
            ]
           ],
           "sequential": [
            [
             0,
             "#0d0887"
            ],
            [
             0.1111111111111111,
             "#46039f"
            ],
            [
             0.2222222222222222,
             "#7201a8"
            ],
            [
             0.3333333333333333,
             "#9c179e"
            ],
            [
             0.4444444444444444,
             "#bd3786"
            ],
            [
             0.5555555555555556,
             "#d8576b"
            ],
            [
             0.6666666666666666,
             "#ed7953"
            ],
            [
             0.7777777777777778,
             "#fb9f3a"
            ],
            [
             0.8888888888888888,
             "#fdca26"
            ],
            [
             1,
             "#f0f921"
            ]
           ],
           "sequentialminus": [
            [
             0,
             "#0d0887"
            ],
            [
             0.1111111111111111,
             "#46039f"
            ],
            [
             0.2222222222222222,
             "#7201a8"
            ],
            [
             0.3333333333333333,
             "#9c179e"
            ],
            [
             0.4444444444444444,
             "#bd3786"
            ],
            [
             0.5555555555555556,
             "#d8576b"
            ],
            [
             0.6666666666666666,
             "#ed7953"
            ],
            [
             0.7777777777777778,
             "#fb9f3a"
            ],
            [
             0.8888888888888888,
             "#fdca26"
            ],
            [
             1,
             "#f0f921"
            ]
           ]
          },
          "colorway": [
           "#636efa",
           "#EF553B",
           "#00cc96",
           "#ab63fa",
           "#FFA15A",
           "#19d3f3",
           "#FF6692",
           "#B6E880",
           "#FF97FF",
           "#FECB52"
          ],
          "font": {
           "color": "#2a3f5f"
          },
          "geo": {
           "bgcolor": "white",
           "lakecolor": "white",
           "landcolor": "#E5ECF6",
           "showlakes": true,
           "showland": true,
           "subunitcolor": "white"
          },
          "hoverlabel": {
           "align": "left"
          },
          "hovermode": "closest",
          "mapbox": {
           "style": "light"
          },
          "paper_bgcolor": "white",
          "plot_bgcolor": "#E5ECF6",
          "polar": {
           "angularaxis": {
            "gridcolor": "white",
            "linecolor": "white",
            "ticks": ""
           },
           "bgcolor": "#E5ECF6",
           "radialaxis": {
            "gridcolor": "white",
            "linecolor": "white",
            "ticks": ""
           }
          },
          "scene": {
           "xaxis": {
            "backgroundcolor": "#E5ECF6",
            "gridcolor": "white",
            "gridwidth": 2,
            "linecolor": "white",
            "showbackground": true,
            "ticks": "",
            "zerolinecolor": "white"
           },
           "yaxis": {
            "backgroundcolor": "#E5ECF6",
            "gridcolor": "white",
            "gridwidth": 2,
            "linecolor": "white",
            "showbackground": true,
            "ticks": "",
            "zerolinecolor": "white"
           },
           "zaxis": {
            "backgroundcolor": "#E5ECF6",
            "gridcolor": "white",
            "gridwidth": 2,
            "linecolor": "white",
            "showbackground": true,
            "ticks": "",
            "zerolinecolor": "white"
           }
          },
          "shapedefaults": {
           "line": {
            "color": "#2a3f5f"
           }
          },
          "ternary": {
           "aaxis": {
            "gridcolor": "white",
            "linecolor": "white",
            "ticks": ""
           },
           "baxis": {
            "gridcolor": "white",
            "linecolor": "white",
            "ticks": ""
           },
           "bgcolor": "#E5ECF6",
           "caxis": {
            "gridcolor": "white",
            "linecolor": "white",
            "ticks": ""
           }
          },
          "title": {
           "x": 0.05
          },
          "xaxis": {
           "automargin": true,
           "gridcolor": "white",
           "linecolor": "white",
           "ticks": "",
           "title": {
            "standoff": 15
           },
           "zerolinecolor": "white",
           "zerolinewidth": 2
          },
          "yaxis": {
           "automargin": true,
           "gridcolor": "white",
           "linecolor": "white",
           "ticks": "",
           "title": {
            "standoff": 15
           },
           "zerolinecolor": "white",
           "zerolinewidth": 2
          }
         }
        },
        "width": 800,
        "xaxis": {
         "anchor": "y",
         "domain": [
          0,
          0.45
         ]
        },
        "xaxis2": {
         "anchor": "y2",
         "domain": [
          0.55,
          1
         ]
        },
        "xaxis3": {
         "anchor": "y3",
         "domain": [
          0,
          0.45
         ]
        },
        "xaxis4": {
         "anchor": "y4",
         "domain": [
          0.55,
          1
         ]
        },
        "xaxis5": {
         "anchor": "y5",
         "domain": [
          0,
          0.45
         ]
        },
        "xaxis6": {
         "anchor": "y6",
         "domain": [
          0.55,
          1
         ]
        },
        "yaxis": {
         "anchor": "x",
         "domain": [
          0.7333333333333334,
          1
         ]
        },
        "yaxis2": {
         "anchor": "x2",
         "domain": [
          0.7333333333333334,
          1
         ]
        },
        "yaxis3": {
         "anchor": "x3",
         "domain": [
          0.3666666666666667,
          0.6333333333333333
         ]
        },
        "yaxis4": {
         "anchor": "x4",
         "domain": [
          0.3666666666666667,
          0.6333333333333333
         ]
        },
        "yaxis5": {
         "anchor": "x5",
         "domain": [
          0,
          0.26666666666666666
         ],
         "range": [
          0,
          100
         ]
        },
        "yaxis6": {
         "anchor": "x6",
         "domain": [
          0,
          0.26666666666666666
         ]
        }
       }
      },
      "text/html": [
       "<div>\n",
       "        \n",
       "        \n",
       "            <div id=\"db8d916a-ac24-4999-810d-a4ba255e83be\" class=\"plotly-graph-div\" style=\"height:1200px; width:800px;\"></div>\n",
       "            <script type=\"text/javascript\">\n",
       "                require([\"plotly\"], function(Plotly) {\n",
       "                    window.PLOTLYENV=window.PLOTLYENV || {};\n",
       "                    \n",
       "                if (document.getElementById(\"db8d916a-ac24-4999-810d-a4ba255e83be\")) {\n",
       "                    Plotly.newPlot(\n",
       "                        'db8d916a-ac24-4999-810d-a4ba255e83be',\n",
       "                        [{\"error_y\": {\"array\": [300.0, 687.0, 2931.0, 5004.0, 13476.0, 19398.0, 18129.0, 16299.0, 23796.0, 25143.0, 17421.0, 26655.0, 27306.0]}, \"line\": {\"color\": \"#1f77b4\"}, \"mode\": \"markers+lines\", \"name\": \"Data\", \"showlegend\": true, \"type\": \"scatter\", \"x\": [\"2020-03-10T00:00:00\", \"2020-03-12T00:00:00\", \"2020-03-14T00:00:00\", \"2020-03-16T00:00:00\", \"2020-03-18T00:00:00\", \"2020-03-20T00:00:00\", \"2020-03-22T00:00:00\", \"2020-03-24T00:00:00\", \"2020-03-26T00:00:00\", \"2020-03-28T00:00:00\", \"2020-03-30T00:00:00\", \"2020-04-01T00:00:00\"], \"xaxis\": \"x\", \"y\": [73, 229, 977, 1668, 4492, 6466, 6043, 5433, 7932, 8381, 5807, 8885, 9102], \"yaxis\": \"y\"}, {\"line\": {\"color\": \"#bcbd22\", \"shape\": \"spline\"}, \"mode\": \"lines\", \"showlegend\": false, \"type\": \"scatter\", \"x\": [\"2020-03-10T00:00:00\", \"2020-03-12T00:00:00\", \"2020-03-14T00:00:00\", \"2020-03-16T00:00:00\", \"2020-03-18T00:00:00\", \"2020-03-20T00:00:00\", \"2020-03-22T00:00:00\", \"2020-03-24T00:00:00\", \"2020-03-26T00:00:00\", \"2020-03-28T00:00:00\", \"2020-03-30T00:00:00\", \"2020-04-01T00:00:00\"], \"xaxis\": \"x\", \"y\": [68.54413087109143, 135.0789591294921, 249.69861705576102, 432.8994587359124, 702.848729635889, 1063.3786828729174, 1484.4176127716235, 1897.249008951739, 2225.4962221027877, 2414.5877935748485, 2414.2306328143773, 2170.429905662244, 1709.4437017625928], \"yaxis\": \"y\"}, {\"fill\": \"tonexty\", \"fillcolor\": \"rgba(188,189,34,0.5)\", \"line\": {\"color\": \"#bcbd22\", \"shape\": \"spline\"}, \"mode\": \"lines\", \"name\": \"Fit\", \"showlegend\": true, \"type\": \"scatter\", \"x\": [\"2020-03-10T00:00:00\", \"2020-03-12T00:00:00\", \"2020-03-14T00:00:00\", \"2020-03-16T00:00:00\", \"2020-03-18T00:00:00\", \"2020-03-20T00:00:00\", \"2020-03-22T00:00:00\", \"2020-03-24T00:00:00\", \"2020-03-26T00:00:00\", \"2020-03-28T00:00:00\", \"2020-03-30T00:00:00\", \"2020-04-01T00:00:00\"], \"xaxis\": \"x\", \"y\": [379.06687692776495, 715.6265873257116, 1264.1477696227294, 2055.5274093524627, 3034.1825670650555, 4033.607436000025, 4835.598078710302, 5285.341697508797, 5359.000699931141, 5148.27749858982, 4819.872337879691, 4555.33631270454, 4428.739920388367], \"yaxis\": \"y\"}, {\"error_y\": {\"array\": [300.0, 687.0, 2931.0, 5004.0, 13476.0, 19398.0, 18129.0, 16299.0, 23796.0, 25143.0, 17421.0, 26655.0, 27306.0]}, \"line\": {\"color\": \"#1f77b4\"}, \"mode\": \"markers+lines\", \"name\": \"Data\", \"showlegend\": false, \"type\": \"scatter\", \"x\": [\"2020-03-10T00:00:00\", \"2020-03-12T00:00:00\", \"2020-03-14T00:00:00\", \"2020-03-16T00:00:00\", \"2020-03-18T00:00:00\", \"2020-03-20T00:00:00\", \"2020-03-22T00:00:00\", \"2020-03-24T00:00:00\", \"2020-03-26T00:00:00\", \"2020-03-28T00:00:00\", \"2020-03-30T00:00:00\", \"2020-04-01T00:00:00\"], \"xaxis\": \"x\", \"y\": [73, 229, 977, 1668, 4492, 6466, 6043, 5433, 7932, 8381, 5807, 8885, 9102], \"yaxis\": \"y\"}, {\"error_y\": {\"array\": [256.6980834469848, 622.6637237296989, 2886.777481763019, 4937.791574526965, 13425.49055471026, 19341.06613629466, 18051.399900594344, 16210.725091230077, 23744.365719510326, 25105.81972669233, 17379.426428875973, 26628.313509447264, 27272.128501802745]}, \"line\": {\"color\": \"#2ca02c\"}, \"mode\": \"markers+lines\", \"name\": \"Residual\", \"showlegend\": false, \"type\": \"scatter\", \"x\": [\"2020-03-10T00:00:00\", \"2020-03-12T00:00:00\", \"2020-03-14T00:00:00\", \"2020-03-16T00:00:00\", \"2020-03-18T00:00:00\", \"2020-03-20T00:00:00\", \"2020-03-22T00:00:00\", \"2020-03-24T00:00:00\", \"2020-03-26T00:00:00\", \"2020-03-28T00:00:00\", \"2020-03-30T00:00:00\", \"2020-04-01T00:00:00\"], \"xaxis\": \"x3\", \"y\": [-150, -196, 220, 423, 2623, 3917, 2882, 1841, 4139, 4599, 2189, 5522, 6032], \"yaxis\": \"y3\"}, {\"line\": {\"color\": \"black\"}, \"mode\": \"lines\", \"showlegend\": false, \"type\": \"scatter\", \"x\": [\"2020-03-10T00:00:00\", \"2020-03-12T00:00:00\", \"2020-03-14T00:00:00\", \"2020-03-16T00:00:00\", \"2020-03-18T00:00:00\", \"2020-03-20T00:00:00\", \"2020-03-22T00:00:00\", \"2020-03-24T00:00:00\", \"2020-03-26T00:00:00\", \"2020-03-28T00:00:00\", \"2020-03-30T00:00:00\", \"2020-04-01T00:00:00\"], \"xaxis\": \"x3\", \"y\": [0, 0, 0, 0, 0, 0, 0, 0, 0, 0, 0, 0, 0], \"yaxis\": \"y3\"}, {\"error_y\": {\"array\": [6.45, 16.349999999999998, 29.7, 50.4, 96.89999999999999, 139.2, 179.4, 240.45, 320.4, 367.2, 342.3, 391.5, 355.5]}, \"line\": {\"color\": \"#1f77b4\"}, \"mode\": \"markers+lines\", \"name\": \"Data\", \"showlegend\": false, \"type\": \"scatter\", \"x\": [\"2020-03-10T00:00:00\", \"2020-03-12T00:00:00\", \"2020-03-14T00:00:00\", \"2020-03-16T00:00:00\", \"2020-03-18T00:00:00\", \"2020-03-20T00:00:00\", \"2020-03-22T00:00:00\", \"2020-03-24T00:00:00\", \"2020-03-26T00:00:00\", \"2020-03-28T00:00:00\", \"2020-03-30T00:00:00\", \"2020-04-01T00:00:00\"], \"xaxis\": \"x2\", \"y\": [43, 109, 198, 336, 646, 928, 1196, 1603, 2136, 2448, 2282, 2610, 2370], \"yaxis\": \"y2\"}, {\"line\": {\"color\": \"#bcbd22\", \"shape\": \"spline\"}, \"mode\": \"lines\", \"showlegend\": false, \"type\": \"scatter\", \"x\": [\"2020-03-10T00:00:00\", \"2020-03-12T00:00:00\", \"2020-03-14T00:00:00\", \"2020-03-16T00:00:00\", \"2020-03-18T00:00:00\", \"2020-03-20T00:00:00\", \"2020-03-22T00:00:00\", \"2020-03-24T00:00:00\", \"2020-03-26T00:00:00\", \"2020-03-28T00:00:00\", \"2020-03-30T00:00:00\", \"2020-04-01T00:00:00\"], \"xaxis\": \"x2\", \"y\": [42.31387044078957, 89.17260726804251, 173.45313119183228, 316.00918861549184, 536.6412988477621, 840.6946762173593, 1208.1030570961764, 1587.2930428300535, 1909.9336780409672, 2135.53817182515, 2261.216876830855, 2267.4281977742994, 2096.9985037897195], \"yaxis\": \"y2\"}, {\"fill\": \"tonexty\", \"fillcolor\": \"rgba(188,189,34,0.5)\", \"line\": {\"color\": \"#bcbd22\", \"shape\": \"spline\"}, \"mode\": \"lines\", \"name\": \"Fit\", \"showlegend\": false, \"type\": \"scatter\", \"x\": [\"2020-03-10T00:00:00\", \"2020-03-12T00:00:00\", \"2020-03-14T00:00:00\", \"2020-03-16T00:00:00\", \"2020-03-18T00:00:00\", \"2020-03-20T00:00:00\", \"2020-03-22T00:00:00\", \"2020-03-24T00:00:00\", \"2020-03-26T00:00:00\", \"2020-03-28T00:00:00\", \"2020-03-30T00:00:00\", \"2020-04-01T00:00:00\"], \"xaxis\": \"x2\", \"y\": [53.37682322896863, 104.84369751372604, 201.80850367025639, 367.8870470503402, 623.5330432280805, 973.0920399391855, 1389.9955581712277, 1821.6611315191465, 2209.264704568865, 2493.0850273141123, 2634.0391824971316, 2666.227020597832, 2695.2863921492426], \"yaxis\": \"y2\"}, {\"error_y\": {\"array\": [6.45, 16.349999999999998, 29.7, 50.4, 96.89999999999999, 139.2, 179.4, 240.45, 320.4, 367.2, 342.3, 391.5, 355.5]}, \"line\": {\"color\": \"#1f77b4\"}, \"mode\": \"markers+lines\", \"name\": \"Data\", \"showlegend\": false, \"type\": \"scatter\", \"x\": [\"2020-03-10T00:00:00\", \"2020-03-12T00:00:00\", \"2020-03-14T00:00:00\", \"2020-03-16T00:00:00\", \"2020-03-18T00:00:00\", \"2020-03-20T00:00:00\", \"2020-03-22T00:00:00\", \"2020-03-24T00:00:00\", \"2020-03-26T00:00:00\", \"2020-03-28T00:00:00\", \"2020-03-30T00:00:00\", \"2020-04-01T00:00:00\"], \"xaxis\": \"x2\", \"y\": [43, 109, 198, 336, 646, 928, 1196, 1603, 2136, 2448, 2282, 2610, 2370], \"yaxis\": \"y2\"}, {\"error_y\": {\"array\": [3.317419012069365, 14.350147477566914, 26.097571015373205, 43.21263647422439, 86.61446870839093, 122.45151905909026, 154.63873872082033, 209.96214480484727, 283.2955949876977, 320.7427341850237, 287.0891361570853, 336.9156047567768, 192.07589817715348]}, \"line\": {\"color\": \"#2ca02c\"}, \"mode\": \"markers+lines\", \"name\": \"Residual\", \"showlegend\": false, \"type\": \"scatter\", \"x\": [\"2020-03-10T00:00:00\", \"2020-03-12T00:00:00\", \"2020-03-14T00:00:00\", \"2020-03-16T00:00:00\", \"2020-03-18T00:00:00\", \"2020-03-20T00:00:00\", \"2020-03-22T00:00:00\", \"2020-03-24T00:00:00\", \"2020-03-26T00:00:00\", \"2020-03-28T00:00:00\", \"2020-03-30T00:00:00\", \"2020-04-01T00:00:00\"], \"xaxis\": \"x4\", \"y\": [-4, 11, 10, -5, 65, 21, -103, -101, 76, 133, -165, 143, -26], \"yaxis\": \"y4\"}, {\"line\": {\"color\": \"black\"}, \"mode\": \"lines\", \"showlegend\": false, \"type\": \"scatter\", \"x\": [\"2020-03-10T00:00:00\", \"2020-03-12T00:00:00\", \"2020-03-14T00:00:00\", \"2020-03-16T00:00:00\", \"2020-03-18T00:00:00\", \"2020-03-20T00:00:00\", \"2020-03-22T00:00:00\", \"2020-03-24T00:00:00\", \"2020-03-26T00:00:00\", \"2020-03-28T00:00:00\", \"2020-03-30T00:00:00\", \"2020-04-01T00:00:00\"], \"xaxis\": \"x4\", \"y\": [0, 0, 0, 0, 0, 0, 0, 0, 0, 0, 0, 0, 0], \"yaxis\": \"y4\"}, {\"line\": {\"color\": \"#bcbd22\", \"shape\": \"spline\"}, \"mode\": \"lines\", \"showlegend\": false, \"type\": \"scatter\", \"x\": [\"2020-03-10T00:00:00\", \"2020-03-12T00:00:00\", \"2020-03-14T00:00:00\", \"2020-03-16T00:00:00\", \"2020-03-18T00:00:00\", \"2020-03-20T00:00:00\", \"2020-03-22T00:00:00\", \"2020-03-24T00:00:00\", \"2020-03-26T00:00:00\", \"2020-03-28T00:00:00\", \"2020-03-30T00:00:00\", \"2020-04-01T00:00:00\"], \"xaxis\": \"x5\", \"y\": [62.156647778056765, 54.93993709727625, 48.09011722242632, 42.02161687056474, 36.82309166080695, 32.24671777153935, 27.94334890879074, 23.755340517950263, 19.77960714951857, 16.183154802888772, 13.054899822670981, 10.408210541918757, 8.222133875549275, 6.458478622350732], \"yaxis\": \"y5\"}, {\"fill\": \"tonexty\", \"fillcolor\": \"rgba(188,189,34,0.5)\", \"line\": {\"color\": \"#bcbd22\", \"shape\": \"spline\"}, \"mode\": \"lines\", \"showlegend\": false, \"type\": \"scatter\", \"x\": [\"2020-03-10T00:00:00\", \"2020-03-12T00:00:00\", \"2020-03-14T00:00:00\", \"2020-03-16T00:00:00\", \"2020-03-18T00:00:00\", \"2020-03-20T00:00:00\", \"2020-03-22T00:00:00\", \"2020-03-24T00:00:00\", \"2020-03-26T00:00:00\", \"2020-03-28T00:00:00\", \"2020-03-30T00:00:00\", \"2020-04-01T00:00:00\"], \"xaxis\": \"x5\", \"y\": [100, 100, 97.52269194348474, 89.32679779780554, 79.4706896706228, 69.2319239735313, 59.926265555071936, 52.381682341616994, 46.783198276886395, 42.910920417597005, 40.41508612877705, 38.938353861480174, 38.16008810599648, 37.82264523541315], \"yaxis\": \"y5\"}, {\"line\": {\"color\": \"#bcbd22\", \"shape\": \"spline\"}, \"mode\": \"lines\", \"showlegend\": false, \"type\": \"scatter\", \"x\": [\"2020-03-10T00:00:00\", \"2020-03-12T00:00:00\", \"2020-03-14T00:00:00\", \"2020-03-16T00:00:00\", \"2020-03-18T00:00:00\", \"2020-03-20T00:00:00\", \"2020-03-22T00:00:00\", \"2020-03-24T00:00:00\", \"2020-03-26T00:00:00\", \"2020-03-28T00:00:00\", \"2020-03-30T00:00:00\", \"2020-04-01T00:00:00\"], \"xaxis\": \"x6\", \"y\": [127.67920321035682, 196.45028462307735, 339.68219522214093, 603.4298704258667, 1045.787453872708, 1720.3074740396867, 2649.5068139348846, 3799.7815826834, 5074.866515514759, 6346.221232305987, 7498.389033806372, 8444.422412275067, 9112.116638820067], \"yaxis\": \"y6\"}, {\"fill\": \"tonexty\", \"fillcolor\": \"rgba(188,189,34,0.5)\", \"line\": {\"color\": \"#bcbd22\", \"shape\": \"spline\"}, \"mode\": \"lines\", \"showlegend\": false, \"type\": \"scatter\", \"x\": [\"2020-03-10T00:00:00\", \"2020-03-12T00:00:00\", \"2020-03-14T00:00:00\", \"2020-03-16T00:00:00\", \"2020-03-18T00:00:00\", \"2020-03-20T00:00:00\", \"2020-03-22T00:00:00\", \"2020-03-24T00:00:00\", \"2020-03-26T00:00:00\", \"2020-03-28T00:00:00\", \"2020-03-30T00:00:00\", \"2020-04-01T00:00:00\"], \"xaxis\": \"x6\", \"y\": [142.86863331654425, 229.4641657531778, 400.6489685338806, 715.0359341736983, 1244.500435002761, 2056.5831468672595, 3185.92661925276, 4610.972677255208, 6253.549804185308, 7992.47309800477, 9687.176451502259, 11219.717507790177, 12535.145331460537], \"yaxis\": \"y6\"}],\n",
       "                        {\"annotations\": [{\"font\": {\"size\": 16}, \"showarrow\": false, \"text\": \"Infected new\", \"x\": 0.225, \"xanchor\": \"center\", \"xref\": \"paper\", \"y\": 1.0, \"yanchor\": \"bottom\", \"yref\": \"paper\"}, {\"font\": {\"size\": 16}, \"showarrow\": false, \"text\": \"Hospitalized new\", \"x\": 0.775, \"xanchor\": \"center\", \"xref\": \"paper\", \"y\": 1.0, \"yanchor\": \"bottom\", \"yref\": \"paper\"}, {\"font\": {\"size\": 16}, \"showarrow\": false, \"text\": \"Infected new residual\", \"x\": 0.225, \"xanchor\": \"center\", \"xref\": \"paper\", \"y\": 0.6333333333333333, \"yanchor\": \"bottom\", \"yref\": \"paper\"}, {\"font\": {\"size\": 16}, \"showarrow\": false, \"text\": \"Hospitalized new residual\", \"x\": 0.775, \"xanchor\": \"center\", \"xref\": \"paper\", \"y\": 0.6333333333333333, \"yanchor\": \"bottom\", \"yref\": \"paper\"}, {\"font\": {\"size\": 16}, \"showarrow\": false, \"text\": \"Social distance [%]\", \"x\": 0.225, \"xanchor\": \"center\", \"xref\": \"paper\", \"y\": 0.26666666666666666, \"yanchor\": \"bottom\", \"yref\": \"paper\"}, {\"font\": {\"size\": 16}, \"showarrow\": false, \"text\": \"Total admissions\", \"x\": 0.775, \"xanchor\": \"center\", \"xref\": \"paper\", \"y\": 0.26666666666666666, \"yanchor\": \"bottom\", \"yref\": \"paper\"}], \"height\": 1200, \"template\": {\"data\": {\"bar\": [{\"error_x\": {\"color\": \"#2a3f5f\"}, \"error_y\": {\"color\": \"#2a3f5f\"}, \"marker\": {\"line\": {\"color\": \"#E5ECF6\", \"width\": 0.5}}, \"type\": \"bar\"}], \"barpolar\": [{\"marker\": {\"line\": {\"color\": \"#E5ECF6\", \"width\": 0.5}}, \"type\": \"barpolar\"}], \"carpet\": [{\"aaxis\": {\"endlinecolor\": \"#2a3f5f\", \"gridcolor\": \"white\", \"linecolor\": \"white\", \"minorgridcolor\": \"white\", \"startlinecolor\": \"#2a3f5f\"}, \"baxis\": {\"endlinecolor\": \"#2a3f5f\", \"gridcolor\": \"white\", \"linecolor\": \"white\", \"minorgridcolor\": \"white\", \"startlinecolor\": \"#2a3f5f\"}, \"type\": \"carpet\"}], \"choropleth\": [{\"colorbar\": {\"outlinewidth\": 0, \"ticks\": \"\"}, \"type\": \"choropleth\"}], \"contour\": [{\"colorbar\": {\"outlinewidth\": 0, \"ticks\": \"\"}, \"colorscale\": [[0.0, \"#0d0887\"], [0.1111111111111111, \"#46039f\"], [0.2222222222222222, \"#7201a8\"], [0.3333333333333333, \"#9c179e\"], [0.4444444444444444, \"#bd3786\"], [0.5555555555555556, \"#d8576b\"], [0.6666666666666666, \"#ed7953\"], [0.7777777777777778, \"#fb9f3a\"], [0.8888888888888888, \"#fdca26\"], [1.0, \"#f0f921\"]], \"type\": \"contour\"}], \"contourcarpet\": [{\"colorbar\": {\"outlinewidth\": 0, \"ticks\": \"\"}, \"type\": \"contourcarpet\"}], \"heatmap\": [{\"colorbar\": {\"outlinewidth\": 0, \"ticks\": \"\"}, \"colorscale\": [[0.0, \"#0d0887\"], [0.1111111111111111, \"#46039f\"], [0.2222222222222222, \"#7201a8\"], [0.3333333333333333, \"#9c179e\"], [0.4444444444444444, \"#bd3786\"], [0.5555555555555556, \"#d8576b\"], [0.6666666666666666, \"#ed7953\"], [0.7777777777777778, \"#fb9f3a\"], [0.8888888888888888, \"#fdca26\"], [1.0, \"#f0f921\"]], \"type\": \"heatmap\"}], \"heatmapgl\": [{\"colorbar\": {\"outlinewidth\": 0, \"ticks\": \"\"}, \"colorscale\": [[0.0, \"#0d0887\"], [0.1111111111111111, \"#46039f\"], [0.2222222222222222, \"#7201a8\"], [0.3333333333333333, \"#9c179e\"], [0.4444444444444444, \"#bd3786\"], [0.5555555555555556, \"#d8576b\"], [0.6666666666666666, \"#ed7953\"], [0.7777777777777778, \"#fb9f3a\"], [0.8888888888888888, \"#fdca26\"], [1.0, \"#f0f921\"]], \"type\": \"heatmapgl\"}], \"histogram\": [{\"marker\": {\"colorbar\": {\"outlinewidth\": 0, \"ticks\": \"\"}}, \"type\": \"histogram\"}], \"histogram2d\": [{\"colorbar\": {\"outlinewidth\": 0, \"ticks\": \"\"}, \"colorscale\": [[0.0, \"#0d0887\"], [0.1111111111111111, \"#46039f\"], [0.2222222222222222, \"#7201a8\"], [0.3333333333333333, \"#9c179e\"], [0.4444444444444444, \"#bd3786\"], [0.5555555555555556, \"#d8576b\"], [0.6666666666666666, \"#ed7953\"], [0.7777777777777778, \"#fb9f3a\"], [0.8888888888888888, \"#fdca26\"], [1.0, \"#f0f921\"]], \"type\": \"histogram2d\"}], \"histogram2dcontour\": [{\"colorbar\": {\"outlinewidth\": 0, \"ticks\": \"\"}, \"colorscale\": [[0.0, \"#0d0887\"], [0.1111111111111111, \"#46039f\"], [0.2222222222222222, \"#7201a8\"], [0.3333333333333333, \"#9c179e\"], [0.4444444444444444, \"#bd3786\"], [0.5555555555555556, \"#d8576b\"], [0.6666666666666666, \"#ed7953\"], [0.7777777777777778, \"#fb9f3a\"], [0.8888888888888888, \"#fdca26\"], [1.0, \"#f0f921\"]], \"type\": \"histogram2dcontour\"}], \"mesh3d\": [{\"colorbar\": {\"outlinewidth\": 0, \"ticks\": \"\"}, \"type\": \"mesh3d\"}], \"parcoords\": [{\"line\": {\"colorbar\": {\"outlinewidth\": 0, \"ticks\": \"\"}}, \"type\": \"parcoords\"}], \"pie\": [{\"automargin\": true, \"type\": \"pie\"}], \"scatter\": [{\"marker\": {\"colorbar\": {\"outlinewidth\": 0, \"ticks\": \"\"}}, \"type\": \"scatter\"}], \"scatter3d\": [{\"line\": {\"colorbar\": {\"outlinewidth\": 0, \"ticks\": \"\"}}, \"marker\": {\"colorbar\": {\"outlinewidth\": 0, \"ticks\": \"\"}}, \"type\": \"scatter3d\"}], \"scattercarpet\": [{\"marker\": {\"colorbar\": {\"outlinewidth\": 0, \"ticks\": \"\"}}, \"type\": \"scattercarpet\"}], \"scattergeo\": [{\"marker\": {\"colorbar\": {\"outlinewidth\": 0, \"ticks\": \"\"}}, \"type\": \"scattergeo\"}], \"scattergl\": [{\"marker\": {\"colorbar\": {\"outlinewidth\": 0, \"ticks\": \"\"}}, \"type\": \"scattergl\"}], \"scattermapbox\": [{\"marker\": {\"colorbar\": {\"outlinewidth\": 0, \"ticks\": \"\"}}, \"type\": \"scattermapbox\"}], \"scatterpolar\": [{\"marker\": {\"colorbar\": {\"outlinewidth\": 0, \"ticks\": \"\"}}, \"type\": \"scatterpolar\"}], \"scatterpolargl\": [{\"marker\": {\"colorbar\": {\"outlinewidth\": 0, \"ticks\": \"\"}}, \"type\": \"scatterpolargl\"}], \"scatterternary\": [{\"marker\": {\"colorbar\": {\"outlinewidth\": 0, \"ticks\": \"\"}}, \"type\": \"scatterternary\"}], \"surface\": [{\"colorbar\": {\"outlinewidth\": 0, \"ticks\": \"\"}, \"colorscale\": [[0.0, \"#0d0887\"], [0.1111111111111111, \"#46039f\"], [0.2222222222222222, \"#7201a8\"], [0.3333333333333333, \"#9c179e\"], [0.4444444444444444, \"#bd3786\"], [0.5555555555555556, \"#d8576b\"], [0.6666666666666666, \"#ed7953\"], [0.7777777777777778, \"#fb9f3a\"], [0.8888888888888888, \"#fdca26\"], [1.0, \"#f0f921\"]], \"type\": \"surface\"}], \"table\": [{\"cells\": {\"fill\": {\"color\": \"#EBF0F8\"}, \"line\": {\"color\": \"white\"}}, \"header\": {\"fill\": {\"color\": \"#C8D4E3\"}, \"line\": {\"color\": \"white\"}}, \"type\": \"table\"}]}, \"layout\": {\"annotationdefaults\": {\"arrowcolor\": \"#2a3f5f\", \"arrowhead\": 0, \"arrowwidth\": 1}, \"coloraxis\": {\"colorbar\": {\"outlinewidth\": 0, \"ticks\": \"\"}}, \"colorscale\": {\"diverging\": [[0, \"#8e0152\"], [0.1, \"#c51b7d\"], [0.2, \"#de77ae\"], [0.3, \"#f1b6da\"], [0.4, \"#fde0ef\"], [0.5, \"#f7f7f7\"], [0.6, \"#e6f5d0\"], [0.7, \"#b8e186\"], [0.8, \"#7fbc41\"], [0.9, \"#4d9221\"], [1, \"#276419\"]], \"sequential\": [[0.0, \"#0d0887\"], [0.1111111111111111, \"#46039f\"], [0.2222222222222222, \"#7201a8\"], [0.3333333333333333, \"#9c179e\"], [0.4444444444444444, \"#bd3786\"], [0.5555555555555556, \"#d8576b\"], [0.6666666666666666, \"#ed7953\"], [0.7777777777777778, \"#fb9f3a\"], [0.8888888888888888, \"#fdca26\"], [1.0, \"#f0f921\"]], \"sequentialminus\": [[0.0, \"#0d0887\"], [0.1111111111111111, \"#46039f\"], [0.2222222222222222, \"#7201a8\"], [0.3333333333333333, \"#9c179e\"], [0.4444444444444444, \"#bd3786\"], [0.5555555555555556, \"#d8576b\"], [0.6666666666666666, \"#ed7953\"], [0.7777777777777778, \"#fb9f3a\"], [0.8888888888888888, \"#fdca26\"], [1.0, \"#f0f921\"]]}, \"colorway\": [\"#636efa\", \"#EF553B\", \"#00cc96\", \"#ab63fa\", \"#FFA15A\", \"#19d3f3\", \"#FF6692\", \"#B6E880\", \"#FF97FF\", \"#FECB52\"], \"font\": {\"color\": \"#2a3f5f\"}, \"geo\": {\"bgcolor\": \"white\", \"lakecolor\": \"white\", \"landcolor\": \"#E5ECF6\", \"showlakes\": true, \"showland\": true, \"subunitcolor\": \"white\"}, \"hoverlabel\": {\"align\": \"left\"}, \"hovermode\": \"closest\", \"mapbox\": {\"style\": \"light\"}, \"paper_bgcolor\": \"white\", \"plot_bgcolor\": \"#E5ECF6\", \"polar\": {\"angularaxis\": {\"gridcolor\": \"white\", \"linecolor\": \"white\", \"ticks\": \"\"}, \"bgcolor\": \"#E5ECF6\", \"radialaxis\": {\"gridcolor\": \"white\", \"linecolor\": \"white\", \"ticks\": \"\"}}, \"scene\": {\"xaxis\": {\"backgroundcolor\": \"#E5ECF6\", \"gridcolor\": \"white\", \"gridwidth\": 2, \"linecolor\": \"white\", \"showbackground\": true, \"ticks\": \"\", \"zerolinecolor\": \"white\"}, \"yaxis\": {\"backgroundcolor\": \"#E5ECF6\", \"gridcolor\": \"white\", \"gridwidth\": 2, \"linecolor\": \"white\", \"showbackground\": true, \"ticks\": \"\", \"zerolinecolor\": \"white\"}, \"zaxis\": {\"backgroundcolor\": \"#E5ECF6\", \"gridcolor\": \"white\", \"gridwidth\": 2, \"linecolor\": \"white\", \"showbackground\": true, \"ticks\": \"\", \"zerolinecolor\": \"white\"}}, \"shapedefaults\": {\"line\": {\"color\": \"#2a3f5f\"}}, \"ternary\": {\"aaxis\": {\"gridcolor\": \"white\", \"linecolor\": \"white\", \"ticks\": \"\"}, \"baxis\": {\"gridcolor\": \"white\", \"linecolor\": \"white\", \"ticks\": \"\"}, \"bgcolor\": \"#E5ECF6\", \"caxis\": {\"gridcolor\": \"white\", \"linecolor\": \"white\", \"ticks\": \"\"}}, \"title\": {\"x\": 0.05}, \"xaxis\": {\"automargin\": true, \"gridcolor\": \"white\", \"linecolor\": \"white\", \"ticks\": \"\", \"title\": {\"standoff\": 15}, \"zerolinecolor\": \"white\", \"zerolinewidth\": 2}, \"yaxis\": {\"automargin\": true, \"gridcolor\": \"white\", \"linecolor\": \"white\", \"ticks\": \"\", \"title\": {\"standoff\": 15}, \"zerolinecolor\": \"white\", \"zerolinewidth\": 2}}}, \"width\": 800, \"xaxis\": {\"anchor\": \"y\", \"domain\": [0.0, 0.45]}, \"xaxis2\": {\"anchor\": \"y2\", \"domain\": [0.55, 1.0]}, \"xaxis3\": {\"anchor\": \"y3\", \"domain\": [0.0, 0.45]}, \"xaxis4\": {\"anchor\": \"y4\", \"domain\": [0.55, 1.0]}, \"xaxis5\": {\"anchor\": \"y5\", \"domain\": [0.0, 0.45]}, \"xaxis6\": {\"anchor\": \"y6\", \"domain\": [0.55, 1.0]}, \"yaxis\": {\"anchor\": \"x\", \"domain\": [0.7333333333333334, 1.0]}, \"yaxis2\": {\"anchor\": \"x2\", \"domain\": [0.7333333333333334, 1.0]}, \"yaxis3\": {\"anchor\": \"x3\", \"domain\": [0.3666666666666667, 0.6333333333333333]}, \"yaxis4\": {\"anchor\": \"x4\", \"domain\": [0.3666666666666667, 0.6333333333333333]}, \"yaxis5\": {\"anchor\": \"x5\", \"domain\": [0.0, 0.26666666666666666], \"range\": [0, 100]}, \"yaxis6\": {\"anchor\": \"x6\", \"domain\": [0.0, 0.26666666666666666]}},\n",
       "                        {\"responsive\": true}\n",
       "                    ).then(function(){\n",
       "                            \n",
       "var gd = document.getElementById('db8d916a-ac24-4999-810d-a4ba255e83be');\n",
       "var x = new MutationObserver(function (mutations, observer) {{\n",
       "        var display = window.getComputedStyle(gd).display;\n",
       "        if (!display || display === 'none') {{\n",
       "            console.log([gd, 'removed!']);\n",
       "            Plotly.purge(gd);\n",
       "            observer.disconnect();\n",
       "        }}\n",
       "}});\n",
       "\n",
       "// Listen for the removal of the full notebook cells\n",
       "var notebookContainer = gd.closest('#notebook-container');\n",
       "if (notebookContainer) {{\n",
       "    x.observe(notebookContainer, {childList: true});\n",
       "}}\n",
       "\n",
       "// Listen for the clearing of the current output cell\n",
       "var outputEl = gd.closest('.output');\n",
       "if (outputEl) {{\n",
       "    x.observe(outputEl, {childList: true});\n",
       "}}\n",
       "\n",
       "                        })\n",
       "                };\n",
       "                });\n",
       "            </script>\n",
       "        </div>"
      ]
     },
     "metadata": {},
     "output_type": "display_data"
    }
   ],
   "source": [
    "# Run the fit\n",
    "fit_w_distancing_larger_I = nonlinear_fit(\n",
    "    data=(XX, YY_larger_I), fcn=fcn_w_distancing, prior=prior_w_distancing\n",
    ")\n",
    "\n",
    "# Summarize the fit\n",
    "summarize_fit(fit_w_distancing_larger_I)\n",
    "fig = plot_fits(fit_w_distancing_larger_I, x=chd_df.index[1:])\n",
    "fig.show()"
   ]
  },
  {
   "cell_type": "code",
   "execution_count": 15,
   "metadata": {},
   "outputs": [
    {
     "data": {
      "text/html": [
       "<div>\n",
       "<style scoped>\n",
       "    .dataframe tbody tr th:only-of-type {\n",
       "        vertical-align: middle;\n",
       "    }\n",
       "\n",
       "    .dataframe tbody tr th {\n",
       "        vertical-align: top;\n",
       "    }\n",
       "\n",
       "    .dataframe thead th {\n",
       "        text-align: right;\n",
       "    }\n",
       "</style>\n",
       "<table border=\"1\" class=\"dataframe\">\n",
       "  <thead>\n",
       "    <tr style=\"text-align: right;\">\n",
       "      <th></th>\n",
       "      <th>50% infected new uncertainty</th>\n",
       "      <th>300% infected new uncertainty</th>\n",
       "      <th>diff</th>\n",
       "    </tr>\n",
       "  </thead>\n",
       "  <tbody>\n",
       "    <tr>\n",
       "      <th>beta_h</th>\n",
       "      <td>0.202(58)</td>\n",
       "      <td>0.32(28)</td>\n",
       "      <td>-0.12(28)</td>\n",
       "    </tr>\n",
       "    <tr>\n",
       "      <th>inital_doubling_time</th>\n",
       "      <td>1.02(34)</td>\n",
       "      <td>0.85(38)</td>\n",
       "      <td>0.17(37)</td>\n",
       "    </tr>\n",
       "    <tr>\n",
       "      <th>initial_infected</th>\n",
       "      <td>235(74)</td>\n",
       "      <td>150(135)</td>\n",
       "      <td>85(145)</td>\n",
       "    </tr>\n",
       "    <tr>\n",
       "      <th>ratio</th>\n",
       "      <td>0.76(15)</td>\n",
       "      <td>0.80(19)</td>\n",
       "      <td>-0.04(17)</td>\n",
       "    </tr>\n",
       "    <tr>\n",
       "      <th>recovery_days_h</th>\n",
       "      <td>14.0(5.0)</td>\n",
       "      <td>14.0(5.0)</td>\n",
       "      <td>0.0(1.6)e-13</td>\n",
       "    </tr>\n",
       "    <tr>\n",
       "      <th>recovery_days_i</th>\n",
       "      <td>9.2(4.4)</td>\n",
       "      <td>13.8(5.0)</td>\n",
       "      <td>-4.6(2.4)</td>\n",
       "    </tr>\n",
       "    <tr>\n",
       "      <th>social_distance_delay</th>\n",
       "      <td>8.3(3.3)</td>\n",
       "      <td>7.5(4.3)</td>\n",
       "      <td>0.7(3.9)</td>\n",
       "    </tr>\n",
       "    <tr>\n",
       "      <th>social_distance_halfing_days</th>\n",
       "      <td>4.2(2.7)</td>\n",
       "      <td>5.3(3.4)</td>\n",
       "      <td>-1.1(2.9)</td>\n",
       "    </tr>\n",
       "  </tbody>\n",
       "</table>\n",
       "</div>"
      ],
      "text/plain": [
       "                             50% infected new uncertainty  \\\n",
       "beta_h                                          0.202(58)   \n",
       "inital_doubling_time                             1.02(34)   \n",
       "initial_infected                                  235(74)   \n",
       "ratio                                            0.76(15)   \n",
       "recovery_days_h                                 14.0(5.0)   \n",
       "recovery_days_i                                  9.2(4.4)   \n",
       "social_distance_delay                            8.3(3.3)   \n",
       "social_distance_halfing_days                     4.2(2.7)   \n",
       "\n",
       "                             300% infected new uncertainty          diff  \n",
       "beta_h                                            0.32(28)     -0.12(28)  \n",
       "inital_doubling_time                              0.85(38)      0.17(37)  \n",
       "initial_infected                                  150(135)       85(145)  \n",
       "ratio                                             0.80(19)     -0.04(17)  \n",
       "recovery_days_h                                  14.0(5.0)  0.0(1.6)e-13  \n",
       "recovery_days_i                                  13.8(5.0)     -4.6(2.4)  \n",
       "social_distance_delay                             7.5(4.3)      0.7(3.9)  \n",
       "social_distance_halfing_days                      5.3(3.4)     -1.1(2.9)  "
      ]
     },
     "execution_count": 15,
     "metadata": {},
     "output_type": "execute_result"
    }
   ],
   "source": [
    "DataFrame(\n",
    "    data=[\n",
    "        fit_w_distancing.p,\n",
    "        fit_w_distancing_larger_I.p,\n",
    "        fit_w_distancing.p - fit_w_distancing_larger_I.p,\n",
    "    ],\n",
    "    index=[\"50% infected new uncertainty\", \"300% infected new uncertainty\", \"diff\"],\n",
    ").T"
   ]
  },
  {
   "cell_type": "markdown",
   "metadata": {},
   "source": [
    "Results are mostly consistend and thus, new admissions dictate the outcome of the fit. Note that there is an almost one-sigma discrepancy in the rate of infected people becoming hospitalized."
   ]
  },
  {
   "cell_type": "markdown",
   "metadata": {},
   "source": [
    "## Predictivity check: Regular SIR, with social distancing policies"
   ]
  },
  {
   "cell_type": "markdown",
   "metadata": {},
   "source": [
    "The final question is: how far can we predict? Or alternatively, if we leave out time slices, how many do we need to consistently describe the data?"
   ]
  },
  {
   "cell_type": "code",
   "execution_count": 11,
   "metadata": {},
   "outputs": [
    {
     "data": {
      "application/vnd.plotly.v1+json": {
       "config": {
        "plotlyServerURL": "https://plot.ly"
       },
       "data": [
        {
         "error_y": {
          "array": [
           6.45,
           16.349999999999998,
           29.7,
           50.4,
           96.89999999999999,
           139.2,
           179.4,
           240.45,
           320.4,
           367.2,
           342.3,
           391.5,
           355.5
          ]
         },
         "line": {
          "color": "#1f77b4"
         },
         "mode": "markers+lines",
         "name": "Data",
         "showlegend": true,
         "type": "scatter",
         "x": [
          "2020-03-10T00:00:00",
          "2020-03-12T00:00:00",
          "2020-03-14T00:00:00",
          "2020-03-16T00:00:00",
          "2020-03-18T00:00:00",
          "2020-03-20T00:00:00",
          "2020-03-22T00:00:00",
          "2020-03-24T00:00:00",
          "2020-03-26T00:00:00",
          "2020-03-28T00:00:00",
          "2020-03-30T00:00:00",
          "2020-04-01T00:00:00"
         ],
         "xaxis": "x",
         "y": [
          43,
          109,
          198,
          336,
          646,
          928,
          1196,
          1603,
          2136,
          2448,
          2282,
          2610,
          2370
         ],
         "yaxis": "y"
        },
        {
         "line": {
          "color": "#bcbd22",
          "shape": "spline"
         },
         "mode": "lines",
         "showlegend": false,
         "type": "scatter",
         "x": [
          "2020-03-10T00:00:00",
          "2020-03-12T00:00:00",
          "2020-03-14T00:00:00",
          "2020-03-16T00:00:00",
          "2020-03-18T00:00:00",
          "2020-03-20T00:00:00",
          "2020-03-22T00:00:00",
          "2020-03-24T00:00:00",
          "2020-03-26T00:00:00",
          "2020-03-28T00:00:00",
          "2020-03-30T00:00:00",
          "2020-04-01T00:00:00"
         ],
         "xaxis": "x",
         "y": [
          41.16748571630741,
          86.25124763149464,
          170.02088547489788,
          315.5587874114883,
          561.4540487567353,
          960.1460148446454,
          1568.1137028524704,
          2416.820700063774,
          3446.543373735492,
          3629.8082300719616,
          1836.734693877554,
          1836.7346938775472,
          1836.7346938775506
         ],
         "yaxis": "y"
        },
        {
         "fill": "tonexty",
         "fillcolor": "rgba(188,189,34,0.5)",
         "line": {
          "color": "#bcbd22",
          "shape": "spline"
         },
         "mode": "lines",
         "name": "Fit",
         "showlegend": true,
         "type": "scatter",
         "x": [
          "2020-03-10T00:00:00",
          "2020-03-12T00:00:00",
          "2020-03-14T00:00:00",
          "2020-03-16T00:00:00",
          "2020-03-18T00:00:00",
          "2020-03-20T00:00:00",
          "2020-03-22T00:00:00",
          "2020-03-24T00:00:00",
          "2020-03-26T00:00:00",
          "2020-03-28T00:00:00",
          "2020-03-30T00:00:00",
          "2020-04-01T00:00:00"
         ],
         "xaxis": "x",
         "y": [
          52.42787278174963,
          101.65095689883356,
          200.48904685989984,
          400.85800829614925,
          794.8070201834564,
          1549.8055608171621,
          2966.0299953772205,
          5567.432812868251,
          10240.889919025421,
          13402.660009334108,
          3877.551020408166,
          3877.55102040816,
          3877.551020408163
         ],
         "yaxis": "y"
        },
        {
         "line": {
          "color": "black"
         },
         "mode": "lines",
         "name": "Fit boundary",
         "showlegend": true,
         "type": "scatter",
         "x": [
          "2020-03-14T00:00:00",
          "2020-03-14T00:00:00"
         ],
         "xaxis": "x",
         "y": [
          0,
          5000
         ],
         "yaxis": "y"
        },
        {
         "error_y": {
          "array": [
           6.45,
           16.349999999999998,
           29.7,
           50.4,
           96.89999999999999,
           139.2,
           179.4,
           240.45,
           320.4,
           367.2,
           342.3,
           391.5,
           355.5
          ]
         },
         "line": {
          "color": "#1f77b4"
         },
         "mode": "markers+lines",
         "name": "Data",
         "showlegend": false,
         "type": "scatter",
         "x": [
          "2020-03-10T00:00:00",
          "2020-03-12T00:00:00",
          "2020-03-14T00:00:00",
          "2020-03-16T00:00:00",
          "2020-03-18T00:00:00",
          "2020-03-20T00:00:00",
          "2020-03-22T00:00:00",
          "2020-03-24T00:00:00",
          "2020-03-26T00:00:00",
          "2020-03-28T00:00:00",
          "2020-03-30T00:00:00",
          "2020-04-01T00:00:00"
         ],
         "xaxis": "x2",
         "y": [
          43,
          109,
          198,
          336,
          646,
          928,
          1196,
          1603,
          2136,
          2448,
          2282,
          2610,
          2370
         ],
         "yaxis": "y2"
        },
        {
         "line": {
          "color": "#bcbd22",
          "shape": "spline"
         },
         "mode": "lines",
         "showlegend": false,
         "type": "scatter",
         "x": [
          "2020-03-10T00:00:00",
          "2020-03-12T00:00:00",
          "2020-03-14T00:00:00",
          "2020-03-16T00:00:00",
          "2020-03-18T00:00:00",
          "2020-03-20T00:00:00",
          "2020-03-22T00:00:00",
          "2020-03-24T00:00:00",
          "2020-03-26T00:00:00",
          "2020-03-28T00:00:00",
          "2020-03-30T00:00:00",
          "2020-04-01T00:00:00"
         ],
         "xaxis": "x2",
         "y": [
          41.507055293500585,
          85.80938382095263,
          170.60544493434043,
          324.17588715883323,
          591.6067292523315,
          1039.9334149722483,
          1753.9291693629352,
          2815.672280512713,
          4251.8862346198675,
          5212.176722218934,
          1836.7346938775547,
          1836.7346938775513,
          1836.7346938775518
         ],
         "yaxis": "y2"
        },
        {
         "fill": "tonexty",
         "fillcolor": "rgba(188,189,34,0.5)",
         "line": {
          "color": "#bcbd22",
          "shape": "spline"
         },
         "mode": "lines",
         "name": "Fit",
         "showlegend": false,
         "type": "scatter",
         "x": [
          "2020-03-10T00:00:00",
          "2020-03-12T00:00:00",
          "2020-03-14T00:00:00",
          "2020-03-16T00:00:00",
          "2020-03-18T00:00:00",
          "2020-03-20T00:00:00",
          "2020-03-22T00:00:00",
          "2020-03-24T00:00:00",
          "2020-03-26T00:00:00",
          "2020-03-28T00:00:00",
          "2020-03-30T00:00:00",
          "2020-04-01T00:00:00"
         ],
         "xaxis": "x2",
         "y": [
          52.18541325605226,
          101.10235072768265,
          195.93455855162546,
          381.34413581966123,
          739.3301439752655,
          1417.2704249004353,
          2679.7497178231165,
          4992.763144023239,
          9154.444673630347,
          12299.798979240968,
          3877.5510204081656,
          3877.5510204081625,
          3877.551020408163
         ],
         "yaxis": "y2"
        },
        {
         "line": {
          "color": "black"
         },
         "mode": "lines",
         "name": "Fit boundary",
         "showlegend": false,
         "type": "scatter",
         "x": [
          "2020-03-16T00:00:00",
          "2020-03-16T00:00:00"
         ],
         "xaxis": "x2",
         "y": [
          0,
          5000
         ],
         "yaxis": "y2"
        },
        {
         "error_y": {
          "array": [
           6.45,
           16.349999999999998,
           29.7,
           50.4,
           96.89999999999999,
           139.2,
           179.4,
           240.45,
           320.4,
           367.2,
           342.3,
           391.5,
           355.5
          ]
         },
         "line": {
          "color": "#1f77b4"
         },
         "mode": "markers+lines",
         "name": "Data",
         "showlegend": false,
         "type": "scatter",
         "x": [
          "2020-03-10T00:00:00",
          "2020-03-12T00:00:00",
          "2020-03-14T00:00:00",
          "2020-03-16T00:00:00",
          "2020-03-18T00:00:00",
          "2020-03-20T00:00:00",
          "2020-03-22T00:00:00",
          "2020-03-24T00:00:00",
          "2020-03-26T00:00:00",
          "2020-03-28T00:00:00",
          "2020-03-30T00:00:00",
          "2020-04-01T00:00:00"
         ],
         "xaxis": "x3",
         "y": [
          43,
          109,
          198,
          336,
          646,
          928,
          1196,
          1603,
          2136,
          2448,
          2282,
          2610,
          2370
         ],
         "yaxis": "y3"
        },
        {
         "line": {
          "color": "#bcbd22",
          "shape": "spline"
         },
         "mode": "lines",
         "showlegend": false,
         "type": "scatter",
         "x": [
          "2020-03-10T00:00:00",
          "2020-03-12T00:00:00",
          "2020-03-14T00:00:00",
          "2020-03-16T00:00:00",
          "2020-03-18T00:00:00",
          "2020-03-20T00:00:00",
          "2020-03-22T00:00:00",
          "2020-03-24T00:00:00",
          "2020-03-26T00:00:00",
          "2020-03-28T00:00:00",
          "2020-03-30T00:00:00",
          "2020-04-01T00:00:00"
         ],
         "xaxis": "x3",
         "y": [
          43.44180669785894,
          86.2836118279058,
          165.44308156651343,
          306.41302693909313,
          548.4864505819893,
          944.6610570447964,
          1552.5648551180607,
          2413.3805865685563,
          3511.714025218391,
          4709.5800017235815,
          1309.0369399532374,
          1836.7346938775531,
          1836.7346938775495
         ],
         "yaxis": "y3"
        },
        {
         "fill": "tonexty",
         "fillcolor": "rgba(188,189,34,0.5)",
         "line": {
          "color": "#bcbd22",
          "shape": "spline"
         },
         "mode": "lines",
         "name": "Fit",
         "showlegend": false,
         "type": "scatter",
         "x": [
          "2020-03-10T00:00:00",
          "2020-03-12T00:00:00",
          "2020-03-14T00:00:00",
          "2020-03-16T00:00:00",
          "2020-03-18T00:00:00",
          "2020-03-20T00:00:00",
          "2020-03-22T00:00:00",
          "2020-03-24T00:00:00",
          "2020-03-26T00:00:00",
          "2020-03-28T00:00:00",
          "2020-03-30T00:00:00",
          "2020-04-01T00:00:00"
         ],
         "xaxis": "x3",
         "y": [
          53.81415010949766,
          101.30163383193288,
          189.5057022958383,
          351.27437301254554,
          642.6736462156149,
          1160.351540023663,
          2071.1768088196754,
          3654.353899341132,
          6357.683174424123,
          10866.750480879895,
          10433.388412854185,
          3877.551020408167,
          3877.5510204081643
         ],
         "yaxis": "y3"
        },
        {
         "line": {
          "color": "black"
         },
         "mode": "lines",
         "name": "Fit boundary",
         "showlegend": false,
         "type": "scatter",
         "x": [
          "2020-03-18T00:00:00",
          "2020-03-18T00:00:00"
         ],
         "xaxis": "x3",
         "y": [
          0,
          5000
         ],
         "yaxis": "y3"
        },
        {
         "error_y": {
          "array": [
           6.45,
           16.349999999999998,
           29.7,
           50.4,
           96.89999999999999,
           139.2,
           179.4,
           240.45,
           320.4,
           367.2,
           342.3,
           391.5,
           355.5
          ]
         },
         "line": {
          "color": "#1f77b4"
         },
         "mode": "markers+lines",
         "name": "Data",
         "showlegend": false,
         "type": "scatter",
         "x": [
          "2020-03-10T00:00:00",
          "2020-03-12T00:00:00",
          "2020-03-14T00:00:00",
          "2020-03-16T00:00:00",
          "2020-03-18T00:00:00",
          "2020-03-20T00:00:00",
          "2020-03-22T00:00:00",
          "2020-03-24T00:00:00",
          "2020-03-26T00:00:00",
          "2020-03-28T00:00:00",
          "2020-03-30T00:00:00",
          "2020-04-01T00:00:00"
         ],
         "xaxis": "x4",
         "y": [
          43,
          109,
          198,
          336,
          646,
          928,
          1196,
          1603,
          2136,
          2448,
          2282,
          2610,
          2370
         ],
         "yaxis": "y4"
        },
        {
         "line": {
          "color": "#bcbd22",
          "shape": "spline"
         },
         "mode": "lines",
         "showlegend": false,
         "type": "scatter",
         "x": [
          "2020-03-10T00:00:00",
          "2020-03-12T00:00:00",
          "2020-03-14T00:00:00",
          "2020-03-16T00:00:00",
          "2020-03-18T00:00:00",
          "2020-03-20T00:00:00",
          "2020-03-22T00:00:00",
          "2020-03-24T00:00:00",
          "2020-03-26T00:00:00",
          "2020-03-28T00:00:00",
          "2020-03-30T00:00:00",
          "2020-04-01T00:00:00"
         ],
         "xaxis": "x4",
         "y": [
          42.365029043196365,
          87.99159792920395,
          169.80298063798483,
          308.09974486363734,
          528.1164529727987,
          847.2551140115755,
          1212.866520335405,
          1460.1507101842922,
          1436.373186930154,
          1063.7797339104716,
          376.030733443798,
          0,
          0
         ],
         "yaxis": "y4"
        },
        {
         "fill": "tonexty",
         "fillcolor": "rgba(188,189,34,0.5)",
         "line": {
          "color": "#bcbd22",
          "shape": "spline"
         },
         "mode": "lines",
         "name": "Fit",
         "showlegend": false,
         "type": "scatter",
         "x": [
          "2020-03-10T00:00:00",
          "2020-03-12T00:00:00",
          "2020-03-14T00:00:00",
          "2020-03-16T00:00:00",
          "2020-03-18T00:00:00",
          "2020-03-20T00:00:00",
          "2020-03-22T00:00:00",
          "2020-03-24T00:00:00",
          "2020-03-26T00:00:00",
          "2020-03-28T00:00:00",
          "2020-03-30T00:00:00",
          "2020-04-01T00:00:00"
         ],
         "xaxis": "x4",
         "y": [
          53.46509359486898,
          103.48407555903009,
          197.76583766826832,
          362.8634954885991,
          624.0472255317566,
          995.3394816076724,
          1510.241125254335,
          2243.4196743104444,
          3200.6620993065817,
          4306.308706907372,
          5423.725363969272,
          6402.721432667081,
          7133.537542716081
         ],
         "yaxis": "y4"
        },
        {
         "line": {
          "color": "black"
         },
         "mode": "lines",
         "name": "Fit boundary",
         "showlegend": false,
         "type": "scatter",
         "x": [
          "2020-03-20T00:00:00",
          "2020-03-20T00:00:00"
         ],
         "xaxis": "x4",
         "y": [
          0,
          5000
         ],
         "yaxis": "y4"
        },
        {
         "error_y": {
          "array": [
           6.45,
           16.349999999999998,
           29.7,
           50.4,
           96.89999999999999,
           139.2,
           179.4,
           240.45,
           320.4,
           367.2,
           342.3,
           391.5,
           355.5
          ]
         },
         "line": {
          "color": "#1f77b4"
         },
         "mode": "markers+lines",
         "name": "Data",
         "showlegend": false,
         "type": "scatter",
         "x": [
          "2020-03-10T00:00:00",
          "2020-03-12T00:00:00",
          "2020-03-14T00:00:00",
          "2020-03-16T00:00:00",
          "2020-03-18T00:00:00",
          "2020-03-20T00:00:00",
          "2020-03-22T00:00:00",
          "2020-03-24T00:00:00",
          "2020-03-26T00:00:00",
          "2020-03-28T00:00:00",
          "2020-03-30T00:00:00",
          "2020-04-01T00:00:00"
         ],
         "xaxis": "x5",
         "y": [
          43,
          109,
          198,
          336,
          646,
          928,
          1196,
          1603,
          2136,
          2448,
          2282,
          2610,
          2370
         ],
         "yaxis": "y5"
        },
        {
         "line": {
          "color": "#bcbd22",
          "shape": "spline"
         },
         "mode": "lines",
         "showlegend": false,
         "type": "scatter",
         "x": [
          "2020-03-10T00:00:00",
          "2020-03-12T00:00:00",
          "2020-03-14T00:00:00",
          "2020-03-16T00:00:00",
          "2020-03-18T00:00:00",
          "2020-03-20T00:00:00",
          "2020-03-22T00:00:00",
          "2020-03-24T00:00:00",
          "2020-03-26T00:00:00",
          "2020-03-28T00:00:00",
          "2020-03-30T00:00:00",
          "2020-04-01T00:00:00"
         ],
         "xaxis": "x5",
         "y": [
          41.866707026998,
          87.80801435977772,
          170.64880568342156,
          312.47377309929425,
          533.1976876616732,
          837.7035550686738,
          1201.483820450188,
          1512.2489786146969,
          1605.0395029034853,
          1425.036878688316,
          1009.3915801490245,
          442.5053899263821,
          0
         ],
         "yaxis": "y5"
        },
        {
         "fill": "tonexty",
         "fillcolor": "rgba(188,189,34,0.5)",
         "line": {
          "color": "#bcbd22",
          "shape": "spline"
         },
         "mode": "lines",
         "name": "Fit",
         "showlegend": false,
         "type": "scatter",
         "x": [
          "2020-03-10T00:00:00",
          "2020-03-12T00:00:00",
          "2020-03-14T00:00:00",
          "2020-03-16T00:00:00",
          "2020-03-18T00:00:00",
          "2020-03-20T00:00:00",
          "2020-03-22T00:00:00",
          "2020-03-24T00:00:00",
          "2020-03-26T00:00:00",
          "2020-03-28T00:00:00",
          "2020-03-30T00:00:00",
          "2020-04-01T00:00:00"
         ],
         "xaxis": "x5",
         "y": [
          53.04169705432079,
          103.65059997491393,
          199.88506163945365,
          366.15446927246524,
          625.8891098489546,
          983.9310701601863,
          1408.658444352427,
          1888.6420833577652,
          2443.6349175239343,
          3026.435671248352,
          3574.9587501277565,
          4044.5230038167974,
          4410.998688940889
         ],
         "yaxis": "y5"
        },
        {
         "line": {
          "color": "black"
         },
         "mode": "lines",
         "name": "Fit boundary",
         "showlegend": false,
         "type": "scatter",
         "x": [
          "2020-03-22T00:00:00",
          "2020-03-22T00:00:00"
         ],
         "xaxis": "x5",
         "y": [
          0,
          5000
         ],
         "yaxis": "y5"
        },
        {
         "error_y": {
          "array": [
           6.45,
           16.349999999999998,
           29.7,
           50.4,
           96.89999999999999,
           139.2,
           179.4,
           240.45,
           320.4,
           367.2,
           342.3,
           391.5,
           355.5
          ]
         },
         "line": {
          "color": "#1f77b4"
         },
         "mode": "markers+lines",
         "name": "Data",
         "showlegend": false,
         "type": "scatter",
         "x": [
          "2020-03-10T00:00:00",
          "2020-03-12T00:00:00",
          "2020-03-14T00:00:00",
          "2020-03-16T00:00:00",
          "2020-03-18T00:00:00",
          "2020-03-20T00:00:00",
          "2020-03-22T00:00:00",
          "2020-03-24T00:00:00",
          "2020-03-26T00:00:00",
          "2020-03-28T00:00:00",
          "2020-03-30T00:00:00",
          "2020-04-01T00:00:00"
         ],
         "xaxis": "x6",
         "y": [
          43,
          109,
          198,
          336,
          646,
          928,
          1196,
          1603,
          2136,
          2448,
          2282,
          2610,
          2370
         ],
         "yaxis": "y6"
        },
        {
         "line": {
          "color": "#bcbd22",
          "shape": "spline"
         },
         "mode": "lines",
         "showlegend": false,
         "type": "scatter",
         "x": [
          "2020-03-10T00:00:00",
          "2020-03-12T00:00:00",
          "2020-03-14T00:00:00",
          "2020-03-16T00:00:00",
          "2020-03-18T00:00:00",
          "2020-03-20T00:00:00",
          "2020-03-22T00:00:00",
          "2020-03-24T00:00:00",
          "2020-03-26T00:00:00",
          "2020-03-28T00:00:00",
          "2020-03-30T00:00:00",
          "2020-04-01T00:00:00"
         ],
         "xaxis": "x6",
         "y": [
          42.2703048324065,
          87.94015410717725,
          169.76823822292988,
          308.81860884867945,
          526.0341494948024,
          829.8481882336822,
          1207.506331108697,
          1607.377734985103,
          1909.2351165589673,
          1994.542115662438,
          1822.1736382696904,
          1407.1622041703627,
          801.5460019139825
         ],
         "yaxis": "y6"
        },
        {
         "fill": "tonexty",
         "fillcolor": "rgba(188,189,34,0.5)",
         "line": {
          "color": "#bcbd22",
          "shape": "spline"
         },
         "mode": "lines",
         "name": "Fit",
         "showlegend": false,
         "type": "scatter",
         "x": [
          "2020-03-10T00:00:00",
          "2020-03-12T00:00:00",
          "2020-03-14T00:00:00",
          "2020-03-16T00:00:00",
          "2020-03-18T00:00:00",
          "2020-03-20T00:00:00",
          "2020-03-22T00:00:00",
          "2020-03-24T00:00:00",
          "2020-03-26T00:00:00",
          "2020-03-28T00:00:00",
          "2020-03-30T00:00:00",
          "2020-04-01T00:00:00"
         ],
         "xaxis": "x6",
         "y": [
          53.36666149678684,
          103.56522678428234,
          198.00498688258313,
          360.3781056525038,
          613.5580945385992,
          967.4557762609235,
          1401.1833406745623,
          1875.2113653127476,
          2389.84866015274,
          2961.3582383450184,
          3578.0988237578345,
          4223.887840160018,
          4879.18388434758
         ],
         "yaxis": "y6"
        },
        {
         "line": {
          "color": "black"
         },
         "mode": "lines",
         "name": "Fit boundary",
         "showlegend": false,
         "type": "scatter",
         "x": [
          "2020-03-24T00:00:00",
          "2020-03-24T00:00:00"
         ],
         "xaxis": "x6",
         "y": [
          0,
          5000
         ],
         "yaxis": "y6"
        },
        {
         "error_y": {
          "array": [
           6.45,
           16.349999999999998,
           29.7,
           50.4,
           96.89999999999999,
           139.2,
           179.4,
           240.45,
           320.4,
           367.2,
           342.3,
           391.5,
           355.5
          ]
         },
         "line": {
          "color": "#1f77b4"
         },
         "mode": "markers+lines",
         "name": "Data",
         "showlegend": false,
         "type": "scatter",
         "x": [
          "2020-03-10T00:00:00",
          "2020-03-12T00:00:00",
          "2020-03-14T00:00:00",
          "2020-03-16T00:00:00",
          "2020-03-18T00:00:00",
          "2020-03-20T00:00:00",
          "2020-03-22T00:00:00",
          "2020-03-24T00:00:00",
          "2020-03-26T00:00:00",
          "2020-03-28T00:00:00",
          "2020-03-30T00:00:00",
          "2020-04-01T00:00:00"
         ],
         "xaxis": "x7",
         "y": [
          43,
          109,
          198,
          336,
          646,
          928,
          1196,
          1603,
          2136,
          2448,
          2282,
          2610,
          2370
         ],
         "yaxis": "y7"
        },
        {
         "line": {
          "color": "#bcbd22",
          "shape": "spline"
         },
         "mode": "lines",
         "showlegend": false,
         "type": "scatter",
         "x": [
          "2020-03-10T00:00:00",
          "2020-03-12T00:00:00",
          "2020-03-14T00:00:00",
          "2020-03-16T00:00:00",
          "2020-03-18T00:00:00",
          "2020-03-20T00:00:00",
          "2020-03-22T00:00:00",
          "2020-03-24T00:00:00",
          "2020-03-26T00:00:00",
          "2020-03-28T00:00:00",
          "2020-03-30T00:00:00",
          "2020-04-01T00:00:00"
         ],
         "xaxis": "x7",
         "y": [
          41.79873881922132,
          87.43974405035101,
          169.29422272638757,
          309.3266767890866,
          528.0135541803531,
          830.4568960209773,
          1197.9889392337138,
          1591.7228439170085,
          1967.4264050217369,
          2242.674318725838,
          2314.701615439406,
          2155.651516456056,
          1777.1230403889458
         ],
         "yaxis": "y7"
        },
        {
         "fill": "tonexty",
         "fillcolor": "rgba(188,189,34,0.5)",
         "line": {
          "color": "#bcbd22",
          "shape": "spline"
         },
         "mode": "lines",
         "name": "Fit",
         "showlegend": false,
         "type": "scatter",
         "x": [
          "2020-03-10T00:00:00",
          "2020-03-12T00:00:00",
          "2020-03-14T00:00:00",
          "2020-03-16T00:00:00",
          "2020-03-18T00:00:00",
          "2020-03-20T00:00:00",
          "2020-03-22T00:00:00",
          "2020-03-24T00:00:00",
          "2020-03-26T00:00:00",
          "2020-03-28T00:00:00",
          "2020-03-30T00:00:00",
          "2020-04-01T00:00:00"
         ],
         "xaxis": "x7",
         "y": [
          53.08864252365269,
          103.31395362635237,
          199.14707539519574,
          364.1075482732996,
          618.9504341793026,
          968.8008670508765,
          1392.1853490467408,
          1849.6991422765104,
          2307.1904544684903,
          2799.334276252079,
          3416.3967727610034,
          4196.606103112282,
          5147.6567020751445
         ],
         "yaxis": "y7"
        },
        {
         "line": {
          "color": "black"
         },
         "mode": "lines",
         "name": "Fit boundary",
         "showlegend": false,
         "type": "scatter",
         "x": [
          "2020-03-26T00:00:00",
          "2020-03-26T00:00:00"
         ],
         "xaxis": "x7",
         "y": [
          0,
          5000
         ],
         "yaxis": "y7"
        },
        {
         "error_y": {
          "array": [
           6.45,
           16.349999999999998,
           29.7,
           50.4,
           96.89999999999999,
           139.2,
           179.4,
           240.45,
           320.4,
           367.2,
           342.3,
           391.5,
           355.5
          ]
         },
         "line": {
          "color": "#1f77b4"
         },
         "mode": "markers+lines",
         "name": "Data",
         "showlegend": false,
         "type": "scatter",
         "x": [
          "2020-03-10T00:00:00",
          "2020-03-12T00:00:00",
          "2020-03-14T00:00:00",
          "2020-03-16T00:00:00",
          "2020-03-18T00:00:00",
          "2020-03-20T00:00:00",
          "2020-03-22T00:00:00",
          "2020-03-24T00:00:00",
          "2020-03-26T00:00:00",
          "2020-03-28T00:00:00",
          "2020-03-30T00:00:00",
          "2020-04-01T00:00:00"
         ],
         "xaxis": "x8",
         "y": [
          43,
          109,
          198,
          336,
          646,
          928,
          1196,
          1603,
          2136,
          2448,
          2282,
          2610,
          2370
         ],
         "yaxis": "y8"
        },
        {
         "line": {
          "color": "#bcbd22",
          "shape": "spline"
         },
         "mode": "lines",
         "showlegend": false,
         "type": "scatter",
         "x": [
          "2020-03-10T00:00:00",
          "2020-03-12T00:00:00",
          "2020-03-14T00:00:00",
          "2020-03-16T00:00:00",
          "2020-03-18T00:00:00",
          "2020-03-20T00:00:00",
          "2020-03-22T00:00:00",
          "2020-03-24T00:00:00",
          "2020-03-26T00:00:00",
          "2020-03-28T00:00:00",
          "2020-03-30T00:00:00",
          "2020-04-01T00:00:00"
         ],
         "xaxis": "x8",
         "y": [
          41.98445775865948,
          87.57860228576058,
          169.37956500495582,
          309.31399788864474,
          529.4681786340194,
          836.3004250206402,
          1208.5291909641342,
          1594.0777426580055,
          1928.5229813505316,
          2162.428223702598,
          2231.9448686819064,
          2076.490849835134,
          1727.7068951610595
         ],
         "yaxis": "y8"
        },
        {
         "fill": "tonexty",
         "fillcolor": "rgba(188,189,34,0.5)",
         "line": {
          "color": "#bcbd22",
          "shape": "spline"
         },
         "mode": "lines",
         "name": "Fit",
         "showlegend": false,
         "type": "scatter",
         "x": [
          "2020-03-10T00:00:00",
          "2020-03-12T00:00:00",
          "2020-03-14T00:00:00",
          "2020-03-16T00:00:00",
          "2020-03-18T00:00:00",
          "2020-03-20T00:00:00",
          "2020-03-22T00:00:00",
          "2020-03-24T00:00:00",
          "2020-03-26T00:00:00",
          "2020-03-28T00:00:00",
          "2020-03-30T00:00:00",
          "2020-04-01T00:00:00"
         ],
         "xaxis": "x8",
         "y": [
          53.13221972601733,
          103.15440622737333,
          198.06524763833343,
          361.7855054500791,
          616.2391838533846,
          969.1083945459898,
          1396.0808011320746,
          1841.0406393219703,
          2236.7690599335297,
          2533.4185605079947,
          2758.785414186825,
          2993.4211147540846,
          3254.953159831332
         ],
         "yaxis": "y8"
        },
        {
         "line": {
          "color": "black"
         },
         "mode": "lines",
         "name": "Fit boundary",
         "showlegend": false,
         "type": "scatter",
         "x": [
          "2020-03-28T00:00:00",
          "2020-03-28T00:00:00"
         ],
         "xaxis": "x8",
         "y": [
          0,
          5000
         ],
         "yaxis": "y8"
        },
        {
         "error_y": {
          "array": [
           6.45,
           16.349999999999998,
           29.7,
           50.4,
           96.89999999999999,
           139.2,
           179.4,
           240.45,
           320.4,
           367.2,
           342.3,
           391.5,
           355.5
          ]
         },
         "line": {
          "color": "#1f77b4"
         },
         "mode": "markers+lines",
         "name": "Data",
         "showlegend": false,
         "type": "scatter",
         "x": [
          "2020-03-10T00:00:00",
          "2020-03-12T00:00:00",
          "2020-03-14T00:00:00",
          "2020-03-16T00:00:00",
          "2020-03-18T00:00:00",
          "2020-03-20T00:00:00",
          "2020-03-22T00:00:00",
          "2020-03-24T00:00:00",
          "2020-03-26T00:00:00",
          "2020-03-28T00:00:00",
          "2020-03-30T00:00:00",
          "2020-04-01T00:00:00"
         ],
         "xaxis": "x9",
         "y": [
          43,
          109,
          198,
          336,
          646,
          928,
          1196,
          1603,
          2136,
          2448,
          2282,
          2610,
          2370
         ],
         "yaxis": "y9"
        },
        {
         "line": {
          "color": "#bcbd22",
          "shape": "spline"
         },
         "mode": "lines",
         "showlegend": false,
         "type": "scatter",
         "x": [
          "2020-03-10T00:00:00",
          "2020-03-12T00:00:00",
          "2020-03-14T00:00:00",
          "2020-03-16T00:00:00",
          "2020-03-18T00:00:00",
          "2020-03-20T00:00:00",
          "2020-03-22T00:00:00",
          "2020-03-24T00:00:00",
          "2020-03-26T00:00:00",
          "2020-03-28T00:00:00",
          "2020-03-30T00:00:00",
          "2020-04-01T00:00:00"
         ],
         "xaxis": "x9",
         "y": [
          41.64197885525332,
          86.98050785343528,
          168.53482762190998,
          309.89149342624324,
          532.5691398355209,
          838.0127712627702,
          1202.9967751137333,
          1574.79892881115,
          1893.372589497725,
          2146.1616816059195,
          2329.5294985955957,
          2372.697169599647,
          2243.6194258630057
         ],
         "yaxis": "y9"
        },
        {
         "fill": "tonexty",
         "fillcolor": "rgba(188,189,34,0.5)",
         "line": {
          "color": "#bcbd22",
          "shape": "spline"
         },
         "mode": "lines",
         "name": "Fit",
         "showlegend": false,
         "type": "scatter",
         "x": [
          "2020-03-10T00:00:00",
          "2020-03-12T00:00:00",
          "2020-03-14T00:00:00",
          "2020-03-16T00:00:00",
          "2020-03-18T00:00:00",
          "2020-03-20T00:00:00",
          "2020-03-22T00:00:00",
          "2020-03-24T00:00:00",
          "2020-03-26T00:00:00",
          "2020-03-28T00:00:00",
          "2020-03-30T00:00:00",
          "2020-04-01T00:00:00"
         ],
         "xaxis": "x9",
         "y": [
          52.9450336922359,
          102.77230026456738,
          198.67705192796365,
          364.7337426569141,
          623.0399492170043,
          978.6843459193192,
          1396.4433009243012,
          1819.726594167946,
          2203.185542957723,
          2503.253466472587,
          2720.138325617401,
          2951.0148076981986,
          3261.7213479774427
         ],
         "yaxis": "y9"
        },
        {
         "line": {
          "color": "black"
         },
         "mode": "lines",
         "name": "Fit boundary",
         "showlegend": false,
         "type": "scatter",
         "x": [
          "2020-03-30T00:00:00",
          "2020-03-30T00:00:00"
         ],
         "xaxis": "x9",
         "y": [
          0,
          5000
         ],
         "yaxis": "y9"
        },
        {
         "error_y": {
          "array": [
           6.45,
           16.349999999999998,
           29.7,
           50.4,
           96.89999999999999,
           139.2,
           179.4,
           240.45,
           320.4,
           367.2,
           342.3,
           391.5,
           355.5
          ]
         },
         "line": {
          "color": "#1f77b4"
         },
         "mode": "markers+lines",
         "name": "Data",
         "showlegend": false,
         "type": "scatter",
         "x": [
          "2020-03-10T00:00:00",
          "2020-03-12T00:00:00",
          "2020-03-14T00:00:00",
          "2020-03-16T00:00:00",
          "2020-03-18T00:00:00",
          "2020-03-20T00:00:00",
          "2020-03-22T00:00:00",
          "2020-03-24T00:00:00",
          "2020-03-26T00:00:00",
          "2020-03-28T00:00:00",
          "2020-03-30T00:00:00",
          "2020-04-01T00:00:00"
         ],
         "xaxis": "x10",
         "y": [
          43,
          109,
          198,
          336,
          646,
          928,
          1196,
          1603,
          2136,
          2448,
          2282,
          2610,
          2370
         ],
         "yaxis": "y10"
        },
        {
         "line": {
          "color": "#bcbd22",
          "shape": "spline"
         },
         "mode": "lines",
         "showlegend": false,
         "type": "scatter",
         "x": [
          "2020-03-10T00:00:00",
          "2020-03-12T00:00:00",
          "2020-03-14T00:00:00",
          "2020-03-16T00:00:00",
          "2020-03-18T00:00:00",
          "2020-03-20T00:00:00",
          "2020-03-22T00:00:00",
          "2020-03-24T00:00:00",
          "2020-03-26T00:00:00",
          "2020-03-28T00:00:00",
          "2020-03-30T00:00:00",
          "2020-04-01T00:00:00"
         ],
         "xaxis": "x10",
         "y": [
          41.702874122726385,
          87.02848508361663,
          168.4515082435487,
          309.16253502711555,
          531.6004620496452,
          838.5541820571999,
          1206.8021850979062,
          1586.2691653091267,
          1908.036660819682,
          2137.0687617672643,
          2286.499339543521,
          2349.6098640198843,
          2270.2951183099935
         ],
         "yaxis": "y10"
        },
        {
         "fill": "tonexty",
         "fillcolor": "rgba(188,189,34,0.5)",
         "line": {
          "color": "#bcbd22",
          "shape": "spline"
         },
         "mode": "lines",
         "name": "Fit",
         "showlegend": false,
         "type": "scatter",
         "x": [
          "2020-03-10T00:00:00",
          "2020-03-12T00:00:00",
          "2020-03-14T00:00:00",
          "2020-03-16T00:00:00",
          "2020-03-18T00:00:00",
          "2020-03-20T00:00:00",
          "2020-03-22T00:00:00",
          "2020-03-24T00:00:00",
          "2020-03-26T00:00:00",
          "2020-03-28T00:00:00",
          "2020-03-30T00:00:00",
          "2020-04-01T00:00:00"
         ],
         "xaxis": "x10",
         "y": [
          52.93835762162453,
          102.66987501663363,
          197.97476337749322,
          362.85633032040863,
          619.3502642751208,
          974.908674305428,
          1398.1053460002722,
          1824.9855373487915,
          2201.8263474436485,
          2487.0907255534908,
          2653.2891984997436,
          2735.5282358609566,
          2833.674646571872
         ],
         "yaxis": "y10"
        },
        {
         "line": {
          "color": "black"
         },
         "mode": "lines",
         "name": "Fit boundary",
         "showlegend": false,
         "type": "scatter",
         "x": [
          "2020-04-01T00:00:00",
          "2020-04-01T00:00:00"
         ],
         "xaxis": "x10",
         "y": [
          0,
          5000
         ],
         "yaxis": "y10"
        }
       ],
       "layout": {
        "annotations": [
         {
          "font": {
           "size": 16
          },
          "showarrow": false,
          "text": "Fitted days: 8",
          "x": 0.13333333333333333,
          "xanchor": "center",
          "xref": "paper",
          "y": 1,
          "yanchor": "bottom",
          "yref": "paper"
         },
         {
          "font": {
           "size": 16
          },
          "showarrow": false,
          "text": "Fitted days: 10",
          "x": 0.5,
          "xanchor": "center",
          "xref": "paper",
          "y": 1,
          "yanchor": "bottom",
          "yref": "paper"
         },
         {
          "font": {
           "size": 16
          },
          "showarrow": false,
          "text": "Fitted days: 12",
          "x": 0.8666666666666667,
          "xanchor": "center",
          "xref": "paper",
          "y": 1,
          "yanchor": "bottom",
          "yref": "paper"
         },
         {
          "font": {
           "size": 16
          },
          "showarrow": false,
          "text": "Fitted days: 14",
          "x": 0.13333333333333333,
          "xanchor": "center",
          "xref": "paper",
          "y": 0.7250000000000001,
          "yanchor": "bottom",
          "yref": "paper"
         },
         {
          "font": {
           "size": 16
          },
          "showarrow": false,
          "text": "Fitted days: 16",
          "x": 0.5,
          "xanchor": "center",
          "xref": "paper",
          "y": 0.7250000000000001,
          "yanchor": "bottom",
          "yref": "paper"
         },
         {
          "font": {
           "size": 16
          },
          "showarrow": false,
          "text": "Fitted days: 18",
          "x": 0.8666666666666667,
          "xanchor": "center",
          "xref": "paper",
          "y": 0.7250000000000001,
          "yanchor": "bottom",
          "yref": "paper"
         },
         {
          "font": {
           "size": 16
          },
          "showarrow": false,
          "text": "Fitted days: 20",
          "x": 0.13333333333333333,
          "xanchor": "center",
          "xref": "paper",
          "y": 0.45,
          "yanchor": "bottom",
          "yref": "paper"
         },
         {
          "font": {
           "size": 16
          },
          "showarrow": false,
          "text": "Fitted days: 22",
          "x": 0.5,
          "xanchor": "center",
          "xref": "paper",
          "y": 0.45,
          "yanchor": "bottom",
          "yref": "paper"
         },
         {
          "font": {
           "size": 16
          },
          "showarrow": false,
          "text": "Fitted days: 24",
          "x": 0.8666666666666667,
          "xanchor": "center",
          "xref": "paper",
          "y": 0.45,
          "yanchor": "bottom",
          "yref": "paper"
         },
         {
          "font": {
           "size": 16
          },
          "showarrow": false,
          "text": "Fitted days: 26",
          "x": 0.13333333333333333,
          "xanchor": "center",
          "xref": "paper",
          "y": 0.175,
          "yanchor": "bottom",
          "yref": "paper"
         }
        ],
        "height": 1200,
        "template": {
         "data": {
          "bar": [
           {
            "error_x": {
             "color": "#2a3f5f"
            },
            "error_y": {
             "color": "#2a3f5f"
            },
            "marker": {
             "line": {
              "color": "#E5ECF6",
              "width": 0.5
             }
            },
            "type": "bar"
           }
          ],
          "barpolar": [
           {
            "marker": {
             "line": {
              "color": "#E5ECF6",
              "width": 0.5
             }
            },
            "type": "barpolar"
           }
          ],
          "carpet": [
           {
            "aaxis": {
             "endlinecolor": "#2a3f5f",
             "gridcolor": "white",
             "linecolor": "white",
             "minorgridcolor": "white",
             "startlinecolor": "#2a3f5f"
            },
            "baxis": {
             "endlinecolor": "#2a3f5f",
             "gridcolor": "white",
             "linecolor": "white",
             "minorgridcolor": "white",
             "startlinecolor": "#2a3f5f"
            },
            "type": "carpet"
           }
          ],
          "choropleth": [
           {
            "colorbar": {
             "outlinewidth": 0,
             "ticks": ""
            },
            "type": "choropleth"
           }
          ],
          "contour": [
           {
            "colorbar": {
             "outlinewidth": 0,
             "ticks": ""
            },
            "colorscale": [
             [
              0,
              "#0d0887"
             ],
             [
              0.1111111111111111,
              "#46039f"
             ],
             [
              0.2222222222222222,
              "#7201a8"
             ],
             [
              0.3333333333333333,
              "#9c179e"
             ],
             [
              0.4444444444444444,
              "#bd3786"
             ],
             [
              0.5555555555555556,
              "#d8576b"
             ],
             [
              0.6666666666666666,
              "#ed7953"
             ],
             [
              0.7777777777777778,
              "#fb9f3a"
             ],
             [
              0.8888888888888888,
              "#fdca26"
             ],
             [
              1,
              "#f0f921"
             ]
            ],
            "type": "contour"
           }
          ],
          "contourcarpet": [
           {
            "colorbar": {
             "outlinewidth": 0,
             "ticks": ""
            },
            "type": "contourcarpet"
           }
          ],
          "heatmap": [
           {
            "colorbar": {
             "outlinewidth": 0,
             "ticks": ""
            },
            "colorscale": [
             [
              0,
              "#0d0887"
             ],
             [
              0.1111111111111111,
              "#46039f"
             ],
             [
              0.2222222222222222,
              "#7201a8"
             ],
             [
              0.3333333333333333,
              "#9c179e"
             ],
             [
              0.4444444444444444,
              "#bd3786"
             ],
             [
              0.5555555555555556,
              "#d8576b"
             ],
             [
              0.6666666666666666,
              "#ed7953"
             ],
             [
              0.7777777777777778,
              "#fb9f3a"
             ],
             [
              0.8888888888888888,
              "#fdca26"
             ],
             [
              1,
              "#f0f921"
             ]
            ],
            "type": "heatmap"
           }
          ],
          "heatmapgl": [
           {
            "colorbar": {
             "outlinewidth": 0,
             "ticks": ""
            },
            "colorscale": [
             [
              0,
              "#0d0887"
             ],
             [
              0.1111111111111111,
              "#46039f"
             ],
             [
              0.2222222222222222,
              "#7201a8"
             ],
             [
              0.3333333333333333,
              "#9c179e"
             ],
             [
              0.4444444444444444,
              "#bd3786"
             ],
             [
              0.5555555555555556,
              "#d8576b"
             ],
             [
              0.6666666666666666,
              "#ed7953"
             ],
             [
              0.7777777777777778,
              "#fb9f3a"
             ],
             [
              0.8888888888888888,
              "#fdca26"
             ],
             [
              1,
              "#f0f921"
             ]
            ],
            "type": "heatmapgl"
           }
          ],
          "histogram": [
           {
            "marker": {
             "colorbar": {
              "outlinewidth": 0,
              "ticks": ""
             }
            },
            "type": "histogram"
           }
          ],
          "histogram2d": [
           {
            "colorbar": {
             "outlinewidth": 0,
             "ticks": ""
            },
            "colorscale": [
             [
              0,
              "#0d0887"
             ],
             [
              0.1111111111111111,
              "#46039f"
             ],
             [
              0.2222222222222222,
              "#7201a8"
             ],
             [
              0.3333333333333333,
              "#9c179e"
             ],
             [
              0.4444444444444444,
              "#bd3786"
             ],
             [
              0.5555555555555556,
              "#d8576b"
             ],
             [
              0.6666666666666666,
              "#ed7953"
             ],
             [
              0.7777777777777778,
              "#fb9f3a"
             ],
             [
              0.8888888888888888,
              "#fdca26"
             ],
             [
              1,
              "#f0f921"
             ]
            ],
            "type": "histogram2d"
           }
          ],
          "histogram2dcontour": [
           {
            "colorbar": {
             "outlinewidth": 0,
             "ticks": ""
            },
            "colorscale": [
             [
              0,
              "#0d0887"
             ],
             [
              0.1111111111111111,
              "#46039f"
             ],
             [
              0.2222222222222222,
              "#7201a8"
             ],
             [
              0.3333333333333333,
              "#9c179e"
             ],
             [
              0.4444444444444444,
              "#bd3786"
             ],
             [
              0.5555555555555556,
              "#d8576b"
             ],
             [
              0.6666666666666666,
              "#ed7953"
             ],
             [
              0.7777777777777778,
              "#fb9f3a"
             ],
             [
              0.8888888888888888,
              "#fdca26"
             ],
             [
              1,
              "#f0f921"
             ]
            ],
            "type": "histogram2dcontour"
           }
          ],
          "mesh3d": [
           {
            "colorbar": {
             "outlinewidth": 0,
             "ticks": ""
            },
            "type": "mesh3d"
           }
          ],
          "parcoords": [
           {
            "line": {
             "colorbar": {
              "outlinewidth": 0,
              "ticks": ""
             }
            },
            "type": "parcoords"
           }
          ],
          "pie": [
           {
            "automargin": true,
            "type": "pie"
           }
          ],
          "scatter": [
           {
            "marker": {
             "colorbar": {
              "outlinewidth": 0,
              "ticks": ""
             }
            },
            "type": "scatter"
           }
          ],
          "scatter3d": [
           {
            "line": {
             "colorbar": {
              "outlinewidth": 0,
              "ticks": ""
             }
            },
            "marker": {
             "colorbar": {
              "outlinewidth": 0,
              "ticks": ""
             }
            },
            "type": "scatter3d"
           }
          ],
          "scattercarpet": [
           {
            "marker": {
             "colorbar": {
              "outlinewidth": 0,
              "ticks": ""
             }
            },
            "type": "scattercarpet"
           }
          ],
          "scattergeo": [
           {
            "marker": {
             "colorbar": {
              "outlinewidth": 0,
              "ticks": ""
             }
            },
            "type": "scattergeo"
           }
          ],
          "scattergl": [
           {
            "marker": {
             "colorbar": {
              "outlinewidth": 0,
              "ticks": ""
             }
            },
            "type": "scattergl"
           }
          ],
          "scattermapbox": [
           {
            "marker": {
             "colorbar": {
              "outlinewidth": 0,
              "ticks": ""
             }
            },
            "type": "scattermapbox"
           }
          ],
          "scatterpolar": [
           {
            "marker": {
             "colorbar": {
              "outlinewidth": 0,
              "ticks": ""
             }
            },
            "type": "scatterpolar"
           }
          ],
          "scatterpolargl": [
           {
            "marker": {
             "colorbar": {
              "outlinewidth": 0,
              "ticks": ""
             }
            },
            "type": "scatterpolargl"
           }
          ],
          "scatterternary": [
           {
            "marker": {
             "colorbar": {
              "outlinewidth": 0,
              "ticks": ""
             }
            },
            "type": "scatterternary"
           }
          ],
          "surface": [
           {
            "colorbar": {
             "outlinewidth": 0,
             "ticks": ""
            },
            "colorscale": [
             [
              0,
              "#0d0887"
             ],
             [
              0.1111111111111111,
              "#46039f"
             ],
             [
              0.2222222222222222,
              "#7201a8"
             ],
             [
              0.3333333333333333,
              "#9c179e"
             ],
             [
              0.4444444444444444,
              "#bd3786"
             ],
             [
              0.5555555555555556,
              "#d8576b"
             ],
             [
              0.6666666666666666,
              "#ed7953"
             ],
             [
              0.7777777777777778,
              "#fb9f3a"
             ],
             [
              0.8888888888888888,
              "#fdca26"
             ],
             [
              1,
              "#f0f921"
             ]
            ],
            "type": "surface"
           }
          ],
          "table": [
           {
            "cells": {
             "fill": {
              "color": "#EBF0F8"
             },
             "line": {
              "color": "white"
             }
            },
            "header": {
             "fill": {
              "color": "#C8D4E3"
             },
             "line": {
              "color": "white"
             }
            },
            "type": "table"
           }
          ]
         },
         "layout": {
          "annotationdefaults": {
           "arrowcolor": "#2a3f5f",
           "arrowhead": 0,
           "arrowwidth": 1
          },
          "coloraxis": {
           "colorbar": {
            "outlinewidth": 0,
            "ticks": ""
           }
          },
          "colorscale": {
           "diverging": [
            [
             0,
             "#8e0152"
            ],
            [
             0.1,
             "#c51b7d"
            ],
            [
             0.2,
             "#de77ae"
            ],
            [
             0.3,
             "#f1b6da"
            ],
            [
             0.4,
             "#fde0ef"
            ],
            [
             0.5,
             "#f7f7f7"
            ],
            [
             0.6,
             "#e6f5d0"
            ],
            [
             0.7,
             "#b8e186"
            ],
            [
             0.8,
             "#7fbc41"
            ],
            [
             0.9,
             "#4d9221"
            ],
            [
             1,
             "#276419"
            ]
           ],
           "sequential": [
            [
             0,
             "#0d0887"
            ],
            [
             0.1111111111111111,
             "#46039f"
            ],
            [
             0.2222222222222222,
             "#7201a8"
            ],
            [
             0.3333333333333333,
             "#9c179e"
            ],
            [
             0.4444444444444444,
             "#bd3786"
            ],
            [
             0.5555555555555556,
             "#d8576b"
            ],
            [
             0.6666666666666666,
             "#ed7953"
            ],
            [
             0.7777777777777778,
             "#fb9f3a"
            ],
            [
             0.8888888888888888,
             "#fdca26"
            ],
            [
             1,
             "#f0f921"
            ]
           ],
           "sequentialminus": [
            [
             0,
             "#0d0887"
            ],
            [
             0.1111111111111111,
             "#46039f"
            ],
            [
             0.2222222222222222,
             "#7201a8"
            ],
            [
             0.3333333333333333,
             "#9c179e"
            ],
            [
             0.4444444444444444,
             "#bd3786"
            ],
            [
             0.5555555555555556,
             "#d8576b"
            ],
            [
             0.6666666666666666,
             "#ed7953"
            ],
            [
             0.7777777777777778,
             "#fb9f3a"
            ],
            [
             0.8888888888888888,
             "#fdca26"
            ],
            [
             1,
             "#f0f921"
            ]
           ]
          },
          "colorway": [
           "#636efa",
           "#EF553B",
           "#00cc96",
           "#ab63fa",
           "#FFA15A",
           "#19d3f3",
           "#FF6692",
           "#B6E880",
           "#FF97FF",
           "#FECB52"
          ],
          "font": {
           "color": "#2a3f5f"
          },
          "geo": {
           "bgcolor": "white",
           "lakecolor": "white",
           "landcolor": "#E5ECF6",
           "showlakes": true,
           "showland": true,
           "subunitcolor": "white"
          },
          "hoverlabel": {
           "align": "left"
          },
          "hovermode": "closest",
          "mapbox": {
           "style": "light"
          },
          "paper_bgcolor": "white",
          "plot_bgcolor": "#E5ECF6",
          "polar": {
           "angularaxis": {
            "gridcolor": "white",
            "linecolor": "white",
            "ticks": ""
           },
           "bgcolor": "#E5ECF6",
           "radialaxis": {
            "gridcolor": "white",
            "linecolor": "white",
            "ticks": ""
           }
          },
          "scene": {
           "xaxis": {
            "backgroundcolor": "#E5ECF6",
            "gridcolor": "white",
            "gridwidth": 2,
            "linecolor": "white",
            "showbackground": true,
            "ticks": "",
            "zerolinecolor": "white"
           },
           "yaxis": {
            "backgroundcolor": "#E5ECF6",
            "gridcolor": "white",
            "gridwidth": 2,
            "linecolor": "white",
            "showbackground": true,
            "ticks": "",
            "zerolinecolor": "white"
           },
           "zaxis": {
            "backgroundcolor": "#E5ECF6",
            "gridcolor": "white",
            "gridwidth": 2,
            "linecolor": "white",
            "showbackground": true,
            "ticks": "",
            "zerolinecolor": "white"
           }
          },
          "shapedefaults": {
           "line": {
            "color": "#2a3f5f"
           }
          },
          "ternary": {
           "aaxis": {
            "gridcolor": "white",
            "linecolor": "white",
            "ticks": ""
           },
           "baxis": {
            "gridcolor": "white",
            "linecolor": "white",
            "ticks": ""
           },
           "bgcolor": "#E5ECF6",
           "caxis": {
            "gridcolor": "white",
            "linecolor": "white",
            "ticks": ""
           }
          },
          "title": {
           "x": 0.05
          },
          "xaxis": {
           "automargin": true,
           "gridcolor": "white",
           "linecolor": "white",
           "ticks": "",
           "title": {
            "standoff": 15
           },
           "zerolinecolor": "white",
           "zerolinewidth": 2
          },
          "yaxis": {
           "automargin": true,
           "gridcolor": "white",
           "linecolor": "white",
           "ticks": "",
           "title": {
            "standoff": 15
           },
           "zerolinecolor": "white",
           "zerolinewidth": 2
          }
         }
        },
        "width": 800,
        "xaxis": {
         "anchor": "y",
         "domain": [
          0,
          0.26666666666666666
         ],
         "matches": "x10",
         "showticklabels": false
        },
        "xaxis10": {
         "anchor": "y10",
         "domain": [
          0,
          0.26666666666666666
         ]
        },
        "xaxis11": {
         "anchor": "y11",
         "domain": [
          0.3666666666666667,
          0.6333333333333333
         ]
        },
        "xaxis12": {
         "anchor": "y12",
         "domain": [
          0.7333333333333334,
          1
         ]
        },
        "xaxis2": {
         "anchor": "y2",
         "domain": [
          0.3666666666666667,
          0.6333333333333333
         ],
         "matches": "x11",
         "showticklabels": false
        },
        "xaxis3": {
         "anchor": "y3",
         "domain": [
          0.7333333333333334,
          1
         ],
         "matches": "x12",
         "showticklabels": false
        },
        "xaxis4": {
         "anchor": "y4",
         "domain": [
          0,
          0.26666666666666666
         ],
         "matches": "x10",
         "showticklabels": false
        },
        "xaxis5": {
         "anchor": "y5",
         "domain": [
          0.3666666666666667,
          0.6333333333333333
         ],
         "matches": "x11",
         "showticklabels": false
        },
        "xaxis6": {
         "anchor": "y6",
         "domain": [
          0.7333333333333334,
          1
         ],
         "matches": "x12",
         "showticklabels": false
        },
        "xaxis7": {
         "anchor": "y7",
         "domain": [
          0,
          0.26666666666666666
         ],
         "matches": "x10",
         "showticklabels": false
        },
        "xaxis8": {
         "anchor": "y8",
         "domain": [
          0.3666666666666667,
          0.6333333333333333
         ],
         "matches": "x11",
         "showticklabels": false
        },
        "xaxis9": {
         "anchor": "y9",
         "domain": [
          0.7333333333333334,
          1
         ],
         "matches": "x12",
         "showticklabels": false
        },
        "yaxis": {
         "anchor": "x",
         "domain": [
          0.825,
          1
         ],
         "range": [
          0,
          5000
         ]
        },
        "yaxis10": {
         "anchor": "x10",
         "domain": [
          0,
          0.175
         ],
         "range": [
          0,
          5000
         ]
        },
        "yaxis11": {
         "anchor": "x11",
         "domain": [
          0,
          0.175
         ],
         "matches": "y10",
         "showticklabels": false
        },
        "yaxis12": {
         "anchor": "x12",
         "domain": [
          0,
          0.175
         ],
         "matches": "y10",
         "showticklabels": false
        },
        "yaxis2": {
         "anchor": "x2",
         "domain": [
          0.825,
          1
         ],
         "matches": "y",
         "range": [
          0,
          5000
         ],
         "showticklabels": false
        },
        "yaxis3": {
         "anchor": "x3",
         "domain": [
          0.825,
          1
         ],
         "matches": "y",
         "range": [
          0,
          5000
         ],
         "showticklabels": false
        },
        "yaxis4": {
         "anchor": "x4",
         "domain": [
          0.55,
          0.7250000000000001
         ],
         "range": [
          0,
          5000
         ]
        },
        "yaxis5": {
         "anchor": "x5",
         "domain": [
          0.55,
          0.7250000000000001
         ],
         "matches": "y4",
         "range": [
          0,
          5000
         ],
         "showticklabels": false
        },
        "yaxis6": {
         "anchor": "x6",
         "domain": [
          0.55,
          0.7250000000000001
         ],
         "matches": "y4",
         "range": [
          0,
          5000
         ],
         "showticklabels": false
        },
        "yaxis7": {
         "anchor": "x7",
         "domain": [
          0.275,
          0.45
         ],
         "range": [
          0,
          5000
         ]
        },
        "yaxis8": {
         "anchor": "x8",
         "domain": [
          0.275,
          0.45
         ],
         "matches": "y7",
         "range": [
          0,
          5000
         ],
         "showticklabels": false
        },
        "yaxis9": {
         "anchor": "x9",
         "domain": [
          0.275,
          0.45
         ],
         "matches": "y7",
         "range": [
          0,
          5000
         ],
         "showticklabels": false
        }
       }
      },
      "text/html": [
       "<div>\n",
       "        \n",
       "        \n",
       "            <div id=\"1580a32a-9235-4fd6-9453-998a5dc26381\" class=\"plotly-graph-div\" style=\"height:1200px; width:800px;\"></div>\n",
       "            <script type=\"text/javascript\">\n",
       "                require([\"plotly\"], function(Plotly) {\n",
       "                    window.PLOTLYENV=window.PLOTLYENV || {};\n",
       "                    \n",
       "                if (document.getElementById(\"1580a32a-9235-4fd6-9453-998a5dc26381\")) {\n",
       "                    Plotly.newPlot(\n",
       "                        '1580a32a-9235-4fd6-9453-998a5dc26381',\n",
       "                        [{\"error_y\": {\"array\": [6.45, 16.349999999999998, 29.7, 50.4, 96.89999999999999, 139.2, 179.4, 240.45, 320.4, 367.2, 342.3, 391.5, 355.5]}, \"line\": {\"color\": \"#1f77b4\"}, \"mode\": \"markers+lines\", \"name\": \"Data\", \"showlegend\": true, \"type\": \"scatter\", \"x\": [\"2020-03-10T00:00:00\", \"2020-03-12T00:00:00\", \"2020-03-14T00:00:00\", \"2020-03-16T00:00:00\", \"2020-03-18T00:00:00\", \"2020-03-20T00:00:00\", \"2020-03-22T00:00:00\", \"2020-03-24T00:00:00\", \"2020-03-26T00:00:00\", \"2020-03-28T00:00:00\", \"2020-03-30T00:00:00\", \"2020-04-01T00:00:00\"], \"xaxis\": \"x\", \"y\": [43, 109, 198, 336, 646, 928, 1196, 1603, 2136, 2448, 2282, 2610, 2370], \"yaxis\": \"y\"}, {\"line\": {\"color\": \"#bcbd22\", \"shape\": \"spline\"}, \"mode\": \"lines\", \"showlegend\": false, \"type\": \"scatter\", \"x\": [\"2020-03-10T00:00:00\", \"2020-03-12T00:00:00\", \"2020-03-14T00:00:00\", \"2020-03-16T00:00:00\", \"2020-03-18T00:00:00\", \"2020-03-20T00:00:00\", \"2020-03-22T00:00:00\", \"2020-03-24T00:00:00\", \"2020-03-26T00:00:00\", \"2020-03-28T00:00:00\", \"2020-03-30T00:00:00\", \"2020-04-01T00:00:00\"], \"xaxis\": \"x\", \"y\": [41.16748571630741, 86.25124763149464, 170.02088547489788, 315.5587874114883, 561.4540487567353, 960.1460148446454, 1568.1137028524704, 2416.820700063774, 3446.543373735492, 3629.8082300719616, 1836.734693877554, 1836.7346938775472, 1836.7346938775506], \"yaxis\": \"y\"}, {\"fill\": \"tonexty\", \"fillcolor\": \"rgba(188,189,34,0.5)\", \"line\": {\"color\": \"#bcbd22\", \"shape\": \"spline\"}, \"mode\": \"lines\", \"name\": \"Fit\", \"showlegend\": true, \"type\": \"scatter\", \"x\": [\"2020-03-10T00:00:00\", \"2020-03-12T00:00:00\", \"2020-03-14T00:00:00\", \"2020-03-16T00:00:00\", \"2020-03-18T00:00:00\", \"2020-03-20T00:00:00\", \"2020-03-22T00:00:00\", \"2020-03-24T00:00:00\", \"2020-03-26T00:00:00\", \"2020-03-28T00:00:00\", \"2020-03-30T00:00:00\", \"2020-04-01T00:00:00\"], \"xaxis\": \"x\", \"y\": [52.42787278174963, 101.65095689883356, 200.48904685989984, 400.85800829614925, 794.8070201834564, 1549.8055608171621, 2966.0299953772205, 5567.432812868251, 10240.889919025421, 13402.660009334108, 3877.551020408166, 3877.55102040816, 3877.551020408163], \"yaxis\": \"y\"}, {\"line\": {\"color\": \"black\"}, \"mode\": \"lines\", \"name\": \"Fit boundary\", \"showlegend\": true, \"type\": \"scatter\", \"x\": [\"2020-03-14T00:00:00\", \"2020-03-14T00:00:00\"], \"xaxis\": \"x\", \"y\": [0, 5000], \"yaxis\": \"y\"}, {\"error_y\": {\"array\": [6.45, 16.349999999999998, 29.7, 50.4, 96.89999999999999, 139.2, 179.4, 240.45, 320.4, 367.2, 342.3, 391.5, 355.5]}, \"line\": {\"color\": \"#1f77b4\"}, \"mode\": \"markers+lines\", \"name\": \"Data\", \"showlegend\": false, \"type\": \"scatter\", \"x\": [\"2020-03-10T00:00:00\", \"2020-03-12T00:00:00\", \"2020-03-14T00:00:00\", \"2020-03-16T00:00:00\", \"2020-03-18T00:00:00\", \"2020-03-20T00:00:00\", \"2020-03-22T00:00:00\", \"2020-03-24T00:00:00\", \"2020-03-26T00:00:00\", \"2020-03-28T00:00:00\", \"2020-03-30T00:00:00\", \"2020-04-01T00:00:00\"], \"xaxis\": \"x2\", \"y\": [43, 109, 198, 336, 646, 928, 1196, 1603, 2136, 2448, 2282, 2610, 2370], \"yaxis\": \"y2\"}, {\"line\": {\"color\": \"#bcbd22\", \"shape\": \"spline\"}, \"mode\": \"lines\", \"showlegend\": false, \"type\": \"scatter\", \"x\": [\"2020-03-10T00:00:00\", \"2020-03-12T00:00:00\", \"2020-03-14T00:00:00\", \"2020-03-16T00:00:00\", \"2020-03-18T00:00:00\", \"2020-03-20T00:00:00\", \"2020-03-22T00:00:00\", \"2020-03-24T00:00:00\", \"2020-03-26T00:00:00\", \"2020-03-28T00:00:00\", \"2020-03-30T00:00:00\", \"2020-04-01T00:00:00\"], \"xaxis\": \"x2\", \"y\": [41.507055293500585, 85.80938382095263, 170.60544493434043, 324.17588715883323, 591.6067292523315, 1039.9334149722483, 1753.9291693629352, 2815.672280512713, 4251.8862346198675, 5212.176722218934, 1836.7346938775547, 1836.7346938775513, 1836.7346938775518], \"yaxis\": \"y2\"}, {\"fill\": \"tonexty\", \"fillcolor\": \"rgba(188,189,34,0.5)\", \"line\": {\"color\": \"#bcbd22\", \"shape\": \"spline\"}, \"mode\": \"lines\", \"name\": \"Fit\", \"showlegend\": false, \"type\": \"scatter\", \"x\": [\"2020-03-10T00:00:00\", \"2020-03-12T00:00:00\", \"2020-03-14T00:00:00\", \"2020-03-16T00:00:00\", \"2020-03-18T00:00:00\", \"2020-03-20T00:00:00\", \"2020-03-22T00:00:00\", \"2020-03-24T00:00:00\", \"2020-03-26T00:00:00\", \"2020-03-28T00:00:00\", \"2020-03-30T00:00:00\", \"2020-04-01T00:00:00\"], \"xaxis\": \"x2\", \"y\": [52.18541325605226, 101.10235072768265, 195.93455855162546, 381.34413581966123, 739.3301439752655, 1417.2704249004353, 2679.7497178231165, 4992.763144023239, 9154.444673630347, 12299.798979240968, 3877.5510204081656, 3877.5510204081625, 3877.551020408163], \"yaxis\": \"y2\"}, {\"line\": {\"color\": \"black\"}, \"mode\": \"lines\", \"name\": \"Fit boundary\", \"showlegend\": false, \"type\": \"scatter\", \"x\": [\"2020-03-16T00:00:00\", \"2020-03-16T00:00:00\"], \"xaxis\": \"x2\", \"y\": [0, 5000], \"yaxis\": \"y2\"}, {\"error_y\": {\"array\": [6.45, 16.349999999999998, 29.7, 50.4, 96.89999999999999, 139.2, 179.4, 240.45, 320.4, 367.2, 342.3, 391.5, 355.5]}, \"line\": {\"color\": \"#1f77b4\"}, \"mode\": \"markers+lines\", \"name\": \"Data\", \"showlegend\": false, \"type\": \"scatter\", \"x\": [\"2020-03-10T00:00:00\", \"2020-03-12T00:00:00\", \"2020-03-14T00:00:00\", \"2020-03-16T00:00:00\", \"2020-03-18T00:00:00\", \"2020-03-20T00:00:00\", \"2020-03-22T00:00:00\", \"2020-03-24T00:00:00\", \"2020-03-26T00:00:00\", \"2020-03-28T00:00:00\", \"2020-03-30T00:00:00\", \"2020-04-01T00:00:00\"], \"xaxis\": \"x3\", \"y\": [43, 109, 198, 336, 646, 928, 1196, 1603, 2136, 2448, 2282, 2610, 2370], \"yaxis\": \"y3\"}, {\"line\": {\"color\": \"#bcbd22\", \"shape\": \"spline\"}, \"mode\": \"lines\", \"showlegend\": false, \"type\": \"scatter\", \"x\": [\"2020-03-10T00:00:00\", \"2020-03-12T00:00:00\", \"2020-03-14T00:00:00\", \"2020-03-16T00:00:00\", \"2020-03-18T00:00:00\", \"2020-03-20T00:00:00\", \"2020-03-22T00:00:00\", \"2020-03-24T00:00:00\", \"2020-03-26T00:00:00\", \"2020-03-28T00:00:00\", \"2020-03-30T00:00:00\", \"2020-04-01T00:00:00\"], \"xaxis\": \"x3\", \"y\": [43.44180669785894, 86.2836118279058, 165.44308156651343, 306.41302693909313, 548.4864505819893, 944.6610570447964, 1552.5648551180607, 2413.3805865685563, 3511.714025218391, 4709.5800017235815, 1309.0369399532374, 1836.7346938775531, 1836.7346938775495], \"yaxis\": \"y3\"}, {\"fill\": \"tonexty\", \"fillcolor\": \"rgba(188,189,34,0.5)\", \"line\": {\"color\": \"#bcbd22\", \"shape\": \"spline\"}, \"mode\": \"lines\", \"name\": \"Fit\", \"showlegend\": false, \"type\": \"scatter\", \"x\": [\"2020-03-10T00:00:00\", \"2020-03-12T00:00:00\", \"2020-03-14T00:00:00\", \"2020-03-16T00:00:00\", \"2020-03-18T00:00:00\", \"2020-03-20T00:00:00\", \"2020-03-22T00:00:00\", \"2020-03-24T00:00:00\", \"2020-03-26T00:00:00\", \"2020-03-28T00:00:00\", \"2020-03-30T00:00:00\", \"2020-04-01T00:00:00\"], \"xaxis\": \"x3\", \"y\": [53.81415010949766, 101.30163383193288, 189.5057022958383, 351.27437301254554, 642.6736462156149, 1160.351540023663, 2071.1768088196754, 3654.353899341132, 6357.683174424123, 10866.750480879895, 10433.388412854185, 3877.551020408167, 3877.5510204081643], \"yaxis\": \"y3\"}, {\"line\": {\"color\": \"black\"}, \"mode\": \"lines\", \"name\": \"Fit boundary\", \"showlegend\": false, \"type\": \"scatter\", \"x\": [\"2020-03-18T00:00:00\", \"2020-03-18T00:00:00\"], \"xaxis\": \"x3\", \"y\": [0, 5000], \"yaxis\": \"y3\"}, {\"error_y\": {\"array\": [6.45, 16.349999999999998, 29.7, 50.4, 96.89999999999999, 139.2, 179.4, 240.45, 320.4, 367.2, 342.3, 391.5, 355.5]}, \"line\": {\"color\": \"#1f77b4\"}, \"mode\": \"markers+lines\", \"name\": \"Data\", \"showlegend\": false, \"type\": \"scatter\", \"x\": [\"2020-03-10T00:00:00\", \"2020-03-12T00:00:00\", \"2020-03-14T00:00:00\", \"2020-03-16T00:00:00\", \"2020-03-18T00:00:00\", \"2020-03-20T00:00:00\", \"2020-03-22T00:00:00\", \"2020-03-24T00:00:00\", \"2020-03-26T00:00:00\", \"2020-03-28T00:00:00\", \"2020-03-30T00:00:00\", \"2020-04-01T00:00:00\"], \"xaxis\": \"x4\", \"y\": [43, 109, 198, 336, 646, 928, 1196, 1603, 2136, 2448, 2282, 2610, 2370], \"yaxis\": \"y4\"}, {\"line\": {\"color\": \"#bcbd22\", \"shape\": \"spline\"}, \"mode\": \"lines\", \"showlegend\": false, \"type\": \"scatter\", \"x\": [\"2020-03-10T00:00:00\", \"2020-03-12T00:00:00\", \"2020-03-14T00:00:00\", \"2020-03-16T00:00:00\", \"2020-03-18T00:00:00\", \"2020-03-20T00:00:00\", \"2020-03-22T00:00:00\", \"2020-03-24T00:00:00\", \"2020-03-26T00:00:00\", \"2020-03-28T00:00:00\", \"2020-03-30T00:00:00\", \"2020-04-01T00:00:00\"], \"xaxis\": \"x4\", \"y\": [42.365029043196365, 87.99159792920395, 169.80298063798483, 308.09974486363734, 528.1164529727987, 847.2551140115755, 1212.866520335405, 1460.1507101842922, 1436.373186930154, 1063.7797339104716, 376.030733443798, 0, 0], \"yaxis\": \"y4\"}, {\"fill\": \"tonexty\", \"fillcolor\": \"rgba(188,189,34,0.5)\", \"line\": {\"color\": \"#bcbd22\", \"shape\": \"spline\"}, \"mode\": \"lines\", \"name\": \"Fit\", \"showlegend\": false, \"type\": \"scatter\", \"x\": [\"2020-03-10T00:00:00\", \"2020-03-12T00:00:00\", \"2020-03-14T00:00:00\", \"2020-03-16T00:00:00\", \"2020-03-18T00:00:00\", \"2020-03-20T00:00:00\", \"2020-03-22T00:00:00\", \"2020-03-24T00:00:00\", \"2020-03-26T00:00:00\", \"2020-03-28T00:00:00\", \"2020-03-30T00:00:00\", \"2020-04-01T00:00:00\"], \"xaxis\": \"x4\", \"y\": [53.46509359486898, 103.48407555903009, 197.76583766826832, 362.8634954885991, 624.0472255317566, 995.3394816076724, 1510.241125254335, 2243.4196743104444, 3200.6620993065817, 4306.308706907372, 5423.725363969272, 6402.721432667081, 7133.537542716081], \"yaxis\": \"y4\"}, {\"line\": {\"color\": \"black\"}, \"mode\": \"lines\", \"name\": \"Fit boundary\", \"showlegend\": false, \"type\": \"scatter\", \"x\": [\"2020-03-20T00:00:00\", \"2020-03-20T00:00:00\"], \"xaxis\": \"x4\", \"y\": [0, 5000], \"yaxis\": \"y4\"}, {\"error_y\": {\"array\": [6.45, 16.349999999999998, 29.7, 50.4, 96.89999999999999, 139.2, 179.4, 240.45, 320.4, 367.2, 342.3, 391.5, 355.5]}, \"line\": {\"color\": \"#1f77b4\"}, \"mode\": \"markers+lines\", \"name\": \"Data\", \"showlegend\": false, \"type\": \"scatter\", \"x\": [\"2020-03-10T00:00:00\", \"2020-03-12T00:00:00\", \"2020-03-14T00:00:00\", \"2020-03-16T00:00:00\", \"2020-03-18T00:00:00\", \"2020-03-20T00:00:00\", \"2020-03-22T00:00:00\", \"2020-03-24T00:00:00\", \"2020-03-26T00:00:00\", \"2020-03-28T00:00:00\", \"2020-03-30T00:00:00\", \"2020-04-01T00:00:00\"], \"xaxis\": \"x5\", \"y\": [43, 109, 198, 336, 646, 928, 1196, 1603, 2136, 2448, 2282, 2610, 2370], \"yaxis\": \"y5\"}, {\"line\": {\"color\": \"#bcbd22\", \"shape\": \"spline\"}, \"mode\": \"lines\", \"showlegend\": false, \"type\": \"scatter\", \"x\": [\"2020-03-10T00:00:00\", \"2020-03-12T00:00:00\", \"2020-03-14T00:00:00\", \"2020-03-16T00:00:00\", \"2020-03-18T00:00:00\", \"2020-03-20T00:00:00\", \"2020-03-22T00:00:00\", \"2020-03-24T00:00:00\", \"2020-03-26T00:00:00\", \"2020-03-28T00:00:00\", \"2020-03-30T00:00:00\", \"2020-04-01T00:00:00\"], \"xaxis\": \"x5\", \"y\": [41.866707026998, 87.80801435977772, 170.64880568342156, 312.47377309929425, 533.1976876616732, 837.7035550686738, 1201.483820450188, 1512.2489786146969, 1605.0395029034853, 1425.036878688316, 1009.3915801490245, 442.5053899263821, 0], \"yaxis\": \"y5\"}, {\"fill\": \"tonexty\", \"fillcolor\": \"rgba(188,189,34,0.5)\", \"line\": {\"color\": \"#bcbd22\", \"shape\": \"spline\"}, \"mode\": \"lines\", \"name\": \"Fit\", \"showlegend\": false, \"type\": \"scatter\", \"x\": [\"2020-03-10T00:00:00\", \"2020-03-12T00:00:00\", \"2020-03-14T00:00:00\", \"2020-03-16T00:00:00\", \"2020-03-18T00:00:00\", \"2020-03-20T00:00:00\", \"2020-03-22T00:00:00\", \"2020-03-24T00:00:00\", \"2020-03-26T00:00:00\", \"2020-03-28T00:00:00\", \"2020-03-30T00:00:00\", \"2020-04-01T00:00:00\"], \"xaxis\": \"x5\", \"y\": [53.04169705432079, 103.65059997491393, 199.88506163945365, 366.15446927246524, 625.8891098489546, 983.9310701601863, 1408.658444352427, 1888.6420833577652, 2443.6349175239343, 3026.435671248352, 3574.9587501277565, 4044.5230038167974, 4410.998688940889], \"yaxis\": \"y5\"}, {\"line\": {\"color\": \"black\"}, \"mode\": \"lines\", \"name\": \"Fit boundary\", \"showlegend\": false, \"type\": \"scatter\", \"x\": [\"2020-03-22T00:00:00\", \"2020-03-22T00:00:00\"], \"xaxis\": \"x5\", \"y\": [0, 5000], \"yaxis\": \"y5\"}, {\"error_y\": {\"array\": [6.45, 16.349999999999998, 29.7, 50.4, 96.89999999999999, 139.2, 179.4, 240.45, 320.4, 367.2, 342.3, 391.5, 355.5]}, \"line\": {\"color\": \"#1f77b4\"}, \"mode\": \"markers+lines\", \"name\": \"Data\", \"showlegend\": false, \"type\": \"scatter\", \"x\": [\"2020-03-10T00:00:00\", \"2020-03-12T00:00:00\", \"2020-03-14T00:00:00\", \"2020-03-16T00:00:00\", \"2020-03-18T00:00:00\", \"2020-03-20T00:00:00\", \"2020-03-22T00:00:00\", \"2020-03-24T00:00:00\", \"2020-03-26T00:00:00\", \"2020-03-28T00:00:00\", \"2020-03-30T00:00:00\", \"2020-04-01T00:00:00\"], \"xaxis\": \"x6\", \"y\": [43, 109, 198, 336, 646, 928, 1196, 1603, 2136, 2448, 2282, 2610, 2370], \"yaxis\": \"y6\"}, {\"line\": {\"color\": \"#bcbd22\", \"shape\": \"spline\"}, \"mode\": \"lines\", \"showlegend\": false, \"type\": \"scatter\", \"x\": [\"2020-03-10T00:00:00\", \"2020-03-12T00:00:00\", \"2020-03-14T00:00:00\", \"2020-03-16T00:00:00\", \"2020-03-18T00:00:00\", \"2020-03-20T00:00:00\", \"2020-03-22T00:00:00\", \"2020-03-24T00:00:00\", \"2020-03-26T00:00:00\", \"2020-03-28T00:00:00\", \"2020-03-30T00:00:00\", \"2020-04-01T00:00:00\"], \"xaxis\": \"x6\", \"y\": [42.2703048324065, 87.94015410717725, 169.76823822292988, 308.81860884867945, 526.0341494948024, 829.8481882336822, 1207.506331108697, 1607.377734985103, 1909.2351165589673, 1994.542115662438, 1822.1736382696904, 1407.1622041703627, 801.5460019139825], \"yaxis\": \"y6\"}, {\"fill\": \"tonexty\", \"fillcolor\": \"rgba(188,189,34,0.5)\", \"line\": {\"color\": \"#bcbd22\", \"shape\": \"spline\"}, \"mode\": \"lines\", \"name\": \"Fit\", \"showlegend\": false, \"type\": \"scatter\", \"x\": [\"2020-03-10T00:00:00\", \"2020-03-12T00:00:00\", \"2020-03-14T00:00:00\", \"2020-03-16T00:00:00\", \"2020-03-18T00:00:00\", \"2020-03-20T00:00:00\", \"2020-03-22T00:00:00\", \"2020-03-24T00:00:00\", \"2020-03-26T00:00:00\", \"2020-03-28T00:00:00\", \"2020-03-30T00:00:00\", \"2020-04-01T00:00:00\"], \"xaxis\": \"x6\", \"y\": [53.36666149678684, 103.56522678428234, 198.00498688258313, 360.3781056525038, 613.5580945385992, 967.4557762609235, 1401.1833406745623, 1875.2113653127476, 2389.84866015274, 2961.3582383450184, 3578.0988237578345, 4223.887840160018, 4879.18388434758], \"yaxis\": \"y6\"}, {\"line\": {\"color\": \"black\"}, \"mode\": \"lines\", \"name\": \"Fit boundary\", \"showlegend\": false, \"type\": \"scatter\", \"x\": [\"2020-03-24T00:00:00\", \"2020-03-24T00:00:00\"], \"xaxis\": \"x6\", \"y\": [0, 5000], \"yaxis\": \"y6\"}, {\"error_y\": {\"array\": [6.45, 16.349999999999998, 29.7, 50.4, 96.89999999999999, 139.2, 179.4, 240.45, 320.4, 367.2, 342.3, 391.5, 355.5]}, \"line\": {\"color\": \"#1f77b4\"}, \"mode\": \"markers+lines\", \"name\": \"Data\", \"showlegend\": false, \"type\": \"scatter\", \"x\": [\"2020-03-10T00:00:00\", \"2020-03-12T00:00:00\", \"2020-03-14T00:00:00\", \"2020-03-16T00:00:00\", \"2020-03-18T00:00:00\", \"2020-03-20T00:00:00\", \"2020-03-22T00:00:00\", \"2020-03-24T00:00:00\", \"2020-03-26T00:00:00\", \"2020-03-28T00:00:00\", \"2020-03-30T00:00:00\", \"2020-04-01T00:00:00\"], \"xaxis\": \"x7\", \"y\": [43, 109, 198, 336, 646, 928, 1196, 1603, 2136, 2448, 2282, 2610, 2370], \"yaxis\": \"y7\"}, {\"line\": {\"color\": \"#bcbd22\", \"shape\": \"spline\"}, \"mode\": \"lines\", \"showlegend\": false, \"type\": \"scatter\", \"x\": [\"2020-03-10T00:00:00\", \"2020-03-12T00:00:00\", \"2020-03-14T00:00:00\", \"2020-03-16T00:00:00\", \"2020-03-18T00:00:00\", \"2020-03-20T00:00:00\", \"2020-03-22T00:00:00\", \"2020-03-24T00:00:00\", \"2020-03-26T00:00:00\", \"2020-03-28T00:00:00\", \"2020-03-30T00:00:00\", \"2020-04-01T00:00:00\"], \"xaxis\": \"x7\", \"y\": [41.79873881922132, 87.43974405035101, 169.29422272638757, 309.3266767890866, 528.0135541803531, 830.4568960209773, 1197.9889392337138, 1591.7228439170085, 1967.4264050217369, 2242.674318725838, 2314.701615439406, 2155.651516456056, 1777.1230403889458], \"yaxis\": \"y7\"}, {\"fill\": \"tonexty\", \"fillcolor\": \"rgba(188,189,34,0.5)\", \"line\": {\"color\": \"#bcbd22\", \"shape\": \"spline\"}, \"mode\": \"lines\", \"name\": \"Fit\", \"showlegend\": false, \"type\": \"scatter\", \"x\": [\"2020-03-10T00:00:00\", \"2020-03-12T00:00:00\", \"2020-03-14T00:00:00\", \"2020-03-16T00:00:00\", \"2020-03-18T00:00:00\", \"2020-03-20T00:00:00\", \"2020-03-22T00:00:00\", \"2020-03-24T00:00:00\", \"2020-03-26T00:00:00\", \"2020-03-28T00:00:00\", \"2020-03-30T00:00:00\", \"2020-04-01T00:00:00\"], \"xaxis\": \"x7\", \"y\": [53.08864252365269, 103.31395362635237, 199.14707539519574, 364.1075482732996, 618.9504341793026, 968.8008670508765, 1392.1853490467408, 1849.6991422765104, 2307.1904544684903, 2799.334276252079, 3416.3967727610034, 4196.606103112282, 5147.6567020751445], \"yaxis\": \"y7\"}, {\"line\": {\"color\": \"black\"}, \"mode\": \"lines\", \"name\": \"Fit boundary\", \"showlegend\": false, \"type\": \"scatter\", \"x\": [\"2020-03-26T00:00:00\", \"2020-03-26T00:00:00\"], \"xaxis\": \"x7\", \"y\": [0, 5000], \"yaxis\": \"y7\"}, {\"error_y\": {\"array\": [6.45, 16.349999999999998, 29.7, 50.4, 96.89999999999999, 139.2, 179.4, 240.45, 320.4, 367.2, 342.3, 391.5, 355.5]}, \"line\": {\"color\": \"#1f77b4\"}, \"mode\": \"markers+lines\", \"name\": \"Data\", \"showlegend\": false, \"type\": \"scatter\", \"x\": [\"2020-03-10T00:00:00\", \"2020-03-12T00:00:00\", \"2020-03-14T00:00:00\", \"2020-03-16T00:00:00\", \"2020-03-18T00:00:00\", \"2020-03-20T00:00:00\", \"2020-03-22T00:00:00\", \"2020-03-24T00:00:00\", \"2020-03-26T00:00:00\", \"2020-03-28T00:00:00\", \"2020-03-30T00:00:00\", \"2020-04-01T00:00:00\"], \"xaxis\": \"x8\", \"y\": [43, 109, 198, 336, 646, 928, 1196, 1603, 2136, 2448, 2282, 2610, 2370], \"yaxis\": \"y8\"}, {\"line\": {\"color\": \"#bcbd22\", \"shape\": \"spline\"}, \"mode\": \"lines\", \"showlegend\": false, \"type\": \"scatter\", \"x\": [\"2020-03-10T00:00:00\", \"2020-03-12T00:00:00\", \"2020-03-14T00:00:00\", \"2020-03-16T00:00:00\", \"2020-03-18T00:00:00\", \"2020-03-20T00:00:00\", \"2020-03-22T00:00:00\", \"2020-03-24T00:00:00\", \"2020-03-26T00:00:00\", \"2020-03-28T00:00:00\", \"2020-03-30T00:00:00\", \"2020-04-01T00:00:00\"], \"xaxis\": \"x8\", \"y\": [41.98445775865948, 87.57860228576058, 169.37956500495582, 309.31399788864474, 529.4681786340194, 836.3004250206402, 1208.5291909641342, 1594.0777426580055, 1928.5229813505316, 2162.428223702598, 2231.9448686819064, 2076.490849835134, 1727.7068951610595], \"yaxis\": \"y8\"}, {\"fill\": \"tonexty\", \"fillcolor\": \"rgba(188,189,34,0.5)\", \"line\": {\"color\": \"#bcbd22\", \"shape\": \"spline\"}, \"mode\": \"lines\", \"name\": \"Fit\", \"showlegend\": false, \"type\": \"scatter\", \"x\": [\"2020-03-10T00:00:00\", \"2020-03-12T00:00:00\", \"2020-03-14T00:00:00\", \"2020-03-16T00:00:00\", \"2020-03-18T00:00:00\", \"2020-03-20T00:00:00\", \"2020-03-22T00:00:00\", \"2020-03-24T00:00:00\", \"2020-03-26T00:00:00\", \"2020-03-28T00:00:00\", \"2020-03-30T00:00:00\", \"2020-04-01T00:00:00\"], \"xaxis\": \"x8\", \"y\": [53.13221972601733, 103.15440622737333, 198.06524763833343, 361.7855054500791, 616.2391838533846, 969.1083945459898, 1396.0808011320746, 1841.0406393219703, 2236.7690599335297, 2533.4185605079947, 2758.785414186825, 2993.4211147540846, 3254.953159831332], \"yaxis\": \"y8\"}, {\"line\": {\"color\": \"black\"}, \"mode\": \"lines\", \"name\": \"Fit boundary\", \"showlegend\": false, \"type\": \"scatter\", \"x\": [\"2020-03-28T00:00:00\", \"2020-03-28T00:00:00\"], \"xaxis\": \"x8\", \"y\": [0, 5000], \"yaxis\": \"y8\"}, {\"error_y\": {\"array\": [6.45, 16.349999999999998, 29.7, 50.4, 96.89999999999999, 139.2, 179.4, 240.45, 320.4, 367.2, 342.3, 391.5, 355.5]}, \"line\": {\"color\": \"#1f77b4\"}, \"mode\": \"markers+lines\", \"name\": \"Data\", \"showlegend\": false, \"type\": \"scatter\", \"x\": [\"2020-03-10T00:00:00\", \"2020-03-12T00:00:00\", \"2020-03-14T00:00:00\", \"2020-03-16T00:00:00\", \"2020-03-18T00:00:00\", \"2020-03-20T00:00:00\", \"2020-03-22T00:00:00\", \"2020-03-24T00:00:00\", \"2020-03-26T00:00:00\", \"2020-03-28T00:00:00\", \"2020-03-30T00:00:00\", \"2020-04-01T00:00:00\"], \"xaxis\": \"x9\", \"y\": [43, 109, 198, 336, 646, 928, 1196, 1603, 2136, 2448, 2282, 2610, 2370], \"yaxis\": \"y9\"}, {\"line\": {\"color\": \"#bcbd22\", \"shape\": \"spline\"}, \"mode\": \"lines\", \"showlegend\": false, \"type\": \"scatter\", \"x\": [\"2020-03-10T00:00:00\", \"2020-03-12T00:00:00\", \"2020-03-14T00:00:00\", \"2020-03-16T00:00:00\", \"2020-03-18T00:00:00\", \"2020-03-20T00:00:00\", \"2020-03-22T00:00:00\", \"2020-03-24T00:00:00\", \"2020-03-26T00:00:00\", \"2020-03-28T00:00:00\", \"2020-03-30T00:00:00\", \"2020-04-01T00:00:00\"], \"xaxis\": \"x9\", \"y\": [41.64197885525332, 86.98050785343528, 168.53482762190998, 309.89149342624324, 532.5691398355209, 838.0127712627702, 1202.9967751137333, 1574.79892881115, 1893.372589497725, 2146.1616816059195, 2329.5294985955957, 2372.697169599647, 2243.6194258630057], \"yaxis\": \"y9\"}, {\"fill\": \"tonexty\", \"fillcolor\": \"rgba(188,189,34,0.5)\", \"line\": {\"color\": \"#bcbd22\", \"shape\": \"spline\"}, \"mode\": \"lines\", \"name\": \"Fit\", \"showlegend\": false, \"type\": \"scatter\", \"x\": [\"2020-03-10T00:00:00\", \"2020-03-12T00:00:00\", \"2020-03-14T00:00:00\", \"2020-03-16T00:00:00\", \"2020-03-18T00:00:00\", \"2020-03-20T00:00:00\", \"2020-03-22T00:00:00\", \"2020-03-24T00:00:00\", \"2020-03-26T00:00:00\", \"2020-03-28T00:00:00\", \"2020-03-30T00:00:00\", \"2020-04-01T00:00:00\"], \"xaxis\": \"x9\", \"y\": [52.9450336922359, 102.77230026456738, 198.67705192796365, 364.7337426569141, 623.0399492170043, 978.6843459193192, 1396.4433009243012, 1819.726594167946, 2203.185542957723, 2503.253466472587, 2720.138325617401, 2951.0148076981986, 3261.7213479774427], \"yaxis\": \"y9\"}, {\"line\": {\"color\": \"black\"}, \"mode\": \"lines\", \"name\": \"Fit boundary\", \"showlegend\": false, \"type\": \"scatter\", \"x\": [\"2020-03-30T00:00:00\", \"2020-03-30T00:00:00\"], \"xaxis\": \"x9\", \"y\": [0, 5000], \"yaxis\": \"y9\"}, {\"error_y\": {\"array\": [6.45, 16.349999999999998, 29.7, 50.4, 96.89999999999999, 139.2, 179.4, 240.45, 320.4, 367.2, 342.3, 391.5, 355.5]}, \"line\": {\"color\": \"#1f77b4\"}, \"mode\": \"markers+lines\", \"name\": \"Data\", \"showlegend\": false, \"type\": \"scatter\", \"x\": [\"2020-03-10T00:00:00\", \"2020-03-12T00:00:00\", \"2020-03-14T00:00:00\", \"2020-03-16T00:00:00\", \"2020-03-18T00:00:00\", \"2020-03-20T00:00:00\", \"2020-03-22T00:00:00\", \"2020-03-24T00:00:00\", \"2020-03-26T00:00:00\", \"2020-03-28T00:00:00\", \"2020-03-30T00:00:00\", \"2020-04-01T00:00:00\"], \"xaxis\": \"x10\", \"y\": [43, 109, 198, 336, 646, 928, 1196, 1603, 2136, 2448, 2282, 2610, 2370], \"yaxis\": \"y10\"}, {\"line\": {\"color\": \"#bcbd22\", \"shape\": \"spline\"}, \"mode\": \"lines\", \"showlegend\": false, \"type\": \"scatter\", \"x\": [\"2020-03-10T00:00:00\", \"2020-03-12T00:00:00\", \"2020-03-14T00:00:00\", \"2020-03-16T00:00:00\", \"2020-03-18T00:00:00\", \"2020-03-20T00:00:00\", \"2020-03-22T00:00:00\", \"2020-03-24T00:00:00\", \"2020-03-26T00:00:00\", \"2020-03-28T00:00:00\", \"2020-03-30T00:00:00\", \"2020-04-01T00:00:00\"], \"xaxis\": \"x10\", \"y\": [41.702874122726385, 87.02848508361663, 168.4515082435487, 309.16253502711555, 531.6004620496452, 838.5541820571999, 1206.8021850979062, 1586.2691653091267, 1908.036660819682, 2137.0687617672643, 2286.499339543521, 2349.6098640198843, 2270.2951183099935], \"yaxis\": \"y10\"}, {\"fill\": \"tonexty\", \"fillcolor\": \"rgba(188,189,34,0.5)\", \"line\": {\"color\": \"#bcbd22\", \"shape\": \"spline\"}, \"mode\": \"lines\", \"name\": \"Fit\", \"showlegend\": false, \"type\": \"scatter\", \"x\": [\"2020-03-10T00:00:00\", \"2020-03-12T00:00:00\", \"2020-03-14T00:00:00\", \"2020-03-16T00:00:00\", \"2020-03-18T00:00:00\", \"2020-03-20T00:00:00\", \"2020-03-22T00:00:00\", \"2020-03-24T00:00:00\", \"2020-03-26T00:00:00\", \"2020-03-28T00:00:00\", \"2020-03-30T00:00:00\", \"2020-04-01T00:00:00\"], \"xaxis\": \"x10\", \"y\": [52.93835762162453, 102.66987501663363, 197.97476337749322, 362.85633032040863, 619.3502642751208, 974.908674305428, 1398.1053460002722, 1824.9855373487915, 2201.8263474436485, 2487.0907255534908, 2653.2891984997436, 2735.5282358609566, 2833.674646571872], \"yaxis\": \"y10\"}, {\"line\": {\"color\": \"black\"}, \"mode\": \"lines\", \"name\": \"Fit boundary\", \"showlegend\": false, \"type\": \"scatter\", \"x\": [\"2020-04-01T00:00:00\", \"2020-04-01T00:00:00\"], \"xaxis\": \"x10\", \"y\": [0, 5000], \"yaxis\": \"y10\"}],\n",
       "                        {\"annotations\": [{\"font\": {\"size\": 16}, \"showarrow\": false, \"text\": \"Fitted days: 8\", \"x\": 0.13333333333333333, \"xanchor\": \"center\", \"xref\": \"paper\", \"y\": 1.0, \"yanchor\": \"bottom\", \"yref\": \"paper\"}, {\"font\": {\"size\": 16}, \"showarrow\": false, \"text\": \"Fitted days: 10\", \"x\": 0.5, \"xanchor\": \"center\", \"xref\": \"paper\", \"y\": 1.0, \"yanchor\": \"bottom\", \"yref\": \"paper\"}, {\"font\": {\"size\": 16}, \"showarrow\": false, \"text\": \"Fitted days: 12\", \"x\": 0.8666666666666667, \"xanchor\": \"center\", \"xref\": \"paper\", \"y\": 1.0, \"yanchor\": \"bottom\", \"yref\": \"paper\"}, {\"font\": {\"size\": 16}, \"showarrow\": false, \"text\": \"Fitted days: 14\", \"x\": 0.13333333333333333, \"xanchor\": \"center\", \"xref\": \"paper\", \"y\": 0.7250000000000001, \"yanchor\": \"bottom\", \"yref\": \"paper\"}, {\"font\": {\"size\": 16}, \"showarrow\": false, \"text\": \"Fitted days: 16\", \"x\": 0.5, \"xanchor\": \"center\", \"xref\": \"paper\", \"y\": 0.7250000000000001, \"yanchor\": \"bottom\", \"yref\": \"paper\"}, {\"font\": {\"size\": 16}, \"showarrow\": false, \"text\": \"Fitted days: 18\", \"x\": 0.8666666666666667, \"xanchor\": \"center\", \"xref\": \"paper\", \"y\": 0.7250000000000001, \"yanchor\": \"bottom\", \"yref\": \"paper\"}, {\"font\": {\"size\": 16}, \"showarrow\": false, \"text\": \"Fitted days: 20\", \"x\": 0.13333333333333333, \"xanchor\": \"center\", \"xref\": \"paper\", \"y\": 0.45, \"yanchor\": \"bottom\", \"yref\": \"paper\"}, {\"font\": {\"size\": 16}, \"showarrow\": false, \"text\": \"Fitted days: 22\", \"x\": 0.5, \"xanchor\": \"center\", \"xref\": \"paper\", \"y\": 0.45, \"yanchor\": \"bottom\", \"yref\": \"paper\"}, {\"font\": {\"size\": 16}, \"showarrow\": false, \"text\": \"Fitted days: 24\", \"x\": 0.8666666666666667, \"xanchor\": \"center\", \"xref\": \"paper\", \"y\": 0.45, \"yanchor\": \"bottom\", \"yref\": \"paper\"}, {\"font\": {\"size\": 16}, \"showarrow\": false, \"text\": \"Fitted days: 26\", \"x\": 0.13333333333333333, \"xanchor\": \"center\", \"xref\": \"paper\", \"y\": 0.175, \"yanchor\": \"bottom\", \"yref\": \"paper\"}], \"height\": 1200, \"template\": {\"data\": {\"bar\": [{\"error_x\": {\"color\": \"#2a3f5f\"}, \"error_y\": {\"color\": \"#2a3f5f\"}, \"marker\": {\"line\": {\"color\": \"#E5ECF6\", \"width\": 0.5}}, \"type\": \"bar\"}], \"barpolar\": [{\"marker\": {\"line\": {\"color\": \"#E5ECF6\", \"width\": 0.5}}, \"type\": \"barpolar\"}], \"carpet\": [{\"aaxis\": {\"endlinecolor\": \"#2a3f5f\", \"gridcolor\": \"white\", \"linecolor\": \"white\", \"minorgridcolor\": \"white\", \"startlinecolor\": \"#2a3f5f\"}, \"baxis\": {\"endlinecolor\": \"#2a3f5f\", \"gridcolor\": \"white\", \"linecolor\": \"white\", \"minorgridcolor\": \"white\", \"startlinecolor\": \"#2a3f5f\"}, \"type\": \"carpet\"}], \"choropleth\": [{\"colorbar\": {\"outlinewidth\": 0, \"ticks\": \"\"}, \"type\": \"choropleth\"}], \"contour\": [{\"colorbar\": {\"outlinewidth\": 0, \"ticks\": \"\"}, \"colorscale\": [[0.0, \"#0d0887\"], [0.1111111111111111, \"#46039f\"], [0.2222222222222222, \"#7201a8\"], [0.3333333333333333, \"#9c179e\"], [0.4444444444444444, \"#bd3786\"], [0.5555555555555556, \"#d8576b\"], [0.6666666666666666, \"#ed7953\"], [0.7777777777777778, \"#fb9f3a\"], [0.8888888888888888, \"#fdca26\"], [1.0, \"#f0f921\"]], \"type\": \"contour\"}], \"contourcarpet\": [{\"colorbar\": {\"outlinewidth\": 0, \"ticks\": \"\"}, \"type\": \"contourcarpet\"}], \"heatmap\": [{\"colorbar\": {\"outlinewidth\": 0, \"ticks\": \"\"}, \"colorscale\": [[0.0, \"#0d0887\"], [0.1111111111111111, \"#46039f\"], [0.2222222222222222, \"#7201a8\"], [0.3333333333333333, \"#9c179e\"], [0.4444444444444444, \"#bd3786\"], [0.5555555555555556, \"#d8576b\"], [0.6666666666666666, \"#ed7953\"], [0.7777777777777778, \"#fb9f3a\"], [0.8888888888888888, \"#fdca26\"], [1.0, \"#f0f921\"]], \"type\": \"heatmap\"}], \"heatmapgl\": [{\"colorbar\": {\"outlinewidth\": 0, \"ticks\": \"\"}, \"colorscale\": [[0.0, \"#0d0887\"], [0.1111111111111111, \"#46039f\"], [0.2222222222222222, \"#7201a8\"], [0.3333333333333333, \"#9c179e\"], [0.4444444444444444, \"#bd3786\"], [0.5555555555555556, \"#d8576b\"], [0.6666666666666666, \"#ed7953\"], [0.7777777777777778, \"#fb9f3a\"], [0.8888888888888888, \"#fdca26\"], [1.0, \"#f0f921\"]], \"type\": \"heatmapgl\"}], \"histogram\": [{\"marker\": {\"colorbar\": {\"outlinewidth\": 0, \"ticks\": \"\"}}, \"type\": \"histogram\"}], \"histogram2d\": [{\"colorbar\": {\"outlinewidth\": 0, \"ticks\": \"\"}, \"colorscale\": [[0.0, \"#0d0887\"], [0.1111111111111111, \"#46039f\"], [0.2222222222222222, \"#7201a8\"], [0.3333333333333333, \"#9c179e\"], [0.4444444444444444, \"#bd3786\"], [0.5555555555555556, \"#d8576b\"], [0.6666666666666666, \"#ed7953\"], [0.7777777777777778, \"#fb9f3a\"], [0.8888888888888888, \"#fdca26\"], [1.0, \"#f0f921\"]], \"type\": \"histogram2d\"}], \"histogram2dcontour\": [{\"colorbar\": {\"outlinewidth\": 0, \"ticks\": \"\"}, \"colorscale\": [[0.0, \"#0d0887\"], [0.1111111111111111, \"#46039f\"], [0.2222222222222222, \"#7201a8\"], [0.3333333333333333, \"#9c179e\"], [0.4444444444444444, \"#bd3786\"], [0.5555555555555556, \"#d8576b\"], [0.6666666666666666, \"#ed7953\"], [0.7777777777777778, \"#fb9f3a\"], [0.8888888888888888, \"#fdca26\"], [1.0, \"#f0f921\"]], \"type\": \"histogram2dcontour\"}], \"mesh3d\": [{\"colorbar\": {\"outlinewidth\": 0, \"ticks\": \"\"}, \"type\": \"mesh3d\"}], \"parcoords\": [{\"line\": {\"colorbar\": {\"outlinewidth\": 0, \"ticks\": \"\"}}, \"type\": \"parcoords\"}], \"pie\": [{\"automargin\": true, \"type\": \"pie\"}], \"scatter\": [{\"marker\": {\"colorbar\": {\"outlinewidth\": 0, \"ticks\": \"\"}}, \"type\": \"scatter\"}], \"scatter3d\": [{\"line\": {\"colorbar\": {\"outlinewidth\": 0, \"ticks\": \"\"}}, \"marker\": {\"colorbar\": {\"outlinewidth\": 0, \"ticks\": \"\"}}, \"type\": \"scatter3d\"}], \"scattercarpet\": [{\"marker\": {\"colorbar\": {\"outlinewidth\": 0, \"ticks\": \"\"}}, \"type\": \"scattercarpet\"}], \"scattergeo\": [{\"marker\": {\"colorbar\": {\"outlinewidth\": 0, \"ticks\": \"\"}}, \"type\": \"scattergeo\"}], \"scattergl\": [{\"marker\": {\"colorbar\": {\"outlinewidth\": 0, \"ticks\": \"\"}}, \"type\": \"scattergl\"}], \"scattermapbox\": [{\"marker\": {\"colorbar\": {\"outlinewidth\": 0, \"ticks\": \"\"}}, \"type\": \"scattermapbox\"}], \"scatterpolar\": [{\"marker\": {\"colorbar\": {\"outlinewidth\": 0, \"ticks\": \"\"}}, \"type\": \"scatterpolar\"}], \"scatterpolargl\": [{\"marker\": {\"colorbar\": {\"outlinewidth\": 0, \"ticks\": \"\"}}, \"type\": \"scatterpolargl\"}], \"scatterternary\": [{\"marker\": {\"colorbar\": {\"outlinewidth\": 0, \"ticks\": \"\"}}, \"type\": \"scatterternary\"}], \"surface\": [{\"colorbar\": {\"outlinewidth\": 0, \"ticks\": \"\"}, \"colorscale\": [[0.0, \"#0d0887\"], [0.1111111111111111, \"#46039f\"], [0.2222222222222222, \"#7201a8\"], [0.3333333333333333, \"#9c179e\"], [0.4444444444444444, \"#bd3786\"], [0.5555555555555556, \"#d8576b\"], [0.6666666666666666, \"#ed7953\"], [0.7777777777777778, \"#fb9f3a\"], [0.8888888888888888, \"#fdca26\"], [1.0, \"#f0f921\"]], \"type\": \"surface\"}], \"table\": [{\"cells\": {\"fill\": {\"color\": \"#EBF0F8\"}, \"line\": {\"color\": \"white\"}}, \"header\": {\"fill\": {\"color\": \"#C8D4E3\"}, \"line\": {\"color\": \"white\"}}, \"type\": \"table\"}]}, \"layout\": {\"annotationdefaults\": {\"arrowcolor\": \"#2a3f5f\", \"arrowhead\": 0, \"arrowwidth\": 1}, \"coloraxis\": {\"colorbar\": {\"outlinewidth\": 0, \"ticks\": \"\"}}, \"colorscale\": {\"diverging\": [[0, \"#8e0152\"], [0.1, \"#c51b7d\"], [0.2, \"#de77ae\"], [0.3, \"#f1b6da\"], [0.4, \"#fde0ef\"], [0.5, \"#f7f7f7\"], [0.6, \"#e6f5d0\"], [0.7, \"#b8e186\"], [0.8, \"#7fbc41\"], [0.9, \"#4d9221\"], [1, \"#276419\"]], \"sequential\": [[0.0, \"#0d0887\"], [0.1111111111111111, \"#46039f\"], [0.2222222222222222, \"#7201a8\"], [0.3333333333333333, \"#9c179e\"], [0.4444444444444444, \"#bd3786\"], [0.5555555555555556, \"#d8576b\"], [0.6666666666666666, \"#ed7953\"], [0.7777777777777778, \"#fb9f3a\"], [0.8888888888888888, \"#fdca26\"], [1.0, \"#f0f921\"]], \"sequentialminus\": [[0.0, \"#0d0887\"], [0.1111111111111111, \"#46039f\"], [0.2222222222222222, \"#7201a8\"], [0.3333333333333333, \"#9c179e\"], [0.4444444444444444, \"#bd3786\"], [0.5555555555555556, \"#d8576b\"], [0.6666666666666666, \"#ed7953\"], [0.7777777777777778, \"#fb9f3a\"], [0.8888888888888888, \"#fdca26\"], [1.0, \"#f0f921\"]]}, \"colorway\": [\"#636efa\", \"#EF553B\", \"#00cc96\", \"#ab63fa\", \"#FFA15A\", \"#19d3f3\", \"#FF6692\", \"#B6E880\", \"#FF97FF\", \"#FECB52\"], \"font\": {\"color\": \"#2a3f5f\"}, \"geo\": {\"bgcolor\": \"white\", \"lakecolor\": \"white\", \"landcolor\": \"#E5ECF6\", \"showlakes\": true, \"showland\": true, \"subunitcolor\": \"white\"}, \"hoverlabel\": {\"align\": \"left\"}, \"hovermode\": \"closest\", \"mapbox\": {\"style\": \"light\"}, \"paper_bgcolor\": \"white\", \"plot_bgcolor\": \"#E5ECF6\", \"polar\": {\"angularaxis\": {\"gridcolor\": \"white\", \"linecolor\": \"white\", \"ticks\": \"\"}, \"bgcolor\": \"#E5ECF6\", \"radialaxis\": {\"gridcolor\": \"white\", \"linecolor\": \"white\", \"ticks\": \"\"}}, \"scene\": {\"xaxis\": {\"backgroundcolor\": \"#E5ECF6\", \"gridcolor\": \"white\", \"gridwidth\": 2, \"linecolor\": \"white\", \"showbackground\": true, \"ticks\": \"\", \"zerolinecolor\": \"white\"}, \"yaxis\": {\"backgroundcolor\": \"#E5ECF6\", \"gridcolor\": \"white\", \"gridwidth\": 2, \"linecolor\": \"white\", \"showbackground\": true, \"ticks\": \"\", \"zerolinecolor\": \"white\"}, \"zaxis\": {\"backgroundcolor\": \"#E5ECF6\", \"gridcolor\": \"white\", \"gridwidth\": 2, \"linecolor\": \"white\", \"showbackground\": true, \"ticks\": \"\", \"zerolinecolor\": \"white\"}}, \"shapedefaults\": {\"line\": {\"color\": \"#2a3f5f\"}}, \"ternary\": {\"aaxis\": {\"gridcolor\": \"white\", \"linecolor\": \"white\", \"ticks\": \"\"}, \"baxis\": {\"gridcolor\": \"white\", \"linecolor\": \"white\", \"ticks\": \"\"}, \"bgcolor\": \"#E5ECF6\", \"caxis\": {\"gridcolor\": \"white\", \"linecolor\": \"white\", \"ticks\": \"\"}}, \"title\": {\"x\": 0.05}, \"xaxis\": {\"automargin\": true, \"gridcolor\": \"white\", \"linecolor\": \"white\", \"ticks\": \"\", \"title\": {\"standoff\": 15}, \"zerolinecolor\": \"white\", \"zerolinewidth\": 2}, \"yaxis\": {\"automargin\": true, \"gridcolor\": \"white\", \"linecolor\": \"white\", \"ticks\": \"\", \"title\": {\"standoff\": 15}, \"zerolinecolor\": \"white\", \"zerolinewidth\": 2}}}, \"width\": 800, \"xaxis\": {\"anchor\": \"y\", \"domain\": [0.0, 0.26666666666666666], \"matches\": \"x10\", \"showticklabels\": false}, \"xaxis10\": {\"anchor\": \"y10\", \"domain\": [0.0, 0.26666666666666666]}, \"xaxis11\": {\"anchor\": \"y11\", \"domain\": [0.3666666666666667, 0.6333333333333333]}, \"xaxis12\": {\"anchor\": \"y12\", \"domain\": [0.7333333333333334, 1.0]}, \"xaxis2\": {\"anchor\": \"y2\", \"domain\": [0.3666666666666667, 0.6333333333333333], \"matches\": \"x11\", \"showticklabels\": false}, \"xaxis3\": {\"anchor\": \"y3\", \"domain\": [0.7333333333333334, 1.0], \"matches\": \"x12\", \"showticklabels\": false}, \"xaxis4\": {\"anchor\": \"y4\", \"domain\": [0.0, 0.26666666666666666], \"matches\": \"x10\", \"showticklabels\": false}, \"xaxis5\": {\"anchor\": \"y5\", \"domain\": [0.3666666666666667, 0.6333333333333333], \"matches\": \"x11\", \"showticklabels\": false}, \"xaxis6\": {\"anchor\": \"y6\", \"domain\": [0.7333333333333334, 1.0], \"matches\": \"x12\", \"showticklabels\": false}, \"xaxis7\": {\"anchor\": \"y7\", \"domain\": [0.0, 0.26666666666666666], \"matches\": \"x10\", \"showticklabels\": false}, \"xaxis8\": {\"anchor\": \"y8\", \"domain\": [0.3666666666666667, 0.6333333333333333], \"matches\": \"x11\", \"showticklabels\": false}, \"xaxis9\": {\"anchor\": \"y9\", \"domain\": [0.7333333333333334, 1.0], \"matches\": \"x12\", \"showticklabels\": false}, \"yaxis\": {\"anchor\": \"x\", \"domain\": [0.825, 1.0], \"range\": [0, 5000]}, \"yaxis10\": {\"anchor\": \"x10\", \"domain\": [0.0, 0.175], \"range\": [0, 5000]}, \"yaxis11\": {\"anchor\": \"x11\", \"domain\": [0.0, 0.175], \"matches\": \"y10\", \"showticklabels\": false}, \"yaxis12\": {\"anchor\": \"x12\", \"domain\": [0.0, 0.175], \"matches\": \"y10\", \"showticklabels\": false}, \"yaxis2\": {\"anchor\": \"x2\", \"domain\": [0.825, 1.0], \"matches\": \"y\", \"range\": [0, 5000], \"showticklabels\": false}, \"yaxis3\": {\"anchor\": \"x3\", \"domain\": [0.825, 1.0], \"matches\": \"y\", \"range\": [0, 5000], \"showticklabels\": false}, \"yaxis4\": {\"anchor\": \"x4\", \"domain\": [0.55, 0.7250000000000001], \"range\": [0, 5000]}, \"yaxis5\": {\"anchor\": \"x5\", \"domain\": [0.55, 0.7250000000000001], \"matches\": \"y4\", \"range\": [0, 5000], \"showticklabels\": false}, \"yaxis6\": {\"anchor\": \"x6\", \"domain\": [0.55, 0.7250000000000001], \"matches\": \"y4\", \"range\": [0, 5000], \"showticklabels\": false}, \"yaxis7\": {\"anchor\": \"x7\", \"domain\": [0.275, 0.45], \"range\": [0, 5000]}, \"yaxis8\": {\"anchor\": \"x8\", \"domain\": [0.275, 0.45], \"matches\": \"y7\", \"range\": [0, 5000], \"showticklabels\": false}, \"yaxis9\": {\"anchor\": \"x9\", \"domain\": [0.275, 0.45], \"matches\": \"y7\", \"range\": [0, 5000], \"showticklabels\": false}},\n",
       "                        {\"responsive\": true}\n",
       "                    ).then(function(){\n",
       "                            \n",
       "var gd = document.getElementById('1580a32a-9235-4fd6-9453-998a5dc26381');\n",
       "var x = new MutationObserver(function (mutations, observer) {{\n",
       "        var display = window.getComputedStyle(gd).display;\n",
       "        if (!display || display === 'none') {{\n",
       "            console.log([gd, 'removed!']);\n",
       "            Plotly.purge(gd);\n",
       "            observer.disconnect();\n",
       "        }}\n",
       "}});\n",
       "\n",
       "// Listen for the removal of the full notebook cells\n",
       "var notebookContainer = gd.closest('#notebook-container');\n",
       "if (notebookContainer) {{\n",
       "    x.observe(notebookContainer, {childList: true});\n",
       "}}\n",
       "\n",
       "// Listen for the clearing of the current output cell\n",
       "var outputEl = gd.closest('.output');\n",
       "if (outputEl) {{\n",
       "    x.observe(outputEl, {childList: true});\n",
       "}}\n",
       "\n",
       "                        })\n",
       "                };\n",
       "                });\n",
       "            </script>\n",
       "        </div>"
      ]
     },
     "metadata": {},
     "output_type": "display_data"
    },
    {
     "data": {
      "text/html": [
       "<div>\n",
       "<style scoped>\n",
       "    .dataframe tbody tr th:only-of-type {\n",
       "        vertical-align: middle;\n",
       "    }\n",
       "\n",
       "    .dataframe tbody tr th {\n",
       "        vertical-align: top;\n",
       "    }\n",
       "\n",
       "    .dataframe thead th {\n",
       "        text-align: right;\n",
       "    }\n",
       "</style>\n",
       "<table border=\"1\" class=\"dataframe\">\n",
       "  <thead>\n",
       "    <tr style=\"text-align: right;\">\n",
       "      <th></th>\n",
       "      <th>beta_h</th>\n",
       "      <th>inital_doubling_time</th>\n",
       "      <th>initial_infected</th>\n",
       "      <th>ratio</th>\n",
       "      <th>recovery_days_h</th>\n",
       "      <th>recovery_days_i</th>\n",
       "      <th>social_distance_delay</th>\n",
       "      <th>social_distance_halfing_days</th>\n",
       "    </tr>\n",
       "    <tr>\n",
       "      <th>fitted days</th>\n",
       "      <th></th>\n",
       "      <th></th>\n",
       "      <th></th>\n",
       "      <th></th>\n",
       "      <th></th>\n",
       "      <th></th>\n",
       "      <th></th>\n",
       "      <th></th>\n",
       "    </tr>\n",
       "  </thead>\n",
       "  <tbody>\n",
       "    <tr>\n",
       "      <th>8</th>\n",
       "      <td>0.31(14)</td>\n",
       "      <td>0.85(20)</td>\n",
       "      <td>151(72)</td>\n",
       "      <td>0.69(30)</td>\n",
       "      <td>14.0(5.0)</td>\n",
       "      <td>14.1(5.0)</td>\n",
       "      <td>14.4(7.0)</td>\n",
       "      <td>13.3(7.0)</td>\n",
       "    </tr>\n",
       "    <tr>\n",
       "      <th>10</th>\n",
       "      <td>0.28(10)</td>\n",
       "      <td>0.89(19)</td>\n",
       "      <td>169(68)</td>\n",
       "      <td>0.68(30)</td>\n",
       "      <td>14.0(5.0)</td>\n",
       "      <td>14.1(5.0)</td>\n",
       "      <td>14.5(7.0)</td>\n",
       "      <td>13.4(7.0)</td>\n",
       "    </tr>\n",
       "    <tr>\n",
       "      <th>12</th>\n",
       "      <td>0.236(79)</td>\n",
       "      <td>0.95(21)</td>\n",
       "      <td>206(73)</td>\n",
       "      <td>0.73(29)</td>\n",
       "      <td>14.0(5.0)</td>\n",
       "      <td>14.0(5.0)</td>\n",
       "      <td>13.8(6.9)</td>\n",
       "      <td>12.4(6.9)</td>\n",
       "    </tr>\n",
       "    <tr>\n",
       "      <th>14</th>\n",
       "      <td>0.227(74)</td>\n",
       "      <td>0.94(39)</td>\n",
       "      <td>211(73)</td>\n",
       "      <td>0.87(27)</td>\n",
       "      <td>14.0(5.0)</td>\n",
       "      <td>13.3(5.0)</td>\n",
       "      <td>9.0(5.7)</td>\n",
       "      <td>5.8(5.1)</td>\n",
       "    </tr>\n",
       "    <tr>\n",
       "      <th>16</th>\n",
       "      <td>0.220(68)</td>\n",
       "      <td>0.96(39)</td>\n",
       "      <td>215(72)</td>\n",
       "      <td>0.85(27)</td>\n",
       "      <td>14.0(5.0)</td>\n",
       "      <td>13.0(5.0)</td>\n",
       "      <td>8.4(5.0)</td>\n",
       "      <td>4.9(3.9)</td>\n",
       "    </tr>\n",
       "    <tr>\n",
       "      <th>18</th>\n",
       "      <td>0.210(61)</td>\n",
       "      <td>0.97(38)</td>\n",
       "      <td>227(71)</td>\n",
       "      <td>0.81(26)</td>\n",
       "      <td>14.0(5.0)</td>\n",
       "      <td>12.9(5.0)</td>\n",
       "      <td>8.0(5.1)</td>\n",
       "      <td>5.1(3.7)</td>\n",
       "    </tr>\n",
       "    <tr>\n",
       "      <th>20</th>\n",
       "      <td>0.204(56)</td>\n",
       "      <td>1.01(37)</td>\n",
       "      <td>233(71)</td>\n",
       "      <td>0.72(23)</td>\n",
       "      <td>14.0(5.0)</td>\n",
       "      <td>12.8(4.9)</td>\n",
       "      <td>7.3(4.1)</td>\n",
       "      <td>4.1(3.3)</td>\n",
       "    </tr>\n",
       "    <tr>\n",
       "      <th>22</th>\n",
       "      <td>0.203(57)</td>\n",
       "      <td>0.99(36)</td>\n",
       "      <td>235(72)</td>\n",
       "      <td>0.81(21)</td>\n",
       "      <td>14.0(5.0)</td>\n",
       "      <td>11.6(4.8)</td>\n",
       "      <td>8.3(3.8)</td>\n",
       "      <td>4.8(3.4)</td>\n",
       "    </tr>\n",
       "    <tr>\n",
       "      <th>24</th>\n",
       "      <td>0.199(54)</td>\n",
       "      <td>1.04(34)</td>\n",
       "      <td>238(72)</td>\n",
       "      <td>0.75(17)</td>\n",
       "      <td>14.0(5.0)</td>\n",
       "      <td>11.3(4.7)</td>\n",
       "      <td>8.0(3.2)</td>\n",
       "      <td>3.9(2.8)</td>\n",
       "    </tr>\n",
       "    <tr>\n",
       "      <th>26</th>\n",
       "      <td>0.202(58)</td>\n",
       "      <td>1.02(34)</td>\n",
       "      <td>235(74)</td>\n",
       "      <td>0.76(15)</td>\n",
       "      <td>14.0(5.0)</td>\n",
       "      <td>9.2(4.4)</td>\n",
       "      <td>8.3(3.3)</td>\n",
       "      <td>4.2(2.7)</td>\n",
       "    </tr>\n",
       "  </tbody>\n",
       "</table>\n",
       "</div>"
      ],
      "text/plain": [
       "                beta_h inital_doubling_time initial_infected     ratio  \\\n",
       "fitted days                                                              \n",
       "8             0.31(14)             0.85(20)          151(72)  0.69(30)   \n",
       "10            0.28(10)             0.89(19)          169(68)  0.68(30)   \n",
       "12           0.236(79)             0.95(21)          206(73)  0.73(29)   \n",
       "14           0.227(74)             0.94(39)          211(73)  0.87(27)   \n",
       "16           0.220(68)             0.96(39)          215(72)  0.85(27)   \n",
       "18           0.210(61)             0.97(38)          227(71)  0.81(26)   \n",
       "20           0.204(56)             1.01(37)          233(71)  0.72(23)   \n",
       "22           0.203(57)             0.99(36)          235(72)  0.81(21)   \n",
       "24           0.199(54)             1.04(34)          238(72)  0.75(17)   \n",
       "26           0.202(58)             1.02(34)          235(74)  0.76(15)   \n",
       "\n",
       "            recovery_days_h recovery_days_i social_distance_delay  \\\n",
       "fitted days                                                         \n",
       "8                 14.0(5.0)       14.1(5.0)             14.4(7.0)   \n",
       "10                14.0(5.0)       14.1(5.0)             14.5(7.0)   \n",
       "12                14.0(5.0)       14.0(5.0)             13.8(6.9)   \n",
       "14                14.0(5.0)       13.3(5.0)              9.0(5.7)   \n",
       "16                14.0(5.0)       13.0(5.0)              8.4(5.0)   \n",
       "18                14.0(5.0)       12.9(5.0)              8.0(5.1)   \n",
       "20                14.0(5.0)       12.8(4.9)              7.3(4.1)   \n",
       "22                14.0(5.0)       11.6(4.8)              8.3(3.8)   \n",
       "24                14.0(5.0)       11.3(4.7)              8.0(3.2)   \n",
       "26                14.0(5.0)        9.2(4.4)              8.3(3.3)   \n",
       "\n",
       "            social_distance_halfing_days  \n",
       "fitted days                               \n",
       "8                              13.3(7.0)  \n",
       "10                             13.4(7.0)  \n",
       "12                             12.4(6.9)  \n",
       "14                              5.8(5.1)  \n",
       "16                              4.9(3.9)  \n",
       "18                              5.1(3.7)  \n",
       "20                              4.1(3.3)  \n",
       "22                              4.8(3.4)  \n",
       "24                              3.9(2.8)  \n",
       "26                              4.2(2.7)  "
      ]
     },
     "execution_count": 11,
     "metadata": {},
     "output_type": "execute_result"
    }
   ],
   "source": [
    "NT = YY.shape[0]\n",
    "\n",
    "fits = {}\n",
    "\n",
    "for nt in range(NT // 3, NT + 1):\n",
    "    yy_cut = YY[:nt].copy()\n",
    "    xx = XX.copy()\n",
    "    xx[\"n_iter\"] = nt + 1\n",
    "    fits[nt] = nonlinear_fit(\n",
    "        data=(xx, yy_cut), fcn=fcn_w_distancing, prior=prior_w_distancing\n",
    "    )\n",
    "\n",
    "fig = plot_fit_range(fits, y_max=5000, x=chd_df.index[1:], col_wrap=3)\n",
    "\n",
    "fig.show()\n",
    "DataFrame(\n",
    "    data=[fit.p for fit in fits.values()],\n",
    "    index=Series([nt * XX[\"bin_size\"] for nt in fits], name=\"fitted days\"),\n",
    ")"
   ]
  },
  {
   "cell_type": "markdown",
   "metadata": {},
   "source": [
    "Conclusion: Fits seem to be consistent once you see a \"bend\" in the new hospitalizations curve.\n",
    "E.g., after fitted days $\\geq 14$, the social distancing function parameters are affected by the fit."
   ]
  }
 ],
 "metadata": {
  "kernelspec": {
   "display_name": "Python 3",
   "language": "python",
   "name": "python3"
  },
  "language_info": {
   "codemirror_mode": {
    "name": "ipython",
    "version": 3
   },
   "file_extension": ".py",
   "mimetype": "text/x-python",
   "name": "python",
   "nbconvert_exporter": "python",
   "pygments_lexer": "ipython3",
   "version": "3.7.5"
  }
 },
 "nbformat": 4,
 "nbformat_minor": 2
}
