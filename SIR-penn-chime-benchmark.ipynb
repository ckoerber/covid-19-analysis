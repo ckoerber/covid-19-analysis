{
 "cells": [
  {
   "cell_type": "markdown",
   "metadata": {},
   "source": [
    "# Notebook to compare Penn CHIME fits against all parameter fits"
   ]
  },
  {
   "cell_type": "markdown",
   "metadata": {},
   "source": [
    "This notebook compares the implementation of the Penn CHIME SIR model against this implementation of the SIR model (needed for fitting).\n",
    "Comparisons are implemented for default parameters with and without social distancing policies.\n",
    "\n",
    "**TL;DR:** They agree."
   ]
  },
  {
   "cell_type": "markdown",
   "metadata": {},
   "source": [
    "## Imports"
   ]
  },
  {
   "cell_type": "code",
   "execution_count": null,
   "metadata": {},
   "outputs": [],
   "source": [
    "from os import environ\n",
    "from datetime import date\n",
    "\n",
    "from pandas import DataFrame\n",
    "from numpy import zeros\n",
    "\n",
    "from penn_chime.model.parameters import Parameters, Disposition\n",
    "from penn_chime.model.sir import (\n",
    "    Sir,\n",
    "    sim_sir,\n",
    "    calculate_dispositions,\n",
    "    calculate_admits,\n",
    "    calculate_census,\n",
    ")\n",
    "\n",
    "from models import sir_step, sihr_step, one_minus_logistic_fcn, FitFcn"
   ]
  },
  {
   "cell_type": "raw",
   "metadata": {},
   "source": [
    "import penn_chime\n",
    "!pip show penn_chime"
   ]
  },
  {
   "cell_type": "raw",
   "metadata": {},
   "source": [
    "Name: penn-chime\n",
    "Version: 1.1.3\n",
    "Summary: COVID-19 Hospital Impact Model for Epidemics\n",
    "Home-page: https://github.com/CodeForPhilly/chime\n",
    "Author: Predictive Healthcare @ Penn Medicine\n",
    "Author-email: \n",
    "License: UNKNOWN\n",
    "Requires: altair, black, gunicorn, dash, dash-bootstrap-components, numpy, pandas, pytest, pyyaml, selenium, streamlit\n",
    "Required-by: "
   ]
  },
  {
   "cell_type": "code",
   "execution_count": null,
   "metadata": {},
   "outputs": [],
   "source": [
    "COLS_TO_COMPARE = [\n",
    "    \"susceptible\",\n",
    "    \"infected\",\n",
    "    \"recovered\",\n",
    "    \"hospitalized_new\",\n",
    "    \"hospitalized\",\n",
    "]\n",
    "COLUMN_MAP = {\n",
    "    \"hospitalized\": \"hospitalized_new\",\n",
    "    \"census_hospitalized\": \"hospitalized\",\n",
    "}"
   ]
  },
  {
   "cell_type": "markdown",
   "metadata": {},
   "source": [
    "## Set up Penn CHIME model"
   ]
  },
  {
   "cell_type": "code",
   "execution_count": null,
   "metadata": {},
   "outputs": [],
   "source": [
    "p = Parameters(\n",
    "    current_hospitalized=69,\n",
    "    date_first_hospitalized=date(2020, 3, 7),\n",
    "    doubling_time=4.0,\n",
    "    hospitalized=Disposition.create(days=7, rate=0.025),\n",
    "    icu=Disposition.create(days=9, rate=0.0075),\n",
    "    infectious_days=14,\n",
    "    market_share=0.15,\n",
    "    n_days=100,\n",
    "    population=3600000,\n",
    "    recovered=0,\n",
    "    relative_contact_rate=0.3,\n",
    "    ventilated=Disposition.create(days=10, rate=0.005),\n",
    ")\n",
    "\n",
    "p.doubling_time = None\n",
    "simsir = Sir(p)"
   ]
  },
  {
   "cell_type": "markdown",
   "metadata": {},
   "source": [
    "## Tests"
   ]
  },
  {
   "cell_type": "markdown",
   "metadata": {},
   "source": [
    "### Check that model agrees with Penn CHIME if no policies are in place"
   ]
  },
  {
   "cell_type": "markdown",
   "metadata": {},
   "source": [
    "Calculate S, I, H, R for no policies"
   ]
  },
  {
   "cell_type": "code",
   "execution_count": null,
   "metadata": {
    "scrolled": false
   },
   "outputs": [],
   "source": [
    "n_days = simsir.raw_df.day.max() - simsir.raw_df.day.min() + 1\n",
    "\n",
    "policies = [(simsir.beta, n_days)]\n",
    "raw = sim_sir(\n",
    "    simsir.susceptible,\n",
    "    simsir.infected,\n",
    "    p.recovered,\n",
    "    simsir.gamma,\n",
    "    -simsir.i_day,\n",
    "    policies,\n",
    ")\n",
    "\n",
    "\n",
    "calculate_dispositions(raw, simsir.rates, market_share=p.market_share)\n",
    "calculate_admits(raw, simsir.rates)\n",
    "calculate_census(raw, simsir.days)\n",
    "\n",
    "raw_df = DataFrame(raw)\n",
    "\n",
    "day0 = raw_df.iloc[0].fillna(0)\n",
    "\n",
    "raw_df.head()"
   ]
  },
  {
   "cell_type": "markdown",
   "metadata": {},
   "source": [
    "Compute values using new fit function"
   ]
  },
  {
   "cell_type": "code",
   "execution_count": null,
   "metadata": {},
   "outputs": [],
   "source": [
    "pars = {\n",
    "    \"beta_i\": simsir.beta * p.population,\n",
    "    \"gamma_i\": simsir.gamma,\n",
    "    \"initial_susceptible\": day0.susceptible,\n",
    "    \"initial_infected\": day0.infected,\n",
    "    \"initial_hospitalized\": day0.hospitalized,\n",
    "    \"initial_recovered\": day0.recovered,\n",
    "    \"hospitalization_rate\": simsir.rates[\"hospitalized\"] * p.market_share,\n",
    "}\n",
    "x = {\n",
    "    \"n_iter\": raw_df.shape[0],\n",
    "    \"length_of_stay\": p.dispositions[\"hospitalized\"].days,\n",
    "}\n",
    "\n",
    "\n",
    "f = FitFcn(sir_step)\n",
    "y = f(x, pars)\n",
    "y.head()"
   ]
  },
  {
   "cell_type": "markdown",
   "metadata": {},
   "source": [
    "Check that difference is consistent with zero"
   ]
  },
  {
   "cell_type": "code",
   "execution_count": null,
   "metadata": {},
   "outputs": [],
   "source": [
    "diff = (raw_df.rename(columns=COLUMN_MAP) - y)[COLS_TO_COMPARE]\n",
    "mean = diff.mean()\n",
    "sdev = diff.std()\n",
    "assert (mean.abs() < 2 * sdev + 1.0e-7).all()\n",
    "DataFrame([mean, sdev], index=[\"mean\", \"sdev\"]).T"
   ]
  },
  {
   "cell_type": "markdown",
   "metadata": {},
   "source": [
    "### Check that model agrees with Penn CHIME if no policies are in place"
   ]
  },
  {
   "cell_type": "markdown",
   "metadata": {},
   "source": [
    "Now compare against Penn CHIME with active social distancing policies.\n",
    "\n",
    "This repo's SIR function takes a different input for social distancing policies to allow fitting later on.\n",
    "The policies are implemented as a function which returns an array of betas"
   ]
  },
  {
   "cell_type": "code",
   "execution_count": null,
   "metadata": {},
   "outputs": [],
   "source": [
    "POLICIES = simsir.gen_policy(p)\n",
    "\n",
    "day0 = simsir.raw_df.iloc[0]\n",
    "total = day0.susceptible + day0.infected + day0.recovered\n",
    "\n",
    "\n",
    "def beta_i_fcn(x_iter, **kwargs):\n",
    "    out = zeros(len(x_iter))\n",
    "    ii = 0\n",
    "    for beta, n_days in POLICIES:\n",
    "        for _ in range(n_days):\n",
    "            out[ii] = beta * p.population\n",
    "            ii += 1\n",
    "\n",
    "    return out"
   ]
  },
  {
   "cell_type": "code",
   "execution_count": null,
   "metadata": {},
   "outputs": [],
   "source": [
    "pars = {\n",
    "    \"beta_i\": None,\n",
    "    \"gamma_i\": simsir.gamma,\n",
    "    \"initial_susceptible\": day0.susceptible,\n",
    "    \"initial_infected\": day0.infected,\n",
    "    \"initial_hospitalized\": day0.hospitalized,\n",
    "    \"initial_recovered\": day0.recovered,\n",
    "    \"hospitalization_rate\": simsir.rates[\"hospitalized\"] * p.market_share,\n",
    "}\n",
    "x = {\n",
    "    \"n_iter\": simsir.raw_df.shape[0],\n",
    "    \"length_of_stay\": p.dispositions[\"hospitalized\"].days,\n",
    "}\n",
    "\n",
    "\n",
    "f = FitFcn(sir_step, beta_i_fcn=beta_i_fcn,)\n",
    "y = f(x, pars)\n",
    "y.head()"
   ]
  },
  {
   "cell_type": "code",
   "execution_count": null,
   "metadata": {},
   "outputs": [],
   "source": [
    "diff = (simsir.raw_df.rename(columns=COLUMN_MAP) - y)[COLS_TO_COMPARE].fillna(0)\n",
    "mean = diff.mean()\n",
    "sdev = diff.std()\n",
    "assert (mean.abs() < 2 * sdev + 1.0e-7).all()\n",
    "DataFrame([mean, sdev], index=[\"mean\", \"sdev\"]).T"
   ]
  },
  {
   "cell_type": "code",
   "execution_count": null,
   "metadata": {},
   "outputs": [],
   "source": []
  }
 ],
 "metadata": {
  "kernelspec": {
   "display_name": "chime",
   "language": "python",
   "name": "chime"
  },
  "language_info": {
   "codemirror_mode": {
    "name": "ipython",
    "version": 3
   },
   "file_extension": ".py",
   "mimetype": "text/x-python",
   "name": "python",
   "nbconvert_exporter": "python",
   "pygments_lexer": "ipython3",
   "version": "3.7.5"
  }
 },
 "nbformat": 4,
 "nbformat_minor": 2
}
