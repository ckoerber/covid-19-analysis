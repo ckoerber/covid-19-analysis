{
 "cells": [
  {
   "cell_type": "markdown",
   "metadata": {},
   "source": [
    "# Comparison of SIHR vs SIR"
   ]
  },
  {
   "cell_type": "markdown",
   "metadata": {},
   "source": [
    "This notebook compares the SIR model against the SIHR model for the initial settings of the `penn_chime` module.\n",
    "It contains comparisons for\n",
    "\n",
    "1. no social distancing policies infinite hospital bed capacities\n",
    "2. no social distancing policies finite hospital bed capacities\n",
    "3. social distancing policies infinite hospital bed capacities\n",
    "4. social distancing policies finite hospital bed capacities"
   ]
  },
  {
   "cell_type": "markdown",
   "metadata": {},
   "source": [
    "**Conclusion:** SIHR predicts significantly more hospitalizations (factor two with a delay of ~ 10 days for `penn_chime` parameters, if hospital capacities are infinite) if one forces models to agree on early admissions per day."
   ]
  },
  {
   "cell_type": "markdown",
   "metadata": {},
   "source": [
    "## Details"
   ]
  },
  {
   "cell_type": "markdown",
   "metadata": {},
   "source": [
    "Effectively, the SIHR model has two parameters which are not present in the SIR model. The hospitalization growth $\\beta_H$ and the recovery rate $\\gamma_H$. For benchmark purposes, this comparison assumes that the recovery rate in hospital is equal to the rate if not in hospital $\\gamma_I$.\n",
    "\n",
    "Thus, this model has the same number of parameters as the SIR model. With the difference that CHIME computes new hospitalizations using a direct relation to new infections\n",
    "$$\n",
    "    \\dot H(t) = p_H \\dot I(t)\n",
    "$$\n",
    "while SIHR uses\n",
    "$$\n",
    "    \\dot H(t) = \\beta_H I(t)\n",
    "$$\n",
    "To infer $\\beta_H$ for a given $p_H$, I run a fit over the first 3 days."
   ]
  },
  {
   "cell_type": "markdown",
   "metadata": {},
   "source": [
    "# Init"
   ]
  },
  {
   "cell_type": "markdown",
   "metadata": {},
   "source": [
    "## Imports"
   ]
  },
  {
   "cell_type": "code",
   "execution_count": null,
   "metadata": {},
   "outputs": [],
   "source": [
    "from datetime import date\n",
    "\n",
    "from pandas import DataFrame, read_html\n",
    "from numpy import zeros, inf\n",
    "\n",
    "from gvar import gvar\n",
    "from lsqfit import nonlinear_fit\n",
    "\n",
    "from penn_chime.model.parameters import Parameters, Disposition\n",
    "from penn_chime.model.sir import Sir\n",
    "\n",
    "from models import sir_step, sihr_step, FitFcn\n",
    "\n",
    "from utils.plotting import plot_sir_sihr_comparison"
   ]
  },
  {
   "cell_type": "raw",
   "metadata": {},
   "source": [
    "import penn_chime\n",
    "!pip show penn_chime"
   ]
  },
  {
   "cell_type": "raw",
   "metadata": {},
   "source": [
    "Name: penn-chime\n",
    "Version: 1.1.3\n",
    "Summary: COVID-19 Hospital Impact Model for Epidemics\n",
    "Home-page: https://github.com/CodeForPhilly/chime\n",
    "Author: Predictive Healthcare @ Penn Medicine\n",
    "Author-email: \n",
    "License: UNKNOWN\n",
    "Requires: altair, black, gunicorn, dash, dash-bootstrap-components, numpy, pandas, pytest, pyyaml, selenium, streamlit\n",
    "Required-by:"
   ]
  },
  {
   "cell_type": "markdown",
   "metadata": {},
   "source": [
    "## Set up Penn CHIME model parameters"
   ]
  },
  {
   "cell_type": "code",
   "execution_count": null,
   "metadata": {},
   "outputs": [],
   "source": [
    "p = Parameters(\n",
    "    current_hospitalized=69,\n",
    "    date_first_hospitalized=date(2020, 3, 7),\n",
    "    doubling_time=4.0,\n",
    "    hospitalized=Disposition.create(days=7, rate=0.025),\n",
    "    icu=Disposition.create(days=9, rate=0.0075),\n",
    "    infectious_days=14,\n",
    "    market_share=0.15,\n",
    "    n_days=100,\n",
    "    population=3600000,\n",
    "    recovered=0,\n",
    "    relative_contact_rate=0.3,\n",
    "    ventilated=Disposition.create(days=10, rate=0.005),\n",
    ")\n",
    "\n",
    "p.doubling_time = None\n",
    "simsir = Sir(p)"
   ]
  },
  {
   "cell_type": "markdown",
   "metadata": {},
   "source": [
    "## Set up the SIR model for a given set of parameters"
   ]
  },
  {
   "cell_type": "markdown",
   "metadata": {},
   "source": [
    "Compute values using new fit function"
   ]
  },
  {
   "cell_type": "code",
   "execution_count": null,
   "metadata": {},
   "outputs": [],
   "source": [
    "pars_sir = {\n",
    "    \"beta_i\": simsir.beta * p.population,\n",
    "    \"gamma_i\": simsir.gamma,\n",
    "    \"initial_susceptible\": 3567845,\n",
    "    \"initial_infected\": 20737,\n",
    "    \"initial_hospitalized\": 0,\n",
    "    \"initial_recovered\": 0,\n",
    "    \"hospitalization_rate\": 0.05,  # ignore market share\n",
    "}\n",
    "x_sir = {\n",
    "    \"n_iter\": simsir.raw_df.shape[0],\n",
    "}\n",
    "\n",
    "\n",
    "f_sir = FitFcn(sir_step)\n",
    "df_sir = f_sir(x_sir, pars_sir).iloc[1:]"
   ]
  },
  {
   "cell_type": "markdown",
   "metadata": {},
   "source": [
    "Check that difference is consistent with zero"
   ]
  },
  {
   "cell_type": "code",
   "execution_count": null,
   "metadata": {},
   "outputs": [],
   "source": [
    "df_sir.head()"
   ]
  },
  {
   "cell_type": "markdown",
   "metadata": {},
   "source": [
    "## Set up SIHR model for similar parameters to fit $\\beta_H$"
   ]
  },
  {
   "cell_type": "markdown",
   "metadata": {},
   "source": [
    "To fit $\\beta_H$, I set all input parameters for the SIHR model besides $\\beta_H$ to be equal to the SIR parameters (with a standard derivation of $1\\%$ of the mean value).\n",
    "\n",
    "The `gvar` objects are Gaussian random variables which are initialized with their mean and standard derivation."
   ]
  },
  {
   "cell_type": "code",
   "execution_count": null,
   "metadata": {},
   "outputs": [],
   "source": [
    "pars_sihr = {\n",
    "    key: gvar(val, val / 100 if val > 0 else 1.0e-3) for key, val in pars_sir.items()\n",
    "}\n",
    "pars_sihr[\"gamma_h\"] = gvar(pars_sihr[\"gamma_i\"])\n",
    "\n",
    "# Fit this parameter to match SIR\n",
    "pars_sihr[\"beta_h\"] = gvar(0.1, 0.3)"
   ]
  },
  {
   "cell_type": "markdown",
   "metadata": {},
   "source": [
    " Furthermore I only fit new hospitalizations from day 1-3."
   ]
  },
  {
   "cell_type": "code",
   "execution_count": null,
   "metadata": {},
   "outputs": [],
   "source": [
    "x_sihr = x_sir.copy()\n",
    "x_sihr[\"n_iter\"] = 4  # four model iterations (including day 0)\n",
    "x_sihr[\"capacity\"] = inf  # does not play a role for this range\n",
    "\n",
    "y_sir = df_sir[\"hospitalized_new\"].iloc[:3].values\n",
    "y_sir = gvar(y_sir, y_sir / 100)  # Assume values are very precise\n",
    "\n",
    "# Run a sihr step, return only columns `hospitalized_new` as an array and drop the first row\n",
    "f_sihr = FitFcn(sihr_step, columns=[\"hospitalized_new\"], drop_rows=[0], as_array=True)\n",
    "fit = nonlinear_fit(data=(x_sihr, y_sir), fcn=f_sihr, prior=pars_sihr)\n",
    "print(fit)"
   ]
  },
  {
   "cell_type": "markdown",
   "metadata": {},
   "source": [
    "# Comparisons"
   ]
  },
  {
   "cell_type": "markdown",
   "metadata": {},
   "source": [
    "## No social distancing, infinite hospital capacity"
   ]
  },
  {
   "cell_type": "code",
   "execution_count": null,
   "metadata": {},
   "outputs": [],
   "source": [
    "f_sihr = FitFcn(sihr_step)\n",
    "\n",
    "x_sihr = x_sir.copy()\n",
    "x_sihr[\"capacity\"] = inf\n",
    "\n",
    "df_sihr = f_sihr(x_sihr, fit.p).iloc[1:]\n",
    "df_sihr[\"infected_inclusive\"] = df_sihr[\"infected\"] + df_sihr[\"hospitalized\"]\n",
    "\n",
    "fig = plot_sir_sihr_comparison(df_sir, df_sihr, x_sihr[\"capacity\"])\n",
    "fig.show()"
   ]
  },
  {
   "cell_type": "markdown",
   "metadata": {},
   "source": [
    "## No social distancing, finite hospital capacity"
   ]
  },
  {
   "cell_type": "raw",
   "metadata": {},
   "source": [
    "url = \"https://en.wikipedia.org/wiki/List_of_hospitals_in_Pennsylvania\"\n",
    "read_html(url)[0].groupby(\"County[1]\").sum().loc[\"Philadelphia\"]"
   ]
  },
  {
   "cell_type": "raw",
   "metadata": {},
   "source": [
    "Licensed beds[1]    7683\n",
    "Name: Philadelphia, dtype: int64"
   ]
  },
  {
   "cell_type": "code",
   "execution_count": null,
   "metadata": {},
   "outputs": [],
   "source": [
    "f_sihr = FitFcn(sihr_step)\n",
    "\n",
    "x_sihr = x_sir.copy()\n",
    "x_sihr[\"capacity\"] = 7683\n",
    "\n",
    "df_sihr = f_sihr(x_sihr, fit.p).iloc[1:]\n",
    "df_sihr[\"infected_inclusive\"] = df_sihr[\"infected\"] + df_sihr[\"hospitalized\"]\n",
    "\n",
    "fig = plot_sir_sihr_comparison(df_sir, df_sihr, x_sihr[\"capacity\"])\n",
    "fig.show()"
   ]
  },
  {
   "cell_type": "markdown",
   "metadata": {},
   "source": [
    "## With social distancing, infinite hospital capacity"
   ]
  },
  {
   "cell_type": "code",
   "execution_count": null,
   "metadata": {},
   "outputs": [],
   "source": [
    "POLICIES = simsir.gen_policy(p)\n",
    "\n",
    "\n",
    "def beta_i_fcn(x_iter, **kwargs):\n",
    "    out = zeros(len(x_iter))\n",
    "    ii = 0\n",
    "    for beta, n_days in POLICIES:\n",
    "        for _ in range(n_days):\n",
    "            out[ii] = beta* p.population\n",
    "            ii += 1\n",
    "\n",
    "    return out\n",
    "\n",
    "\n",
    "print(POLICIES)"
   ]
  },
  {
   "cell_type": "code",
   "execution_count": null,
   "metadata": {},
   "outputs": [],
   "source": [
    "f_sihr_pol = FitFcn(sihr_step, beta_i_fcn=beta_i_fcn)\n",
    "\n",
    "x_sihr = x_sir.copy()\n",
    "x_sihr[\"capacity\"] = inf\n",
    "\n",
    "df_sihr_pol = f_sihr_pol(x_sihr, fit.p).iloc[1:]\n",
    "df_sihr_pol[\"infected_inclusive\"] = (\n",
    "    df_sihr_pol[\"infected\"] + df_sihr_pol[\"hospitalized\"]\n",
    ")\n",
    "\n",
    "f_sir_pol = FitFcn(sir_step, beta_i_fcn=beta_i_fcn)\n",
    "df_sir_pol = f_sir_pol(x_sir, pars_sir).iloc[1:]\n",
    "\n",
    "fig = plot_sir_sihr_comparison(df_sir_pol, df_sihr_pol, x_sihr[\"capacity\"])\n",
    "fig.show()"
   ]
  },
  {
   "cell_type": "markdown",
   "metadata": {},
   "source": [
    "## With social distancing, finite hospital capacity"
   ]
  },
  {
   "cell_type": "code",
   "execution_count": null,
   "metadata": {},
   "outputs": [],
   "source": [
    "f_sihr_pol = FitFcn(sihr_step, beta_i_fcn=beta_i_fcn)\n",
    "\n",
    "x_sihr = x_sir.copy()\n",
    "x_sihr[\"capacity\"] = 7683\n",
    "\n",
    "df_sihr_pol = f_sihr_pol(x_sihr, fit.p).iloc[1:]\n",
    "df_sihr_pol[\"infected_inclusive\"] = (\n",
    "    df_sihr_pol[\"infected\"] + df_sihr_pol[\"hospitalized\"]\n",
    ")\n",
    "\n",
    "f_sir_pol = FitFcn(sir_step, beta_i_fcn=beta_i_fcn)\n",
    "df_sir_pol = f_sir_pol(x_sir, pars_sir).iloc[1:]\n",
    "\n",
    "fig = plot_sir_sihr_comparison(df_sir_pol, df_sihr_pol, x_sihr[\"capacity\"])\n",
    "fig.show()"
   ]
  }
 ],
 "metadata": {
  "kernelspec": {
   "display_name": "chime",
   "language": "python",
   "name": "chime"
  },
  "language_info": {
   "codemirror_mode": {
    "name": "ipython",
    "version": 3
   },
   "file_extension": ".py",
   "mimetype": "text/x-python",
   "name": "python",
   "nbconvert_exporter": "python",
   "pygments_lexer": "ipython3",
   "version": "3.7.5"
  }
 },
 "nbformat": 4,
 "nbformat_minor": 2
}
