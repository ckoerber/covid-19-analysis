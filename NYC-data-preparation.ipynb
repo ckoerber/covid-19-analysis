{
 "cells": [
  {
   "cell_type": "markdown",
   "metadata": {},
   "source": [
    "# Data preparation"
   ]
  },
  {
   "cell_type": "markdown",
   "metadata": {},
   "source": [
    "NYC has just published a continuously updating dataset for coronavirus testing, hospitalizations and death rates at\n",
    "\n",
    "https://github.com/nychealth/coronavirus-data\n",
    "\n",
    "I intended to test the SIR model, parameter assumptions and consequences. This notebook displays choices made for preparing the data. In general, I want to discuss temporal correlations in the data.\n",
    "\n",
    "An assumption made in the CHIME SIR model is that the number of infected people $I$ at time $t$ can be used to compute the number of hospitalized people $H$: $I(t) / H(t) = $ const. This allows us to infer the amount of infected people from the amount of hospitalized people (observable).\n",
    "\n",
    "Because of daily fluctuations, I also analyze whether binning of days improves the analysis\n",
    "$$\n",
    "    I_b(t_0) = \\sum_{n=0}^{N_b} I(t_0 + \\delta_t n) \\, ,\n",
    "$$\n",
    "where $\\delta_t$ is a day and $N_b$ the size of the bin."
   ]
  },
  {
   "cell_type": "markdown",
   "metadata": {},
   "source": [
    "**TL;DR:**\n",
    "\n",
    "1. With a binning size of 3 days, results seem to be stable. \n",
    "2. This data, whether it was mathematically adjusted or depends on how NYC implements tests, suggests that the time delay between knowing the infection and hospitalization is immediate. It seems to be reliable after March 11 at $\\sim 20\\%$ which is consistent with the severity of symptoms probability.\n",
    "3. There seems to be a strong kink in the data around 7th of April. It might be safer to drop this point from the analysis until data is updated.\n",
    "4. The uncertainty in the number of new hospitalizations is estimated to be ~ 15% due to temporal effects.  "
   ]
  },
  {
   "cell_type": "markdown",
   "metadata": {},
   "source": [
    "## Imports"
   ]
  },
  {
   "cell_type": "code",
   "execution_count": null,
   "metadata": {},
   "outputs": [],
   "source": [
    "from datetime import timedelta\n",
    "\n",
    "import pandas as pd\n",
    "\n",
    "import plotly.express as px\n",
    "import plotly.graph_objects as go\n",
    "from plotly.subplots import make_subplots\n",
    "\n",
    "from utils.prepare_df import prepare_case_hosp_death, COMMIT_HASH_LAST\n",
    "\n",
    "print(COMMIT_HASH_LAST)"
   ]
  },
  {
   "cell_type": "code",
   "execution_count": null,
   "metadata": {},
   "outputs": [],
   "source": [
    "chd_df = prepare_case_hosp_death(COMMIT_HASH_LAST, bin_day_range=None, drop_days_end=3)\n",
    "chd_df.head()"
   ]
  },
  {
   "cell_type": "markdown",
   "metadata": {},
   "source": [
    "## Binning"
   ]
  },
  {
   "cell_type": "markdown",
   "metadata": {},
   "source": [
    "Below, the counts per day and cumulative counts are visualized for different binning choices. Binning data in intervals of 2-4 days seems to be an optimal choice (smoothness and consistency of curves)."
   ]
  },
  {
   "cell_type": "code",
   "execution_count": null,
   "metadata": {},
   "outputs": [],
   "source": [
    "dfs = []\n",
    "for bin_day_range in range(1, 8, 1):\n",
    "    chd_df = prepare_case_hosp_death(\n",
    "        COMMIT_HASH_LAST, bin_day_range=bin_day_range, drop_days_end=3\n",
    "    )\n",
    "    for col in chd_df.columns:\n",
    "        if \"new\" in col:\n",
    "            chd_df[f\"{col}_per_day\"] = chd_df[col] / bin_day_range\n",
    "\n",
    "    stacked = (\n",
    "        chd_df.stack().reset_index().rename(columns={\"level_1\": \"kind\", 0: \"value\"})\n",
    "    )\n",
    "    stacked[\"bin_day_range\"] = bin_day_range\n",
    "    dfs.append(stacked)\n",
    "\n",
    "dfs = pd.concat(dfs, ignore_index=True)\n",
    "kkind = (\n",
    "    dfs.kind.str.extractall(\"(?P<kind>[a-z]+)_(?P<agg>[\\w+]+)\")\n",
    "    .reset_index()\n",
    "    .drop(columns=[\"match\", \"level_0\"])\n",
    ")\n",
    "dfs = dfs.drop(columns=\"kind\").join(kkind)"
   ]
  },
  {
   "cell_type": "code",
   "execution_count": null,
   "metadata": {},
   "outputs": [],
   "source": [
    "fig = px.scatter(\n",
    "    dfs.query(\"agg == 'new_per_day'\"),\n",
    "    x=\"date\",\n",
    "    y=\"value\",\n",
    "    facet_col=\"bin_day_range\",\n",
    "    labels={\"bin_day_range\": \"binned days\"},\n",
    "    facet_row=\"kind\",\n",
    "    log_y=True,\n",
    "    title=\"Counts per day\",\n",
    ")\n",
    "fig.update_yaxes(matches=None)\n",
    "fig.show()"
   ]
  },
  {
   "cell_type": "code",
   "execution_count": null,
   "metadata": {},
   "outputs": [],
   "source": [
    "fig = px.scatter(\n",
    "    dfs.query(\"agg == 'cummulative' and bin_day_range < 5\"),\n",
    "    x=\"date\",\n",
    "    y=\"value\",\n",
    "    facet_col=\"bin_day_range\",\n",
    "    labels={\"bin_day_range\": \"binned days\"},\n",
    "    facet_row=\"kind\",\n",
    "    log_y=True,\n",
    "    title=\"Cummulative counts\",\n",
    ")\n",
    "fig.update_yaxes(matches=None)\n",
    "fig.show()"
   ]
  },
  {
   "cell_type": "markdown",
   "metadata": {},
   "source": [
    "## Hospitalization vs Infection (delay in time)"
   ]
  },
  {
   "cell_type": "markdown",
   "metadata": {},
   "source": [
    "Below, it is displayed how many new infected cases per day are being hospitalized. This is displayed over different day bin ranges and shifts between hospitalization and infection:\n",
    "$$\n",
    "    R(t) = \\frac{H(t + \\Delta_t)}{I(t)}\n",
    "$$\n",
    "\n"
   ]
  },
  {
   "cell_type": "code",
   "execution_count": null,
   "metadata": {
    "scrolled": false
   },
   "outputs": [],
   "source": [
    "shift_dfs = []\n",
    "tmp = dfs.set_index([\"kind\", \"agg\", \"bin_day_range\", \"date\"]).sort_index()\n",
    "\n",
    "for shift in range(0, 8):\n",
    "    for bbin in dfs.bin_day_range.unique():\n",
    "        if bbin > 5 or bbin < 2:\n",
    "            continue\n",
    "\n",
    "        h = tmp.loc[(\"hospitalized\", \"new_per_day\", bbin)].shift(shift)\n",
    "        i = tmp.loc[(\"infected\", \"new_per_day\", bbin)]\n",
    "        df = (h / i).dropna().reset_index()\n",
    "\n",
    "        if df.empty or df.shape[0] < 5:\n",
    "            continue\n",
    "\n",
    "        df[\"bin\"] = bbin\n",
    "        df[\"shift\"] = shift\n",
    "        df[\"shifted_days\"] = shift * bbin\n",
    "\n",
    "        if shift * bbin > 8:\n",
    "            continue\n",
    "\n",
    "        df[\"label\"] = df.apply(\n",
    "            lambda row: \"{b}, {s} [days]\".format(b=row[\"bin\"], s=row[\"shifted_days\"]),\n",
    "            axis=1,\n",
    "        )\n",
    "        shift_dfs.append(df)\n",
    "\n",
    "shift_dfs = pd.concat(shift_dfs, ignore_index=True)"
   ]
  },
  {
   "cell_type": "code",
   "execution_count": null,
   "metadata": {},
   "outputs": [],
   "source": [
    "fig = px.scatter(\n",
    "    shift_dfs,\n",
    "    x=\"date\",\n",
    "    y=\"value\",\n",
    "    facet_col=\"bin\",\n",
    "    facet_row=\"shifted_days\",\n",
    "    # facet_col_wrap=4,\n",
    "    labels={\"shifted_days\": \"dt\", \"bin\": \"binned days\"},\n",
    "    # log_y=True,\n",
    "    title=\"$H(t + \\Delta t)/I(t)$\",\n",
    "    height=1200,\n",
    "    range_y=(0.01, 1),\n",
    "    log_y=True,\n",
    ")\n",
    "# fig.update_yaxes(matches=None)\n",
    "fig.show()"
   ]
  },
  {
   "cell_type": "markdown",
   "metadata": {},
   "source": [
    "# Estimating uncertainties"
   ]
  },
  {
   "cell_type": "markdown",
   "metadata": {},
   "source": [
    "For the latter analysis, a rough quantification of uncertainties is relevant.\n",
    "I believe the most accurate data is the number of daily admissions / new hospitalizations.\n",
    "However, there will be inaccuracy from ideal model behavior due to temporal delays.\n",
    "As the analysis above presents, binning days smoothens out curves.\n",
    "Below, the difference for new admissions is computed under different bin ranges (using linear interpolations)."
   ]
  },
  {
   "cell_type": "code",
   "execution_count": null,
   "metadata": {},
   "outputs": [],
   "source": [
    "bin_sample_dfs = []\n",
    "\n",
    "for bin_size in range(1, 4):\n",
    "    timeshift = (bin_size - 1) // 2 * timedelta(days=1)\n",
    "    tmp = dfs.query(\n",
    "        \"agg == 'new' and kind == 'hospitalized' and bin_day_range == @bin_size\"\n",
    "    ).set_index(\"date\")[[\"value\"]]\n",
    "\n",
    "    if bin_size > 1:\n",
    "        tmp.index += timeshift\n",
    "        tmp = (\n",
    "            tmp.resample(\"D\").interpolate(method=\"linear\").fillna(method=\"ffill\")\n",
    "        ) / bin_size\n",
    "\n",
    "    tmp[\"bin_size\"] = bin_size\n",
    "    bin_sample_dfs.append(tmp)\n",
    "\n",
    "bin_sampled_df = pd.concat(bin_sample_dfs)\n",
    "\n",
    "hospitalized_deviations = (\n",
    "    pd.concat(bin_sample_dfs)\n",
    "    .reset_index()\n",
    "    .groupby(\"date\")\n",
    "    .agg([\"mean\", \"std\"])[\"value\"]\n",
    ")\n",
    "hospitalized_deviations[\"std/mean\"] = (\n",
    "    hospitalized_deviations[\"std\"] / hospitalized_deviations[\"mean\"] * 100\n",
    ")\n",
    "\n",
    "\n",
    "fig = px.scatter(\n",
    "    bin_sampled_df.reset_index(),\n",
    "    x=\"date\",\n",
    "    y=\"value\",\n",
    "    symbol=\"bin_size\",\n",
    ")\n",
    "fig.show()\n",
    "fig = px.scatter(hospitalized_deviations.reset_index(), x=\"date\", y=\"std/mean\",)\n",
    "fig.show()"
   ]
  },
  {
   "cell_type": "markdown",
   "metadata": {},
   "source": [
    "The two last points are outliers. Excluding these two points results in the average relative error."
   ]
  },
  {
   "cell_type": "code",
   "execution_count": null,
   "metadata": {},
   "outputs": [],
   "source": [
    "print(\n",
    "    \"Avg ratio of std/mean: {0:1.1f}%\".format(\n",
    "        hospitalized_deviations[\"std/mean\"].iloc[:-2].mean()\n",
    "    )\n",
    ")\n",
    "print(\n",
    "    \"STD ratio of std/mean: {0:1.1f}%\".format(hospitalized_deviations[\"std/mean\"].iloc[:-2].std())\n",
    ")"
   ]
  }
 ],
 "metadata": {
  "kernelspec": {
   "display_name": "Python 3",
   "language": "python",
   "name": "python3"
  },
  "language_info": {
   "codemirror_mode": {
    "name": "ipython",
    "version": 3
   },
   "file_extension": ".py",
   "mimetype": "text/x-python",
   "name": "python",
   "nbconvert_exporter": "python",
   "pygments_lexer": "ipython3",
   "version": "3.7.5"
  }
 },
 "nbformat": 4,
 "nbformat_minor": 4
}
