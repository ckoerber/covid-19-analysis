{
 "cells": [
  {
   "cell_type": "markdown",
   "metadata": {},
   "source": [
    "# Comparison with pennsignals BayesCHIME"
   ]
  },
  {
   "cell_type": "markdown",
   "metadata": {},
   "source": [
    "Source: https://github.com/pennsignals/chime_sims"
   ]
  },
  {
   "cell_type": "code",
   "execution_count": null,
   "metadata": {},
   "outputs": [],
   "source": [
    "from os import getcwd, path\n",
    "\n",
    "from datetime import timedelta\n",
    "\n",
    "from scipy.stats import beta, gamma, norm, expon\n",
    "from scipy.optimize import curve_fit\n",
    "\n",
    "\n",
    "import pandas as pd\n",
    "from numpy import linspace, sqrt, arange\n",
    "\n",
    "from gvar import gvar\n",
    "from gvar import mean as gv_mean\n",
    "from gvar import sdev as gv_sdev\n",
    "\n",
    "from plotly.subplots import make_subplots\n",
    "from plotly.graph_objects import Scatter, Histogram\n",
    "\n",
    "from models import seir_step, one_minus_logistic_fcn, FitFcn\n",
    "from utils.plotting import add_gvar_scatter, hex_to_rgba"
   ]
  },
  {
   "cell_type": "code",
   "execution_count": null,
   "metadata": {},
   "outputs": [],
   "source": [
    "DATA = path.join(path.abspath(getcwd()), \"data\", \"penn\")"
   ]
  },
  {
   "cell_type": "code",
   "execution_count": null,
   "metadata": {},
   "outputs": [],
   "source": [
    "location = \"Downtown\"\n",
    "\n",
    "parameters = pd.read_csv(path.join(DATA, f\"{location}_parameters.csv\"))\n",
    "data = (\n",
    "    pd.read_csv(path.join(DATA, f\"{location}_ts.csv\"), parse_dates=[\"date\"])\n",
    "    .dropna(how=\"all\", axis=1)\n",
    "    .fillna(0)\n",
    "    .set_index(\"date\")\n",
    "    .astype(int)\n",
    ")\n",
    "\n",
    "parameters"
   ]
  },
  {
   "cell_type": "markdown",
   "metadata": {},
   "source": [
    "## Read in priors"
   ]
  },
  {
   "cell_type": "code",
   "execution_count": null,
   "metadata": {},
   "outputs": [],
   "source": [
    "PARAMETER_MAP = {\n",
    "    \"n_hosp\": \"hospitalized_initial\",\n",
    "    \"hosp_prop\": \"hospitalization_rate\",\n",
    "    \"recovery_days\": \"recovery_days_i\",\n",
    "    \"logistic_k\": \"social_distance_halfing_days\",\n",
    "    \"logistic_x0\": \"social_distance_delay\",\n",
    "    \"logistic_L\": \"ratio\",\n",
    "    \"beta\": \"beta_i\",\n",
    "    \"incubation_days\": \"incubation_days\",\n",
    "    \"nu\": \"nu\",\n",
    "    \"hosp_LOS\": \"length_of_stay\",\n",
    "}"
   ]
  },
  {
   "cell_type": "code",
   "execution_count": null,
   "metadata": {},
   "outputs": [],
   "source": [
    "DIST_MAP = {\n",
    "    \"beta\": beta,\n",
    "    \"gamma\": gamma,\n",
    "}\n",
    "\n",
    "\n",
    "def get_dist_df(distribution, p1, p2, **kwargs):\n",
    "    \"\"\"\n",
    "    \"\"\"\n",
    "\n",
    "    data = {}\n",
    "    args = {\"a\": p1}\n",
    "    args[\"b\" if distribution == \"beta\" else \"scale\"] = p2\n",
    "\n",
    "    dist = DIST_MAP[distribution](**args)\n",
    "    x = linspace(dist.ppf(0.01), dist.ppf(0.99), 100)\n",
    "    y = dist.pdf(x)\n",
    "    mean, var = dist.stats(moments=\"mv\")\n",
    "\n",
    "    data = pd.DataFrame({\"x\": x, \"y\": y})\n",
    "    data[\"dist\"] = distribution\n",
    "    data[\"param\"] = kwargs.get(\"param\")\n",
    "\n",
    "    return data, dist"
   ]
  },
  {
   "cell_type": "code",
   "execution_count": null,
   "metadata": {},
   "outputs": [],
   "source": [
    "def fit_norm_dist(x, y, dist, param):\n",
    "    mean = dist.stats(\"m\")\n",
    "    scale = sqrt(dist.stats(\"v\"))\n",
    "    mean, scale = curve_fit(norm.pdf, xdata=x, ydata=y, p0=(mean, scale))[0]\n",
    "\n",
    "    dist = norm(mean, scale)\n",
    "    y = dist.pdf(x)\n",
    "    data = pd.DataFrame({\"x\": x, \"y\": y})\n",
    "    data[\"dist\"] = \"normal\"\n",
    "    data[\"param\"] = param\n",
    "\n",
    "    return data, dist"
   ]
  },
  {
   "cell_type": "code",
   "execution_count": null,
   "metadata": {},
   "outputs": [],
   "source": [
    "dfs = []\n",
    "mapped_pars = {}\n",
    "\n",
    "for idx, row in parameters.iterrows():\n",
    "\n",
    "    if row[\"param\"] not in PARAMETER_MAP:\n",
    "        continue\n",
    "\n",
    "    mapped_param = PARAMETER_MAP[row[\"param\"]]\n",
    "\n",
    "    if row[\"distribution\"] == \"constant\":\n",
    "        pass\n",
    "\n",
    "    else:\n",
    "        tmp_df, dist = get_dist_df(**row)\n",
    "        dfs.append(tmp_df)\n",
    "\n",
    "        tmp_df, dist = fit_norm_dist(tmp_df.x, tmp_df.y, dist, row[\"param\"])\n",
    "        dfs.append(tmp_df)\n",
    "\n",
    "\n",
    "df = pd.concat(dfs, ignore_index=True)\n",
    "df.head()"
   ]
  },
  {
   "cell_type": "code",
   "execution_count": null,
   "metadata": {
    "scrolled": false
   },
   "outputs": [],
   "source": [
    "params = df.param.unique()\n",
    "\n",
    "col_wrap = 3\n",
    "n_cols = min(col_wrap, len(params))\n",
    "n_rows = len(params) // 4 + 1\n",
    "\n",
    "fig = make_subplots(\n",
    "    cols=n_cols,\n",
    "    rows=n_rows,\n",
    "    shared_xaxes=False,\n",
    "    shared_yaxes=False,\n",
    "    subplot_titles=params,\n",
    ")\n",
    "\n",
    "for i, param in enumerate(params):\n",
    "    tmp_df = df.query(\"param == @param\")\n",
    "    for color, dist in zip([\"blue\", \"green\"], tmp_df.dist.unique()):\n",
    "        ttmp_df = tmp_df.query(\"dist == @dist\")\n",
    "        fig.add_trace(\n",
    "            Scatter(\n",
    "                x=ttmp_df.x,\n",
    "                y=ttmp_df.y,\n",
    "                name=dist,\n",
    "                line_color=color,\n",
    "                mode=\"lines\" if dist == \"normal\" else \"markers\",\n",
    "                showlegend=False,\n",
    "            ),\n",
    "            col=i % col_wrap + 1,\n",
    "            row=i // col_wrap + 1,\n",
    "        )\n",
    "\n",
    "fig.show()"
   ]
  },
  {
   "cell_type": "markdown",
   "metadata": {},
   "source": [
    "## Read in posteriors"
   ]
  },
  {
   "cell_type": "code",
   "execution_count": null,
   "metadata": {},
   "outputs": [],
   "source": [
    "posterior_df = pd.read_csv(path.join(DATA, \"posteriors.csv\")).drop(columns=\"Unnamed: 0\")"
   ]
  },
  {
   "cell_type": "code",
   "execution_count": null,
   "metadata": {
    "scrolled": false
   },
   "outputs": [],
   "source": [
    "cols = [col for col in posterior_df.columns if col in PARAMETER_MAP]\n",
    "\n",
    "col_wrap = 3\n",
    "n_cols = min(col_wrap, len(cols))\n",
    "n_rows = len(cols) // 4 + 1\n",
    "\n",
    "posterior_fits = {}\n",
    "\n",
    "fig = make_subplots(\n",
    "    cols=n_cols,\n",
    "    rows=n_rows,\n",
    "    shared_xaxes=False,\n",
    "    shared_yaxes=False,\n",
    "    subplot_titles=cols,\n",
    ")\n",
    "\n",
    "for i, col in enumerate(cols):\n",
    "    xx = posterior_df[col].values\n",
    "    mean, scale = norm.fit(xx)\n",
    "    dist = norm(mean, scale)\n",
    "    x = linspace(dist.ppf(0.001), dist.ppf(0.999), 100)\n",
    "    y = dist.pdf(x)\n",
    "    posterior_fits[PARAMETER_MAP[col]] = (mean, scale)\n",
    "    fig.add_trace(\n",
    "        Scatter(\n",
    "            x=x,\n",
    "            y=y,\n",
    "            name=f\"Normal fit\",\n",
    "            mode=\"lines\",\n",
    "            line_color=\"blue\",\n",
    "            showlegend=i == 1,\n",
    "        ),\n",
    "        col=i % col_wrap + 1,\n",
    "        row=i // col_wrap + 1,\n",
    "    )\n",
    "    fig.add_trace(\n",
    "        Histogram(\n",
    "            x=xx,\n",
    "            name=f\"Posterior CHIME\",\n",
    "            histnorm=\"probability density\",\n",
    "            marker_color=\"indianred\",\n",
    "            showlegend=i == 1,\n",
    "            nbinsx=20,\n",
    "        ),\n",
    "        col=i % col_wrap + 1,\n",
    "        row=i // col_wrap + 1,\n",
    "    )\n",
    "\n",
    "fig.show()"
   ]
  },
  {
   "cell_type": "code",
   "execution_count": null,
   "metadata": {},
   "outputs": [],
   "source": [
    "penn_forecast = pd.read_csv(\n",
    "    path.join(DATA, \"forecast.csv\"), parse_dates=[\"date\"]\n",
    ").set_index(\"date\")\n",
    "penn_forecast.index.freq = pd.infer_freq(penn_forecast.index)\n",
    "penn_forecast.head()"
   ]
  },
  {
   "cell_type": "code",
   "execution_count": null,
   "metadata": {},
   "outputs": [],
   "source": [
    "PP = {key: gvar(*val) for key, val in posterior_fits.items()}\n",
    "\n",
    "offset = expon.ppf(0.99, 1 / posterior_fits[\"incubation_days\"][0])\n",
    "PP[\"social_distance_delay\"] += offset\n",
    "\n",
    "print(\"\\n\".join([f\"{key}={val}\" for key, val in PP.items()]))"
   ]
  },
  {
   "cell_type": "code",
   "execution_count": null,
   "metadata": {},
   "outputs": [],
   "source": [
    "pp = parameters.set_index(\"param\")\n",
    "n_hosp = pp.loc[\"n_hosp\", \"base\"]\n",
    "mkt_share = pp.loc[\"mkt_share\", \"base\"]\n",
    "region_pop = pp.loc[\"region_pop\", \"base\"]\n",
    "hosp_prop = PP[\"hospitalization_rate\"]\n",
    "\n",
    "total_infections = n_hosp / mkt_share / hosp_prop\n",
    "initial_susceptible = region_pop - total_infections"
   ]
  },
  {
   "cell_type": "code",
   "execution_count": null,
   "metadata": {},
   "outputs": [],
   "source": [
    "XX = {\n",
    "    \"date\": penn_forecast.index,\n",
    "    \"initial_susceptible\": region_pop - total_infections,\n",
    "    \"initial_exposed\": total_infections,\n",
    "    \"initial_infected\": 0,\n",
    "    \"initial_recovered\": 0,\n",
    "    \"initial_hospitalized\": n_hosp / mkt_share,\n",
    "}\n",
    "XX[\"length_of_stay\"] = int(PP.pop(\"length_of_stay\").mean)\n",
    "print(\"\\n\".join([f\"{key}={val}\" for key, val in XX.items() if not key == \"date\"]))"
   ]
  },
  {
   "cell_type": "code",
   "execution_count": null,
   "metadata": {},
   "outputs": [],
   "source": [
    "x_days = arange(50)\n",
    "\n",
    "social_distance = one_minus_logistic_fcn(\n",
    "    x=x_days,\n",
    "    ratio=PP[\"ratio\"],\n",
    "    decay_width=PP[\"social_distance_halfing_days\"],\n",
    "    x0=PP[\"social_distance_delay\"],\n",
    ")"
   ]
  },
  {
   "cell_type": "code",
   "execution_count": null,
   "metadata": {
    "scrolled": false
   },
   "outputs": [],
   "source": [
    "fig = make_subplots(subplot_titles=[\"Relative effective social distancing\"])\n",
    "add_gvar_scatter(\n",
    "    fig, x=x_days, y=social_distance, gv_mode=\"band\", color=\"#e377c2\", showlegend=False\n",
    ")\n",
    "fig.update_layout(\n",
    "    yaxis_title=r\"$\\beta(t)/\\beta$\",\n",
    "    xaxis_title=f\"Days since {penn_forecast.index[0].date()}\",\n",
    ")\n",
    "fig.show()"
   ]
  },
  {
   "cell_type": "code",
   "execution_count": null,
   "metadata": {
    "scrolled": true
   },
   "outputs": [],
   "source": [
    "fcn_sir = FitFcn(seir_step, beta_i_fcn=one_minus_logistic_fcn)\n",
    "sir_df = fcn_sir(XX, PP)\n",
    "sir_df.head()"
   ]
  },
  {
   "cell_type": "code",
   "execution_count": null,
   "metadata": {
    "scrolled": false
   },
   "outputs": [],
   "source": [
    "col = \"hospitalized_new\"\n",
    "col_penn = \"Hospitalized Admits \"\n",
    "\n",
    "color = \"#1f77b4\"\n",
    "\n",
    "fig = make_subplots(subplot_titles=[\"50% CI comparison\", \"Residuals\"], rows=2)\n",
    "tmp_df = sir_df.copy()\n",
    "tmp_df.index -= timedelta(days=offset)\n",
    "\n",
    "add_gvar_scatter(\n",
    "    fig,\n",
    "    x=tmp_df.index,\n",
    "    y=tmp_df[col].values * mkt_share,\n",
    "    gv_mode=\"band\",\n",
    "    color=\"#e377c2\",\n",
    "    showlegend=True,\n",
    "    n_sigmas=0.674,\n",
    "    name=\"Normal (shifted by -offset)\",\n",
    "    col=1,\n",
    "    row=1,\n",
    ")\n",
    "\n",
    "fig.add_trace(\n",
    "    Scatter(\n",
    "        x=penn_forecast.index,\n",
    "        y=penn_forecast[col_penn + \"25%\"],\n",
    "        fill=None,\n",
    "        mode=\"lines\",\n",
    "        line={\"color\": color, \"shape\": \"linear\"},\n",
    "        showlegend=False,\n",
    "    ),\n",
    "    col=1,\n",
    "    row=1,\n",
    ")\n",
    "fig.add_trace(\n",
    "    Scatter(\n",
    "        x=penn_forecast.index,\n",
    "        y=penn_forecast[col_penn + \"Median\"],\n",
    "        fill=\"tonexty\",\n",
    "        mode=\"lines\",\n",
    "        line={\"color\": color, \"shape\": \"linear\"},\n",
    "        fillcolor=hex_to_rgba(color, 0.2),\n",
    "        name=\"CHIME\",\n",
    "    ),\n",
    "    col=1,\n",
    "    row=1,\n",
    ")\n",
    "fig.add_trace(\n",
    "    Scatter(\n",
    "        x=penn_forecast.index,\n",
    "        y=penn_forecast[col_penn + \"75%\"],\n",
    "        fill=\"tonexty\",\n",
    "        mode=\"lines\",\n",
    "        line={\"color\": color, \"shape\": \"linear\"},\n",
    "        fillcolor=hex_to_rgba(color, 0.2),\n",
    "        showlegend=False,\n",
    "    ),\n",
    "    col=1,\n",
    "    row=1,\n",
    ")\n",
    "\n",
    "s = penn_forecast.apply(\n",
    "    lambda row: gvar(\n",
    "        row[col_penn + \"Median\"], row[col_penn + \"75%\"] - row[col_penn + \"25%\"]\n",
    "    ),\n",
    "    axis=1,\n",
    ")\n",
    "\n",
    "tmp_df.index = tmp_df.index.to_period()\n",
    "diff = s[:\"2020-09-17\"].values - tmp_df.loc[\"2020-03-06\":,col].values * mkt_share\n",
    "diff\n",
    "\n",
    "add_gvar_scatter(\n",
    "    fig,\n",
    "    x=s[:\"2020-09-17\"].index,\n",
    "    y=diff,\n",
    "    gv_mode=\"band\",\n",
    "    color=\"#e377c2\",\n",
    "    n_sigmas=0.674,\n",
    "    name=\"normal (shifted by -offset)\",\n",
    "    col=1,\n",
    "    row=2,\n",
    "    y_min=-100,\n",
    "    showlegend=False,\n",
    ")\n",
    "\n",
    "\n",
    "fig.update_layout(\n",
    "    yaxis_title=\"Covid 19 Hospital Admits\",\n",
    "    xaxis_title=f\"Date\",\n",
    "    yaxis2_title=\"CHIME - Normal\",\n",
    "    height=800,\n",
    ")\n",
    "fig.show()"
   ]
  },
  {
   "cell_type": "code",
   "execution_count": null,
   "metadata": {},
   "outputs": [],
   "source": []
  }
 ],
 "metadata": {
  "kernelspec": {
   "display_name": "Python 3",
   "language": "python",
   "name": "python3"
  },
  "language_info": {
   "codemirror_mode": {
    "name": "ipython",
    "version": 3
   },
   "file_extension": ".py",
   "mimetype": "text/x-python",
   "name": "python",
   "nbconvert_exporter": "python",
   "pygments_lexer": "ipython3",
   "version": "3.7.5"
  }
 },
 "nbformat": 4,
 "nbformat_minor": 2
}
