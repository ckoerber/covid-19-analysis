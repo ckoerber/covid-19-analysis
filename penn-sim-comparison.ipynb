{
 "cells": [
  {
   "cell_type": "markdown",
   "metadata": {},
   "source": [
    "# Comparison with pennsignals BayesCHIME"
   ]
  },
  {
   "cell_type": "markdown",
   "metadata": {},
   "source": [
    "Source: https://github.com/pennsignals/chime_sims"
   ]
  },
  {
   "cell_type": "code",
   "execution_count": null,
   "metadata": {},
   "outputs": [],
   "source": [
    "from os import getcwd, path\n",
    "\n",
    "from scipy.stats import beta, gamma, norm\n",
    "from scipy.optimize import curve_fit\n",
    "\n",
    "import pandas as pd\n",
    "from numpy import linspace, sqrt\n",
    "\n",
    "from plotly.subplots import make_subplots\n",
    "from plotly.graph_objects import Scatter"
   ]
  },
  {
   "cell_type": "code",
   "execution_count": null,
   "metadata": {},
   "outputs": [],
   "source": [
    "DATA = path.join(path.abspath(getcwd()), \"data\", \"penn\")"
   ]
  },
  {
   "cell_type": "code",
   "execution_count": null,
   "metadata": {},
   "outputs": [],
   "source": [
    "location = \"Downtown\"\n",
    "\n",
    "parameters = pd.read_csv(path.join(DATA, f\"{location}_parameters.csv\"))\n",
    "data = (\n",
    "    pd.read_csv(path.join(DATA, f\"{location}_ts.csv\"), parse_dates=[\"date\"])\n",
    "    .dropna(how=\"all\", axis=1)\n",
    "    .fillna(0)\n",
    "    .set_index(\"date\")\n",
    "    .astype(int)\n",
    ")\n",
    "\n",
    "parameters"
   ]
  },
  {
   "cell_type": "code",
   "execution_count": null,
   "metadata": {},
   "outputs": [],
   "source": [
    "PARAMETER_MAP = {\n",
    "    \"n_hosp\": \"hospitalized_initial\",\n",
    "    \"hosp_prop\": \"hospitalization_rate\",\n",
    "    # \"hosp_LOS\": \"recovery_days_i\",\n",
    "    \"recovery_days\": \"recovery_days_i\",\n",
    "    \"logistic_k\": \"social_distance_halfing_days\",\n",
    "    \"logistic_x0\": \"social_distance_delay\",\n",
    "    \"logistic_L\": \"ratio\",\n",
    "    \"beta\": \"beta_i\",\n",
    "}"
   ]
  },
  {
   "cell_type": "code",
   "execution_count": null,
   "metadata": {},
   "outputs": [],
   "source": [
    "DIST_MAP = {\n",
    "    \"beta\": beta,\n",
    "    \"gamma\": gamma,\n",
    "}\n",
    "\n",
    "\n",
    "def get_dist_df(distribution, p1, p2, **kwargs):\n",
    "    \"\"\"\n",
    "    \"\"\"\n",
    "\n",
    "    data = {}\n",
    "    args = {\"a\": p1}\n",
    "    args[\"b\" if distribution == \"beta\" else \"scale\"] = p2\n",
    "\n",
    "    dist = DIST_MAP[distribution](**args)\n",
    "    x = linspace(dist.ppf(0.01), dist.ppf(0.99), 100)\n",
    "    y = dist.pdf(x)\n",
    "    mean, var = dist.stats(moments=\"mv\")\n",
    "\n",
    "    data = pd.DataFrame({\"x\": x, \"y\": y})\n",
    "    data[\"dist\"] = distribution\n",
    "    data[\"param\"] = kwargs.get(\"param\")\n",
    "\n",
    "    return data, dist"
   ]
  },
  {
   "cell_type": "code",
   "execution_count": null,
   "metadata": {},
   "outputs": [],
   "source": [
    "def fit_norm_dist(x, y, dist, param):\n",
    "    mean = dist.stats(\"m\")\n",
    "    scale = sqrt(dist.stats(\"v\"))\n",
    "    mean, scale = curve_fit(norm.pdf, xdata=x, ydata=y, p0=(mean, scale))[0]\n",
    "\n",
    "    dist = norm(mean, scale)\n",
    "    y = dist.pdf(x)\n",
    "    data = pd.DataFrame({\"x\": x, \"y\": y})\n",
    "    data[\"dist\"] = \"normal\"\n",
    "    data[\"param\"] = param\n",
    "\n",
    "    return data, dist"
   ]
  },
  {
   "cell_type": "code",
   "execution_count": null,
   "metadata": {},
   "outputs": [],
   "source": [
    "dfs = []\n",
    "mapped_pars = {}\n",
    "\n",
    "for idx, row in parameters.iterrows():\n",
    "\n",
    "    if row[\"param\"] not in PARAMETER_MAP:\n",
    "        continue\n",
    "\n",
    "    mapped_param = PARAMETER_MAP[row[\"param\"]]\n",
    "\n",
    "    if row[\"distribution\"] == \"constant\":\n",
    "        pass\n",
    "\n",
    "    else:\n",
    "        tmp_df, dist = get_dist_df(**row)\n",
    "        dfs.append(tmp_df)\n",
    "\n",
    "        tmp_df, dist = fit_norm_dist(tmp_df.x, tmp_df.y, dist, row[\"param\"])\n",
    "        dfs.append(tmp_df)\n",
    "\n",
    "\n",
    "df = pd.concat(dfs, ignore_index=True)\n",
    "df.head()"
   ]
  },
  {
   "cell_type": "code",
   "execution_count": null,
   "metadata": {
    "scrolled": false
   },
   "outputs": [],
   "source": [
    "params = df.param.unique()\n",
    "\n",
    "col_wrap = 4\n",
    "n_cols = min(col_wrap, len(params))\n",
    "n_rows = len(params) // 4 + 1\n",
    "\n",
    "fig = make_subplots(\n",
    "    cols=n_cols,\n",
    "    rows=n_rows,\n",
    "    shared_xaxes=False,\n",
    "    shared_yaxes=False,\n",
    "    subplot_titles=params,\n",
    ")\n",
    "\n",
    "for i, param in enumerate(params):\n",
    "    tmp_df = df.query(\"param == @param\")\n",
    "    for color, dist in zip([\"blue\", \"green\"], tmp_df.dist.unique()):\n",
    "        ttmp_df = tmp_df.query(\"dist == @dist\")\n",
    "        fig.add_trace(\n",
    "            Scatter(\n",
    "                x=ttmp_df.x,\n",
    "                y=ttmp_df.y,\n",
    "                name=dist,\n",
    "                line_color=color,\n",
    "                mode=\"lines\" if dist == \"normal\" else \"markers\",\n",
    "                showlegend=False,\n",
    "            ),\n",
    "            col=i % col_wrap + 1,\n",
    "            row=i // col_wrap + 1,\n",
    "        )\n",
    "\n",
    "fig.show()"
   ]
  },
  {
   "cell_type": "code",
   "execution_count": null,
   "metadata": {},
   "outputs": [],
   "source": []
  }
 ],
 "metadata": {
  "kernelspec": {
   "display_name": "Python 3",
   "language": "python",
   "name": "python3"
  },
  "language_info": {
   "codemirror_mode": {
    "name": "ipython",
    "version": 3
   },
   "file_extension": ".py",
   "mimetype": "text/x-python",
   "name": "python",
   "nbconvert_exporter": "python",
   "pygments_lexer": "ipython3",
   "version": "3.7.5"
  }
 },
 "nbformat": 4,
 "nbformat_minor": 2
}
