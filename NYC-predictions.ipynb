{
 "cells": [
  {
   "cell_type": "markdown",
   "metadata": {},
   "source": [
    "# NYC predictions"
   ]
  },
  {
   "cell_type": "markdown",
   "metadata": {},
   "source": [
    "This notebook utilizes the SIR & SIHR model with implemented social distancing policies to fit the [NYC data](https://github.com/nychealth/coronavirus-data). "
   ]
  },
  {
   "cell_type": "markdown",
   "metadata": {},
   "source": [
    "# Init"
   ]
  },
  {
   "cell_type": "markdown",
   "metadata": {},
   "source": [
    "## Imports"
   ]
  },
  {
   "cell_type": "code",
   "execution_count": null,
   "metadata": {},
   "outputs": [],
   "source": [
    "from datetime import datetime\n",
    "from pandas import DataFrame, Series\n",
    "\n",
    "import plotly.graph_objects as go\n",
    "\n",
    "from gvar import gvar, mean, sdev\n",
    "from lsqfit import nonlinear_fit\n",
    "\n",
    "from models import sihr_step, sir_step, one_minus_logistic_fcn, FitFcn\n",
    "from utils.prepare_df import prepare_case_hosp_death\n",
    "from utils.plotting import COLUMN_NAME_MAP, plot_fits, summarize_fit\n",
    "\n",
    "COMMIT_HASH = \"1dc35df3a8d1c19587cf2cfe72567594ae079650\"  # updated 4/13"
   ]
  },
  {
   "cell_type": "markdown",
   "metadata": {},
   "source": [
    "## Data"
   ]
  },
  {
   "cell_type": "markdown",
   "metadata": {},
   "source": [
    "See also the NYC-data-preparation notebook for choices.\n",
    "To use your data, prepare a `DataFrame` with the columns `hospitalized_new` and `infected_new` (new admissions per day and new positive cases per day) and set the index to `date`s."
   ]
  },
  {
   "cell_type": "code",
   "execution_count": null,
   "metadata": {},
   "outputs": [],
   "source": [
    "BIN_SIZE = 2\n",
    "\n",
    "chd_df_all = prepare_case_hosp_death(\n",
    "    COMMIT_HASH,  # Specify NYC repo commit hash to ensure same data\n",
    "    bin_day_range=BIN_SIZE,  # How many days should be grouped as one\n",
    "    # Drop rows where date awas 5 days within reporting (delay in reporting)\n",
    "    drop_days_end=5,\n",
    ")\n",
    "\n",
    "# This is the cut for fitting, after this, results are predictions\n",
    "cut = datetime(2020, 4, 8, 12)\n",
    "\n",
    "chd_df = chd_df_all.loc[\"2020-03-01\":cut]\n",
    "chd_df_extension = chd_df_all.loc[cut:]\n",
    "chd_df.tail()"
   ]
  },
  {
   "cell_type": "code",
   "execution_count": null,
   "metadata": {
    "scrolled": false
   },
   "outputs": [],
   "source": [
    "fig = go.Figure(layout_title=\"New hospitalizations in NYC\")\n",
    "fig.add_trace(\n",
    "    go.Scatter(\n",
    "        x=chd_df_all.index,\n",
    "        y=chd_df_all.hospitalized_new,\n",
    "        name=\"data\",\n",
    "        mode=\"markers\",\n",
    "        line_color=\"#1f77b4\",\n",
    "    )\n",
    ")\n",
    "fig.add_trace(\n",
    "    go.Scatter(\n",
    "        x=[cut, cut],\n",
    "        y=[0, 3500],\n",
    "        name=\"Fit range end\",\n",
    "        line_color=\"black\",\n",
    "        mode=\"lines\",\n",
    "    )\n",
    ")\n",
    "fig.show()"
   ]
  },
  {
   "cell_type": "markdown",
   "metadata": {},
   "source": [
    "# Fitting"
   ]
  },
  {
   "cell_type": "markdown",
   "metadata": {},
   "source": [
    "## Prepare data"
   ]
  },
  {
   "cell_type": "markdown",
   "metadata": {},
   "source": [
    "The bayesian fit requires distributions of input variables.\n",
    "For simplicity, this notebook considers gaussian distributions only.\n",
    "\n",
    "The Gaussian random variables are implemented by the gvar module.\n",
    "\n",
    "```\n",
    "yy = gvar(yy_mean, yy_sdev)\n",
    "```\n",
    "\n",
    "Presumably, daily new admissions(`hospitalized_new`) are more accurate than a count of daily new infections (`infected_new`).\n",
    "Thus this notebook emphasizes `hospitalized_new` over `infected_new`, by setting the relative uncertainty of new hospitalizations to 10% (see also the NYC-data-preparation notebook) and setting the `infected_new` uncertainty to 50%.\n",
    "To not put too much importance in early time values, errors have a minimal value."
   ]
  },
  {
   "cell_type": "code",
   "execution_count": null,
   "metadata": {},
   "outputs": [],
   "source": [
    "# don't fit first entry (since new columns start at second entry)\n",
    "infected_new = chd_df[\"infected_new\"].values[1:].copy()\n",
    "hospitalized_new = chd_df[\"hospitalized_new\"].values[1:].copy()\n",
    "\n",
    "REL_ERR = {\"infected_new\": 0.5}\n",
    "err_inf_new = [max(250, inf * REL_ERR[\"infected_new\"]) for inf in infected_new]\n",
    "\n",
    "REL_ERR[\"hospitalized_new\"] = 0.1\n",
    "err_hosp_new = [\n",
    "    max(50, hosp * REL_ERR[\"hospitalized_new\"]) for hosp in hospitalized_new\n",
    "]\n",
    "\n",
    "YY = gvar([infected_new, hospitalized_new], [err_inf_new, err_hosp_new]).T"
   ]
  },
  {
   "cell_type": "markdown",
   "metadata": {},
   "source": [
    "## Prepare model"
   ]
  },
  {
   "cell_type": "markdown",
   "metadata": {},
   "source": [
    "This section prepares the simulation models.\n",
    "The `FitFcn` wraps the a model to simplify the fit function call, e.g.,\n",
    "\n",
    "```\n",
    "fcn = FitFcn(sir_step, **fit_fcn_kwargs)\n",
    "yy = fcn_sir(xx, pp)\n",
    "```\n",
    "where `xx` are fixed parameters and `pp` are parameters to be fitted.\n",
    "\n",
    "Arguments:\n",
    "\n",
    "* `sir_fc`: The function which executes a SIR step\n",
    "* `beta_i_fcn`: Function which generates a schedule for the growth rate.\n",
    "* `columns`: Function call return specified columns only\n",
    "* `as_array`: If true, function call returns array. Else DataFrame.\n",
    "* `drop_rows`: Drop selected rows from function call. Set to `[0]` to exclude `_new` column `NaN`s.\n",
    "\n",
    "Social distancing measures are implemented as\n",
    "\\begin{align}\n",
    "    \\beta_I(t) &= \\beta_I(0) \\left[ 1 - f(t) \\right]\n",
    "    &\n",
    "    f(t) &= R \\left(1 + \\exp \\left\\{\\frac{t-t_0}{\\Delta t}\\right\\}\\right)^{-1}\n",
    "\\end{align}\n",
    "\n",
    "The cell below prepares both the SIR and the SIHR model."
   ]
  },
  {
   "cell_type": "code",
   "execution_count": null,
   "metadata": {},
   "outputs": [],
   "source": [
    "fit_fcn_kwargs = {\n",
    "    \"columns\": [\"infected_new\", \"hospitalized_new\",],\n",
    "    \"beta_i_fcn\": one_minus_logistic_fcn,\n",
    "    \"as_array\": True,\n",
    "    \"drop_rows\": [0],\n",
    "}\n",
    "\n",
    "\n",
    "fcn_sir = FitFcn(sir_step, **fit_fcn_kwargs)\n",
    "fcn_sihr = FitFcn(sihr_step, **fit_fcn_kwargs)"
   ]
  },
  {
   "cell_type": "markdown",
   "metadata": {},
   "source": [
    "Specify model and data meta parameter which are fixed (initial conditions) "
   ]
  },
  {
   "cell_type": "code",
   "execution_count": null,
   "metadata": {},
   "outputs": [],
   "source": [
    "XX = {\n",
    "    # the t-values\n",
    "    \"date\": chd_df.index,\n",
    "    ## Population: https://en.wikipedia.org/wiki/New_York_City\n",
    "    \"initial_susceptible\": int(8.6e6),\n",
    "    # Initial hospitalizations: Select from data\n",
    "    \"initial_hospitalized\": chd_df.hospitalized_cummulative.iloc[0],\n",
    "    # Assume nobody is recovered\n",
    "    \"initial_recovered\": 0,\n",
    "    # Hospital capacity. Only used by SIHR\n",
    "    ## https://www.bloomberg.com/graphics/2020-new-york-coronavirus-outbreak-how-many-hospital-beds/\n",
    "    \"capacity\": 23000,\n",
    "}"
   ]
  },
  {
   "cell_type": "markdown",
   "metadata": {},
   "source": [
    "Specify model priors which are fitted."
   ]
  },
  {
   "cell_type": "code",
   "execution_count": null,
   "metadata": {},
   "outputs": [],
   "source": [
    "# And the prior estimates of fit parameters\n",
    "## gvars are Gaussian random numbers described by their mean and standard deviation\n",
    "prior_both = {\n",
    "    # Time after which infections double (at the beginning of the simulation)\n",
    "    \"inital_doubling_time\": gvar(3, 2),\n",
    "    # Days until infected person is recovered\n",
    "    \"recovery_days_i\": gvar(14, 3),\n",
    "    # Inital infections, wild guess since uncertain number\n",
    "    \"initial_infected\": gvar(1.0e4, 2.0e4),\n",
    "    # Maximal reduction of social distancing for (logisitc function R)\n",
    "    \"ratio\": gvar(0.7, 0.2),\n",
    "    # How many days to go from ~ R/4 to R/2 (logisitc function Delta t)\n",
    "    \"social_distance_halfing_days\": gvar(5, 4),\n",
    "    # After how many days distancing measures is 0.5 ratio (logisitc function t0)\n",
    "    \"social_distance_delay\": gvar(5, 4),\n",
    "}\n",
    "\n",
    "prior_sir = prior_both.copy()\n",
    "# The rate how of how many newly infected person become hospitalized\n",
    "prior_sir[\"hospitalization_rate\"] = gvar(0.2, 0.1)\n",
    "\n",
    "prior_sihr = dict(prior_both)\n",
    "# The rate how of how many infected person become hospitalized\n",
    "prior_sihr[\"beta_h\"] = gvar(0.1, 0.5)\n",
    "# Days until hospitalized person is recovered\n",
    "prior_sihr[\"recovery_days_h\"] = gvar(14, 5)"
   ]
  },
  {
   "cell_type": "markdown",
   "metadata": {},
   "source": [
    "## Run fit"
   ]
  },
  {
   "cell_type": "code",
   "execution_count": null,
   "metadata": {
    "scrolled": false
   },
   "outputs": [],
   "source": [
    "fit_sir = nonlinear_fit(data=(XX, YY), fcn=fcn_sir, prior=prior_sir)\n",
    "fit_sihr = nonlinear_fit(data=(XX, YY), fcn=fcn_sihr, prior=prior_sihr)"
   ]
  },
  {
   "cell_type": "markdown",
   "metadata": {},
   "source": [
    "How to interpret the below summary:\n",
    "\n",
    "**Least Square Fit:**\n",
    "\n",
    "1. The Q value should be close to 1\n",
    "2. The logGBF (log Gaussian Bayes Factor) is a relative measure of how likely a model is given the data. It promotes models that describe the data and penalizes additional parameters. Higher is better.\n",
    "3. The `chi2/dof` is not necessarily meaningful because we do not have proper `y` errors. If values are below one, this suggests actual `y` errors are overestimated.\n",
    "\n",
    "**Parameters:**\n",
    "\n",
    "1. This section compares how much posterior values differ from prior (in brackets) values.\n",
    "Stars indicate that posterior values were shifted by more than a standard deviation and suggest that the prior is affecting the fit.\n",
    "2. Posterior values which are almost the same as prior values suggest that the data is not constraining these parameters. One should be cautious about such values if there is no prior interpretation.\n",
    "\n",
    "**Error budget:**\n",
    "\n",
    "This section summarizes how much the uncertainty of each posterior value is affected by input values (prior and data).\n",
    "Relatively large uncertainties coming from the data suggest that this parameter is important to describe results.\n",
    "On the other hand, if the uncertainty is dominated by the prior, the parameter is not important to describe the data."
   ]
  },
  {
   "cell_type": "code",
   "execution_count": null,
   "metadata": {},
   "outputs": [],
   "source": [
    "print(summarize_fit(fit_sir))"
   ]
  },
  {
   "cell_type": "code",
   "execution_count": null,
   "metadata": {},
   "outputs": [],
   "source": [
    "print(summarize_fit(fit_sihr))"
   ]
  },
  {
   "cell_type": "markdown",
   "metadata": {},
   "source": [
    "## Results"
   ]
  },
  {
   "cell_type": "code",
   "execution_count": null,
   "metadata": {
    "scrolled": false
   },
   "outputs": [],
   "source": [
    "plot_kwargs = dict(extend_days=81, plot_residuals=False, plot_infections=True)\n",
    "\n",
    "# Plot fits\n",
    "fig = plot_fits(\n",
    "    fit_sihr, fit_name=\"SIHR\", color=\"#e377c2\", plot_data=False, **plot_kwargs\n",
    ")\n",
    "fig = plot_fits(fit_sir, fig=fig, fit_name=\"SIR\", **plot_kwargs)\n",
    "\n",
    "# And append unfitted data\n",
    "for icol, col in enumerate([\"infected_new\", \"hospitalized_new\"]):\n",
    "    fig.add_trace(\n",
    "        go.Scatter(\n",
    "            x=chd_df_extension.index,\n",
    "            y=chd_df_extension[col],\n",
    "            error_y_array=chd_df_extension[col] * REL_ERR[col],\n",
    "            name=\"Not fitted data\",\n",
    "            line_color=\"red\",\n",
    "            showlegend=icol == 0,\n",
    "        ),\n",
    "        col=icol + 1,\n",
    "        row=1,\n",
    "    )\n",
    "\n",
    "fig.show()"
   ]
  },
  {
   "cell_type": "code",
   "execution_count": null,
   "metadata": {},
   "outputs": [],
   "source": [
    "result = DataFrame(\n",
    "    data=[{**prior_sir, **prior_sihr}, fit_sir.p, fit_sihr.p],\n",
    "    index=[\"Prior\", \"Posterior SIR\", \"Posterior SIHR\"],\n",
    ").T\n",
    "result[\"diff\"] = result[\"Posterior SIR\"] - result[\"Posterior SIHR\"]\n",
    "result"
   ]
  },
  {
   "cell_type": "markdown",
   "metadata": {},
   "source": [
    "## Conclusions\n",
    "\n",
    "... after varying inputs like the fit range, data uncertainties and priors.\n",
    "\n",
    "**Similarities:**\n",
    "\n",
    "* Qualitatively, both models agree for shared fitted parameters within 1-2 standard deviations\n",
    "* Both models roughly agree on the time where implemented social distancing measures started and how much contact was reduced ($\\sim 90$% within a month). \n",
    "* The initial doubling times seems surprisingly small at roughly half a day. \n",
    "* Both models do fail to fit the recovery time (which is not surprising because the number of recovered persons is not included in the analysis)\n",
    "\n",
    "\n",
    "**Differences:**\n",
    "* SIHR predicts significantly fewer infections than SIR at later times while maintaining a higher contact rate. \n",
    "\n",
    "**Conclusions:**\n",
    "\n",
    "* Both models seem to describe the data and allow predictions within a 1-2 week range.\n",
    "* Long time predictions are consistent when changing the fit window but are limited by the uncertainty of data.\n",
    "* SIHR is on the lower end of known infections--which seems unlikely as I would expect the number of infections to be underestimated. This observation may be explained by the fact that SIHR assumes hospitalized persons do not infect others. Combining this observation with the better fit statistics (e.g., logGBF), I would believe that the SIR model is superior in capturing the current NYC data.\n",
    "\n",
    "\n",
    "**Remarks:**\n",
    "\n",
    "The April, 9th data point for hospitalizations lays significantly outside the predicted range when fitting all the data until this point.\n",
    "This could potentially be caused by\n",
    "\n",
    "* the reported numbers are not yet up to date\n",
    "* the hospital bed capacity has been reached and is below the reported 23k (setting SIHR to 17k fits this point).\n",
    "* model assumptions are significantly violated"
   ]
  },
  {
   "cell_type": "code",
   "execution_count": null,
   "metadata": {},
   "outputs": [],
   "source": []
  }
 ],
 "metadata": {
  "kernelspec": {
   "display_name": "Python 3",
   "language": "python",
   "name": "python3"
  },
  "language_info": {
   "codemirror_mode": {
    "name": "ipython",
    "version": 3
   },
   "file_extension": ".py",
   "mimetype": "text/x-python",
   "name": "python",
   "nbconvert_exporter": "python",
   "pygments_lexer": "ipython3",
   "version": "3.7.5"
  }
 },
 "nbformat": 4,
 "nbformat_minor": 2
}
